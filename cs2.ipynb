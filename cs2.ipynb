{
 "cells": [
  {
   "cell_type": "code",
   "execution_count": 1,
   "metadata": {
    "ExecuteTime": {
     "end_time": "2020-05-09T14:31:56.887330Z",
     "start_time": "2020-05-09T14:31:54.812494Z"
    }
   },
   "outputs": [],
   "source": [
    "import numpy as np\n",
    "import pandas as pd\n",
    "# Requests sends and recieves HTTP requests.\n",
    "import requests\n",
    "\n",
    "# Beautiful Soup parses HTML documents in python.\n",
    "from bs4 import BeautifulSoup, Comment\n",
    "import re\n",
    "import json\n",
    "import time"
   ]
  },
  {
   "cell_type": "code",
   "execution_count": 2,
   "metadata": {
    "ExecuteTime": {
     "end_time": "2020-05-09T14:35:28.232894Z",
     "start_time": "2020-05-09T14:31:56.890154Z"
    }
   },
   "outputs": [],
   "source": [
    "vegas_odds = []\n",
    "for i in range(0, 2700, 100):\n",
    "    url = '''https://www.pro-football-reference.com/play-index/tgl_finder.cgi?request=1&match=game&year_min=2015&year_max=2019&game_type=E&game_num_min=0&game_num_max=99&week_num_min=0&week_num_max=99&temperature_gtlt=lt&c5val=1.0&order_by=vegas_line&offset={}'''\n",
    "    vegas_odds.append(pd.read_html(url.format(i))[0])\n",
    "    "
   ]
  },
  {
   "cell_type": "code",
   "execution_count": 3,
   "metadata": {
    "ExecuteTime": {
     "end_time": "2020-05-09T14:35:28.292272Z",
     "start_time": "2020-05-09T14:35:28.251787Z"
    }
   },
   "outputs": [],
   "source": [
    "vegas_line = pd.concat(vegas_odds)"
   ]
  },
  {
   "cell_type": "code",
   "execution_count": 4,
   "metadata": {
    "ExecuteTime": {
     "end_time": "2020-05-09T14:35:28.384085Z",
     "start_time": "2020-05-09T14:35:28.294353Z"
    }
   },
   "outputs": [
    {
     "data": {
      "text/html": [
       "<div>\n",
       "<style scoped>\n",
       "    .dataframe tbody tr th:only-of-type {\n",
       "        vertical-align: middle;\n",
       "    }\n",
       "\n",
       "    .dataframe tbody tr th {\n",
       "        vertical-align: top;\n",
       "    }\n",
       "\n",
       "    .dataframe thead tr th {\n",
       "        text-align: left;\n",
       "    }\n",
       "</style>\n",
       "<table border=\"1\" class=\"dataframe\">\n",
       "  <thead>\n",
       "    <tr>\n",
       "      <th></th>\n",
       "      <th>Unnamed: 0_level_0</th>\n",
       "      <th>Unnamed: 1_level_0</th>\n",
       "      <th>Unnamed: 2_level_0</th>\n",
       "      <th>Unnamed: 3_level_0</th>\n",
       "      <th>Unnamed: 4_level_0</th>\n",
       "      <th>Unnamed: 5_level_0</th>\n",
       "      <th>Unnamed: 6_level_0</th>\n",
       "      <th>Unnamed: 7_level_0</th>\n",
       "      <th>Unnamed: 8_level_0</th>\n",
       "      <th>Unnamed: 9_level_0</th>\n",
       "      <th>Unnamed: 10_level_0</th>\n",
       "      <th>Unnamed: 11_level_0</th>\n",
       "      <th>Unnamed: 12_level_0</th>\n",
       "      <th colspan=\"4\" halign=\"left\">Vegas</th>\n",
       "    </tr>\n",
       "    <tr>\n",
       "      <th></th>\n",
       "      <th>Rk</th>\n",
       "      <th>Tm</th>\n",
       "      <th>Year</th>\n",
       "      <th>Date</th>\n",
       "      <th>Time</th>\n",
       "      <th>LTime</th>\n",
       "      <th>Unnamed: 6_level_1</th>\n",
       "      <th>Opp</th>\n",
       "      <th>Week</th>\n",
       "      <th>G#</th>\n",
       "      <th>Day</th>\n",
       "      <th>Result</th>\n",
       "      <th>OT</th>\n",
       "      <th>Spread</th>\n",
       "      <th>vs. Line</th>\n",
       "      <th>Over/Under</th>\n",
       "      <th>OU Result</th>\n",
       "    </tr>\n",
       "  </thead>\n",
       "  <tbody>\n",
       "    <tr>\n",
       "      <td>0</td>\n",
       "      <td>1</td>\n",
       "      <td>MIA</td>\n",
       "      <td>2019</td>\n",
       "      <td>2019-09-22</td>\n",
       "      <td>1:00</td>\n",
       "      <td>12:00</td>\n",
       "      <td>@</td>\n",
       "      <td>DAL</td>\n",
       "      <td>3</td>\n",
       "      <td>3</td>\n",
       "      <td>Sun</td>\n",
       "      <td>L 6-31</td>\n",
       "      <td>NaN</td>\n",
       "      <td>22.0</td>\n",
       "      <td>not covered</td>\n",
       "      <td>46.5</td>\n",
       "      <td>under</td>\n",
       "    </tr>\n",
       "    <tr>\n",
       "      <td>1</td>\n",
       "      <td>2</td>\n",
       "      <td>NYJ</td>\n",
       "      <td>2019</td>\n",
       "      <td>2019-09-22</td>\n",
       "      <td>1:00</td>\n",
       "      <td>1:00</td>\n",
       "      <td>@</td>\n",
       "      <td>NWE</td>\n",
       "      <td>3</td>\n",
       "      <td>3</td>\n",
       "      <td>Sun</td>\n",
       "      <td>L 14-30</td>\n",
       "      <td>NaN</td>\n",
       "      <td>20.5</td>\n",
       "      <td>covered</td>\n",
       "      <td>43.0</td>\n",
       "      <td>over</td>\n",
       "    </tr>\n",
       "    <tr>\n",
       "      <td>2</td>\n",
       "      <td>3</td>\n",
       "      <td>MIA</td>\n",
       "      <td>2019</td>\n",
       "      <td>2019-09-15</td>\n",
       "      <td>1:00</td>\n",
       "      <td>1:00</td>\n",
       "      <td>NaN</td>\n",
       "      <td>NWE</td>\n",
       "      <td>2</td>\n",
       "      <td>2</td>\n",
       "      <td>Sun</td>\n",
       "      <td>L 0-43</td>\n",
       "      <td>NaN</td>\n",
       "      <td>18.0</td>\n",
       "      <td>not covered</td>\n",
       "      <td>48.5</td>\n",
       "      <td>under</td>\n",
       "    </tr>\n",
       "    <tr>\n",
       "      <td>3</td>\n",
       "      <td>4</td>\n",
       "      <td>MIA</td>\n",
       "      <td>2019</td>\n",
       "      <td>2019-12-29</td>\n",
       "      <td>1:00</td>\n",
       "      <td>1:00</td>\n",
       "      <td>@</td>\n",
       "      <td>NWE</td>\n",
       "      <td>17</td>\n",
       "      <td>16</td>\n",
       "      <td>Sun</td>\n",
       "      <td>W 27-24</td>\n",
       "      <td>NaN</td>\n",
       "      <td>17.5</td>\n",
       "      <td>covered</td>\n",
       "      <td>46.0</td>\n",
       "      <td>over</td>\n",
       "    </tr>\n",
       "    <tr>\n",
       "      <td>4</td>\n",
       "      <td>5</td>\n",
       "      <td>CIN</td>\n",
       "      <td>2018</td>\n",
       "      <td>2018-12-09</td>\n",
       "      <td>4:05</td>\n",
       "      <td>1:05</td>\n",
       "      <td>@</td>\n",
       "      <td>LAC</td>\n",
       "      <td>14</td>\n",
       "      <td>13</td>\n",
       "      <td>Sun</td>\n",
       "      <td>L 21-26</td>\n",
       "      <td>NaN</td>\n",
       "      <td>17.0</td>\n",
       "      <td>covered</td>\n",
       "      <td>48.5</td>\n",
       "      <td>under</td>\n",
       "    </tr>\n",
       "  </tbody>\n",
       "</table>\n",
       "</div>"
      ],
      "text/plain": [
       "  Unnamed: 0_level_0 Unnamed: 1_level_0 Unnamed: 2_level_0 Unnamed: 3_level_0  \\\n",
       "                  Rk                 Tm               Year               Date   \n",
       "0                  1                MIA               2019         2019-09-22   \n",
       "1                  2                NYJ               2019         2019-09-22   \n",
       "2                  3                MIA               2019         2019-09-15   \n",
       "3                  4                MIA               2019         2019-12-29   \n",
       "4                  5                CIN               2018         2018-12-09   \n",
       "\n",
       "  Unnamed: 4_level_0 Unnamed: 5_level_0 Unnamed: 6_level_0 Unnamed: 7_level_0  \\\n",
       "                Time              LTime Unnamed: 6_level_1                Opp   \n",
       "0               1:00              12:00                  @                DAL   \n",
       "1               1:00               1:00                  @                NWE   \n",
       "2               1:00               1:00                NaN                NWE   \n",
       "3               1:00               1:00                  @                NWE   \n",
       "4               4:05               1:05                  @                LAC   \n",
       "\n",
       "  Unnamed: 8_level_0 Unnamed: 9_level_0 Unnamed: 10_level_0  \\\n",
       "                Week                 G#                 Day   \n",
       "0                  3                  3                 Sun   \n",
       "1                  3                  3                 Sun   \n",
       "2                  2                  2                 Sun   \n",
       "3                 17                 16                 Sun   \n",
       "4                 14                 13                 Sun   \n",
       "\n",
       "  Unnamed: 11_level_0 Unnamed: 12_level_0  Vegas                          \\\n",
       "               Result                  OT Spread     vs. Line Over/Under   \n",
       "0              L 6-31                 NaN   22.0  not covered       46.5   \n",
       "1             L 14-30                 NaN   20.5      covered       43.0   \n",
       "2              L 0-43                 NaN   18.0  not covered       48.5   \n",
       "3             W 27-24                 NaN   17.5      covered       46.0   \n",
       "4             L 21-26                 NaN   17.0      covered       48.5   \n",
       "\n",
       "             \n",
       "  OU Result  \n",
       "0     under  \n",
       "1      over  \n",
       "2     under  \n",
       "3      over  \n",
       "4     under  "
      ]
     },
     "execution_count": 4,
     "metadata": {},
     "output_type": "execute_result"
    }
   ],
   "source": [
    "vegas_line.head()"
   ]
  },
  {
   "cell_type": "code",
   "execution_count": 5,
   "metadata": {
    "ExecuteTime": {
     "end_time": "2020-05-09T14:35:28.432285Z",
     "start_time": "2020-05-09T14:35:28.394755Z"
    }
   },
   "outputs": [
    {
     "data": {
      "text/plain": [
       "MultiIndex([( 'Unnamed: 0_level_0',                 'Rk'),\n",
       "            ( 'Unnamed: 1_level_0',                 'Tm'),\n",
       "            ( 'Unnamed: 2_level_0',               'Year'),\n",
       "            ( 'Unnamed: 3_level_0',               'Date'),\n",
       "            ( 'Unnamed: 4_level_0',               'Time'),\n",
       "            ( 'Unnamed: 5_level_0',              'LTime'),\n",
       "            ( 'Unnamed: 6_level_0', 'Unnamed: 6_level_1'),\n",
       "            ( 'Unnamed: 7_level_0',                'Opp'),\n",
       "            ( 'Unnamed: 8_level_0',               'Week'),\n",
       "            ( 'Unnamed: 9_level_0',                 'G#'),\n",
       "            ('Unnamed: 10_level_0',                'Day'),\n",
       "            ('Unnamed: 11_level_0',             'Result'),\n",
       "            ('Unnamed: 12_level_0',                 'OT'),\n",
       "            (              'Vegas',             'Spread'),\n",
       "            (              'Vegas',           'vs. Line'),\n",
       "            (              'Vegas',         'Over/Under'),\n",
       "            (              'Vegas',          'OU Result')],\n",
       "           )"
      ]
     },
     "execution_count": 5,
     "metadata": {},
     "output_type": "execute_result"
    }
   ],
   "source": [
    "vegas_line.columns"
   ]
  },
  {
   "cell_type": "code",
   "execution_count": 6,
   "metadata": {
    "ExecuteTime": {
     "end_time": "2020-05-09T14:35:28.439633Z",
     "start_time": "2020-05-09T14:35:28.435973Z"
    }
   },
   "outputs": [],
   "source": [
    "vegas_line.columns = vegas_line.columns.droplevel()"
   ]
  },
  {
   "cell_type": "code",
   "execution_count": 7,
   "metadata": {
    "ExecuteTime": {
     "end_time": "2020-05-09T14:35:28.481160Z",
     "start_time": "2020-05-09T14:35:28.442306Z"
    }
   },
   "outputs": [
    {
     "data": {
      "text/html": [
       "<div>\n",
       "<style scoped>\n",
       "    .dataframe tbody tr th:only-of-type {\n",
       "        vertical-align: middle;\n",
       "    }\n",
       "\n",
       "    .dataframe tbody tr th {\n",
       "        vertical-align: top;\n",
       "    }\n",
       "\n",
       "    .dataframe thead th {\n",
       "        text-align: right;\n",
       "    }\n",
       "</style>\n",
       "<table border=\"1\" class=\"dataframe\">\n",
       "  <thead>\n",
       "    <tr style=\"text-align: right;\">\n",
       "      <th></th>\n",
       "      <th>Rk</th>\n",
       "      <th>Tm</th>\n",
       "      <th>Year</th>\n",
       "      <th>Date</th>\n",
       "      <th>Time</th>\n",
       "      <th>LTime</th>\n",
       "      <th>Unnamed: 6_level_1</th>\n",
       "      <th>Opp</th>\n",
       "      <th>Week</th>\n",
       "      <th>G#</th>\n",
       "      <th>Day</th>\n",
       "      <th>Result</th>\n",
       "      <th>OT</th>\n",
       "      <th>Spread</th>\n",
       "      <th>vs. Line</th>\n",
       "      <th>Over/Under</th>\n",
       "      <th>OU Result</th>\n",
       "    </tr>\n",
       "  </thead>\n",
       "  <tbody>\n",
       "    <tr>\n",
       "      <td>0</td>\n",
       "      <td>1</td>\n",
       "      <td>MIA</td>\n",
       "      <td>2019</td>\n",
       "      <td>2019-09-22</td>\n",
       "      <td>1:00</td>\n",
       "      <td>12:00</td>\n",
       "      <td>@</td>\n",
       "      <td>DAL</td>\n",
       "      <td>3</td>\n",
       "      <td>3</td>\n",
       "      <td>Sun</td>\n",
       "      <td>L 6-31</td>\n",
       "      <td>NaN</td>\n",
       "      <td>22.0</td>\n",
       "      <td>not covered</td>\n",
       "      <td>46.5</td>\n",
       "      <td>under</td>\n",
       "    </tr>\n",
       "    <tr>\n",
       "      <td>1</td>\n",
       "      <td>2</td>\n",
       "      <td>NYJ</td>\n",
       "      <td>2019</td>\n",
       "      <td>2019-09-22</td>\n",
       "      <td>1:00</td>\n",
       "      <td>1:00</td>\n",
       "      <td>@</td>\n",
       "      <td>NWE</td>\n",
       "      <td>3</td>\n",
       "      <td>3</td>\n",
       "      <td>Sun</td>\n",
       "      <td>L 14-30</td>\n",
       "      <td>NaN</td>\n",
       "      <td>20.5</td>\n",
       "      <td>covered</td>\n",
       "      <td>43.0</td>\n",
       "      <td>over</td>\n",
       "    </tr>\n",
       "    <tr>\n",
       "      <td>2</td>\n",
       "      <td>3</td>\n",
       "      <td>MIA</td>\n",
       "      <td>2019</td>\n",
       "      <td>2019-09-15</td>\n",
       "      <td>1:00</td>\n",
       "      <td>1:00</td>\n",
       "      <td>NaN</td>\n",
       "      <td>NWE</td>\n",
       "      <td>2</td>\n",
       "      <td>2</td>\n",
       "      <td>Sun</td>\n",
       "      <td>L 0-43</td>\n",
       "      <td>NaN</td>\n",
       "      <td>18.0</td>\n",
       "      <td>not covered</td>\n",
       "      <td>48.5</td>\n",
       "      <td>under</td>\n",
       "    </tr>\n",
       "    <tr>\n",
       "      <td>3</td>\n",
       "      <td>4</td>\n",
       "      <td>MIA</td>\n",
       "      <td>2019</td>\n",
       "      <td>2019-12-29</td>\n",
       "      <td>1:00</td>\n",
       "      <td>1:00</td>\n",
       "      <td>@</td>\n",
       "      <td>NWE</td>\n",
       "      <td>17</td>\n",
       "      <td>16</td>\n",
       "      <td>Sun</td>\n",
       "      <td>W 27-24</td>\n",
       "      <td>NaN</td>\n",
       "      <td>17.5</td>\n",
       "      <td>covered</td>\n",
       "      <td>46.0</td>\n",
       "      <td>over</td>\n",
       "    </tr>\n",
       "    <tr>\n",
       "      <td>4</td>\n",
       "      <td>5</td>\n",
       "      <td>CIN</td>\n",
       "      <td>2018</td>\n",
       "      <td>2018-12-09</td>\n",
       "      <td>4:05</td>\n",
       "      <td>1:05</td>\n",
       "      <td>@</td>\n",
       "      <td>LAC</td>\n",
       "      <td>14</td>\n",
       "      <td>13</td>\n",
       "      <td>Sun</td>\n",
       "      <td>L 21-26</td>\n",
       "      <td>NaN</td>\n",
       "      <td>17.0</td>\n",
       "      <td>covered</td>\n",
       "      <td>48.5</td>\n",
       "      <td>under</td>\n",
       "    </tr>\n",
       "  </tbody>\n",
       "</table>\n",
       "</div>"
      ],
      "text/plain": [
       "  Rk   Tm  Year        Date  Time  LTime Unnamed: 6_level_1  Opp Week  G#  \\\n",
       "0  1  MIA  2019  2019-09-22  1:00  12:00                  @  DAL    3   3   \n",
       "1  2  NYJ  2019  2019-09-22  1:00   1:00                  @  NWE    3   3   \n",
       "2  3  MIA  2019  2019-09-15  1:00   1:00                NaN  NWE    2   2   \n",
       "3  4  MIA  2019  2019-12-29  1:00   1:00                  @  NWE   17  16   \n",
       "4  5  CIN  2018  2018-12-09  4:05   1:05                  @  LAC   14  13   \n",
       "\n",
       "   Day   Result   OT Spread     vs. Line Over/Under OU Result  \n",
       "0  Sun   L 6-31  NaN   22.0  not covered       46.5     under  \n",
       "1  Sun  L 14-30  NaN   20.5      covered       43.0      over  \n",
       "2  Sun   L 0-43  NaN   18.0  not covered       48.5     under  \n",
       "3  Sun  W 27-24  NaN   17.5      covered       46.0      over  \n",
       "4  Sun  L 21-26  NaN   17.0      covered       48.5     under  "
      ]
     },
     "execution_count": 7,
     "metadata": {},
     "output_type": "execute_result"
    }
   ],
   "source": [
    "vegas_line.head()"
   ]
  },
  {
   "cell_type": "code",
   "execution_count": 8,
   "metadata": {
    "ExecuteTime": {
     "end_time": "2020-05-09T14:35:28.502263Z",
     "start_time": "2020-05-09T14:35:28.486850Z"
    }
   },
   "outputs": [],
   "source": [
    "vegas_line.drop(vegas_line[vegas_line['Tm']=='Tm'].index, inplace=True)"
   ]
  },
  {
   "cell_type": "code",
   "execution_count": 9,
   "metadata": {
    "ExecuteTime": {
     "end_time": "2020-05-09T14:35:28.640573Z",
     "start_time": "2020-05-09T14:35:28.508269Z"
    }
   },
   "outputs": [
    {
     "data": {
      "text/html": [
       "<div>\n",
       "<style scoped>\n",
       "    .dataframe tbody tr th:only-of-type {\n",
       "        vertical-align: middle;\n",
       "    }\n",
       "\n",
       "    .dataframe tbody tr th {\n",
       "        vertical-align: top;\n",
       "    }\n",
       "\n",
       "    .dataframe thead th {\n",
       "        text-align: right;\n",
       "    }\n",
       "</style>\n",
       "<table border=\"1\" class=\"dataframe\">\n",
       "  <thead>\n",
       "    <tr style=\"text-align: right;\">\n",
       "      <th></th>\n",
       "      <th>index</th>\n",
       "      <th>Rk</th>\n",
       "      <th>Tm</th>\n",
       "      <th>Year</th>\n",
       "      <th>Date</th>\n",
       "      <th>Time</th>\n",
       "      <th>LTime</th>\n",
       "      <th>Unnamed: 6_level_1</th>\n",
       "      <th>Opp</th>\n",
       "      <th>Week</th>\n",
       "      <th>G#</th>\n",
       "      <th>Day</th>\n",
       "      <th>Result</th>\n",
       "      <th>OT</th>\n",
       "      <th>Spread</th>\n",
       "      <th>vs. Line</th>\n",
       "      <th>Over/Under</th>\n",
       "      <th>OU Result</th>\n",
       "    </tr>\n",
       "  </thead>\n",
       "  <tbody>\n",
       "    <tr>\n",
       "      <td>0</td>\n",
       "      <td>0</td>\n",
       "      <td>1</td>\n",
       "      <td>MIA</td>\n",
       "      <td>2019</td>\n",
       "      <td>2019-09-22</td>\n",
       "      <td>1:00</td>\n",
       "      <td>12:00</td>\n",
       "      <td>@</td>\n",
       "      <td>DAL</td>\n",
       "      <td>3</td>\n",
       "      <td>3</td>\n",
       "      <td>Sun</td>\n",
       "      <td>L 6-31</td>\n",
       "      <td>NaN</td>\n",
       "      <td>22.0</td>\n",
       "      <td>not covered</td>\n",
       "      <td>46.5</td>\n",
       "      <td>under</td>\n",
       "    </tr>\n",
       "    <tr>\n",
       "      <td>1</td>\n",
       "      <td>1</td>\n",
       "      <td>2</td>\n",
       "      <td>NYJ</td>\n",
       "      <td>2019</td>\n",
       "      <td>2019-09-22</td>\n",
       "      <td>1:00</td>\n",
       "      <td>1:00</td>\n",
       "      <td>@</td>\n",
       "      <td>NWE</td>\n",
       "      <td>3</td>\n",
       "      <td>3</td>\n",
       "      <td>Sun</td>\n",
       "      <td>L 14-30</td>\n",
       "      <td>NaN</td>\n",
       "      <td>20.5</td>\n",
       "      <td>covered</td>\n",
       "      <td>43.0</td>\n",
       "      <td>over</td>\n",
       "    </tr>\n",
       "    <tr>\n",
       "      <td>2</td>\n",
       "      <td>2</td>\n",
       "      <td>3</td>\n",
       "      <td>MIA</td>\n",
       "      <td>2019</td>\n",
       "      <td>2019-09-15</td>\n",
       "      <td>1:00</td>\n",
       "      <td>1:00</td>\n",
       "      <td>NaN</td>\n",
       "      <td>NWE</td>\n",
       "      <td>2</td>\n",
       "      <td>2</td>\n",
       "      <td>Sun</td>\n",
       "      <td>L 0-43</td>\n",
       "      <td>NaN</td>\n",
       "      <td>18.0</td>\n",
       "      <td>not covered</td>\n",
       "      <td>48.5</td>\n",
       "      <td>under</td>\n",
       "    </tr>\n",
       "    <tr>\n",
       "      <td>3</td>\n",
       "      <td>3</td>\n",
       "      <td>4</td>\n",
       "      <td>MIA</td>\n",
       "      <td>2019</td>\n",
       "      <td>2019-12-29</td>\n",
       "      <td>1:00</td>\n",
       "      <td>1:00</td>\n",
       "      <td>@</td>\n",
       "      <td>NWE</td>\n",
       "      <td>17</td>\n",
       "      <td>16</td>\n",
       "      <td>Sun</td>\n",
       "      <td>W 27-24</td>\n",
       "      <td>NaN</td>\n",
       "      <td>17.5</td>\n",
       "      <td>covered</td>\n",
       "      <td>46.0</td>\n",
       "      <td>over</td>\n",
       "    </tr>\n",
       "    <tr>\n",
       "      <td>4</td>\n",
       "      <td>4</td>\n",
       "      <td>5</td>\n",
       "      <td>CIN</td>\n",
       "      <td>2018</td>\n",
       "      <td>2018-12-09</td>\n",
       "      <td>4:05</td>\n",
       "      <td>1:05</td>\n",
       "      <td>@</td>\n",
       "      <td>LAC</td>\n",
       "      <td>14</td>\n",
       "      <td>13</td>\n",
       "      <td>Sun</td>\n",
       "      <td>L 21-26</td>\n",
       "      <td>NaN</td>\n",
       "      <td>17.0</td>\n",
       "      <td>covered</td>\n",
       "      <td>48.5</td>\n",
       "      <td>under</td>\n",
       "    </tr>\n",
       "    <tr>\n",
       "      <td>...</td>\n",
       "      <td>...</td>\n",
       "      <td>...</td>\n",
       "      <td>...</td>\n",
       "      <td>...</td>\n",
       "      <td>...</td>\n",
       "      <td>...</td>\n",
       "      <td>...</td>\n",
       "      <td>...</td>\n",
       "      <td>...</td>\n",
       "      <td>...</td>\n",
       "      <td>...</td>\n",
       "      <td>...</td>\n",
       "      <td>...</td>\n",
       "      <td>...</td>\n",
       "      <td>...</td>\n",
       "      <td>...</td>\n",
       "      <td>...</td>\n",
       "      <td>...</td>\n",
       "    </tr>\n",
       "    <tr>\n",
       "      <td>2665</td>\n",
       "      <td>68</td>\n",
       "      <td>2666</td>\n",
       "      <td>LAC</td>\n",
       "      <td>2018</td>\n",
       "      <td>2018-12-09</td>\n",
       "      <td>4:05</td>\n",
       "      <td>1:05</td>\n",
       "      <td>NaN</td>\n",
       "      <td>CIN</td>\n",
       "      <td>14</td>\n",
       "      <td>13</td>\n",
       "      <td>Sun</td>\n",
       "      <td>W 26-21</td>\n",
       "      <td>NaN</td>\n",
       "      <td>-17.0</td>\n",
       "      <td>not covered</td>\n",
       "      <td>48.5</td>\n",
       "      <td>under</td>\n",
       "    </tr>\n",
       "    <tr>\n",
       "      <td>2666</td>\n",
       "      <td>69</td>\n",
       "      <td>2667</td>\n",
       "      <td>NWE</td>\n",
       "      <td>2019</td>\n",
       "      <td>2019-12-29</td>\n",
       "      <td>1:00</td>\n",
       "      <td>1:00</td>\n",
       "      <td>NaN</td>\n",
       "      <td>MIA</td>\n",
       "      <td>17</td>\n",
       "      <td>16</td>\n",
       "      <td>Sun</td>\n",
       "      <td>L 24-27</td>\n",
       "      <td>NaN</td>\n",
       "      <td>-17.5</td>\n",
       "      <td>not covered</td>\n",
       "      <td>46.0</td>\n",
       "      <td>over</td>\n",
       "    </tr>\n",
       "    <tr>\n",
       "      <td>2667</td>\n",
       "      <td>70</td>\n",
       "      <td>2668</td>\n",
       "      <td>NWE</td>\n",
       "      <td>2019</td>\n",
       "      <td>2019-09-15</td>\n",
       "      <td>1:00</td>\n",
       "      <td>1:00</td>\n",
       "      <td>@</td>\n",
       "      <td>MIA</td>\n",
       "      <td>2</td>\n",
       "      <td>2</td>\n",
       "      <td>Sun</td>\n",
       "      <td>W 43-0</td>\n",
       "      <td>NaN</td>\n",
       "      <td>-18.0</td>\n",
       "      <td>covered</td>\n",
       "      <td>48.5</td>\n",
       "      <td>under</td>\n",
       "    </tr>\n",
       "    <tr>\n",
       "      <td>2668</td>\n",
       "      <td>71</td>\n",
       "      <td>2669</td>\n",
       "      <td>NWE</td>\n",
       "      <td>2019</td>\n",
       "      <td>2019-09-22</td>\n",
       "      <td>1:00</td>\n",
       "      <td>1:00</td>\n",
       "      <td>NaN</td>\n",
       "      <td>NYJ</td>\n",
       "      <td>3</td>\n",
       "      <td>3</td>\n",
       "      <td>Sun</td>\n",
       "      <td>W 30-14</td>\n",
       "      <td>NaN</td>\n",
       "      <td>-20.5</td>\n",
       "      <td>not covered</td>\n",
       "      <td>43.0</td>\n",
       "      <td>over</td>\n",
       "    </tr>\n",
       "    <tr>\n",
       "      <td>2669</td>\n",
       "      <td>72</td>\n",
       "      <td>2670</td>\n",
       "      <td>DAL</td>\n",
       "      <td>2019</td>\n",
       "      <td>2019-09-22</td>\n",
       "      <td>1:00</td>\n",
       "      <td>12:00</td>\n",
       "      <td>NaN</td>\n",
       "      <td>MIA</td>\n",
       "      <td>3</td>\n",
       "      <td>3</td>\n",
       "      <td>Sun</td>\n",
       "      <td>W 31-6</td>\n",
       "      <td>NaN</td>\n",
       "      <td>-22.0</td>\n",
       "      <td>covered</td>\n",
       "      <td>46.5</td>\n",
       "      <td>under</td>\n",
       "    </tr>\n",
       "  </tbody>\n",
       "</table>\n",
       "<p>2670 rows × 18 columns</p>\n",
       "</div>"
      ],
      "text/plain": [
       "      index    Rk   Tm  Year        Date  Time  LTime Unnamed: 6_level_1  Opp  \\\n",
       "0         0     1  MIA  2019  2019-09-22  1:00  12:00                  @  DAL   \n",
       "1         1     2  NYJ  2019  2019-09-22  1:00   1:00                  @  NWE   \n",
       "2         2     3  MIA  2019  2019-09-15  1:00   1:00                NaN  NWE   \n",
       "3         3     4  MIA  2019  2019-12-29  1:00   1:00                  @  NWE   \n",
       "4         4     5  CIN  2018  2018-12-09  4:05   1:05                  @  LAC   \n",
       "...     ...   ...  ...   ...         ...   ...    ...                ...  ...   \n",
       "2665     68  2666  LAC  2018  2018-12-09  4:05   1:05                NaN  CIN   \n",
       "2666     69  2667  NWE  2019  2019-12-29  1:00   1:00                NaN  MIA   \n",
       "2667     70  2668  NWE  2019  2019-09-15  1:00   1:00                  @  MIA   \n",
       "2668     71  2669  NWE  2019  2019-09-22  1:00   1:00                NaN  NYJ   \n",
       "2669     72  2670  DAL  2019  2019-09-22  1:00  12:00                NaN  MIA   \n",
       "\n",
       "     Week  G#  Day   Result   OT Spread     vs. Line Over/Under OU Result  \n",
       "0       3   3  Sun   L 6-31  NaN   22.0  not covered       46.5     under  \n",
       "1       3   3  Sun  L 14-30  NaN   20.5      covered       43.0      over  \n",
       "2       2   2  Sun   L 0-43  NaN   18.0  not covered       48.5     under  \n",
       "3      17  16  Sun  W 27-24  NaN   17.5      covered       46.0      over  \n",
       "4      14  13  Sun  L 21-26  NaN   17.0      covered       48.5     under  \n",
       "...   ...  ..  ...      ...  ...    ...          ...        ...       ...  \n",
       "2665   14  13  Sun  W 26-21  NaN  -17.0  not covered       48.5     under  \n",
       "2666   17  16  Sun  L 24-27  NaN  -17.5  not covered       46.0      over  \n",
       "2667    2   2  Sun   W 43-0  NaN  -18.0      covered       48.5     under  \n",
       "2668    3   3  Sun  W 30-14  NaN  -20.5  not covered       43.0      over  \n",
       "2669    3   3  Sun   W 31-6  NaN  -22.0      covered       46.5     under  \n",
       "\n",
       "[2670 rows x 18 columns]"
      ]
     },
     "execution_count": 9,
     "metadata": {},
     "output_type": "execute_result"
    }
   ],
   "source": [
    "vegas_line.reset_index()"
   ]
  },
  {
   "cell_type": "code",
   "execution_count": 10,
   "metadata": {
    "ExecuteTime": {
     "end_time": "2020-05-09T14:35:28.654802Z",
     "start_time": "2020-05-09T14:35:28.643192Z"
    }
   },
   "outputs": [
    {
     "data": {
      "text/plain": [
       "Index(['Rk', 'Tm', 'Year', 'Date', 'Time', 'LTime', 'Unnamed: 6_level_1',\n",
       "       'Opp', 'Week', 'G#', 'Day', 'Result', 'OT', 'Spread', 'vs. Line',\n",
       "       'Over/Under', 'OU Result'],\n",
       "      dtype='object')"
      ]
     },
     "execution_count": 10,
     "metadata": {},
     "output_type": "execute_result"
    }
   ],
   "source": [
    "vegas_line.columns"
   ]
  },
  {
   "cell_type": "code",
   "execution_count": 26,
   "metadata": {
    "ExecuteTime": {
     "end_time": "2020-05-09T15:05:50.103605Z",
     "start_time": "2020-05-09T15:05:50.078263Z"
    }
   },
   "outputs": [],
   "source": [
    "vegas_line.to_csv('vegas_line.csv')"
   ]
  },
  {
   "cell_type": "code",
   "execution_count": 11,
   "metadata": {
    "ExecuteTime": {
     "end_time": "2020-05-09T14:35:52.691356Z",
     "start_time": "2020-05-09T14:35:28.666943Z"
    }
   },
   "outputs": [],
   "source": [
    "odds2 = []                                                                                                                                                                                                                                                                                                                                                                                                                                \n",
    "for i in range(0,300,100):\n",
    "    url = \"\"\"https://www.pro-football-reference.com/play-index/tgl_finder.cgi?request=1&match=game&year_min=2019&year_max=2019&game_type=E&game_num_min=0&game_num_max=99&week_num_min=0&week_num_max=99&temperature_gtlt=lt&c1stat=vegas_line&c1comp=gte&c2stat=pass_yds&c2comp=gte&c3stat=points_opp&c3comp=gte&c4stat=rush_yds&c4comp=gte&c5stat=yds_per_play_offense&c5comp=gt&c5val=1.0&order_by=game_date&offset={}\"\"\"\n",
    "    odds2.append(pd.read_html(url.format(i))[0])"
   ]
  },
  {
   "cell_type": "code",
   "execution_count": 12,
   "metadata": {
    "ExecuteTime": {
     "end_time": "2020-05-09T14:35:52.704797Z",
     "start_time": "2020-05-09T14:35:52.697937Z"
    }
   },
   "outputs": [],
   "source": [
    "odds2_df = pd.concat(odds2)"
   ]
  },
  {
   "cell_type": "code",
   "execution_count": 13,
   "metadata": {
    "ExecuteTime": {
     "end_time": "2020-05-09T14:35:52.774769Z",
     "start_time": "2020-05-09T14:35:52.706965Z"
    }
   },
   "outputs": [
    {
     "data": {
      "text/html": [
       "<div>\n",
       "<style scoped>\n",
       "    .dataframe tbody tr th:only-of-type {\n",
       "        vertical-align: middle;\n",
       "    }\n",
       "\n",
       "    .dataframe tbody tr th {\n",
       "        vertical-align: top;\n",
       "    }\n",
       "\n",
       "    .dataframe thead tr th {\n",
       "        text-align: left;\n",
       "    }\n",
       "</style>\n",
       "<table border=\"1\" class=\"dataframe\">\n",
       "  <thead>\n",
       "    <tr>\n",
       "      <th></th>\n",
       "      <th>Unnamed: 0_level_0</th>\n",
       "      <th>Unnamed: 1_level_0</th>\n",
       "      <th>Unnamed: 2_level_0</th>\n",
       "      <th>Unnamed: 3_level_0</th>\n",
       "      <th>Unnamed: 4_level_0</th>\n",
       "      <th>Unnamed: 5_level_0</th>\n",
       "      <th>Unnamed: 6_level_0</th>\n",
       "      <th>Unnamed: 7_level_0</th>\n",
       "      <th>Unnamed: 8_level_0</th>\n",
       "      <th>Unnamed: 9_level_0</th>\n",
       "      <th>...</th>\n",
       "      <th colspan=\"2\" halign=\"left\">Rushing</th>\n",
       "      <th colspan=\"8\" halign=\"left\">Tot Yds &amp; TO</th>\n",
       "    </tr>\n",
       "    <tr>\n",
       "      <th></th>\n",
       "      <th>Rk</th>\n",
       "      <th>Tm</th>\n",
       "      <th>Year</th>\n",
       "      <th>Date</th>\n",
       "      <th>Time</th>\n",
       "      <th>LTime</th>\n",
       "      <th>Unnamed: 6_level_1</th>\n",
       "      <th>Opp</th>\n",
       "      <th>Week</th>\n",
       "      <th>G#</th>\n",
       "      <th>...</th>\n",
       "      <th>Y/A</th>\n",
       "      <th>TD</th>\n",
       "      <th>Tot</th>\n",
       "      <th>Ply</th>\n",
       "      <th>Y/P</th>\n",
       "      <th>DPly</th>\n",
       "      <th>DY/P</th>\n",
       "      <th>TO</th>\n",
       "      <th>ToP</th>\n",
       "      <th>Time</th>\n",
       "    </tr>\n",
       "  </thead>\n",
       "  <tbody>\n",
       "    <tr>\n",
       "      <td>0</td>\n",
       "      <td>1</td>\n",
       "      <td>SFO</td>\n",
       "      <td>2019</td>\n",
       "      <td>2020-02-02</td>\n",
       "      <td>6:30</td>\n",
       "      <td>6:30</td>\n",
       "      <td>N</td>\n",
       "      <td>KAN</td>\n",
       "      <td>21</td>\n",
       "      <td>20</td>\n",
       "      <td>...</td>\n",
       "      <td>6.41</td>\n",
       "      <td>1</td>\n",
       "      <td>351</td>\n",
       "      <td>54</td>\n",
       "      <td>6.5000</td>\n",
       "      <td>75</td>\n",
       "      <td>5.2933</td>\n",
       "      <td>2</td>\n",
       "      <td>26:47</td>\n",
       "      <td>3:29</td>\n",
       "    </tr>\n",
       "    <tr>\n",
       "      <td>1</td>\n",
       "      <td>2</td>\n",
       "      <td>GNB</td>\n",
       "      <td>2019</td>\n",
       "      <td>2020-01-19</td>\n",
       "      <td>6:40</td>\n",
       "      <td>3:40</td>\n",
       "      <td>@</td>\n",
       "      <td>SFO</td>\n",
       "      <td>20</td>\n",
       "      <td>19</td>\n",
       "      <td>...</td>\n",
       "      <td>3.88</td>\n",
       "      <td>1</td>\n",
       "      <td>358</td>\n",
       "      <td>58</td>\n",
       "      <td>6.1724</td>\n",
       "      <td>51</td>\n",
       "      <td>6.9412</td>\n",
       "      <td>3</td>\n",
       "      <td>31:13</td>\n",
       "      <td>3:03</td>\n",
       "    </tr>\n",
       "    <tr>\n",
       "      <td>2</td>\n",
       "      <td>3</td>\n",
       "      <td>TEN</td>\n",
       "      <td>2019</td>\n",
       "      <td>2020-01-19</td>\n",
       "      <td>3:05</td>\n",
       "      <td>2:05</td>\n",
       "      <td>@</td>\n",
       "      <td>KAN</td>\n",
       "      <td>20</td>\n",
       "      <td>20</td>\n",
       "      <td>...</td>\n",
       "      <td>3.70</td>\n",
       "      <td>1</td>\n",
       "      <td>295</td>\n",
       "      <td>58</td>\n",
       "      <td>5.0862</td>\n",
       "      <td>64</td>\n",
       "      <td>6.3125</td>\n",
       "      <td>NaN</td>\n",
       "      <td>30:10</td>\n",
       "      <td>3:04</td>\n",
       "    </tr>\n",
       "    <tr>\n",
       "      <td>3</td>\n",
       "      <td>4</td>\n",
       "      <td>HOU</td>\n",
       "      <td>2019</td>\n",
       "      <td>2020-01-12</td>\n",
       "      <td>3:05</td>\n",
       "      <td>2:05</td>\n",
       "      <td>@</td>\n",
       "      <td>KAN</td>\n",
       "      <td>19</td>\n",
       "      <td>19</td>\n",
       "      <td>...</td>\n",
       "      <td>4.48</td>\n",
       "      <td>1</td>\n",
       "      <td>442</td>\n",
       "      <td>78</td>\n",
       "      <td>5.6667</td>\n",
       "      <td>57</td>\n",
       "      <td>7.6140</td>\n",
       "      <td>1</td>\n",
       "      <td>34:35</td>\n",
       "      <td>3:25</td>\n",
       "    </tr>\n",
       "    <tr>\n",
       "      <td>4</td>\n",
       "      <td>5</td>\n",
       "      <td>SEA</td>\n",
       "      <td>2019</td>\n",
       "      <td>2020-01-12</td>\n",
       "      <td>6:40</td>\n",
       "      <td>5:40</td>\n",
       "      <td>@</td>\n",
       "      <td>GNB</td>\n",
       "      <td>19</td>\n",
       "      <td>19</td>\n",
       "      <td>...</td>\n",
       "      <td>4.58</td>\n",
       "      <td>2</td>\n",
       "      <td>375</td>\n",
       "      <td>60</td>\n",
       "      <td>6.2500</td>\n",
       "      <td>59</td>\n",
       "      <td>5.8305</td>\n",
       "      <td>NaN</td>\n",
       "      <td>30:31</td>\n",
       "      <td>3:09</td>\n",
       "    </tr>\n",
       "  </tbody>\n",
       "</table>\n",
       "<p>5 rows × 42 columns</p>\n",
       "</div>"
      ],
      "text/plain": [
       "  Unnamed: 0_level_0 Unnamed: 1_level_0 Unnamed: 2_level_0 Unnamed: 3_level_0  \\\n",
       "                  Rk                 Tm               Year               Date   \n",
       "0                  1                SFO               2019         2020-02-02   \n",
       "1                  2                GNB               2019         2020-01-19   \n",
       "2                  3                TEN               2019         2020-01-19   \n",
       "3                  4                HOU               2019         2020-01-12   \n",
       "4                  5                SEA               2019         2020-01-12   \n",
       "\n",
       "  Unnamed: 4_level_0 Unnamed: 5_level_0 Unnamed: 6_level_0 Unnamed: 7_level_0  \\\n",
       "                Time              LTime Unnamed: 6_level_1                Opp   \n",
       "0               6:30               6:30                  N                KAN   \n",
       "1               6:40               3:40                  @                SFO   \n",
       "2               3:05               2:05                  @                KAN   \n",
       "3               3:05               2:05                  @                KAN   \n",
       "4               6:40               5:40                  @                GNB   \n",
       "\n",
       "  Unnamed: 8_level_0 Unnamed: 9_level_0  ... Rushing    Tot Yds & TO      \\\n",
       "                Week                 G#  ...     Y/A TD          Tot Ply   \n",
       "0                 21                 20  ...    6.41  1          351  54   \n",
       "1                 20                 19  ...    3.88  1          358  58   \n",
       "2                 20                 20  ...    3.70  1          295  58   \n",
       "3                 19                 19  ...    4.48  1          442  78   \n",
       "4                 19                 19  ...    4.58  2          375  60   \n",
       "\n",
       "                                          \n",
       "      Y/P DPly    DY/P   TO    ToP  Time  \n",
       "0  6.5000   75  5.2933    2  26:47  3:29  \n",
       "1  6.1724   51  6.9412    3  31:13  3:03  \n",
       "2  5.0862   64  6.3125  NaN  30:10  3:04  \n",
       "3  5.6667   57  7.6140    1  34:35  3:25  \n",
       "4  6.2500   59  5.8305  NaN  30:31  3:09  \n",
       "\n",
       "[5 rows x 42 columns]"
      ]
     },
     "execution_count": 13,
     "metadata": {},
     "output_type": "execute_result"
    }
   ],
   "source": [
    "odds2_df.head()"
   ]
  },
  {
   "cell_type": "code",
   "execution_count": 14,
   "metadata": {
    "ExecuteTime": {
     "end_time": "2020-05-09T14:35:52.785231Z",
     "start_time": "2020-05-09T14:35:52.777285Z"
    }
   },
   "outputs": [
    {
     "data": {
      "text/plain": [
       "MultiIndex([( 'Unnamed: 0_level_0',                 'Rk'),\n",
       "            ( 'Unnamed: 1_level_0',                 'Tm'),\n",
       "            ( 'Unnamed: 2_level_0',               'Year'),\n",
       "            ( 'Unnamed: 3_level_0',               'Date'),\n",
       "            ( 'Unnamed: 4_level_0',               'Time'),\n",
       "            ( 'Unnamed: 5_level_0',              'LTime'),\n",
       "            ( 'Unnamed: 6_level_0', 'Unnamed: 6_level_1'),\n",
       "            ( 'Unnamed: 7_level_0',                'Opp'),\n",
       "            ( 'Unnamed: 8_level_0',               'Week'),\n",
       "            ( 'Unnamed: 9_level_0',                 'G#'),\n",
       "            ('Unnamed: 10_level_0',                'Day'),\n",
       "            ('Unnamed: 11_level_0',             'Result'),\n",
       "            ('Unnamed: 12_level_0',                 'OT'),\n",
       "            (             'Points',                 'PF'),\n",
       "            (             'Points',                 'PA'),\n",
       "            (             'Points',                 'PD'),\n",
       "            (             'Points',                 'PC'),\n",
       "            (              'Vegas',             'Spread'),\n",
       "            (              'Vegas',           'vs. Line'),\n",
       "            (              'Vegas',         'Over/Under'),\n",
       "            (              'Vegas',          'OU Result'),\n",
       "            (            'Passing',                'Cmp'),\n",
       "            (            'Passing',                'Att'),\n",
       "            (            'Passing',               'Cmp%'),\n",
       "            (            'Passing',                'Yds'),\n",
       "            (            'Passing',                 'TD'),\n",
       "            (            'Passing',                'Int'),\n",
       "            (            'Passing',                 'Sk'),\n",
       "            (            'Passing',              'Yds.1'),\n",
       "            (            'Passing',               'Rate'),\n",
       "            (            'Rushing',                'Att'),\n",
       "            (            'Rushing',                'Yds'),\n",
       "            (            'Rushing',                'Y/A'),\n",
       "            (            'Rushing',                 'TD'),\n",
       "            (       'Tot Yds & TO',                'Tot'),\n",
       "            (       'Tot Yds & TO',                'Ply'),\n",
       "            (       'Tot Yds & TO',                'Y/P'),\n",
       "            (       'Tot Yds & TO',               'DPly'),\n",
       "            (       'Tot Yds & TO',               'DY/P'),\n",
       "            (       'Tot Yds & TO',                 'TO'),\n",
       "            (       'Tot Yds & TO',                'ToP'),\n",
       "            (       'Tot Yds & TO',               'Time')],\n",
       "           )"
      ]
     },
     "execution_count": 14,
     "metadata": {},
     "output_type": "execute_result"
    }
   ],
   "source": [
    "odds2_df.columns"
   ]
  },
  {
   "cell_type": "code",
   "execution_count": 15,
   "metadata": {
    "ExecuteTime": {
     "end_time": "2020-05-09T14:35:52.791144Z",
     "start_time": "2020-05-09T14:35:52.787535Z"
    }
   },
   "outputs": [],
   "source": [
    "odds2_df.columns = odds2_df.columns.to_flat_index()"
   ]
  },
  {
   "cell_type": "code",
   "execution_count": 16,
   "metadata": {
    "ExecuteTime": {
     "end_time": "2020-05-09T14:35:52.848036Z",
     "start_time": "2020-05-09T14:35:52.793961Z"
    }
   },
   "outputs": [
    {
     "data": {
      "text/html": [
       "<div>\n",
       "<style scoped>\n",
       "    .dataframe tbody tr th:only-of-type {\n",
       "        vertical-align: middle;\n",
       "    }\n",
       "\n",
       "    .dataframe tbody tr th {\n",
       "        vertical-align: top;\n",
       "    }\n",
       "\n",
       "    .dataframe thead th {\n",
       "        text-align: right;\n",
       "    }\n",
       "</style>\n",
       "<table border=\"1\" class=\"dataframe\">\n",
       "  <thead>\n",
       "    <tr style=\"text-align: right;\">\n",
       "      <th></th>\n",
       "      <th>(Unnamed: 0_level_0, Rk)</th>\n",
       "      <th>(Unnamed: 1_level_0, Tm)</th>\n",
       "      <th>(Unnamed: 2_level_0, Year)</th>\n",
       "      <th>(Unnamed: 3_level_0, Date)</th>\n",
       "      <th>(Unnamed: 4_level_0, Time)</th>\n",
       "      <th>(Unnamed: 5_level_0, LTime)</th>\n",
       "      <th>(Unnamed: 6_level_0, Unnamed: 6_level_1)</th>\n",
       "      <th>(Unnamed: 7_level_0, Opp)</th>\n",
       "      <th>(Unnamed: 8_level_0, Week)</th>\n",
       "      <th>(Unnamed: 9_level_0, G#)</th>\n",
       "      <th>...</th>\n",
       "      <th>(Rushing, Y/A)</th>\n",
       "      <th>(Rushing, TD)</th>\n",
       "      <th>(Tot Yds &amp; TO, Tot)</th>\n",
       "      <th>(Tot Yds &amp; TO, Ply)</th>\n",
       "      <th>(Tot Yds &amp; TO, Y/P)</th>\n",
       "      <th>(Tot Yds &amp; TO, DPly)</th>\n",
       "      <th>(Tot Yds &amp; TO, DY/P)</th>\n",
       "      <th>(Tot Yds &amp; TO, TO)</th>\n",
       "      <th>(Tot Yds &amp; TO, ToP)</th>\n",
       "      <th>(Tot Yds &amp; TO, Time)</th>\n",
       "    </tr>\n",
       "  </thead>\n",
       "  <tbody>\n",
       "    <tr>\n",
       "      <td>0</td>\n",
       "      <td>1</td>\n",
       "      <td>SFO</td>\n",
       "      <td>2019</td>\n",
       "      <td>2020-02-02</td>\n",
       "      <td>6:30</td>\n",
       "      <td>6:30</td>\n",
       "      <td>N</td>\n",
       "      <td>KAN</td>\n",
       "      <td>21</td>\n",
       "      <td>20</td>\n",
       "      <td>...</td>\n",
       "      <td>6.41</td>\n",
       "      <td>1</td>\n",
       "      <td>351</td>\n",
       "      <td>54</td>\n",
       "      <td>6.5000</td>\n",
       "      <td>75</td>\n",
       "      <td>5.2933</td>\n",
       "      <td>2</td>\n",
       "      <td>26:47</td>\n",
       "      <td>3:29</td>\n",
       "    </tr>\n",
       "    <tr>\n",
       "      <td>1</td>\n",
       "      <td>2</td>\n",
       "      <td>GNB</td>\n",
       "      <td>2019</td>\n",
       "      <td>2020-01-19</td>\n",
       "      <td>6:40</td>\n",
       "      <td>3:40</td>\n",
       "      <td>@</td>\n",
       "      <td>SFO</td>\n",
       "      <td>20</td>\n",
       "      <td>19</td>\n",
       "      <td>...</td>\n",
       "      <td>3.88</td>\n",
       "      <td>1</td>\n",
       "      <td>358</td>\n",
       "      <td>58</td>\n",
       "      <td>6.1724</td>\n",
       "      <td>51</td>\n",
       "      <td>6.9412</td>\n",
       "      <td>3</td>\n",
       "      <td>31:13</td>\n",
       "      <td>3:03</td>\n",
       "    </tr>\n",
       "    <tr>\n",
       "      <td>2</td>\n",
       "      <td>3</td>\n",
       "      <td>TEN</td>\n",
       "      <td>2019</td>\n",
       "      <td>2020-01-19</td>\n",
       "      <td>3:05</td>\n",
       "      <td>2:05</td>\n",
       "      <td>@</td>\n",
       "      <td>KAN</td>\n",
       "      <td>20</td>\n",
       "      <td>20</td>\n",
       "      <td>...</td>\n",
       "      <td>3.70</td>\n",
       "      <td>1</td>\n",
       "      <td>295</td>\n",
       "      <td>58</td>\n",
       "      <td>5.0862</td>\n",
       "      <td>64</td>\n",
       "      <td>6.3125</td>\n",
       "      <td>NaN</td>\n",
       "      <td>30:10</td>\n",
       "      <td>3:04</td>\n",
       "    </tr>\n",
       "    <tr>\n",
       "      <td>3</td>\n",
       "      <td>4</td>\n",
       "      <td>HOU</td>\n",
       "      <td>2019</td>\n",
       "      <td>2020-01-12</td>\n",
       "      <td>3:05</td>\n",
       "      <td>2:05</td>\n",
       "      <td>@</td>\n",
       "      <td>KAN</td>\n",
       "      <td>19</td>\n",
       "      <td>19</td>\n",
       "      <td>...</td>\n",
       "      <td>4.48</td>\n",
       "      <td>1</td>\n",
       "      <td>442</td>\n",
       "      <td>78</td>\n",
       "      <td>5.6667</td>\n",
       "      <td>57</td>\n",
       "      <td>7.6140</td>\n",
       "      <td>1</td>\n",
       "      <td>34:35</td>\n",
       "      <td>3:25</td>\n",
       "    </tr>\n",
       "    <tr>\n",
       "      <td>4</td>\n",
       "      <td>5</td>\n",
       "      <td>SEA</td>\n",
       "      <td>2019</td>\n",
       "      <td>2020-01-12</td>\n",
       "      <td>6:40</td>\n",
       "      <td>5:40</td>\n",
       "      <td>@</td>\n",
       "      <td>GNB</td>\n",
       "      <td>19</td>\n",
       "      <td>19</td>\n",
       "      <td>...</td>\n",
       "      <td>4.58</td>\n",
       "      <td>2</td>\n",
       "      <td>375</td>\n",
       "      <td>60</td>\n",
       "      <td>6.2500</td>\n",
       "      <td>59</td>\n",
       "      <td>5.8305</td>\n",
       "      <td>NaN</td>\n",
       "      <td>30:31</td>\n",
       "      <td>3:09</td>\n",
       "    </tr>\n",
       "  </tbody>\n",
       "</table>\n",
       "<p>5 rows × 42 columns</p>\n",
       "</div>"
      ],
      "text/plain": [
       "  (Unnamed: 0_level_0, Rk) (Unnamed: 1_level_0, Tm)  \\\n",
       "0                        1                      SFO   \n",
       "1                        2                      GNB   \n",
       "2                        3                      TEN   \n",
       "3                        4                      HOU   \n",
       "4                        5                      SEA   \n",
       "\n",
       "  (Unnamed: 2_level_0, Year) (Unnamed: 3_level_0, Date)  \\\n",
       "0                       2019                 2020-02-02   \n",
       "1                       2019                 2020-01-19   \n",
       "2                       2019                 2020-01-19   \n",
       "3                       2019                 2020-01-12   \n",
       "4                       2019                 2020-01-12   \n",
       "\n",
       "  (Unnamed: 4_level_0, Time) (Unnamed: 5_level_0, LTime)  \\\n",
       "0                       6:30                        6:30   \n",
       "1                       6:40                        3:40   \n",
       "2                       3:05                        2:05   \n",
       "3                       3:05                        2:05   \n",
       "4                       6:40                        5:40   \n",
       "\n",
       "  (Unnamed: 6_level_0, Unnamed: 6_level_1) (Unnamed: 7_level_0, Opp)  \\\n",
       "0                                        N                       KAN   \n",
       "1                                        @                       SFO   \n",
       "2                                        @                       KAN   \n",
       "3                                        @                       KAN   \n",
       "4                                        @                       GNB   \n",
       "\n",
       "  (Unnamed: 8_level_0, Week) (Unnamed: 9_level_0, G#)  ... (Rushing, Y/A)  \\\n",
       "0                         21                       20  ...           6.41   \n",
       "1                         20                       19  ...           3.88   \n",
       "2                         20                       20  ...           3.70   \n",
       "3                         19                       19  ...           4.48   \n",
       "4                         19                       19  ...           4.58   \n",
       "\n",
       "  (Rushing, TD) (Tot Yds & TO, Tot) (Tot Yds & TO, Ply) (Tot Yds & TO, Y/P)  \\\n",
       "0             1                 351                  54              6.5000   \n",
       "1             1                 358                  58              6.1724   \n",
       "2             1                 295                  58              5.0862   \n",
       "3             1                 442                  78              5.6667   \n",
       "4             2                 375                  60              6.2500   \n",
       "\n",
       "  (Tot Yds & TO, DPly) (Tot Yds & TO, DY/P) (Tot Yds & TO, TO)  \\\n",
       "0                   75               5.2933                  2   \n",
       "1                   51               6.9412                  3   \n",
       "2                   64               6.3125                NaN   \n",
       "3                   57               7.6140                  1   \n",
       "4                   59               5.8305                NaN   \n",
       "\n",
       "  (Tot Yds & TO, ToP) (Tot Yds & TO, Time)  \n",
       "0               26:47                 3:29  \n",
       "1               31:13                 3:03  \n",
       "2               30:10                 3:04  \n",
       "3               34:35                 3:25  \n",
       "4               30:31                 3:09  \n",
       "\n",
       "[5 rows x 42 columns]"
      ]
     },
     "execution_count": 16,
     "metadata": {},
     "output_type": "execute_result"
    }
   ],
   "source": [
    "odds2_df.head()"
   ]
  },
  {
   "cell_type": "code",
   "execution_count": 17,
   "metadata": {
    "ExecuteTime": {
     "end_time": "2020-05-09T14:35:52.867905Z",
     "start_time": "2020-05-09T14:35:52.850479Z"
    }
   },
   "outputs": [
    {
     "data": {
      "text/plain": [
       "Index([                ('Unnamed: 0_level_0', 'Rk'),\n",
       "                       ('Unnamed: 1_level_0', 'Tm'),\n",
       "                     ('Unnamed: 2_level_0', 'Year'),\n",
       "                     ('Unnamed: 3_level_0', 'Date'),\n",
       "                     ('Unnamed: 4_level_0', 'Time'),\n",
       "                    ('Unnamed: 5_level_0', 'LTime'),\n",
       "       ('Unnamed: 6_level_0', 'Unnamed: 6_level_1'),\n",
       "                      ('Unnamed: 7_level_0', 'Opp'),\n",
       "                     ('Unnamed: 8_level_0', 'Week'),\n",
       "                       ('Unnamed: 9_level_0', 'G#'),\n",
       "                     ('Unnamed: 10_level_0', 'Day'),\n",
       "                  ('Unnamed: 11_level_0', 'Result'),\n",
       "                      ('Unnamed: 12_level_0', 'OT'),\n",
       "                                   ('Points', 'PF'),\n",
       "                                   ('Points', 'PA'),\n",
       "                                   ('Points', 'PD'),\n",
       "                                   ('Points', 'PC'),\n",
       "                                ('Vegas', 'Spread'),\n",
       "                              ('Vegas', 'vs. Line'),\n",
       "                            ('Vegas', 'Over/Under'),\n",
       "                             ('Vegas', 'OU Result'),\n",
       "                                 ('Passing', 'Cmp'),\n",
       "                                 ('Passing', 'Att'),\n",
       "                                ('Passing', 'Cmp%'),\n",
       "                                 ('Passing', 'Yds'),\n",
       "                                  ('Passing', 'TD'),\n",
       "                                 ('Passing', 'Int'),\n",
       "                                  ('Passing', 'Sk'),\n",
       "                               ('Passing', 'Yds.1'),\n",
       "                                ('Passing', 'Rate'),\n",
       "                                 ('Rushing', 'Att'),\n",
       "                                 ('Rushing', 'Yds'),\n",
       "                                 ('Rushing', 'Y/A'),\n",
       "                                  ('Rushing', 'TD'),\n",
       "                            ('Tot Yds & TO', 'Tot'),\n",
       "                            ('Tot Yds & TO', 'Ply'),\n",
       "                            ('Tot Yds & TO', 'Y/P'),\n",
       "                           ('Tot Yds & TO', 'DPly'),\n",
       "                           ('Tot Yds & TO', 'DY/P'),\n",
       "                             ('Tot Yds & TO', 'TO'),\n",
       "                            ('Tot Yds & TO', 'ToP'),\n",
       "                           ('Tot Yds & TO', 'Time')],\n",
       "      dtype='object')"
      ]
     },
     "execution_count": 17,
     "metadata": {},
     "output_type": "execute_result"
    }
   ],
   "source": [
    "odds2_df.columns"
   ]
  },
  {
   "cell_type": "code",
   "execution_count": 18,
   "metadata": {
    "ExecuteTime": {
     "end_time": "2020-05-09T14:35:52.975958Z",
     "start_time": "2020-05-09T14:35:52.872327Z"
    }
   },
   "outputs": [
    {
     "data": {
      "text/html": [
       "<div>\n",
       "<style scoped>\n",
       "    .dataframe tbody tr th:only-of-type {\n",
       "        vertical-align: middle;\n",
       "    }\n",
       "\n",
       "    .dataframe tbody tr th {\n",
       "        vertical-align: top;\n",
       "    }\n",
       "\n",
       "    .dataframe thead th {\n",
       "        text-align: right;\n",
       "    }\n",
       "</style>\n",
       "<table border=\"1\" class=\"dataframe\">\n",
       "  <thead>\n",
       "    <tr style=\"text-align: right;\">\n",
       "      <th></th>\n",
       "      <th>index</th>\n",
       "      <th>(Unnamed: 0_level_0, Rk)</th>\n",
       "      <th>(Unnamed: 1_level_0, Tm)</th>\n",
       "      <th>(Unnamed: 2_level_0, Year)</th>\n",
       "      <th>(Unnamed: 3_level_0, Date)</th>\n",
       "      <th>(Unnamed: 4_level_0, Time)</th>\n",
       "      <th>(Unnamed: 5_level_0, LTime)</th>\n",
       "      <th>(Unnamed: 6_level_0, Unnamed: 6_level_1)</th>\n",
       "      <th>(Unnamed: 7_level_0, Opp)</th>\n",
       "      <th>(Unnamed: 8_level_0, Week)</th>\n",
       "      <th>...</th>\n",
       "      <th>(Rushing, Y/A)</th>\n",
       "      <th>(Rushing, TD)</th>\n",
       "      <th>(Tot Yds &amp; TO, Tot)</th>\n",
       "      <th>(Tot Yds &amp; TO, Ply)</th>\n",
       "      <th>(Tot Yds &amp; TO, Y/P)</th>\n",
       "      <th>(Tot Yds &amp; TO, DPly)</th>\n",
       "      <th>(Tot Yds &amp; TO, DY/P)</th>\n",
       "      <th>(Tot Yds &amp; TO, TO)</th>\n",
       "      <th>(Tot Yds &amp; TO, ToP)</th>\n",
       "      <th>(Tot Yds &amp; TO, Time)</th>\n",
       "    </tr>\n",
       "  </thead>\n",
       "  <tbody>\n",
       "    <tr>\n",
       "      <td>0</td>\n",
       "      <td>0</td>\n",
       "      <td>1</td>\n",
       "      <td>SFO</td>\n",
       "      <td>2019</td>\n",
       "      <td>2020-02-02</td>\n",
       "      <td>6:30</td>\n",
       "      <td>6:30</td>\n",
       "      <td>N</td>\n",
       "      <td>KAN</td>\n",
       "      <td>21</td>\n",
       "      <td>...</td>\n",
       "      <td>6.41</td>\n",
       "      <td>1</td>\n",
       "      <td>351</td>\n",
       "      <td>54</td>\n",
       "      <td>6.5000</td>\n",
       "      <td>75</td>\n",
       "      <td>5.2933</td>\n",
       "      <td>2</td>\n",
       "      <td>26:47</td>\n",
       "      <td>3:29</td>\n",
       "    </tr>\n",
       "    <tr>\n",
       "      <td>1</td>\n",
       "      <td>1</td>\n",
       "      <td>2</td>\n",
       "      <td>GNB</td>\n",
       "      <td>2019</td>\n",
       "      <td>2020-01-19</td>\n",
       "      <td>6:40</td>\n",
       "      <td>3:40</td>\n",
       "      <td>@</td>\n",
       "      <td>SFO</td>\n",
       "      <td>20</td>\n",
       "      <td>...</td>\n",
       "      <td>3.88</td>\n",
       "      <td>1</td>\n",
       "      <td>358</td>\n",
       "      <td>58</td>\n",
       "      <td>6.1724</td>\n",
       "      <td>51</td>\n",
       "      <td>6.9412</td>\n",
       "      <td>3</td>\n",
       "      <td>31:13</td>\n",
       "      <td>3:03</td>\n",
       "    </tr>\n",
       "    <tr>\n",
       "      <td>2</td>\n",
       "      <td>2</td>\n",
       "      <td>3</td>\n",
       "      <td>TEN</td>\n",
       "      <td>2019</td>\n",
       "      <td>2020-01-19</td>\n",
       "      <td>3:05</td>\n",
       "      <td>2:05</td>\n",
       "      <td>@</td>\n",
       "      <td>KAN</td>\n",
       "      <td>20</td>\n",
       "      <td>...</td>\n",
       "      <td>3.70</td>\n",
       "      <td>1</td>\n",
       "      <td>295</td>\n",
       "      <td>58</td>\n",
       "      <td>5.0862</td>\n",
       "      <td>64</td>\n",
       "      <td>6.3125</td>\n",
       "      <td>NaN</td>\n",
       "      <td>30:10</td>\n",
       "      <td>3:04</td>\n",
       "    </tr>\n",
       "    <tr>\n",
       "      <td>3</td>\n",
       "      <td>3</td>\n",
       "      <td>4</td>\n",
       "      <td>HOU</td>\n",
       "      <td>2019</td>\n",
       "      <td>2020-01-12</td>\n",
       "      <td>3:05</td>\n",
       "      <td>2:05</td>\n",
       "      <td>@</td>\n",
       "      <td>KAN</td>\n",
       "      <td>19</td>\n",
       "      <td>...</td>\n",
       "      <td>4.48</td>\n",
       "      <td>1</td>\n",
       "      <td>442</td>\n",
       "      <td>78</td>\n",
       "      <td>5.6667</td>\n",
       "      <td>57</td>\n",
       "      <td>7.6140</td>\n",
       "      <td>1</td>\n",
       "      <td>34:35</td>\n",
       "      <td>3:25</td>\n",
       "    </tr>\n",
       "    <tr>\n",
       "      <td>4</td>\n",
       "      <td>4</td>\n",
       "      <td>5</td>\n",
       "      <td>SEA</td>\n",
       "      <td>2019</td>\n",
       "      <td>2020-01-12</td>\n",
       "      <td>6:40</td>\n",
       "      <td>5:40</td>\n",
       "      <td>@</td>\n",
       "      <td>GNB</td>\n",
       "      <td>19</td>\n",
       "      <td>...</td>\n",
       "      <td>4.58</td>\n",
       "      <td>2</td>\n",
       "      <td>375</td>\n",
       "      <td>60</td>\n",
       "      <td>6.2500</td>\n",
       "      <td>59</td>\n",
       "      <td>5.8305</td>\n",
       "      <td>NaN</td>\n",
       "      <td>30:31</td>\n",
       "      <td>3:09</td>\n",
       "    </tr>\n",
       "    <tr>\n",
       "      <td>...</td>\n",
       "      <td>...</td>\n",
       "      <td>...</td>\n",
       "      <td>...</td>\n",
       "      <td>...</td>\n",
       "      <td>...</td>\n",
       "      <td>...</td>\n",
       "      <td>...</td>\n",
       "      <td>...</td>\n",
       "      <td>...</td>\n",
       "      <td>...</td>\n",
       "      <td>...</td>\n",
       "      <td>...</td>\n",
       "      <td>...</td>\n",
       "      <td>...</td>\n",
       "      <td>...</td>\n",
       "      <td>...</td>\n",
       "      <td>...</td>\n",
       "      <td>...</td>\n",
       "      <td>...</td>\n",
       "      <td>...</td>\n",
       "      <td>...</td>\n",
       "    </tr>\n",
       "    <tr>\n",
       "      <td>273</td>\n",
       "      <td>65</td>\n",
       "      <td>263</td>\n",
       "      <td>TEN</td>\n",
       "      <td>2019</td>\n",
       "      <td>2019-09-08</td>\n",
       "      <td>1:00</td>\n",
       "      <td>1:00</td>\n",
       "      <td>@</td>\n",
       "      <td>CLE</td>\n",
       "      <td>1</td>\n",
       "      <td>...</td>\n",
       "      <td>4.39</td>\n",
       "      <td>1</td>\n",
       "      <td>339</td>\n",
       "      <td>56</td>\n",
       "      <td>6.0536</td>\n",
       "      <td>63</td>\n",
       "      <td>5.4921</td>\n",
       "      <td>NaN</td>\n",
       "      <td>29:18</td>\n",
       "      <td>3:12</td>\n",
       "    </tr>\n",
       "    <tr>\n",
       "      <td>274</td>\n",
       "      <td>66</td>\n",
       "      <td>264</td>\n",
       "      <td>PIT</td>\n",
       "      <td>2019</td>\n",
       "      <td>2019-09-08</td>\n",
       "      <td>8:20</td>\n",
       "      <td>8:20</td>\n",
       "      <td>@</td>\n",
       "      <td>NWE</td>\n",
       "      <td>1</td>\n",
       "      <td>...</td>\n",
       "      <td>2.46</td>\n",
       "      <td>0</td>\n",
       "      <td>308</td>\n",
       "      <td>61</td>\n",
       "      <td>5.0492</td>\n",
       "      <td>67</td>\n",
       "      <td>6.9403</td>\n",
       "      <td>1</td>\n",
       "      <td>27:27</td>\n",
       "      <td>3:00</td>\n",
       "    </tr>\n",
       "    <tr>\n",
       "      <td>275</td>\n",
       "      <td>67</td>\n",
       "      <td>265</td>\n",
       "      <td>SFO</td>\n",
       "      <td>2019</td>\n",
       "      <td>2019-09-08</td>\n",
       "      <td>4:25</td>\n",
       "      <td>4:25</td>\n",
       "      <td>@</td>\n",
       "      <td>TAM</td>\n",
       "      <td>1</td>\n",
       "      <td>...</td>\n",
       "      <td>3.06</td>\n",
       "      <td>0</td>\n",
       "      <td>256</td>\n",
       "      <td>60</td>\n",
       "      <td>4.2667</td>\n",
       "      <td>65</td>\n",
       "      <td>4.5385</td>\n",
       "      <td>2</td>\n",
       "      <td>30:04</td>\n",
       "      <td>3:06</td>\n",
       "    </tr>\n",
       "    <tr>\n",
       "      <td>276</td>\n",
       "      <td>68</td>\n",
       "      <td>266</td>\n",
       "      <td>WAS</td>\n",
       "      <td>2019</td>\n",
       "      <td>2019-09-08</td>\n",
       "      <td>1:00</td>\n",
       "      <td>1:00</td>\n",
       "      <td>@</td>\n",
       "      <td>PHI</td>\n",
       "      <td>1</td>\n",
       "      <td>...</td>\n",
       "      <td>2.15</td>\n",
       "      <td>0</td>\n",
       "      <td>398</td>\n",
       "      <td>58</td>\n",
       "      <td>6.8621</td>\n",
       "      <td>71</td>\n",
       "      <td>6.1408</td>\n",
       "      <td>NaN</td>\n",
       "      <td>25:33</td>\n",
       "      <td>3:13</td>\n",
       "    </tr>\n",
       "    <tr>\n",
       "      <td>277</td>\n",
       "      <td>69</td>\n",
       "      <td>267</td>\n",
       "      <td>GNB</td>\n",
       "      <td>2019</td>\n",
       "      <td>2019-09-05</td>\n",
       "      <td>8:20</td>\n",
       "      <td>7:20</td>\n",
       "      <td>@</td>\n",
       "      <td>CHI</td>\n",
       "      <td>1</td>\n",
       "      <td>...</td>\n",
       "      <td>2.14</td>\n",
       "      <td>0</td>\n",
       "      <td>213</td>\n",
       "      <td>57</td>\n",
       "      <td>3.7368</td>\n",
       "      <td>65</td>\n",
       "      <td>3.9077</td>\n",
       "      <td>NaN</td>\n",
       "      <td>31:03</td>\n",
       "      <td>3:07</td>\n",
       "    </tr>\n",
       "  </tbody>\n",
       "</table>\n",
       "<p>278 rows × 43 columns</p>\n",
       "</div>"
      ],
      "text/plain": [
       "     index (Unnamed: 0_level_0, Rk) (Unnamed: 1_level_0, Tm)  \\\n",
       "0        0                        1                      SFO   \n",
       "1        1                        2                      GNB   \n",
       "2        2                        3                      TEN   \n",
       "3        3                        4                      HOU   \n",
       "4        4                        5                      SEA   \n",
       "..     ...                      ...                      ...   \n",
       "273     65                      263                      TEN   \n",
       "274     66                      264                      PIT   \n",
       "275     67                      265                      SFO   \n",
       "276     68                      266                      WAS   \n",
       "277     69                      267                      GNB   \n",
       "\n",
       "    (Unnamed: 2_level_0, Year) (Unnamed: 3_level_0, Date)  \\\n",
       "0                         2019                 2020-02-02   \n",
       "1                         2019                 2020-01-19   \n",
       "2                         2019                 2020-01-19   \n",
       "3                         2019                 2020-01-12   \n",
       "4                         2019                 2020-01-12   \n",
       "..                         ...                        ...   \n",
       "273                       2019                 2019-09-08   \n",
       "274                       2019                 2019-09-08   \n",
       "275                       2019                 2019-09-08   \n",
       "276                       2019                 2019-09-08   \n",
       "277                       2019                 2019-09-05   \n",
       "\n",
       "    (Unnamed: 4_level_0, Time) (Unnamed: 5_level_0, LTime)  \\\n",
       "0                         6:30                        6:30   \n",
       "1                         6:40                        3:40   \n",
       "2                         3:05                        2:05   \n",
       "3                         3:05                        2:05   \n",
       "4                         6:40                        5:40   \n",
       "..                         ...                         ...   \n",
       "273                       1:00                        1:00   \n",
       "274                       8:20                        8:20   \n",
       "275                       4:25                        4:25   \n",
       "276                       1:00                        1:00   \n",
       "277                       8:20                        7:20   \n",
       "\n",
       "    (Unnamed: 6_level_0, Unnamed: 6_level_1) (Unnamed: 7_level_0, Opp)  \\\n",
       "0                                          N                       KAN   \n",
       "1                                          @                       SFO   \n",
       "2                                          @                       KAN   \n",
       "3                                          @                       KAN   \n",
       "4                                          @                       GNB   \n",
       "..                                       ...                       ...   \n",
       "273                                        @                       CLE   \n",
       "274                                        @                       NWE   \n",
       "275                                        @                       TAM   \n",
       "276                                        @                       PHI   \n",
       "277                                        @                       CHI   \n",
       "\n",
       "    (Unnamed: 8_level_0, Week)  ... (Rushing, Y/A) (Rushing, TD)  \\\n",
       "0                           21  ...           6.41             1   \n",
       "1                           20  ...           3.88             1   \n",
       "2                           20  ...           3.70             1   \n",
       "3                           19  ...           4.48             1   \n",
       "4                           19  ...           4.58             2   \n",
       "..                         ...  ...            ...           ...   \n",
       "273                          1  ...           4.39             1   \n",
       "274                          1  ...           2.46             0   \n",
       "275                          1  ...           3.06             0   \n",
       "276                          1  ...           2.15             0   \n",
       "277                          1  ...           2.14             0   \n",
       "\n",
       "    (Tot Yds & TO, Tot) (Tot Yds & TO, Ply) (Tot Yds & TO, Y/P)  \\\n",
       "0                   351                  54              6.5000   \n",
       "1                   358                  58              6.1724   \n",
       "2                   295                  58              5.0862   \n",
       "3                   442                  78              5.6667   \n",
       "4                   375                  60              6.2500   \n",
       "..                  ...                 ...                 ...   \n",
       "273                 339                  56              6.0536   \n",
       "274                 308                  61              5.0492   \n",
       "275                 256                  60              4.2667   \n",
       "276                 398                  58              6.8621   \n",
       "277                 213                  57              3.7368   \n",
       "\n",
       "    (Tot Yds & TO, DPly) (Tot Yds & TO, DY/P) (Tot Yds & TO, TO)  \\\n",
       "0                     75               5.2933                  2   \n",
       "1                     51               6.9412                  3   \n",
       "2                     64               6.3125                NaN   \n",
       "3                     57               7.6140                  1   \n",
       "4                     59               5.8305                NaN   \n",
       "..                   ...                  ...                ...   \n",
       "273                   63               5.4921                NaN   \n",
       "274                   67               6.9403                  1   \n",
       "275                   65               4.5385                  2   \n",
       "276                   71               6.1408                NaN   \n",
       "277                   65               3.9077                NaN   \n",
       "\n",
       "    (Tot Yds & TO, ToP) (Tot Yds & TO, Time)  \n",
       "0                 26:47                 3:29  \n",
       "1                 31:13                 3:03  \n",
       "2                 30:10                 3:04  \n",
       "3                 34:35                 3:25  \n",
       "4                 30:31                 3:09  \n",
       "..                  ...                  ...  \n",
       "273               29:18                 3:12  \n",
       "274               27:27                 3:00  \n",
       "275               30:04                 3:06  \n",
       "276               25:33                 3:13  \n",
       "277               31:03                 3:07  \n",
       "\n",
       "[278 rows x 43 columns]"
      ]
     },
     "execution_count": 18,
     "metadata": {},
     "output_type": "execute_result"
    }
   ],
   "source": [
    "odds2_df.reset_index()"
   ]
  },
  {
   "cell_type": "code",
   "execution_count": 19,
   "metadata": {
    "ExecuteTime": {
     "end_time": "2020-05-09T14:35:53.024039Z",
     "start_time": "2020-05-09T14:35:52.988196Z"
    }
   },
   "outputs": [],
   "source": [
    "odds2_df.drop(odds2_df[odds2_df[('Unnamed: 1_level_0', 'Tm')] == 'Tm'].index, inplace=True)"
   ]
  },
  {
   "cell_type": "code",
   "execution_count": 20,
   "metadata": {
    "ExecuteTime": {
     "end_time": "2020-05-09T14:35:53.055627Z",
     "start_time": "2020-05-09T14:35:53.035296Z"
    }
   },
   "outputs": [
    {
     "data": {
      "text/plain": [
       "(267, 42)"
      ]
     },
     "execution_count": 20,
     "metadata": {},
     "output_type": "execute_result"
    }
   ],
   "source": [
    "odds2_df.shape"
   ]
  },
  {
   "cell_type": "code",
   "execution_count": 21,
   "metadata": {
    "ExecuteTime": {
     "end_time": "2020-05-09T14:35:53.078571Z",
     "start_time": "2020-05-09T14:35:53.058876Z"
    }
   },
   "outputs": [],
   "source": [
    "odds2_df = odds2_df.rename(columns={('Unnamed: 0_level_0', 'Rk'):'rk', ('Unnamed: 1_level_0', 'Tm'): 'Home_team',\n",
    "('Unnamed: 2_level_0', 'Year'): 'year',\n",
    "('Unnamed: 3_level_0', 'Date'): 'date',\n",
    "('Unnamed: 4_level_0', 'Time'): 'time',\n",
    "('Unnamed: 5_level_0', 'LTime'): 'local_time', \n",
    "('Unnamed: 6_level_0', 'Unnamed: 6_level_1'): 'at',\n",
    "('Unnamed: 7_level_0', 'Opp'): 'Away_team',\n",
    "('Unnamed: 8_level_0', 'Week'): 'Week',\n",
    "('Unnamed: 9_level_0', 'G#'): 'Game_Number',\n",
    "('Unnamed: 10_level_0', 'Day'): 'day',\n",
    "('Unnamed: 11_level_0', 'Result'): 'result',\n",
    "('Unnamed: 12_level_0', 'OT'): 'OT',\n",
    "('Points', 'PF'): 'points_for',\n",
    "('Points', 'PA'): 'points_against',\n",
    "('Points', 'PD'): 'point_differential',\n",
    "('Points', 'PC'): 'combined_points',\n",
    "('Vegas', 'Spread'): 'spread',\n",
    "('Vegas', 'vs. Line'): 'vs_line',\n",
    "('Vegas', 'Over/Under'): 'over_under',\n",
    "('Vegas', 'OU Result'): 'over_under_result',\n",
    "('Passing', 'Cmp'): 'pass_completions',\n",
    "('Passing', 'Att'): 'pass_attempts',\n",
    "('Passing', 'Cmp%'): 'completion_percentage',\n",
    "('Passing', 'Yds'): 'passing_yards',\n",
    "('Passing', 'TD'): 'passing_touchdowns',\n",
    "('Passing', 'Int'): 'interceptions',\n",
    "('Passing', 'Sk'): 'times_sacked',\n",
    "('Passing', 'Yds.1'): 'sack_yards_lost',\n",
    "('Passing', 'Rate'): 'qbr',\n",
    "('Rushing', 'Att'): 'rushing_attempts',\n",
    "('Rushing', 'Yds'): 'rushing_yards',\n",
    "('Rushing', 'Y/A'): 'rushing_yards_per_attempt',\n",
    "('Rushing', 'TD'): 'rushing_touchdowns',\n",
    "('Tot Yds & TO', 'Tot'): 'total_yards',\n",
    "('Tot Yds & TO', 'Ply'): 'offensive_plays',\n",
    "('Tot Yds & TO', 'Y/P'): 'yards_per_play_offense',\n",
    "('Tot Yds & TO', 'DPly'): 'defensive_plays',\n",
    "('Tot Yds & TO', 'DY/P'): 'yards_allowed_per_defensive_play',\n",
    "('Tot Yds & TO', 'TO'): 'turnovers_lost',\n",
    "('Tot Yds & TO', 'ToP'): 'time_of_possession',\n",
    "('Tot Yds & TO', 'Time'): 'game_duration'})"
   ]
  },
  {
   "cell_type": "code",
   "execution_count": 22,
   "metadata": {
    "ExecuteTime": {
     "end_time": "2020-05-09T14:35:53.127954Z",
     "start_time": "2020-05-09T14:35:53.080965Z"
    }
   },
   "outputs": [
    {
     "data": {
      "text/html": [
       "<div>\n",
       "<style scoped>\n",
       "    .dataframe tbody tr th:only-of-type {\n",
       "        vertical-align: middle;\n",
       "    }\n",
       "\n",
       "    .dataframe tbody tr th {\n",
       "        vertical-align: top;\n",
       "    }\n",
       "\n",
       "    .dataframe thead th {\n",
       "        text-align: right;\n",
       "    }\n",
       "</style>\n",
       "<table border=\"1\" class=\"dataframe\">\n",
       "  <thead>\n",
       "    <tr style=\"text-align: right;\">\n",
       "      <th></th>\n",
       "      <th>rk</th>\n",
       "      <th>Home_team</th>\n",
       "      <th>year</th>\n",
       "      <th>date</th>\n",
       "      <th>time</th>\n",
       "      <th>local_time</th>\n",
       "      <th>at</th>\n",
       "      <th>Away_team</th>\n",
       "      <th>Week</th>\n",
       "      <th>Game_Number</th>\n",
       "      <th>...</th>\n",
       "      <th>rushing_yards_per_attempt</th>\n",
       "      <th>rushing_touchdowns</th>\n",
       "      <th>total_yards</th>\n",
       "      <th>offensive_plays</th>\n",
       "      <th>yards_per_play_offense</th>\n",
       "      <th>defensive_plays</th>\n",
       "      <th>yards_allowed_per_defensive_play</th>\n",
       "      <th>turnovers_lost</th>\n",
       "      <th>time_of_possession</th>\n",
       "      <th>game_duration</th>\n",
       "    </tr>\n",
       "  </thead>\n",
       "  <tbody>\n",
       "    <tr>\n",
       "      <td>0</td>\n",
       "      <td>1</td>\n",
       "      <td>SFO</td>\n",
       "      <td>2019</td>\n",
       "      <td>2020-02-02</td>\n",
       "      <td>6:30</td>\n",
       "      <td>6:30</td>\n",
       "      <td>N</td>\n",
       "      <td>KAN</td>\n",
       "      <td>21</td>\n",
       "      <td>20</td>\n",
       "      <td>...</td>\n",
       "      <td>6.41</td>\n",
       "      <td>1</td>\n",
       "      <td>351</td>\n",
       "      <td>54</td>\n",
       "      <td>6.5000</td>\n",
       "      <td>75</td>\n",
       "      <td>5.2933</td>\n",
       "      <td>2</td>\n",
       "      <td>26:47</td>\n",
       "      <td>3:29</td>\n",
       "    </tr>\n",
       "    <tr>\n",
       "      <td>1</td>\n",
       "      <td>2</td>\n",
       "      <td>GNB</td>\n",
       "      <td>2019</td>\n",
       "      <td>2020-01-19</td>\n",
       "      <td>6:40</td>\n",
       "      <td>3:40</td>\n",
       "      <td>@</td>\n",
       "      <td>SFO</td>\n",
       "      <td>20</td>\n",
       "      <td>19</td>\n",
       "      <td>...</td>\n",
       "      <td>3.88</td>\n",
       "      <td>1</td>\n",
       "      <td>358</td>\n",
       "      <td>58</td>\n",
       "      <td>6.1724</td>\n",
       "      <td>51</td>\n",
       "      <td>6.9412</td>\n",
       "      <td>3</td>\n",
       "      <td>31:13</td>\n",
       "      <td>3:03</td>\n",
       "    </tr>\n",
       "    <tr>\n",
       "      <td>2</td>\n",
       "      <td>3</td>\n",
       "      <td>TEN</td>\n",
       "      <td>2019</td>\n",
       "      <td>2020-01-19</td>\n",
       "      <td>3:05</td>\n",
       "      <td>2:05</td>\n",
       "      <td>@</td>\n",
       "      <td>KAN</td>\n",
       "      <td>20</td>\n",
       "      <td>20</td>\n",
       "      <td>...</td>\n",
       "      <td>3.70</td>\n",
       "      <td>1</td>\n",
       "      <td>295</td>\n",
       "      <td>58</td>\n",
       "      <td>5.0862</td>\n",
       "      <td>64</td>\n",
       "      <td>6.3125</td>\n",
       "      <td>NaN</td>\n",
       "      <td>30:10</td>\n",
       "      <td>3:04</td>\n",
       "    </tr>\n",
       "    <tr>\n",
       "      <td>3</td>\n",
       "      <td>4</td>\n",
       "      <td>HOU</td>\n",
       "      <td>2019</td>\n",
       "      <td>2020-01-12</td>\n",
       "      <td>3:05</td>\n",
       "      <td>2:05</td>\n",
       "      <td>@</td>\n",
       "      <td>KAN</td>\n",
       "      <td>19</td>\n",
       "      <td>19</td>\n",
       "      <td>...</td>\n",
       "      <td>4.48</td>\n",
       "      <td>1</td>\n",
       "      <td>442</td>\n",
       "      <td>78</td>\n",
       "      <td>5.6667</td>\n",
       "      <td>57</td>\n",
       "      <td>7.6140</td>\n",
       "      <td>1</td>\n",
       "      <td>34:35</td>\n",
       "      <td>3:25</td>\n",
       "    </tr>\n",
       "    <tr>\n",
       "      <td>4</td>\n",
       "      <td>5</td>\n",
       "      <td>SEA</td>\n",
       "      <td>2019</td>\n",
       "      <td>2020-01-12</td>\n",
       "      <td>6:40</td>\n",
       "      <td>5:40</td>\n",
       "      <td>@</td>\n",
       "      <td>GNB</td>\n",
       "      <td>19</td>\n",
       "      <td>19</td>\n",
       "      <td>...</td>\n",
       "      <td>4.58</td>\n",
       "      <td>2</td>\n",
       "      <td>375</td>\n",
       "      <td>60</td>\n",
       "      <td>6.2500</td>\n",
       "      <td>59</td>\n",
       "      <td>5.8305</td>\n",
       "      <td>NaN</td>\n",
       "      <td>30:31</td>\n",
       "      <td>3:09</td>\n",
       "    </tr>\n",
       "  </tbody>\n",
       "</table>\n",
       "<p>5 rows × 42 columns</p>\n",
       "</div>"
      ],
      "text/plain": [
       "  rk Home_team  year        date  time local_time at Away_team Week  \\\n",
       "0  1       SFO  2019  2020-02-02  6:30       6:30  N       KAN   21   \n",
       "1  2       GNB  2019  2020-01-19  6:40       3:40  @       SFO   20   \n",
       "2  3       TEN  2019  2020-01-19  3:05       2:05  @       KAN   20   \n",
       "3  4       HOU  2019  2020-01-12  3:05       2:05  @       KAN   19   \n",
       "4  5       SEA  2019  2020-01-12  6:40       5:40  @       GNB   19   \n",
       "\n",
       "  Game_Number  ... rushing_yards_per_attempt rushing_touchdowns total_yards  \\\n",
       "0          20  ...                      6.41                  1         351   \n",
       "1          19  ...                      3.88                  1         358   \n",
       "2          20  ...                      3.70                  1         295   \n",
       "3          19  ...                      4.48                  1         442   \n",
       "4          19  ...                      4.58                  2         375   \n",
       "\n",
       "  offensive_plays yards_per_play_offense defensive_plays  \\\n",
       "0              54                 6.5000              75   \n",
       "1              58                 6.1724              51   \n",
       "2              58                 5.0862              64   \n",
       "3              78                 5.6667              57   \n",
       "4              60                 6.2500              59   \n",
       "\n",
       "  yards_allowed_per_defensive_play turnovers_lost time_of_possession  \\\n",
       "0                           5.2933              2              26:47   \n",
       "1                           6.9412              3              31:13   \n",
       "2                           6.3125            NaN              30:10   \n",
       "3                           7.6140              1              34:35   \n",
       "4                           5.8305            NaN              30:31   \n",
       "\n",
       "  game_duration  \n",
       "0          3:29  \n",
       "1          3:03  \n",
       "2          3:04  \n",
       "3          3:25  \n",
       "4          3:09  \n",
       "\n",
       "[5 rows x 42 columns]"
      ]
     },
     "execution_count": 22,
     "metadata": {},
     "output_type": "execute_result"
    }
   ],
   "source": [
    "odds2_df.head()"
   ]
  },
  {
   "cell_type": "code",
   "execution_count": 23,
   "metadata": {
    "ExecuteTime": {
     "end_time": "2020-05-09T14:35:53.146279Z",
     "start_time": "2020-05-09T14:35:53.131638Z"
    }
   },
   "outputs": [
    {
     "data": {
      "text/plain": [
       "Index(['rk', 'Home_team', 'year', 'date', 'time', 'local_time', 'at',\n",
       "       'Away_team', 'Week', 'Game_Number', 'day', 'result', 'OT', 'points_for',\n",
       "       'points_against', 'point_differential', 'combined_points', 'spread',\n",
       "       'vs_line', 'over_under', 'over_under_result', 'pass_completions',\n",
       "       'pass_attempts', 'completion_percentage', 'passing_yards',\n",
       "       'passing_touchdowns', 'interceptions', 'times_sacked',\n",
       "       'sack_yards_lost', 'qbr', 'rushing_attempts', 'rushing_yards',\n",
       "       'rushing_yards_per_attempt', 'rushing_touchdowns', 'total_yards',\n",
       "       'offensive_plays', 'yards_per_play_offense', 'defensive_plays',\n",
       "       'yards_allowed_per_defensive_play', 'turnovers_lost',\n",
       "       'time_of_possession', 'game_duration'],\n",
       "      dtype='object')"
      ]
     },
     "execution_count": 23,
     "metadata": {},
     "output_type": "execute_result"
    }
   ],
   "source": [
    "odds2_df.columns"
   ]
  },
  {
   "cell_type": "code",
   "execution_count": 28,
   "metadata": {
    "ExecuteTime": {
     "end_time": "2020-05-09T15:06:28.882988Z",
     "start_time": "2020-05-09T15:06:28.876350Z"
    }
   },
   "outputs": [],
   "source": [
    "odds2_df = odds2_df.drop(columns=['rk', 'at'])"
   ]
  },
  {
   "cell_type": "code",
   "execution_count": 29,
   "metadata": {
    "ExecuteTime": {
     "end_time": "2020-05-09T15:06:31.498612Z",
     "start_time": "2020-05-09T15:06:31.471549Z"
    }
   },
   "outputs": [
    {
     "data": {
      "text/html": [
       "<div>\n",
       "<style scoped>\n",
       "    .dataframe tbody tr th:only-of-type {\n",
       "        vertical-align: middle;\n",
       "    }\n",
       "\n",
       "    .dataframe tbody tr th {\n",
       "        vertical-align: top;\n",
       "    }\n",
       "\n",
       "    .dataframe thead th {\n",
       "        text-align: right;\n",
       "    }\n",
       "</style>\n",
       "<table border=\"1\" class=\"dataframe\">\n",
       "  <thead>\n",
       "    <tr style=\"text-align: right;\">\n",
       "      <th></th>\n",
       "      <th>Home_team</th>\n",
       "      <th>year</th>\n",
       "      <th>date</th>\n",
       "      <th>time</th>\n",
       "      <th>local_time</th>\n",
       "      <th>Away_team</th>\n",
       "      <th>Week</th>\n",
       "      <th>Game_Number</th>\n",
       "      <th>day</th>\n",
       "      <th>result</th>\n",
       "      <th>...</th>\n",
       "      <th>rushing_yards_per_attempt</th>\n",
       "      <th>rushing_touchdowns</th>\n",
       "      <th>total_yards</th>\n",
       "      <th>offensive_plays</th>\n",
       "      <th>yards_per_play_offense</th>\n",
       "      <th>defensive_plays</th>\n",
       "      <th>yards_allowed_per_defensive_play</th>\n",
       "      <th>turnovers_lost</th>\n",
       "      <th>time_of_possession</th>\n",
       "      <th>game_duration</th>\n",
       "    </tr>\n",
       "  </thead>\n",
       "  <tbody>\n",
       "    <tr>\n",
       "      <td>0</td>\n",
       "      <td>SFO</td>\n",
       "      <td>2019</td>\n",
       "      <td>2020-02-02</td>\n",
       "      <td>6:30</td>\n",
       "      <td>6:30</td>\n",
       "      <td>KAN</td>\n",
       "      <td>21</td>\n",
       "      <td>20</td>\n",
       "      <td>Sun</td>\n",
       "      <td>L 20-31</td>\n",
       "      <td>...</td>\n",
       "      <td>6.41</td>\n",
       "      <td>1</td>\n",
       "      <td>351</td>\n",
       "      <td>54</td>\n",
       "      <td>6.5000</td>\n",
       "      <td>75</td>\n",
       "      <td>5.2933</td>\n",
       "      <td>2</td>\n",
       "      <td>26:47</td>\n",
       "      <td>3:29</td>\n",
       "    </tr>\n",
       "    <tr>\n",
       "      <td>1</td>\n",
       "      <td>GNB</td>\n",
       "      <td>2019</td>\n",
       "      <td>2020-01-19</td>\n",
       "      <td>6:40</td>\n",
       "      <td>3:40</td>\n",
       "      <td>SFO</td>\n",
       "      <td>20</td>\n",
       "      <td>19</td>\n",
       "      <td>Sun</td>\n",
       "      <td>L 20-37</td>\n",
       "      <td>...</td>\n",
       "      <td>3.88</td>\n",
       "      <td>1</td>\n",
       "      <td>358</td>\n",
       "      <td>58</td>\n",
       "      <td>6.1724</td>\n",
       "      <td>51</td>\n",
       "      <td>6.9412</td>\n",
       "      <td>3</td>\n",
       "      <td>31:13</td>\n",
       "      <td>3:03</td>\n",
       "    </tr>\n",
       "    <tr>\n",
       "      <td>2</td>\n",
       "      <td>TEN</td>\n",
       "      <td>2019</td>\n",
       "      <td>2020-01-19</td>\n",
       "      <td>3:05</td>\n",
       "      <td>2:05</td>\n",
       "      <td>KAN</td>\n",
       "      <td>20</td>\n",
       "      <td>20</td>\n",
       "      <td>Sun</td>\n",
       "      <td>L 24-35</td>\n",
       "      <td>...</td>\n",
       "      <td>3.70</td>\n",
       "      <td>1</td>\n",
       "      <td>295</td>\n",
       "      <td>58</td>\n",
       "      <td>5.0862</td>\n",
       "      <td>64</td>\n",
       "      <td>6.3125</td>\n",
       "      <td>NaN</td>\n",
       "      <td>30:10</td>\n",
       "      <td>3:04</td>\n",
       "    </tr>\n",
       "    <tr>\n",
       "      <td>3</td>\n",
       "      <td>HOU</td>\n",
       "      <td>2019</td>\n",
       "      <td>2020-01-12</td>\n",
       "      <td>3:05</td>\n",
       "      <td>2:05</td>\n",
       "      <td>KAN</td>\n",
       "      <td>19</td>\n",
       "      <td>19</td>\n",
       "      <td>Sun</td>\n",
       "      <td>L 31-51</td>\n",
       "      <td>...</td>\n",
       "      <td>4.48</td>\n",
       "      <td>1</td>\n",
       "      <td>442</td>\n",
       "      <td>78</td>\n",
       "      <td>5.6667</td>\n",
       "      <td>57</td>\n",
       "      <td>7.6140</td>\n",
       "      <td>1</td>\n",
       "      <td>34:35</td>\n",
       "      <td>3:25</td>\n",
       "    </tr>\n",
       "    <tr>\n",
       "      <td>4</td>\n",
       "      <td>SEA</td>\n",
       "      <td>2019</td>\n",
       "      <td>2020-01-12</td>\n",
       "      <td>6:40</td>\n",
       "      <td>5:40</td>\n",
       "      <td>GNB</td>\n",
       "      <td>19</td>\n",
       "      <td>19</td>\n",
       "      <td>Sun</td>\n",
       "      <td>L 23-28</td>\n",
       "      <td>...</td>\n",
       "      <td>4.58</td>\n",
       "      <td>2</td>\n",
       "      <td>375</td>\n",
       "      <td>60</td>\n",
       "      <td>6.2500</td>\n",
       "      <td>59</td>\n",
       "      <td>5.8305</td>\n",
       "      <td>NaN</td>\n",
       "      <td>30:31</td>\n",
       "      <td>3:09</td>\n",
       "    </tr>\n",
       "  </tbody>\n",
       "</table>\n",
       "<p>5 rows × 40 columns</p>\n",
       "</div>"
      ],
      "text/plain": [
       "  Home_team  year        date  time local_time Away_team Week Game_Number  \\\n",
       "0       SFO  2019  2020-02-02  6:30       6:30       KAN   21          20   \n",
       "1       GNB  2019  2020-01-19  6:40       3:40       SFO   20          19   \n",
       "2       TEN  2019  2020-01-19  3:05       2:05       KAN   20          20   \n",
       "3       HOU  2019  2020-01-12  3:05       2:05       KAN   19          19   \n",
       "4       SEA  2019  2020-01-12  6:40       5:40       GNB   19          19   \n",
       "\n",
       "   day   result  ... rushing_yards_per_attempt rushing_touchdowns total_yards  \\\n",
       "0  Sun  L 20-31  ...                      6.41                  1         351   \n",
       "1  Sun  L 20-37  ...                      3.88                  1         358   \n",
       "2  Sun  L 24-35  ...                      3.70                  1         295   \n",
       "3  Sun  L 31-51  ...                      4.48                  1         442   \n",
       "4  Sun  L 23-28  ...                      4.58                  2         375   \n",
       "\n",
       "  offensive_plays yards_per_play_offense defensive_plays  \\\n",
       "0              54                 6.5000              75   \n",
       "1              58                 6.1724              51   \n",
       "2              58                 5.0862              64   \n",
       "3              78                 5.6667              57   \n",
       "4              60                 6.2500              59   \n",
       "\n",
       "  yards_allowed_per_defensive_play turnovers_lost time_of_possession  \\\n",
       "0                           5.2933              2              26:47   \n",
       "1                           6.9412              3              31:13   \n",
       "2                           6.3125            NaN              30:10   \n",
       "3                           7.6140              1              34:35   \n",
       "4                           5.8305            NaN              30:31   \n",
       "\n",
       "  game_duration  \n",
       "0          3:29  \n",
       "1          3:03  \n",
       "2          3:04  \n",
       "3          3:25  \n",
       "4          3:09  \n",
       "\n",
       "[5 rows x 40 columns]"
      ]
     },
     "execution_count": 29,
     "metadata": {},
     "output_type": "execute_result"
    }
   ],
   "source": [
    "odds2_df.head()"
   ]
  },
  {
   "cell_type": "code",
   "execution_count": 56,
   "metadata": {
    "ExecuteTime": {
     "end_time": "2020-05-09T15:30:13.676728Z",
     "start_time": "2020-05-09T15:30:13.670839Z"
    }
   },
   "outputs": [
    {
     "data": {
      "text/plain": [
       "'52.5'"
      ]
     },
     "execution_count": 56,
     "metadata": {},
     "output_type": "execute_result"
    }
   ],
   "source": [
    "odds2_df['over_under'][0]"
   ]
  },
  {
   "cell_type": "code",
   "execution_count": 34,
   "metadata": {
    "ExecuteTime": {
     "end_time": "2020-05-09T15:09:17.238926Z",
     "start_time": "2020-05-09T15:09:17.233237Z"
    }
   },
   "outputs": [],
   "source": [
    "odds2_df = odds2_df.reset_index()"
   ]
  },
  {
   "cell_type": "code",
   "execution_count": 37,
   "metadata": {
    "ExecuteTime": {
     "end_time": "2020-05-09T15:09:46.021727Z",
     "start_time": "2020-05-09T15:09:46.015194Z"
    }
   },
   "outputs": [],
   "source": [
    "odds2_df = odds2_df.drop(columns='index')"
   ]
  },
  {
   "cell_type": "code",
   "execution_count": 39,
   "metadata": {
    "ExecuteTime": {
     "end_time": "2020-05-09T15:10:14.316228Z",
     "start_time": "2020-05-09T15:10:14.310144Z"
    }
   },
   "outputs": [
    {
     "data": {
      "text/plain": [
       "str"
      ]
     },
     "execution_count": 39,
     "metadata": {},
     "output_type": "execute_result"
    }
   ],
   "source": [
    "type(odds2_df['point_differential'][0])"
   ]
  },
  {
   "cell_type": "code",
   "execution_count": 55,
   "metadata": {
    "ExecuteTime": {
     "end_time": "2020-05-09T15:27:13.460185Z",
     "start_time": "2020-05-09T15:27:13.453266Z"
    }
   },
   "outputs": [
    {
     "data": {
      "text/plain": [
       "40     7.0\n",
       "41     7.0\n",
       "42     3.0\n",
       "43     8.0\n",
       "44    10.5\n",
       "45     1.0\n",
       "46     6.0\n",
       "47     4.0\n",
       "48    10.5\n",
       "49     3.0\n",
       "50     1.0\n",
       "51    10.0\n",
       "52     5.5\n",
       "53     3.0\n",
       "54     7.0\n",
       "55     3.5\n",
       "56     1.0\n",
       "57     7.0\n",
       "58    17.0\n",
       "59     9.5\n",
       "Name: spread, dtype: object"
      ]
     },
     "execution_count": 55,
     "metadata": {},
     "output_type": "execute_result"
    }
   ],
   "source": [
    "odds2_df['spread'][40:60]"
   ]
  },
  {
   "cell_type": "code",
   "execution_count": 47,
   "metadata": {
    "ExecuteTime": {
     "end_time": "2020-05-09T15:23:23.128348Z",
     "start_time": "2020-05-09T15:23:23.118185Z"
    }
   },
   "outputs": [
    {
     "data": {
      "text/plain": [
       "array(['not covered', 'covered', 'push'], dtype=object)"
      ]
     },
     "execution_count": 47,
     "metadata": {},
     "output_type": "execute_result"
    }
   ],
   "source": [
    "odds2_df['vs_line'].unique()"
   ]
  },
  {
   "cell_type": "code",
   "execution_count": 40,
   "metadata": {
    "ExecuteTime": {
     "end_time": "2020-05-09T15:10:27.061007Z",
     "start_time": "2020-05-09T15:10:27.045061Z"
    }
   },
   "outputs": [
    {
     "name": "stdout",
     "output_type": "stream",
     "text": [
      "<class 'pandas.core.frame.DataFrame'>\n",
      "RangeIndex: 267 entries, 0 to 266\n",
      "Data columns (total 40 columns):\n",
      "Home_team                           267 non-null object\n",
      "year                                267 non-null object\n",
      "date                                267 non-null object\n",
      "time                                267 non-null object\n",
      "local_time                          267 non-null object\n",
      "Away_team                           267 non-null object\n",
      "Week                                267 non-null object\n",
      "Game_Number                         267 non-null object\n",
      "day                                 267 non-null object\n",
      "result                              267 non-null object\n",
      "OT                                  11 non-null object\n",
      "points_for                          267 non-null object\n",
      "points_against                      267 non-null object\n",
      "point_differential                  267 non-null object\n",
      "combined_points                     267 non-null object\n",
      "spread                              267 non-null object\n",
      "vs_line                             267 non-null object\n",
      "over_under                          267 non-null object\n",
      "over_under_result                   267 non-null object\n",
      "pass_completions                    267 non-null object\n",
      "pass_attempts                       267 non-null object\n",
      "completion_percentage               267 non-null object\n",
      "passing_yards                       267 non-null object\n",
      "passing_touchdowns                  267 non-null object\n",
      "interceptions                       267 non-null object\n",
      "times_sacked                        267 non-null object\n",
      "sack_yards_lost                     267 non-null object\n",
      "qbr                                 267 non-null object\n",
      "rushing_attempts                    267 non-null object\n",
      "rushing_yards                       267 non-null object\n",
      "rushing_yards_per_attempt           267 non-null object\n",
      "rushing_touchdowns                  267 non-null object\n",
      "total_yards                         267 non-null object\n",
      "offensive_plays                     267 non-null object\n",
      "yards_per_play_offense              267 non-null object\n",
      "defensive_plays                     267 non-null object\n",
      "yards_allowed_per_defensive_play    267 non-null object\n",
      "turnovers_lost                      206 non-null object\n",
      "time_of_possession                  267 non-null object\n",
      "game_duration                       267 non-null object\n",
      "dtypes: object(40)\n",
      "memory usage: 83.6+ KB\n"
     ]
    }
   ],
   "source": [
    "odds2_df.info()"
   ]
  },
  {
   "cell_type": "code",
   "execution_count": 58,
   "metadata": {
    "ExecuteTime": {
     "end_time": "2020-05-09T15:34:08.060555Z",
     "start_time": "2020-05-09T15:34:08.032806Z"
    }
   },
   "outputs": [
    {
     "data": {
      "text/html": [
       "<div>\n",
       "<style scoped>\n",
       "    .dataframe tbody tr th:only-of-type {\n",
       "        vertical-align: middle;\n",
       "    }\n",
       "\n",
       "    .dataframe tbody tr th {\n",
       "        vertical-align: top;\n",
       "    }\n",
       "\n",
       "    .dataframe thead th {\n",
       "        text-align: right;\n",
       "    }\n",
       "</style>\n",
       "<table border=\"1\" class=\"dataframe\">\n",
       "  <thead>\n",
       "    <tr style=\"text-align: right;\">\n",
       "      <th></th>\n",
       "      <th>Home_team</th>\n",
       "      <th>year</th>\n",
       "      <th>date</th>\n",
       "      <th>time</th>\n",
       "      <th>local_time</th>\n",
       "      <th>Away_team</th>\n",
       "      <th>Week</th>\n",
       "      <th>Game_Number</th>\n",
       "      <th>day</th>\n",
       "      <th>result</th>\n",
       "      <th>...</th>\n",
       "      <th>rushing_yards_per_attempt</th>\n",
       "      <th>rushing_touchdowns</th>\n",
       "      <th>total_yards</th>\n",
       "      <th>offensive_plays</th>\n",
       "      <th>yards_per_play_offense</th>\n",
       "      <th>defensive_plays</th>\n",
       "      <th>yards_allowed_per_defensive_play</th>\n",
       "      <th>turnovers_lost</th>\n",
       "      <th>time_of_possession</th>\n",
       "      <th>game_duration</th>\n",
       "    </tr>\n",
       "  </thead>\n",
       "  <tbody>\n",
       "    <tr>\n",
       "      <td>0</td>\n",
       "      <td>SFO</td>\n",
       "      <td>2019</td>\n",
       "      <td>2020-02-02</td>\n",
       "      <td>6:30</td>\n",
       "      <td>6:30</td>\n",
       "      <td>KAN</td>\n",
       "      <td>21</td>\n",
       "      <td>20</td>\n",
       "      <td>Sun</td>\n",
       "      <td>L 20-31</td>\n",
       "      <td>...</td>\n",
       "      <td>6.41</td>\n",
       "      <td>1</td>\n",
       "      <td>351</td>\n",
       "      <td>54</td>\n",
       "      <td>6.5000</td>\n",
       "      <td>75</td>\n",
       "      <td>5.2933</td>\n",
       "      <td>2</td>\n",
       "      <td>26:47</td>\n",
       "      <td>3:29</td>\n",
       "    </tr>\n",
       "    <tr>\n",
       "      <td>1</td>\n",
       "      <td>GNB</td>\n",
       "      <td>2019</td>\n",
       "      <td>2020-01-19</td>\n",
       "      <td>6:40</td>\n",
       "      <td>3:40</td>\n",
       "      <td>SFO</td>\n",
       "      <td>20</td>\n",
       "      <td>19</td>\n",
       "      <td>Sun</td>\n",
       "      <td>L 20-37</td>\n",
       "      <td>...</td>\n",
       "      <td>3.88</td>\n",
       "      <td>1</td>\n",
       "      <td>358</td>\n",
       "      <td>58</td>\n",
       "      <td>6.1724</td>\n",
       "      <td>51</td>\n",
       "      <td>6.9412</td>\n",
       "      <td>3</td>\n",
       "      <td>31:13</td>\n",
       "      <td>3:03</td>\n",
       "    </tr>\n",
       "    <tr>\n",
       "      <td>2</td>\n",
       "      <td>TEN</td>\n",
       "      <td>2019</td>\n",
       "      <td>2020-01-19</td>\n",
       "      <td>3:05</td>\n",
       "      <td>2:05</td>\n",
       "      <td>KAN</td>\n",
       "      <td>20</td>\n",
       "      <td>20</td>\n",
       "      <td>Sun</td>\n",
       "      <td>L 24-35</td>\n",
       "      <td>...</td>\n",
       "      <td>3.70</td>\n",
       "      <td>1</td>\n",
       "      <td>295</td>\n",
       "      <td>58</td>\n",
       "      <td>5.0862</td>\n",
       "      <td>64</td>\n",
       "      <td>6.3125</td>\n",
       "      <td>NaN</td>\n",
       "      <td>30:10</td>\n",
       "      <td>3:04</td>\n",
       "    </tr>\n",
       "    <tr>\n",
       "      <td>3</td>\n",
       "      <td>HOU</td>\n",
       "      <td>2019</td>\n",
       "      <td>2020-01-12</td>\n",
       "      <td>3:05</td>\n",
       "      <td>2:05</td>\n",
       "      <td>KAN</td>\n",
       "      <td>19</td>\n",
       "      <td>19</td>\n",
       "      <td>Sun</td>\n",
       "      <td>L 31-51</td>\n",
       "      <td>...</td>\n",
       "      <td>4.48</td>\n",
       "      <td>1</td>\n",
       "      <td>442</td>\n",
       "      <td>78</td>\n",
       "      <td>5.6667</td>\n",
       "      <td>57</td>\n",
       "      <td>7.6140</td>\n",
       "      <td>1</td>\n",
       "      <td>34:35</td>\n",
       "      <td>3:25</td>\n",
       "    </tr>\n",
       "    <tr>\n",
       "      <td>4</td>\n",
       "      <td>SEA</td>\n",
       "      <td>2019</td>\n",
       "      <td>2020-01-12</td>\n",
       "      <td>6:40</td>\n",
       "      <td>5:40</td>\n",
       "      <td>GNB</td>\n",
       "      <td>19</td>\n",
       "      <td>19</td>\n",
       "      <td>Sun</td>\n",
       "      <td>L 23-28</td>\n",
       "      <td>...</td>\n",
       "      <td>4.58</td>\n",
       "      <td>2</td>\n",
       "      <td>375</td>\n",
       "      <td>60</td>\n",
       "      <td>6.2500</td>\n",
       "      <td>59</td>\n",
       "      <td>5.8305</td>\n",
       "      <td>NaN</td>\n",
       "      <td>30:31</td>\n",
       "      <td>3:09</td>\n",
       "    </tr>\n",
       "  </tbody>\n",
       "</table>\n",
       "<p>5 rows × 40 columns</p>\n",
       "</div>"
      ],
      "text/plain": [
       "  Home_team  year        date  time local_time Away_team Week Game_Number  \\\n",
       "0       SFO  2019  2020-02-02  6:30       6:30       KAN   21          20   \n",
       "1       GNB  2019  2020-01-19  6:40       3:40       SFO   20          19   \n",
       "2       TEN  2019  2020-01-19  3:05       2:05       KAN   20          20   \n",
       "3       HOU  2019  2020-01-12  3:05       2:05       KAN   19          19   \n",
       "4       SEA  2019  2020-01-12  6:40       5:40       GNB   19          19   \n",
       "\n",
       "   day   result  ... rushing_yards_per_attempt rushing_touchdowns total_yards  \\\n",
       "0  Sun  L 20-31  ...                      6.41                  1         351   \n",
       "1  Sun  L 20-37  ...                      3.88                  1         358   \n",
       "2  Sun  L 24-35  ...                      3.70                  1         295   \n",
       "3  Sun  L 31-51  ...                      4.48                  1         442   \n",
       "4  Sun  L 23-28  ...                      4.58                  2         375   \n",
       "\n",
       "  offensive_plays yards_per_play_offense defensive_plays  \\\n",
       "0              54                 6.5000              75   \n",
       "1              58                 6.1724              51   \n",
       "2              58                 5.0862              64   \n",
       "3              78                 5.6667              57   \n",
       "4              60                 6.2500              59   \n",
       "\n",
       "  yards_allowed_per_defensive_play turnovers_lost time_of_possession  \\\n",
       "0                           5.2933              2              26:47   \n",
       "1                           6.9412              3              31:13   \n",
       "2                           6.3125            NaN              30:10   \n",
       "3                           7.6140              1              34:35   \n",
       "4                           5.8305            NaN              30:31   \n",
       "\n",
       "  game_duration  \n",
       "0          3:29  \n",
       "1          3:03  \n",
       "2          3:04  \n",
       "3          3:25  \n",
       "4          3:09  \n",
       "\n",
       "[5 rows x 40 columns]"
      ]
     },
     "execution_count": 58,
     "metadata": {},
     "output_type": "execute_result"
    }
   ],
   "source": [
    "odds2_df.head()"
   ]
  },
  {
   "cell_type": "code",
   "execution_count": 60,
   "metadata": {
    "ExecuteTime": {
     "end_time": "2020-05-09T15:38:07.283354Z",
     "start_time": "2020-05-09T15:38:07.277068Z"
    }
   },
   "outputs": [
    {
     "data": {
      "text/plain": [
       "Index(['Home_team', 'year', 'date', 'time', 'local_time', 'Away_team', 'Week',\n",
       "       'Game_Number', 'day', 'result', 'OT', 'points_for', 'points_against',\n",
       "       'point_differential', 'combined_points', 'spread', 'vs_line',\n",
       "       'over_under', 'over_under_result', 'pass_completions', 'pass_attempts',\n",
       "       'completion_percentage', 'passing_yards', 'passing_touchdowns',\n",
       "       'interceptions', 'times_sacked', 'sack_yards_lost', 'qbr',\n",
       "       'rushing_attempts', 'rushing_yards', 'rushing_yards_per_attempt',\n",
       "       'rushing_touchdowns', 'total_yards', 'offensive_plays',\n",
       "       'yards_per_play_offense', 'defensive_plays',\n",
       "       'yards_allowed_per_defensive_play', 'turnovers_lost',\n",
       "       'time_of_possession', 'game_duration'],\n",
       "      dtype='object')"
      ]
     },
     "execution_count": 60,
     "metadata": {},
     "output_type": "execute_result"
    }
   ],
   "source": [
    "odds2_df.columns"
   ]
  },
  {
   "cell_type": "code",
   "execution_count": 68,
   "metadata": {
    "ExecuteTime": {
     "end_time": "2020-05-09T15:45:27.538970Z",
     "start_time": "2020-05-09T15:45:27.529167Z"
    }
   },
   "outputs": [
    {
     "data": {
      "text/plain": [
       "'21'"
      ]
     },
     "execution_count": 68,
     "metadata": {},
     "output_type": "execute_result"
    }
   ],
   "source": [
    "odds2_df['Week'][0]"
   ]
  },
  {
   "cell_type": "code",
   "execution_count": 73,
   "metadata": {
    "ExecuteTime": {
     "end_time": "2020-05-09T15:49:53.891281Z",
     "start_time": "2020-05-09T15:49:53.880955Z"
    }
   },
   "outputs": [],
   "source": [
    "dfcolumns = ['Week','Game_Number', 'points_for', 'points_against',\n",
    "       'point_differential', 'combined_points', 'spread',\n",
    "       'over_under', 'pass_completions', 'pass_attempts',\n",
    "       'completion_percentage', 'passing_yards', 'passing_touchdowns',\n",
    "       'interceptions', 'times_sacked', 'sack_yards_lost', 'qbr',\n",
    "       'rushing_attempts', 'rushing_yards', 'rushing_yards_per_attempt',\n",
    "       'rushing_touchdowns', 'total_yards', 'offensive_plays',\n",
    "       'yards_per_play_offense', 'defensive_plays',\n",
    "       'yards_allowed_per_defensive_play', 'turnovers_lost']\n",
    "\n",
    "def text_to_num(text):\n",
    "    return float(text)\n",
    "\n",
    "def convert_into_float(data):\n",
    "    data[dfcolumns] = data[dfcolumns].applymap(text_to_num)\n",
    "    return data"
   ]
  },
  {
   "cell_type": "code",
   "execution_count": 74,
   "metadata": {
    "ExecuteTime": {
     "end_time": "2020-05-09T15:50:12.130885Z",
     "start_time": "2020-05-09T15:50:12.126242Z"
    }
   },
   "outputs": [
    {
     "data": {
      "text/plain": [
       "27"
      ]
     },
     "execution_count": 74,
     "metadata": {},
     "output_type": "execute_result"
    }
   ],
   "source": [
    "len(dfcolumns)"
   ]
  },
  {
   "cell_type": "code",
   "execution_count": 71,
   "metadata": {
    "ExecuteTime": {
     "end_time": "2020-05-09T15:48:49.139212Z",
     "start_time": "2020-05-09T15:48:49.114643Z"
    }
   },
   "outputs": [],
   "source": [
    "odds2_df = convert_into_float(odds2_df)"
   ]
  },
  {
   "cell_type": "code",
   "execution_count": 72,
   "metadata": {
    "ExecuteTime": {
     "end_time": "2020-05-09T15:49:03.963193Z",
     "start_time": "2020-05-09T15:49:03.941822Z"
    }
   },
   "outputs": [
    {
     "name": "stdout",
     "output_type": "stream",
     "text": [
      "<class 'pandas.core.frame.DataFrame'>\n",
      "RangeIndex: 267 entries, 0 to 266\n",
      "Data columns (total 40 columns):\n",
      "Home_team                           267 non-null object\n",
      "year                                267 non-null object\n",
      "date                                267 non-null object\n",
      "time                                267 non-null object\n",
      "local_time                          267 non-null object\n",
      "Away_team                           267 non-null object\n",
      "Week                                267 non-null float64\n",
      "Game_Number                         267 non-null float64\n",
      "day                                 267 non-null object\n",
      "result                              267 non-null object\n",
      "OT                                  11 non-null object\n",
      "points_for                          267 non-null float64\n",
      "points_against                      267 non-null float64\n",
      "point_differential                  267 non-null float64\n",
      "combined_points                     267 non-null float64\n",
      "spread                              267 non-null float64\n",
      "vs_line                             267 non-null object\n",
      "over_under                          267 non-null float64\n",
      "over_under_result                   267 non-null object\n",
      "pass_completions                    267 non-null float64\n",
      "pass_attempts                       267 non-null float64\n",
      "completion_percentage               267 non-null float64\n",
      "passing_yards                       267 non-null float64\n",
      "passing_touchdowns                  267 non-null float64\n",
      "interceptions                       267 non-null float64\n",
      "times_sacked                        267 non-null float64\n",
      "sack_yards_lost                     267 non-null float64\n",
      "qbr                                 267 non-null float64\n",
      "rushing_attempts                    267 non-null float64\n",
      "rushing_yards                       267 non-null float64\n",
      "rushing_yards_per_attempt           267 non-null float64\n",
      "rushing_touchdowns                  267 non-null float64\n",
      "total_yards                         267 non-null float64\n",
      "offensive_plays                     267 non-null float64\n",
      "yards_per_play_offense              267 non-null float64\n",
      "defensive_plays                     267 non-null float64\n",
      "yards_allowed_per_defensive_play    267 non-null float64\n",
      "turnovers_lost                      206 non-null float64\n",
      "time_of_possession                  267 non-null object\n",
      "game_duration                       267 non-null object\n",
      "dtypes: float64(27), object(13)\n",
      "memory usage: 83.6+ KB\n"
     ]
    }
   ],
   "source": [
    "odds2_df.info()"
   ]
  },
  {
   "cell_type": "code",
   "execution_count": 75,
   "metadata": {
    "ExecuteTime": {
     "end_time": "2020-05-09T15:53:35.634522Z",
     "start_time": "2020-05-09T15:53:35.610928Z"
    }
   },
   "outputs": [],
   "source": [
    "odds2_df.replace(to_replace=['not covered', 'covered', 'push'], value = [-1,1,0], inplace=True)\n"
   ]
  },
  {
   "cell_type": "code",
   "execution_count": 76,
   "metadata": {
    "ExecuteTime": {
     "end_time": "2020-05-09T15:53:38.115602Z",
     "start_time": "2020-05-09T15:53:38.103548Z"
    }
   },
   "outputs": [],
   "source": [
    "odds2_df.replace(to_replace=['under', 'over', 'push'], value = [-1,1,0], inplace=True)"
   ]
  },
  {
   "cell_type": "code",
   "execution_count": 100,
   "metadata": {
    "ExecuteTime": {
     "end_time": "2020-05-09T16:38:15.228878Z",
     "start_time": "2020-05-09T16:38:15.224269Z"
    }
   },
   "outputs": [
    {
     "data": {
      "text/plain": [
       "'2020-02-02'"
      ]
     },
     "execution_count": 100,
     "metadata": {},
     "output_type": "execute_result"
    }
   ],
   "source": [
    "odds2_df['date'][0]"
   ]
  },
  {
   "cell_type": "code",
   "execution_count": 94,
   "metadata": {
    "ExecuteTime": {
     "end_time": "2020-05-09T16:28:32.759142Z",
     "start_time": "2020-05-09T16:28:32.751612Z"
    }
   },
   "outputs": [
    {
     "data": {
      "text/plain": [
       "'2019'"
      ]
     },
     "execution_count": 94,
     "metadata": {},
     "output_type": "execute_result"
    }
   ],
   "source": [
    "odds2_df['year'][0]"
   ]
  },
  {
   "cell_type": "code",
   "execution_count": 106,
   "metadata": {
    "ExecuteTime": {
     "end_time": "2020-05-09T16:41:29.349975Z",
     "start_time": "2020-05-09T16:41:29.334820Z"
    }
   },
   "outputs": [],
   "source": [
    "odds2_df = odds2_df.drop(columns='year')"
   ]
  },
  {
   "cell_type": "code",
   "execution_count": 96,
   "metadata": {
    "ExecuteTime": {
     "end_time": "2020-05-09T16:29:27.334257Z",
     "start_time": "2020-05-09T16:29:27.328294Z"
    }
   },
   "outputs": [
    {
     "data": {
      "text/plain": [
       "'3:29'"
      ]
     },
     "execution_count": 96,
     "metadata": {},
     "output_type": "execute_result"
    }
   ],
   "source": [
    "odds2_df['game_duration'][0]"
   ]
  },
  {
   "cell_type": "code",
   "execution_count": 97,
   "metadata": {
    "ExecuteTime": {
     "end_time": "2020-05-09T16:29:34.964721Z",
     "start_time": "2020-05-09T16:29:34.959492Z"
    }
   },
   "outputs": [
    {
     "data": {
      "text/plain": [
       "'26:47'"
      ]
     },
     "execution_count": 97,
     "metadata": {},
     "output_type": "execute_result"
    }
   ],
   "source": [
    "odds2_df['time_of_possession'][0]"
   ]
  },
  {
   "cell_type": "code",
   "execution_count": 99,
   "metadata": {
    "ExecuteTime": {
     "end_time": "2020-05-09T16:37:27.285827Z",
     "start_time": "2020-05-09T16:37:27.278665Z"
    }
   },
   "outputs": [
    {
     "data": {
      "text/plain": [
       "'2019'"
      ]
     },
     "execution_count": 99,
     "metadata": {},
     "output_type": "execute_result"
    }
   ],
   "source": [
    "odds2_df['year'][0]"
   ]
  },
  {
   "cell_type": "code",
   "execution_count": 107,
   "metadata": {
    "ExecuteTime": {
     "end_time": "2020-05-09T16:41:35.896424Z",
     "start_time": "2020-05-09T16:41:35.890638Z"
    }
   },
   "outputs": [],
   "source": [
    "odds2_df['game_date_time'] = odds2_df['date'] +' '+ odds2_df['local_time']"
   ]
  },
  {
   "cell_type": "code",
   "execution_count": 108,
   "metadata": {
    "ExecuteTime": {
     "end_time": "2020-05-09T16:41:38.023832Z",
     "start_time": "2020-05-09T16:41:38.019197Z"
    }
   },
   "outputs": [
    {
     "data": {
      "text/plain": [
       "'2020-02-02 6:30'"
      ]
     },
     "execution_count": 108,
     "metadata": {},
     "output_type": "execute_result"
    }
   ],
   "source": [
    "odds2_df['game_date_time'][0]"
   ]
  },
  {
   "cell_type": "code",
   "execution_count": 109,
   "metadata": {
    "ExecuteTime": {
     "end_time": "2020-05-09T16:41:42.354600Z",
     "start_time": "2020-05-09T16:41:42.349135Z"
    }
   },
   "outputs": [
    {
     "data": {
      "text/plain": [
       "Timestamp('2020-02-02 06:30:00')"
      ]
     },
     "execution_count": 109,
     "metadata": {},
     "output_type": "execute_result"
    }
   ],
   "source": [
    "x = pd.to_datetime(odds2_df['game_date_time'][0])\n",
    "x"
   ]
  },
  {
   "cell_type": "code",
   "execution_count": 110,
   "metadata": {
    "ExecuteTime": {
     "end_time": "2020-05-09T16:42:45.341722Z",
     "start_time": "2020-05-09T16:42:45.296119Z"
    }
   },
   "outputs": [],
   "source": [
    "odds2_df['game_date_time'] = odds2_df['game_date_time'].apply(lambda x: pd.to_datetime(x))"
   ]
  },
  {
   "cell_type": "code",
   "execution_count": 118,
   "metadata": {
    "ExecuteTime": {
     "end_time": "2020-05-09T16:55:39.418156Z",
     "start_time": "2020-05-09T16:55:39.413076Z"
    }
   },
   "outputs": [
    {
     "data": {
      "text/plain": [
       "'26:47'"
      ]
     },
     "execution_count": 118,
     "metadata": {},
     "output_type": "execute_result"
    }
   ],
   "source": [
    "odds2_df['time_of_possession'][0]"
   ]
  },
  {
   "cell_type": "code",
   "execution_count": 117,
   "metadata": {
    "ExecuteTime": {
     "end_time": "2020-05-09T16:51:46.139302Z",
     "start_time": "2020-05-09T16:51:46.130342Z"
    }
   },
   "outputs": [
    {
     "data": {
      "text/plain": [
       "0.4463888888888889"
      ]
     },
     "execution_count": 117,
     "metadata": {},
     "output_type": "execute_result"
    }
   ],
   "source": [
    "                                                                                                                                     \n",
    "\n",
    "float(odds2_df['time_of_possession'][0].split(':')[0])/60 + float(odds2_df['time_of_possession'][0].split(':')[1])/3600"
   ]
  },
  {
   "cell_type": "code",
   "execution_count": 121,
   "metadata": {
    "ExecuteTime": {
     "end_time": "2020-05-09T17:03:51.537381Z",
     "start_time": "2020-05-09T17:03:51.532313Z"
    }
   },
   "outputs": [],
   "source": [
    "def top_ratio(text):\n",
    "    return float(text.split(':')[0])/60 + float(text.split(':')[1])/3600\n",
    "def time_of_possession_to_ratio(data):\n",
    "    data['time_of_possession'] = data['time_of_possession'].apply(lambda x: top_ratio(x))\n",
    "    return data"
   ]
  },
  {
   "cell_type": "code",
   "execution_count": 123,
   "metadata": {
    "ExecuteTime": {
     "end_time": "2020-05-09T17:04:11.220990Z",
     "start_time": "2020-05-09T17:04:11.182529Z"
    }
   },
   "outputs": [
    {
     "ename": "AttributeError",
     "evalue": "'float' object has no attribute 'split'",
     "output_type": "error",
     "traceback": [
      "\u001b[0;31m---------------------------------------------------------------------------\u001b[0m",
      "\u001b[0;31mAttributeError\u001b[0m                            Traceback (most recent call last)",
      "\u001b[0;32m<ipython-input-123-d1437068e9cb>\u001b[0m in \u001b[0;36m<module>\u001b[0;34m\u001b[0m\n\u001b[0;32m----> 1\u001b[0;31m \u001b[0modds2_df\u001b[0m \u001b[0;34m=\u001b[0m \u001b[0mtime_of_possession_to_ratio\u001b[0m\u001b[0;34m(\u001b[0m\u001b[0modds2_df\u001b[0m\u001b[0;34m)\u001b[0m\u001b[0;34m\u001b[0m\u001b[0;34m\u001b[0m\u001b[0m\n\u001b[0m",
      "\u001b[0;32m<ipython-input-121-1c726b746ba4>\u001b[0m in \u001b[0;36mtime_of_possession_to_ratio\u001b[0;34m(data)\u001b[0m\n\u001b[1;32m      2\u001b[0m     \u001b[0;32mreturn\u001b[0m \u001b[0mfloat\u001b[0m\u001b[0;34m(\u001b[0m\u001b[0mtext\u001b[0m\u001b[0;34m.\u001b[0m\u001b[0msplit\u001b[0m\u001b[0;34m(\u001b[0m\u001b[0;34m':'\u001b[0m\u001b[0;34m)\u001b[0m\u001b[0;34m[\u001b[0m\u001b[0;36m0\u001b[0m\u001b[0;34m]\u001b[0m\u001b[0;34m)\u001b[0m\u001b[0;34m/\u001b[0m\u001b[0;36m60\u001b[0m \u001b[0;34m+\u001b[0m \u001b[0mfloat\u001b[0m\u001b[0;34m(\u001b[0m\u001b[0mtext\u001b[0m\u001b[0;34m.\u001b[0m\u001b[0msplit\u001b[0m\u001b[0;34m(\u001b[0m\u001b[0;34m':'\u001b[0m\u001b[0;34m)\u001b[0m\u001b[0;34m[\u001b[0m\u001b[0;36m1\u001b[0m\u001b[0;34m]\u001b[0m\u001b[0;34m)\u001b[0m\u001b[0;34m/\u001b[0m\u001b[0;36m3600\u001b[0m\u001b[0;34m\u001b[0m\u001b[0;34m\u001b[0m\u001b[0m\n\u001b[1;32m      3\u001b[0m \u001b[0;32mdef\u001b[0m \u001b[0mtime_of_possession_to_ratio\u001b[0m\u001b[0;34m(\u001b[0m\u001b[0mdata\u001b[0m\u001b[0;34m)\u001b[0m\u001b[0;34m:\u001b[0m\u001b[0;34m\u001b[0m\u001b[0;34m\u001b[0m\u001b[0m\n\u001b[0;32m----> 4\u001b[0;31m     \u001b[0mdata\u001b[0m\u001b[0;34m[\u001b[0m\u001b[0;34m'time_of_possession'\u001b[0m\u001b[0;34m]\u001b[0m \u001b[0;34m=\u001b[0m \u001b[0mdata\u001b[0m\u001b[0;34m[\u001b[0m\u001b[0;34m'time_of_possession'\u001b[0m\u001b[0;34m]\u001b[0m\u001b[0;34m.\u001b[0m\u001b[0mapply\u001b[0m\u001b[0;34m(\u001b[0m\u001b[0;32mlambda\u001b[0m \u001b[0mx\u001b[0m\u001b[0;34m:\u001b[0m \u001b[0mtop_ratio\u001b[0m\u001b[0;34m(\u001b[0m\u001b[0mx\u001b[0m\u001b[0;34m)\u001b[0m\u001b[0;34m)\u001b[0m\u001b[0;34m\u001b[0m\u001b[0;34m\u001b[0m\u001b[0m\n\u001b[0m\u001b[1;32m      5\u001b[0m     \u001b[0;32mreturn\u001b[0m \u001b[0mdata\u001b[0m\u001b[0;34m\u001b[0m\u001b[0;34m\u001b[0m\u001b[0m\n",
      "\u001b[0;32m~/anaconda3/lib/python3.7/site-packages/pandas/core/series.py\u001b[0m in \u001b[0;36mapply\u001b[0;34m(self, func, convert_dtype, args, **kwds)\u001b[0m\n\u001b[1;32m   4040\u001b[0m             \u001b[0;32melse\u001b[0m\u001b[0;34m:\u001b[0m\u001b[0;34m\u001b[0m\u001b[0;34m\u001b[0m\u001b[0m\n\u001b[1;32m   4041\u001b[0m                 \u001b[0mvalues\u001b[0m \u001b[0;34m=\u001b[0m \u001b[0mself\u001b[0m\u001b[0;34m.\u001b[0m\u001b[0mastype\u001b[0m\u001b[0;34m(\u001b[0m\u001b[0mobject\u001b[0m\u001b[0;34m)\u001b[0m\u001b[0;34m.\u001b[0m\u001b[0mvalues\u001b[0m\u001b[0;34m\u001b[0m\u001b[0;34m\u001b[0m\u001b[0m\n\u001b[0;32m-> 4042\u001b[0;31m                 \u001b[0mmapped\u001b[0m \u001b[0;34m=\u001b[0m \u001b[0mlib\u001b[0m\u001b[0;34m.\u001b[0m\u001b[0mmap_infer\u001b[0m\u001b[0;34m(\u001b[0m\u001b[0mvalues\u001b[0m\u001b[0;34m,\u001b[0m \u001b[0mf\u001b[0m\u001b[0;34m,\u001b[0m \u001b[0mconvert\u001b[0m\u001b[0;34m=\u001b[0m\u001b[0mconvert_dtype\u001b[0m\u001b[0;34m)\u001b[0m\u001b[0;34m\u001b[0m\u001b[0;34m\u001b[0m\u001b[0m\n\u001b[0m\u001b[1;32m   4043\u001b[0m \u001b[0;34m\u001b[0m\u001b[0m\n\u001b[1;32m   4044\u001b[0m         \u001b[0;32mif\u001b[0m \u001b[0mlen\u001b[0m\u001b[0;34m(\u001b[0m\u001b[0mmapped\u001b[0m\u001b[0;34m)\u001b[0m \u001b[0;32mand\u001b[0m \u001b[0misinstance\u001b[0m\u001b[0;34m(\u001b[0m\u001b[0mmapped\u001b[0m\u001b[0;34m[\u001b[0m\u001b[0;36m0\u001b[0m\u001b[0;34m]\u001b[0m\u001b[0;34m,\u001b[0m \u001b[0mSeries\u001b[0m\u001b[0;34m)\u001b[0m\u001b[0;34m:\u001b[0m\u001b[0;34m\u001b[0m\u001b[0;34m\u001b[0m\u001b[0m\n",
      "\u001b[0;32mpandas/_libs/lib.pyx\u001b[0m in \u001b[0;36mpandas._libs.lib.map_infer\u001b[0;34m()\u001b[0m\n",
      "\u001b[0;32m<ipython-input-121-1c726b746ba4>\u001b[0m in \u001b[0;36m<lambda>\u001b[0;34m(x)\u001b[0m\n\u001b[1;32m      2\u001b[0m     \u001b[0;32mreturn\u001b[0m \u001b[0mfloat\u001b[0m\u001b[0;34m(\u001b[0m\u001b[0mtext\u001b[0m\u001b[0;34m.\u001b[0m\u001b[0msplit\u001b[0m\u001b[0;34m(\u001b[0m\u001b[0;34m':'\u001b[0m\u001b[0;34m)\u001b[0m\u001b[0;34m[\u001b[0m\u001b[0;36m0\u001b[0m\u001b[0;34m]\u001b[0m\u001b[0;34m)\u001b[0m\u001b[0;34m/\u001b[0m\u001b[0;36m60\u001b[0m \u001b[0;34m+\u001b[0m \u001b[0mfloat\u001b[0m\u001b[0;34m(\u001b[0m\u001b[0mtext\u001b[0m\u001b[0;34m.\u001b[0m\u001b[0msplit\u001b[0m\u001b[0;34m(\u001b[0m\u001b[0;34m':'\u001b[0m\u001b[0;34m)\u001b[0m\u001b[0;34m[\u001b[0m\u001b[0;36m1\u001b[0m\u001b[0;34m]\u001b[0m\u001b[0;34m)\u001b[0m\u001b[0;34m/\u001b[0m\u001b[0;36m3600\u001b[0m\u001b[0;34m\u001b[0m\u001b[0;34m\u001b[0m\u001b[0m\n\u001b[1;32m      3\u001b[0m \u001b[0;32mdef\u001b[0m \u001b[0mtime_of_possession_to_ratio\u001b[0m\u001b[0;34m(\u001b[0m\u001b[0mdata\u001b[0m\u001b[0;34m)\u001b[0m\u001b[0;34m:\u001b[0m\u001b[0;34m\u001b[0m\u001b[0;34m\u001b[0m\u001b[0m\n\u001b[0;32m----> 4\u001b[0;31m     \u001b[0mdata\u001b[0m\u001b[0;34m[\u001b[0m\u001b[0;34m'time_of_possession'\u001b[0m\u001b[0;34m]\u001b[0m \u001b[0;34m=\u001b[0m \u001b[0mdata\u001b[0m\u001b[0;34m[\u001b[0m\u001b[0;34m'time_of_possession'\u001b[0m\u001b[0;34m]\u001b[0m\u001b[0;34m.\u001b[0m\u001b[0mapply\u001b[0m\u001b[0;34m(\u001b[0m\u001b[0;32mlambda\u001b[0m \u001b[0mx\u001b[0m\u001b[0;34m:\u001b[0m \u001b[0mtop_ratio\u001b[0m\u001b[0;34m(\u001b[0m\u001b[0mx\u001b[0m\u001b[0;34m)\u001b[0m\u001b[0;34m)\u001b[0m\u001b[0;34m\u001b[0m\u001b[0;34m\u001b[0m\u001b[0m\n\u001b[0m\u001b[1;32m      5\u001b[0m     \u001b[0;32mreturn\u001b[0m \u001b[0mdata\u001b[0m\u001b[0;34m\u001b[0m\u001b[0;34m\u001b[0m\u001b[0m\n",
      "\u001b[0;32m<ipython-input-121-1c726b746ba4>\u001b[0m in \u001b[0;36mtop_ratio\u001b[0;34m(text)\u001b[0m\n\u001b[1;32m      1\u001b[0m \u001b[0;32mdef\u001b[0m \u001b[0mtop_ratio\u001b[0m\u001b[0;34m(\u001b[0m\u001b[0mtext\u001b[0m\u001b[0;34m)\u001b[0m\u001b[0;34m:\u001b[0m\u001b[0;34m\u001b[0m\u001b[0;34m\u001b[0m\u001b[0m\n\u001b[0;32m----> 2\u001b[0;31m     \u001b[0;32mreturn\u001b[0m \u001b[0mfloat\u001b[0m\u001b[0;34m(\u001b[0m\u001b[0mtext\u001b[0m\u001b[0;34m.\u001b[0m\u001b[0msplit\u001b[0m\u001b[0;34m(\u001b[0m\u001b[0;34m':'\u001b[0m\u001b[0;34m)\u001b[0m\u001b[0;34m[\u001b[0m\u001b[0;36m0\u001b[0m\u001b[0;34m]\u001b[0m\u001b[0;34m)\u001b[0m\u001b[0;34m/\u001b[0m\u001b[0;36m60\u001b[0m \u001b[0;34m+\u001b[0m \u001b[0mfloat\u001b[0m\u001b[0;34m(\u001b[0m\u001b[0mtext\u001b[0m\u001b[0;34m.\u001b[0m\u001b[0msplit\u001b[0m\u001b[0;34m(\u001b[0m\u001b[0;34m':'\u001b[0m\u001b[0;34m)\u001b[0m\u001b[0;34m[\u001b[0m\u001b[0;36m1\u001b[0m\u001b[0;34m]\u001b[0m\u001b[0;34m)\u001b[0m\u001b[0;34m/\u001b[0m\u001b[0;36m3600\u001b[0m\u001b[0;34m\u001b[0m\u001b[0;34m\u001b[0m\u001b[0m\n\u001b[0m\u001b[1;32m      3\u001b[0m \u001b[0;32mdef\u001b[0m \u001b[0mtime_of_possession_to_ratio\u001b[0m\u001b[0;34m(\u001b[0m\u001b[0mdata\u001b[0m\u001b[0;34m)\u001b[0m\u001b[0;34m:\u001b[0m\u001b[0;34m\u001b[0m\u001b[0;34m\u001b[0m\u001b[0m\n\u001b[1;32m      4\u001b[0m     \u001b[0mdata\u001b[0m\u001b[0;34m[\u001b[0m\u001b[0;34m'time_of_possession'\u001b[0m\u001b[0;34m]\u001b[0m \u001b[0;34m=\u001b[0m \u001b[0mdata\u001b[0m\u001b[0;34m[\u001b[0m\u001b[0;34m'time_of_possession'\u001b[0m\u001b[0;34m]\u001b[0m\u001b[0;34m.\u001b[0m\u001b[0mapply\u001b[0m\u001b[0;34m(\u001b[0m\u001b[0;32mlambda\u001b[0m \u001b[0mx\u001b[0m\u001b[0;34m:\u001b[0m \u001b[0mtop_ratio\u001b[0m\u001b[0;34m(\u001b[0m\u001b[0mx\u001b[0m\u001b[0;34m)\u001b[0m\u001b[0;34m)\u001b[0m\u001b[0;34m\u001b[0m\u001b[0;34m\u001b[0m\u001b[0m\n\u001b[1;32m      5\u001b[0m     \u001b[0;32mreturn\u001b[0m \u001b[0mdata\u001b[0m\u001b[0;34m\u001b[0m\u001b[0;34m\u001b[0m\u001b[0m\n",
      "\u001b[0;31mAttributeError\u001b[0m: 'float' object has no attribute 'split'"
     ]
    }
   ],
   "source": [
    "time_of_possession_to_ratio(odds2_df)"
   ]
  },
  {
   "cell_type": "code",
   "execution_count": 124,
   "metadata": {
    "ExecuteTime": {
     "end_time": "2020-05-09T17:04:30.150872Z",
     "start_time": "2020-05-09T17:04:30.108416Z"
    }
   },
   "outputs": [
    {
     "data": {
      "text/html": [
       "<div>\n",
       "<style scoped>\n",
       "    .dataframe tbody tr th:only-of-type {\n",
       "        vertical-align: middle;\n",
       "    }\n",
       "\n",
       "    .dataframe tbody tr th {\n",
       "        vertical-align: top;\n",
       "    }\n",
       "\n",
       "    .dataframe thead th {\n",
       "        text-align: right;\n",
       "    }\n",
       "</style>\n",
       "<table border=\"1\" class=\"dataframe\">\n",
       "  <thead>\n",
       "    <tr style=\"text-align: right;\">\n",
       "      <th></th>\n",
       "      <th>Home_team</th>\n",
       "      <th>date</th>\n",
       "      <th>time</th>\n",
       "      <th>local_time</th>\n",
       "      <th>Away_team</th>\n",
       "      <th>Week</th>\n",
       "      <th>Game_Number</th>\n",
       "      <th>day</th>\n",
       "      <th>result</th>\n",
       "      <th>OT</th>\n",
       "      <th>...</th>\n",
       "      <th>rushing_touchdowns</th>\n",
       "      <th>total_yards</th>\n",
       "      <th>offensive_plays</th>\n",
       "      <th>yards_per_play_offense</th>\n",
       "      <th>defensive_plays</th>\n",
       "      <th>yards_allowed_per_defensive_play</th>\n",
       "      <th>turnovers_lost</th>\n",
       "      <th>time_of_possession</th>\n",
       "      <th>game_duration</th>\n",
       "      <th>game_date_time</th>\n",
       "    </tr>\n",
       "  </thead>\n",
       "  <tbody>\n",
       "    <tr>\n",
       "      <td>0</td>\n",
       "      <td>SFO</td>\n",
       "      <td>2020-02-02</td>\n",
       "      <td>6:30</td>\n",
       "      <td>6:30</td>\n",
       "      <td>KAN</td>\n",
       "      <td>21.0</td>\n",
       "      <td>20.0</td>\n",
       "      <td>Sun</td>\n",
       "      <td>L 20-31</td>\n",
       "      <td>NaN</td>\n",
       "      <td>...</td>\n",
       "      <td>1.0</td>\n",
       "      <td>351.0</td>\n",
       "      <td>54.0</td>\n",
       "      <td>6.5000</td>\n",
       "      <td>75.0</td>\n",
       "      <td>5.2933</td>\n",
       "      <td>2.0</td>\n",
       "      <td>0.446389</td>\n",
       "      <td>3:29</td>\n",
       "      <td>2020-02-02 06:30:00</td>\n",
       "    </tr>\n",
       "    <tr>\n",
       "      <td>1</td>\n",
       "      <td>GNB</td>\n",
       "      <td>2020-01-19</td>\n",
       "      <td>6:40</td>\n",
       "      <td>3:40</td>\n",
       "      <td>SFO</td>\n",
       "      <td>20.0</td>\n",
       "      <td>19.0</td>\n",
       "      <td>Sun</td>\n",
       "      <td>L 20-37</td>\n",
       "      <td>NaN</td>\n",
       "      <td>...</td>\n",
       "      <td>1.0</td>\n",
       "      <td>358.0</td>\n",
       "      <td>58.0</td>\n",
       "      <td>6.1724</td>\n",
       "      <td>51.0</td>\n",
       "      <td>6.9412</td>\n",
       "      <td>3.0</td>\n",
       "      <td>0.520278</td>\n",
       "      <td>3:03</td>\n",
       "      <td>2020-01-19 03:40:00</td>\n",
       "    </tr>\n",
       "    <tr>\n",
       "      <td>2</td>\n",
       "      <td>TEN</td>\n",
       "      <td>2020-01-19</td>\n",
       "      <td>3:05</td>\n",
       "      <td>2:05</td>\n",
       "      <td>KAN</td>\n",
       "      <td>20.0</td>\n",
       "      <td>20.0</td>\n",
       "      <td>Sun</td>\n",
       "      <td>L 24-35</td>\n",
       "      <td>NaN</td>\n",
       "      <td>...</td>\n",
       "      <td>1.0</td>\n",
       "      <td>295.0</td>\n",
       "      <td>58.0</td>\n",
       "      <td>5.0862</td>\n",
       "      <td>64.0</td>\n",
       "      <td>6.3125</td>\n",
       "      <td>NaN</td>\n",
       "      <td>0.502778</td>\n",
       "      <td>3:04</td>\n",
       "      <td>2020-01-19 02:05:00</td>\n",
       "    </tr>\n",
       "    <tr>\n",
       "      <td>3</td>\n",
       "      <td>HOU</td>\n",
       "      <td>2020-01-12</td>\n",
       "      <td>3:05</td>\n",
       "      <td>2:05</td>\n",
       "      <td>KAN</td>\n",
       "      <td>19.0</td>\n",
       "      <td>19.0</td>\n",
       "      <td>Sun</td>\n",
       "      <td>L 31-51</td>\n",
       "      <td>NaN</td>\n",
       "      <td>...</td>\n",
       "      <td>1.0</td>\n",
       "      <td>442.0</td>\n",
       "      <td>78.0</td>\n",
       "      <td>5.6667</td>\n",
       "      <td>57.0</td>\n",
       "      <td>7.6140</td>\n",
       "      <td>1.0</td>\n",
       "      <td>0.576389</td>\n",
       "      <td>3:25</td>\n",
       "      <td>2020-01-12 02:05:00</td>\n",
       "    </tr>\n",
       "    <tr>\n",
       "      <td>4</td>\n",
       "      <td>SEA</td>\n",
       "      <td>2020-01-12</td>\n",
       "      <td>6:40</td>\n",
       "      <td>5:40</td>\n",
       "      <td>GNB</td>\n",
       "      <td>19.0</td>\n",
       "      <td>19.0</td>\n",
       "      <td>Sun</td>\n",
       "      <td>L 23-28</td>\n",
       "      <td>NaN</td>\n",
       "      <td>...</td>\n",
       "      <td>2.0</td>\n",
       "      <td>375.0</td>\n",
       "      <td>60.0</td>\n",
       "      <td>6.2500</td>\n",
       "      <td>59.0</td>\n",
       "      <td>5.8305</td>\n",
       "      <td>NaN</td>\n",
       "      <td>0.508611</td>\n",
       "      <td>3:09</td>\n",
       "      <td>2020-01-12 05:40:00</td>\n",
       "    </tr>\n",
       "    <tr>\n",
       "      <td>...</td>\n",
       "      <td>...</td>\n",
       "      <td>...</td>\n",
       "      <td>...</td>\n",
       "      <td>...</td>\n",
       "      <td>...</td>\n",
       "      <td>...</td>\n",
       "      <td>...</td>\n",
       "      <td>...</td>\n",
       "      <td>...</td>\n",
       "      <td>...</td>\n",
       "      <td>...</td>\n",
       "      <td>...</td>\n",
       "      <td>...</td>\n",
       "      <td>...</td>\n",
       "      <td>...</td>\n",
       "      <td>...</td>\n",
       "      <td>...</td>\n",
       "      <td>...</td>\n",
       "      <td>...</td>\n",
       "      <td>...</td>\n",
       "      <td>...</td>\n",
       "    </tr>\n",
       "    <tr>\n",
       "      <td>262</td>\n",
       "      <td>TEN</td>\n",
       "      <td>2019-09-08</td>\n",
       "      <td>1:00</td>\n",
       "      <td>1:00</td>\n",
       "      <td>CLE</td>\n",
       "      <td>1.0</td>\n",
       "      <td>1.0</td>\n",
       "      <td>Sun</td>\n",
       "      <td>W 43-13</td>\n",
       "      <td>NaN</td>\n",
       "      <td>...</td>\n",
       "      <td>1.0</td>\n",
       "      <td>339.0</td>\n",
       "      <td>56.0</td>\n",
       "      <td>6.0536</td>\n",
       "      <td>63.0</td>\n",
       "      <td>5.4921</td>\n",
       "      <td>NaN</td>\n",
       "      <td>0.488333</td>\n",
       "      <td>3:12</td>\n",
       "      <td>2019-09-08 01:00:00</td>\n",
       "    </tr>\n",
       "    <tr>\n",
       "      <td>263</td>\n",
       "      <td>PIT</td>\n",
       "      <td>2019-09-08</td>\n",
       "      <td>8:20</td>\n",
       "      <td>8:20</td>\n",
       "      <td>NWE</td>\n",
       "      <td>1.0</td>\n",
       "      <td>1.0</td>\n",
       "      <td>Sun</td>\n",
       "      <td>L 3-33</td>\n",
       "      <td>NaN</td>\n",
       "      <td>...</td>\n",
       "      <td>0.0</td>\n",
       "      <td>308.0</td>\n",
       "      <td>61.0</td>\n",
       "      <td>5.0492</td>\n",
       "      <td>67.0</td>\n",
       "      <td>6.9403</td>\n",
       "      <td>1.0</td>\n",
       "      <td>0.457500</td>\n",
       "      <td>3:00</td>\n",
       "      <td>2019-09-08 08:20:00</td>\n",
       "    </tr>\n",
       "    <tr>\n",
       "      <td>264</td>\n",
       "      <td>SFO</td>\n",
       "      <td>2019-09-08</td>\n",
       "      <td>4:25</td>\n",
       "      <td>4:25</td>\n",
       "      <td>TAM</td>\n",
       "      <td>1.0</td>\n",
       "      <td>1.0</td>\n",
       "      <td>Sun</td>\n",
       "      <td>W 31-17</td>\n",
       "      <td>NaN</td>\n",
       "      <td>...</td>\n",
       "      <td>0.0</td>\n",
       "      <td>256.0</td>\n",
       "      <td>60.0</td>\n",
       "      <td>4.2667</td>\n",
       "      <td>65.0</td>\n",
       "      <td>4.5385</td>\n",
       "      <td>2.0</td>\n",
       "      <td>0.501111</td>\n",
       "      <td>3:06</td>\n",
       "      <td>2019-09-08 04:25:00</td>\n",
       "    </tr>\n",
       "    <tr>\n",
       "      <td>265</td>\n",
       "      <td>WAS</td>\n",
       "      <td>2019-09-08</td>\n",
       "      <td>1:00</td>\n",
       "      <td>1:00</td>\n",
       "      <td>PHI</td>\n",
       "      <td>1.0</td>\n",
       "      <td>1.0</td>\n",
       "      <td>Sun</td>\n",
       "      <td>L 27-32</td>\n",
       "      <td>NaN</td>\n",
       "      <td>...</td>\n",
       "      <td>0.0</td>\n",
       "      <td>398.0</td>\n",
       "      <td>58.0</td>\n",
       "      <td>6.8621</td>\n",
       "      <td>71.0</td>\n",
       "      <td>6.1408</td>\n",
       "      <td>NaN</td>\n",
       "      <td>0.425833</td>\n",
       "      <td>3:13</td>\n",
       "      <td>2019-09-08 01:00:00</td>\n",
       "    </tr>\n",
       "    <tr>\n",
       "      <td>266</td>\n",
       "      <td>GNB</td>\n",
       "      <td>2019-09-05</td>\n",
       "      <td>8:20</td>\n",
       "      <td>7:20</td>\n",
       "      <td>CHI</td>\n",
       "      <td>1.0</td>\n",
       "      <td>1.0</td>\n",
       "      <td>Thu</td>\n",
       "      <td>W 10-3</td>\n",
       "      <td>NaN</td>\n",
       "      <td>...</td>\n",
       "      <td>0.0</td>\n",
       "      <td>213.0</td>\n",
       "      <td>57.0</td>\n",
       "      <td>3.7368</td>\n",
       "      <td>65.0</td>\n",
       "      <td>3.9077</td>\n",
       "      <td>NaN</td>\n",
       "      <td>0.517500</td>\n",
       "      <td>3:07</td>\n",
       "      <td>2019-09-05 07:20:00</td>\n",
       "    </tr>\n",
       "  </tbody>\n",
       "</table>\n",
       "<p>267 rows × 40 columns</p>\n",
       "</div>"
      ],
      "text/plain": [
       "    Home_team        date  time local_time Away_team  Week  Game_Number  day  \\\n",
       "0         SFO  2020-02-02  6:30       6:30       KAN  21.0         20.0  Sun   \n",
       "1         GNB  2020-01-19  6:40       3:40       SFO  20.0         19.0  Sun   \n",
       "2         TEN  2020-01-19  3:05       2:05       KAN  20.0         20.0  Sun   \n",
       "3         HOU  2020-01-12  3:05       2:05       KAN  19.0         19.0  Sun   \n",
       "4         SEA  2020-01-12  6:40       5:40       GNB  19.0         19.0  Sun   \n",
       "..        ...         ...   ...        ...       ...   ...          ...  ...   \n",
       "262       TEN  2019-09-08  1:00       1:00       CLE   1.0          1.0  Sun   \n",
       "263       PIT  2019-09-08  8:20       8:20       NWE   1.0          1.0  Sun   \n",
       "264       SFO  2019-09-08  4:25       4:25       TAM   1.0          1.0  Sun   \n",
       "265       WAS  2019-09-08  1:00       1:00       PHI   1.0          1.0  Sun   \n",
       "266       GNB  2019-09-05  8:20       7:20       CHI   1.0          1.0  Thu   \n",
       "\n",
       "      result   OT  ...  rushing_touchdowns  total_yards  offensive_plays  \\\n",
       "0    L 20-31  NaN  ...                 1.0        351.0             54.0   \n",
       "1    L 20-37  NaN  ...                 1.0        358.0             58.0   \n",
       "2    L 24-35  NaN  ...                 1.0        295.0             58.0   \n",
       "3    L 31-51  NaN  ...                 1.0        442.0             78.0   \n",
       "4    L 23-28  NaN  ...                 2.0        375.0             60.0   \n",
       "..       ...  ...  ...                 ...          ...              ...   \n",
       "262  W 43-13  NaN  ...                 1.0        339.0             56.0   \n",
       "263   L 3-33  NaN  ...                 0.0        308.0             61.0   \n",
       "264  W 31-17  NaN  ...                 0.0        256.0             60.0   \n",
       "265  L 27-32  NaN  ...                 0.0        398.0             58.0   \n",
       "266   W 10-3  NaN  ...                 0.0        213.0             57.0   \n",
       "\n",
       "     yards_per_play_offense  defensive_plays  \\\n",
       "0                    6.5000             75.0   \n",
       "1                    6.1724             51.0   \n",
       "2                    5.0862             64.0   \n",
       "3                    5.6667             57.0   \n",
       "4                    6.2500             59.0   \n",
       "..                      ...              ...   \n",
       "262                  6.0536             63.0   \n",
       "263                  5.0492             67.0   \n",
       "264                  4.2667             65.0   \n",
       "265                  6.8621             71.0   \n",
       "266                  3.7368             65.0   \n",
       "\n",
       "     yards_allowed_per_defensive_play  turnovers_lost time_of_possession  \\\n",
       "0                              5.2933             2.0           0.446389   \n",
       "1                              6.9412             3.0           0.520278   \n",
       "2                              6.3125             NaN           0.502778   \n",
       "3                              7.6140             1.0           0.576389   \n",
       "4                              5.8305             NaN           0.508611   \n",
       "..                                ...             ...                ...   \n",
       "262                            5.4921             NaN           0.488333   \n",
       "263                            6.9403             1.0           0.457500   \n",
       "264                            4.5385             2.0           0.501111   \n",
       "265                            6.1408             NaN           0.425833   \n",
       "266                            3.9077             NaN           0.517500   \n",
       "\n",
       "     game_duration      game_date_time  \n",
       "0             3:29 2020-02-02 06:30:00  \n",
       "1             3:03 2020-01-19 03:40:00  \n",
       "2             3:04 2020-01-19 02:05:00  \n",
       "3             3:25 2020-01-12 02:05:00  \n",
       "4             3:09 2020-01-12 05:40:00  \n",
       "..             ...                 ...  \n",
       "262           3:12 2019-09-08 01:00:00  \n",
       "263           3:00 2019-09-08 08:20:00  \n",
       "264           3:06 2019-09-08 04:25:00  \n",
       "265           3:13 2019-09-08 01:00:00  \n",
       "266           3:07 2019-09-05 07:20:00  \n",
       "\n",
       "[267 rows x 40 columns]"
      ]
     },
     "execution_count": 124,
     "metadata": {},
     "output_type": "execute_result"
    }
   ],
   "source": [
    "odds2_df"
   ]
  },
  {
   "cell_type": "code",
   "execution_count": 125,
   "metadata": {
    "ExecuteTime": {
     "end_time": "2020-05-09T17:11:19.926518Z",
     "start_time": "2020-05-09T17:11:19.910358Z"
    }
   },
   "outputs": [
    {
     "name": "stdout",
     "output_type": "stream",
     "text": [
      "<class 'pandas.core.frame.DataFrame'>\n",
      "RangeIndex: 267 entries, 0 to 266\n",
      "Data columns (total 40 columns):\n",
      "Home_team                           267 non-null object\n",
      "date                                267 non-null object\n",
      "time                                267 non-null object\n",
      "local_time                          267 non-null object\n",
      "Away_team                           267 non-null object\n",
      "Week                                267 non-null float64\n",
      "Game_Number                         267 non-null float64\n",
      "day                                 267 non-null object\n",
      "result                              267 non-null object\n",
      "OT                                  11 non-null object\n",
      "points_for                          267 non-null float64\n",
      "points_against                      267 non-null float64\n",
      "point_differential                  267 non-null float64\n",
      "combined_points                     267 non-null float64\n",
      "spread                              267 non-null float64\n",
      "vs_line                             267 non-null int64\n",
      "over_under                          267 non-null float64\n",
      "over_under_result                   267 non-null object\n",
      "pass_completions                    267 non-null float64\n",
      "pass_attempts                       267 non-null float64\n",
      "completion_percentage               267 non-null float64\n",
      "passing_yards                       267 non-null float64\n",
      "passing_touchdowns                  267 non-null float64\n",
      "interceptions                       267 non-null float64\n",
      "times_sacked                        267 non-null float64\n",
      "sack_yards_lost                     267 non-null float64\n",
      "qbr                                 267 non-null float64\n",
      "rushing_attempts                    267 non-null float64\n",
      "rushing_yards                       267 non-null float64\n",
      "rushing_yards_per_attempt           267 non-null float64\n",
      "rushing_touchdowns                  267 non-null float64\n",
      "total_yards                         267 non-null float64\n",
      "offensive_plays                     267 non-null float64\n",
      "yards_per_play_offense              267 non-null float64\n",
      "defensive_plays                     267 non-null float64\n",
      "yards_allowed_per_defensive_play    267 non-null float64\n",
      "turnovers_lost                      206 non-null float64\n",
      "time_of_possession                  267 non-null float64\n",
      "game_duration                       267 non-null object\n",
      "game_date_time                      267 non-null datetime64[ns]\n",
      "dtypes: datetime64[ns](1), float64(28), int64(1), object(10)\n",
      "memory usage: 83.6+ KB\n"
     ]
    }
   ],
   "source": [
    "odds2_df.info()"
   ]
  },
  {
   "cell_type": "code",
   "execution_count": 126,
   "metadata": {
    "ExecuteTime": {
     "end_time": "2020-05-09T17:12:44.970146Z",
     "start_time": "2020-05-09T17:12:44.957974Z"
    }
   },
   "outputs": [],
   "source": [
    "odds2_df = odds2_df.fillna(value=0)"
   ]
  },
  {
   "cell_type": "code",
   "execution_count": 127,
   "metadata": {
    "ExecuteTime": {
     "end_time": "2020-05-09T17:12:52.834008Z",
     "start_time": "2020-05-09T17:12:52.817914Z"
    }
   },
   "outputs": [
    {
     "name": "stdout",
     "output_type": "stream",
     "text": [
      "<class 'pandas.core.frame.DataFrame'>\n",
      "RangeIndex: 267 entries, 0 to 266\n",
      "Data columns (total 40 columns):\n",
      "Home_team                           267 non-null object\n",
      "date                                267 non-null object\n",
      "time                                267 non-null object\n",
      "local_time                          267 non-null object\n",
      "Away_team                           267 non-null object\n",
      "Week                                267 non-null float64\n",
      "Game_Number                         267 non-null float64\n",
      "day                                 267 non-null object\n",
      "result                              267 non-null object\n",
      "OT                                  267 non-null object\n",
      "points_for                          267 non-null float64\n",
      "points_against                      267 non-null float64\n",
      "point_differential                  267 non-null float64\n",
      "combined_points                     267 non-null float64\n",
      "spread                              267 non-null float64\n",
      "vs_line                             267 non-null int64\n",
      "over_under                          267 non-null float64\n",
      "over_under_result                   267 non-null int64\n",
      "pass_completions                    267 non-null float64\n",
      "pass_attempts                       267 non-null float64\n",
      "completion_percentage               267 non-null float64\n",
      "passing_yards                       267 non-null float64\n",
      "passing_touchdowns                  267 non-null float64\n",
      "interceptions                       267 non-null float64\n",
      "times_sacked                        267 non-null float64\n",
      "sack_yards_lost                     267 non-null float64\n",
      "qbr                                 267 non-null float64\n",
      "rushing_attempts                    267 non-null float64\n",
      "rushing_yards                       267 non-null float64\n",
      "rushing_yards_per_attempt           267 non-null float64\n",
      "rushing_touchdowns                  267 non-null float64\n",
      "total_yards                         267 non-null float64\n",
      "offensive_plays                     267 non-null float64\n",
      "yards_per_play_offense              267 non-null float64\n",
      "defensive_plays                     267 non-null float64\n",
      "yards_allowed_per_defensive_play    267 non-null float64\n",
      "turnovers_lost                      267 non-null float64\n",
      "time_of_possession                  267 non-null float64\n",
      "game_duration                       267 non-null object\n",
      "game_date_time                      267 non-null datetime64[ns]\n",
      "dtypes: datetime64[ns](1), float64(28), int64(2), object(9)\n",
      "memory usage: 83.6+ KB\n"
     ]
    }
   ],
   "source": [
    "odds2_df.info()"
   ]
  },
  {
   "cell_type": "code",
   "execution_count": 80,
   "metadata": {
    "ExecuteTime": {
     "end_time": "2020-05-09T16:19:09.428259Z",
     "start_time": "2020-05-09T16:19:07.131391Z"
    }
   },
   "outputs": [
    {
     "name": "stdout",
     "output_type": "stream",
     "text": [
      "[{'path': [{'id': '241', 'link': '/football/nfl', 'description': 'NFL', 'type': 'LEAGUE', 'sportCode': 'FOOT', 'order': 2, 'leaf': True, 'current': True}, {'id': '1', 'link': '/football', 'description': 'Football', 'type': 'SPORT', 'sportCode': 'FOOT', 'order': 6, 'leaf': False, 'current': False}], 'events': [{'id': '7234968', 'description': 'Houston Texans @ Kansas City Chiefs', 'type': 'GAMEEVENT', 'link': '/football/nfl/houston-texans-kansas-city-chiefs-202009102020', 'status': 'O', 'sport': 'FOOT', 'startTime': 1599783600000, 'live': False, 'awayTeamFirst': True, 'denySameGame': 'NO', 'teaserAllowed': True, 'competitionId': '241', 'notes': '', 'numMarkets': 2, 'lastModified': 1589026345128, 'competitors': [{'id': '7234968-11852811', 'name': 'Kansas City Chiefs', 'home': True}, {'id': '7234968-11904230', 'name': 'Houston Texans', 'home': False}], 'displayGroups': [{'id': '100-41', 'description': 'Game Lines', 'defaultType': True, 'alternateType': False, 'markets': [{'id': '115774680', 'descriptionKey': 'Main Dynamic Asian Handicap', 'description': 'Point Spread', 'key': '2W-HCAP', 'marketTypeId': '120718', 'status': 'O', 'singleOnly': False, 'notes': 'Regular Season Week 1', 'period': {'id': '119', 'description': 'Match', 'abbreviation': 'M', 'live': False, 'main': True}, 'outcomes': [{'id': '615758651', 'description': 'Houston Texans', 'status': 'O', 'type': 'A', 'competitorId': '7234968-11904230', 'price': {'id': '4907088313', 'handicap': '10.0', 'american': '-110', 'decimal': '1.909091', 'fractional': '10/11', 'malay': '0.91', 'indonesian': '-1.10', 'hongkong': '0.91'}}, {'id': '615758652', 'description': 'Kansas City Chiefs', 'status': 'O', 'type': 'H', 'competitorId': '7234968-11852811', 'price': {'id': '4907088314', 'handicap': '-10.0', 'american': '-110', 'decimal': '1.909091', 'fractional': '10/11', 'malay': '0.91', 'indonesian': '-1.10', 'hongkong': '0.91'}}]}, {'id': '115774664', 'descriptionKey': 'Main Dynamic Over/Under', 'description': 'Total', 'key': '2W-OU', 'marketTypeId': '120717', 'status': 'O', 'singleOnly': False, 'notes': '', 'period': {'id': '119', 'description': 'Match', 'abbreviation': 'M', 'live': False, 'main': True}, 'outcomes': [{'id': '615758637', 'description': 'Over', 'status': 'O', 'type': 'O', 'price': {'id': '4907088722', 'handicap': '55.0', 'american': '-105', 'decimal': '1.952381', 'fractional': '20/21', 'malay': '0.95', 'indonesian': '-1.05', 'hongkong': '0.95'}}, {'id': '615758638', 'description': 'Under', 'status': 'O', 'type': 'U', 'price': {'id': '4907088723', 'handicap': '55.0', 'american': '-115', 'decimal': '1.870', 'fractional': '20/23', 'malay': '0.87', 'indonesian': '-1.15', 'hongkong': '0.87'}}]}], 'order': 1}]}, {'id': '7235025', 'description': 'Chicago Bears @ Detroit Lions', 'type': 'GAMEEVENT', 'link': '/football/nfl/chicago-bears-detroit-lions-202009131300', 'status': 'O', 'sport': 'FOOT', 'startTime': 1600016400000, 'live': False, 'awayTeamFirst': True, 'denySameGame': 'NO', 'teaserAllowed': True, 'competitionId': '241', 'notes': '', 'numMarkets': 2, 'lastModified': 1588977947544, 'competitors': [{'id': '7235025-11904244', 'name': 'Detroit Lions', 'home': True}, {'id': '7235025-11903832', 'name': 'Chicago Bears', 'home': False}], 'displayGroups': [{'id': '100-41', 'description': 'Game Lines', 'defaultType': True, 'alternateType': False, 'markets': [{'id': '115776269', 'descriptionKey': 'Main Dynamic Asian Handicap', 'description': 'Point Spread', 'key': '2W-HCAP', 'marketTypeId': '120718', 'status': 'O', 'singleOnly': False, 'notes': 'Regular Season Week 1', 'period': {'id': '119', 'description': 'Match', 'abbreviation': 'M', 'live': False, 'main': True}, 'outcomes': [{'id': '615768646', 'description': 'Chicago Bears', 'status': 'O', 'type': 'A', 'competitorId': '7235025-11903832', 'price': {'id': '4907090799', 'handicap': '1.5', 'american': '-110', 'decimal': '1.909091', 'fractional': '10/11', 'malay': '0.91', 'indonesian': '-1.10', 'hongkong': '0.91'}}, {'id': '615768647', 'description': 'Detroit Lions', 'status': 'O', 'type': 'H', 'competitorId': '7235025-11904244', 'price': {'id': '4907090800', 'handicap': '-1.5', 'american': '-110', 'decimal': '1.909091', 'fractional': '10/11', 'malay': '0.91', 'indonesian': '-1.10', 'hongkong': '0.91'}}]}, {'id': '115776281', 'descriptionKey': 'Main Dynamic Over/Under', 'description': 'Total', 'key': '2W-OU', 'marketTypeId': '120717', 'status': 'O', 'singleOnly': False, 'notes': '', 'period': {'id': '119', 'description': 'Match', 'abbreviation': 'M', 'live': False, 'main': True}, 'outcomes': [{'id': '615768632', 'description': 'Over', 'status': 'O', 'type': 'O', 'price': {'id': '4907090857', 'handicap': '44.0', 'american': '-110', 'decimal': '1.909091', 'fractional': '10/11', 'malay': '0.91', 'indonesian': '-1.10', 'hongkong': '0.91'}}, {'id': '615768633', 'description': 'Under', 'status': 'O', 'type': 'U', 'price': {'id': '4907090858', 'handicap': '44.0', 'american': '-110', 'decimal': '1.909091', 'fractional': '10/11', 'malay': '0.91', 'indonesian': '-1.10', 'hongkong': '0.91'}}]}], 'order': 1}]}, {'id': '7235014', 'description': 'Cleveland Browns @ Baltimore Ravens', 'type': 'GAMEEVENT', 'link': '/football/nfl/cleveland-browns-baltimore-ravens-202009131300', 'status': 'O', 'sport': 'FOOT', 'startTime': 1600016400000, 'live': False, 'awayTeamFirst': True, 'denySameGame': 'NO', 'teaserAllowed': True, 'competitionId': '241', 'notes': '', 'numMarkets': 2, 'lastModified': 1589037298182, 'competitors': [{'id': '7235014-11903831', 'name': 'Baltimore Ravens', 'home': True}, {'id': '7235014-11904219', 'name': 'Cleveland Browns', 'home': False}], 'displayGroups': [{'id': '100-41', 'description': 'Game Lines', 'defaultType': True, 'alternateType': False, 'markets': [{'id': '115775532', 'descriptionKey': 'Main Dynamic Asian Handicap', 'description': 'Point Spread', 'key': '2W-HCAP', 'marketTypeId': '120718', 'status': 'O', 'singleOnly': False, 'notes': 'Regular Season Week 1', 'period': {'id': '119', 'description': 'Match', 'abbreviation': 'M', 'live': False, 'main': True}, 'outcomes': [{'id': '615765862', 'description': 'Cleveland Browns', 'status': 'O', 'type': 'A', 'competitorId': '7235014-11904219', 'price': {'id': '4904748525', 'handicap': '8.5', 'american': '-110', 'decimal': '1.909091', 'fractional': '10/11', 'malay': '0.91', 'indonesian': '-1.10', 'hongkong': '0.91'}}, {'id': '615765863', 'description': 'Baltimore Ravens', 'status': 'O', 'type': 'H', 'competitorId': '7235014-11903831', 'price': {'id': '4904748526', 'handicap': '-8.5', 'american': '-110', 'decimal': '1.909091', 'fractional': '10/11', 'malay': '0.91', 'indonesian': '-1.10', 'hongkong': '0.91'}}]}, {'id': '115775518', 'descriptionKey': 'Main Dynamic Over/Under', 'description': 'Total', 'key': '2W-OU', 'marketTypeId': '120717', 'status': 'O', 'singleOnly': False, 'notes': '', 'period': {'id': '119', 'description': 'Match', 'abbreviation': 'M', 'live': False, 'main': True}, 'outcomes': [{'id': '615765848', 'description': 'Over', 'status': 'O', 'type': 'O', 'price': {'id': '4904748527', 'handicap': '48.5', 'american': '-110', 'decimal': '1.909091', 'fractional': '10/11', 'malay': '0.91', 'indonesian': '-1.10', 'hongkong': '0.91'}}, {'id': '615765849', 'description': 'Under', 'status': 'O', 'type': 'U', 'price': {'id': '4904748528', 'handicap': '48.5', 'american': '-110', 'decimal': '1.909091', 'fractional': '10/11', 'malay': '0.91', 'indonesian': '-1.10', 'hongkong': '0.91'}}]}], 'order': 1}]}, {'id': '7235030', 'description': 'Green Bay Packers @ Minnesota Vikings', 'type': 'GAMEEVENT', 'link': '/football/nfl/green-bay-packers-minnesota-vikings-202009131300', 'status': 'O', 'sport': 'FOOT', 'startTime': 1600016400000, 'live': False, 'awayTeamFirst': True, 'denySameGame': 'NO', 'teaserAllowed': True, 'competitionId': '241', 'notes': '', 'numMarkets': 2, 'lastModified': 1589035942415, 'competitors': [{'id': '7235030-11904246', 'name': 'Minnesota Vikings', 'home': True}, {'id': '7235030-11904228', 'name': 'Green Bay Packers', 'home': False}], 'displayGroups': [{'id': '100-41', 'description': 'Game Lines', 'defaultType': True, 'alternateType': False, 'markets': [{'id': '115776459', 'descriptionKey': 'Main Dynamic Asian Handicap', 'description': 'Point Spread', 'key': '2W-HCAP', 'marketTypeId': '120718', 'status': 'O', 'singleOnly': False, 'notes': 'Regular Season Week 1', 'period': {'id': '119', 'description': 'Match', 'abbreviation': 'M', 'live': False, 'main': True}, 'outcomes': [{'id': '615769924', 'description': 'Green Bay Packers', 'status': 'O', 'type': 'A', 'competitorId': '7235030-11904228', 'price': {'id': '4908985855', 'handicap': '3.0', 'american': '+115', 'decimal': '2.150', 'fractional': '23/20', 'malay': '-0.87', 'indonesian': '1.15', 'hongkong': '1.15'}}, {'id': '615769925', 'description': 'Minnesota Vikings', 'status': 'O', 'type': 'H', 'competitorId': '7235030-11904246', 'price': {'id': '4908985856', 'handicap': '-3.0', 'american': '-135', 'decimal': '1.741', 'fractional': '20/27', 'malay': '0.74', 'indonesian': '-1.35', 'hongkong': '0.74'}}]}, {'id': '115776440', 'descriptionKey': 'Main Dynamic Over/Under', 'description': 'Total', 'key': '2W-OU', 'marketTypeId': '120717', 'status': 'O', 'singleOnly': False, 'notes': '', 'period': {'id': '119', 'description': 'Match', 'abbreviation': 'M', 'live': False, 'main': True}, 'outcomes': [{'id': '615769910', 'description': 'Over', 'status': 'O', 'type': 'O', 'price': {'id': '4907091670', 'handicap': '46.5', 'american': '-110', 'decimal': '1.909091', 'fractional': '10/11', 'malay': '0.91', 'indonesian': '-1.10', 'hongkong': '0.91'}}, {'id': '615769911', 'description': 'Under', 'status': 'O', 'type': 'U', 'price': {'id': '4907091671', 'handicap': '46.5', 'american': '-110', 'decimal': '1.909091', 'fractional': '10/11', 'malay': '0.91', 'indonesian': '-1.10', 'hongkong': '0.91'}}]}], 'order': 1}]}, {'id': '7235028', 'description': 'Indianapolis Colts @ Jacksonville Jaguars', 'type': 'GAMEEVENT', 'link': '/football/nfl/indianapolis-colts-jacksonville-jaguars-202009131300', 'status': 'O', 'sport': 'FOOT', 'startTime': 1600016400000, 'live': False, 'awayTeamFirst': True, 'denySameGame': 'NO', 'teaserAllowed': True, 'competitionId': '241', 'notes': '', 'numMarkets': 2, 'lastModified': 1588977954188, 'competitors': [{'id': '7235028-11904220', 'name': 'Jacksonville Jaguars', 'home': True}, {'id': '7235028-11904232', 'name': 'Indianapolis Colts', 'home': False}], 'displayGroups': [{'id': '100-41', 'description': 'Game Lines', 'defaultType': True, 'alternateType': False, 'markets': [{'id': '115776338', 'descriptionKey': 'Main Dynamic Asian Handicap', 'description': 'Point Spread', 'key': '2W-HCAP', 'marketTypeId': '120718', 'status': 'O', 'singleOnly': False, 'notes': 'Regular Season Week 1', 'period': {'id': '119', 'description': 'Match', 'abbreviation': 'M', 'live': False, 'main': True}, 'outcomes': [{'id': '615769285', 'description': 'Indianapolis Colts', 'status': 'O', 'type': 'A', 'competitorId': '7235028-11904232', 'price': {'id': '4904876477', 'handicap': '-7.5', 'american': '-110', 'decimal': '1.909091', 'fractional': '10/11', 'malay': '0.91', 'indonesian': '-1.10', 'hongkong': '0.91'}}, {'id': '615769286', 'description': 'Jacksonville Jaguars', 'status': 'O', 'type': 'H', 'competitorId': '7235028-11904220', 'price': {'id': '4904876478', 'handicap': '7.5', 'american': '-110', 'decimal': '1.909091', 'fractional': '10/11', 'malay': '0.91', 'indonesian': '-1.10', 'hongkong': '0.91'}}]}, {'id': '115776386', 'descriptionKey': 'Main Dynamic Over/Under', 'description': 'Total', 'key': '2W-OU', 'marketTypeId': '120717', 'status': 'O', 'singleOnly': False, 'notes': '', 'period': {'id': '119', 'description': 'Match', 'abbreviation': 'M', 'live': False, 'main': True}, 'outcomes': [{'id': '615769271', 'description': 'Over', 'status': 'O', 'type': 'O', 'price': {'id': '4907090965', 'handicap': '46.0', 'american': '-110', 'decimal': '1.909091', 'fractional': '10/11', 'malay': '0.91', 'indonesian': '-1.10', 'hongkong': '0.91'}}, {'id': '615769272', 'description': 'Under', 'status': 'O', 'type': 'U', 'price': {'id': '4907090966', 'handicap': '46.0', 'american': '-110', 'decimal': '1.909091', 'fractional': '10/11', 'malay': '0.91', 'indonesian': '-1.10', 'hongkong': '0.91'}}]}], 'order': 1}]}, {'id': '7235018', 'description': 'Las Vegas Raiders @ Carolina Panthers', 'type': 'GAMEEVENT', 'link': '/football/nfl/las-vegas-raiders-carolina-panthers-202009131300', 'status': 'O', 'sport': 'FOOT', 'startTime': 1600016400000, 'live': False, 'awayTeamFirst': True, 'denySameGame': 'NO', 'teaserAllowed': True, 'competitionId': '241', 'notes': '', 'numMarkets': 2, 'lastModified': 1588977910249, 'competitors': [{'id': '7235018-11904216', 'name': 'Carolina Panthers', 'home': True}, {'id': '7235018-11904243', 'name': 'Las Vegas Raiders', 'home': False}], 'displayGroups': [{'id': '100-41', 'description': 'Game Lines', 'defaultType': True, 'alternateType': False, 'markets': [{'id': '115775853', 'descriptionKey': 'Main Dynamic Asian Handicap', 'description': 'Point Spread', 'key': '2W-HCAP', 'marketTypeId': '120718', 'status': 'O', 'singleOnly': False, 'notes': 'Regular Season Week 1', 'period': {'id': '119', 'description': 'Match', 'abbreviation': 'M', 'live': False, 'main': True}, 'outcomes': [{'id': '615766876', 'description': 'Las Vegas Raiders', 'status': 'O', 'type': 'A', 'competitorId': '7235018-11904243', 'price': {'id': '4907089830', 'handicap': '0.0', 'american': '-110', 'decimal': '1.909091', 'fractional': '10/11', 'malay': '0.91', 'indonesian': '-1.10', 'hongkong': '0.91'}}, {'id': '615766877', 'description': 'Carolina Panthers', 'status': 'O', 'type': 'H', 'competitorId': '7235018-11904216', 'price': {'id': '4907089831', 'handicap': '0.0', 'american': '-110', 'decimal': '1.909091', 'fractional': '10/11', 'malay': '0.91', 'indonesian': '-1.10', 'hongkong': '0.91'}}]}, {'id': '115775865', 'descriptionKey': 'Main Dynamic Over/Under', 'description': 'Total', 'key': '2W-OU', 'marketTypeId': '120717', 'status': 'O', 'singleOnly': False, 'notes': '', 'period': {'id': '119', 'description': 'Match', 'abbreviation': 'M', 'live': False, 'main': True}, 'outcomes': [{'id': '615766862', 'description': 'Over', 'status': 'O', 'type': 'O', 'price': {'id': '4907089993', 'handicap': '47.0', 'american': '-110', 'decimal': '1.909091', 'fractional': '10/11', 'malay': '0.91', 'indonesian': '-1.10', 'hongkong': '0.91'}}, {'id': '615766863', 'description': 'Under', 'status': 'O', 'type': 'U', 'price': {'id': '4907089994', 'handicap': '47.0', 'american': '-110', 'decimal': '1.909091', 'fractional': '10/11', 'malay': '0.91', 'indonesian': '-1.10', 'hongkong': '0.91'}}]}], 'order': 1}]}, {'id': '7235010', 'description': 'Miami Dolphins @ New England Patriots', 'type': 'GAMEEVENT', 'status': 'O', 'sport': 'FOOT', 'startTime': 1600016400000, 'live': False, 'awayTeamFirst': True, 'denySameGame': 'NO', 'teaserAllowed': True, 'competitionId': '241', 'notes': '', 'numMarkets': 2, 'lastModified': 1588982881940, 'competitors': [{'id': '7235010-11852810', 'name': 'New England Patriots', 'home': True}, {'id': '7235010-11904224', 'name': 'Miami Dolphins', 'home': False}], 'displayGroups': [{'id': '100-41', 'description': 'Game Lines', 'defaultType': True, 'alternateType': False, 'markets': [{'id': '115775476', 'descriptionKey': 'Main Dynamic Asian Handicap', 'description': 'Point Spread', 'key': '2W-HCAP', 'marketTypeId': '120718', 'status': 'O', 'singleOnly': False, 'notes': 'Regular Season Week 1', 'period': {'id': '119', 'description': 'Match', 'abbreviation': 'M', 'live': False, 'main': True}, 'outcomes': [{'id': '615765465', 'description': 'Miami Dolphins', 'status': 'O', 'type': 'A', 'competitorId': '7235010-11904224', 'price': {'id': '4907089088', 'handicap': '6.5', 'american': '-110', 'decimal': '1.909091', 'fractional': '10/11', 'malay': '0.91', 'indonesian': '-1.10', 'hongkong': '0.91'}}, {'id': '615765466', 'description': 'New England Patriots', 'status': 'O', 'type': 'H', 'competitorId': '7235010-11852810', 'price': {'id': '4907089089', 'handicap': '-6.5', 'american': '-110', 'decimal': '1.909091', 'fractional': '10/11', 'malay': '0.91', 'indonesian': '-1.10', 'hongkong': '0.91'}}]}, {'id': '115775499', 'descriptionKey': 'Main Dynamic Over/Under', 'description': 'Total', 'key': '2W-OU', 'marketTypeId': '120717', 'status': 'O', 'singleOnly': False, 'notes': '', 'period': {'id': '119', 'description': 'Match', 'abbreviation': 'M', 'live': False, 'main': True}, 'outcomes': [{'id': '615765451', 'description': 'Over', 'status': 'O', 'type': 'O', 'price': {'id': '4904748523', 'handicap': '43.5', 'american': '-110', 'decimal': '1.909091', 'fractional': '10/11', 'malay': '0.91', 'indonesian': '-1.10', 'hongkong': '0.91'}}, {'id': '615765452', 'description': 'Under', 'status': 'O', 'type': 'U', 'price': {'id': '4904748524', 'handicap': '43.5', 'american': '-110', 'decimal': '1.909091', 'fractional': '10/11', 'malay': '0.91', 'indonesian': '-1.10', 'hongkong': '0.91'}}]}], 'order': 1}]}, {'id': '7235016', 'description': 'New York Jets @ Buffalo Bills', 'type': 'GAMEEVENT', 'status': 'O', 'sport': 'FOOT', 'startTime': 1600016400000, 'live': False, 'awayTeamFirst': True, 'denySameGame': 'NO', 'teaserAllowed': True, 'competitionId': '241', 'notes': '', 'numMarkets': 2, 'lastModified': 1589039680200, 'competitors': [{'id': '7235016-11904215', 'name': 'Buffalo Bills', 'home': True}, {'id': '7235016-11904241', 'name': 'New York Jets', 'home': False}], 'displayGroups': [{'id': '100-41', 'description': 'Game Lines', 'defaultType': True, 'alternateType': False, 'markets': [{'id': '115775799', 'descriptionKey': 'Main Dynamic Asian Handicap', 'description': 'Point Spread', 'key': '2W-HCAP', 'marketTypeId': '120718', 'status': 'O', 'singleOnly': False, 'notes': 'Regular Season Week 1', 'period': {'id': '119', 'description': 'Match', 'abbreviation': 'M', 'live': False, 'main': True}, 'outcomes': [{'id': '615766410', 'description': 'New York Jets', 'status': 'O', 'type': 'A', 'competitorId': '7235016-11904241', 'price': {'id': '4907089461', 'handicap': '6.0', 'american': '-110', 'decimal': '1.909091', 'fractional': '10/11', 'malay': '0.91', 'indonesian': '-1.10', 'hongkong': '0.91'}}, {'id': '615766411', 'description': 'Buffalo Bills', 'status': 'O', 'type': 'H', 'competitorId': '7235016-11904215', 'price': {'id': '4907089462', 'handicap': '-6.0', 'american': '-110', 'decimal': '1.909091', 'fractional': '10/11', 'malay': '0.91', 'indonesian': '-1.10', 'hongkong': '0.91'}}]}, {'id': '115775569', 'descriptionKey': 'Main Dynamic Over/Under', 'description': 'Total', 'key': '2W-OU', 'marketTypeId': '120717', 'status': 'O', 'singleOnly': False, 'notes': '', 'period': {'id': '119', 'description': 'Match', 'abbreviation': 'M', 'live': False, 'main': True}, 'outcomes': [{'id': '615766396', 'description': 'Over', 'status': 'O', 'type': 'O', 'price': {'id': '4907089619', 'handicap': '40.0', 'american': '-110', 'decimal': '1.909091', 'fractional': '10/11', 'malay': '0.91', 'indonesian': '-1.10', 'hongkong': '0.91'}}, {'id': '615766397', 'description': 'Under', 'status': 'O', 'type': 'U', 'price': {'id': '4907089620', 'handicap': '40.0', 'american': '-110', 'decimal': '1.909091', 'fractional': '10/11', 'malay': '0.91', 'indonesian': '-1.10', 'hongkong': '0.91'}}]}], 'order': 1}]}, {'id': '7235024', 'description': 'Philadelphia Eagles @ Washington Redskins', 'type': 'GAMEEVENT', 'link': '/football/nfl/philadelphia-eagles-washington-redskins-202009131300', 'status': 'O', 'sport': 'FOOT', 'startTime': 1600016400000, 'live': False, 'awayTeamFirst': True, 'denySameGame': 'NO', 'teaserAllowed': True, 'competitionId': '241', 'notes': '', 'numMarkets': 2, 'lastModified': 1589039680203, 'competitors': [{'id': '7235024-11904227', 'name': 'Washington Redskins', 'home': True}, {'id': '7235024-11904222', 'name': 'Philadelphia Eagles', 'home': False}], 'displayGroups': [{'id': '100-41', 'description': 'Game Lines', 'defaultType': True, 'alternateType': False, 'markets': [{'id': '115776197', 'descriptionKey': 'Main Dynamic Asian Handicap', 'description': 'Point Spread', 'key': '2W-HCAP', 'marketTypeId': '120718', 'status': 'O', 'singleOnly': False, 'notes': 'Regular Season Week 1', 'period': {'id': '119', 'description': 'Match', 'abbreviation': 'M', 'live': False, 'main': True}, 'outcomes': [{'id': '615768189', 'description': 'Philadelphia Eagles', 'status': 'O', 'type': 'A', 'competitorId': '7235024-11904222', 'price': {'id': '4907090607', 'handicap': '-6.5', 'american': '-110', 'decimal': '1.909091', 'fractional': '10/11', 'malay': '0.91', 'indonesian': '-1.10', 'hongkong': '0.91'}}, {'id': '615768190', 'description': 'Washington Redskins', 'status': 'O', 'type': 'H', 'competitorId': '7235024-11904227', 'price': {'id': '4907090608', 'handicap': '6.5', 'american': '-110', 'decimal': '1.909091', 'fractional': '10/11', 'malay': '0.91', 'indonesian': '-1.10', 'hongkong': '0.91'}}]}, {'id': '115776188', 'descriptionKey': 'Main Dynamic Over/Under', 'description': 'Total', 'key': '2W-OU', 'marketTypeId': '120717', 'status': 'O', 'singleOnly': False, 'notes': '', 'period': {'id': '119', 'description': 'Match', 'abbreviation': 'M', 'live': False, 'main': True}, 'outcomes': [{'id': '615768175', 'description': 'Over', 'status': 'O', 'type': 'O', 'price': {'id': '4904748545', 'handicap': '45.0', 'american': '-110', 'decimal': '1.909091', 'fractional': '10/11', 'malay': '0.91', 'indonesian': '-1.10', 'hongkong': '0.91'}}, {'id': '615768176', 'description': 'Under', 'status': 'O', 'type': 'U', 'price': {'id': '4904748546', 'handicap': '45.0', 'american': '-110', 'decimal': '1.909091', 'fractional': '10/11', 'malay': '0.91', 'indonesian': '-1.10', 'hongkong': '0.91'}}]}], 'order': 1}]}, {'id': '7235020', 'description': 'Seattle Seahawks @ Atlanta Falcons', 'type': 'GAMEEVENT', 'link': '/football/nfl/seattle-seahawks-atlanta-falcons-202009131300', 'status': 'O', 'sport': 'FOOT', 'startTime': 1600016400000, 'live': False, 'awayTeamFirst': True, 'denySameGame': 'NO', 'teaserAllowed': True, 'competitionId': '241', 'notes': '', 'numMarkets': 2, 'lastModified': 1588977925177, 'competitors': [{'id': '7235020-11904242', 'name': 'Atlanta Falcons', 'home': True}, {'id': '7235020-11904231', 'name': 'Seattle Seahawks', 'home': False}], 'displayGroups': [{'id': '100-41', 'description': 'Game Lines', 'defaultType': True, 'alternateType': False, 'markets': [{'id': '115775943', 'descriptionKey': 'Main Dynamic Asian Handicap', 'description': 'Point Spread', 'key': '2W-HCAP', 'marketTypeId': '120718', 'status': 'O', 'singleOnly': False, 'notes': 'Regular Season Week 1', 'period': {'id': '119', 'description': 'Match', 'abbreviation': 'M', 'live': False, 'main': True}, 'outcomes': [{'id': '615767606', 'description': 'Seattle Seahawks', 'status': 'O', 'type': 'A', 'competitorId': '7235020-11904231', 'price': {'id': '4907090419', 'handicap': '-1.0', 'american': '-110', 'decimal': '1.909091', 'fractional': '10/11', 'malay': '0.91', 'indonesian': '-1.10', 'hongkong': '0.91'}}, {'id': '615767607', 'description': 'Atlanta Falcons', 'status': 'O', 'type': 'H', 'competitorId': '7235020-11904242', 'price': {'id': '4907090420', 'handicap': '1.0', 'american': '-110', 'decimal': '1.909091', 'fractional': '10/11', 'malay': '0.91', 'indonesian': '-1.10', 'hongkong': '0.91'}}]}, {'id': '115775921', 'descriptionKey': 'Main Dynamic Over/Under', 'description': 'Total', 'key': '2W-OU', 'marketTypeId': '120717', 'status': 'O', 'singleOnly': False, 'notes': '', 'period': {'id': '119', 'description': 'Match', 'abbreviation': 'M', 'live': False, 'main': True}, 'outcomes': [{'id': '615767592', 'description': 'Over', 'status': 'O', 'type': 'O', 'price': {'id': '4907090421', 'handicap': '49.0', 'american': '-110', 'decimal': '1.909091', 'fractional': '10/11', 'malay': '0.91', 'indonesian': '-1.10', 'hongkong': '0.91'}}, {'id': '615767593', 'description': 'Under', 'status': 'O', 'type': 'U', 'price': {'id': '4907090422', 'handicap': '49.0', 'american': '-110', 'decimal': '1.909091', 'fractional': '10/11', 'malay': '0.91', 'indonesian': '-1.10', 'hongkong': '0.91'}}]}], 'order': 1}]}, {'id': '7235032', 'description': 'Los Angeles Chargers @ Cincinnati Bengals', 'type': 'GAMEEVENT', 'link': '/football/nfl/los-angeles-chargers-cincinnati-bengals-202009131605', 'status': 'O', 'sport': 'FOOT', 'startTime': 1600027500000, 'live': False, 'awayTeamFirst': True, 'denySameGame': 'NO', 'teaserAllowed': True, 'competitionId': '241', 'notes': '', 'numMarkets': 2, 'lastModified': 1589035955813, 'competitors': [{'id': '7235032-11904217', 'name': 'Cincinnati Bengals', 'home': True}, {'id': '7235032-11904248', 'name': 'Los Angeles Chargers', 'home': False}], 'displayGroups': [{'id': '100-41', 'description': 'Game Lines', 'defaultType': True, 'alternateType': False, 'markets': [{'id': '115776511', 'descriptionKey': 'Main Dynamic Asian Handicap', 'description': 'Point Spread', 'key': '2W-HCAP', 'marketTypeId': '120718', 'status': 'O', 'singleOnly': False, 'notes': 'Regular Season Week 1', 'period': {'id': '119', 'description': 'Match', 'abbreviation': 'M', 'live': False, 'main': True}, 'outcomes': [{'id': '615770433', 'description': 'Los Angeles Chargers', 'status': 'O', 'type': 'A', 'competitorId': '7235032-11904248', 'price': {'id': '4908986347', 'handicap': '-3.5', 'american': '-110', 'decimal': '1.909091', 'fractional': '10/11', 'malay': '0.91', 'indonesian': '-1.10', 'hongkong': '0.91'}}, {'id': '615770434', 'description': 'Cincinnati Bengals', 'status': 'O', 'type': 'H', 'competitorId': '7235032-11904217', 'price': {'id': '4908986348', 'handicap': '3.5', 'american': '-110', 'decimal': '1.909091', 'fractional': '10/11', 'malay': '0.91', 'indonesian': '-1.10', 'hongkong': '0.91'}}]}, {'id': '115776501', 'descriptionKey': 'Main Dynamic Over/Under', 'description': 'Total', 'key': '2W-OU', 'marketTypeId': '120717', 'status': 'O', 'singleOnly': False, 'notes': '', 'period': {'id': '119', 'description': 'Match', 'abbreviation': 'M', 'live': False, 'main': True}, 'outcomes': [{'id': '615770419', 'description': 'Over', 'status': 'O', 'type': 'O', 'price': {'id': '4907092093', 'handicap': '45.0', 'american': '-110', 'decimal': '1.909091', 'fractional': '10/11', 'malay': '0.91', 'indonesian': '-1.10', 'hongkong': '0.91'}}, {'id': '615770420', 'description': 'Under', 'status': 'O', 'type': 'U', 'price': {'id': '4907092094', 'handicap': '45.0', 'american': '-110', 'decimal': '1.909091', 'fractional': '10/11', 'malay': '0.91', 'indonesian': '-1.10', 'hongkong': '0.91'}}]}], 'order': 1}]}, {'id': '7235034', 'description': 'Arizona Cardinals @ San Francisco 49ers', 'type': 'GAMEEVENT', 'link': '/football/nfl/arizona-cardinals-san-francisco-49ers-202009131625', 'status': 'O', 'sport': 'FOOT', 'startTime': 1600028700000, 'live': False, 'awayTeamFirst': True, 'denySameGame': 'NO', 'teaserAllowed': True, 'competitionId': '241', 'notes': '', 'numMarkets': 2, 'lastModified': 1589039680211, 'competitors': [{'id': '7235034-11904233', 'name': 'San Francisco 49ers', 'home': True}, {'id': '7235034-11904247', 'name': 'Arizona Cardinals', 'home': False}], 'displayGroups': [{'id': '100-41', 'description': 'Game Lines', 'defaultType': True, 'alternateType': False, 'markets': [{'id': '115776594', 'descriptionKey': 'Main Dynamic Asian Handicap', 'description': 'Point Spread', 'key': '2W-HCAP', 'marketTypeId': '120718', 'status': 'O', 'singleOnly': False, 'notes': 'Regular Season Week 1', 'period': {'id': '119', 'description': 'Match', 'abbreviation': 'M', 'live': False, 'main': True}, 'outcomes': [{'id': '615771170', 'description': 'Arizona Cardinals', 'status': 'O', 'type': 'A', 'competitorId': '7235034-11904247', 'price': {'id': '4907092566', 'handicap': '8.0', 'american': '-110', 'decimal': '1.909091', 'fractional': '10/11', 'malay': '0.91', 'indonesian': '-1.10', 'hongkong': '0.91'}}, {'id': '615771171', 'description': 'San Francisco 49ers', 'status': 'O', 'type': 'H', 'competitorId': '7235034-11904233', 'price': {'id': '4907092567', 'handicap': '-8.0', 'american': '-110', 'decimal': '1.909091', 'fractional': '10/11', 'malay': '0.91', 'indonesian': '-1.10', 'hongkong': '0.91'}}]}, {'id': '115776571', 'descriptionKey': 'Main Dynamic Over/Under', 'description': 'Total', 'key': '2W-OU', 'marketTypeId': '120717', 'status': 'O', 'singleOnly': False, 'notes': '', 'period': {'id': '119', 'description': 'Match', 'abbreviation': 'M', 'live': False, 'main': True}, 'outcomes': [{'id': '615771156', 'description': 'Over', 'status': 'O', 'type': 'O', 'price': {'id': '4907092569', 'handicap': '45.5', 'american': '-110', 'decimal': '1.909091', 'fractional': '10/11', 'malay': '0.91', 'indonesian': '-1.10', 'hongkong': '0.91'}}, {'id': '615771157', 'description': 'Under', 'status': 'O', 'type': 'U', 'price': {'id': '4907092570', 'handicap': '45.5', 'american': '-110', 'decimal': '1.909091', 'fractional': '10/11', 'malay': '0.91', 'indonesian': '-1.10', 'hongkong': '0.91'}}]}], 'order': 1}]}, {'id': '7235039', 'description': 'Tampa Bay Buccaneers @ New Orleans Saints', 'type': 'GAMEEVENT', 'link': '/football/nfl/tampa-bay-buccaneers-new-orleans-saints-202009131625', 'status': 'O', 'sport': 'FOOT', 'startTime': 1600028700000, 'live': False, 'awayTeamFirst': True, 'denySameGame': 'NO', 'teaserAllowed': True, 'competitionId': '241', 'notes': '', 'numMarkets': 2, 'lastModified': 1588978019598, 'competitors': [{'id': '7235039-11904221', 'name': 'New Orleans Saints', 'home': True}, {'id': '7235039-11904225', 'name': 'Tampa Bay Buccaneers', 'home': False}], 'displayGroups': [{'id': '100-41', 'description': 'Game Lines', 'defaultType': True, 'alternateType': False, 'markets': [{'id': '115776700', 'descriptionKey': 'Main Dynamic Asian Handicap', 'description': 'Point Spread', 'key': '2W-HCAP', 'marketTypeId': '120718', 'status': 'O', 'singleOnly': False, 'notes': 'Regular Season Week 1', 'period': {'id': '119', 'description': 'Match', 'abbreviation': 'M', 'live': False, 'main': True}, 'outcomes': [{'id': '615771587', 'description': 'Tampa Bay Buccaneers', 'status': 'O', 'type': 'A', 'competitorId': '7235039-11904225', 'price': {'id': '4904748577', 'handicap': '4.5', 'american': '-110', 'decimal': '1.909091', 'fractional': '10/11', 'malay': '0.91', 'indonesian': '-1.10', 'hongkong': '0.91'}}, {'id': '615771588', 'description': 'New Orleans Saints', 'status': 'O', 'type': 'H', 'competitorId': '7235039-11904221', 'price': {'id': '4904748578', 'handicap': '-4.5', 'american': '-110', 'decimal': '1.909091', 'fractional': '10/11', 'malay': '0.91', 'indonesian': '-1.10', 'hongkong': '0.91'}}]}, {'id': '115776692', 'descriptionKey': 'Main Dynamic Over/Under', 'description': 'Total', 'key': '2W-OU', 'marketTypeId': '120717', 'status': 'O', 'singleOnly': False, 'notes': '', 'period': {'id': '119', 'description': 'Match', 'abbreviation': 'M', 'live': False, 'main': True}, 'outcomes': [{'id': '615771573', 'description': 'Over', 'status': 'O', 'type': 'O', 'price': {'id': '4907092900', 'handicap': '50.0', 'american': '-105', 'decimal': '1.952381', 'fractional': '20/21', 'malay': '0.95', 'indonesian': '-1.05', 'hongkong': '0.95'}}, {'id': '615771574', 'description': 'Under', 'status': 'O', 'type': 'U', 'price': {'id': '4907092901', 'handicap': '50.0', 'american': '-115', 'decimal': '1.870', 'fractional': '20/23', 'malay': '0.87', 'indonesian': '-1.15', 'hongkong': '0.87'}}]}], 'order': 1}]}, {'id': '7235040', 'description': 'Dallas Cowboys @ Los Angeles Rams', 'type': 'GAMEEVENT', 'link': '/football/nfl/dallas-cowboys-los-angeles-rams-202009132020', 'status': 'O', 'sport': 'FOOT', 'startTime': 1600042800000, 'live': False, 'awayTeamFirst': True, 'denySameGame': 'NO', 'teaserAllowed': True, 'competitionId': '241', 'notes': '', 'numMarkets': 2, 'lastModified': 1589025029205, 'competitors': [{'id': '7235040-11904226', 'name': 'Los Angeles Rams', 'home': True}, {'id': '7235040-11904234', 'name': 'Dallas Cowboys', 'home': False}], 'displayGroups': [{'id': '100-41', 'description': 'Game Lines', 'defaultType': True, 'alternateType': False, 'markets': [{'id': '115776781', 'descriptionKey': 'Main Dynamic Asian Handicap', 'description': 'Point Spread', 'key': '2W-HCAP', 'marketTypeId': '120718', 'status': 'O', 'singleOnly': False, 'notes': 'Regular Season Week 1', 'period': {'id': '119', 'description': 'Match', 'abbreviation': 'M', 'live': False, 'main': True}, 'outcomes': [{'id': '615772103', 'description': 'Dallas Cowboys', 'status': 'O', 'type': 'A', 'competitorId': '7235040-11904234', 'price': {'id': '4907093315', 'handicap': '-3.0', 'american': 'EVEN', 'decimal': '2.00', 'fractional': '1/1', 'malay': '1.00', 'indonesian': '1.00', 'hongkong': '1.00'}}, {'id': '615772104', 'description': 'Los Angeles Rams', 'status': 'O', 'type': 'H', 'competitorId': '7235040-11904226', 'price': {'id': '4907093316', 'handicap': '3.0', 'american': '-120', 'decimal': '1.833333', 'fractional': '5/6', 'malay': '0.83', 'indonesian': '-1.20', 'hongkong': '0.83'}}]}, {'id': '115776759', 'descriptionKey': 'Main Dynamic Over/Under', 'description': 'Total', 'key': '2W-OU', 'marketTypeId': '120717', 'status': 'O', 'singleOnly': False, 'notes': '', 'period': {'id': '119', 'description': 'Match', 'abbreviation': 'M', 'live': False, 'main': True}, 'outcomes': [{'id': '615772089', 'description': 'Over', 'status': 'O', 'type': 'O', 'price': {'id': '4907093874', 'handicap': '50.0', 'american': '-105', 'decimal': '1.952381', 'fractional': '20/21', 'malay': '0.95', 'indonesian': '-1.05', 'hongkong': '0.95'}}, {'id': '615772090', 'description': 'Under', 'status': 'O', 'type': 'U', 'price': {'id': '4907093875', 'handicap': '50.0', 'american': '-115', 'decimal': '1.870', 'fractional': '20/23', 'malay': '0.87', 'indonesian': '-1.15', 'hongkong': '0.87'}}]}], 'order': 1}]}, {'id': '7235044', 'description': 'Pittsburgh Steelers @ New York Giants', 'type': 'GAMEEVENT', 'link': '/football/nfl/pittsburgh-steelers-new-york-giants-202009141915', 'status': 'O', 'sport': 'FOOT', 'startTime': 1600125300000, 'live': False, 'awayTeamFirst': True, 'denySameGame': 'NO', 'teaserAllowed': True, 'competitionId': '241', 'notes': '', 'numMarkets': 2, 'lastModified': 1588978061761, 'competitors': [{'id': '7235044-11904218', 'name': 'New York Giants', 'home': True}, {'id': '7235044-11904223', 'name': 'Pittsburgh Steelers', 'home': False}], 'displayGroups': [{'id': '100-41', 'description': 'Game Lines', 'defaultType': True, 'alternateType': False, 'markets': [{'id': '115776896', 'descriptionKey': 'Main Dynamic Asian Handicap', 'description': 'Point Spread', 'key': '2W-HCAP', 'marketTypeId': '120718', 'status': 'O', 'singleOnly': False, 'notes': 'Regular Season Week 1', 'period': {'id': '119', 'description': 'Match', 'abbreviation': 'M', 'live': False, 'main': True}, 'outcomes': [{'id': '615772873', 'description': 'Pittsburgh Steelers', 'status': 'O', 'type': 'A', 'competitorId': '7235044-11904223', 'price': {'id': '4904748587', 'handicap': '-3.0', 'american': '-120', 'decimal': '1.833333', 'fractional': '5/6', 'malay': '0.83', 'indonesian': '-1.20', 'hongkong': '0.83'}}, {'id': '615772874', 'description': 'New York Giants', 'status': 'O', 'type': 'H', 'competitorId': '7235044-11904218', 'price': {'id': '4904748588', 'handicap': '3.0', 'american': 'EVEN', 'decimal': '2.00', 'fractional': '1/1', 'malay': '1.00', 'indonesian': '1.00', 'hongkong': '1.00'}}]}, {'id': '115776866', 'descriptionKey': 'Main Dynamic Over/Under', 'description': 'Total', 'key': '2W-OU', 'marketTypeId': '120717', 'status': 'O', 'singleOnly': False, 'notes': '', 'period': {'id': '119', 'description': 'Match', 'abbreviation': 'M', 'live': False, 'main': True}, 'outcomes': [{'id': '615772859', 'description': 'Over', 'status': 'O', 'type': 'O', 'price': {'id': '4907093989', 'handicap': '47.5', 'american': '-110', 'decimal': '1.909091', 'fractional': '10/11', 'malay': '0.91', 'indonesian': '-1.10', 'hongkong': '0.91'}}, {'id': '615772860', 'description': 'Under', 'status': 'O', 'type': 'U', 'price': {'id': '4907093990', 'handicap': '47.5', 'american': '-110', 'decimal': '1.909091', 'fractional': '10/11', 'malay': '0.91', 'indonesian': '-1.10', 'hongkong': '0.91'}}]}], 'order': 1}]}, {'id': '7235046', 'description': 'Tennessee Titans @ Denver Broncos', 'type': 'GAMEEVENT', 'link': '/football/nfl/tennessee-titans-denver-broncos-202009142210', 'status': 'O', 'sport': 'FOOT', 'startTime': 1600135800000, 'live': False, 'awayTeamFirst': True, 'denySameGame': 'NO', 'teaserAllowed': True, 'competitionId': '241', 'notes': '', 'numMarkets': 2, 'lastModified': 1588978070499, 'competitors': [{'id': '7235046-11904245', 'name': 'Denver Broncos', 'home': True}, {'id': '7235046-11904229', 'name': 'Tennessee Titans', 'home': False}], 'displayGroups': [{'id': '100-41', 'description': 'Game Lines', 'defaultType': True, 'alternateType': False, 'markets': [{'id': '115776963', 'descriptionKey': 'Main Dynamic Asian Handicap', 'description': 'Point Spread', 'key': '2W-HCAP', 'marketTypeId': '120718', 'status': 'O', 'singleOnly': False, 'notes': 'Regular Season Week 1', 'period': {'id': '119', 'description': 'Match', 'abbreviation': 'M', 'live': False, 'main': True}, 'outcomes': [{'id': '615773490', 'description': 'Tennessee Titans', 'status': 'O', 'type': 'A', 'competitorId': '7235046-11904229', 'price': {'id': '4904748591', 'handicap': '2.5', 'american': 'EVEN', 'decimal': '2.00', 'fractional': '1/1', 'malay': '1.00', 'indonesian': '1.00', 'hongkong': '1.00'}}, {'id': '615773491', 'description': 'Denver Broncos', 'status': 'O', 'type': 'H', 'competitorId': '7235046-11904245', 'price': {'id': '4904748592', 'handicap': '-2.5', 'american': '-120', 'decimal': '1.833333', 'fractional': '5/6', 'malay': '0.83', 'indonesian': '-1.20', 'hongkong': '0.83'}}]}, {'id': '115776940', 'descriptionKey': 'Main Dynamic Over/Under', 'description': 'Total', 'key': '2W-OU', 'marketTypeId': '120717', 'status': 'O', 'singleOnly': False, 'notes': '', 'period': {'id': '119', 'description': 'Match', 'abbreviation': 'M', 'live': False, 'main': True}, 'outcomes': [{'id': '615773476', 'description': 'Over', 'status': 'O', 'type': 'O', 'price': {'id': '4907094117', 'handicap': '41.5', 'american': '-110', 'decimal': '1.909091', 'fractional': '10/11', 'malay': '0.91', 'indonesian': '-1.10', 'hongkong': '0.91'}}, {'id': '615773477', 'description': 'Under', 'status': 'O', 'type': 'U', 'price': {'id': '4907094118', 'handicap': '41.5', 'american': '-110', 'decimal': '1.909091', 'fractional': '10/11', 'malay': '0.91', 'indonesian': '-1.10', 'hongkong': '0.91'}}]}], 'order': 1}]}, {'id': '7235079', 'description': 'Cincinnati Bengals @ Cleveland Browns', 'type': 'GAMEEVENT', 'link': '/football/nfl/cincinnati-bengals-cleveland-browns-202009172020', 'status': 'O', 'sport': 'FOOT', 'startTime': 1600388400000, 'live': False, 'awayTeamFirst': True, 'denySameGame': 'NO', 'teaserAllowed': True, 'competitionId': '241', 'notes': '', 'numMarkets': 2, 'lastModified': 1588981587619, 'competitors': [{'id': '7235079-11904219', 'name': 'Cleveland Browns', 'home': True}, {'id': '7235079-11904217', 'name': 'Cincinnati Bengals', 'home': False}], 'displayGroups': [{'id': '100-41', 'description': 'Game Lines', 'defaultType': True, 'alternateType': False, 'markets': [{'id': '115777782', 'descriptionKey': 'Main Dynamic Asian Handicap', 'description': 'Point Spread', 'key': '2W-HCAP', 'marketTypeId': '120718', 'status': 'O', 'singleOnly': False, 'notes': 'Regular Season Week 2', 'period': {'id': '119', 'description': 'Match', 'abbreviation': 'M', 'live': False, 'main': True}, 'outcomes': [{'id': '615780435', 'description': 'Cincinnati Bengals', 'status': 'O', 'type': 'A', 'competitorId': '7235079-11904217', 'price': {'id': '4904788542', 'handicap': '8.0', 'american': '-105', 'decimal': '1.952381', 'fractional': '20/21', 'malay': '0.95', 'indonesian': '-1.05', 'hongkong': '0.95'}}, {'id': '615780436', 'description': 'Cleveland Browns', 'status': 'O', 'type': 'H', 'competitorId': '7235079-11904219', 'price': {'id': '4904788543', 'handicap': '-8.0', 'american': '-115', 'decimal': '1.870', 'fractional': '20/23', 'malay': '0.87', 'indonesian': '-1.15', 'hongkong': '0.87'}}]}, {'id': '115777767', 'descriptionKey': 'Main Dynamic Over/Under', 'description': 'Total', 'key': '2W-OU', 'marketTypeId': '120717', 'status': 'O', 'singleOnly': False, 'notes': '', 'period': {'id': '119', 'description': 'Match', 'abbreviation': 'M', 'live': False, 'main': True}, 'outcomes': [{'id': '615780421', 'description': 'Over', 'status': 'O', 'type': 'O', 'price': {'id': '4904788544', 'handicap': '46.0', 'american': '-110', 'decimal': '1.909091', 'fractional': '10/11', 'malay': '0.91', 'indonesian': '-1.10', 'hongkong': '0.91'}}, {'id': '615780422', 'description': 'Under', 'status': 'O', 'type': 'U', 'price': {'id': '4904788545', 'handicap': '46.0', 'american': '-110', 'decimal': '1.909091', 'fractional': '10/11', 'malay': '0.91', 'indonesian': '-1.10', 'hongkong': '0.91'}}]}], 'order': 1}]}, {'id': '7235097', 'description': 'Atlanta Falcons @ Dallas Cowboys', 'type': 'GAMEEVENT', 'link': '/football/nfl/atlanta-falcons-dallas-cowboys-202009201300', 'status': 'O', 'sport': 'FOOT', 'startTime': 1600621200000, 'live': False, 'awayTeamFirst': True, 'denySameGame': 'NO', 'teaserAllowed': True, 'competitionId': '241', 'notes': '', 'numMarkets': 2, 'lastModified': 1588974463104, 'competitors': [{'id': '7235097-11904234', 'name': 'Dallas Cowboys', 'home': True}, {'id': '7235097-11904242', 'name': 'Atlanta Falcons', 'home': False}], 'displayGroups': [{'id': '100-41', 'description': 'Game Lines', 'defaultType': True, 'alternateType': False, 'markets': [{'id': '115778081', 'descriptionKey': 'Main Dynamic Asian Handicap', 'description': 'Point Spread', 'key': '2W-HCAP', 'marketTypeId': '120718', 'status': 'O', 'singleOnly': False, 'notes': 'Regular Season Week 2', 'period': {'id': '119', 'description': 'Match', 'abbreviation': 'M', 'live': False, 'main': True}, 'outcomes': [{'id': '615782883', 'description': 'Atlanta Falcons', 'status': 'O', 'type': 'A', 'competitorId': '7235097-11904242', 'price': {'id': '4904792681', 'handicap': '7.0', 'american': '-110', 'decimal': '1.909091', 'fractional': '10/11', 'malay': '0.91', 'indonesian': '-1.10', 'hongkong': '0.91'}}, {'id': '615782884', 'description': 'Dallas Cowboys', 'status': 'O', 'type': 'H', 'competitorId': '7235097-11904234', 'price': {'id': '4904792682', 'handicap': '-7.0', 'american': '-110', 'decimal': '1.909091', 'fractional': '10/11', 'malay': '0.91', 'indonesian': '-1.10', 'hongkong': '0.91'}}]}, {'id': '115778057', 'descriptionKey': 'Main Dynamic Over/Under', 'description': 'Total', 'key': '2W-OU', 'marketTypeId': '120717', 'status': 'O', 'singleOnly': False, 'notes': '', 'period': {'id': '119', 'description': 'Match', 'abbreviation': 'M', 'live': False, 'main': True}, 'outcomes': [{'id': '615782869', 'description': 'Over', 'status': 'O', 'type': 'O', 'price': {'id': '4904793188', 'handicap': '50.0', 'american': '-110', 'decimal': '1.909091', 'fractional': '10/11', 'malay': '0.91', 'indonesian': '-1.10', 'hongkong': '0.91'}}, {'id': '615782870', 'description': 'Under', 'status': 'O', 'type': 'U', 'price': {'id': '4904793189', 'handicap': '50.0', 'american': '-110', 'decimal': '1.909091', 'fractional': '10/11', 'malay': '0.91', 'indonesian': '-1.10', 'hongkong': '0.91'}}]}], 'order': 1}]}, {'id': '7235100', 'description': 'Buffalo Bills @ Miami Dolphins', 'type': 'GAMEEVENT', 'link': '/football/nfl/buffalo-bills-miami-dolphins-202009201300', 'status': 'O', 'sport': 'FOOT', 'startTime': 1600621200000, 'live': False, 'awayTeamFirst': True, 'denySameGame': 'NO', 'teaserAllowed': True, 'competitionId': '241', 'notes': '', 'numMarkets': 2, 'lastModified': 1588978115538, 'competitors': [{'id': '7235100-11904224', 'name': 'Miami Dolphins', 'home': True}, {'id': '7235100-11904215', 'name': 'Buffalo Bills', 'home': False}], 'displayGroups': [{'id': '100-41', 'description': 'Game Lines', 'defaultType': True, 'alternateType': False, 'markets': [{'id': '115778311', 'descriptionKey': 'Main Dynamic Asian Handicap', 'description': 'Point Spread', 'key': '2W-HCAP', 'marketTypeId': '120718', 'status': 'O', 'singleOnly': False, 'notes': 'Regular Season Week 2', 'period': {'id': '119', 'description': 'Match', 'abbreviation': 'M', 'live': False, 'main': True}, 'outcomes': [{'id': '615783547', 'description': 'Buffalo Bills', 'status': 'O', 'type': 'A', 'competitorId': '7235100-11904215', 'price': {'id': '4907095403', 'handicap': '-3.0', 'american': '-115', 'decimal': '1.870', 'fractional': '20/23', 'malay': '0.87', 'indonesian': '-1.15', 'hongkong': '0.87'}}, {'id': '615783548', 'description': 'Miami Dolphins', 'status': 'O', 'type': 'H', 'competitorId': '7235100-11904224', 'price': {'id': '4907095404', 'handicap': '3.0', 'american': '-105', 'decimal': '1.952381', 'fractional': '20/21', 'malay': '0.95', 'indonesian': '-1.05', 'hongkong': '0.95'}}]}, {'id': '115778334', 'descriptionKey': 'Main Dynamic Over/Under', 'description': 'Total', 'key': '2W-OU', 'marketTypeId': '120717', 'status': 'O', 'singleOnly': False, 'notes': '', 'period': {'id': '119', 'description': 'Match', 'abbreviation': 'M', 'live': False, 'main': True}, 'outcomes': [{'id': '615783533', 'description': 'Over', 'status': 'O', 'type': 'O', 'price': {'id': '4904793192', 'handicap': '43.0', 'american': '-110', 'decimal': '1.909091', 'fractional': '10/11', 'malay': '0.91', 'indonesian': '-1.10', 'hongkong': '0.91'}}, {'id': '615783534', 'description': 'Under', 'status': 'O', 'type': 'U', 'price': {'id': '4904793193', 'handicap': '43.0', 'american': '-110', 'decimal': '1.909091', 'fractional': '10/11', 'malay': '0.91', 'indonesian': '-1.10', 'hongkong': '0.91'}}]}], 'order': 1}]}, {'id': '7235089', 'description': 'Carolina Panthers @ Tampa Bay Buccaneers', 'type': 'GAMEEVENT', 'link': '/football/nfl/carolina-panthers-tampa-bay-buccaneers-202009201300', 'status': 'O', 'sport': 'FOOT', 'startTime': 1600621200000, 'live': False, 'awayTeamFirst': True, 'denySameGame': 'NO', 'teaserAllowed': True, 'competitionId': '241', 'notes': '', 'numMarkets': 2, 'lastModified': 1588970681615, 'competitors': [{'id': '7235089-11904225', 'name': 'Tampa Bay Buccaneers', 'home': True}, {'id': '7235089-11904216', 'name': 'Carolina Panthers', 'home': False}], 'displayGroups': [{'id': '100-41', 'description': 'Game Lines', 'defaultType': True, 'alternateType': False, 'markets': [{'id': '115777942', 'descriptionKey': 'Main Dynamic Asian Handicap', 'description': 'Point Spread', 'key': '2W-HCAP', 'marketTypeId': '120718', 'status': 'O', 'singleOnly': False, 'notes': 'Regular Season Week 2', 'period': {'id': '119', 'description': 'Match', 'abbreviation': 'M', 'live': False, 'main': True}, 'outcomes': [{'id': '615781974', 'description': 'Carolina Panthers', 'status': 'O', 'type': 'A', 'competitorId': '7235089-11904216', 'price': {'id': '4904792675', 'handicap': '8.0', 'american': '-105', 'decimal': '1.952381', 'fractional': '20/21', 'malay': '0.95', 'indonesian': '-1.05', 'hongkong': '0.95'}}, {'id': '615781975', 'description': 'Tampa Bay Buccaneers', 'status': 'O', 'type': 'H', 'competitorId': '7235089-11904225', 'price': {'id': '4904792676', 'handicap': '-8.0', 'american': '-115', 'decimal': '1.870', 'fractional': '20/23', 'malay': '0.87', 'indonesian': '-1.15', 'hongkong': '0.87'}}]}, {'id': '115777978', 'descriptionKey': 'Main Dynamic Over/Under', 'description': 'Total', 'key': '2W-OU', 'marketTypeId': '120717', 'status': 'O', 'singleOnly': False, 'notes': '', 'period': {'id': '119', 'description': 'Match', 'abbreviation': 'M', 'live': False, 'main': True}, 'outcomes': [{'id': '615781960', 'description': 'Over', 'status': 'O', 'type': 'O', 'price': {'id': '4904793184', 'handicap': '48.0', 'american': '-110', 'decimal': '1.909091', 'fractional': '10/11', 'malay': '0.91', 'indonesian': '-1.10', 'hongkong': '0.91'}}, {'id': '615781961', 'description': 'Under', 'status': 'O', 'type': 'U', 'price': {'id': '4904793185', 'handicap': '48.0', 'american': '-110', 'decimal': '1.909091', 'fractional': '10/11', 'malay': '0.91', 'indonesian': '-1.10', 'hongkong': '0.91'}}]}], 'order': 1}]}, {'id': '7235094', 'description': 'Denver Broncos @ Pittsburgh Steelers', 'type': 'GAMEEVENT', 'link': '/football/nfl/denver-broncos-pittsburgh-steelers-202009201300', 'status': 'O', 'sport': 'FOOT', 'startTime': 1600621200000, 'live': False, 'awayTeamFirst': True, 'denySameGame': 'NO', 'teaserAllowed': True, 'competitionId': '241', 'notes': '', 'numMarkets': 2, 'lastModified': 1588978096285, 'competitors': [{'id': '7235094-11904223', 'name': 'Pittsburgh Steelers', 'home': True}, {'id': '7235094-11904245', 'name': 'Denver Broncos', 'home': False}], 'displayGroups': [{'id': '100-41', 'description': 'Game Lines', 'defaultType': True, 'alternateType': False, 'markets': [{'id': '115777994', 'descriptionKey': 'Main Dynamic Asian Handicap', 'description': 'Point Spread', 'key': '2W-HCAP', 'marketTypeId': '120718', 'status': 'O', 'singleOnly': False, 'notes': 'Regular Season Week 2', 'period': {'id': '119', 'description': 'Match', 'abbreviation': 'M', 'live': False, 'main': True}, 'outcomes': [{'id': '615782489', 'description': 'Denver Broncos', 'status': 'O', 'type': 'A', 'competitorId': '7235094-11904245', 'price': {'id': '4904792678', 'handicap': '5.0', 'american': '-110', 'decimal': '1.909091', 'fractional': '10/11', 'malay': '0.91', 'indonesian': '-1.10', 'hongkong': '0.91'}}, {'id': '615782490', 'description': 'Pittsburgh Steelers', 'status': 'O', 'type': 'H', 'competitorId': '7235094-11904223', 'price': {'id': '4904792679', 'handicap': '-5.0', 'american': '-110', 'decimal': '1.909091', 'fractional': '10/11', 'malay': '0.91', 'indonesian': '-1.10', 'hongkong': '0.91'}}]}, {'id': '115778004', 'descriptionKey': 'Main Dynamic Over/Under', 'description': 'Total', 'key': '2W-OU', 'marketTypeId': '120717', 'status': 'O', 'singleOnly': False, 'notes': '', 'period': {'id': '119', 'description': 'Match', 'abbreviation': 'M', 'live': False, 'main': True}, 'outcomes': [{'id': '615782475', 'description': 'Over', 'status': 'O', 'type': 'O', 'price': {'id': '4907094613', 'handicap': '43.5', 'american': '-110', 'decimal': '1.909091', 'fractional': '10/11', 'malay': '0.91', 'indonesian': '-1.10', 'hongkong': '0.91'}}, {'id': '615782476', 'description': 'Under', 'status': 'O', 'type': 'U', 'price': {'id': '4907094614', 'handicap': '43.5', 'american': '-110', 'decimal': '1.909091', 'fractional': '10/11', 'malay': '0.91', 'indonesian': '-1.10', 'hongkong': '0.91'}}]}], 'order': 1}]}, {'id': '7235108', 'description': 'Detroit Lions @ Green Bay Packers', 'type': 'GAMEEVENT', 'link': '/football/nfl/detroit-lions-green-bay-packers-202009201300', 'status': 'O', 'sport': 'FOOT', 'startTime': 1600621200000, 'live': False, 'awayTeamFirst': True, 'denySameGame': 'NO', 'teaserAllowed': True, 'competitionId': '241', 'notes': '', 'numMarkets': 2, 'lastModified': 1588988486316, 'competitors': [{'id': '7235108-11904228', 'name': 'Green Bay Packers', 'home': True}, {'id': '7235108-11904244', 'name': 'Detroit Lions', 'home': False}], 'displayGroups': [{'id': '100-41', 'description': 'Game Lines', 'defaultType': True, 'alternateType': False, 'markets': [{'id': '115778469', 'descriptionKey': 'Main Dynamic Asian Handicap', 'description': 'Point Spread', 'key': '2W-HCAP', 'marketTypeId': '120718', 'status': 'O', 'singleOnly': False, 'notes': 'Regular Season Week 2', 'period': {'id': '119', 'description': 'Match', 'abbreviation': 'M', 'live': False, 'main': True}, 'outcomes': [{'id': '615784360', 'description': 'Detroit Lions', 'status': 'O', 'type': 'A', 'competitorId': '7235108-11904244', 'price': {'id': '4904792724', 'handicap': '6.5', 'american': '-110', 'decimal': '1.909091', 'fractional': '10/11', 'malay': '0.91', 'indonesian': '-1.10', 'hongkong': '0.91'}}, {'id': '615784361', 'description': 'Green Bay Packers', 'status': 'O', 'type': 'H', 'competitorId': '7235108-11904228', 'price': {'id': '4904792725', 'handicap': '-6.5', 'american': '-110', 'decimal': '1.909091', 'fractional': '10/11', 'malay': '0.91', 'indonesian': '-1.10', 'hongkong': '0.91'}}]}, {'id': '115778435', 'descriptionKey': 'Main Dynamic Over/Under', 'description': 'Total', 'key': '2W-OU', 'marketTypeId': '120717', 'status': 'O', 'singleOnly': False, 'notes': '', 'period': {'id': '119', 'description': 'Match', 'abbreviation': 'M', 'live': False, 'main': True}, 'outcomes': [{'id': '615784346', 'description': 'Over', 'status': 'O', 'type': 'O', 'price': {'id': '4904793196', 'handicap': '46.0', 'american': '-110', 'decimal': '1.909091', 'fractional': '10/11', 'malay': '0.91', 'indonesian': '-1.10', 'hongkong': '0.91'}}, {'id': '615784347', 'description': 'Under', 'status': 'O', 'type': 'U', 'price': {'id': '4904793197', 'handicap': '46.0', 'american': '-110', 'decimal': '1.909091', 'fractional': '10/11', 'malay': '0.91', 'indonesian': '-1.10', 'hongkong': '0.91'}}]}], 'order': 1}]}, {'id': '7235112', 'description': 'Jacksonville Jaguars @ Tennessee Titans', 'type': 'GAMEEVENT', 'link': '/football/nfl/jacksonville-jaguars-tennessee-titans-202009201300', 'status': 'O', 'sport': 'FOOT', 'startTime': 1600621200000, 'live': False, 'awayTeamFirst': True, 'denySameGame': 'NO', 'teaserAllowed': True, 'competitionId': '241', 'notes': '', 'numMarkets': 2, 'lastModified': 1588910201982, 'competitors': [{'id': '7235112-11904229', 'name': 'Tennessee Titans', 'home': True}, {'id': '7235112-11904220', 'name': 'Jacksonville Jaguars', 'home': False}], 'displayGroups': [{'id': '100-41', 'description': 'Game Lines', 'defaultType': True, 'alternateType': False, 'markets': [{'id': '115778606', 'descriptionKey': 'Main Dynamic Asian Handicap', 'description': 'Point Spread', 'key': '2W-HCAP', 'marketTypeId': '120718', 'status': 'O', 'singleOnly': False, 'notes': 'Regular Season Week 2', 'period': {'id': '119', 'description': 'Match', 'abbreviation': 'M', 'live': False, 'main': True}, 'outcomes': [{'id': '615785021', 'description': 'Jacksonville Jaguars', 'status': 'O', 'type': 'A', 'competitorId': '7235112-11904220', 'price': {'id': '4904792730', 'handicap': '11.0', 'american': '-110', 'decimal': '1.909091', 'fractional': '10/11', 'malay': '0.91', 'indonesian': '-1.10', 'hongkong': '0.91'}}, {'id': '615785022', 'description': 'Tennessee Titans', 'status': 'O', 'type': 'H', 'competitorId': '7235112-11904229', 'price': {'id': '4904792731', 'handicap': '-11.0', 'american': '-110', 'decimal': '1.909091', 'fractional': '10/11', 'malay': '0.91', 'indonesian': '-1.10', 'hongkong': '0.91'}}]}, {'id': '115778607', 'descriptionKey': 'Main Dynamic Over/Under', 'description': 'Total', 'key': '2W-OU', 'marketTypeId': '120717', 'status': 'O', 'singleOnly': False, 'notes': '', 'period': {'id': '119', 'description': 'Match', 'abbreviation': 'M', 'live': False, 'main': True}, 'outcomes': [{'id': '615785007', 'description': 'Over', 'status': 'O', 'type': 'O', 'price': {'id': '4904793200', 'handicap': '42.5', 'american': '-110', 'decimal': '1.909091', 'fractional': '10/11', 'malay': '0.91', 'indonesian': '-1.10', 'hongkong': '0.91'}}, {'id': '615785008', 'description': 'Under', 'status': 'O', 'type': 'U', 'price': {'id': '4904793201', 'handicap': '42.5', 'american': '-110', 'decimal': '1.909091', 'fractional': '10/11', 'malay': '0.91', 'indonesian': '-1.10', 'hongkong': '0.91'}}]}], 'order': 1}]}, {'id': '7235086', 'description': 'Los Angeles Rams @ Philadelphia Eagles', 'type': 'GAMEEVENT', 'link': '/football/nfl/los-angeles-rams-philadelphia-eagles-202009201300', 'status': 'O', 'sport': 'FOOT', 'startTime': 1600621200000, 'live': False, 'awayTeamFirst': True, 'denySameGame': 'NO', 'teaserAllowed': True, 'competitionId': '241', 'notes': '', 'numMarkets': 2, 'lastModified': 1588968722893, 'competitors': [{'id': '7235086-11904222', 'name': 'Philadelphia Eagles', 'home': True}, {'id': '7235086-11904226', 'name': 'Los Angeles Rams', 'home': False}], 'displayGroups': [{'id': '100-41', 'description': 'Game Lines', 'defaultType': True, 'alternateType': False, 'markets': [{'id': '115777871', 'descriptionKey': 'Main Dynamic Asian Handicap', 'description': 'Point Spread', 'key': '2W-HCAP', 'marketTypeId': '120718', 'status': 'O', 'singleOnly': False, 'notes': 'Regular Season Week 2', 'period': {'id': '119', 'description': 'Match', 'abbreviation': 'M', 'live': False, 'main': True}, 'outcomes': [{'id': '615781339', 'description': 'Los Angeles Rams', 'status': 'O', 'type': 'A', 'competitorId': '7235086-11904226', 'price': {'id': '4904792673', 'handicap': '4.0', 'american': '-105', 'decimal': '1.952381', 'fractional': '20/21', 'malay': '0.95', 'indonesian': '-1.05', 'hongkong': '0.95'}}, {'id': '615781340', 'description': 'Philadelphia Eagles', 'status': 'O', 'type': 'H', 'competitorId': '7235086-11904222', 'price': {'id': '4904792674', 'handicap': '-4.0', 'american': '-115', 'decimal': '1.870', 'fractional': '20/23', 'malay': '0.87', 'indonesian': '-1.15', 'hongkong': '0.87'}}]}, {'id': '115777889', 'descriptionKey': 'Main Dynamic Over/Under', 'description': 'Total', 'key': '2W-OU', 'marketTypeId': '120717', 'status': 'O', 'singleOnly': False, 'notes': '', 'period': {'id': '119', 'description': 'Match', 'abbreviation': 'M', 'live': False, 'main': True}, 'outcomes': [{'id': '615781324', 'description': 'Over', 'status': 'O', 'type': 'O', 'price': {'id': '4904793182', 'handicap': '49.0', 'american': '-110', 'decimal': '1.909091', 'fractional': '10/11', 'malay': '0.91', 'indonesian': '-1.10', 'hongkong': '0.91'}}, {'id': '615781325', 'description': 'Under', 'status': 'O', 'type': 'U', 'price': {'id': '4904793183', 'handicap': '49.0', 'american': '-110', 'decimal': '1.909091', 'fractional': '10/11', 'malay': '0.91', 'indonesian': '-1.10', 'hongkong': '0.91'}}]}], 'order': 1}]}, {'id': '7235102', 'description': 'Minnesota Vikings @ Indianapolis Colts', 'type': 'GAMEEVENT', 'link': '/football/nfl/minnesota-vikings-indianapolis-colts-202009201300', 'status': 'O', 'sport': 'FOOT', 'startTime': 1600621200000, 'live': False, 'awayTeamFirst': True, 'denySameGame': 'NO', 'teaserAllowed': True, 'competitionId': '241', 'notes': '', 'numMarkets': 2, 'lastModified': 1588970136265, 'competitors': [{'id': '7235102-11904232', 'name': 'Indianapolis Colts', 'home': True}, {'id': '7235102-11904246', 'name': 'Minnesota Vikings', 'home': False}], 'displayGroups': [{'id': '100-41', 'description': 'Game Lines', 'defaultType': True, 'alternateType': False, 'markets': [{'id': '115778354', 'descriptionKey': 'Main Dynamic Asian Handicap', 'description': 'Point Spread', 'key': '2W-HCAP', 'marketTypeId': '120718', 'status': 'O', 'singleOnly': False, 'notes': 'Regular Season Week 2', 'period': {'id': '119', 'description': 'Match', 'abbreviation': 'M', 'live': False, 'main': True}, 'outcomes': [{'id': '615783942', 'description': 'Minnesota Vikings', 'status': 'O', 'type': 'A', 'competitorId': '7235102-11904246', 'price': {'id': '4904792717', 'handicap': '3.0', 'american': '-115', 'decimal': '1.870', 'fractional': '20/23', 'malay': '0.87', 'indonesian': '-1.15', 'hongkong': '0.87'}}, {'id': '615783943', 'description': 'Indianapolis Colts', 'status': 'O', 'type': 'H', 'competitorId': '7235102-11904232', 'price': {'id': '4904792718', 'handicap': '-3.0', 'american': '-105', 'decimal': '1.952381', 'fractional': '20/21', 'malay': '0.95', 'indonesian': '-1.05', 'hongkong': '0.95'}}]}, {'id': '115778363', 'descriptionKey': 'Main Dynamic Over/Under', 'description': 'Total', 'key': '2W-OU', 'marketTypeId': '120717', 'status': 'O', 'singleOnly': False, 'notes': '', 'period': {'id': '119', 'description': 'Match', 'abbreviation': 'M', 'live': False, 'main': True}, 'outcomes': [{'id': '615783928', 'description': 'Over', 'status': 'O', 'type': 'O', 'price': {'id': '4904793194', 'handicap': '47.0', 'american': '-110', 'decimal': '1.909091', 'fractional': '10/11', 'malay': '0.91', 'indonesian': '-1.10', 'hongkong': '0.91'}}, {'id': '615783929', 'description': 'Under', 'status': 'O', 'type': 'U', 'price': {'id': '4904793195', 'handicap': '47.0', 'american': '-110', 'decimal': '1.909091', 'fractional': '10/11', 'malay': '0.91', 'indonesian': '-1.10', 'hongkong': '0.91'}}]}], 'order': 1}]}, {'id': '7235110', 'description': 'New York Giants @ Chicago Bears', 'type': 'GAMEEVENT', 'link': '/football/nfl/new-york-giants-chicago-bears-202009201300', 'status': 'O', 'sport': 'FOOT', 'startTime': 1600621200000, 'live': False, 'awayTeamFirst': True, 'denySameGame': 'NO', 'teaserAllowed': True, 'competitionId': '241', 'notes': '', 'numMarkets': 2, 'lastModified': 1588988486318, 'competitors': [{'id': '7235110-11903832', 'name': 'Chicago Bears', 'home': True}, {'id': '7235110-11904218', 'name': 'New York Giants', 'home': False}], 'displayGroups': [{'id': '100-41', 'description': 'Game Lines', 'defaultType': True, 'alternateType': False, 'markets': [{'id': '115778543', 'descriptionKey': 'Main Dynamic Asian Handicap', 'description': 'Point Spread', 'key': '2W-HCAP', 'marketTypeId': '120718', 'status': 'O', 'singleOnly': False, 'notes': 'Regular Season Week 2', 'period': {'id': '119', 'description': 'Match', 'abbreviation': 'M', 'live': False, 'main': True}, 'outcomes': [{'id': '615784746', 'description': 'New York Giants', 'status': 'O', 'type': 'A', 'competitorId': '7235110-11904218', 'price': {'id': '4904792726', 'handicap': '5.0', 'american': '-110', 'decimal': '1.909091', 'fractional': '10/11', 'malay': '0.91', 'indonesian': '-1.10', 'hongkong': '0.91'}}, {'id': '615784747', 'description': 'Chicago Bears', 'status': 'O', 'type': 'H', 'competitorId': '7235110-11903832', 'price': {'id': '4904792727', 'handicap': '-5.0', 'american': '-110', 'decimal': '1.909091', 'fractional': '10/11', 'malay': '0.91', 'indonesian': '-1.10', 'hongkong': '0.91'}}]}, {'id': '115778512', 'descriptionKey': 'Main Dynamic Over/Under', 'description': 'Total', 'key': '2W-OU', 'marketTypeId': '120717', 'status': 'O', 'singleOnly': False, 'notes': '', 'period': {'id': '119', 'description': 'Match', 'abbreviation': 'M', 'live': False, 'main': True}, 'outcomes': [{'id': '615784732', 'description': 'Over', 'status': 'O', 'type': 'O', 'price': {'id': '4904793198', 'handicap': '43.5', 'american': '-110', 'decimal': '1.909091', 'fractional': '10/11', 'malay': '0.91', 'indonesian': '-1.10', 'hongkong': '0.91'}}, {'id': '615784733', 'description': 'Under', 'status': 'O', 'type': 'U', 'price': {'id': '4904793199', 'handicap': '43.5', 'american': '-110', 'decimal': '1.909091', 'fractional': '10/11', 'malay': '0.91', 'indonesian': '-1.10', 'hongkong': '0.91'}}]}], 'order': 1}]}, {'id': '7235099', 'description': 'San Francisco 49ers @ New York Jets', 'type': 'GAMEEVENT', 'link': '/football/nfl/san-francisco-49ers-new-york-jets-202009201300', 'status': 'O', 'sport': 'FOOT', 'startTime': 1600621200000, 'live': False, 'awayTeamFirst': True, 'denySameGame': 'NO', 'teaserAllowed': True, 'competitionId': '241', 'notes': '', 'numMarkets': 2, 'lastModified': 1588978105188, 'competitors': [{'id': '7235099-11904241', 'name': 'New York Jets', 'home': True}, {'id': '7235099-11904233', 'name': 'San Francisco 49ers', 'home': False}], 'displayGroups': [{'id': '100-41', 'description': 'Game Lines', 'defaultType': True, 'alternateType': False, 'markets': [{'id': '115778226', 'descriptionKey': 'Main Dynamic Asian Handicap', 'description': 'Point Spread', 'key': '2W-HCAP', 'marketTypeId': '120718', 'status': 'O', 'singleOnly': False, 'notes': 'Regular Season Week 2', 'period': {'id': '119', 'description': 'Match', 'abbreviation': 'M', 'live': False, 'main': True}, 'outcomes': [{'id': '615783277', 'description': 'San Francisco 49ers', 'status': 'O', 'type': 'A', 'competitorId': '7235099-11904233', 'price': {'id': '4907095226', 'handicap': '-5.0', 'american': '-110', 'decimal': '1.909091', 'fractional': '10/11', 'malay': '0.91', 'indonesian': '-1.10', 'hongkong': '0.91'}}, {'id': '615783278', 'description': 'New York Jets', 'status': 'O', 'type': 'H', 'competitorId': '7235099-11904241', 'price': {'id': '4907095227', 'handicap': '5.0', 'american': '-110', 'decimal': '1.909091', 'fractional': '10/11', 'malay': '0.91', 'indonesian': '-1.10', 'hongkong': '0.91'}}]}, {'id': '115778276', 'descriptionKey': 'Main Dynamic Over/Under', 'description': 'Total', 'key': '2W-OU', 'marketTypeId': '120717', 'status': 'O', 'singleOnly': False, 'notes': '', 'period': {'id': '119', 'description': 'Match', 'abbreviation': 'M', 'live': False, 'main': True}, 'outcomes': [{'id': '615783263', 'description': 'Over', 'status': 'O', 'type': 'O', 'price': {'id': '4904793190', 'handicap': '43.5', 'american': '-110', 'decimal': '1.909091', 'fractional': '10/11', 'malay': '0.91', 'indonesian': '-1.10', 'hongkong': '0.91'}}, {'id': '615783264', 'description': 'Under', 'status': 'O', 'type': 'U', 'price': {'id': '4904793191', 'handicap': '43.5', 'american': '-110', 'decimal': '1.909091', 'fractional': '10/11', 'malay': '0.91', 'indonesian': '-1.10', 'hongkong': '0.91'}}]}], 'order': 1}]}, {'id': '7235117', 'description': 'Washington Redskins @ Arizona Cardinals', 'type': 'GAMEEVENT', 'link': '/football/nfl/washington-redskins-arizona-cardinals-202009201605', 'status': 'O', 'sport': 'FOOT', 'startTime': 1600632300000, 'live': False, 'awayTeamFirst': True, 'denySameGame': 'NO', 'teaserAllowed': True, 'competitionId': '241', 'notes': '', 'numMarkets': 2, 'lastModified': 1588978188398, 'competitors': [{'id': '7235117-11904247', 'name': 'Arizona Cardinals', 'home': True}, {'id': '7235117-11904227', 'name': 'Washington Redskins', 'home': False}], 'displayGroups': [{'id': '100-41', 'description': 'Game Lines', 'defaultType': True, 'alternateType': False, 'markets': [{'id': '115778653', 'descriptionKey': 'Main Dynamic Asian Handicap', 'description': 'Point Spread', 'key': '2W-HCAP', 'marketTypeId': '120718', 'status': 'O', 'singleOnly': False, 'notes': 'Regular Season Week 2', 'period': {'id': '119', 'description': 'Match', 'abbreviation': 'M', 'live': False, 'main': True}, 'outcomes': [{'id': '615785556', 'description': 'Washington Redskins', 'status': 'O', 'type': 'A', 'competitorId': '7235117-11904227', 'price': {'id': '4907096670', 'handicap': '6.5', 'american': '-110', 'decimal': '1.909091', 'fractional': '10/11', 'malay': '0.91', 'indonesian': '-1.10', 'hongkong': '0.91'}}, {'id': '615785557', 'description': 'Arizona Cardinals', 'status': 'O', 'type': 'H', 'competitorId': '7235117-11904247', 'price': {'id': '4907096671', 'handicap': '-6.5', 'american': '-110', 'decimal': '1.909091', 'fractional': '10/11', 'malay': '0.91', 'indonesian': '-1.10', 'hongkong': '0.91'}}]}, {'id': '115778657', 'descriptionKey': 'Main Dynamic Over/Under', 'description': 'Total', 'key': '2W-OU', 'marketTypeId': '120717', 'status': 'O', 'singleOnly': False, 'notes': '', 'period': {'id': '119', 'description': 'Match', 'abbreviation': 'M', 'live': False, 'main': True}, 'outcomes': [{'id': '615785542', 'description': 'Over', 'status': 'O', 'type': 'O', 'price': {'id': '4907096768', 'handicap': '46.0', 'american': '-110', 'decimal': '1.909091', 'fractional': '10/11', 'malay': '0.91', 'indonesian': '-1.10', 'hongkong': '0.91'}}, {'id': '615785543', 'description': 'Under', 'status': 'O', 'type': 'U', 'price': {'id': '4907096769', 'handicap': '46.0', 'american': '-110', 'decimal': '1.909091', 'fractional': '10/11', 'malay': '0.91', 'indonesian': '-1.10', 'hongkong': '0.91'}}]}], 'order': 1}]}, {'id': '7235120', 'description': 'Baltimore Ravens @ Houston Texans', 'type': 'GAMEEVENT', 'link': '/football/nfl/baltimore-ravens-houston-texans-202009201625', 'status': 'O', 'sport': 'FOOT', 'startTime': 1600633500000, 'live': False, 'awayTeamFirst': True, 'denySameGame': 'NO', 'teaserAllowed': True, 'competitionId': '241', 'notes': '', 'numMarkets': 2, 'lastModified': 1588978195644, 'competitors': [{'id': '7235120-11904230', 'name': 'Houston Texans', 'home': True}, {'id': '7235120-11903831', 'name': 'Baltimore Ravens', 'home': False}], 'displayGroups': [{'id': '100-41', 'description': 'Game Lines', 'defaultType': True, 'alternateType': False, 'markets': [{'id': '115778757', 'descriptionKey': 'Main Dynamic Asian Handicap', 'description': 'Point Spread', 'key': '2W-HCAP', 'marketTypeId': '120718', 'status': 'O', 'singleOnly': False, 'notes': 'Regular Season Week 2', 'period': {'id': '119', 'description': 'Match', 'abbreviation': 'M', 'live': False, 'main': True}, 'outcomes': [{'id': '615785953', 'description': 'Baltimore Ravens', 'status': 'O', 'type': 'A', 'competitorId': '7235120-11903831', 'price': {'id': '4904792743', 'handicap': '-6.0', 'american': '-110', 'decimal': '1.909091', 'fractional': '10/11', 'malay': '0.91', 'indonesian': '-1.10', 'hongkong': '0.91'}}, {'id': '615785954', 'description': 'Houston Texans', 'status': 'O', 'type': 'H', 'competitorId': '7235120-11904230', 'price': {'id': '4904792744', 'handicap': '6.0', 'american': '-110', 'decimal': '1.909091', 'fractional': '10/11', 'malay': '0.91', 'indonesian': '-1.10', 'hongkong': '0.91'}}]}, {'id': '115778756', 'descriptionKey': 'Main Dynamic Over/Under', 'description': 'Total', 'key': '2W-OU', 'marketTypeId': '120717', 'status': 'O', 'singleOnly': False, 'notes': '', 'period': {'id': '119', 'description': 'Match', 'abbreviation': 'M', 'live': False, 'main': True}, 'outcomes': [{'id': '615785939', 'description': 'Over', 'status': 'O', 'type': 'O', 'price': {'id': '4907096909', 'handicap': '54.0', 'american': '-110', 'decimal': '1.909091', 'fractional': '10/11', 'malay': '0.91', 'indonesian': '-1.10', 'hongkong': '0.91'}}, {'id': '615785940', 'description': 'Under', 'status': 'O', 'type': 'U', 'price': {'id': '4907096910', 'handicap': '54.0', 'american': '-110', 'decimal': '1.909091', 'fractional': '10/11', 'malay': '0.91', 'indonesian': '-1.10', 'hongkong': '0.91'}}]}], 'order': 1}]}, {'id': '7235122', 'description': 'Kansas City Chiefs @ Los Angeles Chargers', 'type': 'GAMEEVENT', 'link': '/football/nfl/kansas-city-chiefs-los-angeles-chargers-202009201625', 'status': 'O', 'sport': 'FOOT', 'startTime': 1600633500000, 'live': False, 'awayTeamFirst': True, 'denySameGame': 'NO', 'teaserAllowed': True, 'competitionId': '241', 'notes': '', 'numMarkets': 2, 'lastModified': 1588978217753, 'competitors': [{'id': '7235122-11904248', 'name': 'Los Angeles Chargers', 'home': True}, {'id': '7235122-11852811', 'name': 'Kansas City Chiefs', 'home': False}], 'displayGroups': [{'id': '100-41', 'description': 'Game Lines', 'defaultType': True, 'alternateType': False, 'markets': [{'id': '115778992', 'descriptionKey': 'Main Dynamic Asian Handicap', 'description': 'Point Spread', 'key': '2W-HCAP', 'marketTypeId': '120718', 'status': 'O', 'singleOnly': False, 'notes': 'Regular Season Week 2', 'period': {'id': '119', 'description': 'Match', 'abbreviation': 'M', 'live': False, 'main': True}, 'outcomes': [{'id': '615786110', 'description': 'Kansas City Chiefs', 'status': 'O', 'type': 'A', 'competitorId': '7235122-11852811', 'price': {'id': '4907097056', 'handicap': '-6.0', 'american': '-110', 'decimal': '1.909091', 'fractional': '10/11', 'malay': '0.91', 'indonesian': '-1.10', 'hongkong': '0.91'}}, {'id': '615786111', 'description': 'Los Angeles Chargers', 'status': 'O', 'type': 'H', 'competitorId': '7235122-11904248', 'price': {'id': '4907097057', 'handicap': '6.0', 'american': '-110', 'decimal': '1.909091', 'fractional': '10/11', 'malay': '0.91', 'indonesian': '-1.10', 'hongkong': '0.91'}}]}, {'id': '115779012', 'descriptionKey': 'Main Dynamic Over/Under', 'description': 'Total', 'key': '2W-OU', 'marketTypeId': '120717', 'status': 'O', 'singleOnly': False, 'notes': '', 'period': {'id': '119', 'description': 'Match', 'abbreviation': 'M', 'live': False, 'main': True}, 'outcomes': [{'id': '615786096', 'description': 'Over', 'status': 'O', 'type': 'O', 'price': {'id': '4907097222', 'handicap': '51.0', 'american': '-110', 'decimal': '1.909091', 'fractional': '10/11', 'malay': '0.91', 'indonesian': '-1.10', 'hongkong': '0.91'}}, {'id': '615786097', 'description': 'Under', 'status': 'O', 'type': 'U', 'price': {'id': '4907097223', 'handicap': '51.0', 'american': '-110', 'decimal': '1.909091', 'fractional': '10/11', 'malay': '0.91', 'indonesian': '-1.10', 'hongkong': '0.91'}}]}], 'order': 1}]}, {'id': '7235125', 'description': 'New England Patriots @ Seattle Seahawks', 'type': 'GAMEEVENT', 'link': '/football/nfl/new-england-patriots-seattle-seahawks-202009202020', 'status': 'O', 'sport': 'FOOT', 'startTime': 1600647600000, 'live': False, 'awayTeamFirst': True, 'denySameGame': 'NO', 'teaserAllowed': True, 'competitionId': '241', 'notes': '', 'numMarkets': 2, 'lastModified': 1588910201983, 'competitors': [{'id': '7235125-11904231', 'name': 'Seattle Seahawks', 'home': True}, {'id': '7235125-11852810', 'name': 'New England Patriots', 'home': False}], 'displayGroups': [{'id': '100-41', 'description': 'Game Lines', 'defaultType': True, 'alternateType': False, 'markets': [{'id': '115779078', 'descriptionKey': 'Main Dynamic Asian Handicap', 'description': 'Point Spread', 'key': '2W-HCAP', 'marketTypeId': '120718', 'status': 'O', 'singleOnly': False, 'notes': 'Regular Season Week 2', 'period': {'id': '119', 'description': 'Match', 'abbreviation': 'M', 'live': False, 'main': True}, 'outcomes': [{'id': '615786621', 'description': 'New England Patriots', 'status': 'O', 'type': 'A', 'competitorId': '7235125-11852810', 'price': {'id': '4904792753', 'handicap': '3.5', 'american': '-110', 'decimal': '1.909091', 'fractional': '10/11', 'malay': '0.91', 'indonesian': '-1.10', 'hongkong': '0.91'}}, {'id': '615786622', 'description': 'Seattle Seahawks', 'status': 'O', 'type': 'H', 'competitorId': '7235125-11904231', 'price': {'id': '4904792754', 'handicap': '-3.5', 'american': '-110', 'decimal': '1.909091', 'fractional': '10/11', 'malay': '0.91', 'indonesian': '-1.10', 'hongkong': '0.91'}}]}, {'id': '115779050', 'descriptionKey': 'Main Dynamic Over/Under', 'description': 'Total', 'key': '2W-OU', 'marketTypeId': '120717', 'status': 'O', 'singleOnly': False, 'notes': '', 'period': {'id': '119', 'description': 'Match', 'abbreviation': 'M', 'live': False, 'main': True}, 'outcomes': [{'id': '615786607', 'description': 'Over', 'status': 'O', 'type': 'O', 'price': {'id': '4904793208', 'handicap': '44.0', 'american': '-110', 'decimal': '1.909091', 'fractional': '10/11', 'malay': '0.91', 'indonesian': '-1.10', 'hongkong': '0.91'}}, {'id': '615786608', 'description': 'Under', 'status': 'O', 'type': 'U', 'price': {'id': '4904793209', 'handicap': '44.0', 'american': '-110', 'decimal': '1.909091', 'fractional': '10/11', 'malay': '0.91', 'indonesian': '-1.10', 'hongkong': '0.91'}}]}], 'order': 1}]}, {'id': '7235183', 'description': 'New Orleans Saints @ Las Vegas Raiders', 'type': 'GAMEEVENT', 'link': '/football/nfl/new-orleans-saints-las-vegas-raiders-202009212015', 'status': 'O', 'sport': 'FOOT', 'startTime': 1600733700000, 'live': False, 'awayTeamFirst': True, 'denySameGame': 'NO', 'teaserAllowed': True, 'competitionId': '241', 'notes': '', 'numMarkets': 2, 'lastModified': 1588967307322, 'competitors': [{'id': '7235183-11904243', 'name': 'Las Vegas Raiders', 'home': True}, {'id': '7235183-11904221', 'name': 'New Orleans Saints', 'home': False}], 'displayGroups': [{'id': '100-41', 'description': 'Game Lines', 'defaultType': True, 'alternateType': False, 'markets': [{'id': '115779529', 'descriptionKey': 'Main Dynamic Asian Handicap', 'description': 'Point Spread', 'key': '2W-HCAP', 'marketTypeId': '120718', 'status': 'O', 'singleOnly': False, 'notes': 'Regular Season Week 2', 'period': {'id': '119', 'description': 'Match', 'abbreviation': 'M', 'live': False, 'main': True}, 'outcomes': [{'id': '615791039', 'description': 'New Orleans Saints', 'status': 'O', 'type': 'A', 'competitorId': '7235183-11904221', 'price': {'id': '4904792759', 'handicap': '-4.0', 'american': '-110', 'decimal': '1.909091', 'fractional': '10/11', 'malay': '0.91', 'indonesian': '-1.10', 'hongkong': '0.91'}}, {'id': '615791040', 'description': 'Las Vegas Raiders', 'status': 'O', 'type': 'H', 'competitorId': '7235183-11904243', 'price': {'id': '4904792760', 'handicap': '4.0', 'american': '-110', 'decimal': '1.909091', 'fractional': '10/11', 'malay': '0.91', 'indonesian': '-1.10', 'hongkong': '0.91'}}]}, {'id': '115779556', 'descriptionKey': 'Main Dynamic Over/Under', 'description': 'Total', 'key': '2W-OU', 'marketTypeId': '120717', 'status': 'O', 'singleOnly': False, 'notes': '', 'period': {'id': '119', 'description': 'Match', 'abbreviation': 'M', 'live': False, 'main': True}, 'outcomes': [{'id': '615791025', 'description': 'Over', 'status': 'O', 'type': 'O', 'price': {'id': '4904793210', 'handicap': '50.5', 'american': '-110', 'decimal': '1.909091', 'fractional': '10/11', 'malay': '0.91', 'indonesian': '-1.10', 'hongkong': '0.91'}}, {'id': '615791026', 'description': 'Under', 'status': 'O', 'type': 'U', 'price': {'id': '4904793211', 'handicap': '50.5', 'american': '-110', 'decimal': '1.909091', 'fractional': '10/11', 'malay': '0.91', 'indonesian': '-1.10', 'hongkong': '0.91'}}]}], 'order': 1}]}]}]\n"
     ]
    }
   ],
   "source": [
    "import requests \n",
    "\n",
    "source = requests.get(\"https://www.bovada.lv/services/sports/event/v2/events/A/description/football/nfl\").json()\n",
    "\n",
    "print(source)"
   ]
  },
  {
   "cell_type": "code",
   "execution_count": 81,
   "metadata": {
    "ExecuteTime": {
     "end_time": "2020-05-09T16:19:39.180692Z",
     "start_time": "2020-05-09T16:19:39.175651Z"
    }
   },
   "outputs": [
    {
     "data": {
      "text/plain": [
       "list"
      ]
     },
     "execution_count": 81,
     "metadata": {},
     "output_type": "execute_result"
    }
   ],
   "source": [
    "type(source)"
   ]
  },
  {
   "cell_type": "code",
   "execution_count": 82,
   "metadata": {
    "ExecuteTime": {
     "end_time": "2020-05-09T16:19:54.254489Z",
     "start_time": "2020-05-09T16:19:54.248823Z"
    }
   },
   "outputs": [
    {
     "data": {
      "text/plain": [
       "1"
      ]
     },
     "execution_count": 82,
     "metadata": {},
     "output_type": "execute_result"
    }
   ],
   "source": [
    "len(source)"
   ]
  },
  {
   "cell_type": "code",
   "execution_count": 83,
   "metadata": {
    "ExecuteTime": {
     "end_time": "2020-05-09T16:20:03.871640Z",
     "start_time": "2020-05-09T16:20:03.863943Z"
    }
   },
   "outputs": [
    {
     "data": {
      "text/plain": [
       "dict"
      ]
     },
     "execution_count": 83,
     "metadata": {},
     "output_type": "execute_result"
    }
   ],
   "source": [
    "type(source[0])"
   ]
  },
  {
   "cell_type": "code",
   "execution_count": 84,
   "metadata": {
    "ExecuteTime": {
     "end_time": "2020-05-09T16:20:24.457544Z",
     "start_time": "2020-05-09T16:20:24.454030Z"
    }
   },
   "outputs": [],
   "source": [
    "data = source[0]"
   ]
  },
  {
   "cell_type": "code",
   "execution_count": 85,
   "metadata": {
    "ExecuteTime": {
     "end_time": "2020-05-09T16:20:32.649677Z",
     "start_time": "2020-05-09T16:20:32.645236Z"
    }
   },
   "outputs": [
    {
     "data": {
      "text/plain": [
       "dict_keys(['path', 'events'])"
      ]
     },
     "execution_count": 85,
     "metadata": {},
     "output_type": "execute_result"
    }
   ],
   "source": [
    "data.keys()"
   ]
  },
  {
   "cell_type": "code",
   "execution_count": 87,
   "metadata": {
    "ExecuteTime": {
     "end_time": "2020-05-09T16:21:05.643427Z",
     "start_time": "2020-05-09T16:21:05.635984Z"
    }
   },
   "outputs": [
    {
     "data": {
      "text/plain": [
       "(list, 32)"
      ]
     },
     "execution_count": 87,
     "metadata": {},
     "output_type": "execute_result"
    }
   ],
   "source": [
    "type(data['events']), len(data['events'])"
   ]
  },
  {
   "cell_type": "code",
   "execution_count": 88,
   "metadata": {
    "ExecuteTime": {
     "end_time": "2020-05-09T16:21:34.287148Z",
     "start_time": "2020-05-09T16:21:34.280187Z"
    }
   },
   "outputs": [
    {
     "data": {
      "text/plain": [
       "{dict}"
      ]
     },
     "execution_count": 88,
     "metadata": {},
     "output_type": "execute_result"
    }
   ],
   "source": [
    "set(type(e) for e in data['events'])"
   ]
  },
  {
   "cell_type": "code",
   "execution_count": 89,
   "metadata": {
    "ExecuteTime": {
     "end_time": "2020-05-09T16:21:45.330853Z",
     "start_time": "2020-05-09T16:21:45.321615Z"
    }
   },
   "outputs": [
    {
     "data": {
      "text/plain": [
       "False"
      ]
     },
     "execution_count": 89,
     "metadata": {},
     "output_type": "execute_result"
    }
   ],
   "source": [
    "all(data['events'][0].keys() == e.keys() for e in data['events'][1:])"
   ]
  },
  {
   "cell_type": "code",
   "execution_count": 90,
   "metadata": {
    "ExecuteTime": {
     "end_time": "2020-05-09T16:22:07.328017Z",
     "start_time": "2020-05-09T16:22:07.322775Z"
    }
   },
   "outputs": [
    {
     "data": {
      "text/plain": [
       "dict_keys(['id', 'description', 'type', 'link', 'status', 'sport', 'startTime', 'live', 'awayTeamFirst', 'denySameGame', 'teaserAllowed', 'competitionId', 'notes', 'numMarkets', 'lastModified', 'competitors', 'displayGroups'])"
      ]
     },
     "execution_count": 90,
     "metadata": {},
     "output_type": "execute_result"
    }
   ],
   "source": [
    "data['events'][0].keys()"
   ]
  },
  {
   "cell_type": "code",
   "execution_count": 91,
   "metadata": {
    "ExecuteTime": {
     "end_time": "2020-05-09T16:22:23.332586Z",
     "start_time": "2020-05-09T16:22:23.320507Z"
    }
   },
   "outputs": [
    {
     "name": "stdout",
     "output_type": "stream",
     "text": [
      "id <class 'str'>\n",
      "description <class 'str'>\n",
      "type <class 'str'>\n",
      "link <class 'str'>\n",
      "status <class 'str'>\n",
      "sport <class 'str'>\n",
      "startTime <class 'int'>\n",
      "live <class 'bool'>\n",
      "awayTeamFirst <class 'bool'>\n",
      "denySameGame <class 'str'>\n",
      "teaserAllowed <class 'bool'>\n",
      "competitionId <class 'str'>\n",
      "notes <class 'str'>\n",
      "numMarkets <class 'int'>\n",
      "lastModified <class 'int'>\n",
      "competitors <class 'list'>\n",
      "displayGroups <class 'list'>\n"
     ]
    }
   ],
   "source": [
    "for k, v in data['events'][0].items():\n",
    "    print(k, type(v))"
   ]
  },
  {
   "cell_type": "code",
   "execution_count": 92,
   "metadata": {
    "ExecuteTime": {
     "end_time": "2020-05-09T16:23:43.120852Z",
     "start_time": "2020-05-09T16:23:43.113873Z"
    }
   },
   "outputs": [
    {
     "data": {
      "text/plain": [
       "{'id': '7234968',\n",
       " 'description': 'Houston Texans @ Kansas City Chiefs',\n",
       " 'type': 'GAMEEVENT',\n",
       " 'link': '/football/nfl/houston-texans-kansas-city-chiefs-202009102020',\n",
       " 'status': 'O',\n",
       " 'sport': 'FOOT',\n",
       " 'startTime': 1599783600000,\n",
       " 'live': False,\n",
       " 'awayTeamFirst': True,\n",
       " 'denySameGame': 'NO',\n",
       " 'teaserAllowed': True,\n",
       " 'competitionId': '241',\n",
       " 'notes': '',\n",
       " 'numMarkets': 2,\n",
       " 'lastModified': 1589026345128,\n",
       " 'competitors': [{'id': '7234968-11852811',\n",
       "   'name': 'Kansas City Chiefs',\n",
       "   'home': True},\n",
       "  {'id': '7234968-11904230', 'name': 'Houston Texans', 'home': False}],\n",
       " 'displayGroups': [{'id': '100-41',\n",
       "   'description': 'Game Lines',\n",
       "   'defaultType': True,\n",
       "   'alternateType': False,\n",
       "   'markets': [{'id': '115774680',\n",
       "     'descriptionKey': 'Main Dynamic Asian Handicap',\n",
       "     'description': 'Point Spread',\n",
       "     'key': '2W-HCAP',\n",
       "     'marketTypeId': '120718',\n",
       "     'status': 'O',\n",
       "     'singleOnly': False,\n",
       "     'notes': 'Regular Season Week 1',\n",
       "     'period': {'id': '119',\n",
       "      'description': 'Match',\n",
       "      'abbreviation': 'M',\n",
       "      'live': False,\n",
       "      'main': True},\n",
       "     'outcomes': [{'id': '615758651',\n",
       "       'description': 'Houston Texans',\n",
       "       'status': 'O',\n",
       "       'type': 'A',\n",
       "       'competitorId': '7234968-11904230',\n",
       "       'price': {'id': '4907088313',\n",
       "        'handicap': '10.0',\n",
       "        'american': '-110',\n",
       "        'decimal': '1.909091',\n",
       "        'fractional': '10/11',\n",
       "        'malay': '0.91',\n",
       "        'indonesian': '-1.10',\n",
       "        'hongkong': '0.91'}},\n",
       "      {'id': '615758652',\n",
       "       'description': 'Kansas City Chiefs',\n",
       "       'status': 'O',\n",
       "       'type': 'H',\n",
       "       'competitorId': '7234968-11852811',\n",
       "       'price': {'id': '4907088314',\n",
       "        'handicap': '-10.0',\n",
       "        'american': '-110',\n",
       "        'decimal': '1.909091',\n",
       "        'fractional': '10/11',\n",
       "        'malay': '0.91',\n",
       "        'indonesian': '-1.10',\n",
       "        'hongkong': '0.91'}}]},\n",
       "    {'id': '115774664',\n",
       "     'descriptionKey': 'Main Dynamic Over/Under',\n",
       "     'description': 'Total',\n",
       "     'key': '2W-OU',\n",
       "     'marketTypeId': '120717',\n",
       "     'status': 'O',\n",
       "     'singleOnly': False,\n",
       "     'notes': '',\n",
       "     'period': {'id': '119',\n",
       "      'description': 'Match',\n",
       "      'abbreviation': 'M',\n",
       "      'live': False,\n",
       "      'main': True},\n",
       "     'outcomes': [{'id': '615758637',\n",
       "       'description': 'Over',\n",
       "       'status': 'O',\n",
       "       'type': 'O',\n",
       "       'price': {'id': '4907088722',\n",
       "        'handicap': '55.0',\n",
       "        'american': '-105',\n",
       "        'decimal': '1.952381',\n",
       "        'fractional': '20/21',\n",
       "        'malay': '0.95',\n",
       "        'indonesian': '-1.05',\n",
       "        'hongkong': '0.95'}},\n",
       "      {'id': '615758638',\n",
       "       'description': 'Under',\n",
       "       'status': 'O',\n",
       "       'type': 'U',\n",
       "       'price': {'id': '4907088723',\n",
       "        'handicap': '55.0',\n",
       "        'american': '-115',\n",
       "        'decimal': '1.870',\n",
       "        'fractional': '20/23',\n",
       "        'malay': '0.87',\n",
       "        'indonesian': '-1.15',\n",
       "        'hongkong': '0.87'}}]}],\n",
       "   'order': 1}]}"
      ]
     },
     "execution_count": 92,
     "metadata": {},
     "output_type": "execute_result"
    }
   ],
   "source": [
    "data['events'][0]"
   ]
  },
  {
   "cell_type": "code",
   "execution_count": 144,
   "metadata": {
    "ExecuteTime": {
     "end_time": "2020-05-09T17:50:03.888963Z",
     "start_time": "2020-05-09T17:50:00.308450Z"
    }
   },
   "outputs": [],
   "source": [
    "url = \"\"\"https://www.oddsportal.com/american-football/usa/nfl-2019-2020/results/#/page/1/\"\"\"\n",
    "money_line.append(pd.read_html(url))"
   ]
  },
  {
   "cell_type": "code",
   "execution_count": 145,
   "metadata": {
    "ExecuteTime": {
     "end_time": "2020-05-09T17:50:05.883339Z",
     "start_time": "2020-05-09T17:50:05.878092Z"
    }
   },
   "outputs": [
    {
     "data": {
      "text/plain": [
       "8"
      ]
     },
     "execution_count": 145,
     "metadata": {},
     "output_type": "execute_result"
    }
   ],
   "source": [
    "len(money_line)"
   ]
  },
  {
   "cell_type": "code",
   "execution_count": 146,
   "metadata": {
    "ExecuteTime": {
     "end_time": "2020-05-09T17:50:07.746891Z",
     "start_time": "2020-05-09T17:50:07.734639Z"
    }
   },
   "outputs": [
    {
     "data": {
      "text/plain": [
       "[                  0\n",
       " 0     Dropping Odds\n",
       " 1      Blocked Odds\n",
       " 2        Value Bets\n",
       " 3       Hot Matches\n",
       " 4    Best Handicaps\n",
       " 5    Moving Margins\n",
       " 6  Archived Results\n",
       " 7         Standings,                 0               1\n",
       " 0  Premier League   Vysshaya Liga\n",
       " 1    Liga Primera      K League 1\n",
       " 2  Premier League  WTA Exhibition\n",
       " 3  ATP Exhibition       Overwatch\n",
       " 4        Liga Pro  Comet Division\n",
       " 5   PDC Home Tour             NaN,                                                    0\n",
       " 0  Try RebelBetting for FREE  Increase your inves...,     0                                                  1\n",
       " 0 NaN  Try RebelBetting for FREE  Increase your inves...,                                                    0\n",
       " 0  Exclusive Offer!  Register via OddsPortal, ver...,     0                                                  1\n",
       " 0 NaN  Exclusive Offer!  Register via OddsPortal, ver...]"
      ]
     },
     "execution_count": 146,
     "metadata": {},
     "output_type": "execute_result"
    }
   ],
   "source": [
    "money_line[0]"
   ]
  },
  {
   "cell_type": "code",
   "execution_count": 147,
   "metadata": {
    "ExecuteTime": {
     "end_time": "2020-05-09T17:50:11.157165Z",
     "start_time": "2020-05-09T17:50:11.141452Z"
    }
   },
   "outputs": [
    {
     "data": {
      "text/plain": [
       "[                  0\n",
       " 0     Dropping Odds\n",
       " 1      Blocked Odds\n",
       " 2        Value Bets\n",
       " 3       Hot Matches\n",
       " 4    Best Handicaps\n",
       " 5    Moving Margins\n",
       " 6  Archived Results\n",
       " 7         Standings,                 0               1\n",
       " 0  Premier League   Vysshaya Liga\n",
       " 1    Liga Primera      K League 1\n",
       " 2  Premier League  WTA Exhibition\n",
       " 3  ATP Exhibition       Overwatch\n",
       " 4        Liga Pro  Comet Division\n",
       " 5   PDC Home Tour             NaN,                                                    0\n",
       " 0  Try RebelBetting for FREE  Increase your inves...,     0                                                  1\n",
       " 0 NaN  Try RebelBetting for FREE  Increase your inves...,                                                    0\n",
       " 0  Exclusive Offer!  Register via OddsPortal, ver...,     0                                                  1\n",
       " 0 NaN  Exclusive Offer!  Register via OddsPortal, ver...]"
      ]
     },
     "execution_count": 147,
     "metadata": {},
     "output_type": "execute_result"
    }
   ],
   "source": [
    "money_line[6]"
   ]
  },
  {
   "cell_type": "code",
   "execution_count": 148,
   "metadata": {
    "ExecuteTime": {
     "end_time": "2020-05-09T17:50:30.640796Z",
     "start_time": "2020-05-09T17:50:30.625305Z"
    }
   },
   "outputs": [
    {
     "data": {
      "text/plain": [
       "[                  0\n",
       " 0     Dropping Odds\n",
       " 1      Blocked Odds\n",
       " 2        Value Bets\n",
       " 3       Hot Matches\n",
       " 4    Best Handicaps\n",
       " 5    Moving Margins\n",
       " 6  Archived Results\n",
       " 7         Standings,                 0               1\n",
       " 0  Premier League   Vysshaya Liga\n",
       " 1    Liga Primera      K League 1\n",
       " 2  Premier League  WTA Exhibition\n",
       " 3  ATP Exhibition       Overwatch\n",
       " 4        Liga Pro  Comet Division\n",
       " 5   PDC Home Tour             NaN,                                                    0\n",
       " 0  Try RebelBetting for FREE  Increase your inves...,     0                                                  1\n",
       " 0 NaN  Try RebelBetting for FREE  Increase your inves...,                                                    0\n",
       " 0  Exclusive Offer!  Register via OddsPortal, ver...,     0                                                  1\n",
       " 0 NaN  Exclusive Offer!  Register via OddsPortal, ver...]"
      ]
     },
     "execution_count": 148,
     "metadata": {},
     "output_type": "execute_result"
    }
   ],
   "source": [
    "money_line[7]"
   ]
  },
  {
   "cell_type": "code",
   "execution_count": 134,
   "metadata": {
    "ExecuteTime": {
     "end_time": "2020-05-09T17:39:24.769333Z",
     "start_time": "2020-05-09T17:39:24.721882Z"
    }
   },
   "outputs": [
    {
     "ename": "TypeError",
     "evalue": "cannot concatenate object of type '<class 'list'>'; only Series and DataFrame objs are valid",
     "output_type": "error",
     "traceback": [
      "\u001b[0;31m---------------------------------------------------------------------------\u001b[0m",
      "\u001b[0;31mTypeError\u001b[0m                                 Traceback (most recent call last)",
      "\u001b[0;32m<ipython-input-134-e734784f5fd3>\u001b[0m in \u001b[0;36m<module>\u001b[0;34m\u001b[0m\n\u001b[0;32m----> 1\u001b[0;31m \u001b[0mmoney_df\u001b[0m \u001b[0;34m=\u001b[0m \u001b[0mpd\u001b[0m\u001b[0;34m.\u001b[0m\u001b[0mconcat\u001b[0m\u001b[0;34m(\u001b[0m\u001b[0mmoney_line\u001b[0m\u001b[0;34m)\u001b[0m\u001b[0;34m\u001b[0m\u001b[0;34m\u001b[0m\u001b[0m\n\u001b[0m",
      "\u001b[0;32m~/anaconda3/lib/python3.7/site-packages/pandas/core/reshape/concat.py\u001b[0m in \u001b[0;36mconcat\u001b[0;34m(objs, axis, join, join_axes, ignore_index, keys, levels, names, verify_integrity, sort, copy)\u001b[0m\n\u001b[1;32m    253\u001b[0m         \u001b[0mverify_integrity\u001b[0m\u001b[0;34m=\u001b[0m\u001b[0mverify_integrity\u001b[0m\u001b[0;34m,\u001b[0m\u001b[0;34m\u001b[0m\u001b[0;34m\u001b[0m\u001b[0m\n\u001b[1;32m    254\u001b[0m         \u001b[0mcopy\u001b[0m\u001b[0;34m=\u001b[0m\u001b[0mcopy\u001b[0m\u001b[0;34m,\u001b[0m\u001b[0;34m\u001b[0m\u001b[0;34m\u001b[0m\u001b[0m\n\u001b[0;32m--> 255\u001b[0;31m         \u001b[0msort\u001b[0m\u001b[0;34m=\u001b[0m\u001b[0msort\u001b[0m\u001b[0;34m,\u001b[0m\u001b[0;34m\u001b[0m\u001b[0;34m\u001b[0m\u001b[0m\n\u001b[0m\u001b[1;32m    256\u001b[0m     )\n\u001b[1;32m    257\u001b[0m \u001b[0;34m\u001b[0m\u001b[0m\n",
      "\u001b[0;32m~/anaconda3/lib/python3.7/site-packages/pandas/core/reshape/concat.py\u001b[0m in \u001b[0;36m__init__\u001b[0;34m(self, objs, axis, join, join_axes, keys, levels, names, ignore_index, verify_integrity, copy, sort)\u001b[0m\n\u001b[1;32m    330\u001b[0m                     \u001b[0;34m\" only Series and DataFrame objs are valid\"\u001b[0m\u001b[0;34m.\u001b[0m\u001b[0mformat\u001b[0m\u001b[0;34m(\u001b[0m\u001b[0mtype\u001b[0m\u001b[0;34m(\u001b[0m\u001b[0mobj\u001b[0m\u001b[0;34m)\u001b[0m\u001b[0;34m)\u001b[0m\u001b[0;34m\u001b[0m\u001b[0;34m\u001b[0m\u001b[0m\n\u001b[1;32m    331\u001b[0m                 )\n\u001b[0;32m--> 332\u001b[0;31m                 \u001b[0;32mraise\u001b[0m \u001b[0mTypeError\u001b[0m\u001b[0;34m(\u001b[0m\u001b[0mmsg\u001b[0m\u001b[0;34m)\u001b[0m\u001b[0;34m\u001b[0m\u001b[0;34m\u001b[0m\u001b[0m\n\u001b[0m\u001b[1;32m    333\u001b[0m \u001b[0;34m\u001b[0m\u001b[0m\n\u001b[1;32m    334\u001b[0m             \u001b[0;31m# consolidate\u001b[0m\u001b[0;34m\u001b[0m\u001b[0;34m\u001b[0m\u001b[0;34m\u001b[0m\u001b[0m\n",
      "\u001b[0;31mTypeError\u001b[0m: cannot concatenate object of type '<class 'list'>'; only Series and DataFrame objs are valid"
     ]
    }
   ],
   "source": [
    "money_df = pd.concat(money_line)"
   ]
  },
  {
   "cell_type": "code",
   "execution_count": 149,
   "metadata": {
    "ExecuteTime": {
     "end_time": "2020-05-09T18:39:37.139667Z",
     "start_time": "2020-05-09T18:39:37.132426Z"
    }
   },
   "outputs": [],
   "source": [
    "from bs4 import BeautifulSoup"
   ]
  },
  {
   "cell_type": "code",
   "execution_count": 130,
   "metadata": {
    "ExecuteTime": {
     "end_time": "2020-05-09T17:32:15.300273Z",
     "start_time": "2020-05-09T17:32:15.289810Z"
    }
   },
   "outputs": [
    {
     "data": {
      "text/html": [
       "<div>\n",
       "<style scoped>\n",
       "    .dataframe tbody tr th:only-of-type {\n",
       "        vertical-align: middle;\n",
       "    }\n",
       "\n",
       "    .dataframe tbody tr th {\n",
       "        vertical-align: top;\n",
       "    }\n",
       "\n",
       "    .dataframe thead th {\n",
       "        text-align: right;\n",
       "    }\n",
       "</style>\n",
       "<table border=\"1\" class=\"dataframe\">\n",
       "  <thead>\n",
       "    <tr style=\"text-align: right;\">\n",
       "      <th></th>\n",
       "      <th>0</th>\n",
       "    </tr>\n",
       "  </thead>\n",
       "  <tbody>\n",
       "    <tr>\n",
       "      <td>0</td>\n",
       "      <td>Dropping Odds</td>\n",
       "    </tr>\n",
       "    <tr>\n",
       "      <td>1</td>\n",
       "      <td>Blocked Odds</td>\n",
       "    </tr>\n",
       "    <tr>\n",
       "      <td>2</td>\n",
       "      <td>Value Bets</td>\n",
       "    </tr>\n",
       "    <tr>\n",
       "      <td>3</td>\n",
       "      <td>Hot Matches</td>\n",
       "    </tr>\n",
       "    <tr>\n",
       "      <td>4</td>\n",
       "      <td>Best Handicaps</td>\n",
       "    </tr>\n",
       "  </tbody>\n",
       "</table>\n",
       "</div>"
      ],
      "text/plain": [
       "                0\n",
       "0   Dropping Odds\n",
       "1    Blocked Odds\n",
       "2      Value Bets\n",
       "3     Hot Matches\n",
       "4  Best Handicaps"
      ]
     },
     "execution_count": 130,
     "metadata": {},
     "output_type": "execute_result"
    }
   ],
   "source": [
    "money_df.head()"
   ]
  },
  {
   "cell_type": "code",
   "execution_count": 150,
   "metadata": {
    "ExecuteTime": {
     "end_time": "2020-05-09T18:40:27.283800Z",
     "start_time": "2020-05-09T18:40:17.852929Z"
    }
   },
   "outputs": [],
   "source": [
    "url = \"\"\"https://www.oddsportal.com/american-football/usa/nfl-2019-2020/results/#/page/1/\"\"\"\n",
    "r = requests.get(url)"
   ]
  },
  {
   "cell_type": "code",
   "execution_count": 152,
   "metadata": {
    "ExecuteTime": {
     "end_time": "2020-05-09T18:40:31.436709Z",
     "start_time": "2020-05-09T18:40:31.430483Z"
    }
   },
   "outputs": [
    {
     "data": {
      "text/plain": [
       "404"
      ]
     },
     "execution_count": 152,
     "metadata": {},
     "output_type": "execute_result"
    }
   ],
   "source": [
    "r.status_code"
   ]
  },
  {
   "cell_type": "code",
   "execution_count": null,
   "metadata": {
    "ExecuteTime": {
     "end_time": "2020-05-09T18:40:49.278249Z",
     "start_time": "2020-05-09T18:40:49.271815Z"
    }
   },
   "outputs": [],
   "source": []
  },
  {
   "cell_type": "code",
   "execution_count": 157,
   "metadata": {
    "ExecuteTime": {
     "end_time": "2020-05-09T18:49:00.998315Z",
     "start_time": "2020-05-09T18:49:00.993655Z"
    }
   },
   "outputs": [],
   "source": [
    "from selenium import webdriver\n",
    "from selenium.webdriver.common.keys import Keys\n",
    "from selenium.webdriver.common.action_chains import ActionChains\n",
    "from selenium.webdriver.common.by import By\n",
    "from selenium.webdriver.support.ui import WebDriverWait"
   ]
  },
  {
   "cell_type": "code",
   "execution_count": 169,
   "metadata": {
    "ExecuteTime": {
     "end_time": "2020-05-09T19:45:57.287313Z",
     "start_time": "2020-05-09T19:45:37.694879Z"
    },
    "scrolled": true
   },
   "outputs": [],
   "source": [
    "driver = webdriver.Chrome(executable_path='/home/robert/Desktop/chromedriver')\n",
    "driver.get(\"https://www.oddsportal.com/american-football/usa/nfl-2019-2020/results/\")"
   ]
  },
  {
   "cell_type": "code",
   "execution_count": 172,
   "metadata": {
    "ExecuteTime": {
     "end_time": "2020-05-09T19:49:58.728504Z",
     "start_time": "2020-05-09T19:49:58.663352Z"
    }
   },
   "outputs": [
    {
     "ename": "NoSuchElementException",
     "evalue": "Message: no such element: Unable to locate element: {\"method\":\"xpath\",\"selector\":\"/html/body/div[1]/div/div[2]/div[6]/div[1]/div/div[1]/div[2]/div[1]/div[6]/table\"}\n  (Session info: chrome=81.0.4044.138)\n",
     "output_type": "error",
     "traceback": [
      "\u001b[0;31m---------------------------------------------------------------------------\u001b[0m",
      "\u001b[0;31mNoSuchElementException\u001b[0m                    Traceback (most recent call last)",
      "\u001b[0;32m<ipython-input-172-8d14364e8ea1>\u001b[0m in \u001b[0;36m<module>\u001b[0;34m\u001b[0m\n\u001b[0;32m----> 1\u001b[0;31m \u001b[0mdriver\u001b[0m\u001b[0;34m.\u001b[0m\u001b[0mfind_element_by_xpath\u001b[0m\u001b[0;34m(\u001b[0m\u001b[0;34m\"\"\"/html/body/div[1]/div/div[2]/div[6]/div[1]/div/div[1]/div[2]/div[1]/div[6]/table\"\"\"\u001b[0m\u001b[0;34m)\u001b[0m\u001b[0;34m.\u001b[0m\u001b[0mtext\u001b[0m\u001b[0;34m\u001b[0m\u001b[0;34m\u001b[0m\u001b[0m\n\u001b[0m",
      "\u001b[0;32m~/anaconda3/lib/python3.7/site-packages/selenium/webdriver/remote/webdriver.py\u001b[0m in \u001b[0;36mfind_element_by_xpath\u001b[0;34m(self, xpath)\u001b[0m\n\u001b[1;32m    392\u001b[0m             \u001b[0melement\u001b[0m \u001b[0;34m=\u001b[0m \u001b[0mdriver\u001b[0m\u001b[0;34m.\u001b[0m\u001b[0mfind_element_by_xpath\u001b[0m\u001b[0;34m(\u001b[0m\u001b[0;34m'//div/td[1]'\u001b[0m\u001b[0;34m)\u001b[0m\u001b[0;34m\u001b[0m\u001b[0;34m\u001b[0m\u001b[0m\n\u001b[1;32m    393\u001b[0m         \"\"\"\n\u001b[0;32m--> 394\u001b[0;31m         \u001b[0;32mreturn\u001b[0m \u001b[0mself\u001b[0m\u001b[0;34m.\u001b[0m\u001b[0mfind_element\u001b[0m\u001b[0;34m(\u001b[0m\u001b[0mby\u001b[0m\u001b[0;34m=\u001b[0m\u001b[0mBy\u001b[0m\u001b[0;34m.\u001b[0m\u001b[0mXPATH\u001b[0m\u001b[0;34m,\u001b[0m \u001b[0mvalue\u001b[0m\u001b[0;34m=\u001b[0m\u001b[0mxpath\u001b[0m\u001b[0;34m)\u001b[0m\u001b[0;34m\u001b[0m\u001b[0;34m\u001b[0m\u001b[0m\n\u001b[0m\u001b[1;32m    395\u001b[0m \u001b[0;34m\u001b[0m\u001b[0m\n\u001b[1;32m    396\u001b[0m     \u001b[0;32mdef\u001b[0m \u001b[0mfind_elements_by_xpath\u001b[0m\u001b[0;34m(\u001b[0m\u001b[0mself\u001b[0m\u001b[0;34m,\u001b[0m \u001b[0mxpath\u001b[0m\u001b[0;34m)\u001b[0m\u001b[0;34m:\u001b[0m\u001b[0;34m\u001b[0m\u001b[0;34m\u001b[0m\u001b[0m\n",
      "\u001b[0;32m~/anaconda3/lib/python3.7/site-packages/selenium/webdriver/remote/webdriver.py\u001b[0m in \u001b[0;36mfind_element\u001b[0;34m(self, by, value)\u001b[0m\n\u001b[1;32m    976\u001b[0m         return self.execute(Command.FIND_ELEMENT, {\n\u001b[1;32m    977\u001b[0m             \u001b[0;34m'using'\u001b[0m\u001b[0;34m:\u001b[0m \u001b[0mby\u001b[0m\u001b[0;34m,\u001b[0m\u001b[0;34m\u001b[0m\u001b[0;34m\u001b[0m\u001b[0m\n\u001b[0;32m--> 978\u001b[0;31m             'value': value})['value']\n\u001b[0m\u001b[1;32m    979\u001b[0m \u001b[0;34m\u001b[0m\u001b[0m\n\u001b[1;32m    980\u001b[0m     \u001b[0;32mdef\u001b[0m \u001b[0mfind_elements\u001b[0m\u001b[0;34m(\u001b[0m\u001b[0mself\u001b[0m\u001b[0;34m,\u001b[0m \u001b[0mby\u001b[0m\u001b[0;34m=\u001b[0m\u001b[0mBy\u001b[0m\u001b[0;34m.\u001b[0m\u001b[0mID\u001b[0m\u001b[0;34m,\u001b[0m \u001b[0mvalue\u001b[0m\u001b[0;34m=\u001b[0m\u001b[0;32mNone\u001b[0m\u001b[0;34m)\u001b[0m\u001b[0;34m:\u001b[0m\u001b[0;34m\u001b[0m\u001b[0;34m\u001b[0m\u001b[0m\n",
      "\u001b[0;32m~/anaconda3/lib/python3.7/site-packages/selenium/webdriver/remote/webdriver.py\u001b[0m in \u001b[0;36mexecute\u001b[0;34m(self, driver_command, params)\u001b[0m\n\u001b[1;32m    319\u001b[0m         \u001b[0mresponse\u001b[0m \u001b[0;34m=\u001b[0m \u001b[0mself\u001b[0m\u001b[0;34m.\u001b[0m\u001b[0mcommand_executor\u001b[0m\u001b[0;34m.\u001b[0m\u001b[0mexecute\u001b[0m\u001b[0;34m(\u001b[0m\u001b[0mdriver_command\u001b[0m\u001b[0;34m,\u001b[0m \u001b[0mparams\u001b[0m\u001b[0;34m)\u001b[0m\u001b[0;34m\u001b[0m\u001b[0;34m\u001b[0m\u001b[0m\n\u001b[1;32m    320\u001b[0m         \u001b[0;32mif\u001b[0m \u001b[0mresponse\u001b[0m\u001b[0;34m:\u001b[0m\u001b[0;34m\u001b[0m\u001b[0;34m\u001b[0m\u001b[0m\n\u001b[0;32m--> 321\u001b[0;31m             \u001b[0mself\u001b[0m\u001b[0;34m.\u001b[0m\u001b[0merror_handler\u001b[0m\u001b[0;34m.\u001b[0m\u001b[0mcheck_response\u001b[0m\u001b[0;34m(\u001b[0m\u001b[0mresponse\u001b[0m\u001b[0;34m)\u001b[0m\u001b[0;34m\u001b[0m\u001b[0;34m\u001b[0m\u001b[0m\n\u001b[0m\u001b[1;32m    322\u001b[0m             response['value'] = self._unwrap_value(\n\u001b[1;32m    323\u001b[0m                 response.get('value', None))\n",
      "\u001b[0;32m~/anaconda3/lib/python3.7/site-packages/selenium/webdriver/remote/errorhandler.py\u001b[0m in \u001b[0;36mcheck_response\u001b[0;34m(self, response)\u001b[0m\n\u001b[1;32m    240\u001b[0m                 \u001b[0malert_text\u001b[0m \u001b[0;34m=\u001b[0m \u001b[0mvalue\u001b[0m\u001b[0;34m[\u001b[0m\u001b[0;34m'alert'\u001b[0m\u001b[0;34m]\u001b[0m\u001b[0;34m.\u001b[0m\u001b[0mget\u001b[0m\u001b[0;34m(\u001b[0m\u001b[0;34m'text'\u001b[0m\u001b[0;34m)\u001b[0m\u001b[0;34m\u001b[0m\u001b[0;34m\u001b[0m\u001b[0m\n\u001b[1;32m    241\u001b[0m             \u001b[0;32mraise\u001b[0m \u001b[0mexception_class\u001b[0m\u001b[0;34m(\u001b[0m\u001b[0mmessage\u001b[0m\u001b[0;34m,\u001b[0m \u001b[0mscreen\u001b[0m\u001b[0;34m,\u001b[0m \u001b[0mstacktrace\u001b[0m\u001b[0;34m,\u001b[0m \u001b[0malert_text\u001b[0m\u001b[0;34m)\u001b[0m\u001b[0;34m\u001b[0m\u001b[0;34m\u001b[0m\u001b[0m\n\u001b[0;32m--> 242\u001b[0;31m         \u001b[0;32mraise\u001b[0m \u001b[0mexception_class\u001b[0m\u001b[0;34m(\u001b[0m\u001b[0mmessage\u001b[0m\u001b[0;34m,\u001b[0m \u001b[0mscreen\u001b[0m\u001b[0;34m,\u001b[0m \u001b[0mstacktrace\u001b[0m\u001b[0;34m)\u001b[0m\u001b[0;34m\u001b[0m\u001b[0;34m\u001b[0m\u001b[0m\n\u001b[0m\u001b[1;32m    243\u001b[0m \u001b[0;34m\u001b[0m\u001b[0m\n\u001b[1;32m    244\u001b[0m     \u001b[0;32mdef\u001b[0m \u001b[0m_value_or_default\u001b[0m\u001b[0;34m(\u001b[0m\u001b[0mself\u001b[0m\u001b[0;34m,\u001b[0m \u001b[0mobj\u001b[0m\u001b[0;34m,\u001b[0m \u001b[0mkey\u001b[0m\u001b[0;34m,\u001b[0m \u001b[0mdefault\u001b[0m\u001b[0;34m)\u001b[0m\u001b[0;34m:\u001b[0m\u001b[0;34m\u001b[0m\u001b[0;34m\u001b[0m\u001b[0m\n",
      "\u001b[0;31mNoSuchElementException\u001b[0m: Message: no such element: Unable to locate element: {\"method\":\"xpath\",\"selector\":\"/html/body/div[1]/div/div[2]/div[6]/div[1]/div/div[1]/div[2]/div[1]/div[6]/table\"}\n  (Session info: chrome=81.0.4044.138)\n"
     ]
    }
   ],
   "source": [
    "driver.find_element_by_xpath(\"\"\"/html/body/div[1]/div/div[2]/div[6]/div[1]/div/div[1]/div[2]/div[1]/div[6]/table\"\"\").text"
   ]
  },
  {
   "cell_type": "code",
   "execution_count": null,
   "metadata": {},
   "outputs": [],
   "source": [
    "//*[@id=\"tournamentTable\"]\n"
   ]
  },
  {
   "cell_type": "code",
   "execution_count": 174,
   "metadata": {
    "ExecuteTime": {
     "end_time": "2020-05-11T13:54:45.643963Z",
     "start_time": "2020-05-11T13:54:45.633582Z"
    }
   },
   "outputs": [
    {
     "data": {
      "text/plain": [
       "array([21., 20., 19., 18., 17., 16., 15., 14., 13., 12., 11., 10.,  9.,\n",
       "        8.,  7.,  6.,  5.,  4.,  3.,  2.,  1.])"
      ]
     },
     "execution_count": 174,
     "metadata": {},
     "output_type": "execute_result"
    }
   ],
   "source": [
    "odds2_df['Week'].unique()"
   ]
  },
  {
   "cell_type": "code",
   "execution_count": 175,
   "metadata": {
    "ExecuteTime": {
     "end_time": "2020-05-11T13:56:42.854581Z",
     "start_time": "2020-05-11T13:56:42.842302Z"
    }
   },
   "outputs": [],
   "source": [
    "weeks_1_through_4 = odds2_df[odds2_df['Week'] < 5]"
   ]
  },
  {
   "cell_type": "code",
   "execution_count": 176,
   "metadata": {
    "ExecuteTime": {
     "end_time": "2020-05-11T13:56:49.473559Z",
     "start_time": "2020-05-11T13:56:49.402028Z"
    }
   },
   "outputs": [
    {
     "data": {
      "text/html": [
       "<div>\n",
       "<style scoped>\n",
       "    .dataframe tbody tr th:only-of-type {\n",
       "        vertical-align: middle;\n",
       "    }\n",
       "\n",
       "    .dataframe tbody tr th {\n",
       "        vertical-align: top;\n",
       "    }\n",
       "\n",
       "    .dataframe thead th {\n",
       "        text-align: right;\n",
       "    }\n",
       "</style>\n",
       "<table border=\"1\" class=\"dataframe\">\n",
       "  <thead>\n",
       "    <tr style=\"text-align: right;\">\n",
       "      <th></th>\n",
       "      <th>Home_team</th>\n",
       "      <th>date</th>\n",
       "      <th>time</th>\n",
       "      <th>local_time</th>\n",
       "      <th>Away_team</th>\n",
       "      <th>Week</th>\n",
       "      <th>Game_Number</th>\n",
       "      <th>day</th>\n",
       "      <th>result</th>\n",
       "      <th>OT</th>\n",
       "      <th>...</th>\n",
       "      <th>rushing_touchdowns</th>\n",
       "      <th>total_yards</th>\n",
       "      <th>offensive_plays</th>\n",
       "      <th>yards_per_play_offense</th>\n",
       "      <th>defensive_plays</th>\n",
       "      <th>yards_allowed_per_defensive_play</th>\n",
       "      <th>turnovers_lost</th>\n",
       "      <th>time_of_possession</th>\n",
       "      <th>game_duration</th>\n",
       "      <th>game_date_time</th>\n",
       "    </tr>\n",
       "  </thead>\n",
       "  <tbody>\n",
       "    <tr>\n",
       "      <td>204</td>\n",
       "      <td>CIN</td>\n",
       "      <td>2019-09-30</td>\n",
       "      <td>8:15</td>\n",
       "      <td>8:15</td>\n",
       "      <td>PIT</td>\n",
       "      <td>4.0</td>\n",
       "      <td>4.0</td>\n",
       "      <td>Mon</td>\n",
       "      <td>L 3-27</td>\n",
       "      <td>0</td>\n",
       "      <td>...</td>\n",
       "      <td>0.0</td>\n",
       "      <td>175.0</td>\n",
       "      <td>64.0</td>\n",
       "      <td>2.7344</td>\n",
       "      <td>56.0</td>\n",
       "      <td>5.8214</td>\n",
       "      <td>2.0</td>\n",
       "      <td>0.503889</td>\n",
       "      <td>2:56</td>\n",
       "      <td>2019-09-30 08:15:00</td>\n",
       "    </tr>\n",
       "    <tr>\n",
       "      <td>205</td>\n",
       "      <td>BUF</td>\n",
       "      <td>2019-09-29</td>\n",
       "      <td>1:00</td>\n",
       "      <td>1:00</td>\n",
       "      <td>NWE</td>\n",
       "      <td>4.0</td>\n",
       "      <td>4.0</td>\n",
       "      <td>Sun</td>\n",
       "      <td>L 10-16</td>\n",
       "      <td>0</td>\n",
       "      <td>...</td>\n",
       "      <td>1.0</td>\n",
       "      <td>375.0</td>\n",
       "      <td>71.0</td>\n",
       "      <td>5.2817</td>\n",
       "      <td>62.0</td>\n",
       "      <td>3.6129</td>\n",
       "      <td>4.0</td>\n",
       "      <td>0.544444</td>\n",
       "      <td>3:19</td>\n",
       "      <td>2019-09-29 01:00:00</td>\n",
       "    </tr>\n",
       "    <tr>\n",
       "      <td>206</td>\n",
       "      <td>CAR</td>\n",
       "      <td>2019-09-29</td>\n",
       "      <td>1:00</td>\n",
       "      <td>12:00</td>\n",
       "      <td>HOU</td>\n",
       "      <td>4.0</td>\n",
       "      <td>4.0</td>\n",
       "      <td>Sun</td>\n",
       "      <td>W 16-10</td>\n",
       "      <td>0</td>\n",
       "      <td>...</td>\n",
       "      <td>1.0</td>\n",
       "      <td>297.0</td>\n",
       "      <td>65.0</td>\n",
       "      <td>4.5692</td>\n",
       "      <td>62.0</td>\n",
       "      <td>4.2581</td>\n",
       "      <td>3.0</td>\n",
       "      <td>0.510556</td>\n",
       "      <td>3:06</td>\n",
       "      <td>2019-09-29 12:00:00</td>\n",
       "    </tr>\n",
       "    <tr>\n",
       "      <td>207</td>\n",
       "      <td>CHI</td>\n",
       "      <td>2019-09-29</td>\n",
       "      <td>4:25</td>\n",
       "      <td>3:25</td>\n",
       "      <td>MIN</td>\n",
       "      <td>4.0</td>\n",
       "      <td>4.0</td>\n",
       "      <td>Sun</td>\n",
       "      <td>W 16-6</td>\n",
       "      <td>0</td>\n",
       "      <td>...</td>\n",
       "      <td>0.0</td>\n",
       "      <td>269.0</td>\n",
       "      <td>67.0</td>\n",
       "      <td>4.0149</td>\n",
       "      <td>58.0</td>\n",
       "      <td>3.8276</td>\n",
       "      <td>0.0</td>\n",
       "      <td>0.590833</td>\n",
       "      <td>2:59</td>\n",
       "      <td>2019-09-29 03:25:00</td>\n",
       "    </tr>\n",
       "    <tr>\n",
       "      <td>208</td>\n",
       "      <td>CLE</td>\n",
       "      <td>2019-09-29</td>\n",
       "      <td>1:00</td>\n",
       "      <td>1:00</td>\n",
       "      <td>BAL</td>\n",
       "      <td>4.0</td>\n",
       "      <td>4.0</td>\n",
       "      <td>Sun</td>\n",
       "      <td>W 40-25</td>\n",
       "      <td>0</td>\n",
       "      <td>...</td>\n",
       "      <td>4.0</td>\n",
       "      <td>530.0</td>\n",
       "      <td>61.0</td>\n",
       "      <td>8.6885</td>\n",
       "      <td>67.0</td>\n",
       "      <td>5.8955</td>\n",
       "      <td>1.0</td>\n",
       "      <td>0.504722</td>\n",
       "      <td>3:08</td>\n",
       "      <td>2019-09-29 01:00:00</td>\n",
       "    </tr>\n",
       "    <tr>\n",
       "      <td>...</td>\n",
       "      <td>...</td>\n",
       "      <td>...</td>\n",
       "      <td>...</td>\n",
       "      <td>...</td>\n",
       "      <td>...</td>\n",
       "      <td>...</td>\n",
       "      <td>...</td>\n",
       "      <td>...</td>\n",
       "      <td>...</td>\n",
       "      <td>...</td>\n",
       "      <td>...</td>\n",
       "      <td>...</td>\n",
       "      <td>...</td>\n",
       "      <td>...</td>\n",
       "      <td>...</td>\n",
       "      <td>...</td>\n",
       "      <td>...</td>\n",
       "      <td>...</td>\n",
       "      <td>...</td>\n",
       "      <td>...</td>\n",
       "      <td>...</td>\n",
       "    </tr>\n",
       "    <tr>\n",
       "      <td>262</td>\n",
       "      <td>TEN</td>\n",
       "      <td>2019-09-08</td>\n",
       "      <td>1:00</td>\n",
       "      <td>1:00</td>\n",
       "      <td>CLE</td>\n",
       "      <td>1.0</td>\n",
       "      <td>1.0</td>\n",
       "      <td>Sun</td>\n",
       "      <td>W 43-13</td>\n",
       "      <td>0</td>\n",
       "      <td>...</td>\n",
       "      <td>1.0</td>\n",
       "      <td>339.0</td>\n",
       "      <td>56.0</td>\n",
       "      <td>6.0536</td>\n",
       "      <td>63.0</td>\n",
       "      <td>5.4921</td>\n",
       "      <td>0.0</td>\n",
       "      <td>0.488333</td>\n",
       "      <td>3:12</td>\n",
       "      <td>2019-09-08 01:00:00</td>\n",
       "    </tr>\n",
       "    <tr>\n",
       "      <td>263</td>\n",
       "      <td>PIT</td>\n",
       "      <td>2019-09-08</td>\n",
       "      <td>8:20</td>\n",
       "      <td>8:20</td>\n",
       "      <td>NWE</td>\n",
       "      <td>1.0</td>\n",
       "      <td>1.0</td>\n",
       "      <td>Sun</td>\n",
       "      <td>L 3-33</td>\n",
       "      <td>0</td>\n",
       "      <td>...</td>\n",
       "      <td>0.0</td>\n",
       "      <td>308.0</td>\n",
       "      <td>61.0</td>\n",
       "      <td>5.0492</td>\n",
       "      <td>67.0</td>\n",
       "      <td>6.9403</td>\n",
       "      <td>1.0</td>\n",
       "      <td>0.457500</td>\n",
       "      <td>3:00</td>\n",
       "      <td>2019-09-08 08:20:00</td>\n",
       "    </tr>\n",
       "    <tr>\n",
       "      <td>264</td>\n",
       "      <td>SFO</td>\n",
       "      <td>2019-09-08</td>\n",
       "      <td>4:25</td>\n",
       "      <td>4:25</td>\n",
       "      <td>TAM</td>\n",
       "      <td>1.0</td>\n",
       "      <td>1.0</td>\n",
       "      <td>Sun</td>\n",
       "      <td>W 31-17</td>\n",
       "      <td>0</td>\n",
       "      <td>...</td>\n",
       "      <td>0.0</td>\n",
       "      <td>256.0</td>\n",
       "      <td>60.0</td>\n",
       "      <td>4.2667</td>\n",
       "      <td>65.0</td>\n",
       "      <td>4.5385</td>\n",
       "      <td>2.0</td>\n",
       "      <td>0.501111</td>\n",
       "      <td>3:06</td>\n",
       "      <td>2019-09-08 04:25:00</td>\n",
       "    </tr>\n",
       "    <tr>\n",
       "      <td>265</td>\n",
       "      <td>WAS</td>\n",
       "      <td>2019-09-08</td>\n",
       "      <td>1:00</td>\n",
       "      <td>1:00</td>\n",
       "      <td>PHI</td>\n",
       "      <td>1.0</td>\n",
       "      <td>1.0</td>\n",
       "      <td>Sun</td>\n",
       "      <td>L 27-32</td>\n",
       "      <td>0</td>\n",
       "      <td>...</td>\n",
       "      <td>0.0</td>\n",
       "      <td>398.0</td>\n",
       "      <td>58.0</td>\n",
       "      <td>6.8621</td>\n",
       "      <td>71.0</td>\n",
       "      <td>6.1408</td>\n",
       "      <td>0.0</td>\n",
       "      <td>0.425833</td>\n",
       "      <td>3:13</td>\n",
       "      <td>2019-09-08 01:00:00</td>\n",
       "    </tr>\n",
       "    <tr>\n",
       "      <td>266</td>\n",
       "      <td>GNB</td>\n",
       "      <td>2019-09-05</td>\n",
       "      <td>8:20</td>\n",
       "      <td>7:20</td>\n",
       "      <td>CHI</td>\n",
       "      <td>1.0</td>\n",
       "      <td>1.0</td>\n",
       "      <td>Thu</td>\n",
       "      <td>W 10-3</td>\n",
       "      <td>0</td>\n",
       "      <td>...</td>\n",
       "      <td>0.0</td>\n",
       "      <td>213.0</td>\n",
       "      <td>57.0</td>\n",
       "      <td>3.7368</td>\n",
       "      <td>65.0</td>\n",
       "      <td>3.9077</td>\n",
       "      <td>0.0</td>\n",
       "      <td>0.517500</td>\n",
       "      <td>3:07</td>\n",
       "      <td>2019-09-05 07:20:00</td>\n",
       "    </tr>\n",
       "  </tbody>\n",
       "</table>\n",
       "<p>63 rows × 40 columns</p>\n",
       "</div>"
      ],
      "text/plain": [
       "    Home_team        date  time local_time Away_team  Week  Game_Number  day  \\\n",
       "204       CIN  2019-09-30  8:15       8:15       PIT   4.0          4.0  Mon   \n",
       "205       BUF  2019-09-29  1:00       1:00       NWE   4.0          4.0  Sun   \n",
       "206       CAR  2019-09-29  1:00      12:00       HOU   4.0          4.0  Sun   \n",
       "207       CHI  2019-09-29  4:25       3:25       MIN   4.0          4.0  Sun   \n",
       "208       CLE  2019-09-29  1:00       1:00       BAL   4.0          4.0  Sun   \n",
       "..        ...         ...   ...        ...       ...   ...          ...  ...   \n",
       "262       TEN  2019-09-08  1:00       1:00       CLE   1.0          1.0  Sun   \n",
       "263       PIT  2019-09-08  8:20       8:20       NWE   1.0          1.0  Sun   \n",
       "264       SFO  2019-09-08  4:25       4:25       TAM   1.0          1.0  Sun   \n",
       "265       WAS  2019-09-08  1:00       1:00       PHI   1.0          1.0  Sun   \n",
       "266       GNB  2019-09-05  8:20       7:20       CHI   1.0          1.0  Thu   \n",
       "\n",
       "      result OT  ...  rushing_touchdowns  total_yards  offensive_plays  \\\n",
       "204   L 3-27  0  ...                 0.0        175.0             64.0   \n",
       "205  L 10-16  0  ...                 1.0        375.0             71.0   \n",
       "206  W 16-10  0  ...                 1.0        297.0             65.0   \n",
       "207   W 16-6  0  ...                 0.0        269.0             67.0   \n",
       "208  W 40-25  0  ...                 4.0        530.0             61.0   \n",
       "..       ... ..  ...                 ...          ...              ...   \n",
       "262  W 43-13  0  ...                 1.0        339.0             56.0   \n",
       "263   L 3-33  0  ...                 0.0        308.0             61.0   \n",
       "264  W 31-17  0  ...                 0.0        256.0             60.0   \n",
       "265  L 27-32  0  ...                 0.0        398.0             58.0   \n",
       "266   W 10-3  0  ...                 0.0        213.0             57.0   \n",
       "\n",
       "     yards_per_play_offense  defensive_plays  \\\n",
       "204                  2.7344             56.0   \n",
       "205                  5.2817             62.0   \n",
       "206                  4.5692             62.0   \n",
       "207                  4.0149             58.0   \n",
       "208                  8.6885             67.0   \n",
       "..                      ...              ...   \n",
       "262                  6.0536             63.0   \n",
       "263                  5.0492             67.0   \n",
       "264                  4.2667             65.0   \n",
       "265                  6.8621             71.0   \n",
       "266                  3.7368             65.0   \n",
       "\n",
       "     yards_allowed_per_defensive_play  turnovers_lost  time_of_possession  \\\n",
       "204                            5.8214             2.0            0.503889   \n",
       "205                            3.6129             4.0            0.544444   \n",
       "206                            4.2581             3.0            0.510556   \n",
       "207                            3.8276             0.0            0.590833   \n",
       "208                            5.8955             1.0            0.504722   \n",
       "..                                ...             ...                 ...   \n",
       "262                            5.4921             0.0            0.488333   \n",
       "263                            6.9403             1.0            0.457500   \n",
       "264                            4.5385             2.0            0.501111   \n",
       "265                            6.1408             0.0            0.425833   \n",
       "266                            3.9077             0.0            0.517500   \n",
       "\n",
       "     game_duration      game_date_time  \n",
       "204           2:56 2019-09-30 08:15:00  \n",
       "205           3:19 2019-09-29 01:00:00  \n",
       "206           3:06 2019-09-29 12:00:00  \n",
       "207           2:59 2019-09-29 03:25:00  \n",
       "208           3:08 2019-09-29 01:00:00  \n",
       "..             ...                 ...  \n",
       "262           3:12 2019-09-08 01:00:00  \n",
       "263           3:00 2019-09-08 08:20:00  \n",
       "264           3:06 2019-09-08 04:25:00  \n",
       "265           3:13 2019-09-08 01:00:00  \n",
       "266           3:07 2019-09-05 07:20:00  \n",
       "\n",
       "[63 rows x 40 columns]"
      ]
     },
     "execution_count": 176,
     "metadata": {},
     "output_type": "execute_result"
    }
   ],
   "source": [
    "weeks_1_through_4"
   ]
  },
  {
   "cell_type": "code",
   "execution_count": 177,
   "metadata": {
    "ExecuteTime": {
     "end_time": "2020-05-11T13:58:03.362373Z",
     "start_time": "2020-05-11T13:58:03.354203Z"
    }
   },
   "outputs": [],
   "source": [
    "week5 = odds2_df[odds2_df['Week'] == 5]"
   ]
  },
  {
   "cell_type": "code",
   "execution_count": 178,
   "metadata": {
    "ExecuteTime": {
     "end_time": "2020-05-11T13:58:09.027679Z",
     "start_time": "2020-05-11T13:58:08.987320Z"
    }
   },
   "outputs": [
    {
     "data": {
      "text/html": [
       "<div>\n",
       "<style scoped>\n",
       "    .dataframe tbody tr th:only-of-type {\n",
       "        vertical-align: middle;\n",
       "    }\n",
       "\n",
       "    .dataframe tbody tr th {\n",
       "        vertical-align: top;\n",
       "    }\n",
       "\n",
       "    .dataframe thead th {\n",
       "        text-align: right;\n",
       "    }\n",
       "</style>\n",
       "<table border=\"1\" class=\"dataframe\">\n",
       "  <thead>\n",
       "    <tr style=\"text-align: right;\">\n",
       "      <th></th>\n",
       "      <th>Home_team</th>\n",
       "      <th>date</th>\n",
       "      <th>time</th>\n",
       "      <th>local_time</th>\n",
       "      <th>Away_team</th>\n",
       "      <th>Week</th>\n",
       "      <th>Game_Number</th>\n",
       "      <th>day</th>\n",
       "      <th>result</th>\n",
       "      <th>OT</th>\n",
       "      <th>...</th>\n",
       "      <th>rushing_touchdowns</th>\n",
       "      <th>total_yards</th>\n",
       "      <th>offensive_plays</th>\n",
       "      <th>yards_per_play_offense</th>\n",
       "      <th>defensive_plays</th>\n",
       "      <th>yards_allowed_per_defensive_play</th>\n",
       "      <th>turnovers_lost</th>\n",
       "      <th>time_of_possession</th>\n",
       "      <th>game_duration</th>\n",
       "      <th>game_date_time</th>\n",
       "    </tr>\n",
       "  </thead>\n",
       "  <tbody>\n",
       "    <tr>\n",
       "      <td>189</td>\n",
       "      <td>CLE</td>\n",
       "      <td>2019-10-07</td>\n",
       "      <td>8:15</td>\n",
       "      <td>5:15</td>\n",
       "      <td>SFO</td>\n",
       "      <td>5.0</td>\n",
       "      <td>5.0</td>\n",
       "      <td>Mon</td>\n",
       "      <td>L 3-31</td>\n",
       "      <td>0</td>\n",
       "      <td>...</td>\n",
       "      <td>0.0</td>\n",
       "      <td>180.0</td>\n",
       "      <td>46.0</td>\n",
       "      <td>3.9130</td>\n",
       "      <td>71.0</td>\n",
       "      <td>6.2817</td>\n",
       "      <td>4.0</td>\n",
       "      <td>0.371389</td>\n",
       "      <td>2:57</td>\n",
       "      <td>2019-10-07 05:15:00</td>\n",
       "    </tr>\n",
       "    <tr>\n",
       "      <td>190</td>\n",
       "      <td>ATL</td>\n",
       "      <td>2019-10-06</td>\n",
       "      <td>1:00</td>\n",
       "      <td>12:00</td>\n",
       "      <td>HOU</td>\n",
       "      <td>5.0</td>\n",
       "      <td>5.0</td>\n",
       "      <td>Sun</td>\n",
       "      <td>L 32-53</td>\n",
       "      <td>0</td>\n",
       "      <td>...</td>\n",
       "      <td>1.0</td>\n",
       "      <td>373.0</td>\n",
       "      <td>68.0</td>\n",
       "      <td>5.4853</td>\n",
       "      <td>67.0</td>\n",
       "      <td>8.8358</td>\n",
       "      <td>1.0</td>\n",
       "      <td>0.483333</td>\n",
       "      <td>3:13</td>\n",
       "      <td>2019-10-06 12:00:00</td>\n",
       "    </tr>\n",
       "    <tr>\n",
       "      <td>191</td>\n",
       "      <td>BUF</td>\n",
       "      <td>2019-10-06</td>\n",
       "      <td>1:00</td>\n",
       "      <td>12:00</td>\n",
       "      <td>TEN</td>\n",
       "      <td>5.0</td>\n",
       "      <td>5.0</td>\n",
       "      <td>Sun</td>\n",
       "      <td>W 14-7</td>\n",
       "      <td>0</td>\n",
       "      <td>...</td>\n",
       "      <td>0.0</td>\n",
       "      <td>313.0</td>\n",
       "      <td>63.0</td>\n",
       "      <td>4.9683</td>\n",
       "      <td>54.0</td>\n",
       "      <td>4.6667</td>\n",
       "      <td>1.0</td>\n",
       "      <td>0.520000</td>\n",
       "      <td>2:54</td>\n",
       "      <td>2019-10-06 12:00:00</td>\n",
       "    </tr>\n",
       "    <tr>\n",
       "      <td>192</td>\n",
       "      <td>IND</td>\n",
       "      <td>2019-10-06</td>\n",
       "      <td>8:20</td>\n",
       "      <td>7:20</td>\n",
       "      <td>KAN</td>\n",
       "      <td>5.0</td>\n",
       "      <td>5.0</td>\n",
       "      <td>Sun</td>\n",
       "      <td>W 19-13</td>\n",
       "      <td>0</td>\n",
       "      <td>...</td>\n",
       "      <td>1.0</td>\n",
       "      <td>331.0</td>\n",
       "      <td>74.0</td>\n",
       "      <td>4.4730</td>\n",
       "      <td>57.0</td>\n",
       "      <td>5.6842</td>\n",
       "      <td>1.0</td>\n",
       "      <td>0.620833</td>\n",
       "      <td>3:15</td>\n",
       "      <td>2019-10-06 07:20:00</td>\n",
       "    </tr>\n",
       "    <tr>\n",
       "      <td>193</td>\n",
       "      <td>ARI</td>\n",
       "      <td>2019-10-06</td>\n",
       "      <td>1:00</td>\n",
       "      <td>1:00</td>\n",
       "      <td>CIN</td>\n",
       "      <td>5.0</td>\n",
       "      <td>5.0</td>\n",
       "      <td>Sun</td>\n",
       "      <td>W 26-23</td>\n",
       "      <td>0</td>\n",
       "      <td>...</td>\n",
       "      <td>2.0</td>\n",
       "      <td>514.0</td>\n",
       "      <td>71.0</td>\n",
       "      <td>7.2394</td>\n",
       "      <td>62.0</td>\n",
       "      <td>5.9677</td>\n",
       "      <td>0.0</td>\n",
       "      <td>0.517500</td>\n",
       "      <td>3:03</td>\n",
       "      <td>2019-10-06 01:00:00</td>\n",
       "    </tr>\n",
       "    <tr>\n",
       "      <td>194</td>\n",
       "      <td>DEN</td>\n",
       "      <td>2019-10-06</td>\n",
       "      <td>4:05</td>\n",
       "      <td>1:05</td>\n",
       "      <td>LAC</td>\n",
       "      <td>5.0</td>\n",
       "      <td>5.0</td>\n",
       "      <td>Sun</td>\n",
       "      <td>W 20-13</td>\n",
       "      <td>0</td>\n",
       "      <td>...</td>\n",
       "      <td>1.0</td>\n",
       "      <td>350.0</td>\n",
       "      <td>55.0</td>\n",
       "      <td>6.3636</td>\n",
       "      <td>64.0</td>\n",
       "      <td>3.8438</td>\n",
       "      <td>2.0</td>\n",
       "      <td>0.493333</td>\n",
       "      <td>3:03</td>\n",
       "      <td>2019-10-06 01:05:00</td>\n",
       "    </tr>\n",
       "    <tr>\n",
       "      <td>195</td>\n",
       "      <td>GNB</td>\n",
       "      <td>2019-10-06</td>\n",
       "      <td>4:25</td>\n",
       "      <td>3:25</td>\n",
       "      <td>DAL</td>\n",
       "      <td>5.0</td>\n",
       "      <td>5.0</td>\n",
       "      <td>Sun</td>\n",
       "      <td>W 34-24</td>\n",
       "      <td>0</td>\n",
       "      <td>...</td>\n",
       "      <td>4.0</td>\n",
       "      <td>335.0</td>\n",
       "      <td>65.0</td>\n",
       "      <td>5.1538</td>\n",
       "      <td>68.0</td>\n",
       "      <td>8.2794</td>\n",
       "      <td>0.0</td>\n",
       "      <td>0.611944</td>\n",
       "      <td>3:31</td>\n",
       "      <td>2019-10-06 03:25:00</td>\n",
       "    </tr>\n",
       "    <tr>\n",
       "      <td>196</td>\n",
       "      <td>JAX</td>\n",
       "      <td>2019-10-06</td>\n",
       "      <td>1:00</td>\n",
       "      <td>1:00</td>\n",
       "      <td>CAR</td>\n",
       "      <td>5.0</td>\n",
       "      <td>5.0</td>\n",
       "      <td>Sun</td>\n",
       "      <td>L 27-34</td>\n",
       "      <td>0</td>\n",
       "      <td>...</td>\n",
       "      <td>1.0</td>\n",
       "      <td>507.0</td>\n",
       "      <td>77.0</td>\n",
       "      <td>6.5844</td>\n",
       "      <td>61.0</td>\n",
       "      <td>7.2951</td>\n",
       "      <td>3.0</td>\n",
       "      <td>0.540000</td>\n",
       "      <td>3:28</td>\n",
       "      <td>2019-10-06 01:00:00</td>\n",
       "    </tr>\n",
       "    <tr>\n",
       "      <td>197</td>\n",
       "      <td>NYG</td>\n",
       "      <td>2019-10-06</td>\n",
       "      <td>1:00</td>\n",
       "      <td>1:00</td>\n",
       "      <td>MIN</td>\n",
       "      <td>5.0</td>\n",
       "      <td>5.0</td>\n",
       "      <td>Sun</td>\n",
       "      <td>L 10-28</td>\n",
       "      <td>0</td>\n",
       "      <td>...</td>\n",
       "      <td>0.0</td>\n",
       "      <td>211.0</td>\n",
       "      <td>62.0</td>\n",
       "      <td>3.4032</td>\n",
       "      <td>64.0</td>\n",
       "      <td>7.6563</td>\n",
       "      <td>1.0</td>\n",
       "      <td>0.455556</td>\n",
       "      <td>3:03</td>\n",
       "      <td>2019-10-06 01:00:00</td>\n",
       "    </tr>\n",
       "    <tr>\n",
       "      <td>198</td>\n",
       "      <td>NYJ</td>\n",
       "      <td>2019-10-06</td>\n",
       "      <td>1:00</td>\n",
       "      <td>1:00</td>\n",
       "      <td>PHI</td>\n",
       "      <td>5.0</td>\n",
       "      <td>4.0</td>\n",
       "      <td>Sun</td>\n",
       "      <td>L 6-31</td>\n",
       "      <td>0</td>\n",
       "      <td>...</td>\n",
       "      <td>1.0</td>\n",
       "      <td>128.0</td>\n",
       "      <td>55.0</td>\n",
       "      <td>2.3273</td>\n",
       "      <td>59.0</td>\n",
       "      <td>4.4915</td>\n",
       "      <td>3.0</td>\n",
       "      <td>0.485556</td>\n",
       "      <td>3:01</td>\n",
       "      <td>2019-10-06 01:00:00</td>\n",
       "    </tr>\n",
       "    <tr>\n",
       "      <td>199</td>\n",
       "      <td>PIT</td>\n",
       "      <td>2019-10-06</td>\n",
       "      <td>1:00</td>\n",
       "      <td>1:00</td>\n",
       "      <td>BAL</td>\n",
       "      <td>5.0</td>\n",
       "      <td>5.0</td>\n",
       "      <td>Sun</td>\n",
       "      <td>L 23-26</td>\n",
       "      <td>OT</td>\n",
       "      <td>...</td>\n",
       "      <td>1.0</td>\n",
       "      <td>269.0</td>\n",
       "      <td>51.0</td>\n",
       "      <td>5.2745</td>\n",
       "      <td>73.0</td>\n",
       "      <td>3.7945</td>\n",
       "      <td>2.0</td>\n",
       "      <td>0.426111</td>\n",
       "      <td>3:23</td>\n",
       "      <td>2019-10-06 01:00:00</td>\n",
       "    </tr>\n",
       "    <tr>\n",
       "      <td>200</td>\n",
       "      <td>OAK</td>\n",
       "      <td>2019-10-06</td>\n",
       "      <td>1:00</td>\n",
       "      <td>6:00</td>\n",
       "      <td>CHI</td>\n",
       "      <td>5.0</td>\n",
       "      <td>5.0</td>\n",
       "      <td>Sun</td>\n",
       "      <td>W 24-21</td>\n",
       "      <td>0</td>\n",
       "      <td>...</td>\n",
       "      <td>3.0</td>\n",
       "      <td>398.0</td>\n",
       "      <td>71.0</td>\n",
       "      <td>5.6056</td>\n",
       "      <td>51.0</td>\n",
       "      <td>4.6275</td>\n",
       "      <td>2.0</td>\n",
       "      <td>0.578611</td>\n",
       "      <td>3:08</td>\n",
       "      <td>2019-10-06 06:00:00</td>\n",
       "    </tr>\n",
       "    <tr>\n",
       "      <td>201</td>\n",
       "      <td>TAM</td>\n",
       "      <td>2019-10-06</td>\n",
       "      <td>1:00</td>\n",
       "      <td>12:00</td>\n",
       "      <td>NOR</td>\n",
       "      <td>5.0</td>\n",
       "      <td>5.0</td>\n",
       "      <td>Sun</td>\n",
       "      <td>L 24-31</td>\n",
       "      <td>0</td>\n",
       "      <td>...</td>\n",
       "      <td>1.0</td>\n",
       "      <td>252.0</td>\n",
       "      <td>55.0</td>\n",
       "      <td>4.5818</td>\n",
       "      <td>67.0</td>\n",
       "      <td>6.8209</td>\n",
       "      <td>0.0</td>\n",
       "      <td>0.442500</td>\n",
       "      <td>3:07</td>\n",
       "      <td>2019-10-06 12:00:00</td>\n",
       "    </tr>\n",
       "    <tr>\n",
       "      <td>202</td>\n",
       "      <td>WAS</td>\n",
       "      <td>2019-10-06</td>\n",
       "      <td>1:00</td>\n",
       "      <td>1:00</td>\n",
       "      <td>NWE</td>\n",
       "      <td>5.0</td>\n",
       "      <td>5.0</td>\n",
       "      <td>Sun</td>\n",
       "      <td>L 7-33</td>\n",
       "      <td>0</td>\n",
       "      <td>...</td>\n",
       "      <td>1.0</td>\n",
       "      <td>223.0</td>\n",
       "      <td>53.0</td>\n",
       "      <td>4.2075</td>\n",
       "      <td>74.0</td>\n",
       "      <td>5.9730</td>\n",
       "      <td>2.0</td>\n",
       "      <td>0.468611</td>\n",
       "      <td>3:08</td>\n",
       "      <td>2019-10-06 01:00:00</td>\n",
       "    </tr>\n",
       "    <tr>\n",
       "      <td>203</td>\n",
       "      <td>LAR</td>\n",
       "      <td>2019-10-03</td>\n",
       "      <td>8:20</td>\n",
       "      <td>5:20</td>\n",
       "      <td>SEA</td>\n",
       "      <td>5.0</td>\n",
       "      <td>5.0</td>\n",
       "      <td>Thu</td>\n",
       "      <td>L 29-30</td>\n",
       "      <td>0</td>\n",
       "      <td>...</td>\n",
       "      <td>2.0</td>\n",
       "      <td>477.0</td>\n",
       "      <td>67.0</td>\n",
       "      <td>7.1194</td>\n",
       "      <td>67.0</td>\n",
       "      <td>6.4030</td>\n",
       "      <td>2.0</td>\n",
       "      <td>0.411667</td>\n",
       "      <td>3:27</td>\n",
       "      <td>2019-10-03 05:20:00</td>\n",
       "    </tr>\n",
       "  </tbody>\n",
       "</table>\n",
       "<p>15 rows × 40 columns</p>\n",
       "</div>"
      ],
      "text/plain": [
       "    Home_team        date  time local_time Away_team  Week  Game_Number  day  \\\n",
       "189       CLE  2019-10-07  8:15       5:15       SFO   5.0          5.0  Mon   \n",
       "190       ATL  2019-10-06  1:00      12:00       HOU   5.0          5.0  Sun   \n",
       "191       BUF  2019-10-06  1:00      12:00       TEN   5.0          5.0  Sun   \n",
       "192       IND  2019-10-06  8:20       7:20       KAN   5.0          5.0  Sun   \n",
       "193       ARI  2019-10-06  1:00       1:00       CIN   5.0          5.0  Sun   \n",
       "194       DEN  2019-10-06  4:05       1:05       LAC   5.0          5.0  Sun   \n",
       "195       GNB  2019-10-06  4:25       3:25       DAL   5.0          5.0  Sun   \n",
       "196       JAX  2019-10-06  1:00       1:00       CAR   5.0          5.0  Sun   \n",
       "197       NYG  2019-10-06  1:00       1:00       MIN   5.0          5.0  Sun   \n",
       "198       NYJ  2019-10-06  1:00       1:00       PHI   5.0          4.0  Sun   \n",
       "199       PIT  2019-10-06  1:00       1:00       BAL   5.0          5.0  Sun   \n",
       "200       OAK  2019-10-06  1:00       6:00       CHI   5.0          5.0  Sun   \n",
       "201       TAM  2019-10-06  1:00      12:00       NOR   5.0          5.0  Sun   \n",
       "202       WAS  2019-10-06  1:00       1:00       NWE   5.0          5.0  Sun   \n",
       "203       LAR  2019-10-03  8:20       5:20       SEA   5.0          5.0  Thu   \n",
       "\n",
       "      result  OT  ...  rushing_touchdowns  total_yards  offensive_plays  \\\n",
       "189   L 3-31   0  ...                 0.0        180.0             46.0   \n",
       "190  L 32-53   0  ...                 1.0        373.0             68.0   \n",
       "191   W 14-7   0  ...                 0.0        313.0             63.0   \n",
       "192  W 19-13   0  ...                 1.0        331.0             74.0   \n",
       "193  W 26-23   0  ...                 2.0        514.0             71.0   \n",
       "194  W 20-13   0  ...                 1.0        350.0             55.0   \n",
       "195  W 34-24   0  ...                 4.0        335.0             65.0   \n",
       "196  L 27-34   0  ...                 1.0        507.0             77.0   \n",
       "197  L 10-28   0  ...                 0.0        211.0             62.0   \n",
       "198   L 6-31   0  ...                 1.0        128.0             55.0   \n",
       "199  L 23-26  OT  ...                 1.0        269.0             51.0   \n",
       "200  W 24-21   0  ...                 3.0        398.0             71.0   \n",
       "201  L 24-31   0  ...                 1.0        252.0             55.0   \n",
       "202   L 7-33   0  ...                 1.0        223.0             53.0   \n",
       "203  L 29-30   0  ...                 2.0        477.0             67.0   \n",
       "\n",
       "     yards_per_play_offense  defensive_plays  \\\n",
       "189                  3.9130             71.0   \n",
       "190                  5.4853             67.0   \n",
       "191                  4.9683             54.0   \n",
       "192                  4.4730             57.0   \n",
       "193                  7.2394             62.0   \n",
       "194                  6.3636             64.0   \n",
       "195                  5.1538             68.0   \n",
       "196                  6.5844             61.0   \n",
       "197                  3.4032             64.0   \n",
       "198                  2.3273             59.0   \n",
       "199                  5.2745             73.0   \n",
       "200                  5.6056             51.0   \n",
       "201                  4.5818             67.0   \n",
       "202                  4.2075             74.0   \n",
       "203                  7.1194             67.0   \n",
       "\n",
       "     yards_allowed_per_defensive_play  turnovers_lost  time_of_possession  \\\n",
       "189                            6.2817             4.0            0.371389   \n",
       "190                            8.8358             1.0            0.483333   \n",
       "191                            4.6667             1.0            0.520000   \n",
       "192                            5.6842             1.0            0.620833   \n",
       "193                            5.9677             0.0            0.517500   \n",
       "194                            3.8438             2.0            0.493333   \n",
       "195                            8.2794             0.0            0.611944   \n",
       "196                            7.2951             3.0            0.540000   \n",
       "197                            7.6563             1.0            0.455556   \n",
       "198                            4.4915             3.0            0.485556   \n",
       "199                            3.7945             2.0            0.426111   \n",
       "200                            4.6275             2.0            0.578611   \n",
       "201                            6.8209             0.0            0.442500   \n",
       "202                            5.9730             2.0            0.468611   \n",
       "203                            6.4030             2.0            0.411667   \n",
       "\n",
       "     game_duration      game_date_time  \n",
       "189           2:57 2019-10-07 05:15:00  \n",
       "190           3:13 2019-10-06 12:00:00  \n",
       "191           2:54 2019-10-06 12:00:00  \n",
       "192           3:15 2019-10-06 07:20:00  \n",
       "193           3:03 2019-10-06 01:00:00  \n",
       "194           3:03 2019-10-06 01:05:00  \n",
       "195           3:31 2019-10-06 03:25:00  \n",
       "196           3:28 2019-10-06 01:00:00  \n",
       "197           3:03 2019-10-06 01:00:00  \n",
       "198           3:01 2019-10-06 01:00:00  \n",
       "199           3:23 2019-10-06 01:00:00  \n",
       "200           3:08 2019-10-06 06:00:00  \n",
       "201           3:07 2019-10-06 12:00:00  \n",
       "202           3:08 2019-10-06 01:00:00  \n",
       "203           3:27 2019-10-03 05:20:00  \n",
       "\n",
       "[15 rows x 40 columns]"
      ]
     },
     "execution_count": 178,
     "metadata": {},
     "output_type": "execute_result"
    }
   ],
   "source": [
    "week5"
   ]
  },
  {
   "cell_type": "code",
   "execution_count": 181,
   "metadata": {
    "ExecuteTime": {
     "end_time": "2020-05-11T14:01:51.399609Z",
     "start_time": "2020-05-11T14:01:51.393848Z"
    }
   },
   "outputs": [
    {
     "data": {
      "text/plain": [
       "'L'"
      ]
     },
     "execution_count": 181,
     "metadata": {},
     "output_type": "execute_result"
    }
   ],
   "source": [
    "odds2_df['result'][0].split()[0]"
   ]
  },
  {
   "cell_type": "code",
   "execution_count": 183,
   "metadata": {
    "ExecuteTime": {
     "end_time": "2020-05-11T14:03:06.829352Z",
     "start_time": "2020-05-11T14:03:06.816088Z"
    }
   },
   "outputs": [
    {
     "data": {
      "text/plain": [
       "['20', '31']"
      ]
     },
     "execution_count": 183,
     "metadata": {},
     "output_type": "execute_result"
    }
   ],
   "source": [
    "odds2_df['result'][0].split()[1].split('-')"
   ]
  },
  {
   "cell_type": "code",
   "execution_count": 184,
   "metadata": {
    "ExecuteTime": {
     "end_time": "2020-05-11T14:04:36.135528Z",
     "start_time": "2020-05-11T14:04:36.093360Z"
    }
   },
   "outputs": [
    {
     "data": {
      "text/plain": [
       "20.0"
      ]
     },
     "execution_count": 184,
     "metadata": {},
     "output_type": "execute_result"
    }
   ],
   "source": [
    "odds2_df['points_for'][0]"
   ]
  },
  {
   "cell_type": "code",
   "execution_count": 185,
   "metadata": {
    "ExecuteTime": {
     "end_time": "2020-05-11T14:08:09.013185Z",
     "start_time": "2020-05-11T14:08:09.006005Z"
    }
   },
   "outputs": [],
   "source": [
    "odds2_df['result'] = odds2_df['result'].apply(lambda x: x.split()[0])"
   ]
  },
  {
   "cell_type": "code",
   "execution_count": 186,
   "metadata": {
    "ExecuteTime": {
     "end_time": "2020-05-11T14:08:48.680941Z",
     "start_time": "2020-05-11T14:08:48.671075Z"
    }
   },
   "outputs": [
    {
     "data": {
      "text/plain": [
       "array(['L', 'W', 'T'], dtype=object)"
      ]
     },
     "execution_count": 186,
     "metadata": {},
     "output_type": "execute_result"
    }
   ],
   "source": [
    "odds2_df['result'].unique()"
   ]
  },
  {
   "cell_type": "code",
   "execution_count": 187,
   "metadata": {
    "ExecuteTime": {
     "end_time": "2020-05-11T14:11:13.188468Z",
     "start_time": "2020-05-11T14:11:13.182102Z"
    }
   },
   "outputs": [],
   "source": [
    "odds2_df['result'] = odds2_df['result'].replace(to_replace=['L', 'W', 'T'], value=[-1,1,0])"
   ]
  },
  {
   "cell_type": "code",
   "execution_count": 195,
   "metadata": {
    "ExecuteTime": {
     "end_time": "2020-05-11T14:43:38.586923Z",
     "start_time": "2020-05-11T14:43:38.575876Z"
    }
   },
   "outputs": [],
   "source": [
    "odds2_df = odds2_df.drop(columns=['date', 'time', 'local_time', 'day'])"
   ]
  },
  {
   "cell_type": "code",
   "execution_count": 198,
   "metadata": {
    "ExecuteTime": {
     "end_time": "2020-05-11T14:44:56.351700Z",
     "start_time": "2020-05-11T14:44:56.345987Z"
    }
   },
   "outputs": [],
   "source": [
    "odds2_df['OT'] = odds2_df['OT'].replace(to_replace=['OT'], value=[1])"
   ]
  },
  {
   "cell_type": "code",
   "execution_count": 199,
   "metadata": {
    "ExecuteTime": {
     "end_time": "2020-05-11T14:45:11.484780Z",
     "start_time": "2020-05-11T14:45:11.479521Z"
    }
   },
   "outputs": [
    {
     "data": {
      "text/plain": [
       "Index(['Home_team', 'Away_team', 'Week', 'Game_Number', 'result', 'OT',\n",
       "       'points_for', 'points_against', 'point_differential', 'combined_points',\n",
       "       'spread', 'vs_line', 'over_under', 'over_under_result',\n",
       "       'pass_completions', 'pass_attempts', 'completion_percentage',\n",
       "       'passing_yards', 'passing_touchdowns', 'interceptions', 'times_sacked',\n",
       "       'sack_yards_lost', 'qbr', 'rushing_attempts', 'rushing_yards',\n",
       "       'rushing_yards_per_attempt', 'rushing_touchdowns', 'total_yards',\n",
       "       'offensive_plays', 'yards_per_play_offense', 'defensive_plays',\n",
       "       'yards_allowed_per_defensive_play', 'turnovers_lost',\n",
       "       'time_of_possession', 'game_duration', 'game_date_time'],\n",
       "      dtype='object')"
      ]
     },
     "execution_count": 199,
     "metadata": {},
     "output_type": "execute_result"
    }
   ],
   "source": [
    "odds2_df.columns"
   ]
  },
  {
   "cell_type": "code",
   "execution_count": 190,
   "metadata": {
    "ExecuteTime": {
     "end_time": "2020-05-11T14:38:54.031853Z",
     "start_time": "2020-05-11T14:38:51.415103Z"
    }
   },
   "outputs": [],
   "source": [
    "from sklearn.ensemble import RandomForestClassifier\n",
    "from sklearn.model_selection import train_test_split\n",
    "from sklearn.metrics import confusion_matrix, precision_score, recall_score\n",
    "from sklearn.linear_model import LogisticRegression\n",
    "from sklearn.neighbors import KNeighborsClassifier\n",
    "from sklearn.tree import DecisionTreeClassifier\n",
    "from sklearn.naive_bayes import MultinomialNB"
   ]
  },
  {
   "cell_type": "code",
   "execution_count": 200,
   "metadata": {
    "ExecuteTime": {
     "end_time": "2020-05-11T14:46:53.118442Z",
     "start_time": "2020-05-11T14:46:53.110600Z"
    }
   },
   "outputs": [],
   "source": [
    "week5 = odds2_df[odds2_df['Week'] == 5]\n",
    "weeks_1_through_4 = odds2_df[odds2_df['Week'] < 5]"
   ]
  },
  {
   "cell_type": "code",
   "execution_count": 201,
   "metadata": {
    "ExecuteTime": {
     "end_time": "2020-05-11T14:46:56.258876Z",
     "start_time": "2020-05-11T14:46:56.250217Z"
    }
   },
   "outputs": [],
   "source": [
    "week5c = week5.copy()\n",
    "w1_4 = weeks_1_through_4.copy()"
   ]
  },
  {
   "cell_type": "code",
   "execution_count": 207,
   "metadata": {
    "ExecuteTime": {
     "end_time": "2020-05-11T14:59:07.935063Z",
     "start_time": "2020-05-11T14:59:07.784238Z"
    }
   },
   "outputs": [
    {
     "data": {
      "text/html": [
       "<div>\n",
       "<style scoped>\n",
       "    .dataframe tbody tr th:only-of-type {\n",
       "        vertical-align: middle;\n",
       "    }\n",
       "\n",
       "    .dataframe tbody tr th {\n",
       "        vertical-align: top;\n",
       "    }\n",
       "\n",
       "    .dataframe thead th {\n",
       "        text-align: right;\n",
       "    }\n",
       "</style>\n",
       "<table border=\"1\" class=\"dataframe\">\n",
       "  <thead>\n",
       "    <tr style=\"text-align: right;\">\n",
       "      <th></th>\n",
       "      <th>Home_team</th>\n",
       "      <th>Away_team</th>\n",
       "      <th>Week</th>\n",
       "      <th>Game_Number</th>\n",
       "      <th>result</th>\n",
       "      <th>OT</th>\n",
       "      <th>points_for</th>\n",
       "      <th>points_against</th>\n",
       "      <th>point_differential</th>\n",
       "      <th>combined_points</th>\n",
       "      <th>...</th>\n",
       "      <th>rushing_touchdowns</th>\n",
       "      <th>total_yards</th>\n",
       "      <th>offensive_plays</th>\n",
       "      <th>yards_per_play_offense</th>\n",
       "      <th>defensive_plays</th>\n",
       "      <th>yards_allowed_per_defensive_play</th>\n",
       "      <th>turnovers_lost</th>\n",
       "      <th>time_of_possession</th>\n",
       "      <th>game_duration</th>\n",
       "      <th>game_date_time</th>\n",
       "    </tr>\n",
       "  </thead>\n",
       "  <tbody>\n",
       "    <tr>\n",
       "      <td>204</td>\n",
       "      <td>CIN</td>\n",
       "      <td>PIT</td>\n",
       "      <td>4.0</td>\n",
       "      <td>4.0</td>\n",
       "      <td>-1</td>\n",
       "      <td>0</td>\n",
       "      <td>3.0</td>\n",
       "      <td>27.0</td>\n",
       "      <td>-24.0</td>\n",
       "      <td>30.0</td>\n",
       "      <td>...</td>\n",
       "      <td>0.0</td>\n",
       "      <td>175.0</td>\n",
       "      <td>64.0</td>\n",
       "      <td>2.7344</td>\n",
       "      <td>56.0</td>\n",
       "      <td>5.8214</td>\n",
       "      <td>2.0</td>\n",
       "      <td>0.503889</td>\n",
       "      <td>2:56</td>\n",
       "      <td>2019-09-30 08:15:00</td>\n",
       "    </tr>\n",
       "    <tr>\n",
       "      <td>205</td>\n",
       "      <td>BUF</td>\n",
       "      <td>NWE</td>\n",
       "      <td>4.0</td>\n",
       "      <td>4.0</td>\n",
       "      <td>-1</td>\n",
       "      <td>0</td>\n",
       "      <td>10.0</td>\n",
       "      <td>16.0</td>\n",
       "      <td>-6.0</td>\n",
       "      <td>26.0</td>\n",
       "      <td>...</td>\n",
       "      <td>1.0</td>\n",
       "      <td>375.0</td>\n",
       "      <td>71.0</td>\n",
       "      <td>5.2817</td>\n",
       "      <td>62.0</td>\n",
       "      <td>3.6129</td>\n",
       "      <td>4.0</td>\n",
       "      <td>0.544444</td>\n",
       "      <td>3:19</td>\n",
       "      <td>2019-09-29 01:00:00</td>\n",
       "    </tr>\n",
       "    <tr>\n",
       "      <td>206</td>\n",
       "      <td>CAR</td>\n",
       "      <td>HOU</td>\n",
       "      <td>4.0</td>\n",
       "      <td>4.0</td>\n",
       "      <td>1</td>\n",
       "      <td>0</td>\n",
       "      <td>16.0</td>\n",
       "      <td>10.0</td>\n",
       "      <td>6.0</td>\n",
       "      <td>26.0</td>\n",
       "      <td>...</td>\n",
       "      <td>1.0</td>\n",
       "      <td>297.0</td>\n",
       "      <td>65.0</td>\n",
       "      <td>4.5692</td>\n",
       "      <td>62.0</td>\n",
       "      <td>4.2581</td>\n",
       "      <td>3.0</td>\n",
       "      <td>0.510556</td>\n",
       "      <td>3:06</td>\n",
       "      <td>2019-09-29 12:00:00</td>\n",
       "    </tr>\n",
       "    <tr>\n",
       "      <td>207</td>\n",
       "      <td>CHI</td>\n",
       "      <td>MIN</td>\n",
       "      <td>4.0</td>\n",
       "      <td>4.0</td>\n",
       "      <td>1</td>\n",
       "      <td>0</td>\n",
       "      <td>16.0</td>\n",
       "      <td>6.0</td>\n",
       "      <td>10.0</td>\n",
       "      <td>22.0</td>\n",
       "      <td>...</td>\n",
       "      <td>0.0</td>\n",
       "      <td>269.0</td>\n",
       "      <td>67.0</td>\n",
       "      <td>4.0149</td>\n",
       "      <td>58.0</td>\n",
       "      <td>3.8276</td>\n",
       "      <td>0.0</td>\n",
       "      <td>0.590833</td>\n",
       "      <td>2:59</td>\n",
       "      <td>2019-09-29 03:25:00</td>\n",
       "    </tr>\n",
       "    <tr>\n",
       "      <td>208</td>\n",
       "      <td>CLE</td>\n",
       "      <td>BAL</td>\n",
       "      <td>4.0</td>\n",
       "      <td>4.0</td>\n",
       "      <td>1</td>\n",
       "      <td>0</td>\n",
       "      <td>40.0</td>\n",
       "      <td>25.0</td>\n",
       "      <td>15.0</td>\n",
       "      <td>65.0</td>\n",
       "      <td>...</td>\n",
       "      <td>4.0</td>\n",
       "      <td>530.0</td>\n",
       "      <td>61.0</td>\n",
       "      <td>8.6885</td>\n",
       "      <td>67.0</td>\n",
       "      <td>5.8955</td>\n",
       "      <td>1.0</td>\n",
       "      <td>0.504722</td>\n",
       "      <td>3:08</td>\n",
       "      <td>2019-09-29 01:00:00</td>\n",
       "    </tr>\n",
       "  </tbody>\n",
       "</table>\n",
       "<p>5 rows × 36 columns</p>\n",
       "</div>"
      ],
      "text/plain": [
       "    Home_team Away_team  Week  Game_Number  result  OT  points_for  \\\n",
       "204       CIN       PIT   4.0          4.0      -1   0         3.0   \n",
       "205       BUF       NWE   4.0          4.0      -1   0        10.0   \n",
       "206       CAR       HOU   4.0          4.0       1   0        16.0   \n",
       "207       CHI       MIN   4.0          4.0       1   0        16.0   \n",
       "208       CLE       BAL   4.0          4.0       1   0        40.0   \n",
       "\n",
       "     points_against  point_differential  combined_points  ...  \\\n",
       "204            27.0               -24.0             30.0  ...   \n",
       "205            16.0                -6.0             26.0  ...   \n",
       "206            10.0                 6.0             26.0  ...   \n",
       "207             6.0                10.0             22.0  ...   \n",
       "208            25.0                15.0             65.0  ...   \n",
       "\n",
       "     rushing_touchdowns  total_yards  offensive_plays  yards_per_play_offense  \\\n",
       "204                 0.0        175.0             64.0                  2.7344   \n",
       "205                 1.0        375.0             71.0                  5.2817   \n",
       "206                 1.0        297.0             65.0                  4.5692   \n",
       "207                 0.0        269.0             67.0                  4.0149   \n",
       "208                 4.0        530.0             61.0                  8.6885   \n",
       "\n",
       "     defensive_plays  yards_allowed_per_defensive_play  turnovers_lost  \\\n",
       "204             56.0                            5.8214             2.0   \n",
       "205             62.0                            3.6129             4.0   \n",
       "206             62.0                            4.2581             3.0   \n",
       "207             58.0                            3.8276             0.0   \n",
       "208             67.0                            5.8955             1.0   \n",
       "\n",
       "     time_of_possession  game_duration      game_date_time  \n",
       "204            0.503889           2:56 2019-09-30 08:15:00  \n",
       "205            0.544444           3:19 2019-09-29 01:00:00  \n",
       "206            0.510556           3:06 2019-09-29 12:00:00  \n",
       "207            0.590833           2:59 2019-09-29 03:25:00  \n",
       "208            0.504722           3:08 2019-09-29 01:00:00  \n",
       "\n",
       "[5 rows x 36 columns]"
      ]
     },
     "execution_count": 207,
     "metadata": {},
     "output_type": "execute_result"
    }
   ],
   "source": [
    "w1_4.head()"
   ]
  },
  {
   "cell_type": "code",
   "execution_count": 210,
   "metadata": {
    "ExecuteTime": {
     "end_time": "2020-05-11T15:05:19.771283Z",
     "start_time": "2020-05-11T15:05:19.756266Z"
    }
   },
   "outputs": [
    {
     "data": {
      "text/plain": [
       "Index(['Home_team', 'Away_team', 'Week', 'Game_Number', 'result', 'OT',\n",
       "       'points_for', 'points_against', 'point_differential', 'combined_points',\n",
       "       'spread', 'vs_line', 'over_under', 'over_under_result',\n",
       "       'pass_completions', 'pass_attempts', 'completion_percentage',\n",
       "       'passing_yards', 'passing_touchdowns', 'interceptions', 'times_sacked',\n",
       "       'sack_yards_lost', 'qbr', 'rushing_attempts', 'rushing_yards',\n",
       "       'rushing_yards_per_attempt', 'rushing_touchdowns', 'total_yards',\n",
       "       'offensive_plays', 'yards_per_play_offense', 'defensive_plays',\n",
       "       'yards_allowed_per_defensive_play', 'turnovers_lost',\n",
       "       'time_of_possession', 'game_duration', 'game_date_time'],\n",
       "      dtype='object')"
      ]
     },
     "execution_count": 210,
     "metadata": {},
     "output_type": "execute_result"
    }
   ],
   "source": [
    "odds2_df.columns"
   ]
  },
  {
   "cell_type": "code",
   "execution_count": 211,
   "metadata": {
    "ExecuteTime": {
     "end_time": "2020-05-11T15:17:12.470746Z",
     "start_time": "2020-05-11T15:17:12.461203Z"
    }
   },
   "outputs": [
    {
     "data": {
      "text/plain": [
       "Home_team                                           SFO\n",
       "Away_team                                           KAN\n",
       "Week                                                 21\n",
       "Game_Number                                          20\n",
       "result                                               -1\n",
       "OT                                                    0\n",
       "points_for                                           20\n",
       "points_against                                       31\n",
       "point_differential                                  -11\n",
       "combined_points                                      51\n",
       "spread                                              1.5\n",
       "vs_line                                              -1\n",
       "over_under                                         52.5\n",
       "over_under_result                                    -1\n",
       "pass_completions                                     20\n",
       "pass_attempts                                        31\n",
       "completion_percentage                              64.5\n",
       "passing_yards                                       210\n",
       "passing_touchdowns                                    1\n",
       "interceptions                                         2\n",
       "times_sacked                                          1\n",
       "sack_yards_lost                                       9\n",
       "qbr                                                67.9\n",
       "rushing_attempts                                     22\n",
       "rushing_yards                                       141\n",
       "rushing_yards_per_attempt                          6.41\n",
       "rushing_touchdowns                                    1\n",
       "total_yards                                         351\n",
       "offensive_plays                                      54\n",
       "yards_per_play_offense                              6.5\n",
       "defensive_plays                                      75\n",
       "yards_allowed_per_defensive_play                 5.2933\n",
       "turnovers_lost                                        2\n",
       "time_of_possession                             0.446389\n",
       "game_duration                                      3:29\n",
       "game_date_time                      2020-02-02 06:30:00\n",
       "Name: 0, dtype: object"
      ]
     },
     "execution_count": 211,
     "metadata": {},
     "output_type": "execute_result"
    }
   ],
   "source": [
    "odds2_df.iloc[0]"
   ]
  },
  {
   "cell_type": "code",
   "execution_count": 205,
   "metadata": {
    "ExecuteTime": {
     "end_time": "2020-05-11T14:53:19.652556Z",
     "start_time": "2020-05-11T14:53:19.640789Z"
    }
   },
   "outputs": [],
   "source": [
    "X_train = w1_4.drop(columns=['result', 'points_for', 'points_against', \n",
    "                    'point_differential', 'combined_points', 'vs_line', \n",
    "                    'over_under_result']).values\n",
    "y_train = w1_4['result'].values\n",
    "\n",
    "X_test = week5c.drop(columns=['result', 'points_for', 'points_against', \n",
    "                    'point_differential', 'combined_points', 'vs_line', \n",
    "                    'over_under_result']).values\n",
    "y_test = week5c['result'].values"
   ]
  },
  {
   "cell_type": "code",
   "execution_count": 206,
   "metadata": {
    "ExecuteTime": {
     "end_time": "2020-05-11T14:54:08.298618Z",
     "start_time": "2020-05-11T14:54:08.207445Z"
    }
   },
   "outputs": [
    {
     "name": "stderr",
     "output_type": "stream",
     "text": [
      "/home/robert/anaconda3/lib/python3.7/site-packages/sklearn/ensemble/forest.py:245: FutureWarning: The default value of n_estimators will change from 10 in version 0.20 to 100 in 0.22.\n",
      "  \"10 in version 0.20 to 100 in 0.22.\", FutureWarning)\n"
     ]
    },
    {
     "ename": "ValueError",
     "evalue": "could not convert string to float: 'CIN'",
     "output_type": "error",
     "traceback": [
      "\u001b[0;31m---------------------------------------------------------------------------\u001b[0m",
      "\u001b[0;31mValueError\u001b[0m                                Traceback (most recent call last)",
      "\u001b[0;32m<ipython-input-206-efede872133b>\u001b[0m in \u001b[0;36m<module>\u001b[0;34m\u001b[0m\n\u001b[1;32m      1\u001b[0m \u001b[0mrf\u001b[0m \u001b[0;34m=\u001b[0m \u001b[0mRandomForestClassifier\u001b[0m\u001b[0;34m(\u001b[0m\u001b[0;34m)\u001b[0m\u001b[0;34m\u001b[0m\u001b[0;34m\u001b[0m\u001b[0m\n\u001b[0;32m----> 2\u001b[0;31m \u001b[0mrf\u001b[0m\u001b[0;34m.\u001b[0m\u001b[0mfit\u001b[0m\u001b[0;34m(\u001b[0m\u001b[0mX_train\u001b[0m\u001b[0;34m,\u001b[0m \u001b[0my_train\u001b[0m\u001b[0;34m)\u001b[0m\u001b[0;34m\u001b[0m\u001b[0;34m\u001b[0m\u001b[0m\n\u001b[0m",
      "\u001b[0;32m~/anaconda3/lib/python3.7/site-packages/sklearn/ensemble/forest.py\u001b[0m in \u001b[0;36mfit\u001b[0;34m(self, X, y, sample_weight)\u001b[0m\n\u001b[1;32m    247\u001b[0m \u001b[0;34m\u001b[0m\u001b[0m\n\u001b[1;32m    248\u001b[0m         \u001b[0;31m# Validate or convert input data\u001b[0m\u001b[0;34m\u001b[0m\u001b[0;34m\u001b[0m\u001b[0;34m\u001b[0m\u001b[0m\n\u001b[0;32m--> 249\u001b[0;31m         \u001b[0mX\u001b[0m \u001b[0;34m=\u001b[0m \u001b[0mcheck_array\u001b[0m\u001b[0;34m(\u001b[0m\u001b[0mX\u001b[0m\u001b[0;34m,\u001b[0m \u001b[0maccept_sparse\u001b[0m\u001b[0;34m=\u001b[0m\u001b[0;34m\"csc\"\u001b[0m\u001b[0;34m,\u001b[0m \u001b[0mdtype\u001b[0m\u001b[0;34m=\u001b[0m\u001b[0mDTYPE\u001b[0m\u001b[0;34m)\u001b[0m\u001b[0;34m\u001b[0m\u001b[0;34m\u001b[0m\u001b[0m\n\u001b[0m\u001b[1;32m    250\u001b[0m         \u001b[0my\u001b[0m \u001b[0;34m=\u001b[0m \u001b[0mcheck_array\u001b[0m\u001b[0;34m(\u001b[0m\u001b[0my\u001b[0m\u001b[0;34m,\u001b[0m \u001b[0maccept_sparse\u001b[0m\u001b[0;34m=\u001b[0m\u001b[0;34m'csc'\u001b[0m\u001b[0;34m,\u001b[0m \u001b[0mensure_2d\u001b[0m\u001b[0;34m=\u001b[0m\u001b[0;32mFalse\u001b[0m\u001b[0;34m,\u001b[0m \u001b[0mdtype\u001b[0m\u001b[0;34m=\u001b[0m\u001b[0;32mNone\u001b[0m\u001b[0;34m)\u001b[0m\u001b[0;34m\u001b[0m\u001b[0;34m\u001b[0m\u001b[0m\n\u001b[1;32m    251\u001b[0m         \u001b[0;32mif\u001b[0m \u001b[0msample_weight\u001b[0m \u001b[0;32mis\u001b[0m \u001b[0;32mnot\u001b[0m \u001b[0;32mNone\u001b[0m\u001b[0;34m:\u001b[0m\u001b[0;34m\u001b[0m\u001b[0;34m\u001b[0m\u001b[0m\n",
      "\u001b[0;32m~/anaconda3/lib/python3.7/site-packages/sklearn/utils/validation.py\u001b[0m in \u001b[0;36mcheck_array\u001b[0;34m(array, accept_sparse, accept_large_sparse, dtype, order, copy, force_all_finite, ensure_2d, allow_nd, ensure_min_samples, ensure_min_features, warn_on_dtype, estimator)\u001b[0m\n\u001b[1;32m    494\u001b[0m             \u001b[0;32mtry\u001b[0m\u001b[0;34m:\u001b[0m\u001b[0;34m\u001b[0m\u001b[0;34m\u001b[0m\u001b[0m\n\u001b[1;32m    495\u001b[0m                 \u001b[0mwarnings\u001b[0m\u001b[0;34m.\u001b[0m\u001b[0msimplefilter\u001b[0m\u001b[0;34m(\u001b[0m\u001b[0;34m'error'\u001b[0m\u001b[0;34m,\u001b[0m \u001b[0mComplexWarning\u001b[0m\u001b[0;34m)\u001b[0m\u001b[0;34m\u001b[0m\u001b[0;34m\u001b[0m\u001b[0m\n\u001b[0;32m--> 496\u001b[0;31m                 \u001b[0marray\u001b[0m \u001b[0;34m=\u001b[0m \u001b[0mnp\u001b[0m\u001b[0;34m.\u001b[0m\u001b[0masarray\u001b[0m\u001b[0;34m(\u001b[0m\u001b[0marray\u001b[0m\u001b[0;34m,\u001b[0m \u001b[0mdtype\u001b[0m\u001b[0;34m=\u001b[0m\u001b[0mdtype\u001b[0m\u001b[0;34m,\u001b[0m \u001b[0morder\u001b[0m\u001b[0;34m=\u001b[0m\u001b[0morder\u001b[0m\u001b[0;34m)\u001b[0m\u001b[0;34m\u001b[0m\u001b[0;34m\u001b[0m\u001b[0m\n\u001b[0m\u001b[1;32m    497\u001b[0m             \u001b[0;32mexcept\u001b[0m \u001b[0mComplexWarning\u001b[0m\u001b[0;34m:\u001b[0m\u001b[0;34m\u001b[0m\u001b[0;34m\u001b[0m\u001b[0m\n\u001b[1;32m    498\u001b[0m                 raise ValueError(\"Complex data not supported\\n\"\n",
      "\u001b[0;32m~/anaconda3/lib/python3.7/site-packages/numpy/core/_asarray.py\u001b[0m in \u001b[0;36masarray\u001b[0;34m(a, dtype, order)\u001b[0m\n\u001b[1;32m     83\u001b[0m \u001b[0;34m\u001b[0m\u001b[0m\n\u001b[1;32m     84\u001b[0m     \"\"\"\n\u001b[0;32m---> 85\u001b[0;31m     \u001b[0;32mreturn\u001b[0m \u001b[0marray\u001b[0m\u001b[0;34m(\u001b[0m\u001b[0ma\u001b[0m\u001b[0;34m,\u001b[0m \u001b[0mdtype\u001b[0m\u001b[0;34m,\u001b[0m \u001b[0mcopy\u001b[0m\u001b[0;34m=\u001b[0m\u001b[0;32mFalse\u001b[0m\u001b[0;34m,\u001b[0m \u001b[0morder\u001b[0m\u001b[0;34m=\u001b[0m\u001b[0morder\u001b[0m\u001b[0;34m)\u001b[0m\u001b[0;34m\u001b[0m\u001b[0;34m\u001b[0m\u001b[0m\n\u001b[0m\u001b[1;32m     86\u001b[0m \u001b[0;34m\u001b[0m\u001b[0m\n\u001b[1;32m     87\u001b[0m \u001b[0;34m\u001b[0m\u001b[0m\n",
      "\u001b[0;31mValueError\u001b[0m: could not convert string to float: 'CIN'"
     ]
    }
   ],
   "source": [
    "rf = RandomForestClassifier()\n",
    "rf.fit(X_train, y_train)"
   ]
  },
  {
   "cell_type": "code",
   "execution_count": 223,
   "metadata": {
    "ExecuteTime": {
     "end_time": "2020-05-11T15:52:04.118411Z",
     "start_time": "2020-05-11T15:52:01.134222Z"
    }
   },
   "outputs": [
    {
     "ename": "ValueError",
     "evalue": "No tables found",
     "output_type": "error",
     "traceback": [
      "\u001b[0;31m---------------------------------------------------------------------------\u001b[0m",
      "\u001b[0;31mValueError\u001b[0m                                Traceback (most recent call last)",
      "\u001b[0;32m<ipython-input-223-bb7bb9147916>\u001b[0m in \u001b[0;36m<module>\u001b[0;34m\u001b[0m\n\u001b[1;32m      2\u001b[0m \u001b[0;32mfor\u001b[0m \u001b[0mi\u001b[0m \u001b[0;32min\u001b[0m \u001b[0mrange\u001b[0m\u001b[0;34m(\u001b[0m\u001b[0;36m0\u001b[0m\u001b[0;34m,\u001b[0m\u001b[0;36m300\u001b[0m\u001b[0;34m,\u001b[0m\u001b[0;36m100\u001b[0m\u001b[0;34m)\u001b[0m\u001b[0;34m:\u001b[0m\u001b[0;34m\u001b[0m\u001b[0;34m\u001b[0m\u001b[0m\n\u001b[1;32m      3\u001b[0m     \u001b[0murl3\u001b[0m \u001b[0;34m=\u001b[0m\u001b[0;34m\"\"\"https://www.pro-football-reference.com/play-index/tgl_finder.cgi?request=1&match=game&year_min=2019&year_max=2019&game_type=E&game_num_min=0&game_num_max=99&week_num_min=0&week_num_max=99&temperature_gtlt=lt&c1stat=vegas_line&c1comp=gte&c2stat=pass_yds_opp&c2comp=gte&c3stat=rush_yds_opp&c3comp=gte&c4stat=turnover_diff&c4comp=gte&c5stat=turnover_diff&c5comp=gt&c5val=1.0&order_by=game_date&offset={}\"\"\"\u001b[0m\u001b[0;34m\u001b[0m\u001b[0;34m\u001b[0m\u001b[0m\n\u001b[0;32m----> 4\u001b[0;31m     \u001b[0modds3\u001b[0m\u001b[0;34m.\u001b[0m\u001b[0mappend\u001b[0m\u001b[0;34m(\u001b[0m\u001b[0mpd\u001b[0m\u001b[0;34m.\u001b[0m\u001b[0mread_html\u001b[0m\u001b[0;34m(\u001b[0m\u001b[0murl3\u001b[0m\u001b[0;34m.\u001b[0m\u001b[0mformat\u001b[0m\u001b[0;34m(\u001b[0m\u001b[0mi\u001b[0m\u001b[0;34m)\u001b[0m\u001b[0;34m)\u001b[0m\u001b[0;34m[\u001b[0m\u001b[0;36m0\u001b[0m\u001b[0;34m]\u001b[0m\u001b[0;34m)\u001b[0m\u001b[0;34m\u001b[0m\u001b[0;34m\u001b[0m\u001b[0m\n\u001b[0m",
      "\u001b[0;32m~/anaconda3/lib/python3.7/site-packages/pandas/io/html.py\u001b[0m in \u001b[0;36mread_html\u001b[0;34m(io, match, flavor, header, index_col, skiprows, attrs, parse_dates, thousands, encoding, decimal, converters, na_values, keep_default_na, displayed_only)\u001b[0m\n\u001b[1;32m   1103\u001b[0m         \u001b[0mna_values\u001b[0m\u001b[0;34m=\u001b[0m\u001b[0mna_values\u001b[0m\u001b[0;34m,\u001b[0m\u001b[0;34m\u001b[0m\u001b[0;34m\u001b[0m\u001b[0m\n\u001b[1;32m   1104\u001b[0m         \u001b[0mkeep_default_na\u001b[0m\u001b[0;34m=\u001b[0m\u001b[0mkeep_default_na\u001b[0m\u001b[0;34m,\u001b[0m\u001b[0;34m\u001b[0m\u001b[0;34m\u001b[0m\u001b[0m\n\u001b[0;32m-> 1105\u001b[0;31m         \u001b[0mdisplayed_only\u001b[0m\u001b[0;34m=\u001b[0m\u001b[0mdisplayed_only\u001b[0m\u001b[0;34m,\u001b[0m\u001b[0;34m\u001b[0m\u001b[0;34m\u001b[0m\u001b[0m\n\u001b[0m\u001b[1;32m   1106\u001b[0m     )\n",
      "\u001b[0;32m~/anaconda3/lib/python3.7/site-packages/pandas/io/html.py\u001b[0m in \u001b[0;36m_parse\u001b[0;34m(flavor, io, match, attrs, encoding, displayed_only, **kwargs)\u001b[0m\n\u001b[1;32m    910\u001b[0m             \u001b[0;32mbreak\u001b[0m\u001b[0;34m\u001b[0m\u001b[0;34m\u001b[0m\u001b[0m\n\u001b[1;32m    911\u001b[0m     \u001b[0;32melse\u001b[0m\u001b[0;34m:\u001b[0m\u001b[0;34m\u001b[0m\u001b[0;34m\u001b[0m\u001b[0m\n\u001b[0;32m--> 912\u001b[0;31m         \u001b[0mraise_with_traceback\u001b[0m\u001b[0;34m(\u001b[0m\u001b[0mretained\u001b[0m\u001b[0;34m)\u001b[0m\u001b[0;34m\u001b[0m\u001b[0;34m\u001b[0m\u001b[0m\n\u001b[0m\u001b[1;32m    913\u001b[0m \u001b[0;34m\u001b[0m\u001b[0m\n\u001b[1;32m    914\u001b[0m     \u001b[0mret\u001b[0m \u001b[0;34m=\u001b[0m \u001b[0;34m[\u001b[0m\u001b[0;34m]\u001b[0m\u001b[0;34m\u001b[0m\u001b[0;34m\u001b[0m\u001b[0m\n",
      "\u001b[0;32m~/anaconda3/lib/python3.7/site-packages/pandas/compat/__init__.py\u001b[0m in \u001b[0;36mraise_with_traceback\u001b[0;34m(exc, traceback)\u001b[0m\n\u001b[1;32m     44\u001b[0m     \u001b[0;32mif\u001b[0m \u001b[0mtraceback\u001b[0m \u001b[0;34m==\u001b[0m \u001b[0mEllipsis\u001b[0m\u001b[0;34m:\u001b[0m\u001b[0;34m\u001b[0m\u001b[0;34m\u001b[0m\u001b[0m\n\u001b[1;32m     45\u001b[0m         \u001b[0m_\u001b[0m\u001b[0;34m,\u001b[0m \u001b[0m_\u001b[0m\u001b[0;34m,\u001b[0m \u001b[0mtraceback\u001b[0m \u001b[0;34m=\u001b[0m \u001b[0msys\u001b[0m\u001b[0;34m.\u001b[0m\u001b[0mexc_info\u001b[0m\u001b[0;34m(\u001b[0m\u001b[0;34m)\u001b[0m\u001b[0;34m\u001b[0m\u001b[0;34m\u001b[0m\u001b[0m\n\u001b[0;32m---> 46\u001b[0;31m     \u001b[0;32mraise\u001b[0m \u001b[0mexc\u001b[0m\u001b[0;34m.\u001b[0m\u001b[0mwith_traceback\u001b[0m\u001b[0;34m(\u001b[0m\u001b[0mtraceback\u001b[0m\u001b[0;34m)\u001b[0m\u001b[0;34m\u001b[0m\u001b[0;34m\u001b[0m\u001b[0m\n\u001b[0m\u001b[1;32m     47\u001b[0m \u001b[0;34m\u001b[0m\u001b[0m\n\u001b[1;32m     48\u001b[0m \u001b[0;34m\u001b[0m\u001b[0m\n",
      "\u001b[0;31mValueError\u001b[0m: No tables found"
     ]
    }
   ],
   "source": [
    "odds3 = []                                                                                                                                                                                                                                                                                                                                                                                                                                        \n",
    "for i in range(0,300,100):\n",
    "    url3 =\"\"\"https://www.pro-football-reference.com/play-index/tgl_finder.cgi?request=1&match=game&year_min=2019&year_max=2019&game_type=E&game_num_min=0&game_num_max=99&week_num_min=0&week_num_max=99&temperature_gtlt=lt&c1stat=vegas_line&c1comp=gte&c2stat=pass_yds_opp&c2comp=gte&c3stat=rush_yds_opp&c3comp=gte&c4stat=turnover_diff&c4comp=gte&c5stat=turnover_diff&c5comp=gt&c5val=1.0&order_by=game_date&offset={}\"\"\"\n",
    "    odds3.append(pd.read_html(url3.format(i))[0])"
   ]
  },
  {
   "cell_type": "code",
   "execution_count": 213,
   "metadata": {
    "ExecuteTime": {
     "end_time": "2020-05-11T15:32:57.330713Z",
     "start_time": "2020-05-11T15:32:57.320636Z"
    }
   },
   "outputs": [],
   "source": [
    "o3 = pd.concat(odds3)"
   ]
  },
  {
   "cell_type": "code",
   "execution_count": 215,
   "metadata": {
    "ExecuteTime": {
     "end_time": "2020-05-11T15:33:25.124502Z",
     "start_time": "2020-05-11T15:33:25.114713Z"
    }
   },
   "outputs": [
    {
     "data": {
      "text/plain": [
       "MultiIndex([( 'Unnamed: 0_level_0',                 'Rk'),\n",
       "            ( 'Unnamed: 1_level_0',                 'Tm'),\n",
       "            ( 'Unnamed: 2_level_0',               'Year'),\n",
       "            ( 'Unnamed: 3_level_0',               'Date'),\n",
       "            ( 'Unnamed: 4_level_0',               'Time'),\n",
       "            ( 'Unnamed: 5_level_0',              'LTime'),\n",
       "            ( 'Unnamed: 6_level_0', 'Unnamed: 6_level_1'),\n",
       "            ( 'Unnamed: 7_level_0',                'Opp'),\n",
       "            ( 'Unnamed: 8_level_0',               'Week'),\n",
       "            ( 'Unnamed: 9_level_0',                 'G#'),\n",
       "            ('Unnamed: 10_level_0',                'Day'),\n",
       "            ('Unnamed: 11_level_0',             'Result'),\n",
       "            ('Unnamed: 12_level_0',                 'OT'),\n",
       "            (              'Vegas',             'Spread'),\n",
       "            (              'Vegas',           'vs. Line'),\n",
       "            (              'Vegas',         'Over/Under'),\n",
       "            (              'Vegas',          'OU Result'),\n",
       "            (            'Passing',                'Cmp'),\n",
       "            (            'Passing',                'Att'),\n",
       "            (            'Passing',               'Cmp%'),\n",
       "            (            'Passing',                'Yds'),\n",
       "            (            'Passing',                 'TD'),\n",
       "            (            'Passing',                'Int'),\n",
       "            (            'Passing',                 'Sk'),\n",
       "            (            'Passing',              'Yds.1'),\n",
       "            (            'Passing',               'Rate'),\n",
       "            (            'Rushing',                'Att'),\n",
       "            (            'Rushing',                'Yds'),\n",
       "            (            'Rushing',                'Y/A'),\n",
       "            (            'Rushing',                 'TD'),\n",
       "            (   'Opp Tot Yds & TO',                'Tot'),\n",
       "            (   'Opp Tot Yds & TO',                 'TO')],\n",
       "           )"
      ]
     },
     "execution_count": 215,
     "metadata": {},
     "output_type": "execute_result"
    }
   ],
   "source": [
    "o3.columns"
   ]
  },
  {
   "cell_type": "code",
   "execution_count": 216,
   "metadata": {
    "ExecuteTime": {
     "end_time": "2020-05-11T15:33:50.291185Z",
     "start_time": "2020-05-11T15:33:50.286130Z"
    }
   },
   "outputs": [],
   "source": [
    "o3.columns = o3.columns.to_flat_index()"
   ]
  },
  {
   "cell_type": "code",
   "execution_count": 217,
   "metadata": {
    "ExecuteTime": {
     "end_time": "2020-05-11T15:34:13.609560Z",
     "start_time": "2020-05-11T15:34:13.566361Z"
    }
   },
   "outputs": [
    {
     "data": {
      "text/html": [
       "<div>\n",
       "<style scoped>\n",
       "    .dataframe tbody tr th:only-of-type {\n",
       "        vertical-align: middle;\n",
       "    }\n",
       "\n",
       "    .dataframe tbody tr th {\n",
       "        vertical-align: top;\n",
       "    }\n",
       "\n",
       "    .dataframe thead th {\n",
       "        text-align: right;\n",
       "    }\n",
       "</style>\n",
       "<table border=\"1\" class=\"dataframe\">\n",
       "  <thead>\n",
       "    <tr style=\"text-align: right;\">\n",
       "      <th></th>\n",
       "      <th>index</th>\n",
       "      <th>(Unnamed: 0_level_0, Rk)</th>\n",
       "      <th>(Unnamed: 1_level_0, Tm)</th>\n",
       "      <th>(Unnamed: 2_level_0, Year)</th>\n",
       "      <th>(Unnamed: 3_level_0, Date)</th>\n",
       "      <th>(Unnamed: 4_level_0, Time)</th>\n",
       "      <th>(Unnamed: 5_level_0, LTime)</th>\n",
       "      <th>(Unnamed: 6_level_0, Unnamed: 6_level_1)</th>\n",
       "      <th>(Unnamed: 7_level_0, Opp)</th>\n",
       "      <th>(Unnamed: 8_level_0, Week)</th>\n",
       "      <th>...</th>\n",
       "      <th>(Passing, Int)</th>\n",
       "      <th>(Passing, Sk)</th>\n",
       "      <th>(Passing, Yds.1)</th>\n",
       "      <th>(Passing, Rate)</th>\n",
       "      <th>(Rushing, Att)</th>\n",
       "      <th>(Rushing, Yds)</th>\n",
       "      <th>(Rushing, Y/A)</th>\n",
       "      <th>(Rushing, TD)</th>\n",
       "      <th>(Opp Tot Yds &amp; TO, Tot)</th>\n",
       "      <th>(Opp Tot Yds &amp; TO, TO)</th>\n",
       "    </tr>\n",
       "  </thead>\n",
       "  <tbody>\n",
       "    <tr>\n",
       "      <td>0</td>\n",
       "      <td>0</td>\n",
       "      <td>1</td>\n",
       "      <td>SFO</td>\n",
       "      <td>2019</td>\n",
       "      <td>2020-02-02</td>\n",
       "      <td>6:30</td>\n",
       "      <td>6:30</td>\n",
       "      <td>N</td>\n",
       "      <td>KAN</td>\n",
       "      <td>21</td>\n",
       "      <td>...</td>\n",
       "      <td>2</td>\n",
       "      <td>4</td>\n",
       "      <td>18</td>\n",
       "      <td>76.3</td>\n",
       "      <td>29</td>\n",
       "      <td>129</td>\n",
       "      <td>4.45</td>\n",
       "      <td>2</td>\n",
       "      <td>397</td>\n",
       "      <td>2</td>\n",
       "    </tr>\n",
       "    <tr>\n",
       "      <td>1</td>\n",
       "      <td>1</td>\n",
       "      <td>2</td>\n",
       "      <td>GNB</td>\n",
       "      <td>2019</td>\n",
       "      <td>2020-01-19</td>\n",
       "      <td>6:40</td>\n",
       "      <td>3:40</td>\n",
       "      <td>@</td>\n",
       "      <td>SFO</td>\n",
       "      <td>20</td>\n",
       "      <td>...</td>\n",
       "      <td>0</td>\n",
       "      <td>1</td>\n",
       "      <td>8</td>\n",
       "      <td>100.5</td>\n",
       "      <td>42</td>\n",
       "      <td>285</td>\n",
       "      <td>6.79</td>\n",
       "      <td>4</td>\n",
       "      <td>354</td>\n",
       "      <td>NaN</td>\n",
       "    </tr>\n",
       "    <tr>\n",
       "      <td>2</td>\n",
       "      <td>2</td>\n",
       "      <td>3</td>\n",
       "      <td>TEN</td>\n",
       "      <td>2019</td>\n",
       "      <td>2020-01-19</td>\n",
       "      <td>3:05</td>\n",
       "      <td>2:05</td>\n",
       "      <td>@</td>\n",
       "      <td>KAN</td>\n",
       "      <td>20</td>\n",
       "      <td>...</td>\n",
       "      <td>0</td>\n",
       "      <td>2</td>\n",
       "      <td>2</td>\n",
       "      <td>120.2</td>\n",
       "      <td>27</td>\n",
       "      <td>112</td>\n",
       "      <td>4.15</td>\n",
       "      <td>2</td>\n",
       "      <td>404</td>\n",
       "      <td>NaN</td>\n",
       "    </tr>\n",
       "    <tr>\n",
       "      <td>3</td>\n",
       "      <td>3</td>\n",
       "      <td>4</td>\n",
       "      <td>HOU</td>\n",
       "      <td>2019</td>\n",
       "      <td>2020-01-12</td>\n",
       "      <td>3:05</td>\n",
       "      <td>2:05</td>\n",
       "      <td>@</td>\n",
       "      <td>KAN</td>\n",
       "      <td>19</td>\n",
       "      <td>...</td>\n",
       "      <td>0</td>\n",
       "      <td>1</td>\n",
       "      <td>5</td>\n",
       "      <td>134.0</td>\n",
       "      <td>21</td>\n",
       "      <td>118</td>\n",
       "      <td>5.62</td>\n",
       "      <td>2</td>\n",
       "      <td>434</td>\n",
       "      <td>1</td>\n",
       "    </tr>\n",
       "    <tr>\n",
       "      <td>4</td>\n",
       "      <td>4</td>\n",
       "      <td>5</td>\n",
       "      <td>SEA</td>\n",
       "      <td>2019</td>\n",
       "      <td>2020-01-12</td>\n",
       "      <td>6:40</td>\n",
       "      <td>5:40</td>\n",
       "      <td>@</td>\n",
       "      <td>GNB</td>\n",
       "      <td>19</td>\n",
       "      <td>...</td>\n",
       "      <td>0</td>\n",
       "      <td>2</td>\n",
       "      <td>8</td>\n",
       "      <td>112.4</td>\n",
       "      <td>30</td>\n",
       "      <td>109</td>\n",
       "      <td>3.63</td>\n",
       "      <td>2</td>\n",
       "      <td>344</td>\n",
       "      <td>NaN</td>\n",
       "    </tr>\n",
       "    <tr>\n",
       "      <td>...</td>\n",
       "      <td>...</td>\n",
       "      <td>...</td>\n",
       "      <td>...</td>\n",
       "      <td>...</td>\n",
       "      <td>...</td>\n",
       "      <td>...</td>\n",
       "      <td>...</td>\n",
       "      <td>...</td>\n",
       "      <td>...</td>\n",
       "      <td>...</td>\n",
       "      <td>...</td>\n",
       "      <td>...</td>\n",
       "      <td>...</td>\n",
       "      <td>...</td>\n",
       "      <td>...</td>\n",
       "      <td>...</td>\n",
       "      <td>...</td>\n",
       "      <td>...</td>\n",
       "      <td>...</td>\n",
       "      <td>...</td>\n",
       "      <td>...</td>\n",
       "    </tr>\n",
       "    <tr>\n",
       "      <td>273</td>\n",
       "      <td>65</td>\n",
       "      <td>263</td>\n",
       "      <td>TEN</td>\n",
       "      <td>2019</td>\n",
       "      <td>2019-09-08</td>\n",
       "      <td>1:00</td>\n",
       "      <td>1:00</td>\n",
       "      <td>@</td>\n",
       "      <td>CLE</td>\n",
       "      <td>1</td>\n",
       "      <td>...</td>\n",
       "      <td>3</td>\n",
       "      <td>5</td>\n",
       "      <td>41</td>\n",
       "      <td>59.5</td>\n",
       "      <td>20</td>\n",
       "      <td>102</td>\n",
       "      <td>5.10</td>\n",
       "      <td>1</td>\n",
       "      <td>346</td>\n",
       "      <td>3</td>\n",
       "    </tr>\n",
       "    <tr>\n",
       "      <td>274</td>\n",
       "      <td>66</td>\n",
       "      <td>264</td>\n",
       "      <td>PIT</td>\n",
       "      <td>2019</td>\n",
       "      <td>2019-09-08</td>\n",
       "      <td>8:20</td>\n",
       "      <td>8:20</td>\n",
       "      <td>@</td>\n",
       "      <td>NWE</td>\n",
       "      <td>1</td>\n",
       "      <td>...</td>\n",
       "      <td>0</td>\n",
       "      <td>1</td>\n",
       "      <td>7</td>\n",
       "      <td>126.6</td>\n",
       "      <td>29</td>\n",
       "      <td>99</td>\n",
       "      <td>3.41</td>\n",
       "      <td>0</td>\n",
       "      <td>465</td>\n",
       "      <td>NaN</td>\n",
       "    </tr>\n",
       "    <tr>\n",
       "      <td>275</td>\n",
       "      <td>67</td>\n",
       "      <td>265</td>\n",
       "      <td>SFO</td>\n",
       "      <td>2019</td>\n",
       "      <td>2019-09-08</td>\n",
       "      <td>4:25</td>\n",
       "      <td>4:25</td>\n",
       "      <td>@</td>\n",
       "      <td>TAM</td>\n",
       "      <td>1</td>\n",
       "      <td>...</td>\n",
       "      <td>3</td>\n",
       "      <td>3</td>\n",
       "      <td>20</td>\n",
       "      <td>43.1</td>\n",
       "      <td>26</td>\n",
       "      <td>121</td>\n",
       "      <td>4.65</td>\n",
       "      <td>0</td>\n",
       "      <td>295</td>\n",
       "      <td>4</td>\n",
       "    </tr>\n",
       "    <tr>\n",
       "      <td>276</td>\n",
       "      <td>68</td>\n",
       "      <td>266</td>\n",
       "      <td>WAS</td>\n",
       "      <td>2019</td>\n",
       "      <td>2019-09-08</td>\n",
       "      <td>1:00</td>\n",
       "      <td>1:00</td>\n",
       "      <td>@</td>\n",
       "      <td>PHI</td>\n",
       "      <td>1</td>\n",
       "      <td>...</td>\n",
       "      <td>0</td>\n",
       "      <td>1</td>\n",
       "      <td>0</td>\n",
       "      <td>121.0</td>\n",
       "      <td>31</td>\n",
       "      <td>123</td>\n",
       "      <td>3.97</td>\n",
       "      <td>1</td>\n",
       "      <td>436</td>\n",
       "      <td>NaN</td>\n",
       "    </tr>\n",
       "    <tr>\n",
       "      <td>277</td>\n",
       "      <td>69</td>\n",
       "      <td>267</td>\n",
       "      <td>GNB</td>\n",
       "      <td>2019</td>\n",
       "      <td>2019-09-05</td>\n",
       "      <td>8:20</td>\n",
       "      <td>7:20</td>\n",
       "      <td>@</td>\n",
       "      <td>CHI</td>\n",
       "      <td>1</td>\n",
       "      <td>...</td>\n",
       "      <td>1</td>\n",
       "      <td>5</td>\n",
       "      <td>20</td>\n",
       "      <td>60.2</td>\n",
       "      <td>15</td>\n",
       "      <td>46</td>\n",
       "      <td>3.07</td>\n",
       "      <td>0</td>\n",
       "      <td>254</td>\n",
       "      <td>1</td>\n",
       "    </tr>\n",
       "  </tbody>\n",
       "</table>\n",
       "<p>278 rows × 33 columns</p>\n",
       "</div>"
      ],
      "text/plain": [
       "     index (Unnamed: 0_level_0, Rk) (Unnamed: 1_level_0, Tm)  \\\n",
       "0        0                        1                      SFO   \n",
       "1        1                        2                      GNB   \n",
       "2        2                        3                      TEN   \n",
       "3        3                        4                      HOU   \n",
       "4        4                        5                      SEA   \n",
       "..     ...                      ...                      ...   \n",
       "273     65                      263                      TEN   \n",
       "274     66                      264                      PIT   \n",
       "275     67                      265                      SFO   \n",
       "276     68                      266                      WAS   \n",
       "277     69                      267                      GNB   \n",
       "\n",
       "    (Unnamed: 2_level_0, Year) (Unnamed: 3_level_0, Date)  \\\n",
       "0                         2019                 2020-02-02   \n",
       "1                         2019                 2020-01-19   \n",
       "2                         2019                 2020-01-19   \n",
       "3                         2019                 2020-01-12   \n",
       "4                         2019                 2020-01-12   \n",
       "..                         ...                        ...   \n",
       "273                       2019                 2019-09-08   \n",
       "274                       2019                 2019-09-08   \n",
       "275                       2019                 2019-09-08   \n",
       "276                       2019                 2019-09-08   \n",
       "277                       2019                 2019-09-05   \n",
       "\n",
       "    (Unnamed: 4_level_0, Time) (Unnamed: 5_level_0, LTime)  \\\n",
       "0                         6:30                        6:30   \n",
       "1                         6:40                        3:40   \n",
       "2                         3:05                        2:05   \n",
       "3                         3:05                        2:05   \n",
       "4                         6:40                        5:40   \n",
       "..                         ...                         ...   \n",
       "273                       1:00                        1:00   \n",
       "274                       8:20                        8:20   \n",
       "275                       4:25                        4:25   \n",
       "276                       1:00                        1:00   \n",
       "277                       8:20                        7:20   \n",
       "\n",
       "    (Unnamed: 6_level_0, Unnamed: 6_level_1) (Unnamed: 7_level_0, Opp)  \\\n",
       "0                                          N                       KAN   \n",
       "1                                          @                       SFO   \n",
       "2                                          @                       KAN   \n",
       "3                                          @                       KAN   \n",
       "4                                          @                       GNB   \n",
       "..                                       ...                       ...   \n",
       "273                                        @                       CLE   \n",
       "274                                        @                       NWE   \n",
       "275                                        @                       TAM   \n",
       "276                                        @                       PHI   \n",
       "277                                        @                       CHI   \n",
       "\n",
       "    (Unnamed: 8_level_0, Week)  ... (Passing, Int) (Passing, Sk)  \\\n",
       "0                           21  ...              2             4   \n",
       "1                           20  ...              0             1   \n",
       "2                           20  ...              0             2   \n",
       "3                           19  ...              0             1   \n",
       "4                           19  ...              0             2   \n",
       "..                         ...  ...            ...           ...   \n",
       "273                          1  ...              3             5   \n",
       "274                          1  ...              0             1   \n",
       "275                          1  ...              3             3   \n",
       "276                          1  ...              0             1   \n",
       "277                          1  ...              1             5   \n",
       "\n",
       "    (Passing, Yds.1) (Passing, Rate) (Rushing, Att) (Rushing, Yds)  \\\n",
       "0                 18            76.3             29            129   \n",
       "1                  8           100.5             42            285   \n",
       "2                  2           120.2             27            112   \n",
       "3                  5           134.0             21            118   \n",
       "4                  8           112.4             30            109   \n",
       "..               ...             ...            ...            ...   \n",
       "273               41            59.5             20            102   \n",
       "274                7           126.6             29             99   \n",
       "275               20            43.1             26            121   \n",
       "276                0           121.0             31            123   \n",
       "277               20            60.2             15             46   \n",
       "\n",
       "    (Rushing, Y/A) (Rushing, TD) (Opp Tot Yds & TO, Tot)  \\\n",
       "0             4.45             2                     397   \n",
       "1             6.79             4                     354   \n",
       "2             4.15             2                     404   \n",
       "3             5.62             2                     434   \n",
       "4             3.63             2                     344   \n",
       "..             ...           ...                     ...   \n",
       "273           5.10             1                     346   \n",
       "274           3.41             0                     465   \n",
       "275           4.65             0                     295   \n",
       "276           3.97             1                     436   \n",
       "277           3.07             0                     254   \n",
       "\n",
       "    (Opp Tot Yds & TO, TO)  \n",
       "0                        2  \n",
       "1                      NaN  \n",
       "2                      NaN  \n",
       "3                        1  \n",
       "4                      NaN  \n",
       "..                     ...  \n",
       "273                      3  \n",
       "274                    NaN  \n",
       "275                      4  \n",
       "276                    NaN  \n",
       "277                      1  \n",
       "\n",
       "[278 rows x 33 columns]"
      ]
     },
     "execution_count": 217,
     "metadata": {},
     "output_type": "execute_result"
    }
   ],
   "source": [
    "o3.reset_index()"
   ]
  },
  {
   "cell_type": "code",
   "execution_count": 218,
   "metadata": {
    "ExecuteTime": {
     "end_time": "2020-05-11T15:34:52.829145Z",
     "start_time": "2020-05-11T15:34:52.816245Z"
    }
   },
   "outputs": [],
   "source": [
    "o3.drop(o3[o3[('Unnamed: 1_level_0', 'Tm')] == 'Tm'].index, inplace=True)"
   ]
  },
  {
   "cell_type": "code",
   "execution_count": 219,
   "metadata": {
    "ExecuteTime": {
     "end_time": "2020-05-11T15:37:38.076382Z",
     "start_time": "2020-05-11T15:37:38.067767Z"
    }
   },
   "outputs": [
    {
     "data": {
      "text/plain": [
       "Index([                ('Unnamed: 0_level_0', 'Rk'),\n",
       "                       ('Unnamed: 1_level_0', 'Tm'),\n",
       "                     ('Unnamed: 2_level_0', 'Year'),\n",
       "                     ('Unnamed: 3_level_0', 'Date'),\n",
       "                     ('Unnamed: 4_level_0', 'Time'),\n",
       "                    ('Unnamed: 5_level_0', 'LTime'),\n",
       "       ('Unnamed: 6_level_0', 'Unnamed: 6_level_1'),\n",
       "                      ('Unnamed: 7_level_0', 'Opp'),\n",
       "                     ('Unnamed: 8_level_0', 'Week'),\n",
       "                       ('Unnamed: 9_level_0', 'G#'),\n",
       "                     ('Unnamed: 10_level_0', 'Day'),\n",
       "                  ('Unnamed: 11_level_0', 'Result'),\n",
       "                      ('Unnamed: 12_level_0', 'OT'),\n",
       "                                ('Vegas', 'Spread'),\n",
       "                              ('Vegas', 'vs. Line'),\n",
       "                            ('Vegas', 'Over/Under'),\n",
       "                             ('Vegas', 'OU Result'),\n",
       "                                 ('Passing', 'Cmp'),\n",
       "                                 ('Passing', 'Att'),\n",
       "                                ('Passing', 'Cmp%'),\n",
       "                                 ('Passing', 'Yds'),\n",
       "                                  ('Passing', 'TD'),\n",
       "                                 ('Passing', 'Int'),\n",
       "                                  ('Passing', 'Sk'),\n",
       "                               ('Passing', 'Yds.1'),\n",
       "                                ('Passing', 'Rate'),\n",
       "                                 ('Rushing', 'Att'),\n",
       "                                 ('Rushing', 'Yds'),\n",
       "                                 ('Rushing', 'Y/A'),\n",
       "                                  ('Rushing', 'TD'),\n",
       "                        ('Opp Tot Yds & TO', 'Tot'),\n",
       "                         ('Opp Tot Yds & TO', 'TO')],\n",
       "      dtype='object')"
      ]
     },
     "execution_count": 219,
     "metadata": {},
     "output_type": "execute_result"
    }
   ],
   "source": [
    "o3.columns"
   ]
  },
  {
   "cell_type": "code",
   "execution_count": 224,
   "metadata": {
    "ExecuteTime": {
     "end_time": "2020-05-11T15:52:16.076763Z",
     "start_time": "2020-05-11T15:52:16.066482Z"
    }
   },
   "outputs": [
    {
     "data": {
      "text/plain": [
       "(Unnamed: 0_level_0, Rk)                              1\n",
       "(Unnamed: 1_level_0, Tm)                            SFO\n",
       "(Unnamed: 2_level_0, Year)                         2019\n",
       "(Unnamed: 3_level_0, Date)                   2020-02-02\n",
       "(Unnamed: 4_level_0, Time)                         6:30\n",
       "(Unnamed: 5_level_0, LTime)                        6:30\n",
       "(Unnamed: 6_level_0, Unnamed: 6_level_1)              N\n",
       "(Unnamed: 7_level_0, Opp)                           KAN\n",
       "(Unnamed: 8_level_0, Week)                           21\n",
       "(Unnamed: 9_level_0, G#)                             20\n",
       "(Unnamed: 10_level_0, Day)                          Sun\n",
       "(Unnamed: 11_level_0, Result)                   L 20-31\n",
       "(Unnamed: 12_level_0, OT)                           NaN\n",
       "(Vegas, Spread)                                     1.5\n",
       "(Vegas, vs. Line)                           not covered\n",
       "(Vegas, Over/Under)                                52.5\n",
       "(Vegas, OU Result)                                under\n",
       "(Passing, Cmp)                                       26\n",
       "(Passing, Att)                                       42\n",
       "(Passing, Cmp%)                                    61.9\n",
       "(Passing, Yds)                                      268\n",
       "(Passing, TD)                                         2\n",
       "(Passing, Int)                                        2\n",
       "(Passing, Sk)                                         4\n",
       "(Passing, Yds.1)                                     18\n",
       "(Passing, Rate)                                    76.3\n",
       "(Rushing, Att)                                       29\n",
       "(Rushing, Yds)                                      129\n",
       "(Rushing, Y/A)                                     4.45\n",
       "(Rushing, TD)                                         2\n",
       "(Opp Tot Yds & TO, Tot)                             397\n",
       "(Opp Tot Yds & TO, TO)                                2\n",
       "Name: 0, dtype: object"
      ]
     },
     "execution_count": 224,
     "metadata": {},
     "output_type": "execute_result"
    }
   ],
   "source": [
    "o3.iloc[0]"
   ]
  },
  {
   "cell_type": "code",
   "execution_count": 225,
   "metadata": {
    "ExecuteTime": {
     "end_time": "2020-05-11T15:54:45.418059Z",
     "start_time": "2020-05-11T15:54:42.113407Z"
    }
   },
   "outputs": [
    {
     "ename": "ValueError",
     "evalue": "No tables found",
     "output_type": "error",
     "traceback": [
      "\u001b[0;31m---------------------------------------------------------------------------\u001b[0m",
      "\u001b[0;31mValueError\u001b[0m                                Traceback (most recent call last)",
      "\u001b[0;32m<ipython-input-225-7dd34a4b5951>\u001b[0m in \u001b[0;36m<module>\u001b[0;34m\u001b[0m\n\u001b[1;32m      2\u001b[0m \u001b[0;32mfor\u001b[0m \u001b[0mi\u001b[0m \u001b[0;32min\u001b[0m \u001b[0mrange\u001b[0m\u001b[0;34m(\u001b[0m\u001b[0;36m0\u001b[0m\u001b[0;34m,\u001b[0m\u001b[0;36m300\u001b[0m\u001b[0;34m,\u001b[0m\u001b[0;36m100\u001b[0m\u001b[0;34m)\u001b[0m\u001b[0;34m:\u001b[0m\u001b[0;34m\u001b[0m\u001b[0;34m\u001b[0m\u001b[0m\n\u001b[1;32m      3\u001b[0m     \u001b[0murl\u001b[0m \u001b[0;34m=\u001b[0m \u001b[0;34m\"\"\"https://www.pro-football-reference.com/play-index/tgl_finder.cgi?request=1&match=game&year_min=2019&year_max=2019&game_type=E&game_num_min=0&game_num_max=99&week_num_min=0&week_num_max=99&temperature_gtlt=lt&c1stat=vegas_line&c1comp=gte&c2stat=pass_yds_opp&c2comp=gte&c3stat=rush_yds_opp&c3comp=gte&c4stat=turnover_diff&c4comp=gte&c5stat=turnover_diff&c5comp=gt&c5val=1.0&order_by=game_date&offset={}\"\"\"\u001b[0m\u001b[0;34m\u001b[0m\u001b[0;34m\u001b[0m\u001b[0m\n\u001b[0;32m----> 4\u001b[0;31m     \u001b[0modds3\u001b[0m\u001b[0;34m.\u001b[0m\u001b[0mappend\u001b[0m\u001b[0;34m(\u001b[0m\u001b[0mpd\u001b[0m\u001b[0;34m.\u001b[0m\u001b[0mread_html\u001b[0m\u001b[0;34m(\u001b[0m\u001b[0murl\u001b[0m\u001b[0;34m.\u001b[0m\u001b[0mformat\u001b[0m\u001b[0;34m(\u001b[0m\u001b[0mi\u001b[0m\u001b[0;34m)\u001b[0m\u001b[0;34m)\u001b[0m\u001b[0;34m[\u001b[0m\u001b[0;36m0\u001b[0m\u001b[0;34m]\u001b[0m\u001b[0;34m)\u001b[0m\u001b[0;34m\u001b[0m\u001b[0;34m\u001b[0m\u001b[0m\n\u001b[0m",
      "\u001b[0;32m~/anaconda3/lib/python3.7/site-packages/pandas/io/html.py\u001b[0m in \u001b[0;36mread_html\u001b[0;34m(io, match, flavor, header, index_col, skiprows, attrs, parse_dates, thousands, encoding, decimal, converters, na_values, keep_default_na, displayed_only)\u001b[0m\n\u001b[1;32m   1103\u001b[0m         \u001b[0mna_values\u001b[0m\u001b[0;34m=\u001b[0m\u001b[0mna_values\u001b[0m\u001b[0;34m,\u001b[0m\u001b[0;34m\u001b[0m\u001b[0;34m\u001b[0m\u001b[0m\n\u001b[1;32m   1104\u001b[0m         \u001b[0mkeep_default_na\u001b[0m\u001b[0;34m=\u001b[0m\u001b[0mkeep_default_na\u001b[0m\u001b[0;34m,\u001b[0m\u001b[0;34m\u001b[0m\u001b[0;34m\u001b[0m\u001b[0m\n\u001b[0;32m-> 1105\u001b[0;31m         \u001b[0mdisplayed_only\u001b[0m\u001b[0;34m=\u001b[0m\u001b[0mdisplayed_only\u001b[0m\u001b[0;34m,\u001b[0m\u001b[0;34m\u001b[0m\u001b[0;34m\u001b[0m\u001b[0m\n\u001b[0m\u001b[1;32m   1106\u001b[0m     )\n",
      "\u001b[0;32m~/anaconda3/lib/python3.7/site-packages/pandas/io/html.py\u001b[0m in \u001b[0;36m_parse\u001b[0;34m(flavor, io, match, attrs, encoding, displayed_only, **kwargs)\u001b[0m\n\u001b[1;32m    910\u001b[0m             \u001b[0;32mbreak\u001b[0m\u001b[0;34m\u001b[0m\u001b[0;34m\u001b[0m\u001b[0m\n\u001b[1;32m    911\u001b[0m     \u001b[0;32melse\u001b[0m\u001b[0;34m:\u001b[0m\u001b[0;34m\u001b[0m\u001b[0;34m\u001b[0m\u001b[0m\n\u001b[0;32m--> 912\u001b[0;31m         \u001b[0mraise_with_traceback\u001b[0m\u001b[0;34m(\u001b[0m\u001b[0mretained\u001b[0m\u001b[0;34m)\u001b[0m\u001b[0;34m\u001b[0m\u001b[0;34m\u001b[0m\u001b[0m\n\u001b[0m\u001b[1;32m    913\u001b[0m \u001b[0;34m\u001b[0m\u001b[0m\n\u001b[1;32m    914\u001b[0m     \u001b[0mret\u001b[0m \u001b[0;34m=\u001b[0m \u001b[0;34m[\u001b[0m\u001b[0;34m]\u001b[0m\u001b[0;34m\u001b[0m\u001b[0;34m\u001b[0m\u001b[0m\n",
      "\u001b[0;32m~/anaconda3/lib/python3.7/site-packages/pandas/compat/__init__.py\u001b[0m in \u001b[0;36mraise_with_traceback\u001b[0;34m(exc, traceback)\u001b[0m\n\u001b[1;32m     44\u001b[0m     \u001b[0;32mif\u001b[0m \u001b[0mtraceback\u001b[0m \u001b[0;34m==\u001b[0m \u001b[0mEllipsis\u001b[0m\u001b[0;34m:\u001b[0m\u001b[0;34m\u001b[0m\u001b[0;34m\u001b[0m\u001b[0m\n\u001b[1;32m     45\u001b[0m         \u001b[0m_\u001b[0m\u001b[0;34m,\u001b[0m \u001b[0m_\u001b[0m\u001b[0;34m,\u001b[0m \u001b[0mtraceback\u001b[0m \u001b[0;34m=\u001b[0m \u001b[0msys\u001b[0m\u001b[0;34m.\u001b[0m\u001b[0mexc_info\u001b[0m\u001b[0;34m(\u001b[0m\u001b[0;34m)\u001b[0m\u001b[0;34m\u001b[0m\u001b[0;34m\u001b[0m\u001b[0m\n\u001b[0;32m---> 46\u001b[0;31m     \u001b[0;32mraise\u001b[0m \u001b[0mexc\u001b[0m\u001b[0;34m.\u001b[0m\u001b[0mwith_traceback\u001b[0m\u001b[0;34m(\u001b[0m\u001b[0mtraceback\u001b[0m\u001b[0;34m)\u001b[0m\u001b[0;34m\u001b[0m\u001b[0;34m\u001b[0m\u001b[0m\n\u001b[0m\u001b[1;32m     47\u001b[0m \u001b[0;34m\u001b[0m\u001b[0m\n\u001b[1;32m     48\u001b[0m \u001b[0;34m\u001b[0m\u001b[0m\n",
      "\u001b[0;31mValueError\u001b[0m: No tables found"
     ]
    }
   ],
   "source": []
  },
  {
   "cell_type": "code",
   "execution_count": 226,
   "metadata": {
    "ExecuteTime": {
     "end_time": "2020-05-11T20:03:42.470523Z",
     "start_time": "2020-05-11T20:03:42.457328Z"
    }
   },
   "outputs": [
    {
     "name": "stdout",
     "output_type": "stream",
     "text": [
      "<class 'pandas.core.frame.DataFrame'>\n",
      "RangeIndex: 267 entries, 0 to 266\n",
      "Data columns (total 36 columns):\n",
      "Home_team                           267 non-null object\n",
      "Away_team                           267 non-null object\n",
      "Week                                267 non-null float64\n",
      "Game_Number                         267 non-null float64\n",
      "result                              267 non-null int64\n",
      "OT                                  267 non-null int64\n",
      "points_for                          267 non-null float64\n",
      "points_against                      267 non-null float64\n",
      "point_differential                  267 non-null float64\n",
      "combined_points                     267 non-null float64\n",
      "spread                              267 non-null float64\n",
      "vs_line                             267 non-null int64\n",
      "over_under                          267 non-null float64\n",
      "over_under_result                   267 non-null int64\n",
      "pass_completions                    267 non-null float64\n",
      "pass_attempts                       267 non-null float64\n",
      "completion_percentage               267 non-null float64\n",
      "passing_yards                       267 non-null float64\n",
      "passing_touchdowns                  267 non-null float64\n",
      "interceptions                       267 non-null float64\n",
      "times_sacked                        267 non-null float64\n",
      "sack_yards_lost                     267 non-null float64\n",
      "qbr                                 267 non-null float64\n",
      "rushing_attempts                    267 non-null float64\n",
      "rushing_yards                       267 non-null float64\n",
      "rushing_yards_per_attempt           267 non-null float64\n",
      "rushing_touchdowns                  267 non-null float64\n",
      "total_yards                         267 non-null float64\n",
      "offensive_plays                     267 non-null float64\n",
      "yards_per_play_offense              267 non-null float64\n",
      "defensive_plays                     267 non-null float64\n",
      "yards_allowed_per_defensive_play    267 non-null float64\n",
      "turnovers_lost                      267 non-null float64\n",
      "time_of_possession                  267 non-null float64\n",
      "game_duration                       267 non-null object\n",
      "game_date_time                      267 non-null datetime64[ns]\n",
      "dtypes: datetime64[ns](1), float64(28), int64(4), object(3)\n",
      "memory usage: 75.2+ KB\n"
     ]
    }
   ],
   "source": [
    "odds2_df.info()"
   ]
  },
  {
   "cell_type": "code",
   "execution_count": 227,
   "metadata": {
    "ExecuteTime": {
     "end_time": "2020-05-11T20:06:50.968348Z",
     "start_time": "2020-05-11T20:06:50.949068Z"
    }
   },
   "outputs": [],
   "source": [
    "o5 = pd.read_csv('stats.csv')"
   ]
  },
  {
   "cell_type": "code",
   "execution_count": 234,
   "metadata": {
    "ExecuteTime": {
     "end_time": "2020-05-11T20:10:58.626422Z",
     "start_time": "2020-05-11T20:10:58.618940Z"
    }
   },
   "outputs": [
    {
     "data": {
      "text/plain": [
       "Index(['Unnamed: 0', 'Home_team', 'Away_team', 'Week', 'Game_Number', 'result',\n",
       "       'OT', 'spread', 'vs_line', 'over_under', 'over_under_result',\n",
       "       'home_passing_completions', 'home_pass_attempts',\n",
       "       'home_completion_percentage', 'home_passing_yards', 'home_passing_TD',\n",
       "       'home_INT', 'home_times_sacked', 'home_sack_yards_lost',\n",
       "       'home_passer_rating', 'home_rush_attempts', 'home_rushing_yards',\n",
       "       'home_rushing_yards_per_attempt', 'home_rushing_TD',\n",
       "       'away_pass_completions', 'away_pass_attempts',\n",
       "       'away_completion_percentage', 'away_passing_yards',\n",
       "       'away_passing_touchdowns', 'away_interceptions', 'away_times_sacked',\n",
       "       'away_sack_yards_lost', 'away_qbr', 'away_rushing_attempts',\n",
       "       'away_rushing_yards', 'away_rushing_yards_per_attempt',\n",
       "       'away_rushing_touchdowns', 'game_date_time',\n",
       "       'combined_turnover_margin'],\n",
       "      dtype='object')"
      ]
     },
     "execution_count": 234,
     "metadata": {},
     "output_type": "execute_result"
    }
   ],
   "source": [
    "o5.columns"
   ]
  },
  {
   "cell_type": "code",
   "execution_count": 235,
   "metadata": {
    "ExecuteTime": {
     "end_time": "2020-05-11T20:12:41.086843Z",
     "start_time": "2020-05-11T20:12:41.080189Z"
    }
   },
   "outputs": [],
   "source": [
    "o5 = o5.drop(columns=['Unnamed: 0', 'result', 'OT', 'spread', 'vs_line', \n",
    "                      'over_under', 'over_under_result'])"
   ]
  },
  {
   "cell_type": "code",
   "execution_count": 229,
   "metadata": {
    "ExecuteTime": {
     "end_time": "2020-05-11T20:08:25.869056Z",
     "start_time": "2020-05-11T20:08:25.865445Z"
    }
   },
   "outputs": [],
   "source": [
    "o6 = odds2_df.copy()"
   ]
  },
  {
   "cell_type": "code",
   "execution_count": 230,
   "metadata": {
    "ExecuteTime": {
     "end_time": "2020-05-11T20:08:40.528394Z",
     "start_time": "2020-05-11T20:08:40.521935Z"
    }
   },
   "outputs": [
    {
     "data": {
      "text/plain": [
       "Index(['Home_team', 'Away_team', 'Week', 'Game_Number', 'result', 'OT',\n",
       "       'points_for', 'points_against', 'point_differential', 'combined_points',\n",
       "       'spread', 'vs_line', 'over_under', 'over_under_result',\n",
       "       'pass_completions', 'pass_attempts', 'completion_percentage',\n",
       "       'passing_yards', 'passing_touchdowns', 'interceptions', 'times_sacked',\n",
       "       'sack_yards_lost', 'qbr', 'rushing_attempts', 'rushing_yards',\n",
       "       'rushing_yards_per_attempt', 'rushing_touchdowns', 'total_yards',\n",
       "       'offensive_plays', 'yards_per_play_offense', 'defensive_plays',\n",
       "       'yards_allowed_per_defensive_play', 'turnovers_lost',\n",
       "       'time_of_possession', 'game_duration', 'game_date_time'],\n",
       "      dtype='object')"
      ]
     },
     "execution_count": 230,
     "metadata": {},
     "output_type": "execute_result"
    }
   ],
   "source": [
    "o6.columns"
   ]
  },
  {
   "cell_type": "code",
   "execution_count": 231,
   "metadata": {
    "ExecuteTime": {
     "end_time": "2020-05-11T20:09:59.065469Z",
     "start_time": "2020-05-11T20:09:59.051473Z"
    }
   },
   "outputs": [],
   "source": [
    "o6 = o6.drop(columns=['pass_completions', 'pass_attempts', 'completion_percentage',\n",
    "       'passing_yards', 'passing_touchdowns', 'interceptions', 'times_sacked',\n",
    "       'sack_yards_lost', 'qbr', 'rushing_attempts', 'rushing_yards',\n",
    "       'rushing_yards_per_attempt', 'rushing_touchdowns'])"
   ]
  },
  {
   "cell_type": "code",
   "execution_count": 232,
   "metadata": {
    "ExecuteTime": {
     "end_time": "2020-05-11T20:10:06.532096Z",
     "start_time": "2020-05-11T20:10:06.523976Z"
    }
   },
   "outputs": [
    {
     "data": {
      "text/plain": [
       "Index(['Home_team', 'Away_team', 'Week', 'Game_Number', 'result', 'OT',\n",
       "       'points_for', 'points_against', 'point_differential', 'combined_points',\n",
       "       'spread', 'vs_line', 'over_under', 'over_under_result', 'total_yards',\n",
       "       'offensive_plays', 'yards_per_play_offense', 'defensive_plays',\n",
       "       'yards_allowed_per_defensive_play', 'turnovers_lost',\n",
       "       'time_of_possession', 'game_duration', 'game_date_time'],\n",
       "      dtype='object')"
      ]
     },
     "execution_count": 232,
     "metadata": {},
     "output_type": "execute_result"
    }
   ],
   "source": [
    "o6.columns"
   ]
  },
  {
   "cell_type": "code",
   "execution_count": 236,
   "metadata": {
    "ExecuteTime": {
     "end_time": "2020-05-11T20:12:57.199317Z",
     "start_time": "2020-05-11T20:12:57.192976Z"
    }
   },
   "outputs": [
    {
     "data": {
      "text/plain": [
       "Index(['Home_team', 'Away_team', 'Week', 'Game_Number',\n",
       "       'home_passing_completions', 'home_pass_attempts',\n",
       "       'home_completion_percentage', 'home_passing_yards', 'home_passing_TD',\n",
       "       'home_INT', 'home_times_sacked', 'home_sack_yards_lost',\n",
       "       'home_passer_rating', 'home_rush_attempts', 'home_rushing_yards',\n",
       "       'home_rushing_yards_per_attempt', 'home_rushing_TD',\n",
       "       'away_pass_completions', 'away_pass_attempts',\n",
       "       'away_completion_percentage', 'away_passing_yards',\n",
       "       'away_passing_touchdowns', 'away_interceptions', 'away_times_sacked',\n",
       "       'away_sack_yards_lost', 'away_qbr', 'away_rushing_attempts',\n",
       "       'away_rushing_yards', 'away_rushing_yards_per_attempt',\n",
       "       'away_rushing_touchdowns', 'game_date_time',\n",
       "       'combined_turnover_margin'],\n",
       "      dtype='object')"
      ]
     },
     "execution_count": 236,
     "metadata": {},
     "output_type": "execute_result"
    }
   ],
   "source": [
    "o5.columns"
   ]
  },
  {
   "cell_type": "code",
   "execution_count": 237,
   "metadata": {
    "ExecuteTime": {
     "end_time": "2020-05-11T20:14:09.576077Z",
     "start_time": "2020-05-11T20:14:09.535445Z"
    }
   },
   "outputs": [
    {
     "data": {
      "text/html": [
       "<div>\n",
       "<style scoped>\n",
       "    .dataframe tbody tr th:only-of-type {\n",
       "        vertical-align: middle;\n",
       "    }\n",
       "\n",
       "    .dataframe tbody tr th {\n",
       "        vertical-align: top;\n",
       "    }\n",
       "\n",
       "    .dataframe thead th {\n",
       "        text-align: right;\n",
       "    }\n",
       "</style>\n",
       "<table border=\"1\" class=\"dataframe\">\n",
       "  <thead>\n",
       "    <tr style=\"text-align: right;\">\n",
       "      <th></th>\n",
       "      <th>Home_team</th>\n",
       "      <th>Away_team</th>\n",
       "      <th>Week</th>\n",
       "      <th>Game_Number</th>\n",
       "      <th>result</th>\n",
       "      <th>OT</th>\n",
       "      <th>points_for</th>\n",
       "      <th>points_against</th>\n",
       "      <th>point_differential</th>\n",
       "      <th>combined_points</th>\n",
       "      <th>...</th>\n",
       "      <th>over_under_result</th>\n",
       "      <th>total_yards</th>\n",
       "      <th>offensive_plays</th>\n",
       "      <th>yards_per_play_offense</th>\n",
       "      <th>defensive_plays</th>\n",
       "      <th>yards_allowed_per_defensive_play</th>\n",
       "      <th>turnovers_lost</th>\n",
       "      <th>time_of_possession</th>\n",
       "      <th>game_duration</th>\n",
       "      <th>game_date_time</th>\n",
       "    </tr>\n",
       "  </thead>\n",
       "  <tbody>\n",
       "    <tr>\n",
       "      <td>0</td>\n",
       "      <td>SFO</td>\n",
       "      <td>KAN</td>\n",
       "      <td>21.0</td>\n",
       "      <td>20.0</td>\n",
       "      <td>-1</td>\n",
       "      <td>0</td>\n",
       "      <td>20.0</td>\n",
       "      <td>31.0</td>\n",
       "      <td>-11.0</td>\n",
       "      <td>51.0</td>\n",
       "      <td>...</td>\n",
       "      <td>-1</td>\n",
       "      <td>351.0</td>\n",
       "      <td>54.0</td>\n",
       "      <td>6.5000</td>\n",
       "      <td>75.0</td>\n",
       "      <td>5.2933</td>\n",
       "      <td>2.0</td>\n",
       "      <td>0.446389</td>\n",
       "      <td>3:29</td>\n",
       "      <td>2020-02-02 06:30:00</td>\n",
       "    </tr>\n",
       "    <tr>\n",
       "      <td>1</td>\n",
       "      <td>GNB</td>\n",
       "      <td>SFO</td>\n",
       "      <td>20.0</td>\n",
       "      <td>19.0</td>\n",
       "      <td>-1</td>\n",
       "      <td>0</td>\n",
       "      <td>20.0</td>\n",
       "      <td>37.0</td>\n",
       "      <td>-17.0</td>\n",
       "      <td>57.0</td>\n",
       "      <td>...</td>\n",
       "      <td>1</td>\n",
       "      <td>358.0</td>\n",
       "      <td>58.0</td>\n",
       "      <td>6.1724</td>\n",
       "      <td>51.0</td>\n",
       "      <td>6.9412</td>\n",
       "      <td>3.0</td>\n",
       "      <td>0.520278</td>\n",
       "      <td>3:03</td>\n",
       "      <td>2020-01-19 03:40:00</td>\n",
       "    </tr>\n",
       "    <tr>\n",
       "      <td>2</td>\n",
       "      <td>TEN</td>\n",
       "      <td>KAN</td>\n",
       "      <td>20.0</td>\n",
       "      <td>20.0</td>\n",
       "      <td>-1</td>\n",
       "      <td>0</td>\n",
       "      <td>24.0</td>\n",
       "      <td>35.0</td>\n",
       "      <td>-11.0</td>\n",
       "      <td>59.0</td>\n",
       "      <td>...</td>\n",
       "      <td>1</td>\n",
       "      <td>295.0</td>\n",
       "      <td>58.0</td>\n",
       "      <td>5.0862</td>\n",
       "      <td>64.0</td>\n",
       "      <td>6.3125</td>\n",
       "      <td>0.0</td>\n",
       "      <td>0.502778</td>\n",
       "      <td>3:04</td>\n",
       "      <td>2020-01-19 02:05:00</td>\n",
       "    </tr>\n",
       "    <tr>\n",
       "      <td>3</td>\n",
       "      <td>HOU</td>\n",
       "      <td>KAN</td>\n",
       "      <td>19.0</td>\n",
       "      <td>19.0</td>\n",
       "      <td>-1</td>\n",
       "      <td>0</td>\n",
       "      <td>31.0</td>\n",
       "      <td>51.0</td>\n",
       "      <td>-20.0</td>\n",
       "      <td>82.0</td>\n",
       "      <td>...</td>\n",
       "      <td>1</td>\n",
       "      <td>442.0</td>\n",
       "      <td>78.0</td>\n",
       "      <td>5.6667</td>\n",
       "      <td>57.0</td>\n",
       "      <td>7.6140</td>\n",
       "      <td>1.0</td>\n",
       "      <td>0.576389</td>\n",
       "      <td>3:25</td>\n",
       "      <td>2020-01-12 02:05:00</td>\n",
       "    </tr>\n",
       "    <tr>\n",
       "      <td>4</td>\n",
       "      <td>SEA</td>\n",
       "      <td>GNB</td>\n",
       "      <td>19.0</td>\n",
       "      <td>19.0</td>\n",
       "      <td>-1</td>\n",
       "      <td>0</td>\n",
       "      <td>23.0</td>\n",
       "      <td>28.0</td>\n",
       "      <td>-5.0</td>\n",
       "      <td>51.0</td>\n",
       "      <td>...</td>\n",
       "      <td>1</td>\n",
       "      <td>375.0</td>\n",
       "      <td>60.0</td>\n",
       "      <td>6.2500</td>\n",
       "      <td>59.0</td>\n",
       "      <td>5.8305</td>\n",
       "      <td>0.0</td>\n",
       "      <td>0.508611</td>\n",
       "      <td>3:09</td>\n",
       "      <td>2020-01-12 05:40:00</td>\n",
       "    </tr>\n",
       "  </tbody>\n",
       "</table>\n",
       "<p>5 rows × 23 columns</p>\n",
       "</div>"
      ],
      "text/plain": [
       "  Home_team Away_team  Week  Game_Number  result  OT  points_for  \\\n",
       "0       SFO       KAN  21.0         20.0      -1   0        20.0   \n",
       "1       GNB       SFO  20.0         19.0      -1   0        20.0   \n",
       "2       TEN       KAN  20.0         20.0      -1   0        24.0   \n",
       "3       HOU       KAN  19.0         19.0      -1   0        31.0   \n",
       "4       SEA       GNB  19.0         19.0      -1   0        23.0   \n",
       "\n",
       "   points_against  point_differential  combined_points  ...  \\\n",
       "0            31.0               -11.0             51.0  ...   \n",
       "1            37.0               -17.0             57.0  ...   \n",
       "2            35.0               -11.0             59.0  ...   \n",
       "3            51.0               -20.0             82.0  ...   \n",
       "4            28.0                -5.0             51.0  ...   \n",
       "\n",
       "   over_under_result  total_yards  offensive_plays  yards_per_play_offense  \\\n",
       "0                 -1        351.0             54.0                  6.5000   \n",
       "1                  1        358.0             58.0                  6.1724   \n",
       "2                  1        295.0             58.0                  5.0862   \n",
       "3                  1        442.0             78.0                  5.6667   \n",
       "4                  1        375.0             60.0                  6.2500   \n",
       "\n",
       "   defensive_plays  yards_allowed_per_defensive_play  turnovers_lost  \\\n",
       "0             75.0                            5.2933             2.0   \n",
       "1             51.0                            6.9412             3.0   \n",
       "2             64.0                            6.3125             0.0   \n",
       "3             57.0                            7.6140             1.0   \n",
       "4             59.0                            5.8305             0.0   \n",
       "\n",
       "   time_of_possession  game_duration      game_date_time  \n",
       "0            0.446389           3:29 2020-02-02 06:30:00  \n",
       "1            0.520278           3:03 2020-01-19 03:40:00  \n",
       "2            0.502778           3:04 2020-01-19 02:05:00  \n",
       "3            0.576389           3:25 2020-01-12 02:05:00  \n",
       "4            0.508611           3:09 2020-01-12 05:40:00  \n",
       "\n",
       "[5 rows x 23 columns]"
      ]
     },
     "execution_count": 237,
     "metadata": {},
     "output_type": "execute_result"
    }
   ],
   "source": [
    "o6.head()"
   ]
  },
  {
   "cell_type": "code",
   "execution_count": 238,
   "metadata": {
    "ExecuteTime": {
     "end_time": "2020-05-11T20:14:15.470293Z",
     "start_time": "2020-05-11T20:14:15.440686Z"
    }
   },
   "outputs": [
    {
     "data": {
      "text/html": [
       "<div>\n",
       "<style scoped>\n",
       "    .dataframe tbody tr th:only-of-type {\n",
       "        vertical-align: middle;\n",
       "    }\n",
       "\n",
       "    .dataframe tbody tr th {\n",
       "        vertical-align: top;\n",
       "    }\n",
       "\n",
       "    .dataframe thead th {\n",
       "        text-align: right;\n",
       "    }\n",
       "</style>\n",
       "<table border=\"1\" class=\"dataframe\">\n",
       "  <thead>\n",
       "    <tr style=\"text-align: right;\">\n",
       "      <th></th>\n",
       "      <th>Home_team</th>\n",
       "      <th>Away_team</th>\n",
       "      <th>Week</th>\n",
       "      <th>Game_Number</th>\n",
       "      <th>home_passing_completions</th>\n",
       "      <th>home_pass_attempts</th>\n",
       "      <th>home_completion_percentage</th>\n",
       "      <th>home_passing_yards</th>\n",
       "      <th>home_passing_TD</th>\n",
       "      <th>home_INT</th>\n",
       "      <th>...</th>\n",
       "      <th>away_interceptions</th>\n",
       "      <th>away_times_sacked</th>\n",
       "      <th>away_sack_yards_lost</th>\n",
       "      <th>away_qbr</th>\n",
       "      <th>away_rushing_attempts</th>\n",
       "      <th>away_rushing_yards</th>\n",
       "      <th>away_rushing_yards_per_attempt</th>\n",
       "      <th>away_rushing_touchdowns</th>\n",
       "      <th>game_date_time</th>\n",
       "      <th>combined_turnover_margin</th>\n",
       "    </tr>\n",
       "  </thead>\n",
       "  <tbody>\n",
       "    <tr>\n",
       "      <td>0</td>\n",
       "      <td>SFO</td>\n",
       "      <td>KAN</td>\n",
       "      <td>21.0</td>\n",
       "      <td>20.0</td>\n",
       "      <td>20.0</td>\n",
       "      <td>31.0</td>\n",
       "      <td>64.5</td>\n",
       "      <td>210.0</td>\n",
       "      <td>1.0</td>\n",
       "      <td>2.0</td>\n",
       "      <td>...</td>\n",
       "      <td>2.0</td>\n",
       "      <td>4.0</td>\n",
       "      <td>18.0</td>\n",
       "      <td>76.3</td>\n",
       "      <td>29.0</td>\n",
       "      <td>129.0</td>\n",
       "      <td>4.45</td>\n",
       "      <td>2.0</td>\n",
       "      <td>2020-02-02 06:30:00</td>\n",
       "      <td>4.0</td>\n",
       "    </tr>\n",
       "    <tr>\n",
       "      <td>1</td>\n",
       "      <td>GNB</td>\n",
       "      <td>SFO</td>\n",
       "      <td>20.0</td>\n",
       "      <td>19.0</td>\n",
       "      <td>31.0</td>\n",
       "      <td>39.0</td>\n",
       "      <td>79.5</td>\n",
       "      <td>296.0</td>\n",
       "      <td>2.0</td>\n",
       "      <td>2.0</td>\n",
       "      <td>...</td>\n",
       "      <td>0.0</td>\n",
       "      <td>1.0</td>\n",
       "      <td>8.0</td>\n",
       "      <td>100.5</td>\n",
       "      <td>42.0</td>\n",
       "      <td>285.0</td>\n",
       "      <td>6.79</td>\n",
       "      <td>4.0</td>\n",
       "      <td>2020-01-19 03:40:00</td>\n",
       "      <td>3.0</td>\n",
       "    </tr>\n",
       "    <tr>\n",
       "      <td>2</td>\n",
       "      <td>TEN</td>\n",
       "      <td>KAN</td>\n",
       "      <td>20.0</td>\n",
       "      <td>20.0</td>\n",
       "      <td>22.0</td>\n",
       "      <td>32.0</td>\n",
       "      <td>68.8</td>\n",
       "      <td>210.0</td>\n",
       "      <td>2.0</td>\n",
       "      <td>0.0</td>\n",
       "      <td>...</td>\n",
       "      <td>0.0</td>\n",
       "      <td>2.0</td>\n",
       "      <td>2.0</td>\n",
       "      <td>120.2</td>\n",
       "      <td>27.0</td>\n",
       "      <td>112.0</td>\n",
       "      <td>4.15</td>\n",
       "      <td>2.0</td>\n",
       "      <td>2020-01-19 02:05:00</td>\n",
       "      <td>NaN</td>\n",
       "    </tr>\n",
       "    <tr>\n",
       "      <td>3</td>\n",
       "      <td>HOU</td>\n",
       "      <td>KAN</td>\n",
       "      <td>19.0</td>\n",
       "      <td>19.0</td>\n",
       "      <td>31.0</td>\n",
       "      <td>52.0</td>\n",
       "      <td>59.6</td>\n",
       "      <td>348.0</td>\n",
       "      <td>2.0</td>\n",
       "      <td>0.0</td>\n",
       "      <td>...</td>\n",
       "      <td>0.0</td>\n",
       "      <td>1.0</td>\n",
       "      <td>5.0</td>\n",
       "      <td>134.0</td>\n",
       "      <td>21.0</td>\n",
       "      <td>118.0</td>\n",
       "      <td>5.62</td>\n",
       "      <td>2.0</td>\n",
       "      <td>2020-01-12 02:05:00</td>\n",
       "      <td>2.0</td>\n",
       "    </tr>\n",
       "    <tr>\n",
       "      <td>4</td>\n",
       "      <td>SEA</td>\n",
       "      <td>GNB</td>\n",
       "      <td>19.0</td>\n",
       "      <td>19.0</td>\n",
       "      <td>21.0</td>\n",
       "      <td>31.0</td>\n",
       "      <td>67.7</td>\n",
       "      <td>265.0</td>\n",
       "      <td>1.0</td>\n",
       "      <td>0.0</td>\n",
       "      <td>...</td>\n",
       "      <td>0.0</td>\n",
       "      <td>2.0</td>\n",
       "      <td>8.0</td>\n",
       "      <td>112.4</td>\n",
       "      <td>30.0</td>\n",
       "      <td>109.0</td>\n",
       "      <td>3.63</td>\n",
       "      <td>2.0</td>\n",
       "      <td>2020-01-12 05:40:00</td>\n",
       "      <td>NaN</td>\n",
       "    </tr>\n",
       "  </tbody>\n",
       "</table>\n",
       "<p>5 rows × 32 columns</p>\n",
       "</div>"
      ],
      "text/plain": [
       "  Home_team Away_team  Week  Game_Number  home_passing_completions  \\\n",
       "0       SFO       KAN  21.0         20.0                      20.0   \n",
       "1       GNB       SFO  20.0         19.0                      31.0   \n",
       "2       TEN       KAN  20.0         20.0                      22.0   \n",
       "3       HOU       KAN  19.0         19.0                      31.0   \n",
       "4       SEA       GNB  19.0         19.0                      21.0   \n",
       "\n",
       "   home_pass_attempts  home_completion_percentage  home_passing_yards  \\\n",
       "0                31.0                        64.5               210.0   \n",
       "1                39.0                        79.5               296.0   \n",
       "2                32.0                        68.8               210.0   \n",
       "3                52.0                        59.6               348.0   \n",
       "4                31.0                        67.7               265.0   \n",
       "\n",
       "   home_passing_TD  home_INT  ...  away_interceptions  away_times_sacked  \\\n",
       "0              1.0       2.0  ...                 2.0                4.0   \n",
       "1              2.0       2.0  ...                 0.0                1.0   \n",
       "2              2.0       0.0  ...                 0.0                2.0   \n",
       "3              2.0       0.0  ...                 0.0                1.0   \n",
       "4              1.0       0.0  ...                 0.0                2.0   \n",
       "\n",
       "   away_sack_yards_lost  away_qbr  away_rushing_attempts  away_rushing_yards  \\\n",
       "0                  18.0      76.3                   29.0               129.0   \n",
       "1                   8.0     100.5                   42.0               285.0   \n",
       "2                   2.0     120.2                   27.0               112.0   \n",
       "3                   5.0     134.0                   21.0               118.0   \n",
       "4                   8.0     112.4                   30.0               109.0   \n",
       "\n",
       "   away_rushing_yards_per_attempt  away_rushing_touchdowns  \\\n",
       "0                            4.45                      2.0   \n",
       "1                            6.79                      4.0   \n",
       "2                            4.15                      2.0   \n",
       "3                            5.62                      2.0   \n",
       "4                            3.63                      2.0   \n",
       "\n",
       "        game_date_time  combined_turnover_margin  \n",
       "0  2020-02-02 06:30:00                       4.0  \n",
       "1  2020-01-19 03:40:00                       3.0  \n",
       "2  2020-01-19 02:05:00                       NaN  \n",
       "3  2020-01-12 02:05:00                       2.0  \n",
       "4  2020-01-12 05:40:00                       NaN  \n",
       "\n",
       "[5 rows x 32 columns]"
      ]
     },
     "execution_count": 238,
     "metadata": {},
     "output_type": "execute_result"
    }
   ],
   "source": [
    "o5.head()"
   ]
  },
  {
   "cell_type": "code",
   "execution_count": 240,
   "metadata": {
    "ExecuteTime": {
     "end_time": "2020-05-11T20:15:43.054513Z",
     "start_time": "2020-05-11T20:15:43.048971Z"
    }
   },
   "outputs": [
    {
     "data": {
      "text/plain": [
       "((267, 31), (267, 23))"
      ]
     },
     "execution_count": 240,
     "metadata": {},
     "output_type": "execute_result"
    }
   ],
   "source": [
    "o5.shape, o6.shape"
   ]
  },
  {
   "cell_type": "code",
   "execution_count": null,
   "metadata": {},
   "outputs": [],
   "source": []
  },
  {
   "cell_type": "code",
   "execution_count": 239,
   "metadata": {
    "ExecuteTime": {
     "end_time": "2020-05-11T20:15:07.882228Z",
     "start_time": "2020-05-11T20:15:07.876420Z"
    }
   },
   "outputs": [],
   "source": [
    "o5 = o5.drop(columns='Game_Number')"
   ]
  },
  {
   "cell_type": "code",
   "execution_count": 241,
   "metadata": {
    "ExecuteTime": {
     "end_time": "2020-05-11T20:16:11.677329Z",
     "start_time": "2020-05-11T20:16:11.648831Z"
    }
   },
   "outputs": [],
   "source": [
    "merged = o6.merge(o5, on=['Home_team', 'Away_team', 'Week'], how='left')"
   ]
  },
  {
   "cell_type": "code",
   "execution_count": 242,
   "metadata": {
    "ExecuteTime": {
     "end_time": "2020-05-11T20:16:17.280557Z",
     "start_time": "2020-05-11T20:16:17.274021Z"
    }
   },
   "outputs": [
    {
     "data": {
      "text/plain": [
       "(267, 51)"
      ]
     },
     "execution_count": 242,
     "metadata": {},
     "output_type": "execute_result"
    }
   ],
   "source": [
    "merged.shape"
   ]
  },
  {
   "cell_type": "code",
   "execution_count": 243,
   "metadata": {
    "ExecuteTime": {
     "end_time": "2020-05-11T20:16:29.016086Z",
     "start_time": "2020-05-11T20:16:29.006600Z"
    }
   },
   "outputs": [
    {
     "data": {
      "text/plain": [
       "Index(['Home_team', 'Away_team', 'Week', 'Game_Number', 'result', 'OT',\n",
       "       'points_for', 'points_against', 'point_differential', 'combined_points',\n",
       "       'spread', 'vs_line', 'over_under', 'over_under_result', 'total_yards',\n",
       "       'offensive_plays', 'yards_per_play_offense', 'defensive_plays',\n",
       "       'yards_allowed_per_defensive_play', 'turnovers_lost',\n",
       "       'time_of_possession', 'game_duration', 'game_date_time_x',\n",
       "       'home_passing_completions', 'home_pass_attempts',\n",
       "       'home_completion_percentage', 'home_passing_yards', 'home_passing_TD',\n",
       "       'home_INT', 'home_times_sacked', 'home_sack_yards_lost',\n",
       "       'home_passer_rating', 'home_rush_attempts', 'home_rushing_yards',\n",
       "       'home_rushing_yards_per_attempt', 'home_rushing_TD',\n",
       "       'away_pass_completions', 'away_pass_attempts',\n",
       "       'away_completion_percentage', 'away_passing_yards',\n",
       "       'away_passing_touchdowns', 'away_interceptions', 'away_times_sacked',\n",
       "       'away_sack_yards_lost', 'away_qbr', 'away_rushing_attempts',\n",
       "       'away_rushing_yards', 'away_rushing_yards_per_attempt',\n",
       "       'away_rushing_touchdowns', 'game_date_time_y',\n",
       "       'combined_turnover_margin'],\n",
       "      dtype='object')"
      ]
     },
     "execution_count": 243,
     "metadata": {},
     "output_type": "execute_result"
    }
   ],
   "source": [
    "merged.columns"
   ]
  },
  {
   "cell_type": "code",
   "execution_count": 244,
   "metadata": {
    "ExecuteTime": {
     "end_time": "2020-05-11T20:16:39.956628Z",
     "start_time": "2020-05-11T20:16:39.933778Z"
    }
   },
   "outputs": [
    {
     "name": "stdout",
     "output_type": "stream",
     "text": [
      "<class 'pandas.core.frame.DataFrame'>\n",
      "Int64Index: 267 entries, 0 to 266\n",
      "Data columns (total 51 columns):\n",
      "Home_team                           267 non-null object\n",
      "Away_team                           267 non-null object\n",
      "Week                                267 non-null float64\n",
      "Game_Number                         267 non-null float64\n",
      "result                              267 non-null int64\n",
      "OT                                  267 non-null int64\n",
      "points_for                          267 non-null float64\n",
      "points_against                      267 non-null float64\n",
      "point_differential                  267 non-null float64\n",
      "combined_points                     267 non-null float64\n",
      "spread                              267 non-null float64\n",
      "vs_line                             267 non-null int64\n",
      "over_under                          267 non-null float64\n",
      "over_under_result                   267 non-null int64\n",
      "total_yards                         267 non-null float64\n",
      "offensive_plays                     267 non-null float64\n",
      "yards_per_play_offense              267 non-null float64\n",
      "defensive_plays                     267 non-null float64\n",
      "yards_allowed_per_defensive_play    267 non-null float64\n",
      "turnovers_lost                      267 non-null float64\n",
      "time_of_possession                  267 non-null float64\n",
      "game_duration                       267 non-null object\n",
      "game_date_time_x                    267 non-null datetime64[ns]\n",
      "home_passing_completions            267 non-null float64\n",
      "home_pass_attempts                  267 non-null float64\n",
      "home_completion_percentage          267 non-null float64\n",
      "home_passing_yards                  267 non-null float64\n",
      "home_passing_TD                     267 non-null float64\n",
      "home_INT                            267 non-null float64\n",
      "home_times_sacked                   267 non-null float64\n",
      "home_sack_yards_lost                267 non-null float64\n",
      "home_passer_rating                  267 non-null float64\n",
      "home_rush_attempts                  267 non-null float64\n",
      "home_rushing_yards                  267 non-null float64\n",
      "home_rushing_yards_per_attempt      267 non-null float64\n",
      "home_rushing_TD                     267 non-null float64\n",
      "away_pass_completions               267 non-null float64\n",
      "away_pass_attempts                  267 non-null float64\n",
      "away_completion_percentage          267 non-null float64\n",
      "away_passing_yards                  267 non-null float64\n",
      "away_passing_touchdowns             267 non-null float64\n",
      "away_interceptions                  267 non-null float64\n",
      "away_times_sacked                   267 non-null float64\n",
      "away_sack_yards_lost                267 non-null float64\n",
      "away_qbr                            267 non-null float64\n",
      "away_rushing_attempts               267 non-null float64\n",
      "away_rushing_yards                  267 non-null float64\n",
      "away_rushing_yards_per_attempt      267 non-null float64\n",
      "away_rushing_touchdowns             267 non-null float64\n",
      "game_date_time_y                    267 non-null object\n",
      "combined_turnover_margin            243 non-null float64\n",
      "dtypes: datetime64[ns](1), float64(42), int64(4), object(4)\n",
      "memory usage: 108.5+ KB\n"
     ]
    }
   ],
   "source": [
    "merged.info()"
   ]
  },
  {
   "cell_type": "code",
   "execution_count": 245,
   "metadata": {
    "ExecuteTime": {
     "end_time": "2020-05-11T20:19:30.585318Z",
     "start_time": "2020-05-11T20:19:30.576363Z"
    }
   },
   "outputs": [],
   "source": [
    "merged = merged.drop(columns='game_date_time_y')"
   ]
  },
  {
   "cell_type": "code",
   "execution_count": 246,
   "metadata": {
    "ExecuteTime": {
     "end_time": "2020-05-11T20:24:44.905324Z",
     "start_time": "2020-05-11T20:24:44.898967Z"
    }
   },
   "outputs": [],
   "source": [
    "merged = merged.rename(columns={'total_yards': 'home_total_yards',\n",
    "       'offensive_plays':'home_offensive_plays', \n",
    "       'yards_per_play_offense': 'home_yards_per_play_offense', \n",
    "       'defensive_plays':'home_defensive_plays',\n",
    "       'yards_allowed_per_defensive_play': 'home_yards_allowed_per_defensive_play', \n",
    "       'turnovers_lost': 'home_turnovers_lost',\n",
    "       'time_of_possession':'home_TOP'})"
   ]
  },
  {
   "cell_type": "code",
   "execution_count": 247,
   "metadata": {
    "ExecuteTime": {
     "end_time": "2020-05-11T20:26:21.345462Z",
     "start_time": "2020-05-11T20:26:21.339929Z"
    }
   },
   "outputs": [],
   "source": [
    "merged['away_total_yards'] = merged['away_rushing_yards'] + merged['away_passing_yards']"
   ]
  },
  {
   "cell_type": "code",
   "execution_count": 249,
   "metadata": {
    "ExecuteTime": {
     "end_time": "2020-05-11T20:28:03.816207Z",
     "start_time": "2020-05-11T20:28:03.808143Z"
    }
   },
   "outputs": [],
   "source": [
    "merged['away_offensive_plays'] = merged['away_pass_attempts'] + merged['away_times_sacked'] + merged['away_rushing_attempts']"
   ]
  },
  {
   "cell_type": "code",
   "execution_count": 250,
   "metadata": {
    "ExecuteTime": {
     "end_time": "2020-05-11T20:28:44.550771Z",
     "start_time": "2020-05-11T20:28:44.545360Z"
    }
   },
   "outputs": [],
   "source": [
    "merged['away_yards_per_play_offense'] = merged['away_total_yards']/merged['away_offensive_plays']"
   ]
  },
  {
   "cell_type": "code",
   "execution_count": 252,
   "metadata": {
    "ExecuteTime": {
     "end_time": "2020-05-11T20:30:41.730598Z",
     "start_time": "2020-05-11T20:30:41.725161Z"
    }
   },
   "outputs": [],
   "source": [
    "merged['away_defensive_plays'] = merged['home_pass_attempts'] + merged['home_times_sacked'] + merged['home_rush_attempts']"
   ]
  },
  {
   "cell_type": "code",
   "execution_count": 253,
   "metadata": {
    "ExecuteTime": {
     "end_time": "2020-05-11T20:32:05.843625Z",
     "start_time": "2020-05-11T20:32:05.834016Z"
    }
   },
   "outputs": [],
   "source": [
    "merged = merged.fillna(value=0)"
   ]
  },
  {
   "cell_type": "code",
   "execution_count": 255,
   "metadata": {
    "ExecuteTime": {
     "end_time": "2020-05-11T20:33:35.956651Z",
     "start_time": "2020-05-11T20:33:35.952672Z"
    }
   },
   "outputs": [],
   "source": [
    "merged['away_turnovers_lost'] = merged['combined_turnover_margin'] - merged['home_turnovers_lost']"
   ]
  },
  {
   "cell_type": "code",
   "execution_count": 256,
   "metadata": {
    "ExecuteTime": {
     "end_time": "2020-05-11T20:33:44.603362Z",
     "start_time": "2020-05-11T20:33:44.597564Z"
    }
   },
   "outputs": [
    {
     "data": {
      "text/plain": [
       "Index(['Home_team', 'Away_team', 'Week', 'Game_Number', 'result', 'OT',\n",
       "       'points_for', 'points_against', 'point_differential', 'combined_points',\n",
       "       'spread', 'vs_line', 'over_under', 'over_under_result',\n",
       "       'home_total_yards', 'home_offensive_plays',\n",
       "       'home_yards_per_play_offense', 'home_defensive_plays',\n",
       "       'home_yards_allowed_per_defensive_play', 'home_turnovers_lost',\n",
       "       'home_TOP', 'game_duration', 'game_date_time_x',\n",
       "       'home_passing_completions', 'home_pass_attempts',\n",
       "       'home_completion_percentage', 'home_passing_yards', 'home_passing_TD',\n",
       "       'home_INT', 'home_times_sacked', 'home_sack_yards_lost',\n",
       "       'home_passer_rating', 'home_rush_attempts', 'home_rushing_yards',\n",
       "       'home_rushing_yards_per_attempt', 'home_rushing_TD',\n",
       "       'away_pass_completions', 'away_pass_attempts',\n",
       "       'away_completion_percentage', 'away_passing_yards',\n",
       "       'away_passing_touchdowns', 'away_interceptions', 'away_times_sacked',\n",
       "       'away_sack_yards_lost', 'away_qbr', 'away_rushing_attempts',\n",
       "       'away_rushing_yards', 'away_rushing_yards_per_attempt',\n",
       "       'away_rushing_touchdowns', 'combined_turnover_margin',\n",
       "       'away_total_yards', 'away_offensive_plays',\n",
       "       'away_yards_per_play_offense', 'away_defensive_plays',\n",
       "       'away_turnovers_lost'],\n",
       "      dtype='object')"
      ]
     },
     "execution_count": 256,
     "metadata": {},
     "output_type": "execute_result"
    }
   ],
   "source": [
    "merged.columns"
   ]
  },
  {
   "cell_type": "code",
   "execution_count": null,
   "metadata": {
    "ExecuteTime": {
     "end_time": "2020-05-11T20:33:59.214326Z",
     "start_time": "2020-05-11T20:33:59.207175Z"
    }
   },
   "outputs": [],
   "source": []
  },
  {
   "cell_type": "code",
   "execution_count": 259,
   "metadata": {
    "ExecuteTime": {
     "end_time": "2020-05-11T20:40:01.319088Z",
     "start_time": "2020-05-11T20:40:01.310673Z"
    }
   },
   "outputs": [],
   "source": [
    "merged['away_TOP'] = 1 - merged['home_TOP']"
   ]
  },
  {
   "cell_type": "code",
   "execution_count": 260,
   "metadata": {
    "ExecuteTime": {
     "end_time": "2020-05-11T20:40:58.340771Z",
     "start_time": "2020-05-11T20:40:58.333104Z"
    }
   },
   "outputs": [],
   "source": [
    "merged = merged.drop(columns='game_duration')"
   ]
  },
  {
   "cell_type": "code",
   "execution_count": 261,
   "metadata": {
    "ExecuteTime": {
     "end_time": "2020-05-11T20:41:33.866420Z",
     "start_time": "2020-05-11T20:41:33.858468Z"
    }
   },
   "outputs": [],
   "source": [
    "merged = merged.rename(columns={'points_for': 'home_points', 'points_against': 'away_points',\n",
    "'result': 'home_result', 'vs_line': 'home_vs_line',\n",
    "'over_under_result': 'home_over_under_result'})"
   ]
  },
  {
   "cell_type": "code",
   "execution_count": 262,
   "metadata": {
    "ExecuteTime": {
     "end_time": "2020-05-11T20:43:52.875599Z",
     "start_time": "2020-05-11T20:43:52.865129Z"
    }
   },
   "outputs": [],
   "source": [
    "merged['away_result'] = merged['home_result'] * -1\n",
    "merged['away_vs_line'] = merged['home_vs_line'] * -1\n",
    "merged['away_over_under_result'] = merged['home_over_under_result'] *-1"
   ]
  },
  {
   "cell_type": "code",
   "execution_count": 263,
   "metadata": {
    "ExecuteTime": {
     "end_time": "2020-05-11T20:44:06.924313Z",
     "start_time": "2020-05-11T20:44:06.913221Z"
    }
   },
   "outputs": [
    {
     "data": {
      "text/plain": [
       "Home_team                                                SFO\n",
       "Away_team                                                KAN\n",
       "Week                                                      21\n",
       "Game_Number                                               20\n",
       "home_result                                               -1\n",
       "OT                                                         0\n",
       "home_points                                               20\n",
       "away_points                                               31\n",
       "point_differential                                       -11\n",
       "combined_points                                           51\n",
       "spread                                                   1.5\n",
       "home_vs_line                                              -1\n",
       "over_under                                              52.5\n",
       "home_over_under_result                                    -1\n",
       "home_total_yards                                         351\n",
       "home_offensive_plays                                      54\n",
       "home_yards_per_play_offense                              6.5\n",
       "home_defensive_plays                                      75\n",
       "home_yards_allowed_per_defensive_play                 5.2933\n",
       "home_turnovers_lost                                        2\n",
       "home_TOP                                            0.446389\n",
       "game_date_time_x                         2020-02-02 06:30:00\n",
       "home_passing_completions                                  20\n",
       "home_pass_attempts                                        31\n",
       "home_completion_percentage                              64.5\n",
       "home_passing_yards                                       210\n",
       "home_passing_TD                                            1\n",
       "home_INT                                                   2\n",
       "home_times_sacked                                          1\n",
       "home_sack_yards_lost                                       9\n",
       "home_passer_rating                                      67.9\n",
       "home_rush_attempts                                        22\n",
       "home_rushing_yards                                       141\n",
       "home_rushing_yards_per_attempt                          6.41\n",
       "home_rushing_TD                                            1\n",
       "away_pass_completions                                     26\n",
       "away_pass_attempts                                        42\n",
       "away_completion_percentage                              61.9\n",
       "away_passing_yards                                       268\n",
       "away_passing_touchdowns                                    2\n",
       "away_interceptions                                         2\n",
       "away_times_sacked                                          4\n",
       "away_sack_yards_lost                                      18\n",
       "away_qbr                                                76.3\n",
       "away_rushing_attempts                                     29\n",
       "away_rushing_yards                                       129\n",
       "away_rushing_yards_per_attempt                          4.45\n",
       "away_rushing_touchdowns                                    2\n",
       "combined_turnover_margin                                   4\n",
       "away_total_yards                                         397\n",
       "away_offensive_plays                                      75\n",
       "away_yards_per_play_offense                          5.29333\n",
       "away_defensive_plays                                      54\n",
       "away_turnovers_lost                                        2\n",
       "away_TOP                                            0.553611\n",
       "away_result                                                1\n",
       "away_vs_line                                               1\n",
       "away_over_under_result                                     1\n",
       "Name: 0, dtype: object"
      ]
     },
     "execution_count": 263,
     "metadata": {},
     "output_type": "execute_result"
    }
   ],
   "source": [
    "merged.iloc[0]"
   ]
  },
  {
   "cell_type": "code",
   "execution_count": 264,
   "metadata": {
    "ExecuteTime": {
     "end_time": "2020-05-11T20:44:28.743130Z",
     "start_time": "2020-05-11T20:44:28.737361Z"
    }
   },
   "outputs": [
    {
     "data": {
      "text/plain": [
       "(267, 58)"
      ]
     },
     "execution_count": 264,
     "metadata": {},
     "output_type": "execute_result"
    }
   ],
   "source": [
    "merged.shape"
   ]
  },
  {
   "cell_type": "code",
   "execution_count": 265,
   "metadata": {
    "ExecuteTime": {
     "end_time": "2020-05-11T21:01:32.775732Z",
     "start_time": "2020-05-11T21:01:32.525172Z"
    }
   },
   "outputs": [],
   "source": [
    "merged.to_csv('backup_stats.csv')"
   ]
  },
  {
   "cell_type": "code",
   "execution_count": 266,
   "metadata": {
    "ExecuteTime": {
     "end_time": "2020-05-11T21:16:15.235972Z",
     "start_time": "2020-05-11T21:16:15.227514Z"
    }
   },
   "outputs": [
    {
     "data": {
      "text/plain": [
       "Index(['Home_team', 'Away_team', 'Week', 'Game_Number', 'home_result', 'OT',\n",
       "       'home_points', 'away_points', 'point_differential', 'combined_points',\n",
       "       'spread', 'home_vs_line', 'over_under', 'home_over_under_result',\n",
       "       'home_total_yards', 'home_offensive_plays',\n",
       "       'home_yards_per_play_offense', 'home_defensive_plays',\n",
       "       'home_yards_allowed_per_defensive_play', 'home_turnovers_lost',\n",
       "       'home_TOP', 'game_date_time_x', 'home_passing_completions',\n",
       "       'home_pass_attempts', 'home_completion_percentage',\n",
       "       'home_passing_yards', 'home_passing_TD', 'home_INT',\n",
       "       'home_times_sacked', 'home_sack_yards_lost', 'home_passer_rating',\n",
       "       'home_rush_attempts', 'home_rushing_yards',\n",
       "       'home_rushing_yards_per_attempt', 'home_rushing_TD',\n",
       "       'away_pass_completions', 'away_pass_attempts',\n",
       "       'away_completion_percentage', 'away_passing_yards',\n",
       "       'away_passing_touchdowns', 'away_interceptions', 'away_times_sacked',\n",
       "       'away_sack_yards_lost', 'away_qbr', 'away_rushing_attempts',\n",
       "       'away_rushing_yards', 'away_rushing_yards_per_attempt',\n",
       "       'away_rushing_touchdowns', 'combined_turnover_margin',\n",
       "       'away_total_yards', 'away_offensive_plays',\n",
       "       'away_yards_per_play_offense', 'away_defensive_plays',\n",
       "       'away_turnovers_lost', 'away_TOP', 'away_result', 'away_vs_line',\n",
       "       'away_over_under_result'],\n",
       "      dtype='object')"
      ]
     },
     "execution_count": 266,
     "metadata": {},
     "output_type": "execute_result"
    }
   ],
   "source": [
    "merged.columns"
   ]
  },
  {
   "cell_type": "code",
   "execution_count": 267,
   "metadata": {
    "ExecuteTime": {
     "end_time": "2020-05-11T21:50:46.094406Z",
     "start_time": "2020-05-11T21:50:46.064879Z"
    }
   },
   "outputs": [],
   "source": [
    "merged = merged.rename(columns={'Home_team':'Away_team', 'Away_team':'Home_team', 'home_result':'away_result',\n",
    "       'home_points':'away_points', 'away_points':'home_points', \n",
    "       'home_vs_line':'away_vs_line', 'home_over_under_result':'away_over_under_result',\n",
    "       'home_total_yards': 'away_total_yards' , 'home_offensive_plays': 'away_offensive_plays',\n",
    "       'home_yards_per_play_offense': 'away_yards_per_play_offense', \n",
    "       'home_defensive_plays':'away_defensive_plays',\n",
    "       'home_yards_allowed_per_defensive_play':'away_yards_allowed_per_defensive_play',  \n",
    "       'home_turnovers_lost': 'away_turnovers_lost',\n",
    "       'home_TOP':'away_TOP', 'home_passing_completions': 'away_passing_completions',\n",
    "       'home_pass_attempts':'away_pass_attempts', 'home_completion_percentage':'away_completion_percentage',\n",
    "       'home_passing_yards':'away_passing_yards', 'home_passing_TD':'away_passing_TD', 'home_INT':'away_INT',\n",
    "       'home_times_sacked':'away_times_sacked', 'home_sack_yards_lost':'away_sack_yards_lost', \n",
    "       'home_passer_rating':'away_passer_rating', 'home_rush_attempts':'away_rush_attempts', \n",
    "       'home_rushing_yards':'away_rushing_yards',\n",
    "       'home_rushing_yards_per_attempt':'away_rushing_yards_per_attempt', 'home_rushing_TD':'away_rushing_TD',\n",
    "       'away_pass_completions':'home_pass_completions', 'away_pass_attempts':'home_pass_attempts',\n",
    "       'away_completion_percentage':'home_completion_percentage', 'away_passing_yards':'home_passing_yards',\n",
    "       'away_passing_touchdowns':'home_passing_touchdowns', 'away_interceptions':'home_interceptions', \n",
    "       'away_times_sacked':'home_times_sacked',\n",
    "       'away_sack_yards_lost':'home_sack_yards_lost', 'away_qbr':'home_qbr', 'away_rushing_attempts':'home_rushing_attempts',\n",
    "       'away_rushing_yards':'home_rushing_yards', 'away_rushing_yards_per_attempt':'home_rushing_yards_per_attempt',\n",
    "       'away_rushing_touchdowns':'home_rushing_touchdowns',\n",
    "       'away_total_yards':'home_total_yards', 'away_offensive_plays':'home_offensive_plays',\n",
    "       'away_yards_per_play_offense':'home_yards_per_play_offense', 'away_defensive_plays':'home_defensive_plays',\n",
    "       'away_turnovers_lost':'home_turnovers_lost', 'away_TOP':'home_TOP', 'away_result':'home_result', 'away_vs_line':'home_vs_line',\n",
    "       'away_over_under_result':'home_over_under_result'})"
   ]
  },
  {
   "cell_type": "code",
   "execution_count": 268,
   "metadata": {
    "ExecuteTime": {
     "end_time": "2020-05-11T21:50:56.005428Z",
     "start_time": "2020-05-11T21:50:55.988797Z"
    }
   },
   "outputs": [
    {
     "data": {
      "text/plain": [
       "Away_team                                                SFO\n",
       "Home_team                                                KAN\n",
       "Week                                                      21\n",
       "Game_Number                                               20\n",
       "away_result                                               -1\n",
       "OT                                                         0\n",
       "away_points                                               20\n",
       "home_points                                               31\n",
       "point_differential                                       -11\n",
       "combined_points                                           51\n",
       "spread                                                   1.5\n",
       "away_vs_line                                              -1\n",
       "over_under                                              52.5\n",
       "away_over_under_result                                    -1\n",
       "away_total_yards                                         351\n",
       "away_offensive_plays                                      54\n",
       "away_yards_per_play_offense                              6.5\n",
       "away_defensive_plays                                      75\n",
       "away_yards_allowed_per_defensive_play                 5.2933\n",
       "away_turnovers_lost                                        2\n",
       "away_TOP                                            0.446389\n",
       "game_date_time_x                         2020-02-02 06:30:00\n",
       "away_passing_completions                                  20\n",
       "away_pass_attempts                                        31\n",
       "away_completion_percentage                              64.5\n",
       "away_passing_yards                                       210\n",
       "away_passing_TD                                            1\n",
       "away_INT                                                   2\n",
       "away_times_sacked                                          1\n",
       "away_sack_yards_lost                                       9\n",
       "away_passer_rating                                      67.9\n",
       "away_rush_attempts                                        22\n",
       "away_rushing_yards                                       141\n",
       "away_rushing_yards_per_attempt                          6.41\n",
       "away_rushing_TD                                            1\n",
       "home_pass_completions                                     26\n",
       "home_pass_attempts                                        42\n",
       "home_completion_percentage                              61.9\n",
       "home_passing_yards                                       268\n",
       "home_passing_touchdowns                                    2\n",
       "home_interceptions                                         2\n",
       "home_times_sacked                                          4\n",
       "home_sack_yards_lost                                      18\n",
       "home_qbr                                                76.3\n",
       "home_rushing_attempts                                     29\n",
       "home_rushing_yards                                       129\n",
       "home_rushing_yards_per_attempt                          4.45\n",
       "home_rushing_touchdowns                                    2\n",
       "combined_turnover_margin                                   4\n",
       "home_total_yards                                         397\n",
       "home_offensive_plays                                      75\n",
       "home_yards_per_play_offense                          5.29333\n",
       "home_defensive_plays                                      54\n",
       "home_turnovers_lost                                        2\n",
       "home_TOP                                            0.553611\n",
       "home_result                                                1\n",
       "home_vs_line                                               1\n",
       "home_over_under_result                                     1\n",
       "Name: 0, dtype: object"
      ]
     },
     "execution_count": 268,
     "metadata": {},
     "output_type": "execute_result"
    }
   ],
   "source": [
    "merged.iloc[0]"
   ]
  },
  {
   "cell_type": "code",
   "execution_count": 269,
   "metadata": {
    "ExecuteTime": {
     "end_time": "2020-05-11T21:52:14.723728Z",
     "start_time": "2020-05-11T21:52:14.706294Z"
    }
   },
   "outputs": [
    {
     "data": {
      "text/plain": [
       "Index(['Away_team', 'Home_team', 'Week', 'Game_Number', 'away_result', 'OT',\n",
       "       'away_points', 'home_points', 'point_differential', 'combined_points',\n",
       "       'spread', 'away_vs_line', 'over_under', 'away_over_under_result',\n",
       "       'away_total_yards', 'away_offensive_plays',\n",
       "       'away_yards_per_play_offense', 'away_defensive_plays',\n",
       "       'away_yards_allowed_per_defensive_play', 'away_turnovers_lost',\n",
       "       'away_TOP', 'game_date_time_x', 'away_passing_completions',\n",
       "       'away_pass_attempts', 'away_completion_percentage',\n",
       "       'away_passing_yards', 'away_passing_TD', 'away_INT',\n",
       "       'away_times_sacked', 'away_sack_yards_lost', 'away_passer_rating',\n",
       "       'away_rush_attempts', 'away_rushing_yards',\n",
       "       'away_rushing_yards_per_attempt', 'away_rushing_TD',\n",
       "       'home_pass_completions', 'home_pass_attempts',\n",
       "       'home_completion_percentage', 'home_passing_yards',\n",
       "       'home_passing_touchdowns', 'home_interceptions', 'home_times_sacked',\n",
       "       'home_sack_yards_lost', 'home_qbr', 'home_rushing_attempts',\n",
       "       'home_rushing_yards', 'home_rushing_yards_per_attempt',\n",
       "       'home_rushing_touchdowns', 'combined_turnover_margin',\n",
       "       'home_total_yards', 'home_offensive_plays',\n",
       "       'home_yards_per_play_offense', 'home_defensive_plays',\n",
       "       'home_turnovers_lost', 'home_TOP', 'home_result', 'home_vs_line',\n",
       "       'home_over_under_result'],\n",
       "      dtype='object')"
      ]
     },
     "execution_count": 269,
     "metadata": {},
     "output_type": "execute_result"
    }
   ],
   "source": [
    "merged.columns"
   ]
  },
  {
   "cell_type": "code",
   "execution_count": 270,
   "metadata": {
    "ExecuteTime": {
     "end_time": "2020-05-11T21:52:43.704953Z",
     "start_time": "2020-05-11T21:52:43.696391Z"
    }
   },
   "outputs": [],
   "source": [
    "m = merged.copy()"
   ]
  },
  {
   "cell_type": "code",
   "execution_count": 289,
   "metadata": {
    "ExecuteTime": {
     "end_time": "2020-05-11T22:24:33.293627Z",
     "start_time": "2020-05-11T22:24:33.287207Z"
    }
   },
   "outputs": [],
   "source": [
    "m['home_yards_allowed_per_defensive_play'] = m['away_yards_per_play_offense']"
   ]
  },
  {
   "cell_type": "code",
   "execution_count": null,
   "metadata": {},
   "outputs": [],
   "source": []
  },
  {
   "cell_type": "code",
   "execution_count": 291,
   "metadata": {
    "ExecuteTime": {
     "end_time": "2020-05-11T22:27:59.667188Z",
     "start_time": "2020-05-11T22:27:59.652137Z"
    }
   },
   "outputs": [],
   "source": [
    "away = m[['Away_team', 'Week', 'Game_Number', 'away_result', 'OT',\n",
    "       'away_points', 'point_differential', 'combined_points',\n",
    "       'spread', 'away_vs_line', 'over_under', 'away_over_under_result',\n",
    "       'away_total_yards', 'away_offensive_plays',\n",
    "       'away_yards_per_play_offense', 'away_defensive_plays',\n",
    "       'away_yards_allowed_per_defensive_play', 'away_turnovers_lost',\n",
    "       'away_TOP', 'game_date_time_x', 'away_passing_completions',\n",
    "       'away_pass_attempts', 'away_completion_percentage',\n",
    "       'away_passing_yards', 'away_passing_TD', 'away_INT',\n",
    "       'away_times_sacked', 'away_sack_yards_lost', 'away_passer_rating',\n",
    "       'away_rush_attempts', 'away_rushing_yards',\n",
    "       'away_rushing_yards_per_attempt', 'away_rushing_TD']]\n",
    "\n",
    "home = m[['Home_team', 'Week', 'Game_Number', 'OT',\n",
    "       'home_points', 'point_differential', 'combined_points',\n",
    "       'spread', 'over_under','home_pass_completions', 'home_pass_attempts',\n",
    "       'home_completion_percentage', 'home_passing_yards',\n",
    "       'home_passing_touchdowns', 'home_interceptions', 'home_times_sacked',\n",
    "       'home_sack_yards_lost', 'home_qbr', 'home_rushing_attempts',\n",
    "       'home_rushing_yards', 'home_rushing_yards_per_attempt',\n",
    "       'home_rushing_touchdowns', 'game_date_time_x',\n",
    "       'home_total_yards', 'home_offensive_plays',\n",
    "       'home_yards_per_play_offense', 'home_defensive_plays',\n",
    "       'home_turnovers_lost', 'home_TOP', 'home_yards_allowed_per_defensive_play', 'home_result', 'home_vs_line',\n",
    "       'home_over_under_result']]"
   ]
  },
  {
   "cell_type": "code",
   "execution_count": 292,
   "metadata": {
    "ExecuteTime": {
     "end_time": "2020-05-11T22:28:01.674466Z",
     "start_time": "2020-05-11T22:28:01.670238Z"
    }
   },
   "outputs": [
    {
     "data": {
      "text/plain": [
       "((267, 33), (267, 33))"
      ]
     },
     "execution_count": 292,
     "metadata": {},
     "output_type": "execute_result"
    }
   ],
   "source": [
    "away.shape, home.shape"
   ]
  },
  {
   "cell_type": "code",
   "execution_count": 293,
   "metadata": {
    "ExecuteTime": {
     "end_time": "2020-05-11T22:28:13.126886Z",
     "start_time": "2020-05-11T22:28:13.122100Z"
    }
   },
   "outputs": [],
   "source": [
    "away.columns=['team','Week', 'Game_Number', 'result', 'OT', 'points',\n",
    "       'point_differential', 'combined_points', 'spread', 'vs_line',\n",
    "       'over_under', 'over_under_result', 'total_yards',\n",
    "       'offensive_plays', 'yards_per_play_offense',\n",
    "       'defensive_plays', 'yards_allowed_per_defensive_play',\n",
    "       'turnovers_lost', 'TOP', 'game_date_time',\n",
    "       'passing_completions', 'pass_attempts',\n",
    "       'completion_percentage', 'passing_yards', 'passing_TD',\n",
    "       'INT', 'times_sacked', 'sack_yards_lost',\n",
    "       'passer_rating', 'rush_attempts', 'rushing_yards',\n",
    "       'rushing_yards_per_attempt', 'rushing_TD' ]"
   ]
  },
  {
   "cell_type": "code",
   "execution_count": 294,
   "metadata": {
    "ExecuteTime": {
     "end_time": "2020-05-11T22:28:14.953819Z",
     "start_time": "2020-05-11T22:28:14.949126Z"
    }
   },
   "outputs": [
    {
     "data": {
      "text/plain": [
       "Index(['team', 'Week', 'Game_Number', 'result', 'OT', 'points',\n",
       "       'point_differential', 'combined_points', 'spread', 'vs_line',\n",
       "       'over_under', 'over_under_result', 'total_yards', 'offensive_plays',\n",
       "       'yards_per_play_offense', 'defensive_plays',\n",
       "       'yards_allowed_per_defensive_play', 'turnovers_lost', 'TOP',\n",
       "       'game_date_time', 'passing_completions', 'pass_attempts',\n",
       "       'completion_percentage', 'passing_yards', 'passing_TD', 'INT',\n",
       "       'times_sacked', 'sack_yards_lost', 'passer_rating', 'rush_attempts',\n",
       "       'rushing_yards', 'rushing_yards_per_attempt', 'rushing_TD'],\n",
       "      dtype='object')"
      ]
     },
     "execution_count": 294,
     "metadata": {},
     "output_type": "execute_result"
    }
   ],
   "source": [
    "away.columns"
   ]
  },
  {
   "cell_type": "code",
   "execution_count": 282,
   "metadata": {
    "ExecuteTime": {
     "end_time": "2020-05-11T22:07:22.757566Z",
     "start_time": "2020-05-11T22:07:22.694906Z"
    }
   },
   "outputs": [
    {
     "data": {
      "text/html": [
       "<div>\n",
       "<style scoped>\n",
       "    .dataframe tbody tr th:only-of-type {\n",
       "        vertical-align: middle;\n",
       "    }\n",
       "\n",
       "    .dataframe tbody tr th {\n",
       "        vertical-align: top;\n",
       "    }\n",
       "\n",
       "    .dataframe thead th {\n",
       "        text-align: right;\n",
       "    }\n",
       "</style>\n",
       "<table border=\"1\" class=\"dataframe\">\n",
       "  <thead>\n",
       "    <tr style=\"text-align: right;\">\n",
       "      <th></th>\n",
       "      <th>team</th>\n",
       "      <th>Week</th>\n",
       "      <th>Game_Number</th>\n",
       "      <th>result</th>\n",
       "      <th>OT</th>\n",
       "      <th>points</th>\n",
       "      <th>point_differential</th>\n",
       "      <th>combined_points</th>\n",
       "      <th>spread</th>\n",
       "      <th>vs_line</th>\n",
       "      <th>...</th>\n",
       "      <th>passing_yards</th>\n",
       "      <th>passing_TD</th>\n",
       "      <th>INT</th>\n",
       "      <th>times_sacked</th>\n",
       "      <th>sack_yards_lost</th>\n",
       "      <th>passer_rating</th>\n",
       "      <th>rush_attempts</th>\n",
       "      <th>rushing_yards</th>\n",
       "      <th>rushing_yards_per_attempt</th>\n",
       "      <th>rushing_TD</th>\n",
       "    </tr>\n",
       "  </thead>\n",
       "  <tbody>\n",
       "    <tr>\n",
       "      <td>0</td>\n",
       "      <td>SFO</td>\n",
       "      <td>21.0</td>\n",
       "      <td>20.0</td>\n",
       "      <td>-1</td>\n",
       "      <td>0</td>\n",
       "      <td>20.0</td>\n",
       "      <td>-11.0</td>\n",
       "      <td>51.0</td>\n",
       "      <td>1.5</td>\n",
       "      <td>-1</td>\n",
       "      <td>...</td>\n",
       "      <td>210.0</td>\n",
       "      <td>1.0</td>\n",
       "      <td>2.0</td>\n",
       "      <td>1.0</td>\n",
       "      <td>9.0</td>\n",
       "      <td>67.9</td>\n",
       "      <td>22.0</td>\n",
       "      <td>141.0</td>\n",
       "      <td>6.41</td>\n",
       "      <td>1.0</td>\n",
       "    </tr>\n",
       "    <tr>\n",
       "      <td>1</td>\n",
       "      <td>GNB</td>\n",
       "      <td>20.0</td>\n",
       "      <td>19.0</td>\n",
       "      <td>-1</td>\n",
       "      <td>0</td>\n",
       "      <td>20.0</td>\n",
       "      <td>-17.0</td>\n",
       "      <td>57.0</td>\n",
       "      <td>8.0</td>\n",
       "      <td>-1</td>\n",
       "      <td>...</td>\n",
       "      <td>296.0</td>\n",
       "      <td>2.0</td>\n",
       "      <td>2.0</td>\n",
       "      <td>3.0</td>\n",
       "      <td>30.0</td>\n",
       "      <td>94.0</td>\n",
       "      <td>16.0</td>\n",
       "      <td>62.0</td>\n",
       "      <td>3.88</td>\n",
       "      <td>1.0</td>\n",
       "    </tr>\n",
       "    <tr>\n",
       "      <td>2</td>\n",
       "      <td>TEN</td>\n",
       "      <td>20.0</td>\n",
       "      <td>20.0</td>\n",
       "      <td>-1</td>\n",
       "      <td>0</td>\n",
       "      <td>24.0</td>\n",
       "      <td>-11.0</td>\n",
       "      <td>59.0</td>\n",
       "      <td>7.5</td>\n",
       "      <td>-1</td>\n",
       "      <td>...</td>\n",
       "      <td>210.0</td>\n",
       "      <td>2.0</td>\n",
       "      <td>0.0</td>\n",
       "      <td>3.0</td>\n",
       "      <td>27.0</td>\n",
       "      <td>107.6</td>\n",
       "      <td>23.0</td>\n",
       "      <td>85.0</td>\n",
       "      <td>3.70</td>\n",
       "      <td>1.0</td>\n",
       "    </tr>\n",
       "    <tr>\n",
       "      <td>3</td>\n",
       "      <td>HOU</td>\n",
       "      <td>19.0</td>\n",
       "      <td>19.0</td>\n",
       "      <td>-1</td>\n",
       "      <td>0</td>\n",
       "      <td>31.0</td>\n",
       "      <td>-20.0</td>\n",
       "      <td>82.0</td>\n",
       "      <td>10.0</td>\n",
       "      <td>-1</td>\n",
       "      <td>...</td>\n",
       "      <td>348.0</td>\n",
       "      <td>2.0</td>\n",
       "      <td>0.0</td>\n",
       "      <td>5.0</td>\n",
       "      <td>40.0</td>\n",
       "      <td>92.5</td>\n",
       "      <td>21.0</td>\n",
       "      <td>94.0</td>\n",
       "      <td>4.48</td>\n",
       "      <td>1.0</td>\n",
       "    </tr>\n",
       "    <tr>\n",
       "      <td>4</td>\n",
       "      <td>SEA</td>\n",
       "      <td>19.0</td>\n",
       "      <td>19.0</td>\n",
       "      <td>-1</td>\n",
       "      <td>0</td>\n",
       "      <td>23.0</td>\n",
       "      <td>-5.0</td>\n",
       "      <td>51.0</td>\n",
       "      <td>4.5</td>\n",
       "      <td>-1</td>\n",
       "      <td>...</td>\n",
       "      <td>265.0</td>\n",
       "      <td>1.0</td>\n",
       "      <td>0.0</td>\n",
       "      <td>5.0</td>\n",
       "      <td>12.0</td>\n",
       "      <td>104.9</td>\n",
       "      <td>24.0</td>\n",
       "      <td>110.0</td>\n",
       "      <td>4.58</td>\n",
       "      <td>2.0</td>\n",
       "    </tr>\n",
       "  </tbody>\n",
       "</table>\n",
       "<p>5 rows × 33 columns</p>\n",
       "</div>"
      ],
      "text/plain": [
       "  team  Week  Game_Number  result  OT  points  point_differential  \\\n",
       "0  SFO  21.0         20.0      -1   0    20.0               -11.0   \n",
       "1  GNB  20.0         19.0      -1   0    20.0               -17.0   \n",
       "2  TEN  20.0         20.0      -1   0    24.0               -11.0   \n",
       "3  HOU  19.0         19.0      -1   0    31.0               -20.0   \n",
       "4  SEA  19.0         19.0      -1   0    23.0                -5.0   \n",
       "\n",
       "   combined_points  spread  vs_line  ...  passing_yards  passing_TD  INT  \\\n",
       "0             51.0     1.5       -1  ...          210.0         1.0  2.0   \n",
       "1             57.0     8.0       -1  ...          296.0         2.0  2.0   \n",
       "2             59.0     7.5       -1  ...          210.0         2.0  0.0   \n",
       "3             82.0    10.0       -1  ...          348.0         2.0  0.0   \n",
       "4             51.0     4.5       -1  ...          265.0         1.0  0.0   \n",
       "\n",
       "   times_sacked  sack_yards_lost  passer_rating  rush_attempts  rushing_yards  \\\n",
       "0           1.0              9.0           67.9           22.0          141.0   \n",
       "1           3.0             30.0           94.0           16.0           62.0   \n",
       "2           3.0             27.0          107.6           23.0           85.0   \n",
       "3           5.0             40.0           92.5           21.0           94.0   \n",
       "4           5.0             12.0          104.9           24.0          110.0   \n",
       "\n",
       "   rushing_yards_per_attempt rushing_TD  \n",
       "0                       6.41        1.0  \n",
       "1                       3.88        1.0  \n",
       "2                       3.70        1.0  \n",
       "3                       4.48        1.0  \n",
       "4                       4.58        2.0  \n",
       "\n",
       "[5 rows x 33 columns]"
      ]
     },
     "execution_count": 282,
     "metadata": {},
     "output_type": "execute_result"
    }
   ],
   "source": [
    "away.head()"
   ]
  },
  {
   "cell_type": "code",
   "execution_count": 287,
   "metadata": {
    "ExecuteTime": {
     "end_time": "2020-05-11T22:20:02.897697Z",
     "start_time": "2020-05-11T22:20:02.885399Z"
    }
   },
   "outputs": [],
   "source": []
  },
  {
   "cell_type": "code",
   "execution_count": null,
   "metadata": {
    "ExecuteTime": {
     "end_time": "2020-05-11T22:08:30.624108Z",
     "start_time": "2020-05-11T22:08:30.526633Z"
    }
   },
   "outputs": [],
   "source": []
  },
  {
   "cell_type": "code",
   "execution_count": 295,
   "metadata": {
    "ExecuteTime": {
     "end_time": "2020-05-11T22:28:39.917775Z",
     "start_time": "2020-05-11T22:28:39.908809Z"
    }
   },
   "outputs": [
    {
     "data": {
      "text/plain": [
       "Index(['Home_team', 'Week', 'Game_Number', 'OT', 'home_points',\n",
       "       'point_differential', 'combined_points', 'spread', 'over_under',\n",
       "       'home_pass_completions', 'home_pass_attempts',\n",
       "       'home_completion_percentage', 'home_passing_yards',\n",
       "       'home_passing_touchdowns', 'home_interceptions', 'home_times_sacked',\n",
       "       'home_sack_yards_lost', 'home_qbr', 'home_rushing_attempts',\n",
       "       'home_rushing_yards', 'home_rushing_yards_per_attempt',\n",
       "       'home_rushing_touchdowns', 'game_date_time_x', 'home_total_yards',\n",
       "       'home_offensive_plays', 'home_yards_per_play_offense',\n",
       "       'home_defensive_plays', 'home_turnovers_lost', 'home_TOP',\n",
       "       'home_yards_allowed_per_defensive_play', 'home_result', 'home_vs_line',\n",
       "       'home_over_under_result'],\n",
       "      dtype='object')"
      ]
     },
     "execution_count": 295,
     "metadata": {},
     "output_type": "execute_result"
    }
   ],
   "source": [
    "home.columns"
   ]
  },
  {
   "cell_type": "code",
   "execution_count": 296,
   "metadata": {
    "ExecuteTime": {
     "end_time": "2020-05-11T22:29:33.447937Z",
     "start_time": "2020-05-11T22:29:33.443270Z"
    }
   },
   "outputs": [],
   "source": [
    "home.columns=['team', 'Week', 'Game_Number', 'OT', 'points',\n",
    "       'point_differential', 'combined_points', 'spread', 'over_under',\n",
    "       'passing_completions', 'pass_attempts',\n",
    "       'completion_percentage', 'passing_yards',\n",
    "       'passing_TD', 'INT', 'times_sacked',\n",
    "       'sack_yards_lost', 'passer_rating', 'rush_attempts',\n",
    "       'rushing_yards', 'rushing_yards_per_attempt',\n",
    "       'rushing_TD', 'game_date_time',\n",
    "       'total_yards', 'offensive_plays',\n",
    "       'yards_per_play_offense', 'defensive_plays',\n",
    "       'turnovers_lost', 'TOP', 'yards_allowed_per_defensive_play', 'result', 'vs_line',\n",
    "       'over_under_result']"
   ]
  },
  {
   "cell_type": "code",
   "execution_count": 297,
   "metadata": {
    "ExecuteTime": {
     "end_time": "2020-05-11T22:29:54.648144Z",
     "start_time": "2020-05-11T22:29:54.642021Z"
    }
   },
   "outputs": [
    {
     "data": {
      "text/plain": [
       "((267, 33), (267, 33))"
      ]
     },
     "execution_count": 297,
     "metadata": {},
     "output_type": "execute_result"
    }
   ],
   "source": [
    "away.shape, home.shape"
   ]
  },
  {
   "cell_type": "code",
   "execution_count": 299,
   "metadata": {
    "ExecuteTime": {
     "end_time": "2020-05-11T22:30:17.782566Z",
     "start_time": "2020-05-11T22:30:17.778071Z"
    }
   },
   "outputs": [
    {
     "name": "stderr",
     "output_type": "stream",
     "text": [
      "/home/robert/anaconda3/lib/python3.7/site-packages/ipykernel_launcher.py:1: SettingWithCopyWarning: \n",
      "A value is trying to be set on a copy of a slice from a DataFrame.\n",
      "Try using .loc[row_indexer,col_indexer] = value instead\n",
      "\n",
      "See the caveats in the documentation: http://pandas.pydata.org/pandas-docs/stable/user_guide/indexing.html#returning-a-view-versus-a-copy\n",
      "  \"\"\"Entry point for launching an IPython kernel.\n"
     ]
    }
   ],
   "source": [
    "home['home?'] = True"
   ]
  },
  {
   "cell_type": "code",
   "execution_count": 300,
   "metadata": {
    "ExecuteTime": {
     "end_time": "2020-05-11T22:30:41.639131Z",
     "start_time": "2020-05-11T22:30:41.604865Z"
    }
   },
   "outputs": [
    {
     "data": {
      "text/html": [
       "<div>\n",
       "<style scoped>\n",
       "    .dataframe tbody tr th:only-of-type {\n",
       "        vertical-align: middle;\n",
       "    }\n",
       "\n",
       "    .dataframe tbody tr th {\n",
       "        vertical-align: top;\n",
       "    }\n",
       "\n",
       "    .dataframe thead th {\n",
       "        text-align: right;\n",
       "    }\n",
       "</style>\n",
       "<table border=\"1\" class=\"dataframe\">\n",
       "  <thead>\n",
       "    <tr style=\"text-align: right;\">\n",
       "      <th></th>\n",
       "      <th>team</th>\n",
       "      <th>Week</th>\n",
       "      <th>Game_Number</th>\n",
       "      <th>OT</th>\n",
       "      <th>points</th>\n",
       "      <th>point_differential</th>\n",
       "      <th>combined_points</th>\n",
       "      <th>spread</th>\n",
       "      <th>over_under</th>\n",
       "      <th>passing_completions</th>\n",
       "      <th>...</th>\n",
       "      <th>offensive_plays</th>\n",
       "      <th>yards_per_play_offense</th>\n",
       "      <th>defensive_plays</th>\n",
       "      <th>turnovers_lost</th>\n",
       "      <th>TOP</th>\n",
       "      <th>yards_allowed_per_defensive_play</th>\n",
       "      <th>result</th>\n",
       "      <th>vs_line</th>\n",
       "      <th>over_under_result</th>\n",
       "      <th>home?</th>\n",
       "    </tr>\n",
       "  </thead>\n",
       "  <tbody>\n",
       "    <tr>\n",
       "      <td>0</td>\n",
       "      <td>KAN</td>\n",
       "      <td>21.0</td>\n",
       "      <td>20.0</td>\n",
       "      <td>0</td>\n",
       "      <td>31.0</td>\n",
       "      <td>-11.0</td>\n",
       "      <td>51.0</td>\n",
       "      <td>1.5</td>\n",
       "      <td>52.5</td>\n",
       "      <td>26.0</td>\n",
       "      <td>...</td>\n",
       "      <td>75.0</td>\n",
       "      <td>5.293333</td>\n",
       "      <td>54.0</td>\n",
       "      <td>2.0</td>\n",
       "      <td>0.553611</td>\n",
       "      <td>6.5000</td>\n",
       "      <td>1</td>\n",
       "      <td>1</td>\n",
       "      <td>1</td>\n",
       "      <td>True</td>\n",
       "    </tr>\n",
       "    <tr>\n",
       "      <td>1</td>\n",
       "      <td>SFO</td>\n",
       "      <td>20.0</td>\n",
       "      <td>19.0</td>\n",
       "      <td>0</td>\n",
       "      <td>37.0</td>\n",
       "      <td>-17.0</td>\n",
       "      <td>57.0</td>\n",
       "      <td>8.0</td>\n",
       "      <td>46.5</td>\n",
       "      <td>6.0</td>\n",
       "      <td>...</td>\n",
       "      <td>51.0</td>\n",
       "      <td>6.941176</td>\n",
       "      <td>58.0</td>\n",
       "      <td>0.0</td>\n",
       "      <td>0.479722</td>\n",
       "      <td>6.1724</td>\n",
       "      <td>1</td>\n",
       "      <td>1</td>\n",
       "      <td>-1</td>\n",
       "      <td>True</td>\n",
       "    </tr>\n",
       "    <tr>\n",
       "      <td>2</td>\n",
       "      <td>KAN</td>\n",
       "      <td>20.0</td>\n",
       "      <td>20.0</td>\n",
       "      <td>0</td>\n",
       "      <td>35.0</td>\n",
       "      <td>-11.0</td>\n",
       "      <td>59.0</td>\n",
       "      <td>7.5</td>\n",
       "      <td>51.0</td>\n",
       "      <td>23.0</td>\n",
       "      <td>...</td>\n",
       "      <td>64.0</td>\n",
       "      <td>6.312500</td>\n",
       "      <td>58.0</td>\n",
       "      <td>0.0</td>\n",
       "      <td>0.497222</td>\n",
       "      <td>5.0862</td>\n",
       "      <td>1</td>\n",
       "      <td>1</td>\n",
       "      <td>-1</td>\n",
       "      <td>True</td>\n",
       "    </tr>\n",
       "    <tr>\n",
       "      <td>3</td>\n",
       "      <td>KAN</td>\n",
       "      <td>19.0</td>\n",
       "      <td>19.0</td>\n",
       "      <td>0</td>\n",
       "      <td>51.0</td>\n",
       "      <td>-20.0</td>\n",
       "      <td>82.0</td>\n",
       "      <td>10.0</td>\n",
       "      <td>50.5</td>\n",
       "      <td>23.0</td>\n",
       "      <td>...</td>\n",
       "      <td>57.0</td>\n",
       "      <td>7.614035</td>\n",
       "      <td>78.0</td>\n",
       "      <td>1.0</td>\n",
       "      <td>0.423611</td>\n",
       "      <td>5.6667</td>\n",
       "      <td>1</td>\n",
       "      <td>1</td>\n",
       "      <td>-1</td>\n",
       "      <td>True</td>\n",
       "    </tr>\n",
       "    <tr>\n",
       "      <td>4</td>\n",
       "      <td>GNB</td>\n",
       "      <td>19.0</td>\n",
       "      <td>19.0</td>\n",
       "      <td>0</td>\n",
       "      <td>28.0</td>\n",
       "      <td>-5.0</td>\n",
       "      <td>51.0</td>\n",
       "      <td>4.5</td>\n",
       "      <td>46.0</td>\n",
       "      <td>16.0</td>\n",
       "      <td>...</td>\n",
       "      <td>59.0</td>\n",
       "      <td>5.830508</td>\n",
       "      <td>60.0</td>\n",
       "      <td>0.0</td>\n",
       "      <td>0.491389</td>\n",
       "      <td>6.2500</td>\n",
       "      <td>1</td>\n",
       "      <td>1</td>\n",
       "      <td>-1</td>\n",
       "      <td>True</td>\n",
       "    </tr>\n",
       "  </tbody>\n",
       "</table>\n",
       "<p>5 rows × 34 columns</p>\n",
       "</div>"
      ],
      "text/plain": [
       "  team  Week  Game_Number  OT  points  point_differential  combined_points  \\\n",
       "0  KAN  21.0         20.0   0    31.0               -11.0             51.0   \n",
       "1  SFO  20.0         19.0   0    37.0               -17.0             57.0   \n",
       "2  KAN  20.0         20.0   0    35.0               -11.0             59.0   \n",
       "3  KAN  19.0         19.0   0    51.0               -20.0             82.0   \n",
       "4  GNB  19.0         19.0   0    28.0                -5.0             51.0   \n",
       "\n",
       "   spread  over_under  passing_completions  ...  offensive_plays  \\\n",
       "0     1.5        52.5                 26.0  ...             75.0   \n",
       "1     8.0        46.5                  6.0  ...             51.0   \n",
       "2     7.5        51.0                 23.0  ...             64.0   \n",
       "3    10.0        50.5                 23.0  ...             57.0   \n",
       "4     4.5        46.0                 16.0  ...             59.0   \n",
       "\n",
       "   yards_per_play_offense  defensive_plays  turnovers_lost       TOP  \\\n",
       "0                5.293333             54.0             2.0  0.553611   \n",
       "1                6.941176             58.0             0.0  0.479722   \n",
       "2                6.312500             58.0             0.0  0.497222   \n",
       "3                7.614035             78.0             1.0  0.423611   \n",
       "4                5.830508             60.0             0.0  0.491389   \n",
       "\n",
       "   yards_allowed_per_defensive_play  result  vs_line  over_under_result  home?  \n",
       "0                            6.5000       1        1                  1   True  \n",
       "1                            6.1724       1        1                 -1   True  \n",
       "2                            5.0862       1        1                 -1   True  \n",
       "3                            5.6667       1        1                 -1   True  \n",
       "4                            6.2500       1        1                 -1   True  \n",
       "\n",
       "[5 rows x 34 columns]"
      ]
     },
     "execution_count": 300,
     "metadata": {},
     "output_type": "execute_result"
    }
   ],
   "source": [
    "home.head()"
   ]
  },
  {
   "cell_type": "code",
   "execution_count": 301,
   "metadata": {
    "ExecuteTime": {
     "end_time": "2020-05-11T22:31:01.019842Z",
     "start_time": "2020-05-11T22:31:01.014022Z"
    }
   },
   "outputs": [
    {
     "name": "stderr",
     "output_type": "stream",
     "text": [
      "/home/robert/anaconda3/lib/python3.7/site-packages/ipykernel_launcher.py:1: SettingWithCopyWarning: \n",
      "A value is trying to be set on a copy of a slice from a DataFrame.\n",
      "Try using .loc[row_indexer,col_indexer] = value instead\n",
      "\n",
      "See the caveats in the documentation: http://pandas.pydata.org/pandas-docs/stable/user_guide/indexing.html#returning-a-view-versus-a-copy\n",
      "  \"\"\"Entry point for launching an IPython kernel.\n"
     ]
    }
   ],
   "source": [
    "away['home?'] = False"
   ]
  },
  {
   "cell_type": "code",
   "execution_count": 303,
   "metadata": {
    "ExecuteTime": {
     "end_time": "2020-05-11T22:33:38.589358Z",
     "start_time": "2020-05-11T22:33:38.568689Z"
    }
   },
   "outputs": [],
   "source": [
    "frames = [home, away]\n",
    "game_results = pd.concat(frames, sort=True)"
   ]
  },
  {
   "cell_type": "code",
   "execution_count": 304,
   "metadata": {
    "ExecuteTime": {
     "end_time": "2020-05-11T22:33:46.930178Z",
     "start_time": "2020-05-11T22:33:46.894289Z"
    }
   },
   "outputs": [
    {
     "data": {
      "text/html": [
       "<div>\n",
       "<style scoped>\n",
       "    .dataframe tbody tr th:only-of-type {\n",
       "        vertical-align: middle;\n",
       "    }\n",
       "\n",
       "    .dataframe tbody tr th {\n",
       "        vertical-align: top;\n",
       "    }\n",
       "\n",
       "    .dataframe thead th {\n",
       "        text-align: right;\n",
       "    }\n",
       "</style>\n",
       "<table border=\"1\" class=\"dataframe\">\n",
       "  <thead>\n",
       "    <tr style=\"text-align: right;\">\n",
       "      <th></th>\n",
       "      <th>Game_Number</th>\n",
       "      <th>INT</th>\n",
       "      <th>OT</th>\n",
       "      <th>TOP</th>\n",
       "      <th>Week</th>\n",
       "      <th>combined_points</th>\n",
       "      <th>completion_percentage</th>\n",
       "      <th>defensive_plays</th>\n",
       "      <th>game_date_time</th>\n",
       "      <th>home?</th>\n",
       "      <th>...</th>\n",
       "      <th>rushing_yards_per_attempt</th>\n",
       "      <th>sack_yards_lost</th>\n",
       "      <th>spread</th>\n",
       "      <th>team</th>\n",
       "      <th>times_sacked</th>\n",
       "      <th>total_yards</th>\n",
       "      <th>turnovers_lost</th>\n",
       "      <th>vs_line</th>\n",
       "      <th>yards_allowed_per_defensive_play</th>\n",
       "      <th>yards_per_play_offense</th>\n",
       "    </tr>\n",
       "  </thead>\n",
       "  <tbody>\n",
       "    <tr>\n",
       "      <td>0</td>\n",
       "      <td>20.0</td>\n",
       "      <td>2.0</td>\n",
       "      <td>0</td>\n",
       "      <td>0.553611</td>\n",
       "      <td>21.0</td>\n",
       "      <td>51.0</td>\n",
       "      <td>61.9</td>\n",
       "      <td>54.0</td>\n",
       "      <td>2020-02-02 06:30:00</td>\n",
       "      <td>True</td>\n",
       "      <td>...</td>\n",
       "      <td>4.45</td>\n",
       "      <td>18.0</td>\n",
       "      <td>1.5</td>\n",
       "      <td>KAN</td>\n",
       "      <td>4.0</td>\n",
       "      <td>397.0</td>\n",
       "      <td>2.0</td>\n",
       "      <td>1</td>\n",
       "      <td>6.5000</td>\n",
       "      <td>5.293333</td>\n",
       "    </tr>\n",
       "    <tr>\n",
       "      <td>1</td>\n",
       "      <td>19.0</td>\n",
       "      <td>0.0</td>\n",
       "      <td>0</td>\n",
       "      <td>0.479722</td>\n",
       "      <td>20.0</td>\n",
       "      <td>57.0</td>\n",
       "      <td>75.0</td>\n",
       "      <td>58.0</td>\n",
       "      <td>2020-01-19 03:40:00</td>\n",
       "      <td>True</td>\n",
       "      <td>...</td>\n",
       "      <td>6.79</td>\n",
       "      <td>8.0</td>\n",
       "      <td>8.0</td>\n",
       "      <td>SFO</td>\n",
       "      <td>1.0</td>\n",
       "      <td>354.0</td>\n",
       "      <td>0.0</td>\n",
       "      <td>1</td>\n",
       "      <td>6.1724</td>\n",
       "      <td>6.941176</td>\n",
       "    </tr>\n",
       "    <tr>\n",
       "      <td>2</td>\n",
       "      <td>20.0</td>\n",
       "      <td>0.0</td>\n",
       "      <td>0</td>\n",
       "      <td>0.497222</td>\n",
       "      <td>20.0</td>\n",
       "      <td>59.0</td>\n",
       "      <td>65.7</td>\n",
       "      <td>58.0</td>\n",
       "      <td>2020-01-19 02:05:00</td>\n",
       "      <td>True</td>\n",
       "      <td>...</td>\n",
       "      <td>4.15</td>\n",
       "      <td>2.0</td>\n",
       "      <td>7.5</td>\n",
       "      <td>KAN</td>\n",
       "      <td>2.0</td>\n",
       "      <td>404.0</td>\n",
       "      <td>0.0</td>\n",
       "      <td>1</td>\n",
       "      <td>5.0862</td>\n",
       "      <td>6.312500</td>\n",
       "    </tr>\n",
       "    <tr>\n",
       "      <td>3</td>\n",
       "      <td>19.0</td>\n",
       "      <td>0.0</td>\n",
       "      <td>0</td>\n",
       "      <td>0.423611</td>\n",
       "      <td>19.0</td>\n",
       "      <td>82.0</td>\n",
       "      <td>65.7</td>\n",
       "      <td>78.0</td>\n",
       "      <td>2020-01-12 02:05:00</td>\n",
       "      <td>True</td>\n",
       "      <td>...</td>\n",
       "      <td>5.62</td>\n",
       "      <td>5.0</td>\n",
       "      <td>10.0</td>\n",
       "      <td>KAN</td>\n",
       "      <td>1.0</td>\n",
       "      <td>434.0</td>\n",
       "      <td>1.0</td>\n",
       "      <td>1</td>\n",
       "      <td>5.6667</td>\n",
       "      <td>7.614035</td>\n",
       "    </tr>\n",
       "    <tr>\n",
       "      <td>4</td>\n",
       "      <td>19.0</td>\n",
       "      <td>0.0</td>\n",
       "      <td>0</td>\n",
       "      <td>0.491389</td>\n",
       "      <td>19.0</td>\n",
       "      <td>51.0</td>\n",
       "      <td>59.3</td>\n",
       "      <td>60.0</td>\n",
       "      <td>2020-01-12 05:40:00</td>\n",
       "      <td>True</td>\n",
       "      <td>...</td>\n",
       "      <td>3.63</td>\n",
       "      <td>8.0</td>\n",
       "      <td>4.5</td>\n",
       "      <td>GNB</td>\n",
       "      <td>2.0</td>\n",
       "      <td>344.0</td>\n",
       "      <td>0.0</td>\n",
       "      <td>1</td>\n",
       "      <td>6.2500</td>\n",
       "      <td>5.830508</td>\n",
       "    </tr>\n",
       "  </tbody>\n",
       "</table>\n",
       "<p>5 rows × 34 columns</p>\n",
       "</div>"
      ],
      "text/plain": [
       "   Game_Number  INT  OT       TOP  Week  combined_points  \\\n",
       "0         20.0  2.0   0  0.553611  21.0             51.0   \n",
       "1         19.0  0.0   0  0.479722  20.0             57.0   \n",
       "2         20.0  0.0   0  0.497222  20.0             59.0   \n",
       "3         19.0  0.0   0  0.423611  19.0             82.0   \n",
       "4         19.0  0.0   0  0.491389  19.0             51.0   \n",
       "\n",
       "   completion_percentage  defensive_plays      game_date_time  home?  ...  \\\n",
       "0                   61.9             54.0 2020-02-02 06:30:00   True  ...   \n",
       "1                   75.0             58.0 2020-01-19 03:40:00   True  ...   \n",
       "2                   65.7             58.0 2020-01-19 02:05:00   True  ...   \n",
       "3                   65.7             78.0 2020-01-12 02:05:00   True  ...   \n",
       "4                   59.3             60.0 2020-01-12 05:40:00   True  ...   \n",
       "\n",
       "   rushing_yards_per_attempt  sack_yards_lost  spread  team  times_sacked  \\\n",
       "0                       4.45             18.0     1.5   KAN           4.0   \n",
       "1                       6.79              8.0     8.0   SFO           1.0   \n",
       "2                       4.15              2.0     7.5   KAN           2.0   \n",
       "3                       5.62              5.0    10.0   KAN           1.0   \n",
       "4                       3.63              8.0     4.5   GNB           2.0   \n",
       "\n",
       "   total_yards  turnovers_lost  vs_line  yards_allowed_per_defensive_play  \\\n",
       "0        397.0             2.0        1                            6.5000   \n",
       "1        354.0             0.0        1                            6.1724   \n",
       "2        404.0             0.0        1                            5.0862   \n",
       "3        434.0             1.0        1                            5.6667   \n",
       "4        344.0             0.0        1                            6.2500   \n",
       "\n",
       "   yards_per_play_offense  \n",
       "0                5.293333  \n",
       "1                6.941176  \n",
       "2                6.312500  \n",
       "3                7.614035  \n",
       "4                5.830508  \n",
       "\n",
       "[5 rows x 34 columns]"
      ]
     },
     "execution_count": 304,
     "metadata": {},
     "output_type": "execute_result"
    }
   ],
   "source": [
    "game_results.head()"
   ]
  },
  {
   "cell_type": "code",
   "execution_count": 305,
   "metadata": {
    "ExecuteTime": {
     "end_time": "2020-05-11T22:34:21.307626Z",
     "start_time": "2020-05-11T22:34:21.301754Z"
    }
   },
   "outputs": [
    {
     "data": {
      "text/plain": [
       "Index(['Game_Number', 'INT', 'OT', 'TOP', 'Week', 'combined_points',\n",
       "       'completion_percentage', 'defensive_plays', 'game_date_time', 'home?',\n",
       "       'offensive_plays', 'over_under', 'over_under_result', 'pass_attempts',\n",
       "       'passer_rating', 'passing_TD', 'passing_completions', 'passing_yards',\n",
       "       'point_differential', 'points', 'result', 'rush_attempts', 'rushing_TD',\n",
       "       'rushing_yards', 'rushing_yards_per_attempt', 'sack_yards_lost',\n",
       "       'spread', 'team', 'times_sacked', 'total_yards', 'turnovers_lost',\n",
       "       'vs_line', 'yards_allowed_per_defensive_play',\n",
       "       'yards_per_play_offense'],\n",
       "      dtype='object')"
      ]
     },
     "execution_count": 305,
     "metadata": {},
     "output_type": "execute_result"
    }
   ],
   "source": [
    "game_results.columns"
   ]
  },
  {
   "cell_type": "code",
   "execution_count": 306,
   "metadata": {
    "ExecuteTime": {
     "end_time": "2020-05-11T22:37:55.797694Z",
     "start_time": "2020-05-11T22:37:55.791246Z"
    }
   },
   "outputs": [
    {
     "data": {
      "text/plain": [
       "(534, 34)"
      ]
     },
     "execution_count": 306,
     "metadata": {},
     "output_type": "execute_result"
    }
   ],
   "source": [
    "game_results.shape"
   ]
  },
  {
   "cell_type": "code",
   "execution_count": 311,
   "metadata": {
    "ExecuteTime": {
     "end_time": "2020-05-11T22:43:35.645715Z",
     "start_time": "2020-05-11T22:43:35.640074Z"
    }
   },
   "outputs": [
    {
     "data": {
      "text/plain": [
       "array(['KAN', 'SFO', 'GNB', 'BAL', 'NOR', 'PHI', 'HOU', 'NWE', 'TAM',\n",
       "       'NYJ', 'CLE', 'LAR', 'TEN', 'IND', 'CHI', 'DEN', 'PIT', 'DAL',\n",
       "       'MIN', 'SEA', 'ATL', 'CIN', 'LAC', 'NYG', 'OAK', 'CAR', 'BUF',\n",
       "       'DET', 'WAS', 'JAX', 'ARI', 'MIA'], dtype=object)"
      ]
     },
     "execution_count": 311,
     "metadata": {},
     "output_type": "execute_result"
    }
   ],
   "source": [
    "game_results['team'].unique()"
   ]
  },
  {
   "cell_type": "code",
   "execution_count": 307,
   "metadata": {
    "ExecuteTime": {
     "end_time": "2020-05-11T22:39:19.521661Z",
     "start_time": "2020-05-11T22:39:19.515518Z"
    }
   },
   "outputs": [],
   "source": [
    "from sklearn import preprocessing"
   ]
  },
  {
   "cell_type": "code",
   "execution_count": 310,
   "metadata": {
    "ExecuteTime": {
     "end_time": "2020-05-11T22:42:31.442684Z",
     "start_time": "2020-05-11T22:42:31.429387Z"
    }
   },
   "outputs": [
    {
     "data": {
      "text/plain": [
       "LabelEncoder()"
      ]
     },
     "execution_count": 310,
     "metadata": {},
     "output_type": "execute_result"
    }
   ],
   "source": [
    "le = preprocessing.LabelEncoder()\n",
    "le.fit(list(game_results['team'].unique()))"
   ]
  },
  {
   "cell_type": "code",
   "execution_count": 318,
   "metadata": {
    "ExecuteTime": {
     "end_time": "2020-05-11T22:57:35.859378Z",
     "start_time": "2020-05-11T22:57:35.855207Z"
    }
   },
   "outputs": [],
   "source": [
    "from sklearn.preprocessing import OneHotEncoder"
   ]
  },
  {
   "cell_type": "code",
   "execution_count": 319,
   "metadata": {
    "ExecuteTime": {
     "end_time": "2020-05-11T22:57:37.578105Z",
     "start_time": "2020-05-11T22:57:37.533667Z"
    }
   },
   "outputs": [
    {
     "ename": "TypeError",
     "evalue": "int() argument must be a string, a bytes-like object or a number, not 'Timestamp'",
     "output_type": "error",
     "traceback": [
      "\u001b[0;31m---------------------------------------------------------------------------\u001b[0m",
      "\u001b[0;31mTypeError\u001b[0m                                 Traceback (most recent call last)",
      "\u001b[0;32m<ipython-input-319-92519168495a>\u001b[0m in \u001b[0;36m<module>\u001b[0;34m\u001b[0m\n\u001b[0;32m----> 1\u001b[0;31m \u001b[0mOneHotEncoder\u001b[0m\u001b[0;34m(\u001b[0m\u001b[0;34m)\u001b[0m\u001b[0;34m.\u001b[0m\u001b[0mfit_transform\u001b[0m\u001b[0;34m(\u001b[0m\u001b[0mgame_results\u001b[0m\u001b[0;34m)\u001b[0m\u001b[0;34m\u001b[0m\u001b[0;34m\u001b[0m\u001b[0m\n\u001b[0m",
      "\u001b[0;32m~/anaconda3/lib/python3.7/site-packages/sklearn/preprocessing/_encoders.py\u001b[0m in \u001b[0;36mfit_transform\u001b[0;34m(self, X, y)\u001b[0m\n\u001b[1;32m    622\u001b[0m         \u001b[0mself\u001b[0m\u001b[0;34m.\u001b[0m\u001b[0m_validate_keywords\u001b[0m\u001b[0;34m(\u001b[0m\u001b[0;34m)\u001b[0m\u001b[0;34m\u001b[0m\u001b[0;34m\u001b[0m\u001b[0m\n\u001b[1;32m    623\u001b[0m \u001b[0;34m\u001b[0m\u001b[0m\n\u001b[0;32m--> 624\u001b[0;31m         \u001b[0mself\u001b[0m\u001b[0;34m.\u001b[0m\u001b[0m_handle_deprecations\u001b[0m\u001b[0;34m(\u001b[0m\u001b[0mX\u001b[0m\u001b[0;34m)\u001b[0m\u001b[0;34m\u001b[0m\u001b[0;34m\u001b[0m\u001b[0m\n\u001b[0m\u001b[1;32m    625\u001b[0m \u001b[0;34m\u001b[0m\u001b[0m\n\u001b[1;32m    626\u001b[0m         \u001b[0;32mif\u001b[0m \u001b[0mself\u001b[0m\u001b[0;34m.\u001b[0m\u001b[0m_legacy_mode\u001b[0m\u001b[0;34m:\u001b[0m\u001b[0;34m\u001b[0m\u001b[0;34m\u001b[0m\u001b[0m\n",
      "\u001b[0;32m~/anaconda3/lib/python3.7/site-packages/sklearn/preprocessing/_encoders.py\u001b[0m in \u001b[0;36m_handle_deprecations\u001b[0;34m(self, X)\u001b[0m\n\u001b[1;32m    393\u001b[0m                 \u001b[0;31m# check if we have integer or categorical input\u001b[0m\u001b[0;34m\u001b[0m\u001b[0;34m\u001b[0m\u001b[0;34m\u001b[0m\u001b[0m\n\u001b[1;32m    394\u001b[0m                 \u001b[0;32mtry\u001b[0m\u001b[0;34m:\u001b[0m\u001b[0;34m\u001b[0m\u001b[0;34m\u001b[0m\u001b[0m\n\u001b[0;32m--> 395\u001b[0;31m                     \u001b[0mcheck_array\u001b[0m\u001b[0;34m(\u001b[0m\u001b[0mX\u001b[0m\u001b[0;34m,\u001b[0m \u001b[0mdtype\u001b[0m\u001b[0;34m=\u001b[0m\u001b[0mnp\u001b[0m\u001b[0;34m.\u001b[0m\u001b[0mint\u001b[0m\u001b[0;34m)\u001b[0m\u001b[0;34m\u001b[0m\u001b[0;34m\u001b[0m\u001b[0m\n\u001b[0m\u001b[1;32m    396\u001b[0m                 \u001b[0;32mexcept\u001b[0m \u001b[0mValueError\u001b[0m\u001b[0;34m:\u001b[0m\u001b[0;34m\u001b[0m\u001b[0;34m\u001b[0m\u001b[0m\n\u001b[1;32m    397\u001b[0m                     \u001b[0mself\u001b[0m\u001b[0;34m.\u001b[0m\u001b[0m_legacy_mode\u001b[0m \u001b[0;34m=\u001b[0m \u001b[0;32mFalse\u001b[0m\u001b[0;34m\u001b[0m\u001b[0;34m\u001b[0m\u001b[0m\n",
      "\u001b[0;32m~/anaconda3/lib/python3.7/site-packages/sklearn/utils/validation.py\u001b[0m in \u001b[0;36mcheck_array\u001b[0;34m(array, accept_sparse, accept_large_sparse, dtype, order, copy, force_all_finite, ensure_2d, allow_nd, ensure_min_samples, ensure_min_features, warn_on_dtype, estimator)\u001b[0m\n\u001b[1;32m    494\u001b[0m             \u001b[0;32mtry\u001b[0m\u001b[0;34m:\u001b[0m\u001b[0;34m\u001b[0m\u001b[0;34m\u001b[0m\u001b[0m\n\u001b[1;32m    495\u001b[0m                 \u001b[0mwarnings\u001b[0m\u001b[0;34m.\u001b[0m\u001b[0msimplefilter\u001b[0m\u001b[0;34m(\u001b[0m\u001b[0;34m'error'\u001b[0m\u001b[0;34m,\u001b[0m \u001b[0mComplexWarning\u001b[0m\u001b[0;34m)\u001b[0m\u001b[0;34m\u001b[0m\u001b[0;34m\u001b[0m\u001b[0m\n\u001b[0;32m--> 496\u001b[0;31m                 \u001b[0marray\u001b[0m \u001b[0;34m=\u001b[0m \u001b[0mnp\u001b[0m\u001b[0;34m.\u001b[0m\u001b[0masarray\u001b[0m\u001b[0;34m(\u001b[0m\u001b[0marray\u001b[0m\u001b[0;34m,\u001b[0m \u001b[0mdtype\u001b[0m\u001b[0;34m=\u001b[0m\u001b[0mdtype\u001b[0m\u001b[0;34m,\u001b[0m \u001b[0morder\u001b[0m\u001b[0;34m=\u001b[0m\u001b[0morder\u001b[0m\u001b[0;34m)\u001b[0m\u001b[0;34m\u001b[0m\u001b[0;34m\u001b[0m\u001b[0m\n\u001b[0m\u001b[1;32m    497\u001b[0m             \u001b[0;32mexcept\u001b[0m \u001b[0mComplexWarning\u001b[0m\u001b[0;34m:\u001b[0m\u001b[0;34m\u001b[0m\u001b[0;34m\u001b[0m\u001b[0m\n\u001b[1;32m    498\u001b[0m                 raise ValueError(\"Complex data not supported\\n\"\n",
      "\u001b[0;32m~/anaconda3/lib/python3.7/site-packages/numpy/core/_asarray.py\u001b[0m in \u001b[0;36masarray\u001b[0;34m(a, dtype, order)\u001b[0m\n\u001b[1;32m     83\u001b[0m \u001b[0;34m\u001b[0m\u001b[0m\n\u001b[1;32m     84\u001b[0m     \"\"\"\n\u001b[0;32m---> 85\u001b[0;31m     \u001b[0;32mreturn\u001b[0m \u001b[0marray\u001b[0m\u001b[0;34m(\u001b[0m\u001b[0ma\u001b[0m\u001b[0;34m,\u001b[0m \u001b[0mdtype\u001b[0m\u001b[0;34m,\u001b[0m \u001b[0mcopy\u001b[0m\u001b[0;34m=\u001b[0m\u001b[0;32mFalse\u001b[0m\u001b[0;34m,\u001b[0m \u001b[0morder\u001b[0m\u001b[0;34m=\u001b[0m\u001b[0morder\u001b[0m\u001b[0;34m)\u001b[0m\u001b[0;34m\u001b[0m\u001b[0;34m\u001b[0m\u001b[0m\n\u001b[0m\u001b[1;32m     86\u001b[0m \u001b[0;34m\u001b[0m\u001b[0m\n\u001b[1;32m     87\u001b[0m \u001b[0;34m\u001b[0m\u001b[0m\n",
      "\u001b[0;31mTypeError\u001b[0m: int() argument must be a string, a bytes-like object or a number, not 'Timestamp'"
     ]
    }
   ],
   "source": [
    "OneHotEncoder().fit_transform(game_results)"
   ]
  },
  {
   "cell_type": "code",
   "execution_count": 331,
   "metadata": {
    "ExecuteTime": {
     "end_time": "2020-05-11T23:03:49.794934Z",
     "start_time": "2020-05-11T23:03:49.771116Z"
    }
   },
   "outputs": [],
   "source": [
    "w1_4 = game_results[game_results['Week'] < 5]\n",
    "w5 = game_results[game_results['Week'] == 5]"
   ]
  },
  {
   "cell_type": "code",
   "execution_count": 332,
   "metadata": {
    "ExecuteTime": {
     "end_time": "2020-05-11T23:03:51.913922Z",
     "start_time": "2020-05-11T23:03:51.894776Z"
    }
   },
   "outputs": [],
   "source": [
    "w1_4 = w1_4.drop(columns='game_date_time')\n",
    "w5 = w5.drop(columns='game_date_time')"
   ]
  },
  {
   "cell_type": "code",
   "execution_count": 328,
   "metadata": {
    "ExecuteTime": {
     "end_time": "2020-05-11T23:02:18.356344Z",
     "start_time": "2020-05-11T23:02:18.331484Z"
    }
   },
   "outputs": [],
   "source": []
  },
  {
   "cell_type": "code",
   "execution_count": 327,
   "metadata": {
    "ExecuteTime": {
     "end_time": "2020-05-11T23:02:08.539970Z",
     "start_time": "2020-05-11T23:02:08.504844Z"
    }
   },
   "outputs": [],
   "source": []
  },
  {
   "cell_type": "code",
   "execution_count": 330,
   "metadata": {
    "ExecuteTime": {
     "end_time": "2020-05-11T23:02:44.655674Z",
     "start_time": "2020-05-11T23:02:44.646154Z"
    }
   },
   "outputs": [
    {
     "data": {
      "text/plain": [
       "<126x1428 sparse matrix of type '<class 'numpy.float64'>'\n",
       "\twith 4158 stored elements in Compressed Sparse Row format>"
      ]
     },
     "execution_count": 330,
     "metadata": {},
     "output_type": "execute_result"
    }
   ],
   "source": []
  },
  {
   "cell_type": "code",
   "execution_count": 333,
   "metadata": {
    "ExecuteTime": {
     "end_time": "2020-05-11T23:03:57.062435Z",
     "start_time": "2020-05-11T23:03:57.049270Z"
    }
   },
   "outputs": [],
   "source": [
    "X_train = w1_4.drop(columns=['over_under_result', 'point_differential', \n",
    "                             'points', 'result', 'combined_points', 'vs_line'])\n",
    "y_train = w1_4['result']\n",
    "\n",
    "X_test = w5.drop(columns=['over_under_result', 'point_differential', \n",
    "                             'points', 'result', 'combined_points', 'vs_line'])\n",
    "y_test = w5['result']"
   ]
  },
  {
   "cell_type": "code",
   "execution_count": 334,
   "metadata": {
    "ExecuteTime": {
     "end_time": "2020-05-11T23:06:23.733760Z",
     "start_time": "2020-05-11T23:06:23.662917Z"
    }
   },
   "outputs": [],
   "source": [
    "X_train = OneHotEncoder().fit_transform(X_train)\n",
    "X_test = OneHotEncoder().fit_transform(X_test)"
   ]
  },
  {
   "cell_type": "code",
   "execution_count": 339,
   "metadata": {
    "ExecuteTime": {
     "end_time": "2020-05-11T23:12:34.861600Z",
     "start_time": "2020-05-11T23:12:34.855553Z"
    }
   },
   "outputs": [
    {
     "data": {
      "text/plain": [
       "(126, 1315)"
      ]
     },
     "execution_count": 339,
     "metadata": {},
     "output_type": "execute_result"
    }
   ],
   "source": [
    "X_train.shape"
   ]
  },
  {
   "cell_type": "code",
   "execution_count": 338,
   "metadata": {
    "ExecuteTime": {
     "end_time": "2020-05-11T23:12:19.607377Z",
     "start_time": "2020-05-11T23:12:19.542706Z"
    }
   },
   "outputs": [
    {
     "name": "stderr",
     "output_type": "stream",
     "text": [
      "/home/robert/anaconda3/lib/python3.7/site-packages/sklearn/ensemble/forest.py:245: FutureWarning: The default value of n_estimators will change from 10 in version 0.20 to 100 in 0.22.\n",
      "  \"10 in version 0.20 to 100 in 0.22.\", FutureWarning)\n"
     ]
    },
    {
     "data": {
      "text/plain": [
       "RandomForestClassifier(bootstrap=True, class_weight=None, criterion='gini',\n",
       "                       max_depth=None, max_features='auto', max_leaf_nodes=None,\n",
       "                       min_impurity_decrease=0.0, min_impurity_split=None,\n",
       "                       min_samples_leaf=1, min_samples_split=2,\n",
       "                       min_weight_fraction_leaf=0.0, n_estimators=10,\n",
       "                       n_jobs=None, oob_score=False, random_state=None,\n",
       "                       verbose=0, warm_start=False)"
      ]
     },
     "execution_count": 338,
     "metadata": {},
     "output_type": "execute_result"
    }
   ],
   "source": [
    "rf = RandomForestClassifier()\n",
    "rf.fit(X_train, y_train)"
   ]
  },
  {
   "cell_type": "code",
   "execution_count": 336,
   "metadata": {
    "ExecuteTime": {
     "end_time": "2020-05-11T23:09:04.339115Z",
     "start_time": "2020-05-11T23:09:04.283648Z"
    }
   },
   "outputs": [
    {
     "ename": "ValueError",
     "evalue": "Number of features of the model must match the input. Model n_features is 1315 and input n_features is 461 ",
     "output_type": "error",
     "traceback": [
      "\u001b[0;31m---------------------------------------------------------------------------\u001b[0m",
      "\u001b[0;31mValueError\u001b[0m                                Traceback (most recent call last)",
      "\u001b[0;32m<ipython-input-336-6d64af64267b>\u001b[0m in \u001b[0;36m<module>\u001b[0;34m\u001b[0m\n\u001b[0;32m----> 1\u001b[0;31m \u001b[0mrf\u001b[0m\u001b[0;34m.\u001b[0m\u001b[0mscore\u001b[0m\u001b[0;34m(\u001b[0m\u001b[0mX_test\u001b[0m\u001b[0;34m,\u001b[0m \u001b[0my_test\u001b[0m\u001b[0;34m)\u001b[0m\u001b[0;34m\u001b[0m\u001b[0;34m\u001b[0m\u001b[0m\n\u001b[0m",
      "\u001b[0;32m~/anaconda3/lib/python3.7/site-packages/sklearn/base.py\u001b[0m in \u001b[0;36mscore\u001b[0;34m(self, X, y, sample_weight)\u001b[0m\n\u001b[1;32m    355\u001b[0m         \"\"\"\n\u001b[1;32m    356\u001b[0m         \u001b[0;32mfrom\u001b[0m \u001b[0;34m.\u001b[0m\u001b[0mmetrics\u001b[0m \u001b[0;32mimport\u001b[0m \u001b[0maccuracy_score\u001b[0m\u001b[0;34m\u001b[0m\u001b[0;34m\u001b[0m\u001b[0m\n\u001b[0;32m--> 357\u001b[0;31m         \u001b[0;32mreturn\u001b[0m \u001b[0maccuracy_score\u001b[0m\u001b[0;34m(\u001b[0m\u001b[0my\u001b[0m\u001b[0;34m,\u001b[0m \u001b[0mself\u001b[0m\u001b[0;34m.\u001b[0m\u001b[0mpredict\u001b[0m\u001b[0;34m(\u001b[0m\u001b[0mX\u001b[0m\u001b[0;34m)\u001b[0m\u001b[0;34m,\u001b[0m \u001b[0msample_weight\u001b[0m\u001b[0;34m=\u001b[0m\u001b[0msample_weight\u001b[0m\u001b[0;34m)\u001b[0m\u001b[0;34m\u001b[0m\u001b[0;34m\u001b[0m\u001b[0m\n\u001b[0m\u001b[1;32m    358\u001b[0m \u001b[0;34m\u001b[0m\u001b[0m\n\u001b[1;32m    359\u001b[0m \u001b[0;34m\u001b[0m\u001b[0m\n",
      "\u001b[0;32m~/anaconda3/lib/python3.7/site-packages/sklearn/ensemble/forest.py\u001b[0m in \u001b[0;36mpredict\u001b[0;34m(self, X)\u001b[0m\n\u001b[1;32m    543\u001b[0m             \u001b[0mThe\u001b[0m \u001b[0mpredicted\u001b[0m \u001b[0mclasses\u001b[0m\u001b[0;34m.\u001b[0m\u001b[0;34m\u001b[0m\u001b[0;34m\u001b[0m\u001b[0m\n\u001b[1;32m    544\u001b[0m         \"\"\"\n\u001b[0;32m--> 545\u001b[0;31m         \u001b[0mproba\u001b[0m \u001b[0;34m=\u001b[0m \u001b[0mself\u001b[0m\u001b[0;34m.\u001b[0m\u001b[0mpredict_proba\u001b[0m\u001b[0;34m(\u001b[0m\u001b[0mX\u001b[0m\u001b[0;34m)\u001b[0m\u001b[0;34m\u001b[0m\u001b[0;34m\u001b[0m\u001b[0m\n\u001b[0m\u001b[1;32m    546\u001b[0m \u001b[0;34m\u001b[0m\u001b[0m\n\u001b[1;32m    547\u001b[0m         \u001b[0;32mif\u001b[0m \u001b[0mself\u001b[0m\u001b[0;34m.\u001b[0m\u001b[0mn_outputs_\u001b[0m \u001b[0;34m==\u001b[0m \u001b[0;36m1\u001b[0m\u001b[0;34m:\u001b[0m\u001b[0;34m\u001b[0m\u001b[0;34m\u001b[0m\u001b[0m\n",
      "\u001b[0;32m~/anaconda3/lib/python3.7/site-packages/sklearn/ensemble/forest.py\u001b[0m in \u001b[0;36mpredict_proba\u001b[0;34m(self, X)\u001b[0m\n\u001b[1;32m    586\u001b[0m         \u001b[0mcheck_is_fitted\u001b[0m\u001b[0;34m(\u001b[0m\u001b[0mself\u001b[0m\u001b[0;34m,\u001b[0m \u001b[0;34m'estimators_'\u001b[0m\u001b[0;34m)\u001b[0m\u001b[0;34m\u001b[0m\u001b[0;34m\u001b[0m\u001b[0m\n\u001b[1;32m    587\u001b[0m         \u001b[0;31m# Check data\u001b[0m\u001b[0;34m\u001b[0m\u001b[0;34m\u001b[0m\u001b[0;34m\u001b[0m\u001b[0m\n\u001b[0;32m--> 588\u001b[0;31m         \u001b[0mX\u001b[0m \u001b[0;34m=\u001b[0m \u001b[0mself\u001b[0m\u001b[0;34m.\u001b[0m\u001b[0m_validate_X_predict\u001b[0m\u001b[0;34m(\u001b[0m\u001b[0mX\u001b[0m\u001b[0;34m)\u001b[0m\u001b[0;34m\u001b[0m\u001b[0;34m\u001b[0m\u001b[0m\n\u001b[0m\u001b[1;32m    589\u001b[0m \u001b[0;34m\u001b[0m\u001b[0m\n\u001b[1;32m    590\u001b[0m         \u001b[0;31m# Assign chunk of trees to jobs\u001b[0m\u001b[0;34m\u001b[0m\u001b[0;34m\u001b[0m\u001b[0;34m\u001b[0m\u001b[0m\n",
      "\u001b[0;32m~/anaconda3/lib/python3.7/site-packages/sklearn/ensemble/forest.py\u001b[0m in \u001b[0;36m_validate_X_predict\u001b[0;34m(self, X)\u001b[0m\n\u001b[1;32m    357\u001b[0m                                  \"call `fit` before exploiting the model.\")\n\u001b[1;32m    358\u001b[0m \u001b[0;34m\u001b[0m\u001b[0m\n\u001b[0;32m--> 359\u001b[0;31m         \u001b[0;32mreturn\u001b[0m \u001b[0mself\u001b[0m\u001b[0;34m.\u001b[0m\u001b[0mestimators_\u001b[0m\u001b[0;34m[\u001b[0m\u001b[0;36m0\u001b[0m\u001b[0;34m]\u001b[0m\u001b[0;34m.\u001b[0m\u001b[0m_validate_X_predict\u001b[0m\u001b[0;34m(\u001b[0m\u001b[0mX\u001b[0m\u001b[0;34m,\u001b[0m \u001b[0mcheck_input\u001b[0m\u001b[0;34m=\u001b[0m\u001b[0;32mTrue\u001b[0m\u001b[0;34m)\u001b[0m\u001b[0;34m\u001b[0m\u001b[0;34m\u001b[0m\u001b[0m\n\u001b[0m\u001b[1;32m    360\u001b[0m \u001b[0;34m\u001b[0m\u001b[0m\n\u001b[1;32m    361\u001b[0m     \u001b[0;34m@\u001b[0m\u001b[0mproperty\u001b[0m\u001b[0;34m\u001b[0m\u001b[0;34m\u001b[0m\u001b[0m\n",
      "\u001b[0;32m~/anaconda3/lib/python3.7/site-packages/sklearn/tree/tree.py\u001b[0m in \u001b[0;36m_validate_X_predict\u001b[0;34m(self, X, check_input)\u001b[0m\n\u001b[1;32m    400\u001b[0m                              \u001b[0;34m\"match the input. Model n_features is %s and \"\u001b[0m\u001b[0;34m\u001b[0m\u001b[0;34m\u001b[0m\u001b[0m\n\u001b[1;32m    401\u001b[0m                              \u001b[0;34m\"input n_features is %s \"\u001b[0m\u001b[0;34m\u001b[0m\u001b[0;34m\u001b[0m\u001b[0m\n\u001b[0;32m--> 402\u001b[0;31m                              % (self.n_features_, n_features))\n\u001b[0m\u001b[1;32m    403\u001b[0m \u001b[0;34m\u001b[0m\u001b[0m\n\u001b[1;32m    404\u001b[0m         \u001b[0;32mreturn\u001b[0m \u001b[0mX\u001b[0m\u001b[0;34m\u001b[0m\u001b[0;34m\u001b[0m\u001b[0m\n",
      "\u001b[0;31mValueError\u001b[0m: Number of features of the model must match the input. Model n_features is 1315 and input n_features is 461 "
     ]
    }
   ],
   "source": [
    "rf.score(X_test, y_test)"
   ]
  },
  {
   "cell_type": "code",
   "execution_count": null,
   "metadata": {},
   "outputs": [],
   "source": []
  }
 ],
 "metadata": {
  "kernelspec": {
   "display_name": "Python 3",
   "language": "python",
   "name": "python3"
  },
  "language_info": {
   "codemirror_mode": {
    "name": "ipython",
    "version": 3
   },
   "file_extension": ".py",
   "mimetype": "text/x-python",
   "name": "python",
   "nbconvert_exporter": "python",
   "pygments_lexer": "ipython3",
   "version": "3.7.4"
  }
 },
 "nbformat": 4,
 "nbformat_minor": 2
}
