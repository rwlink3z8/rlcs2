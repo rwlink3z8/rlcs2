{
 "cells": [
  {
   "cell_type": "code",
   "execution_count": 1,
   "metadata": {
    "ExecuteTime": {
     "end_time": "2020-06-20T15:23:02.287948Z",
     "start_time": "2020-06-20T15:23:00.914473Z"
    }
   },
   "outputs": [],
   "source": [
    "import matplotlib.pyplot as plt\n",
    "import numpy as np\n",
    "import pandas as pd\n",
    "import requests\n",
    "from bs4 import BeautifulSoup, Comment\n",
    "import re\n",
    "import json\n",
    "import time"
   ]
  },
  {
   "cell_type": "code",
   "execution_count": 210,
   "metadata": {
    "ExecuteTime": {
     "end_time": "2020-06-12T16:35:30.963251Z",
     "start_time": "2020-06-12T16:35:28.089707Z"
    }
   },
   "outputs": [],
   "source": [
    "from sklearn.ensemble import GradientBoostingClassifier"
   ]
  },
  {
   "cell_type": "code",
   "execution_count": 3,
   "metadata": {
    "ExecuteTime": {
     "end_time": "2020-06-20T15:25:28.450176Z",
     "start_time": "2020-06-20T15:25:28.439672Z"
    }
   },
   "outputs": [],
   "source": [
    "from scraper_61920 import scrape_stats as ss62020"
   ]
  },
  {
   "cell_type": "code",
   "execution_count": 4,
   "metadata": {
    "ExecuteTime": {
     "end_time": "2020-06-20T15:26:14.716496Z",
     "start_time": "2020-06-20T15:26:07.576611Z"
    }
   },
   "outputs": [
    {
     "name": "stderr",
     "output_type": "stream",
     "text": [
      "/home/robert/HWsprints/capstone2/scraper_61920.py:150: SettingWithCopyWarning: \n",
      "A value is trying to be set on a copy of a slice from a DataFrame.\n",
      "Try using .loc[row_indexer,col_indexer] = value instead\n",
      "\n",
      "See the caveats in the documentation: http://pandas.pydata.org/pandas-docs/stable/user_guide/indexing.html#returning-a-view-versus-a-copy\n",
      "  new['week'] = new['week'].apply(lambda x: int(x))\n",
      "/home/robert/HWsprints/capstone2/scraper_61920.py:151: SettingWithCopyWarning: \n",
      "A value is trying to be set on a copy of a slice from a DataFrame.\n",
      "Try using .loc[row_indexer,col_indexer] = value instead\n",
      "\n",
      "See the caveats in the documentation: http://pandas.pydata.org/pandas-docs/stable/user_guide/indexing.html#returning-a-view-versus-a-copy\n",
      "  new['Game_Number'] = new['Game_Number'].apply(lambda x: int(x))\n",
      "/home/robert/HWsprints/capstone2/scraper_61920.py:161: SettingWithCopyWarning: \n",
      "A value is trying to be set on a copy of a slice from a DataFrame.\n",
      "Try using .loc[row_indexer,col_indexer] = value instead\n",
      "\n",
      "See the caveats in the documentation: http://pandas.pydata.org/pandas-docs/stable/user_guide/indexing.html#returning-a-view-versus-a-copy\n",
      "  new1['week'] = new1['week'].apply(lambda x: int(x))\n",
      "/home/robert/HWsprints/capstone2/scraper_61920.py:162: SettingWithCopyWarning: \n",
      "A value is trying to be set on a copy of a slice from a DataFrame.\n",
      "Try using .loc[row_indexer,col_indexer] = value instead\n",
      "\n",
      "See the caveats in the documentation: http://pandas.pydata.org/pandas-docs/stable/user_guide/indexing.html#returning-a-view-versus-a-copy\n",
      "  new1['Game_Number'] = new1['Game_Number'].apply(lambda x: int(x))\n"
     ]
    }
   ],
   "source": [
    "url = \"\"\"https://www.pro-football-reference.com/play-index/tgl_finder.cgi?request=1&match=game&year_min=2019&year_max=2019&game_type=E&game_num_min=0&game_num_max=99&week_num_min=0&week_num_max=99&temperature_gtlt=lt&c1stat=vegas_line&c1comp=gte&c2stat=pass_yds&c2comp=gte&c3stat=points_opp&c3comp=gte&c4stat=rush_yds&c4comp=gte&c5stat=yds_per_play_offense&c5comp=gt&c5val=1.0&order_by=game_date&offset={}\"\"\"\n",
    "\n",
    "url1 = \"\"\"https://www.pro-football-reference.com/play-index/tgl_finder.cgi?request=1&match=game&year_min=2019&year_max=2019&game_type=E&game_num_min=0&game_num_max=99&week_num_min=0&week_num_max=99&temperature_gtlt=lt&c1stat=vegas_line&c1comp=gte&c2stat=over_under&c2comp=gte&c3stat=pass_yds_opp&c3comp=gte&c4stat=rush_yds_opp&c4comp=gte&c5stat=tot_yds_opp&c5comp=gt&c5val=1.0&order_by=game_date&offset={}\"\"\"\n",
    "\n",
    "url2 = \"\"\"https://www.pro-football-reference.com/play-index/tgl_finder.cgi?request=1&match=game&year_min=2019&year_max=2019&game_type=E&game_num_min=0&game_num_max=99&week_num_min=0&week_num_max=99&temperature_gtlt=lt&c1stat=vegas_line&c1comp=gte&c2stat=over_under&c2comp=gte&c3stat=fgm&c3comp=gte&c4stat=fgm_opp&c4comp=gte&c5stat=tot_yds_opp&c5comp=gt&c5val=1.0&order_by=game_date&offset={}\"\"\"\n",
    "\n",
    "url3 = \"\"\"https://www.pro-football-reference.com/play-index/tgl_finder.cgi?request=1&match=game&year_min=2019&year_max=2019&game_type=E&game_num_min=0&game_num_max=99&week_num_min=0&week_num_max=99&temperature_gtlt=lt&c1stat=vegas_line&c1comp=gte&c2stat=pass_yds&c2comp=gte&c3stat=points_opp&c3comp=gte&c4stat=rush_yds&c4comp=gte&c5stat=penalties_yds&c5comp=gt&c5val=1.0&order_by=game_date&offset={}\"\"\"\n",
    "\n",
    "\n",
    "df = ss62020(url,url1,url2,url3)"
   ]
  },
  {
   "cell_type": "code",
   "execution_count": 5,
   "metadata": {
    "ExecuteTime": {
     "end_time": "2020-06-20T15:29:43.932098Z",
     "start_time": "2020-06-20T15:29:43.925240Z"
    }
   },
   "outputs": [],
   "source": [
    "from scraper_61920 import text_to_num as ttn62020\n",
    "from scraper_61920 import convert_into_float as cif\n",
    "from scraper_61920 import top_ratio as topr\n",
    "from scraper_61920 import time_of_possession_to_ratio as toptr\n",
    "from scraper_61920 import clean_data as c_d\n",
    "from scraper_61920 import format_data as f_data\n",
    "from scraper_61920 import feature_engineer_data as feat_eng_data"
   ]
  },
  {
   "cell_type": "code",
   "execution_count": 6,
   "metadata": {
    "ExecuteTime": {
     "end_time": "2020-06-20T15:30:10.645789Z",
     "start_time": "2020-06-20T15:30:10.577673Z"
    }
   },
   "outputs": [],
   "source": [
    "df = cif(df)"
   ]
  },
  {
   "cell_type": "code",
   "execution_count": 7,
   "metadata": {
    "ExecuteTime": {
     "end_time": "2020-06-20T15:30:22.460857Z",
     "start_time": "2020-06-20T15:30:22.456823Z"
    }
   },
   "outputs": [],
   "source": [
    "df = toptr(df)"
   ]
  },
  {
   "cell_type": "code",
   "execution_count": 8,
   "metadata": {
    "ExecuteTime": {
     "end_time": "2020-06-20T15:30:34.373478Z",
     "start_time": "2020-06-20T15:30:34.349569Z"
    }
   },
   "outputs": [],
   "source": [
    "df = c_d(df)"
   ]
  },
  {
   "cell_type": "code",
   "execution_count": 9,
   "metadata": {
    "ExecuteTime": {
     "end_time": "2020-06-20T15:30:44.273873Z",
     "start_time": "2020-06-20T15:30:44.262182Z"
    }
   },
   "outputs": [],
   "source": [
    "df = f_data(df)"
   ]
  },
  {
   "cell_type": "code",
   "execution_count": 10,
   "metadata": {
    "ExecuteTime": {
     "end_time": "2020-06-20T15:30:57.575792Z",
     "start_time": "2020-06-20T15:30:57.531019Z"
    }
   },
   "outputs": [],
   "source": [
    "df = feat_eng_data(df)"
   ]
  },
  {
   "cell_type": "code",
   "execution_count": null,
   "metadata": {
    "ExecuteTime": {
     "end_time": "2020-06-10T21:45:03.919367Z",
     "start_time": "2020-06-10T21:45:03.885163Z"
    }
   },
   "outputs": [],
   "source": []
  },
  {
   "cell_type": "markdown",
   "metadata": {
    "ExecuteTime": {
     "end_time": "2020-06-10T21:45:05.283703Z",
     "start_time": "2020-06-10T21:45:05.196355Z"
    }
   },
   "source": [
    "# Now we have clean stats for the 2018 season, let's run them for the 2019 season"
   ]
  },
  {
   "cell_type": "code",
   "execution_count": null,
   "metadata": {
    "ExecuteTime": {
     "end_time": "2020-06-10T23:05:38.738814Z",
     "start_time": "2020-06-10T23:05:38.707034Z"
    }
   },
   "outputs": [],
   "source": []
  },
  {
   "cell_type": "code",
   "execution_count": null,
   "metadata": {
    "ExecuteTime": {
     "end_time": "2020-06-12T16:27:54.549653Z",
     "start_time": "2020-06-12T16:27:41.895369Z"
    }
   },
   "outputs": [],
   "source": []
  },
  {
   "cell_type": "code",
   "execution_count": null,
   "metadata": {
    "ExecuteTime": {
     "end_time": "2020-06-12T16:28:23.215281Z",
     "start_time": "2020-06-12T16:28:23.207589Z"
    }
   },
   "outputs": [],
   "source": []
  },
  {
   "cell_type": "code",
   "execution_count": 186,
   "metadata": {
    "ExecuteTime": {
     "end_time": "2020-06-12T16:29:09.837697Z",
     "start_time": "2020-06-12T16:29:09.812960Z"
    }
   },
   "outputs": [],
   "source": []
  },
  {
   "cell_type": "code",
   "execution_count": 187,
   "metadata": {
    "ExecuteTime": {
     "end_time": "2020-06-12T16:29:12.828268Z",
     "start_time": "2020-06-12T16:29:12.806161Z"
    }
   },
   "outputs": [],
   "source": []
  },
  {
   "cell_type": "code",
   "execution_count": 122,
   "metadata": {
    "ExecuteTime": {
     "end_time": "2020-06-12T15:58:43.868171Z",
     "start_time": "2020-06-12T15:58:43.860411Z"
    }
   },
   "outputs": [],
   "source": []
  },
  {
   "cell_type": "code",
   "execution_count": 188,
   "metadata": {
    "ExecuteTime": {
     "end_time": "2020-06-12T16:29:18.267013Z",
     "start_time": "2020-06-12T16:29:18.250432Z"
    }
   },
   "outputs": [],
   "source": []
  },
  {
   "cell_type": "code",
   "execution_count": 154,
   "metadata": {
    "ExecuteTime": {
     "end_time": "2020-06-12T16:18:44.560344Z",
     "start_time": "2020-06-12T16:18:44.539722Z"
    }
   },
   "outputs": [],
   "source": [
    "def spread_scraper(url):\n",
    "\n",
    "    odds = []                                                                                                                                                                                                                                                                                                                                                                                                                                \n",
    "    for i in range(1,18,1):\n",
    "        url = url\n",
    "        odds.append(pd.read_html(url.format(i))[0])\n",
    "\n",
    "    odds = pd.concat(odds)\n",
    "    odds = odds.reset_index()\n",
    "    odds['spread'] = odds['TR Pick'].apply(lambda x: x.split()[-1])\n",
    "    odds['team'] = odds['TR Pick'].apply(lambda x: ' '.join(x.split()[1:-1]))\n",
    "    odds['opponent'] = odds['Opp/Game'].apply(lambda x: ' '.join(x.split()[1:]))\n",
    "    odds['home'] = odds['Opp/Game'].apply(lambda x: ' '.join(x.split()[:1]))\n",
    "    odds['home'] = odds['home'].replace(to_replace=['vs', 'at'], value=[1,0])\n",
    "    odds['away'] = 1 - odds['home']\n",
    "    odds['spread'] = odds['spread'].apply(lambda x: float(x))\n",
    "    odds['opponent_spread'] = -1 * odds['spread']\n",
    "  \n",
    "    td1 = {'Chicago': 'BEARS', 'NY Jets': 'JETS', 'LA Rams': 'RAMS', 'Miami': 'DOLPHINS', 'Jacksonville': 'JAGUARS',\n",
    "            'Tennessee':'TITANS', 'Washington':'REDSKINS', 'Atlanta': 'FALCONS', 'Cincinnati':'BENGALS', 'LA Chargers':'CHARGERS',\n",
    "            'San Francisco':'49ERS', 'Arizona':'CARDINALS','NY Giants':'GIANTS', 'Pittsburgh':'STEELERS','Houston':'TEXANS',\n",
    "            'Denver':'BRONCOS', 'Tampa Bay':'BUCCANEERS','Green Bay':'PACKERS','Dallas':'COWBOYS',\n",
    "            'Baltimore':'RAVENS', 'Buffalo':'BILLS', 'Indianapolis':'COLTS', 'Seattle':'SEAHAWKS',\n",
    "            'Oakland':'RAIDERS','New Orleans':'SAINTS','Cleveland':'BROWNS','Detroit':'LIONS','Philadelphia':'EAGLES',\n",
    "            'Kansas City':'CHIEFS','Minnesota':'VIKINGS','New England':'PATRIOTS', 'Carolina':'PANTHERS'}\n",
    "    \n",
    "    odds['team'] = odds['team'].replace(to_replace=td1.keys(), value=td1.values())\n",
    "    odds['opponent'] = odds['opponent'].replace(to_replace=td1.keys(), value=td1.values())\n",
    "\n",
    "    o1 = odds[['team','opponent', 'home', 'away', 'spread', 'opponent_spread']]\n",
    "    o2 = odds[['opponent', 'team', 'away', 'home', 'opponent_spread', 'spread']]\n",
    "    o2.columns = ['team','opponent', 'home', 'away', 'spread', 'opponent_spread']\n",
    "    frames = [o1,o2]\n",
    "    spread_stats = pd.concat(frames)\n",
    "\n",
    "    return spread_stats"
   ]
  },
  {
   "cell_type": "code",
   "execution_count": 238,
   "metadata": {
    "ExecuteTime": {
     "end_time": "2020-06-13T14:26:32.061988Z",
     "start_time": "2020-06-13T14:26:21.953946Z"
    }
   },
   "outputs": [],
   "source": [
    "url = \"\"\"https://www.teamrankings.com/nfl-ats-picks/?range=week-{}\"\"\"\n",
    "\n",
    "spread_stats_df = spread_scraper(url)"
   ]
  },
  {
   "cell_type": "code",
   "execution_count": null,
   "metadata": {},
   "outputs": [],
   "source": [
    "#need to fix the function that brings up the dataframe, use the older one for now\n",
    "#from cs2take2.ipynb"
   ]
  },
  {
   "cell_type": "code",
   "execution_count": 251,
   "metadata": {
    "ExecuteTime": {
     "end_time": "2020-06-13T14:38:08.774972Z",
     "start_time": "2020-06-13T14:38:08.763265Z"
    }
   },
   "outputs": [],
   "source": [
    "df = pd.read_csv('backup_stats5312020.csv')"
   ]
  },
  {
   "cell_type": "code",
   "execution_count": 252,
   "metadata": {
    "ExecuteTime": {
     "end_time": "2020-06-13T14:38:21.501806Z",
     "start_time": "2020-06-13T14:38:21.496955Z"
    }
   },
   "outputs": [],
   "source": [
    "df['favorite'] = df['spread'] < 0"
   ]
  },
  {
   "cell_type": "code",
   "execution_count": 254,
   "metadata": {
    "ExecuteTime": {
     "end_time": "2020-06-13T14:39:21.918220Z",
     "start_time": "2020-06-13T14:39:21.913494Z"
    }
   },
   "outputs": [],
   "source": [
    "df['favorite'] = df['favorite'].replace(to_replace=[True, False], value=[1,0])"
   ]
  },
  {
   "cell_type": "code",
   "execution_count": 255,
   "metadata": {
    "ExecuteTime": {
     "end_time": "2020-06-13T14:39:37.819662Z",
     "start_time": "2020-06-13T14:39:37.814678Z"
    }
   },
   "outputs": [],
   "source": [
    "df['underdog'] = 1 - df['favorite']"
   ]
  },
  {
   "cell_type": "code",
   "execution_count": null,
   "metadata": {
    "ExecuteTime": {
     "end_time": "2020-06-13T14:35:18.227041Z",
     "start_time": "2020-06-13T14:35:18.136304Z"
    }
   },
   "outputs": [],
   "source": []
  },
  {
   "cell_type": "code",
   "execution_count": null,
   "metadata": {},
   "outputs": [],
   "source": []
  },
  {
   "cell_type": "code",
   "execution_count": null,
   "metadata": {},
   "outputs": [],
   "source": []
  },
  {
   "cell_type": "code",
   "execution_count": null,
   "metadata": {
    "ExecuteTime": {
     "end_time": "2020-06-13T14:26:08.073427Z",
     "start_time": "2020-06-13T14:26:08.060927Z"
    }
   },
   "outputs": [],
   "source": []
  },
  {
   "cell_type": "code",
   "execution_count": 51,
   "metadata": {
    "ExecuteTime": {
     "end_time": "2020-06-12T14:12:09.476057Z",
     "start_time": "2020-06-12T14:11:57.455627Z"
    }
   },
   "outputs": [],
   "source": [
    "from selenium import webdriver\n",
    "from selenium.common.exceptions import NoSuchElementException\n",
    "from selenium.common.exceptions import WebDriverException\n",
    "\n",
    "import logging\n",
    "import time\n",
    "\n",
    "browser = webdriver.Chrome()\n",
    "\n",
    "browser.get(\"https://www.teamrankings.com/nfl-odds-week-4\")\n",
    "time.sleep(2)\n",
    "# unique table class to pull each game, score, and teams closing money line \n",
    "games = browser.find_elements_by_css_selector(\"table.tr-table.space-bottom\")\n",
    "game_list = []\n",
    "for game in games:\n",
    "    # The xpath allows us to drill down into the html of the current game\n",
    "    # You can specify which of the tags you want\n",
    "    # because selinum is written in JavaScript it starts its lists at 1\n",
    "    team1 = game.find_element_by_xpath('./tbody/tr/td/strong/a').text\n",
    "    team2 = game.find_element_by_xpath('./tbody/tr[2]/td/strong/a').text\n",
    "    ml1 = game.find_element_by_xpath('./tbody/tr[1]/td[5]').text\n",
    "    ml2 = game.find_element_by_xpath('./tbody/tr[2]/td[5]').text\n",
    "    score1 = game.find_element_by_xpath('./tbody/tr[1]/td[2]').text\n",
    "    score2 = game.find_element_by_xpath('./tbody/tr[2]/td[2]').text\n",
    "    game_row = (team1, ml1, score1, team2, ml2, score2)\n",
    "    game_list.append(game_row)"
   ]
  },
  {
   "cell_type": "code",
   "execution_count": null,
   "metadata": {
    "ExecuteTime": {
     "end_time": "2020-06-12T14:15:55.543890Z",
     "start_time": "2020-06-12T14:15:55.517405Z"
    }
   },
   "outputs": [],
   "source": []
  },
  {
   "cell_type": "code",
   "execution_count": 53,
   "metadata": {
    "ExecuteTime": {
     "end_time": "2020-06-12T14:15:45.505883Z",
     "start_time": "2020-06-12T14:15:24.482541Z"
    }
   },
   "outputs": [],
   "source": [
    "browser = webdriver.Chrome()\n",
    "\n",
    "browser.get(\"https://www.teamrankings.com/nfl-odds-week-5\")\n",
    "time.sleep(2)\n",
    " \n",
    "games = browser.find_elements_by_css_selector(\"table.tr-table.space-bottom\")\n",
    "game_list5 = []\n",
    "for game in games:\n",
    "    team1 = game.find_element_by_xpath('./tbody/tr/td/strong/a').text\n",
    "    team2 = game.find_element_by_xpath('./tbody/tr[2]/td/strong/a').text\n",
    "    ml1 = game.find_element_by_xpath('./tbody/tr[1]/td[5]').text\n",
    "    ml2 = game.find_element_by_xpath('./tbody/tr[2]/td[5]').text\n",
    "    score1 = game.find_element_by_xpath('./tbody/tr[1]/td[2]').text\n",
    "    score2 = game.find_element_by_xpath('./tbody/tr[2]/td[2]').text\n",
    "    game_row = (team1, ml1, score1, team2, ml2, score2)\n",
    "    game_list5.append(game_row)"
   ]
  },
  {
   "cell_type": "code",
   "execution_count": 297,
   "metadata": {
    "ExecuteTime": {
     "end_time": "2020-06-13T15:00:47.298978Z",
     "start_time": "2020-06-13T15:00:36.214823Z"
    }
   },
   "outputs": [],
   "source": [
    "browser = webdriver.Chrome()\n",
    "browser.get(\"https://www.teamrankings.com/nfl-odds-week-6\")\n",
    "time.sleep(2)  \n",
    "games = browser.find_elements_by_css_selector(\"table.tr-table.space-bottom\")\n",
    "game_list6 = []\n",
    "for game in games:\n",
    "    team1 = game.find_element_by_xpath('./tbody/tr/td/strong/a').text\n",
    "    team2 = game.find_element_by_xpath('./tbody/tr[2]/td/strong/a').text\n",
    "    ml1 = game.find_element_by_xpath('./tbody/tr[1]/td[5]').text\n",
    "    ml2 = game.find_element_by_xpath('./tbody/tr[2]/td[5]').text\n",
    "    score1 = game.find_element_by_xpath('./tbody/tr[1]/td[2]').text\n",
    "    score2 = game.find_element_by_xpath('./tbody/tr[2]/td[2]').text\n",
    "    game_row = (team1, ml1, score1, team2, ml2, score2)\n",
    "    game_list6.append(game_row)"
   ]
  },
  {
   "cell_type": "code",
   "execution_count": 58,
   "metadata": {
    "ExecuteTime": {
     "end_time": "2020-06-12T14:33:41.379131Z",
     "start_time": "2020-06-12T14:33:22.446454Z"
    }
   },
   "outputs": [],
   "source": [
    "browser = webdriver.Chrome()\n",
    "browser.get(\"https://www.teamrankings.com/nfl-odds-week-7\")\n",
    "time.sleep(2)  \n",
    "games = browser.find_elements_by_css_selector(\"table.tr-table.space-bottom\")\n",
    "game_list7 = []\n",
    "for game in games:\n",
    "    team1 = game.find_element_by_xpath('./tbody/tr/td/strong/a').text\n",
    "    team2 = game.find_element_by_xpath('./tbody/tr[2]/td/strong/a').text\n",
    "    ml1 = game.find_element_by_xpath('./tbody/tr[1]/td[5]').text\n",
    "    ml2 = game.find_element_by_xpath('./tbody/tr[2]/td[5]').text\n",
    "    score1 = game.find_element_by_xpath('./tbody/tr[1]/td[2]').text\n",
    "    score2 = game.find_element_by_xpath('./tbody/tr[2]/td[2]').text\n",
    "    game_row = (team1, ml1, score1, team2, ml2, score2)\n",
    "    game_list7.append(game_row)"
   ]
  },
  {
   "cell_type": "code",
   "execution_count": 298,
   "metadata": {
    "ExecuteTime": {
     "end_time": "2020-06-13T15:01:07.820807Z",
     "start_time": "2020-06-13T15:00:56.119258Z"
    }
   },
   "outputs": [],
   "source": [
    "browser = webdriver.Chrome()\n",
    "browser.get(\"https://www.teamrankings.com/nfl-odds-week-8\")\n",
    "time.sleep(2)  \n",
    "games = browser.find_elements_by_css_selector(\"table.tr-table.space-bottom\")\n",
    "game_list8 = []\n",
    "for game in games:\n",
    "    team1 = game.find_element_by_xpath('./tbody/tr/td/strong/a').text\n",
    "    team2 = game.find_element_by_xpath('./tbody/tr[2]/td/strong/a').text\n",
    "    ml1 = game.find_element_by_xpath('./tbody/tr[1]/td[5]').text\n",
    "    ml2 = game.find_element_by_xpath('./tbody/tr[2]/td[5]').text\n",
    "    score1 = game.find_element_by_xpath('./tbody/tr[1]/td[2]').text\n",
    "    score2 = game.find_element_by_xpath('./tbody/tr[2]/td[2]').text\n",
    "    game_row = (team1, ml1, score1, team2, ml2, score2)\n",
    "    game_list8.append(game_row)"
   ]
  },
  {
   "cell_type": "code",
   "execution_count": 60,
   "metadata": {
    "ExecuteTime": {
     "end_time": "2020-06-12T14:34:26.720819Z",
     "start_time": "2020-06-12T14:34:06.095029Z"
    }
   },
   "outputs": [],
   "source": [
    "browser = webdriver.Chrome()\n",
    "browser.get(\"https://www.teamrankings.com/nfl-odds-week-9\")\n",
    "time.sleep(2)  \n",
    "games = browser.find_elements_by_css_selector(\"table.tr-table.space-bottom\")\n",
    "game_list9 = []\n",
    "for game in games:\n",
    "    team1 = game.find_element_by_xpath('./tbody/tr/td/strong/a').text\n",
    "    team2 = game.find_element_by_xpath('./tbody/tr[2]/td/strong/a').text\n",
    "    ml1 = game.find_element_by_xpath('./tbody/tr[1]/td[5]').text\n",
    "    ml2 = game.find_element_by_xpath('./tbody/tr[2]/td[5]').text\n",
    "    score1 = game.find_element_by_xpath('./tbody/tr[1]/td[2]').text\n",
    "    score2 = game.find_element_by_xpath('./tbody/tr[2]/td[2]').text\n",
    "    game_row = (team1, ml1, score1, team2, ml2, score2)\n",
    "    game_list9.append(game_row)"
   ]
  },
  {
   "cell_type": "code",
   "execution_count": 61,
   "metadata": {
    "ExecuteTime": {
     "end_time": "2020-06-12T14:34:55.721522Z",
     "start_time": "2020-06-12T14:34:38.429561Z"
    }
   },
   "outputs": [],
   "source": [
    "browser = webdriver.Chrome()\n",
    "browser.get(\"https://www.teamrankings.com/nfl-odds-week-10\")\n",
    "time.sleep(2)  \n",
    "games = browser.find_elements_by_css_selector(\"table.tr-table.space-bottom\")\n",
    "game_list10 = []\n",
    "for game in games:\n",
    "    team1 = game.find_element_by_xpath('./tbody/tr/td/strong/a').text\n",
    "    team2 = game.find_element_by_xpath('./tbody/tr[2]/td/strong/a').text\n",
    "    ml1 = game.find_element_by_xpath('./tbody/tr[1]/td[5]').text\n",
    "    ml2 = game.find_element_by_xpath('./tbody/tr[2]/td[5]').text\n",
    "    score1 = game.find_element_by_xpath('./tbody/tr[1]/td[2]').text\n",
    "    score2 = game.find_element_by_xpath('./tbody/tr[2]/td[2]').text\n",
    "    game_row = (team1, ml1, score1, team2, ml2, score2)\n",
    "    game_list10.append(game_row)"
   ]
  },
  {
   "cell_type": "code",
   "execution_count": 62,
   "metadata": {
    "ExecuteTime": {
     "end_time": "2020-06-12T14:35:20.254438Z",
     "start_time": "2020-06-12T14:35:01.516016Z"
    }
   },
   "outputs": [],
   "source": [
    "browser = webdriver.Chrome()\n",
    "browser.get(\"https://www.teamrankings.com/nfl-odds-week-11\")\n",
    "time.sleep(2)  \n",
    "games = browser.find_elements_by_css_selector(\"table.tr-table.space-bottom\")\n",
    "game_list11 = []\n",
    "for game in games:\n",
    "    team1 = game.find_element_by_xpath('./tbody/tr/td/strong/a').text\n",
    "    team2 = game.find_element_by_xpath('./tbody/tr[2]/td/strong/a').text\n",
    "    ml1 = game.find_element_by_xpath('./tbody/tr[1]/td[5]').text\n",
    "    ml2 = game.find_element_by_xpath('./tbody/tr[2]/td[5]').text\n",
    "    score1 = game.find_element_by_xpath('./tbody/tr[1]/td[2]').text\n",
    "    score2 = game.find_element_by_xpath('./tbody/tr[2]/td[2]').text\n",
    "    game_row = (team1, ml1, score1, team2, ml2, score2)\n",
    "    game_list11.append(game_row)"
   ]
  },
  {
   "cell_type": "code",
   "execution_count": 63,
   "metadata": {
    "ExecuteTime": {
     "end_time": "2020-06-12T14:38:11.434134Z",
     "start_time": "2020-06-12T14:37:57.795025Z"
    }
   },
   "outputs": [],
   "source": [
    "browser = webdriver.Chrome()\n",
    "browser.get(\"https://www.teamrankings.com/nfl-odds-week-12\")\n",
    "time.sleep(2)  \n",
    "games = browser.find_elements_by_css_selector(\"table.tr-table.space-bottom\")\n",
    "game_list12 = []\n",
    "for game in games:\n",
    "    team1 = game.find_element_by_xpath('./tbody/tr/td/strong/a').text\n",
    "    team2 = game.find_element_by_xpath('./tbody/tr[2]/td/strong/a').text\n",
    "    ml1 = game.find_element_by_xpath('./tbody/tr[1]/td[5]').text\n",
    "    ml2 = game.find_element_by_xpath('./tbody/tr[2]/td[5]').text\n",
    "    score1 = game.find_element_by_xpath('./tbody/tr[1]/td[2]').text\n",
    "    score2 = game.find_element_by_xpath('./tbody/tr[2]/td[2]').text\n",
    "    game_row = (team1, ml1, score1, team2, ml2, score2)\n",
    "    game_list12.append(game_row)"
   ]
  },
  {
   "cell_type": "code",
   "execution_count": 64,
   "metadata": {
    "ExecuteTime": {
     "end_time": "2020-06-12T14:38:31.597990Z",
     "start_time": "2020-06-12T14:38:17.780592Z"
    }
   },
   "outputs": [],
   "source": [
    "browser = webdriver.Chrome()\n",
    "browser.get(\"https://www.teamrankings.com/nfl-odds-week-13\")\n",
    "time.sleep(2)  \n",
    "games = browser.find_elements_by_css_selector(\"table.tr-table.space-bottom\")\n",
    "game_list13 = []\n",
    "for game in games:\n",
    "    team1 = game.find_element_by_xpath('./tbody/tr/td/strong/a').text\n",
    "    team2 = game.find_element_by_xpath('./tbody/tr[2]/td/strong/a').text\n",
    "    ml1 = game.find_element_by_xpath('./tbody/tr[1]/td[5]').text\n",
    "    ml2 = game.find_element_by_xpath('./tbody/tr[2]/td[5]').text\n",
    "    score1 = game.find_element_by_xpath('./tbody/tr[1]/td[2]').text\n",
    "    score2 = game.find_element_by_xpath('./tbody/tr[2]/td[2]').text\n",
    "    game_row = (team1, ml1, score1, team2, ml2, score2)\n",
    "    game_list13.append(game_row)"
   ]
  },
  {
   "cell_type": "code",
   "execution_count": 65,
   "metadata": {
    "ExecuteTime": {
     "end_time": "2020-06-12T14:39:10.694270Z",
     "start_time": "2020-06-12T14:38:47.481665Z"
    }
   },
   "outputs": [],
   "source": [
    "browser = webdriver.Chrome()\n",
    "browser.get(\"https://www.teamrankings.com/nfl-odds-week-14\")\n",
    "time.sleep(2)  \n",
    "games = browser.find_elements_by_css_selector(\"table.tr-table.space-bottom\")\n",
    "game_list14 = []\n",
    "for game in games:\n",
    "    team1 = game.find_element_by_xpath('./tbody/tr/td/strong/a').text\n",
    "    team2 = game.find_element_by_xpath('./tbody/tr[2]/td/strong/a').text\n",
    "    ml1 = game.find_element_by_xpath('./tbody/tr[1]/td[5]').text\n",
    "    ml2 = game.find_element_by_xpath('./tbody/tr[2]/td[5]').text\n",
    "    score1 = game.find_element_by_xpath('./tbody/tr[1]/td[2]').text\n",
    "    score2 = game.find_element_by_xpath('./tbody/tr[2]/td[2]').text\n",
    "    game_row = (team1, ml1, score1, team2, ml2, score2)\n",
    "    game_list14.append(game_row)"
   ]
  },
  {
   "cell_type": "code",
   "execution_count": 311,
   "metadata": {
    "ExecuteTime": {
     "end_time": "2020-06-13T15:02:35.829833Z",
     "start_time": "2020-06-13T15:02:23.498027Z"
    }
   },
   "outputs": [],
   "source": [
    "browser = webdriver.Chrome()\n",
    "browser.get(\"https://www.teamrankings.com/nfl-odds-week-15\")\n",
    "time.sleep(2)  \n",
    "games = browser.find_elements_by_css_selector(\"table.tr-table.space-bottom\")\n",
    "game_list15 = []\n",
    "for game in games:\n",
    "    team1 = game.find_element_by_xpath('./tbody/tr/td/strong/a').text\n",
    "    team2 = game.find_element_by_xpath('./tbody/tr[2]/td/strong/a').text\n",
    "    ml1 = game.find_element_by_xpath('./tbody/tr[1]/td[5]').text\n",
    "    ml2 = game.find_element_by_xpath('./tbody/tr[2]/td[5]').text\n",
    "    score1 = game.find_element_by_xpath('./tbody/tr[1]/td[2]').text\n",
    "    score2 = game.find_element_by_xpath('./tbody/tr[2]/td[2]').text\n",
    "    game_row = (team1, ml1, score1, team2, ml2, score2)\n",
    "    game_list15.append(game_row)"
   ]
  },
  {
   "cell_type": "code",
   "execution_count": 312,
   "metadata": {
    "ExecuteTime": {
     "end_time": "2020-06-13T15:02:54.863198Z",
     "start_time": "2020-06-13T15:02:43.032920Z"
    }
   },
   "outputs": [],
   "source": [
    "browser = webdriver.Chrome()\n",
    "browser.get(\"https://www.teamrankings.com/nfl-odds-week-16\")\n",
    "time.sleep(2)  \n",
    "games = browser.find_elements_by_css_selector(\"table.tr-table.space-bottom\")\n",
    "game_list16 = []\n",
    "for game in games:\n",
    "    team1 = game.find_element_by_xpath('./tbody/tr/td/strong/a').text\n",
    "    team2 = game.find_element_by_xpath('./tbody/tr[2]/td/strong/a').text\n",
    "    ml1 = game.find_element_by_xpath('./tbody/tr[1]/td[5]').text\n",
    "    ml2 = game.find_element_by_xpath('./tbody/tr[2]/td[5]').text\n",
    "    score1 = game.find_element_by_xpath('./tbody/tr[1]/td[2]').text\n",
    "    score2 = game.find_element_by_xpath('./tbody/tr[2]/td[2]').text\n",
    "    game_row = (team1, ml1, score1, team2, ml2, score2)\n",
    "    game_list16.append(game_row)"
   ]
  },
  {
   "cell_type": "code",
   "execution_count": 313,
   "metadata": {
    "ExecuteTime": {
     "end_time": "2020-06-13T15:03:22.623382Z",
     "start_time": "2020-06-13T15:03:10.518536Z"
    }
   },
   "outputs": [],
   "source": [
    "browser = webdriver.Chrome()\n",
    "browser.get(\"https://www.teamrankings.com/nfl-odds-week-17\")\n",
    "time.sleep(2)  \n",
    "games = browser.find_elements_by_css_selector(\"table.tr-table.space-bottom\")\n",
    "game_list17 = []\n",
    "for game in games:\n",
    "    team1 = game.find_element_by_xpath('./tbody/tr/td/strong/a').text\n",
    "    team2 = game.find_element_by_xpath('./tbody/tr[2]/td/strong/a').text\n",
    "    ml1 = game.find_element_by_xpath('./tbody/tr[1]/td[5]').text\n",
    "    ml2 = game.find_element_by_xpath('./tbody/tr[2]/td[5]').text\n",
    "    score1 = game.find_element_by_xpath('./tbody/tr[1]/td[2]').text\n",
    "    score2 = game.find_element_by_xpath('./tbody/tr[2]/td[2]').text\n",
    "    game_row = (team1, ml1, score1, team2, ml2, score2)\n",
    "    game_list17.append(game_row)"
   ]
  },
  {
   "cell_type": "code",
   "execution_count": 314,
   "metadata": {
    "ExecuteTime": {
     "end_time": "2020-06-13T15:03:58.484117Z",
     "start_time": "2020-06-13T15:03:58.441644Z"
    }
   },
   "outputs": [],
   "source": [
    "w4_money_line = pd.DataFrame(game_list, columns =['team', 'money_line', 'team_score', \n",
    "                                                  'opp', 'opp_money_line', 'opp_score'])\n",
    "\n",
    "\n",
    "w5_money_line = pd.DataFrame(game_list5, columns =['team', 'money_line', 'team_score', \n",
    "                                                  'opp', 'opp_money_line', 'opp_score'])\n",
    "\n",
    "\n",
    "w6_money_line = pd.DataFrame(game_list6, columns =['team', 'money_line', 'team_score', \n",
    "                                                  'opp', 'opp_money_line', 'opp_score']) \n",
    "\n",
    "\n",
    "w7_money_line = pd.DataFrame(game_list7, columns =['team', 'money_line', 'team_score', \n",
    "                                                  'opp', 'opp_money_line', 'opp_score']) \n",
    "\n",
    "\n",
    "w8_money_line = pd.DataFrame(game_list8, columns =['team', 'money_line', 'team_score', \n",
    "                                                  'opp', 'opp_money_line', 'opp_score']) \n",
    "\n",
    "\n",
    "w9_money_line = pd.DataFrame(game_list9, columns =['team', 'money_line', 'team_score', \n",
    "                                                  'opp', 'opp_money_line', 'opp_score']) \n",
    "\n",
    "\n",
    "w10_money_line = pd.DataFrame(game_list10, columns =['team', 'money_line', 'team_score', \n",
    "                                                  'opp', 'opp_money_line', 'opp_score']) \n",
    "\n",
    "\n",
    "w11_money_line = pd.DataFrame(game_list11, columns =['team', 'money_line', 'team_score', \n",
    "                                                  'opp', 'opp_money_line', 'opp_score']) \n",
    "\n",
    "\n",
    "w12_money_line = pd.DataFrame(game_list12, columns =['team', 'money_line', 'team_score', \n",
    "                                                  'opp', 'opp_money_line', 'opp_score']) \n",
    "\n",
    "\n",
    "w13_money_line = pd.DataFrame(game_list13, columns =['team', 'money_line', 'team_score', \n",
    "                                                  'opp', 'opp_money_line', 'opp_score']) \n",
    "\n",
    "\n",
    "w14_money_line = pd.DataFrame(game_list14, columns =['team', 'money_line', 'team_score', \n",
    "                                                  'opp', 'opp_money_line', 'opp_score']) \n",
    "\n",
    "\n",
    "w15_money_line = pd.DataFrame(game_list15, columns =['team', 'money_line', 'team_score', \n",
    "                                                  'opp', 'opp_money_line', 'opp_score']) \n",
    "\n",
    "\n",
    "w16_money_line = pd.DataFrame(game_list16, columns =['team', 'money_line', 'team_score', \n",
    "                                                  'opp', 'opp_money_line', 'opp_score']) \n",
    "\n",
    "\n",
    "w17_money_line = pd.DataFrame(game_list17, columns =['team', 'money_line', 'team_score', \n",
    "                                                  'opp', 'opp_money_line', 'opp_score']) \n"
   ]
  },
  {
   "cell_type": "code",
   "execution_count": 315,
   "metadata": {
    "ExecuteTime": {
     "end_time": "2020-06-13T15:04:01.108042Z",
     "start_time": "2020-06-13T15:04:01.096559Z"
    }
   },
   "outputs": [],
   "source": [
    "ml4 = w4_money_line.copy()\n",
    "ml5 = w5_money_line.copy()\n",
    "ml6 = w6_money_line.copy()  \n",
    "ml7 = w7_money_line.copy() \n",
    "ml8 = w8_money_line.copy()\n",
    "ml9 = w9_money_line.copy()\n",
    "ml10 = w10_money_line.copy()\n",
    "ml11 = w11_money_line.copy()\n",
    "ml12 = w12_money_line.copy()\n",
    "ml13 = w13_money_line.copy()\n",
    "ml14 = w14_money_line.copy() \n",
    "ml15 = w15_money_line.copy()\n",
    "ml16 = w16_money_line.copy() \n",
    "ml17 = w17_money_line.copy() "
   ]
  },
  {
   "cell_type": "code",
   "execution_count": 324,
   "metadata": {
    "ExecuteTime": {
     "end_time": "2020-06-13T15:10:39.143805Z",
     "start_time": "2020-06-13T15:10:38.965457Z"
    }
   },
   "outputs": [],
   "source": [
    "td1 = {'Chicago': 'BEARS', 'NY Jets': 'JETS', 'LA Rams': 'RAMS', 'Miami': 'DOLPHINS', 'Jacksonville': 'JAGUARS',\n",
    " 'Tennessee':'TITANS', 'Washington':'REDSKINS', 'Atlanta': 'FALCONS', 'Cincinnati':'BENGALS', 'LA Chargers':'CHARGERS',\n",
    " 'San Francisco':'49ERS', 'Arizona':'CARDINALS','NY Giants':'GIANTS', 'Pittsburgh':'STEELERS','Houston':'TEXANS',\n",
    " 'Denver':'BRONCOS', 'Tampa Bay':'BUCCANEERS','Green Bay':'PACKERS','Dallas':'COWBOYS',\n",
    " 'Baltimore':'RAVENS', 'Buffalo':'BILLS', 'Indianapolis':'COLTS', 'Seattle':'SEAHAWKS',\n",
    " 'Oakland':'RAIDERS','New Orleans':'SAINTS','Cleveland':'BROWNS','Detroit':'LIONS','Philadelphia':'EAGLES',\n",
    " 'Kansas City':'CHIEFS','Minnesota':'VIKINGS','New England':'PATRIOTS', 'Carolina':'PANTHERS'}\n",
    "\n",
    "ml5['team'] = ml5['team'].replace(to_replace=td1.keys(), value=td1.values())\n",
    "ml6['team'] = ml6['team'].replace(to_replace=td1.keys(), value=td1.values())\n",
    "ml7['team'] = ml7['team'].replace(to_replace=td1.keys(), value=td1.values())\n",
    "ml8['team'] = ml8['team'].replace(to_replace=td1.keys(), value=td1.values())\n",
    "ml9['team'] = ml9['team'].replace(to_replace=td1.keys(), value=td1.values())\n",
    "ml10['team'] = ml10['team'].replace(to_replace=td1.keys(), value=td1.values())\n",
    "ml11['team'] = ml11['team'].replace(to_replace=td1.keys(), value=td1.values())\n",
    "ml12['team'] = ml12['team'].replace(to_replace=td1.keys(), value=td1.values())\n",
    "ml13['team'] = ml13['team'].replace(to_replace=td1.keys(), value=td1.values())\n",
    "ml14['team'] = ml14['team'].replace(to_replace=td1.keys(), value=td1.values())\n",
    "ml15['team'] = ml15['team'].replace(to_replace=td1.keys(), value=td1.values())\n",
    "ml16['team'] = ml16['team'].replace(to_replace=td1.keys(), value=td1.values())\n",
    "ml17['team'] = ml17['team'].replace(to_replace=td1.keys(), value=td1.values())\n",
    "\n",
    "ml5['opp'] = ml5['opp'].replace(to_replace=td1.keys(), value=td1.values())\n",
    "ml6['opp'] = ml6['opp'].replace(to_replace=td1.keys(), value=td1.values())\n",
    "ml7['opp'] = ml7['opp'].replace(to_replace=td1.keys(), value=td1.values())\n",
    "ml8['opp'] = ml8['opp'].replace(to_replace=td1.keys(), value=td1.values())\n",
    "ml9['opp'] = ml9['opp'].replace(to_replace=td1.keys(), value=td1.values())\n",
    "ml10['opp'] = ml10['opp'].replace(to_replace=td1.keys(), value=td1.values())\n",
    "ml11['opp'] = ml11['opp'].replace(to_replace=td1.keys(), value=td1.values())\n",
    "ml12['opp'] = ml12['opp'].replace(to_replace=td1.keys(), value=td1.values())\n",
    "ml13['opp'] = ml13['opp'].replace(to_replace=td1.keys(), value=td1.values())\n",
    "ml14['opp'] = ml14['opp'].replace(to_replace=td1.keys(), value=td1.values())\n",
    "ml15['opp'] = ml15['opp'].replace(to_replace=td1.keys(), value=td1.values())\n",
    "ml16['opp'] = ml16['opp'].replace(to_replace=td1.keys(), value=td1.values())\n",
    "ml17['opp'] = ml17['opp'].replace(to_replace=td1.keys(), value=td1.values())"
   ]
  },
  {
   "cell_type": "code",
   "execution_count": 325,
   "metadata": {
    "ExecuteTime": {
     "end_time": "2020-06-13T15:10:43.742874Z",
     "start_time": "2020-06-13T15:10:43.721754Z"
    }
   },
   "outputs": [
    {
     "data": {
      "text/html": [
       "<div>\n",
       "<style scoped>\n",
       "    .dataframe tbody tr th:only-of-type {\n",
       "        vertical-align: middle;\n",
       "    }\n",
       "\n",
       "    .dataframe tbody tr th {\n",
       "        vertical-align: top;\n",
       "    }\n",
       "\n",
       "    .dataframe thead th {\n",
       "        text-align: right;\n",
       "    }\n",
       "</style>\n",
       "<table border=\"1\" class=\"dataframe\">\n",
       "  <thead>\n",
       "    <tr style=\"text-align: right;\">\n",
       "      <th></th>\n",
       "      <th>team</th>\n",
       "      <th>money_line</th>\n",
       "      <th>team_score</th>\n",
       "      <th>opp</th>\n",
       "      <th>opp_money_line</th>\n",
       "      <th>opp_score</th>\n",
       "    </tr>\n",
       "  </thead>\n",
       "  <tbody>\n",
       "    <tr>\n",
       "      <td>0</td>\n",
       "      <td>PACKERS</td>\n",
       "      <td>-656</td>\n",
       "      <td>23</td>\n",
       "      <td>LIONS</td>\n",
       "      <td>+508</td>\n",
       "      <td>20</td>\n",
       "    </tr>\n",
       "    <tr>\n",
       "      <td>1</td>\n",
       "      <td>FALCONS</td>\n",
       "      <td>+109</td>\n",
       "      <td>28</td>\n",
       "      <td>BUCCANEERS</td>\n",
       "      <td>-120</td>\n",
       "      <td>22</td>\n",
       "    </tr>\n",
       "    <tr>\n",
       "      <td>2</td>\n",
       "      <td>BEARS</td>\n",
       "      <td>-230</td>\n",
       "      <td>21</td>\n",
       "      <td>VIKINGS</td>\n",
       "      <td>+203</td>\n",
       "      <td>19</td>\n",
       "    </tr>\n",
       "    <tr>\n",
       "      <td>3</td>\n",
       "      <td>BROWNS</td>\n",
       "      <td>-137</td>\n",
       "      <td>23</td>\n",
       "      <td>BENGALS</td>\n",
       "      <td>+124</td>\n",
       "      <td>33</td>\n",
       "    </tr>\n",
       "    <tr>\n",
       "      <td>4</td>\n",
       "      <td>JETS</td>\n",
       "      <td>-124</td>\n",
       "      <td>13</td>\n",
       "      <td>BILLS</td>\n",
       "      <td>+112</td>\n",
       "      <td>6</td>\n",
       "    </tr>\n",
       "    <tr>\n",
       "      <td>5</td>\n",
       "      <td>CHARGERS</td>\n",
       "      <td>+325</td>\n",
       "      <td>21</td>\n",
       "      <td>CHIEFS</td>\n",
       "      <td>-389</td>\n",
       "      <td>31</td>\n",
       "    </tr>\n",
       "    <tr>\n",
       "      <td>6</td>\n",
       "      <td>SAINTS</td>\n",
       "      <td>-663</td>\n",
       "      <td>42</td>\n",
       "      <td>PANTHERS</td>\n",
       "      <td>+512</td>\n",
       "      <td>10</td>\n",
       "    </tr>\n",
       "    <tr>\n",
       "      <td>7</td>\n",
       "      <td>DOLPHINS</td>\n",
       "      <td>+781</td>\n",
       "      <td>27</td>\n",
       "      <td>PATRIOTS</td>\n",
       "      <td>-1117</td>\n",
       "      <td>24</td>\n",
       "    </tr>\n",
       "    <tr>\n",
       "      <td>8</td>\n",
       "      <td>TITANS</td>\n",
       "      <td>-366</td>\n",
       "      <td>35</td>\n",
       "      <td>TEXANS</td>\n",
       "      <td>+308</td>\n",
       "      <td>14</td>\n",
       "    </tr>\n",
       "    <tr>\n",
       "      <td>9</td>\n",
       "      <td>COLTS</td>\n",
       "      <td>-233</td>\n",
       "      <td>20</td>\n",
       "      <td>JAGUARS</td>\n",
       "      <td>+205</td>\n",
       "      <td>38</td>\n",
       "    </tr>\n",
       "    <tr>\n",
       "      <td>10</td>\n",
       "      <td>STEELERS</td>\n",
       "      <td>-134</td>\n",
       "      <td>10</td>\n",
       "      <td>RAVENS</td>\n",
       "      <td>+121</td>\n",
       "      <td>28</td>\n",
       "    </tr>\n",
       "    <tr>\n",
       "      <td>11</td>\n",
       "      <td>EAGLES</td>\n",
       "      <td>-198</td>\n",
       "      <td>34</td>\n",
       "      <td>GIANTS</td>\n",
       "      <td>+176</td>\n",
       "      <td>17</td>\n",
       "    </tr>\n",
       "    <tr>\n",
       "      <td>12</td>\n",
       "      <td>CARDINALS</td>\n",
       "      <td>+236</td>\n",
       "      <td>24</td>\n",
       "      <td>RAMS</td>\n",
       "      <td>-272</td>\n",
       "      <td>31</td>\n",
       "    </tr>\n",
       "    <tr>\n",
       "      <td>13</td>\n",
       "      <td>REDSKINS</td>\n",
       "      <td>+488</td>\n",
       "      <td>16</td>\n",
       "      <td>COWBOYS</td>\n",
       "      <td>-625</td>\n",
       "      <td>47</td>\n",
       "    </tr>\n",
       "    <tr>\n",
       "      <td>14</td>\n",
       "      <td>RAIDERS</td>\n",
       "      <td>+195</td>\n",
       "      <td>15</td>\n",
       "      <td>BRONCOS</td>\n",
       "      <td>-221</td>\n",
       "      <td>16</td>\n",
       "    </tr>\n",
       "    <tr>\n",
       "      <td>15</td>\n",
       "      <td>49ERS</td>\n",
       "      <td>-177</td>\n",
       "      <td>26</td>\n",
       "      <td>SEAHAWKS</td>\n",
       "      <td>+159</td>\n",
       "      <td>21</td>\n",
       "    </tr>\n",
       "  </tbody>\n",
       "</table>\n",
       "</div>"
      ],
      "text/plain": [
       "         team money_line team_score         opp opp_money_line opp_score\n",
       "0     PACKERS       -656         23       LIONS           +508        20\n",
       "1     FALCONS       +109         28  BUCCANEERS           -120        22\n",
       "2       BEARS       -230         21     VIKINGS           +203        19\n",
       "3      BROWNS       -137         23     BENGALS           +124        33\n",
       "4        JETS       -124         13       BILLS           +112         6\n",
       "5    CHARGERS       +325         21      CHIEFS           -389        31\n",
       "6      SAINTS       -663         42    PANTHERS           +512        10\n",
       "7    DOLPHINS       +781         27    PATRIOTS          -1117        24\n",
       "8      TITANS       -366         35      TEXANS           +308        14\n",
       "9       COLTS       -233         20     JAGUARS           +205        38\n",
       "10   STEELERS       -134         10      RAVENS           +121        28\n",
       "11     EAGLES       -198         34      GIANTS           +176        17\n",
       "12  CARDINALS       +236         24        RAMS           -272        31\n",
       "13   REDSKINS       +488         16     COWBOYS           -625        47\n",
       "14    RAIDERS       +195         15     BRONCOS           -221        16\n",
       "15      49ERS       -177         26    SEAHAWKS           +159        21"
      ]
     },
     "execution_count": 325,
     "metadata": {},
     "output_type": "execute_result"
    }
   ],
   "source": [
    "ml17"
   ]
  },
  {
   "cell_type": "code",
   "execution_count": 191,
   "metadata": {
    "ExecuteTime": {
     "end_time": "2020-06-12T16:31:25.637129Z",
     "start_time": "2020-06-12T16:31:25.618886Z"
    }
   },
   "outputs": [],
   "source": []
  },
  {
   "cell_type": "code",
   "execution_count": 192,
   "metadata": {
    "ExecuteTime": {
     "end_time": "2020-06-12T16:31:26.818653Z",
     "start_time": "2020-06-12T16:31:26.804017Z"
    }
   },
   "outputs": [],
   "source": []
  },
  {
   "cell_type": "code",
   "execution_count": null,
   "metadata": {},
   "outputs": [],
   "source": []
  },
  {
   "cell_type": "code",
   "execution_count": 256,
   "metadata": {
    "ExecuteTime": {
     "end_time": "2020-06-13T14:39:54.238456Z",
     "start_time": "2020-06-13T14:39:54.185787Z"
    }
   },
   "outputs": [],
   "source": [
    "# pull each individual week of the season for the testing set\n",
    "\n",
    "week_5 = df[df['week']== 5 ].fillna(value=0)\n",
    "week_6 = df[df['week']== 6 ].fillna(value=0)\n",
    "week_7 = df[df['week']== 7 ].fillna(value=0)\n",
    "week_8 = df[df['week']== 8 ].fillna(value=0)\n",
    "week_9 = df[df['week']== 9 ].fillna(value=0)\n",
    "week_10 = df[df['week']== 10 ].fillna(value=0)\n",
    "week_11 = df[df['week']== 11 ].fillna(value=0)\n",
    "week_12 = df[df['week']== 12 ].fillna(value=0)\n",
    "week_13 = df[df['week']== 13 ].fillna(value=0)\n",
    "week_14 = df[df['week']== 14 ].fillna(value=0)\n",
    "week_15 = df[df['week']== 15 ].fillna(value=0)\n",
    "week_16 = df[df['week']== 16 ].fillna(value=0)\n",
    "week_17 = df[df['week']== 17 ].fillna(value=0)"
   ]
  },
  {
   "cell_type": "code",
   "execution_count": 257,
   "metadata": {
    "ExecuteTime": {
     "end_time": "2020-06-13T14:39:57.501798Z",
     "start_time": "2020-06-13T14:39:57.452527Z"
    }
   },
   "outputs": [],
   "source": [
    "# now build the training set\n",
    "\n",
    "w1_4 = df[df['week']<=4].fillna(value=0)\n",
    "w1_5 = df[df['week']<=5].fillna(value=0)\n",
    "w1_6 = df[df['week']<=6].fillna(value=0)\n",
    "w2_7 = df[df['week'].between(2,7)].fillna(value=0)\n",
    "w3_8 = df[df['week'].between(3,8)].fillna(value=0)\n",
    "w4_9 = df[df['week'].between(4,9)].fillna(value=0)\n",
    "w5_10 = df[df['week'].between(5,10)].fillna(value=0)\n",
    "w6_11 = df[df['week'].between(6,11)].fillna(value=0)\n",
    "w7_12 = df[df['week'].between(7,12)].fillna(value=0)\n",
    "w8_13 = df[df['week'].between(8,13)].fillna(value=0)\n",
    "w9_14 = df[df['week'].between(9,14)].fillna(value=0)\n",
    "w10_15 = df[df['week'].between(10,15)].fillna(value=0)\n",
    "w11_16 = df[df['week'].between(11,16)].fillna(value=0)"
   ]
  },
  {
   "cell_type": "code",
   "execution_count": 258,
   "metadata": {
    "ExecuteTime": {
     "end_time": "2020-06-13T14:39:59.005175Z",
     "start_time": "2020-06-13T14:39:58.999349Z"
    }
   },
   "outputs": [],
   "source": [
    "# name them for consistency\n",
    "w5_train = w1_4\n",
    "w6_train = w1_5\n",
    "w7_train = w1_6\n",
    "w8_train = w2_7\n",
    "w9_train = w3_8\n",
    "w10_train = w4_9\n",
    "w11_train = w5_10\n",
    "w12_train = w6_11\n",
    "w13_train = w7_12\n",
    "w14_train = w8_13\n",
    "w15_train = w9_14\n",
    "w16_train = w10_15\n",
    "w17_train = w11_16"
   ]
  },
  {
   "cell_type": "code",
   "execution_count": 259,
   "metadata": {
    "ExecuteTime": {
     "end_time": "2020-06-13T14:40:02.570353Z",
     "start_time": "2020-06-13T14:40:02.231843Z"
    }
   },
   "outputs": [],
   "source": [
    "# to account for unseen games, use the average from each training set as X_test, the following will rebuild the dataframes\n",
    "# with the naming convention avgs5, avgs6 where the number represents the week it will be used for for the testing set\n",
    "\n",
    "ta = []\n",
    "teams = list(week_5['team'].unique())\n",
    "for team in teams:\n",
    "    avg = w5_train[w5_train['team']==team].mean()\n",
    "    ta.append(avg)\n",
    "avgs5 = pd.concat(ta, keys=w5_train['team'].unique())\n",
    "avgs5 = avgs5.unstack(level=-1)"
   ]
  },
  {
   "cell_type": "code",
   "execution_count": null,
   "metadata": {
    "ExecuteTime": {
     "end_time": "2020-06-12T19:19:13.333357Z",
     "start_time": "2020-06-12T19:19:13.314387Z"
    }
   },
   "outputs": [],
   "source": []
  },
  {
   "cell_type": "code",
   "execution_count": 260,
   "metadata": {
    "ExecuteTime": {
     "end_time": "2020-06-13T14:40:09.734292Z",
     "start_time": "2020-06-13T14:40:09.467553Z"
    }
   },
   "outputs": [],
   "source": [
    "ta = []\n",
    "teams = list(week_6['team'].unique())\n",
    "for team in teams:\n",
    "    avg = w6_train[w6_train['team']==team].mean()\n",
    "    ta.append(avg)\n",
    "avgs6 = pd.concat(ta, keys=w6_train['team'].unique())\n",
    "avgs6 = avgs6.unstack(level=-1)"
   ]
  },
  {
   "cell_type": "code",
   "execution_count": 261,
   "metadata": {
    "ExecuteTime": {
     "end_time": "2020-06-13T14:40:12.894806Z",
     "start_time": "2020-06-13T14:40:12.617404Z"
    }
   },
   "outputs": [],
   "source": [
    "ta = []\n",
    "teams = list(week_7['team'].unique())\n",
    "for team in teams:\n",
    "    avg = w7_train[w7_train['team']==team].mean()\n",
    "    ta.append(avg)\n",
    "avgs7 = pd.concat(ta, keys=w7_train['team'].unique())\n",
    "avgs7 = avgs7.unstack(level=-1)"
   ]
  },
  {
   "cell_type": "code",
   "execution_count": 262,
   "metadata": {
    "ExecuteTime": {
     "end_time": "2020-06-13T14:40:13.698487Z",
     "start_time": "2020-06-13T14:40:13.385603Z"
    }
   },
   "outputs": [],
   "source": [
    "ta = []\n",
    "teams = list(week_8['team'].unique())\n",
    "for team in teams:\n",
    "    avg = w8_train[w8_train['team']==team].mean()\n",
    "    ta.append(avg)\n",
    "avgs8 = pd.concat(ta, keys=w8_train['team'].unique())\n",
    "avgs8 = avgs8.unstack(level=-1)"
   ]
  },
  {
   "cell_type": "code",
   "execution_count": 263,
   "metadata": {
    "ExecuteTime": {
     "end_time": "2020-06-13T14:40:14.451532Z",
     "start_time": "2020-06-13T14:40:14.151632Z"
    }
   },
   "outputs": [],
   "source": [
    "ta = []\n",
    "teams = list(week_9['team'].unique())\n",
    "for team in teams:\n",
    "    avg = w9_train[w9_train['team']==team].mean()\n",
    "    ta.append(avg)\n",
    "avgs9 = pd.concat(ta, keys=w9_train['team'].unique())\n",
    "avgs9 = avgs9.unstack(level=-1)"
   ]
  },
  {
   "cell_type": "code",
   "execution_count": 264,
   "metadata": {
    "ExecuteTime": {
     "end_time": "2020-06-13T14:40:15.194296Z",
     "start_time": "2020-06-13T14:40:14.904772Z"
    }
   },
   "outputs": [],
   "source": [
    "ta = []\n",
    "teams = list(week_10['team'].unique())\n",
    "for team in teams:\n",
    "    avg = w10_train[w10_train['team']==team].mean()\n",
    "    ta.append(avg)\n",
    "avgs10 = pd.concat(ta, keys=w10_train['team'].unique())\n",
    "avgs10 = avgs10.unstack(level=-1)"
   ]
  },
  {
   "cell_type": "code",
   "execution_count": 265,
   "metadata": {
    "ExecuteTime": {
     "end_time": "2020-06-13T14:40:16.068811Z",
     "start_time": "2020-06-13T14:40:15.768993Z"
    }
   },
   "outputs": [],
   "source": [
    "ta = []\n",
    "teams = list(week_11['team'].unique())\n",
    "for team in teams:\n",
    "    avg = w11_train[w11_train['team']==team].mean()\n",
    "    ta.append(avg)\n",
    "avgs11 = pd.concat(ta, keys=w11_train['team'].unique())\n",
    "avgs11 = avgs11.unstack(level=-1)"
   ]
  },
  {
   "cell_type": "code",
   "execution_count": 266,
   "metadata": {
    "ExecuteTime": {
     "end_time": "2020-06-13T14:40:16.832059Z",
     "start_time": "2020-06-13T14:40:16.534772Z"
    }
   },
   "outputs": [],
   "source": [
    "ta = []\n",
    "teams = list(week_12['team'].unique())\n",
    "for team in teams:\n",
    "    avg = w12_train[w12_train['team']==team].mean()\n",
    "    ta.append(avg)\n",
    "avgs12 = pd.concat(ta, keys=w12_train['team'].unique())\n",
    "avgs12 = avgs12.unstack(level=-1)"
   ]
  },
  {
   "cell_type": "code",
   "execution_count": 267,
   "metadata": {
    "ExecuteTime": {
     "end_time": "2020-06-13T14:40:17.651375Z",
     "start_time": "2020-06-13T14:40:17.287728Z"
    }
   },
   "outputs": [],
   "source": [
    "ta = []\n",
    "teams = list(week_13['team'].unique())\n",
    "for team in teams:\n",
    "    avg = w13_train[w13_train['team']==team].mean()\n",
    "    ta.append(avg)\n",
    "avgs13 = pd.concat(ta, keys=w13_train['team'].unique())\n",
    "avgs13 = avgs13.unstack(level=-1)"
   ]
  },
  {
   "cell_type": "code",
   "execution_count": 268,
   "metadata": {
    "ExecuteTime": {
     "end_time": "2020-06-13T14:40:18.435514Z",
     "start_time": "2020-06-13T14:40:18.097666Z"
    }
   },
   "outputs": [],
   "source": [
    "ta = []\n",
    "teams = list(week_14['team'].unique())\n",
    "for team in teams:\n",
    "    avg = w14_train[w14_train['team']==team].mean()\n",
    "    ta.append(avg)\n",
    "avgs14 = pd.concat(ta, keys=w14_train['team'].unique())\n",
    "avgs14 = avgs14.unstack(level=-1)"
   ]
  },
  {
   "cell_type": "code",
   "execution_count": 269,
   "metadata": {
    "ExecuteTime": {
     "end_time": "2020-06-13T14:40:19.534483Z",
     "start_time": "2020-06-13T14:40:19.190461Z"
    }
   },
   "outputs": [],
   "source": [
    "ta = []\n",
    "teams = list(week_15['team'].unique())\n",
    "for team in teams:\n",
    "    avg = w15_train[w15_train['team']==team].mean()\n",
    "    ta.append(avg)\n",
    "avgs15 = pd.concat(ta, keys=w15_train['team'].unique())\n",
    "avgs15 = avgs15.unstack(level=-1)"
   ]
  },
  {
   "cell_type": "code",
   "execution_count": 270,
   "metadata": {
    "ExecuteTime": {
     "end_time": "2020-06-13T14:40:20.617039Z",
     "start_time": "2020-06-13T14:40:20.249344Z"
    }
   },
   "outputs": [],
   "source": [
    "ta = []\n",
    "teams = list(week_16['team'].unique())\n",
    "for team in teams:\n",
    "    avg = w16_train[w16_train['team']==team].mean()\n",
    "    ta.append(avg)\n",
    "avgs16 = pd.concat(ta, keys=w16_train['team'].unique())\n",
    "avgs16 = avgs16.unstack(level=-1)"
   ]
  },
  {
   "cell_type": "code",
   "execution_count": 208,
   "metadata": {
    "ExecuteTime": {
     "end_time": "2020-06-12T16:31:57.166420Z",
     "start_time": "2020-06-12T16:31:56.049122Z"
    }
   },
   "outputs": [],
   "source": [
    "ta = []\n",
    "teams = list(week_17['team'].unique())\n",
    "for team in teams:\n",
    "    avg = w17_train[w17_train['team']==team].mean()\n",
    "    ta.append(avg)\n",
    "avgs17 = pd.concat(ta, keys=w17_train['team'].unique())\n",
    "avgs17 = avgs17.unstack(level=-1)"
   ]
  },
  {
   "cell_type": "code",
   "execution_count": 361,
   "metadata": {
    "ExecuteTime": {
     "end_time": "2020-06-13T15:39:39.854713Z",
     "start_time": "2020-06-13T15:39:39.774953Z"
    }
   },
   "outputs": [],
   "source": [
    "### the following are set up to train and test for money lines, to predict winning, can uncomment spreads and get rid of wins to change that ####\n",
    "y_train_w5 = w5_train['win?']\n",
    "#y_train_w5 = w5_train['covered_spread?']\n",
    "X_train_w5 = w5_train[['home', 'away', 'yards_per_play_offense', \n",
    "                 'yards_allowed_per_defensive_play', 'turnovers_lost',\n",
    "                 'times_sacked', 'total_wins', 'total_losses', 'spread', \n",
    "                 'favorite', 'underdog', 'time_of_possession','penalty_yards','FGM','points_for', 'points_against']]\n",
    "\n",
    "y_test_w5 = week_5['win?']\n",
    "#y_test_w5 = week_5['covered_spread?']\n",
    "X_test_w5 = avgs5[['home', 'away', 'yards_per_play_offense', \n",
    "                 'yards_allowed_per_defensive_play', 'turnovers_lost',\n",
    "                 'times_sacked', 'total_wins', 'total_losses', 'spread', \n",
    "                 'favorite', 'underdog', 'time_of_possession','penalty_yards','FGM','points_for', 'points_against']]\n",
    "\n",
    "y_train_w6 = w6_train['win?']\n",
    "#y_train_w6 = w6_train['covered_spread?']\n",
    "X_train_w6 = w6_train[['home', 'away', 'yards_per_play_offense', \n",
    "                 'yards_allowed_per_defensive_play', 'turnovers_lost',\n",
    "                 'times_sacked', 'total_wins', 'total_losses', 'spread', \n",
    "                 'favorite', 'underdog', 'time_of_possession','penalty_yards','FGM','points_for', 'points_against']]\n",
    "\n",
    "y_test_w6 = week_6['win?']\n",
    "#y_test_w6 = week_6['covered_spread?']\n",
    "X_test_w6 = avgs6[['home', 'away', 'yards_per_play_offense', \n",
    "                 'yards_allowed_per_defensive_play', 'turnovers_lost',\n",
    "                 'times_sacked', 'total_wins', 'total_losses', 'spread', \n",
    "                 'favorite', 'underdog', 'time_of_possession','penalty_yards','FGM','points_for', 'points_against']]\n",
    "\n",
    "y_train_w7 = w7_train['win?']\n",
    "#y_train_w7 = w7_train['covered_spread?']\n",
    "X_train_w7 = w7_train[['home', 'away', 'yards_per_play_offense', \n",
    "                 'yards_allowed_per_defensive_play', 'turnovers_lost',\n",
    "                 'times_sacked', 'total_wins', 'total_losses', 'spread', \n",
    "                 'favorite', 'underdog', 'time_of_possession','penalty_yards','FGM','points_for', 'points_against']]\n",
    "\n",
    "y_test_w7 = week_7['win?']\n",
    "#y_test_w7 = week_7['covered_spread?']\n",
    "X_test_w7 = avgs7[['home', 'away', 'yards_per_play_offense', \n",
    "                 'yards_allowed_per_defensive_play', 'turnovers_lost',\n",
    "                 'times_sacked', 'total_wins', 'total_losses', 'spread', \n",
    "                 'favorite', 'underdog', 'time_of_possession','penalty_yards','FGM','points_for', 'points_against']]\n",
    "\n",
    "y_train_w8 = w8_train['win?']\n",
    "#y_train_w8 = w8_train['covered_spread?']\n",
    "X_train_w8 = w8_train[['home', 'away', 'yards_per_play_offense', \n",
    "                 'yards_allowed_per_defensive_play', 'turnovers_lost',\n",
    "                 'times_sacked', 'total_wins', 'total_losses', 'spread', \n",
    "                 'favorite', 'underdog', 'time_of_possession','penalty_yards','FGM','points_for', 'points_against']]\n",
    "\n",
    "y_test_w8 = week_8['win?']\n",
    "#y_test_w8 = week_8['covered_spread?']\n",
    "X_test_w8 = avgs8[['home', 'away', 'yards_per_play_offense', \n",
    "                 'yards_allowed_per_defensive_play', 'turnovers_lost',\n",
    "                 'times_sacked', 'total_wins', 'total_losses', 'spread', \n",
    "                 'favorite', 'underdog', 'time_of_possession','penalty_yards','FGM','points_for', 'points_against']]\n",
    "\n",
    "y_train_w9 = w9_train['win?']\n",
    "#y_train_w9 = w9_train['covered_spread?']\n",
    "X_train_w9 = w9_train[['home', 'away', 'yards_per_play_offense', \n",
    "                 'yards_allowed_per_defensive_play', 'turnovers_lost',\n",
    "                 'times_sacked', 'total_wins', 'total_losses', 'spread', \n",
    "                 'favorite', 'underdog', 'time_of_possession','penalty_yards','FGM','points_for', 'points_against']]\n",
    "\n",
    "y_test_w9 = week_9['win?']\n",
    "#y_test_w9 = week_9['covered_spread?']\n",
    "X_test_w9 = avgs9[['home', 'away', 'yards_per_play_offense', \n",
    "                 'yards_allowed_per_defensive_play', 'turnovers_lost',\n",
    "                 'times_sacked', 'total_wins', 'total_losses', 'spread', \n",
    "                 'favorite', 'underdog', 'time_of_possession','penalty_yards','FGM','points_for', 'points_against']]\n",
    "\n",
    "y_train_w10 = w10_train['win?']\n",
    "#y_train_w10 = w10_train['covered_spread?']\n",
    "X_train_w10 = w10_train[['home', 'away', 'yards_per_play_offense', \n",
    "                 'yards_allowed_per_defensive_play', 'turnovers_lost',\n",
    "                 'times_sacked', 'total_wins', 'total_losses', 'spread', \n",
    "                 'favorite', 'underdog', 'time_of_possession','penalty_yards','FGM','points_for', 'points_against']]\n",
    "\n",
    "y_test_w10 = week_10['win?']\n",
    "#y_test_w10 = week_10['covered_spread?']\n",
    "X_test_w10 = avgs10[['home', 'away', 'yards_per_play_offense', \n",
    "                 'yards_allowed_per_defensive_play', 'turnovers_lost',\n",
    "                 'times_sacked', 'total_wins', 'total_losses', 'spread', \n",
    "                 'favorite', 'underdog', 'time_of_possession','penalty_yards','FGM','points_for', 'points_against']]\n",
    "\n",
    "y_train_w11 = w11_train['win?']\n",
    "#y_train_w11 = w11_train['covered_spread?']\n",
    "X_train_w11 = w11_train[['home', 'away', 'yards_per_play_offense', \n",
    "                 'yards_allowed_per_defensive_play', 'turnovers_lost',\n",
    "                 'times_sacked', 'total_wins', 'total_losses', 'spread', \n",
    "                 'favorite', 'underdog', 'time_of_possession','penalty_yards','FGM','points_for', 'points_against']]\n",
    "\n",
    "y_test_w11 = week_11['win?']\n",
    "#y_test_w11 = week_11['covered_spread?']\n",
    "X_test_w11 = avgs11[['home', 'away', 'yards_per_play_offense', \n",
    "                 'yards_allowed_per_defensive_play', 'turnovers_lost',\n",
    "                 'times_sacked', 'total_wins', 'total_losses', 'spread', \n",
    "                 'favorite', 'underdog', 'time_of_possession','penalty_yards','FGM','points_for', 'points_against']]\n",
    "\n",
    "y_train_w12 = w12_train['win?']\n",
    "#y_train_w12 = w12_train['covered_spread?']\n",
    "X_train_w12 = w12_train[['home', 'away', 'yards_per_play_offense', \n",
    "                 'yards_allowed_per_defensive_play', 'turnovers_lost',\n",
    "                 'times_sacked', 'total_wins', 'total_losses', 'spread', \n",
    "                 'favorite', 'underdog', 'time_of_possession','penalty_yards','FGM','points_for', 'points_against']]\n",
    "\n",
    "y_test_w12 = week_12['win?']\n",
    "#y_test_w12 = week_12['covered_spread?']\n",
    "X_test_w12 = avgs12[['home', 'away', 'yards_per_play_offense', \n",
    "                 'yards_allowed_per_defensive_play', 'turnovers_lost',\n",
    "                 'times_sacked', 'total_wins', 'total_losses', 'spread', \n",
    "                 'favorite', 'underdog', 'time_of_possession','penalty_yards','FGM','points_for', 'points_against']]\n",
    "\n",
    "y_train_w13 = w13_train['win?']\n",
    "#y_train_w13 = w13_train['covered_spread?']\n",
    "X_train_w13 = w13_train[['home', 'away', 'yards_per_play_offense', \n",
    "                 'yards_allowed_per_defensive_play', 'turnovers_lost',\n",
    "                 'times_sacked', 'total_wins', 'total_losses', 'spread', \n",
    "                 'favorite', 'underdog', 'time_of_possession','penalty_yards','FGM','points_for', 'points_against']]\n",
    "\n",
    "y_test_w13 = week_13['win?']\n",
    "#y_test_w13 = week_13['covered_spread?']\n",
    "X_test_w13 = avgs13[['home', 'away', 'yards_per_play_offense', \n",
    "                 'yards_allowed_per_defensive_play', 'turnovers_lost',\n",
    "                 'times_sacked', 'total_wins', 'total_losses', 'spread', \n",
    "                 'favorite', 'underdog', 'time_of_possession','penalty_yards','FGM','points_for', 'points_against']]\n",
    "\n",
    "y_train_w14 = w14_train['win?']\n",
    "#y_train_w14 = w14_train['covered_spread?']\n",
    "X_train_w14 = w14_train[['home', 'away', 'yards_per_play_offense', \n",
    "                 'yards_allowed_per_defensive_play', 'turnovers_lost',\n",
    "                 'times_sacked', 'total_wins', 'total_losses', 'spread', \n",
    "                 'favorite', 'underdog', 'time_of_possession','penalty_yards','FGM','points_for', 'points_against']]\n",
    "\n",
    "y_test_w14 = week_14['win?']\n",
    "#y_test_w14 = week_14['covered_spread?']\n",
    "X_test_w14 = avgs14[['home', 'away', 'yards_per_play_offense', \n",
    "                 'yards_allowed_per_defensive_play', 'turnovers_lost',\n",
    "                 'times_sacked', 'total_wins', 'total_losses', 'spread', \n",
    "                 'favorite', 'underdog', 'time_of_possession','penalty_yards','FGM','points_for', 'points_against']]\n",
    "\n",
    "y_train_w15 = w15_train['win?']\n",
    "#y_train_w15 = w15_train['covered_spread?']\n",
    "X_train_w15 = w15_train[['home', 'away', 'yards_per_play_offense', \n",
    "                 'yards_allowed_per_defensive_play', 'turnovers_lost',\n",
    "                 'times_sacked', 'total_wins', 'total_losses', 'spread', \n",
    "                 'favorite', 'underdog', 'time_of_possession','penalty_yards','FGM','points_for', 'points_against']]\n",
    "\n",
    "y_test_w15 = week_15['win?']\n",
    "#y_test_w15 = week_15['covered_spread?']\n",
    "X_test_w15 = avgs15[['home', 'away', 'yards_per_play_offense', \n",
    "                 'yards_allowed_per_defensive_play', 'turnovers_lost',\n",
    "                 'times_sacked', 'total_wins', 'total_losses', 'spread', \n",
    "                 'favorite', 'underdog', 'time_of_possession','penalty_yards','FGM','points_for', 'points_against']]\n",
    "\n",
    "y_train_w16 = w16_train['win?']\n",
    "#y_train_w16 = w16_train['covered_spread?']\n",
    "X_train_w16 = w16_train[['home', 'away', 'yards_per_play_offense', \n",
    "                 'yards_allowed_per_defensive_play', 'turnovers_lost',\n",
    "                 'times_sacked', 'total_wins', 'total_losses', 'spread', \n",
    "                 'favorite', 'underdog', 'time_of_possession','penalty_yards','FGM','points_for', 'points_against']]\n",
    "\n",
    "y_test_w16 = week_16['win?']\n",
    "#y_test_w16 = week_16['covered_spread?']\n",
    "X_test_w16 = avgs16[['home', 'away', 'yards_per_play_offense', \n",
    "                 'yards_allowed_per_defensive_play', 'turnovers_lost',\n",
    "                 'times_sacked', 'total_wins', 'total_losses', 'spread', \n",
    "                 'favorite', 'underdog', 'time_of_possession','penalty_yards','FGM','points_for', 'points_against']]\n",
    "\n",
    "y_train_w17 = w17_train['win?']\n",
    "#y_train_w17 = w17_train['covered_spread?']\n",
    "X_train_w17 = w17_train[['home', 'away', 'yards_per_play_offense', \n",
    "                 'yards_allowed_per_defensive_play', 'turnovers_lost',\n",
    "                 'times_sacked', 'total_wins', 'total_losses', 'spread', \n",
    "                 'favorite', 'underdog', 'time_of_possession','penalty_yards','FGM','points_for', 'points_against']]\n",
    "\n",
    "y_test_w17 = week_17['win?']\n",
    "#y_test_w17 = week_17['covered_spread?']\n",
    "X_test_w17 = avgs17[['home', 'away', 'yards_per_play_offense', \n",
    "                 'yards_allowed_per_defensive_play', 'turnovers_lost',\n",
    "                 'times_sacked', 'total_wins', 'total_losses', 'spread', \n",
    "                 'favorite', 'underdog', 'time_of_possession','penalty_yards','FGM','points_for', 'points_against']]\n"
   ]
  },
  {
   "cell_type": "code",
   "execution_count": 393,
   "metadata": {
    "ExecuteTime": {
     "end_time": "2020-06-13T15:43:27.743058Z",
     "start_time": "2020-06-13T15:43:20.114271Z"
    }
   },
   "outputs": [
    {
     "data": {
      "text/plain": [
       "GradientBoostingClassifier(learning_rate=0.12, max_depth=4, n_estimators=200)"
      ]
     },
     "execution_count": 393,
     "metadata": {},
     "output_type": "execute_result"
    }
   ],
   "source": [
    "model5 = GradientBoostingClassifier(learning_rate=0.12, n_estimators=200, max_depth=4)\n",
    "model5.fit(X_train_w5, y_train_w5)\n",
    "\n",
    "model6 = GradientBoostingClassifier(learning_rate=0.12, n_estimators=200, max_depth=4)\n",
    "model6.fit(X_train_w6, y_train_w6)\n",
    "\n",
    "model7 = GradientBoostingClassifier(learning_rate=0.12, n_estimators=200, max_depth=4)\n",
    "model7.fit(X_train_w7, y_train_w7)\n",
    "\n",
    "model8 = GradientBoostingClassifier(learning_rate=0.12, n_estimators=200, max_depth=4)\n",
    "model8.fit(X_train_w8, y_train_w8)\n",
    "\n",
    "model9 = GradientBoostingClassifier(learning_rate=0.12, n_estimators=200, max_depth=4)\n",
    "model9.fit(X_train_w9, y_train_w9)\n",
    "\n",
    "model10 = GradientBoostingClassifier(learning_rate=0.12, n_estimators=200, max_depth=4)\n",
    "model10.fit(X_train_w10, y_train_w10)\n",
    "\n",
    "model11 = GradientBoostingClassifier(learning_rate=0.12, n_estimators=200, max_depth=4)\n",
    "model11.fit(X_train_w11, y_train_w11)\n",
    "\n",
    "model12 = GradientBoostingClassifier(learning_rate=0.12, n_estimators=200, max_depth=4)\n",
    "model12.fit(X_train_w12, y_train_w12)\n",
    "\n",
    "model13 = GradientBoostingClassifier(learning_rate=0.12, n_estimators=200, max_depth=4)\n",
    "model13.fit(X_train_w13, y_train_w13)\n",
    "\n",
    "model14 = GradientBoostingClassifier(learning_rate=0.12, n_estimators=200, max_depth=4)\n",
    "model14.fit(X_train_w14, y_train_w14)\n",
    "\n",
    "model15 = GradientBoostingClassifier(learning_rate=0.12, n_estimators=200, max_depth=4)\n",
    "model15.fit(X_train_w15, y_train_w15)\n",
    "\n",
    "model16 = GradientBoostingClassifier(learning_rate=0.12, n_estimators=200, max_depth=4)\n",
    "model16.fit(X_train_w16, y_train_w16)\n",
    "\n",
    "model17 = GradientBoostingClassifier(learning_rate=0.12, n_estimators=200, max_depth=4)\n",
    "model17.fit(X_train_w17, y_train_w17)"
   ]
  },
  {
   "cell_type": "code",
   "execution_count": 394,
   "metadata": {
    "ExecuteTime": {
     "end_time": "2020-06-13T15:43:32.621214Z",
     "start_time": "2020-06-13T15:43:32.544837Z"
    }
   },
   "outputs": [],
   "source": [
    "targa5 = model5.predict_proba(X_test_w5)[:,1:]\n",
    "ta5 = week_5['team'].values.reshape(30,1)\n",
    "oa5 = week_5['opponent'].values.reshape(30,1)\n",
    "aa5 = week_5['win?'].values.reshape(30,1)\n",
    "gida5 = week_5['game_id'].values.reshape(30,1)\n",
    "fav5 = week_5['favorite'].values.reshape(30,1)\n",
    "\n",
    "targa6 = model6.predict_proba(X_test_w6)[:,1:]\n",
    "ta6 = week_6['team'].values.reshape(28,1)\n",
    "oa6 = week_6['opponent'].values.reshape(28,1)\n",
    "aa6 = week_6['win?'].values.reshape(28,1)\n",
    "gida6 = week_6['game_id'].values.reshape(28,1)\n",
    "fav6 = week_6['favorite'].values.reshape(28,1)\n",
    "\n",
    "targa7 = model7.predict_proba(X_test_w7)[:,1:]\n",
    "ta7 = week_7['team'].values.reshape(28,1)\n",
    "oa7 = week_7['opponent'].values.reshape(28,1)\n",
    "aa7 = week_7['win?'].values.reshape(28,1)\n",
    "gida7 = week_7['game_id'].values.reshape(28,1)\n",
    "fav7 = week_7['favorite'].values.reshape(28,1)\n",
    "\n",
    "targa8 = model8.predict_proba(X_test_w8)[:,1:]\n",
    "ta8 = week_8['team'].values.reshape(30,1)\n",
    "oa8 = week_8['opponent'].values.reshape(30,1)\n",
    "aa8 = week_8['win?'].values.reshape(30,1)\n",
    "gida8 = week_8['game_id'].values.reshape(30,1)\n",
    "fav8 = week_8['favorite'].values.reshape(30,1)\n",
    "\n",
    "targa9 = model9.predict_proba(X_test_w9)[:,1:]\n",
    "ta9 = week_9['team'].values.reshape(28,1)\n",
    "oa9 = week_9['opponent'].values.reshape(28,1)\n",
    "aa9 = week_9['win?'].values.reshape(28,1)\n",
    "gida9 = week_9['game_id'].values.reshape(28,1)\n",
    "fav9 = week_9['favorite'].values.reshape(28,1)\n",
    "\n",
    "targa10 = model10.predict_proba(X_test_w10)[:,1:]\n",
    "ta10 = week_10['team'].values.reshape(26,1)\n",
    "oa10 = week_10['opponent'].values.reshape(26,1)\n",
    "aa10 = week_10['win?'].values.reshape(26,1)\n",
    "gida10 = week_10['game_id'].values.reshape(26,1)\n",
    "fav10 = week_10['favorite'].values.reshape(26,1)\n",
    "\n",
    "targa11 = model11.predict_proba(X_test_w11)[:,1:]\n",
    "ta11 = week_11['team'].values.reshape(28,1)\n",
    "oa11 = week_11['opponent'].values.reshape(28,1)\n",
    "aa11 = week_11['win?'].values.reshape(28,1)\n",
    "gida11 = week_11['game_id'].values.reshape(28,1)\n",
    "fav11 = week_11['favorite'].values.reshape(28,1)\n",
    "\n",
    "targa12 = model12.predict_proba(X_test_w12)[:,1:]\n",
    "ta12 = week_12['team'].values.reshape(28,1)\n",
    "oa12 = week_12['opponent'].values.reshape(28,1)\n",
    "aa12 = week_12['win?'].values.reshape(28,1)\n",
    "gida12 = week_12['game_id'].values.reshape(28,1)\n",
    "fav12 = week_12['favorite'].values.reshape(28,1)\n",
    "\n",
    "targa13 = model13.predict_proba(X_test_w13)[:,1:]\n",
    "ta13 = week_13['team'].values.reshape(32,1)\n",
    "oa13 = week_13['opponent'].values.reshape(32,1)\n",
    "aa13 = week_13['win?'].values.reshape(32,1)\n",
    "gida13 = week_13['game_id'].values.reshape(32,1)\n",
    "fav13 = week_13['favorite'].values.reshape(32,1)\n",
    "\n",
    "targa14 = model14.predict_proba(X_test_w14)[:,1:]\n",
    "ta14 = week_14['team'].values.reshape(32,1)\n",
    "oa14 = week_14['opponent'].values.reshape(32,1)\n",
    "aa14 = week_14['win?'].values.reshape(32,1)\n",
    "gida14 = week_14['game_id'].values.reshape(32,1)\n",
    "fav14 = week_14['favorite'].values.reshape(32,1)\n",
    "\n",
    "targa15 = model15.predict_proba(X_test_w15)[:,1:]\n",
    "ta15 = week_15['team'].values.reshape(32,1)\n",
    "oa15 = week_15['opponent'].values.reshape(32,1)\n",
    "aa15 = week_15['win?'].values.reshape(32,1)\n",
    "gida15 = week_15['game_id'].values.reshape(32,1)\n",
    "fav15 = week_15['favorite'].values.reshape(32,1)\n",
    "\n",
    "targa16 = model16.predict_proba(X_test_w16)[:,1:]\n",
    "ta16 = week_16['team'].values.reshape(32,1)\n",
    "oa16 = week_16['opponent'].values.reshape(32,1)\n",
    "aa16 = week_16['win?'].values.reshape(32,1)\n",
    "gida16 = week_16['game_id'].values.reshape(32,1)\n",
    "fav16 = week_16['favorite'].values.reshape(32,1)\n",
    "\n",
    "targa17 = model17.predict_proba(X_test_w17)[:,1:]\n",
    "ta17 = week_17['team'].values.reshape(32,1)\n",
    "oa17 = week_17['opponent'].values.reshape(32,1)\n",
    "aa17 = week_17['win?'].values.reshape(32,1)\n",
    "gida17 = week_17['game_id'].values.reshape(32,1)\n",
    "fav17 = week_17['favorite'].values.reshape(32,1)"
   ]
  },
  {
   "cell_type": "code",
   "execution_count": 395,
   "metadata": {
    "ExecuteTime": {
     "end_time": "2020-06-13T15:43:33.498076Z",
     "start_time": "2020-06-13T15:43:33.441902Z"
    }
   },
   "outputs": [],
   "source": [
    "result_5= pd.DataFrame(np.hstack([ta5, oa5, targa5, aa5, gida5, fav5]), columns=['team','opp',\n",
    "                    'proba_team_won', 'team_won', 'game_id', 'favorite'])\n",
    "result_6= pd.DataFrame(np.hstack([ta6, oa6, targa6, aa6, gida6, fav6]), columns=['team','opp',\n",
    "                    'proba_team_won', 'team_won', 'game_id', 'favorite'])\n",
    "\n",
    "result_7= pd.DataFrame(np.hstack([ta7, oa7, targa7, aa7, gida7, fav7]), columns=['team','opp',\n",
    "                    'proba_team_won', 'team_won', 'game_id', 'favorite'])\n",
    "\n",
    "result_8= pd.DataFrame(np.hstack([ta8, oa8, targa8, aa8, gida8, fav8]), columns=['team','opp',\n",
    "                    'proba_team_won', 'team_won', 'game_id', 'favorite'])\n",
    "\n",
    "result_9= pd.DataFrame(np.hstack([ta9, oa9, targa9, aa9, gida9, fav9]), columns=['team','opp',\n",
    "                    'proba_team_won', 'team_won', 'game_id', 'favorite'])\n",
    "\n",
    "result_10= pd.DataFrame(np.hstack([ta10, oa10, targa10, aa10, gida10, fav10]), columns=['team','opp',\n",
    "                    'proba_team_won', 'team_won', 'game_id', 'favorite'])\n",
    "\n",
    "result_11= pd.DataFrame(np.hstack([ta11, oa11, targa11, aa11, gida11, fav11]), columns=['team','opp',\n",
    "                    'proba_team_won', 'team_won', 'game_id', 'favorite'])\n",
    "\n",
    "result_12= pd.DataFrame(np.hstack([ta12, oa12, targa12, aa12, gida12, fav12]), columns=['team','opp',\n",
    "                    'proba_team_won', 'team_won', 'game_id', 'favorite'])\n",
    "\n",
    "result_13= pd.DataFrame(np.hstack([ta13, oa13, targa13, aa13, gida13, fav13]), columns=['team','opp',\n",
    "                    'proba_team_won', 'team_won', 'game_id', 'favorite'])\n",
    "\n",
    "result_14= pd.DataFrame(np.hstack([ta14, oa14, targa14, aa14, gida14, fav14]), columns=['team','opp',\n",
    "                    'proba_team_won', 'team_won', 'game_id', 'favorite'])\n",
    "\n",
    "result_15= pd.DataFrame(np.hstack([ta15, oa15, targa15, aa15, gida15, fav15]), columns=['team','opp',\n",
    "                    'proba_team_won', 'team_won', 'game_id', 'favorite'])\n",
    "\n",
    "result_16= pd.DataFrame(np.hstack([ta16, oa16, targa16, aa16, gida16, fav16]), columns=['team','opp',\n",
    "                    'proba_team_won', 'team_won', 'game_id', 'favorite'])\n",
    "result_17= pd.DataFrame(np.hstack([ta17, oa17, targa17, aa17, gida17, fav17]), columns=['team','opp',\n",
    "                    'proba_team_won', 'team_won', 'game_id', 'favorite'])"
   ]
  },
  {
   "cell_type": "code",
   "execution_count": 396,
   "metadata": {
    "ExecuteTime": {
     "end_time": "2020-06-13T15:43:34.163607Z",
     "start_time": "2020-06-13T15:43:34.143071Z"
    }
   },
   "outputs": [],
   "source": [
    "result_5 = result_5.sort_values(by=['game_id'])\n",
    "result_6 = result_6.sort_values(by=['game_id'])\n",
    "result_7 = result_7.sort_values(by=['game_id'])\n",
    "result_8 = result_8.sort_values(by=['game_id'])\n",
    "result_9 = result_9.sort_values(by=['game_id'])\n",
    "result_10 = result_10.sort_values(by=['game_id'])\n",
    "result_11 = result_11.sort_values(by=['game_id'])\n",
    "result_12 = result_12.sort_values(by=['game_id'])\n",
    "result_13 = result_13.sort_values(by=['game_id'])\n",
    "result_14 = result_14.sort_values(by=['game_id'])\n",
    "result_15 = result_15.sort_values(by=['game_id'])\n",
    "result_16 = result_16.sort_values(by=['game_id'])\n",
    "result_17 = result_17.sort_values(by=['game_id'])"
   ]
  },
  {
   "cell_type": "code",
   "execution_count": 397,
   "metadata": {
    "ExecuteTime": {
     "end_time": "2020-06-13T15:43:34.844626Z",
     "start_time": "2020-06-13T15:43:34.814233Z"
    }
   },
   "outputs": [],
   "source": [
    "n_5 = result_5[['team', 'proba_team_won','team_won','game_id', 'favorite']]\n",
    "n_6 = result_6[['team', 'proba_team_won','team_won','game_id', 'favorite']]\n",
    "n_7 = result_7[['team', 'proba_team_won','team_won','game_id', 'favorite']]\n",
    "n_8 = result_8[['team', 'proba_team_won','team_won','game_id', 'favorite']]\n",
    "n_9 = result_9[['team', 'proba_team_won','team_won','game_id', 'favorite']]\n",
    "n_10 = result_10[['team', 'proba_team_won','team_won','game_id', 'favorite']]\n",
    "n_11 = result_11[['team', 'proba_team_won','team_won','game_id', 'favorite']]\n",
    "n_12 = result_12[['team', 'proba_team_won','team_won','game_id', 'favorite']]\n",
    "n_13 = result_13[['team', 'proba_team_won','team_won','game_id', 'favorite']]\n",
    "n_14 = result_14[['team', 'proba_team_won','team_won','game_id', 'favorite']]\n",
    "n_15 = result_15[['team', 'proba_team_won','team_won','game_id', 'favorite']]\n",
    "n_16 = result_16[['team', 'proba_team_won','team_won','game_id', 'favorite']]\n",
    "n_17 = result_17[['team', 'proba_team_won','team_won','game_id', 'favorite']]"
   ]
  },
  {
   "cell_type": "code",
   "execution_count": 398,
   "metadata": {
    "ExecuteTime": {
     "end_time": "2020-06-13T15:43:35.533070Z",
     "start_time": "2020-06-13T15:43:35.521149Z"
    }
   },
   "outputs": [],
   "source": [
    "n_5.columns = ['opp', 'proba_opp_won', 'opp_won', 'game_id', 'opp_fav']\n",
    "n_6.columns = ['opp', 'proba_opp_won', 'opp_won', 'game_id', 'opp_fav']\n",
    "n_7.columns = ['opp', 'proba_opp_won', 'opp_won', 'game_id', 'opp_fav']\n",
    "n_8.columns = ['opp', 'proba_opp_won', 'opp_won', 'game_id', 'opp_fav']\n",
    "n_9.columns = ['opp', 'proba_opp_won', 'opp_won', 'game_id', 'opp_fav']\n",
    "n_10.columns = ['opp', 'proba_opp_won', 'opp_won', 'game_id', 'opp_fav']\n",
    "n_11.columns = ['opp', 'proba_opp_won', 'opp_won', 'game_id', 'opp_fav']\n",
    "n_12.columns = ['opp', 'proba_opp_won', 'opp_won', 'game_id', 'opp_fav']\n",
    "n_13.columns = ['opp', 'proba_opp_won', 'opp_won', 'game_id', 'opp_fav']\n",
    "n_14.columns = ['opp', 'proba_opp_won', 'opp_won', 'game_id', 'opp_fav']\n",
    "n_15.columns = ['opp', 'proba_opp_won', 'opp_won', 'game_id', 'opp_fav']\n",
    "n_16.columns = ['opp', 'proba_opp_won', 'opp_won', 'game_id', 'opp_fav']\n",
    "n_17.columns = ['opp', 'proba_opp_won', 'opp_won', 'game_id', 'opp_fav']"
   ]
  },
  {
   "cell_type": "code",
   "execution_count": 399,
   "metadata": {
    "ExecuteTime": {
     "end_time": "2020-06-13T15:43:36.225338Z",
     "start_time": "2020-06-13T15:43:36.192962Z"
    }
   },
   "outputs": [],
   "source": [
    "n_5 = n_5.drop_duplicates(['game_id'], keep='last')\n",
    "n_6 = n_6.drop_duplicates(['game_id'], keep='last')\n",
    "n_7 = n_7.drop_duplicates(['game_id'], keep='last')\n",
    "n_8 = n_8.drop_duplicates(['game_id'], keep='last')\n",
    "n_9 = n_9.drop_duplicates(['game_id'], keep='last')\n",
    "n_10 = n_10.drop_duplicates(['game_id'], keep='last')\n",
    "n_11 = n_11.drop_duplicates(['game_id'], keep='last')\n",
    "n_12 = n_12.drop_duplicates(['game_id'], keep='last')\n",
    "n_13 = n_13.drop_duplicates(['game_id'], keep='last')\n",
    "n_14 = n_14.drop_duplicates(['game_id'], keep='last')\n",
    "n_15 = n_15.drop_duplicates(['game_id'], keep='last')\n",
    "n_16 = n_16.drop_duplicates(['game_id'], keep='last')\n",
    "n_17 = n_17.drop_duplicates(['game_id'], keep='last')"
   ]
  },
  {
   "cell_type": "code",
   "execution_count": 400,
   "metadata": {
    "ExecuteTime": {
     "end_time": "2020-06-13T15:43:36.896015Z",
     "start_time": "2020-06-13T15:43:36.848782Z"
    }
   },
   "outputs": [],
   "source": [
    "result_5= result_5.drop_duplicates(['game_id'], keep='first')\n",
    "result_6= result_6.drop_duplicates(['game_id'], keep='first')\n",
    "result_7= result_7.drop_duplicates(['game_id'], keep='first')\n",
    "result_8= result_8.drop_duplicates(['game_id'], keep='first')\n",
    "result_9= result_9.drop_duplicates(['game_id'], keep='first')\n",
    "result_10= result_10.drop_duplicates(['game_id'], keep='first')\n",
    "result_11= result_11.drop_duplicates(['game_id'], keep='first')\n",
    "result_12= result_12.drop_duplicates(['game_id'], keep='first')\n",
    "result_13= result_13.drop_duplicates(['game_id'], keep='first')\n",
    "result_14= result_14.drop_duplicates(['game_id'], keep='first')\n",
    "result_15= result_15.drop_duplicates(['game_id'], keep='first')\n",
    "result_16= result_16.drop_duplicates(['game_id'], keep='first')\n",
    "result_17= result_17.drop_duplicates(['game_id'], keep='first')"
   ]
  },
  {
   "cell_type": "code",
   "execution_count": 401,
   "metadata": {
    "ExecuteTime": {
     "end_time": "2020-06-13T15:43:37.524555Z",
     "start_time": "2020-06-13T15:43:37.505372Z"
    }
   },
   "outputs": [],
   "source": [
    "result_5 = result_5.drop(columns='opp')\n",
    "result_6 = result_6.drop(columns='opp')\n",
    "result_7 = result_7.drop(columns='opp')\n",
    "result_8 = result_8.drop(columns='opp')\n",
    "result_9 = result_9.drop(columns='opp')\n",
    "result_10 = result_10.drop(columns='opp')\n",
    "result_11 = result_11.drop(columns='opp')\n",
    "result_12 = result_12.drop(columns='opp')\n",
    "result_13 = result_13.drop(columns='opp')\n",
    "result_14 = result_14.drop(columns='opp')\n",
    "result_15 = result_15.drop(columns='opp')\n",
    "result_16 = result_16.drop(columns='opp')\n",
    "result_17 = result_17.drop(columns='opp')"
   ]
  },
  {
   "cell_type": "code",
   "execution_count": 402,
   "metadata": {
    "ExecuteTime": {
     "end_time": "2020-06-13T15:43:38.192240Z",
     "start_time": "2020-06-13T15:43:38.126017Z"
    }
   },
   "outputs": [],
   "source": [
    "merge_5 = result_5.merge(n_5, on=['game_id'], how='left')\n",
    "merge_6 = result_6.merge(n_6, on=['game_id'], how='left')\n",
    "merge_7 = result_7.merge(n_7, on=['game_id'], how='left')\n",
    "merge_8 = result_8.merge(n_8, on=['game_id'], how='left')\n",
    "merge_9 = result_9.merge(n_9, on=['game_id'], how='left')\n",
    "merge_10 = result_10.merge(n_10, on=['game_id'], how='left')\n",
    "merge_11 = result_11.merge(n_11, on=['game_id'], how='left')\n",
    "merge_12 = result_12.merge(n_12, on=['game_id'], how='left')\n",
    "merge_13 = result_13.merge(n_13, on=['game_id'], how='left')\n",
    "merge_14 = result_14.merge(n_14, on=['game_id'], how='left')\n",
    "merge_15 = result_15.merge(n_15, on=['game_id'], how='left')\n",
    "merge_16 = result_16.merge(n_16, on=['game_id'], how='left')\n",
    "merge_17 = result_17.merge(n_17, on=['game_id'], how='left')"
   ]
  },
  {
   "cell_type": "code",
   "execution_count": 403,
   "metadata": {
    "ExecuteTime": {
     "end_time": "2020-06-13T15:43:38.924426Z",
     "start_time": "2020-06-13T15:43:38.894286Z"
    }
   },
   "outputs": [],
   "source": [
    "merge_5 = merge_5[['game_id','team','opp', 'proba_team_won', 'proba_opp_won',\n",
    "                'team_won', 'opp_won', 'favorite', 'opp_fav']]\n",
    "merge_6 = merge_6[['game_id','team','opp', 'proba_team_won', 'proba_opp_won',\n",
    "                'team_won', 'opp_won', 'favorite', 'opp_fav']]\n",
    "merge_7 = merge_7[['game_id','team','opp', 'proba_team_won', 'proba_opp_won',\n",
    "                'team_won', 'opp_won', 'favorite', 'opp_fav']]\n",
    "merge_8 = merge_8[['game_id','team','opp', 'proba_team_won', 'proba_opp_won',\n",
    "                'team_won', 'opp_won', 'favorite', 'opp_fav']]\n",
    "merge_9 = merge_9[['game_id','team','opp', 'proba_team_won', 'proba_opp_won',\n",
    "                'team_won', 'opp_won', 'favorite', 'opp_fav']]\n",
    "merge_10 = merge_10[['game_id','team','opp', 'proba_team_won', 'proba_opp_won',\n",
    "                'team_won', 'opp_won', 'favorite', 'opp_fav']]\n",
    "merge_11 = merge_11[['game_id','team','opp', 'proba_team_won', 'proba_opp_won',\n",
    "                'team_won', 'opp_won', 'favorite', 'opp_fav']]\n",
    "merge_12 = merge_12[['game_id','team','opp', 'proba_team_won', 'proba_opp_won',\n",
    "                'team_won', 'opp_won', 'favorite', 'opp_fav']]\n",
    "merge_13 = merge_13[['game_id','team','opp', 'proba_team_won', 'proba_opp_won',\n",
    "                'team_won', 'opp_won', 'favorite', 'opp_fav']]\n",
    "merge_14 = merge_14[['game_id','team','opp', 'proba_team_won', 'proba_opp_won',\n",
    "                'team_won', 'opp_won', 'favorite', 'opp_fav']]\n",
    "merge_15 = merge_15[['game_id','team','opp', 'proba_team_won', 'proba_opp_won',\n",
    "                'team_won', 'opp_won', 'favorite', 'opp_fav']]\n",
    "merge_16 = merge_16[['game_id','team','opp', 'proba_team_won', 'proba_opp_won',\n",
    "                'team_won', 'opp_won', 'favorite', 'opp_fav']]\n",
    "merge_17 = merge_17[['game_id','team','opp', 'proba_team_won', 'proba_opp_won',\n",
    "                'team_won', 'opp_won', 'favorite', 'opp_fav']]"
   ]
  },
  {
   "cell_type": "code",
   "execution_count": 404,
   "metadata": {
    "ExecuteTime": {
     "end_time": "2020-06-13T15:43:39.564322Z",
     "start_time": "2020-06-13T15:43:39.553479Z"
    }
   },
   "outputs": [],
   "source": [
    "m_5 = merge_5.copy()\n",
    "m_6 = merge_6.copy()\n",
    "m_7 = merge_7.copy()\n",
    "m_8 = merge_8.copy()\n",
    "m_9 = merge_9.copy()\n",
    "m_10 = merge_10.copy()\n",
    "m_11 = merge_11.copy()\n",
    "m_12 = merge_12.copy()\n",
    "m_13 = merge_13.copy()\n",
    "m_14 = merge_14.copy()\n",
    "m_15 = merge_15.copy()\n",
    "m_16 = merge_16.copy()\n",
    "m_17 = merge_17.copy()"
   ]
  },
  {
   "cell_type": "code",
   "execution_count": 405,
   "metadata": {
    "ExecuteTime": {
     "end_time": "2020-06-13T15:43:42.408378Z",
     "start_time": "2020-06-13T15:43:40.289428Z"
    }
   },
   "outputs": [],
   "source": [
    "for idx, row in ml5.iterrows():\n",
    "    m_5.loc[m_5['team']==row['team'],'money_line']=row['money_line']\n",
    "    m_5.loc[m_5['opp']==row['team'],'opp_money_line']=row['money_line']\n",
    "    m_5.loc[m_5['opp']==row['opp'],'opp_money_line']=row['opp_money_line']\n",
    "    m_5.loc[m_5['team']==row['opp'],'money_line']=row['opp_money_line']\n",
    "\n",
    "for idx, row in ml6.iterrows():\n",
    "    m_6.loc[m_6['team']==row['team'],'money_line']=row['money_line']\n",
    "    m_6.loc[m_6['opp']==row['team'],'opp_money_line']=row['money_line']\n",
    "    m_6.loc[m_6['opp']==row['opp'],'opp_money_line']=row['opp_money_line']\n",
    "    m_6.loc[m_6['team']==row['opp'],'money_line']=row['opp_money_line']\n",
    "\n",
    "for idx, row in ml7.iterrows():\n",
    "    m_7.loc[m_7['team']==row['team'],'money_line']=row['money_line']\n",
    "    m_7.loc[m_7['opp']==row['team'],'opp_money_line']=row['money_line']\n",
    "    m_7.loc[m_7['opp']==row['opp'],'opp_money_line']=row['opp_money_line']\n",
    "    m_7.loc[m_7['team']==row['opp'],'money_line']=row['opp_money_line']\n",
    "\n",
    "for idx, row in ml8.iterrows():\n",
    "    m_8.loc[m_8['team']==row['team'],'money_line']=row['money_line']\n",
    "    m_8.loc[m_8['opp']==row['team'],'opp_money_line']=row['money_line']\n",
    "    m_8.loc[m_8['opp']==row['opp'],'opp_money_line']=row['opp_money_line']\n",
    "    m_8.loc[m_8['team']==row['opp'],'money_line']=row['opp_money_line']\n",
    "\n",
    "for idx, row in ml9.iterrows():\n",
    "    m_9.loc[m_9['team']==row['team'],'money_line']=row['money_line']\n",
    "    m_9.loc[m_9['opp']==row['team'],'opp_money_line']=row['money_line']\n",
    "    m_9.loc[m_9['opp']==row['opp'],'opp_money_line']=row['opp_money_line']\n",
    "    m_9.loc[m_9['team']==row['opp'],'money_line']=row['opp_money_line']\n",
    "    \n",
    "for idx, row in ml10.iterrows():\n",
    "    m_10.loc[m_10['team']==row['team'],'money_line']=row['money_line']\n",
    "    m_10.loc[m_10['opp']==row['team'],'opp_money_line']=row['money_line']\n",
    "    m_10.loc[m_10['opp']==row['opp'],'opp_money_line']=row['opp_money_line']\n",
    "    m_10.loc[m_10['team']==row['opp'],'money_line']=row['opp_money_line']    \n",
    "    \n",
    "for idx, row in ml11.iterrows():\n",
    "    m_11.loc[m_11['team']==row['team'],'money_line']=row['money_line']\n",
    "    m_11.loc[m_11['opp']==row['team'],'opp_money_line']=row['money_line']\n",
    "    m_11.loc[m_11['opp']==row['opp'],'opp_money_line']=row['opp_money_line']\n",
    "    m_11.loc[m_11['team']==row['opp'],'money_line']=row['opp_money_line']   \n",
    "    \n",
    "for idx, row in ml12.iterrows():\n",
    "    m_12.loc[m_12['team']==row['team'],'money_line']=row['money_line']\n",
    "    m_12.loc[m_12['opp']==row['team'],'opp_money_line']=row['money_line']\n",
    "    m_12.loc[m_12['opp']==row['opp'],'opp_money_line']=row['opp_money_line']\n",
    "    m_12.loc[m_12['team']==row['opp'],'money_line']=row['opp_money_line']\n",
    "    \n",
    "for idx, row in ml13.iterrows():\n",
    "    m_13.loc[m_13['team']==row['team'],'money_line']=row['money_line']\n",
    "    m_13.loc[m_13['opp']==row['team'],'opp_money_line']=row['money_line']\n",
    "    m_13.loc[m_13['opp']==row['opp'],'opp_money_line']=row['opp_money_line']\n",
    "    m_13.loc[m_13['team']==row['opp'],'money_line']=row['opp_money_line']\n",
    "    \n",
    "for idx, row in ml14.iterrows():\n",
    "    m_14.loc[m_14['team']==row['team'],'money_line']=row['money_line']\n",
    "    m_14.loc[m_14['opp']==row['team'],'opp_money_line']=row['money_line']\n",
    "    m_14.loc[m_14['opp']==row['opp'],'opp_money_line']=row['opp_money_line']\n",
    "    m_14.loc[m_14['team']==row['opp'],'money_line']=row['opp_money_line']\n",
    "    \n",
    "for idx, row in ml15.iterrows():\n",
    "    m_15.loc[m_15['team']==row['team'],'money_line']=row['money_line']\n",
    "    m_15.loc[m_15['opp']==row['team'],'opp_money_line']=row['money_line']\n",
    "    m_15.loc[m_15['opp']==row['opp'],'opp_money_line']=row['opp_money_line']\n",
    "    m_15.loc[m_15['team']==row['opp'],'money_line']=row['opp_money_line']\n",
    "\n",
    "for idx, row in ml16.iterrows():\n",
    "    m_16.loc[m_16['team']==row['team'],'money_line']=row['money_line']\n",
    "    m_16.loc[m_16['opp']==row['team'],'opp_money_line']=row['money_line']\n",
    "    m_16.loc[m_16['opp']==row['opp'],'opp_money_line']=row['opp_money_line']\n",
    "    m_16.loc[m_16['team']==row['opp'],'money_line']=row['opp_money_line']\n",
    "\n",
    "for idx, row in ml17.iterrows():\n",
    "    m_17.loc[m_17['team']==row['team'],'money_line']=row['money_line']\n",
    "    m_17.loc[m_17['opp']==row['team'],'opp_money_line']=row['money_line']\n",
    "    m_17.loc[m_17['opp']==row['opp'],'opp_money_line']=row['opp_money_line']\n",
    "    m_17.loc[m_17['team']==row['opp'],'money_line']=row['opp_money_line']\n"
   ]
  },
  {
   "cell_type": "code",
   "execution_count": 406,
   "metadata": {
    "ExecuteTime": {
     "end_time": "2020-06-13T15:43:43.635181Z",
     "start_time": "2020-06-13T15:43:43.616941Z"
    }
   },
   "outputs": [],
   "source": [
    "m_5['week']=5\n",
    "m_6['week']=6\n",
    "m_7['week']=7\n",
    "m_8['week']=8\n",
    "m_9['week']=9\n",
    "m_10['week']=10\n",
    "m_11['week']=11\n",
    "m_12['week']=12\n",
    "m_13['week']=13\n",
    "m_14['week']=14\n",
    "m_15['week']=15\n",
    "m_16['week']=16\n",
    "m_17['week']=17"
   ]
  },
  {
   "cell_type": "code",
   "execution_count": 407,
   "metadata": {
    "ExecuteTime": {
     "end_time": "2020-06-13T15:43:45.373262Z",
     "start_time": "2020-06-13T15:43:45.359457Z"
    }
   },
   "outputs": [],
   "source": [
    "frames = [m_5, m_6, m_7, m_8, m_9, m_10, m_11, m_12,m_13,m_14,m_15,m_16,m_17]\n",
    "model_gb = pd.concat(frames)"
   ]
  },
  {
   "cell_type": "code",
   "execution_count": 408,
   "metadata": {
    "ExecuteTime": {
     "end_time": "2020-06-13T15:43:46.584750Z",
     "start_time": "2020-06-13T15:43:46.580261Z"
    }
   },
   "outputs": [],
   "source": [
    "model_gb = model_gb.reset_index()"
   ]
  },
  {
   "cell_type": "code",
   "execution_count": 409,
   "metadata": {
    "ExecuteTime": {
     "end_time": "2020-06-13T15:43:47.307937Z",
     "start_time": "2020-06-13T15:43:47.297355Z"
    }
   },
   "outputs": [],
   "source": [
    "model_gb['money_line'] = model_gb['money_line'].apply(lambda x: float(x))\n",
    "model_gb['opp_money_line'] = model_gb['opp_money_line'].apply(lambda x: float(x))"
   ]
  },
  {
   "cell_type": "code",
   "execution_count": 410,
   "metadata": {
    "ExecuteTime": {
     "end_time": "2020-06-13T15:43:47.984324Z",
     "start_time": "2020-06-13T15:43:47.949195Z"
    }
   },
   "outputs": [],
   "source": [
    "model_gb.loc[model_gb['money_line']<0, 'dec_ml'] = (1 + 100/abs(model_gb['money_line']))               \n",
    "model_gb.loc[model_gb['money_line']>0, 'dec_ml'] = (1 + abs(model_gb['money_line'])/100)\n",
    "model_gb.loc[model_gb['opp_money_line']>0, 'dec_oml'] = (1 + abs(model_gb['opp_money_line'])/100)\n",
    "model_gb.loc[model_gb['opp_money_line']<0, 'dec_oml'] = (1 + 100/abs(model_gb['opp_money_line']))"
   ]
  },
  {
   "cell_type": "code",
   "execution_count": 411,
   "metadata": {
    "ExecuteTime": {
     "end_time": "2020-06-13T15:43:48.648220Z",
     "start_time": "2020-06-13T15:43:48.640310Z"
    }
   },
   "outputs": [],
   "source": [
    "model_gb = model_gb.drop(columns='index')"
   ]
  },
  {
   "cell_type": "code",
   "execution_count": 412,
   "metadata": {
    "ExecuteTime": {
     "end_time": "2020-06-13T15:43:49.902421Z",
     "start_time": "2020-06-13T15:43:49.874592Z"
    }
   },
   "outputs": [],
   "source": [
    "model_gb.loc[model_gb['favorite']==1, 'control_bet_for'] = 'team'\n",
    "model_gb.loc[model_gb['opp_fav']==1, 'control_bet_for'] = 'opp'\n",
    "model_gb.loc[model_gb['favorite']==0, 'control_bet_ud'] = 'team'\n",
    "model_gb.loc[model_gb['opp_fav']==0, 'control_bet_ud'] = 'opp'"
   ]
  },
  {
   "cell_type": "code",
   "execution_count": 413,
   "metadata": {
    "ExecuteTime": {
     "end_time": "2020-06-13T15:43:50.622395Z",
     "start_time": "2020-06-13T15:43:50.593265Z"
    }
   },
   "outputs": [],
   "source": [
    "model_gb.loc[(model_gb['control_bet_for']=='team') & (model_gb['team_won']== 1), 'fav_prof'] = (100*model_gb['dec_ml'])-100\n",
    "model_gb.loc[(model_gb['control_bet_for']=='opp') & (model_gb['opp_won']== 1), 'fav_prof'] = (100*model_gb['dec_oml'])-100\n",
    "model_gb.loc[(model_gb['control_bet_for']=='team') & (model_gb['team_won']== 0), 'fav_prof'] = -100 \n",
    "model_gb.loc[(model_gb['control_bet_for']=='opp') & (model_gb['opp_won']== 0), 'fav_prof'] = -100"
   ]
  },
  {
   "cell_type": "code",
   "execution_count": 414,
   "metadata": {
    "ExecuteTime": {
     "end_time": "2020-06-13T15:43:51.336051Z",
     "start_time": "2020-06-13T15:43:51.313452Z"
    }
   },
   "outputs": [],
   "source": [
    "model_gb.loc[(model_gb['control_bet_ud']=='team') & (model_gb['team_won']== 1), 'ud_prof'] = (100*model_gb['dec_ml'])-100\n",
    "model_gb.loc[(model_gb['control_bet_ud']=='opp') & (model_gb['opp_won']== 1), 'ud_prof'] = (100*model_gb['dec_oml'])-100\n",
    "model_gb.loc[(model_gb['control_bet_ud']=='team') & (model_gb['team_won']== 0), 'ud_prof'] = -100 \n",
    "model_gb.loc[(model_gb['control_bet_ud']=='opp') & (model_gb['opp_won']== 0), 'ud_prof'] = -100  "
   ]
  },
  {
   "cell_type": "code",
   "execution_count": 415,
   "metadata": {
    "ExecuteTime": {
     "end_time": "2020-06-13T15:43:52.063814Z",
     "start_time": "2020-06-13T15:43:52.047414Z"
    }
   },
   "outputs": [],
   "source": [
    "model_gb.loc[model_gb['proba_team_won'] > model_gb['proba_opp_won'], 'bet_placed'] = 'team'\n",
    "model_gb.loc[model_gb['proba_team_won'] < model_gb['proba_opp_won'], 'bet_placed'] = 'opp'\n",
    "model_gb.loc[model_gb['proba_team_won'] == model_gb['proba_opp_won'], 'bet_placed'] = 'push'"
   ]
  },
  {
   "cell_type": "code",
   "execution_count": 416,
   "metadata": {
    "ExecuteTime": {
     "end_time": "2020-06-13T15:43:53.000922Z",
     "start_time": "2020-06-13T15:43:52.977288Z"
    }
   },
   "outputs": [],
   "source": [
    "model_gb.loc[(model_gb['team_won']==1) & (model_gb['bet_placed']=='team'), 'profit'] = (100*model_gb['dec_ml'])-100            \n",
    "model_gb.loc[(model_gb['team_won']==0) & (model_gb['bet_placed']=='team'), 'profit'] = -100\n",
    "model_gb.loc[(model_gb['opp_won']==1) & (model_gb['bet_placed']=='opp'), 'profit'] = (100*model_gb['dec_oml'])-100            \n",
    "model_gb.loc[(model_gb['opp_won']==0) & (model_gb['bet_placed']=='opp'), 'profit'] = -100 "
   ]
  },
  {
   "cell_type": "code",
   "execution_count": 417,
   "metadata": {
    "ExecuteTime": {
     "end_time": "2020-06-13T15:43:54.214683Z",
     "start_time": "2020-06-13T15:43:54.209608Z"
    }
   },
   "outputs": [
    {
     "data": {
      "text/plain": [
       "42.986256230540675"
      ]
     },
     "execution_count": 417,
     "metadata": {},
     "output_type": "execute_result"
    }
   ],
   "source": [
    "# this is to test if blindly betting on the team with the higher probability is profitable\n",
    "model_gb['profit'].sum()"
   ]
  },
  {
   "cell_type": "code",
   "execution_count": 418,
   "metadata": {
    "ExecuteTime": {
     "end_time": "2020-06-13T15:43:57.739511Z",
     "start_time": "2020-06-13T15:43:57.730916Z"
    }
   },
   "outputs": [],
   "source": [
    "model_gb['team_AWPB'] = 100 * model_gb['dec_ml']\n",
    "model_gb['opp_AWPB'] = 100 * model_gb['dec_oml']"
   ]
  },
  {
   "cell_type": "code",
   "execution_count": 419,
   "metadata": {
    "ExecuteTime": {
     "end_time": "2020-06-13T15:43:59.401721Z",
     "start_time": "2020-06-13T15:43:59.393579Z"
    }
   },
   "outputs": [],
   "source": [
    "model_gb['team_EV'] = (model_gb['team_AWPB'] * model_gb['proba_team_won']) - (100*(1-model_gb['proba_team_won']))\n",
    "model_gb['opp_EV'] = (model_gb['opp_AWPB'] * model_gb['proba_opp_won']) - (100*(1-model_gb['proba_opp_won']))"
   ]
  },
  {
   "cell_type": "code",
   "execution_count": 420,
   "metadata": {
    "ExecuteTime": {
     "end_time": "2020-06-13T15:44:00.774197Z",
     "start_time": "2020-06-13T15:44:00.756669Z"
    }
   },
   "outputs": [],
   "source": [
    "model_gb.loc[(model_gb['team_EV']> 0) | (model_gb['opp_EV']> 0), 'ev_bet'] = True\n",
    "model_gb.loc[(model_gb['team_EV']< 0) & (model_gb['opp_EV']< 0), 'ev_bet'] = False"
   ]
  },
  {
   "cell_type": "code",
   "execution_count": 356,
   "metadata": {
    "ExecuteTime": {
     "end_time": "2020-06-13T15:36:01.094826Z",
     "start_time": "2020-06-13T15:36:01.084170Z"
    }
   },
   "outputs": [],
   "source": [
    "def ev_for(df):\n",
    "    if (df['ev_bet'] ==True) and (df['team_EV'] > df['opp_EV']):\n",
    "        return 'team'\n",
    "    elif (df['ev_bet'] ==True) and (df['team_EV'] < df['opp_EV']):\n",
    "        return 'opp'\n",
    "    elif df['ev_bet'] == False:\n",
    "        return 'no bet'"
   ]
  },
  {
   "cell_type": "code",
   "execution_count": 421,
   "metadata": {
    "ExecuteTime": {
     "end_time": "2020-06-13T15:44:02.831797Z",
     "start_time": "2020-06-13T15:44:02.817838Z"
    }
   },
   "outputs": [],
   "source": [
    "model_gb['ev_for'] = model_gb.apply(ev_for, axis = 1)"
   ]
  },
  {
   "cell_type": "code",
   "execution_count": 422,
   "metadata": {
    "ExecuteTime": {
     "end_time": "2020-06-13T15:44:04.176616Z",
     "start_time": "2020-06-13T15:44:04.129982Z"
    }
   },
   "outputs": [],
   "source": [
    "model_gb.loc[(model_gb['team_won']==1) & (model_gb['ev_for']=='team'), 'ev_profit'] = (100*model_gb['dec_ml'])-100            \n",
    "model_gb.loc[(model_gb['team_won']==0) & (model_gb['ev_for']=='team'), 'ev_profit'] = -100\n",
    "model_gb.loc[(model_gb['opp_won']==1) & (model_gb['ev_for']=='opp'), 'ev_profit'] = (100*model_gb['dec_oml'])-100            \n",
    "model_gb.loc[(model_gb['opp_won']==0) & (model_gb['ev_for']=='opp'), 'ev_profit'] = -100  \n",
    "model_gb.loc[(model_gb['opp_won']==0) & (model_gb['ev_for']=='no bet'), 'ev_profit'] = 0  \n",
    "model_gb.loc[(model_gb['opp_won']==1) & (model_gb['ev_for']=='no bet'), 'ev_profit'] = 0"
   ]
  },
  {
   "cell_type": "code",
   "execution_count": 423,
   "metadata": {
    "ExecuteTime": {
     "end_time": "2020-06-13T15:44:06.085874Z",
     "start_time": "2020-06-13T15:44:06.078475Z"
    }
   },
   "outputs": [
    {
     "data": {
      "text/plain": [
       "-218.42551677009578"
      ]
     },
     "execution_count": 423,
     "metadata": {},
     "output_type": "execute_result"
    }
   ],
   "source": [
    "model_gb['ev_profit'].sum()"
   ]
  },
  {
   "cell_type": "code",
   "execution_count": 425,
   "metadata": {
    "ExecuteTime": {
     "end_time": "2020-06-13T15:46:51.811054Z",
     "start_time": "2020-06-13T15:46:51.804397Z"
    }
   },
   "outputs": [
    {
     "data": {
      "text/plain": [
       "Index(['game_id', 'team', 'opp', 'proba_team_won', 'proba_opp_won', 'team_won',\n",
       "       'opp_won', 'favorite', 'opp_fav', 'money_line', 'opp_money_line',\n",
       "       'week', 'dec_ml', 'dec_oml', 'control_bet_for', 'control_bet_ud',\n",
       "       'fav_prof', 'ud_prof', 'bet_placed', 'profit', 'team_AWPB', 'opp_AWPB',\n",
       "       'team_EV', 'opp_EV', 'ev_bet', 'ev_for', 'ev_profit'],\n",
       "      dtype='object')"
      ]
     },
     "execution_count": 425,
     "metadata": {},
     "output_type": "execute_result"
    }
   ],
   "source": [
    "model_gb.columns"
   ]
  },
  {
   "cell_type": "code",
   "execution_count": null,
   "metadata": {},
   "outputs": [],
   "source": []
  }
 ],
 "metadata": {
  "kernelspec": {
   "display_name": "Python 3",
   "language": "python",
   "name": "python3"
  },
  "language_info": {
   "codemirror_mode": {
    "name": "ipython",
    "version": 3
   },
   "file_extension": ".py",
   "mimetype": "text/x-python",
   "name": "python",
   "nbconvert_exporter": "python",
   "pygments_lexer": "ipython3",
   "version": "3.7.4"
  }
 },
 "nbformat": 4,
 "nbformat_minor": 2
}
