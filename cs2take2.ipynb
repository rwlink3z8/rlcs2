{
 "cells": [
  {
   "cell_type": "code",
   "execution_count": 3,
   "metadata": {
    "ExecuteTime": {
     "end_time": "2020-05-14T22:49:09.284021Z",
     "start_time": "2020-05-14T22:49:07.476211Z"
    }
   },
   "outputs": [],
   "source": [
    "import numpy as np\n",
    "import pandas as pd\n",
    "import requests\n",
    "from bs4 import BeautifulSoup, Comment\n",
    "import re\n",
    "import json\n",
    "import time"
   ]
  },
  {
   "cell_type": "code",
   "execution_count": 4,
   "metadata": {
    "ExecuteTime": {
     "end_time": "2020-05-14T22:49:32.398056Z",
     "start_time": "2020-05-14T22:49:21.474583Z"
    }
   },
   "outputs": [],
   "source": [
    "url = \"\"\"https://www.pro-football-reference.com/play-index/tgl_finder.%0A\n",
    "        cgi?request=1&match=game&year_min=2019&year_max=2019&game_type=E%0A\n",
    "        &game_num_min=0&game_num_max=99&week_num_min=0&week_num_max=99&%0A\n",
    "        temperature_gtlt=lt&c1stat=vegas_line&c1comp=gte&c2stat=pass_yds&c%0A\n",
    "        2comp=gte&c3stat=points_opp&c3comp=gte&c4stat=rush_yds&c4comp=gte&c%0A\n",
    "        5stat=yds_per_play_offense&c5comp=gt&c5val=1.0&order_by=game_date&offset={}\"\"\"\n",
    "\n",
    "\n",
    "\n",
    "odds2 = []                                                                                                                                                                                                                                                                                                                                                                                                                                \n",
    "for i in range(0,300,100):\n",
    "    url = \"\"\"https://www.pro-football-reference.com/play-index/tgl_finder.cgi?request=1&match=game&year_min=2019&year_max=2019&game_type=E&game_num_min=0&game_num_max=99&week_num_min=0&week_num_max=99&temperature_gtlt=lt&c1stat=vegas_line&c1comp=gte&c2stat=pass_yds&c2comp=gte&c3stat=points_opp&c3comp=gte&c4stat=rush_yds&c4comp=gte&c5stat=yds_per_play_offense&c5comp=gt&c5val=1.0&order_by=game_date&offset={}\"\"\"\n",
    "    odds2.append(pd.read_html(url.format(i))[0])"
   ]
  },
  {
   "cell_type": "code",
   "execution_count": 5,
   "metadata": {
    "ExecuteTime": {
     "end_time": "2020-05-14T22:49:37.068167Z",
     "start_time": "2020-05-14T22:49:37.062048Z"
    }
   },
   "outputs": [],
   "source": [
    "df = pd.concat(odds2)"
   ]
  },
  {
   "cell_type": "code",
   "execution_count": 6,
   "metadata": {
    "ExecuteTime": {
     "end_time": "2020-05-14T22:49:38.773426Z",
     "start_time": "2020-05-14T22:49:38.670965Z"
    }
   },
   "outputs": [
    {
     "data": {
      "text/html": [
       "<div>\n",
       "<style scoped>\n",
       "    .dataframe tbody tr th:only-of-type {\n",
       "        vertical-align: middle;\n",
       "    }\n",
       "\n",
       "    .dataframe tbody tr th {\n",
       "        vertical-align: top;\n",
       "    }\n",
       "\n",
       "    .dataframe thead tr th {\n",
       "        text-align: left;\n",
       "    }\n",
       "</style>\n",
       "<table border=\"1\" class=\"dataframe\">\n",
       "  <thead>\n",
       "    <tr>\n",
       "      <th></th>\n",
       "      <th>Unnamed: 0_level_0</th>\n",
       "      <th>Unnamed: 1_level_0</th>\n",
       "      <th>Unnamed: 2_level_0</th>\n",
       "      <th>Unnamed: 3_level_0</th>\n",
       "      <th>Unnamed: 4_level_0</th>\n",
       "      <th>Unnamed: 5_level_0</th>\n",
       "      <th>Unnamed: 6_level_0</th>\n",
       "      <th>Unnamed: 7_level_0</th>\n",
       "      <th>Unnamed: 8_level_0</th>\n",
       "      <th>Unnamed: 9_level_0</th>\n",
       "      <th>...</th>\n",
       "      <th colspan=\"2\" halign=\"left\">Rushing</th>\n",
       "      <th colspan=\"8\" halign=\"left\">Tot Yds &amp; TO</th>\n",
       "    </tr>\n",
       "    <tr>\n",
       "      <th></th>\n",
       "      <th>Rk</th>\n",
       "      <th>Tm</th>\n",
       "      <th>Year</th>\n",
       "      <th>Date</th>\n",
       "      <th>Time</th>\n",
       "      <th>LTime</th>\n",
       "      <th>Unnamed: 6_level_1</th>\n",
       "      <th>Opp</th>\n",
       "      <th>Week</th>\n",
       "      <th>G#</th>\n",
       "      <th>...</th>\n",
       "      <th>Y/A</th>\n",
       "      <th>TD</th>\n",
       "      <th>Tot</th>\n",
       "      <th>Ply</th>\n",
       "      <th>Y/P</th>\n",
       "      <th>DPly</th>\n",
       "      <th>DY/P</th>\n",
       "      <th>TO</th>\n",
       "      <th>ToP</th>\n",
       "      <th>Time</th>\n",
       "    </tr>\n",
       "  </thead>\n",
       "  <tbody>\n",
       "    <tr>\n",
       "      <td>0</td>\n",
       "      <td>1</td>\n",
       "      <td>SFO</td>\n",
       "      <td>2019</td>\n",
       "      <td>2020-02-02</td>\n",
       "      <td>6:30</td>\n",
       "      <td>6:30</td>\n",
       "      <td>N</td>\n",
       "      <td>KAN</td>\n",
       "      <td>21</td>\n",
       "      <td>20</td>\n",
       "      <td>...</td>\n",
       "      <td>6.41</td>\n",
       "      <td>1</td>\n",
       "      <td>351</td>\n",
       "      <td>54</td>\n",
       "      <td>6.5000</td>\n",
       "      <td>75</td>\n",
       "      <td>5.2933</td>\n",
       "      <td>2</td>\n",
       "      <td>26:47</td>\n",
       "      <td>3:29</td>\n",
       "    </tr>\n",
       "    <tr>\n",
       "      <td>1</td>\n",
       "      <td>2</td>\n",
       "      <td>GNB</td>\n",
       "      <td>2019</td>\n",
       "      <td>2020-01-19</td>\n",
       "      <td>6:40</td>\n",
       "      <td>3:40</td>\n",
       "      <td>@</td>\n",
       "      <td>SFO</td>\n",
       "      <td>20</td>\n",
       "      <td>19</td>\n",
       "      <td>...</td>\n",
       "      <td>3.88</td>\n",
       "      <td>1</td>\n",
       "      <td>358</td>\n",
       "      <td>58</td>\n",
       "      <td>6.1724</td>\n",
       "      <td>51</td>\n",
       "      <td>6.9412</td>\n",
       "      <td>3</td>\n",
       "      <td>31:13</td>\n",
       "      <td>3:03</td>\n",
       "    </tr>\n",
       "    <tr>\n",
       "      <td>2</td>\n",
       "      <td>3</td>\n",
       "      <td>TEN</td>\n",
       "      <td>2019</td>\n",
       "      <td>2020-01-19</td>\n",
       "      <td>3:05</td>\n",
       "      <td>2:05</td>\n",
       "      <td>@</td>\n",
       "      <td>KAN</td>\n",
       "      <td>20</td>\n",
       "      <td>20</td>\n",
       "      <td>...</td>\n",
       "      <td>3.70</td>\n",
       "      <td>1</td>\n",
       "      <td>295</td>\n",
       "      <td>58</td>\n",
       "      <td>5.0862</td>\n",
       "      <td>64</td>\n",
       "      <td>6.3125</td>\n",
       "      <td>NaN</td>\n",
       "      <td>30:10</td>\n",
       "      <td>3:04</td>\n",
       "    </tr>\n",
       "    <tr>\n",
       "      <td>3</td>\n",
       "      <td>4</td>\n",
       "      <td>HOU</td>\n",
       "      <td>2019</td>\n",
       "      <td>2020-01-12</td>\n",
       "      <td>3:05</td>\n",
       "      <td>2:05</td>\n",
       "      <td>@</td>\n",
       "      <td>KAN</td>\n",
       "      <td>19</td>\n",
       "      <td>19</td>\n",
       "      <td>...</td>\n",
       "      <td>4.48</td>\n",
       "      <td>1</td>\n",
       "      <td>442</td>\n",
       "      <td>78</td>\n",
       "      <td>5.6667</td>\n",
       "      <td>57</td>\n",
       "      <td>7.6140</td>\n",
       "      <td>1</td>\n",
       "      <td>34:35</td>\n",
       "      <td>3:25</td>\n",
       "    </tr>\n",
       "    <tr>\n",
       "      <td>4</td>\n",
       "      <td>5</td>\n",
       "      <td>SEA</td>\n",
       "      <td>2019</td>\n",
       "      <td>2020-01-12</td>\n",
       "      <td>6:40</td>\n",
       "      <td>5:40</td>\n",
       "      <td>@</td>\n",
       "      <td>GNB</td>\n",
       "      <td>19</td>\n",
       "      <td>19</td>\n",
       "      <td>...</td>\n",
       "      <td>4.58</td>\n",
       "      <td>2</td>\n",
       "      <td>375</td>\n",
       "      <td>60</td>\n",
       "      <td>6.2500</td>\n",
       "      <td>59</td>\n",
       "      <td>5.8305</td>\n",
       "      <td>NaN</td>\n",
       "      <td>30:31</td>\n",
       "      <td>3:09</td>\n",
       "    </tr>\n",
       "    <tr>\n",
       "      <td>5</td>\n",
       "      <td>6</td>\n",
       "      <td>MIN</td>\n",
       "      <td>2019</td>\n",
       "      <td>2020-01-11</td>\n",
       "      <td>4:35</td>\n",
       "      <td>1:35</td>\n",
       "      <td>@</td>\n",
       "      <td>SFO</td>\n",
       "      <td>19</td>\n",
       "      <td>19</td>\n",
       "      <td>...</td>\n",
       "      <td>2.10</td>\n",
       "      <td>0</td>\n",
       "      <td>147</td>\n",
       "      <td>45</td>\n",
       "      <td>3.2667</td>\n",
       "      <td>68</td>\n",
       "      <td>4.5294</td>\n",
       "      <td>2</td>\n",
       "      <td>21:33</td>\n",
       "      <td>2:49</td>\n",
       "    </tr>\n",
       "    <tr>\n",
       "      <td>6</td>\n",
       "      <td>7</td>\n",
       "      <td>TEN</td>\n",
       "      <td>2019</td>\n",
       "      <td>2020-01-11</td>\n",
       "      <td>8:15</td>\n",
       "      <td>8:15</td>\n",
       "      <td>@</td>\n",
       "      <td>BAL</td>\n",
       "      <td>19</td>\n",
       "      <td>19</td>\n",
       "      <td>...</td>\n",
       "      <td>5.86</td>\n",
       "      <td>1</td>\n",
       "      <td>300</td>\n",
       "      <td>53</td>\n",
       "      <td>5.6604</td>\n",
       "      <td>92</td>\n",
       "      <td>5.7609</td>\n",
       "      <td>NaN</td>\n",
       "      <td>27:54</td>\n",
       "      <td>3:13</td>\n",
       "    </tr>\n",
       "    <tr>\n",
       "      <td>7</td>\n",
       "      <td>8</td>\n",
       "      <td>MIN</td>\n",
       "      <td>2019</td>\n",
       "      <td>2020-01-05</td>\n",
       "      <td>1:05</td>\n",
       "      <td>12:05</td>\n",
       "      <td>@</td>\n",
       "      <td>NOR</td>\n",
       "      <td>18</td>\n",
       "      <td>18</td>\n",
       "      <td>...</td>\n",
       "      <td>3.40</td>\n",
       "      <td>2</td>\n",
       "      <td>362</td>\n",
       "      <td>74</td>\n",
       "      <td>4.8919</td>\n",
       "      <td>54</td>\n",
       "      <td>6.0000</td>\n",
       "      <td>1</td>\n",
       "      <td>36:56</td>\n",
       "      <td>3:18</td>\n",
       "    </tr>\n",
       "    <tr>\n",
       "      <td>8</td>\n",
       "      <td>9</td>\n",
       "      <td>SEA</td>\n",
       "      <td>2019</td>\n",
       "      <td>2020-01-05</td>\n",
       "      <td>4:40</td>\n",
       "      <td>4:40</td>\n",
       "      <td>@</td>\n",
       "      <td>PHI</td>\n",
       "      <td>18</td>\n",
       "      <td>18</td>\n",
       "      <td>...</td>\n",
       "      <td>2.46</td>\n",
       "      <td>1</td>\n",
       "      <td>382</td>\n",
       "      <td>57</td>\n",
       "      <td>6.7018</td>\n",
       "      <td>61</td>\n",
       "      <td>4.6230</td>\n",
       "      <td>NaN</td>\n",
       "      <td>26:45</td>\n",
       "      <td>2:57</td>\n",
       "    </tr>\n",
       "    <tr>\n",
       "      <td>9</td>\n",
       "      <td>10</td>\n",
       "      <td>BUF</td>\n",
       "      <td>2019</td>\n",
       "      <td>2020-01-04</td>\n",
       "      <td>4:35</td>\n",
       "      <td>3:35</td>\n",
       "      <td>@</td>\n",
       "      <td>HOU</td>\n",
       "      <td>18</td>\n",
       "      <td>18</td>\n",
       "      <td>...</td>\n",
       "      <td>5.73</td>\n",
       "      <td>0</td>\n",
       "      <td>425</td>\n",
       "      <td>81</td>\n",
       "      <td>5.2469</td>\n",
       "      <td>65</td>\n",
       "      <td>5.5385</td>\n",
       "      <td>1</td>\n",
       "      <td>35:15</td>\n",
       "      <td>3:38</td>\n",
       "    </tr>\n",
       "    <tr>\n",
       "      <td>10</td>\n",
       "      <td>11</td>\n",
       "      <td>TEN</td>\n",
       "      <td>2019</td>\n",
       "      <td>2020-01-04</td>\n",
       "      <td>8:15</td>\n",
       "      <td>8:15</td>\n",
       "      <td>@</td>\n",
       "      <td>NWE</td>\n",
       "      <td>18</td>\n",
       "      <td>18</td>\n",
       "      <td>...</td>\n",
       "      <td>5.03</td>\n",
       "      <td>1</td>\n",
       "      <td>272</td>\n",
       "      <td>57</td>\n",
       "      <td>4.7719</td>\n",
       "      <td>59</td>\n",
       "      <td>5.2034</td>\n",
       "      <td>1</td>\n",
       "      <td>31:09</td>\n",
       "      <td>2:57</td>\n",
       "    </tr>\n",
       "    <tr>\n",
       "      <td>11</td>\n",
       "      <td>12</td>\n",
       "      <td>ATL</td>\n",
       "      <td>2019</td>\n",
       "      <td>2019-12-29</td>\n",
       "      <td>1:00</td>\n",
       "      <td>1:00</td>\n",
       "      <td>@</td>\n",
       "      <td>TAM</td>\n",
       "      <td>17</td>\n",
       "      <td>16</td>\n",
       "      <td>...</td>\n",
       "      <td>2.90</td>\n",
       "      <td>0</td>\n",
       "      <td>373</td>\n",
       "      <td>87</td>\n",
       "      <td>4.2874</td>\n",
       "      <td>46</td>\n",
       "      <td>7.1522</td>\n",
       "      <td>1</td>\n",
       "      <td>36:22</td>\n",
       "      <td>3:13</td>\n",
       "    </tr>\n",
       "    <tr>\n",
       "      <td>12</td>\n",
       "      <td>13</td>\n",
       "      <td>BUF</td>\n",
       "      <td>2019</td>\n",
       "      <td>2019-12-29</td>\n",
       "      <td>1:00</td>\n",
       "      <td>1:00</td>\n",
       "      <td>NaN</td>\n",
       "      <td>NYJ</td>\n",
       "      <td>17</td>\n",
       "      <td>16</td>\n",
       "      <td>...</td>\n",
       "      <td>3.65</td>\n",
       "      <td>0</td>\n",
       "      <td>309</td>\n",
       "      <td>61</td>\n",
       "      <td>5.0656</td>\n",
       "      <td>65</td>\n",
       "      <td>4.1692</td>\n",
       "      <td>3</td>\n",
       "      <td>28:39</td>\n",
       "      <td>3:01</td>\n",
       "    </tr>\n",
       "    <tr>\n",
       "      <td>13</td>\n",
       "      <td>14</td>\n",
       "      <td>CAR</td>\n",
       "      <td>2019</td>\n",
       "      <td>2019-12-29</td>\n",
       "      <td>1:00</td>\n",
       "      <td>1:00</td>\n",
       "      <td>NaN</td>\n",
       "      <td>NOR</td>\n",
       "      <td>17</td>\n",
       "      <td>16</td>\n",
       "      <td>...</td>\n",
       "      <td>2.28</td>\n",
       "      <td>1</td>\n",
       "      <td>329</td>\n",
       "      <td>69</td>\n",
       "      <td>4.7681</td>\n",
       "      <td>67</td>\n",
       "      <td>5.6567</td>\n",
       "      <td>3</td>\n",
       "      <td>24:20</td>\n",
       "      <td>3:06</td>\n",
       "    </tr>\n",
       "    <tr>\n",
       "      <td>14</td>\n",
       "      <td>15</td>\n",
       "      <td>CIN</td>\n",
       "      <td>2019</td>\n",
       "      <td>2019-12-29</td>\n",
       "      <td>1:00</td>\n",
       "      <td>1:00</td>\n",
       "      <td>NaN</td>\n",
       "      <td>CLE</td>\n",
       "      <td>17</td>\n",
       "      <td>16</td>\n",
       "      <td>...</td>\n",
       "      <td>4.59</td>\n",
       "      <td>3</td>\n",
       "      <td>361</td>\n",
       "      <td>68</td>\n",
       "      <td>5.3088</td>\n",
       "      <td>53</td>\n",
       "      <td>5.9057</td>\n",
       "      <td>1</td>\n",
       "      <td>34:41</td>\n",
       "      <td>3:00</td>\n",
       "    </tr>\n",
       "  </tbody>\n",
       "</table>\n",
       "<p>15 rows × 42 columns</p>\n",
       "</div>"
      ],
      "text/plain": [
       "   Unnamed: 0_level_0 Unnamed: 1_level_0 Unnamed: 2_level_0  \\\n",
       "                   Rk                 Tm               Year   \n",
       "0                   1                SFO               2019   \n",
       "1                   2                GNB               2019   \n",
       "2                   3                TEN               2019   \n",
       "3                   4                HOU               2019   \n",
       "4                   5                SEA               2019   \n",
       "5                   6                MIN               2019   \n",
       "6                   7                TEN               2019   \n",
       "7                   8                MIN               2019   \n",
       "8                   9                SEA               2019   \n",
       "9                  10                BUF               2019   \n",
       "10                 11                TEN               2019   \n",
       "11                 12                ATL               2019   \n",
       "12                 13                BUF               2019   \n",
       "13                 14                CAR               2019   \n",
       "14                 15                CIN               2019   \n",
       "\n",
       "   Unnamed: 3_level_0 Unnamed: 4_level_0 Unnamed: 5_level_0  \\\n",
       "                 Date               Time              LTime   \n",
       "0          2020-02-02               6:30               6:30   \n",
       "1          2020-01-19               6:40               3:40   \n",
       "2          2020-01-19               3:05               2:05   \n",
       "3          2020-01-12               3:05               2:05   \n",
       "4          2020-01-12               6:40               5:40   \n",
       "5          2020-01-11               4:35               1:35   \n",
       "6          2020-01-11               8:15               8:15   \n",
       "7          2020-01-05               1:05              12:05   \n",
       "8          2020-01-05               4:40               4:40   \n",
       "9          2020-01-04               4:35               3:35   \n",
       "10         2020-01-04               8:15               8:15   \n",
       "11         2019-12-29               1:00               1:00   \n",
       "12         2019-12-29               1:00               1:00   \n",
       "13         2019-12-29               1:00               1:00   \n",
       "14         2019-12-29               1:00               1:00   \n",
       "\n",
       "   Unnamed: 6_level_0 Unnamed: 7_level_0 Unnamed: 8_level_0  \\\n",
       "   Unnamed: 6_level_1                Opp               Week   \n",
       "0                   N                KAN                 21   \n",
       "1                   @                SFO                 20   \n",
       "2                   @                KAN                 20   \n",
       "3                   @                KAN                 19   \n",
       "4                   @                GNB                 19   \n",
       "5                   @                SFO                 19   \n",
       "6                   @                BAL                 19   \n",
       "7                   @                NOR                 18   \n",
       "8                   @                PHI                 18   \n",
       "9                   @                HOU                 18   \n",
       "10                  @                NWE                 18   \n",
       "11                  @                TAM                 17   \n",
       "12                NaN                NYJ                 17   \n",
       "13                NaN                NOR                 17   \n",
       "14                NaN                CLE                 17   \n",
       "\n",
       "   Unnamed: 9_level_0  ... Rushing    Tot Yds & TO                           \\\n",
       "                   G#  ...     Y/A TD          Tot Ply     Y/P DPly    DY/P   \n",
       "0                  20  ...    6.41  1          351  54  6.5000   75  5.2933   \n",
       "1                  19  ...    3.88  1          358  58  6.1724   51  6.9412   \n",
       "2                  20  ...    3.70  1          295  58  5.0862   64  6.3125   \n",
       "3                  19  ...    4.48  1          442  78  5.6667   57  7.6140   \n",
       "4                  19  ...    4.58  2          375  60  6.2500   59  5.8305   \n",
       "5                  19  ...    2.10  0          147  45  3.2667   68  4.5294   \n",
       "6                  19  ...    5.86  1          300  53  5.6604   92  5.7609   \n",
       "7                  18  ...    3.40  2          362  74  4.8919   54  6.0000   \n",
       "8                  18  ...    2.46  1          382  57  6.7018   61  4.6230   \n",
       "9                  18  ...    5.73  0          425  81  5.2469   65  5.5385   \n",
       "10                 18  ...    5.03  1          272  57  4.7719   59  5.2034   \n",
       "11                 16  ...    2.90  0          373  87  4.2874   46  7.1522   \n",
       "12                 16  ...    3.65  0          309  61  5.0656   65  4.1692   \n",
       "13                 16  ...    2.28  1          329  69  4.7681   67  5.6567   \n",
       "14                 16  ...    4.59  3          361  68  5.3088   53  5.9057   \n",
       "\n",
       "                      \n",
       "     TO    ToP  Time  \n",
       "0     2  26:47  3:29  \n",
       "1     3  31:13  3:03  \n",
       "2   NaN  30:10  3:04  \n",
       "3     1  34:35  3:25  \n",
       "4   NaN  30:31  3:09  \n",
       "5     2  21:33  2:49  \n",
       "6   NaN  27:54  3:13  \n",
       "7     1  36:56  3:18  \n",
       "8   NaN  26:45  2:57  \n",
       "9     1  35:15  3:38  \n",
       "10    1  31:09  2:57  \n",
       "11    1  36:22  3:13  \n",
       "12    3  28:39  3:01  \n",
       "13    3  24:20  3:06  \n",
       "14    1  34:41  3:00  \n",
       "\n",
       "[15 rows x 42 columns]"
      ]
     },
     "execution_count": 6,
     "metadata": {},
     "output_type": "execute_result"
    }
   ],
   "source": [
    "df.head(15)"
   ]
  },
  {
   "cell_type": "code",
   "execution_count": 7,
   "metadata": {
    "ExecuteTime": {
     "end_time": "2020-05-14T22:49:44.882684Z",
     "start_time": "2020-05-14T22:49:44.870605Z"
    }
   },
   "outputs": [
    {
     "data": {
      "text/plain": [
       "array(['N', '@', nan], dtype=object)"
      ]
     },
     "execution_count": 7,
     "metadata": {},
     "output_type": "execute_result"
    }
   ],
   "source": [
    "df[('Unnamed: 6_level_0', 'Unnamed: 6_level_1')].unique()"
   ]
  },
  {
   "cell_type": "code",
   "execution_count": 8,
   "metadata": {
    "ExecuteTime": {
     "end_time": "2020-05-14T22:49:47.130629Z",
     "start_time": "2020-05-14T22:49:47.123922Z"
    }
   },
   "outputs": [],
   "source": [
    "df[('Unnamed: 6_level_0', 'Unnamed: 6_level_1')] = df[('Unnamed: 6_level_0', 'Unnamed: 6_level_1')].fillna(value='Home')"
   ]
  },
  {
   "cell_type": "code",
   "execution_count": 9,
   "metadata": {
    "ExecuteTime": {
     "end_time": "2020-05-14T22:49:48.854294Z",
     "start_time": "2020-05-14T22:49:48.846701Z"
    }
   },
   "outputs": [],
   "source": [
    "df[('Unnamed: 6_level_0', 'Unnamed: 6_level_1')] = df[('Unnamed: 6_level_0', 'Unnamed: 6_level_1')].replace(to_replace=['N', '@'], value=['Neutral', 'Away'])"
   ]
  },
  {
   "cell_type": "code",
   "execution_count": 10,
   "metadata": {
    "ExecuteTime": {
     "end_time": "2020-05-14T22:49:50.644612Z",
     "start_time": "2020-05-14T22:49:50.640495Z"
    }
   },
   "outputs": [],
   "source": [
    "df.columns = df.columns.to_flat_index()"
   ]
  },
  {
   "cell_type": "code",
   "execution_count": 11,
   "metadata": {
    "ExecuteTime": {
     "end_time": "2020-05-14T22:49:53.409274Z",
     "start_time": "2020-05-14T22:49:53.368618Z"
    }
   },
   "outputs": [
    {
     "data": {
      "text/html": [
       "<div>\n",
       "<style scoped>\n",
       "    .dataframe tbody tr th:only-of-type {\n",
       "        vertical-align: middle;\n",
       "    }\n",
       "\n",
       "    .dataframe tbody tr th {\n",
       "        vertical-align: top;\n",
       "    }\n",
       "\n",
       "    .dataframe thead th {\n",
       "        text-align: right;\n",
       "    }\n",
       "</style>\n",
       "<table border=\"1\" class=\"dataframe\">\n",
       "  <thead>\n",
       "    <tr style=\"text-align: right;\">\n",
       "      <th></th>\n",
       "      <th>index</th>\n",
       "      <th>(Unnamed: 0_level_0, Rk)</th>\n",
       "      <th>(Unnamed: 1_level_0, Tm)</th>\n",
       "      <th>(Unnamed: 2_level_0, Year)</th>\n",
       "      <th>(Unnamed: 3_level_0, Date)</th>\n",
       "      <th>(Unnamed: 4_level_0, Time)</th>\n",
       "      <th>(Unnamed: 5_level_0, LTime)</th>\n",
       "      <th>(Unnamed: 6_level_0, Unnamed: 6_level_1)</th>\n",
       "      <th>(Unnamed: 7_level_0, Opp)</th>\n",
       "      <th>(Unnamed: 8_level_0, Week)</th>\n",
       "      <th>...</th>\n",
       "      <th>(Rushing, Y/A)</th>\n",
       "      <th>(Rushing, TD)</th>\n",
       "      <th>(Tot Yds &amp; TO, Tot)</th>\n",
       "      <th>(Tot Yds &amp; TO, Ply)</th>\n",
       "      <th>(Tot Yds &amp; TO, Y/P)</th>\n",
       "      <th>(Tot Yds &amp; TO, DPly)</th>\n",
       "      <th>(Tot Yds &amp; TO, DY/P)</th>\n",
       "      <th>(Tot Yds &amp; TO, TO)</th>\n",
       "      <th>(Tot Yds &amp; TO, ToP)</th>\n",
       "      <th>(Tot Yds &amp; TO, Time)</th>\n",
       "    </tr>\n",
       "  </thead>\n",
       "  <tbody>\n",
       "    <tr>\n",
       "      <td>0</td>\n",
       "      <td>0</td>\n",
       "      <td>1</td>\n",
       "      <td>SFO</td>\n",
       "      <td>2019</td>\n",
       "      <td>2020-02-02</td>\n",
       "      <td>6:30</td>\n",
       "      <td>6:30</td>\n",
       "      <td>Neutral</td>\n",
       "      <td>KAN</td>\n",
       "      <td>21</td>\n",
       "      <td>...</td>\n",
       "      <td>6.41</td>\n",
       "      <td>1</td>\n",
       "      <td>351</td>\n",
       "      <td>54</td>\n",
       "      <td>6.5000</td>\n",
       "      <td>75</td>\n",
       "      <td>5.2933</td>\n",
       "      <td>2</td>\n",
       "      <td>26:47</td>\n",
       "      <td>3:29</td>\n",
       "    </tr>\n",
       "    <tr>\n",
       "      <td>1</td>\n",
       "      <td>1</td>\n",
       "      <td>2</td>\n",
       "      <td>GNB</td>\n",
       "      <td>2019</td>\n",
       "      <td>2020-01-19</td>\n",
       "      <td>6:40</td>\n",
       "      <td>3:40</td>\n",
       "      <td>Away</td>\n",
       "      <td>SFO</td>\n",
       "      <td>20</td>\n",
       "      <td>...</td>\n",
       "      <td>3.88</td>\n",
       "      <td>1</td>\n",
       "      <td>358</td>\n",
       "      <td>58</td>\n",
       "      <td>6.1724</td>\n",
       "      <td>51</td>\n",
       "      <td>6.9412</td>\n",
       "      <td>3</td>\n",
       "      <td>31:13</td>\n",
       "      <td>3:03</td>\n",
       "    </tr>\n",
       "    <tr>\n",
       "      <td>2</td>\n",
       "      <td>2</td>\n",
       "      <td>3</td>\n",
       "      <td>TEN</td>\n",
       "      <td>2019</td>\n",
       "      <td>2020-01-19</td>\n",
       "      <td>3:05</td>\n",
       "      <td>2:05</td>\n",
       "      <td>Away</td>\n",
       "      <td>KAN</td>\n",
       "      <td>20</td>\n",
       "      <td>...</td>\n",
       "      <td>3.70</td>\n",
       "      <td>1</td>\n",
       "      <td>295</td>\n",
       "      <td>58</td>\n",
       "      <td>5.0862</td>\n",
       "      <td>64</td>\n",
       "      <td>6.3125</td>\n",
       "      <td>NaN</td>\n",
       "      <td>30:10</td>\n",
       "      <td>3:04</td>\n",
       "    </tr>\n",
       "    <tr>\n",
       "      <td>3</td>\n",
       "      <td>3</td>\n",
       "      <td>4</td>\n",
       "      <td>HOU</td>\n",
       "      <td>2019</td>\n",
       "      <td>2020-01-12</td>\n",
       "      <td>3:05</td>\n",
       "      <td>2:05</td>\n",
       "      <td>Away</td>\n",
       "      <td>KAN</td>\n",
       "      <td>19</td>\n",
       "      <td>...</td>\n",
       "      <td>4.48</td>\n",
       "      <td>1</td>\n",
       "      <td>442</td>\n",
       "      <td>78</td>\n",
       "      <td>5.6667</td>\n",
       "      <td>57</td>\n",
       "      <td>7.6140</td>\n",
       "      <td>1</td>\n",
       "      <td>34:35</td>\n",
       "      <td>3:25</td>\n",
       "    </tr>\n",
       "    <tr>\n",
       "      <td>4</td>\n",
       "      <td>4</td>\n",
       "      <td>5</td>\n",
       "      <td>SEA</td>\n",
       "      <td>2019</td>\n",
       "      <td>2020-01-12</td>\n",
       "      <td>6:40</td>\n",
       "      <td>5:40</td>\n",
       "      <td>Away</td>\n",
       "      <td>GNB</td>\n",
       "      <td>19</td>\n",
       "      <td>...</td>\n",
       "      <td>4.58</td>\n",
       "      <td>2</td>\n",
       "      <td>375</td>\n",
       "      <td>60</td>\n",
       "      <td>6.2500</td>\n",
       "      <td>59</td>\n",
       "      <td>5.8305</td>\n",
       "      <td>NaN</td>\n",
       "      <td>30:31</td>\n",
       "      <td>3:09</td>\n",
       "    </tr>\n",
       "    <tr>\n",
       "      <td>...</td>\n",
       "      <td>...</td>\n",
       "      <td>...</td>\n",
       "      <td>...</td>\n",
       "      <td>...</td>\n",
       "      <td>...</td>\n",
       "      <td>...</td>\n",
       "      <td>...</td>\n",
       "      <td>...</td>\n",
       "      <td>...</td>\n",
       "      <td>...</td>\n",
       "      <td>...</td>\n",
       "      <td>...</td>\n",
       "      <td>...</td>\n",
       "      <td>...</td>\n",
       "      <td>...</td>\n",
       "      <td>...</td>\n",
       "      <td>...</td>\n",
       "      <td>...</td>\n",
       "      <td>...</td>\n",
       "      <td>...</td>\n",
       "      <td>...</td>\n",
       "    </tr>\n",
       "    <tr>\n",
       "      <td>273</td>\n",
       "      <td>65</td>\n",
       "      <td>263</td>\n",
       "      <td>TEN</td>\n",
       "      <td>2019</td>\n",
       "      <td>2019-09-08</td>\n",
       "      <td>1:00</td>\n",
       "      <td>1:00</td>\n",
       "      <td>Away</td>\n",
       "      <td>CLE</td>\n",
       "      <td>1</td>\n",
       "      <td>...</td>\n",
       "      <td>4.39</td>\n",
       "      <td>1</td>\n",
       "      <td>339</td>\n",
       "      <td>56</td>\n",
       "      <td>6.0536</td>\n",
       "      <td>63</td>\n",
       "      <td>5.4921</td>\n",
       "      <td>NaN</td>\n",
       "      <td>29:18</td>\n",
       "      <td>3:12</td>\n",
       "    </tr>\n",
       "    <tr>\n",
       "      <td>274</td>\n",
       "      <td>66</td>\n",
       "      <td>264</td>\n",
       "      <td>PIT</td>\n",
       "      <td>2019</td>\n",
       "      <td>2019-09-08</td>\n",
       "      <td>8:20</td>\n",
       "      <td>8:20</td>\n",
       "      <td>Away</td>\n",
       "      <td>NWE</td>\n",
       "      <td>1</td>\n",
       "      <td>...</td>\n",
       "      <td>2.46</td>\n",
       "      <td>0</td>\n",
       "      <td>308</td>\n",
       "      <td>61</td>\n",
       "      <td>5.0492</td>\n",
       "      <td>67</td>\n",
       "      <td>6.9403</td>\n",
       "      <td>1</td>\n",
       "      <td>27:27</td>\n",
       "      <td>3:00</td>\n",
       "    </tr>\n",
       "    <tr>\n",
       "      <td>275</td>\n",
       "      <td>67</td>\n",
       "      <td>265</td>\n",
       "      <td>SFO</td>\n",
       "      <td>2019</td>\n",
       "      <td>2019-09-08</td>\n",
       "      <td>4:25</td>\n",
       "      <td>4:25</td>\n",
       "      <td>Away</td>\n",
       "      <td>TAM</td>\n",
       "      <td>1</td>\n",
       "      <td>...</td>\n",
       "      <td>3.06</td>\n",
       "      <td>0</td>\n",
       "      <td>256</td>\n",
       "      <td>60</td>\n",
       "      <td>4.2667</td>\n",
       "      <td>65</td>\n",
       "      <td>4.5385</td>\n",
       "      <td>2</td>\n",
       "      <td>30:04</td>\n",
       "      <td>3:06</td>\n",
       "    </tr>\n",
       "    <tr>\n",
       "      <td>276</td>\n",
       "      <td>68</td>\n",
       "      <td>266</td>\n",
       "      <td>WAS</td>\n",
       "      <td>2019</td>\n",
       "      <td>2019-09-08</td>\n",
       "      <td>1:00</td>\n",
       "      <td>1:00</td>\n",
       "      <td>Away</td>\n",
       "      <td>PHI</td>\n",
       "      <td>1</td>\n",
       "      <td>...</td>\n",
       "      <td>2.15</td>\n",
       "      <td>0</td>\n",
       "      <td>398</td>\n",
       "      <td>58</td>\n",
       "      <td>6.8621</td>\n",
       "      <td>71</td>\n",
       "      <td>6.1408</td>\n",
       "      <td>NaN</td>\n",
       "      <td>25:33</td>\n",
       "      <td>3:13</td>\n",
       "    </tr>\n",
       "    <tr>\n",
       "      <td>277</td>\n",
       "      <td>69</td>\n",
       "      <td>267</td>\n",
       "      <td>GNB</td>\n",
       "      <td>2019</td>\n",
       "      <td>2019-09-05</td>\n",
       "      <td>8:20</td>\n",
       "      <td>7:20</td>\n",
       "      <td>Away</td>\n",
       "      <td>CHI</td>\n",
       "      <td>1</td>\n",
       "      <td>...</td>\n",
       "      <td>2.14</td>\n",
       "      <td>0</td>\n",
       "      <td>213</td>\n",
       "      <td>57</td>\n",
       "      <td>3.7368</td>\n",
       "      <td>65</td>\n",
       "      <td>3.9077</td>\n",
       "      <td>NaN</td>\n",
       "      <td>31:03</td>\n",
       "      <td>3:07</td>\n",
       "    </tr>\n",
       "  </tbody>\n",
       "</table>\n",
       "<p>278 rows × 43 columns</p>\n",
       "</div>"
      ],
      "text/plain": [
       "     index (Unnamed: 0_level_0, Rk) (Unnamed: 1_level_0, Tm)  \\\n",
       "0        0                        1                      SFO   \n",
       "1        1                        2                      GNB   \n",
       "2        2                        3                      TEN   \n",
       "3        3                        4                      HOU   \n",
       "4        4                        5                      SEA   \n",
       "..     ...                      ...                      ...   \n",
       "273     65                      263                      TEN   \n",
       "274     66                      264                      PIT   \n",
       "275     67                      265                      SFO   \n",
       "276     68                      266                      WAS   \n",
       "277     69                      267                      GNB   \n",
       "\n",
       "    (Unnamed: 2_level_0, Year) (Unnamed: 3_level_0, Date)  \\\n",
       "0                         2019                 2020-02-02   \n",
       "1                         2019                 2020-01-19   \n",
       "2                         2019                 2020-01-19   \n",
       "3                         2019                 2020-01-12   \n",
       "4                         2019                 2020-01-12   \n",
       "..                         ...                        ...   \n",
       "273                       2019                 2019-09-08   \n",
       "274                       2019                 2019-09-08   \n",
       "275                       2019                 2019-09-08   \n",
       "276                       2019                 2019-09-08   \n",
       "277                       2019                 2019-09-05   \n",
       "\n",
       "    (Unnamed: 4_level_0, Time) (Unnamed: 5_level_0, LTime)  \\\n",
       "0                         6:30                        6:30   \n",
       "1                         6:40                        3:40   \n",
       "2                         3:05                        2:05   \n",
       "3                         3:05                        2:05   \n",
       "4                         6:40                        5:40   \n",
       "..                         ...                         ...   \n",
       "273                       1:00                        1:00   \n",
       "274                       8:20                        8:20   \n",
       "275                       4:25                        4:25   \n",
       "276                       1:00                        1:00   \n",
       "277                       8:20                        7:20   \n",
       "\n",
       "    (Unnamed: 6_level_0, Unnamed: 6_level_1) (Unnamed: 7_level_0, Opp)  \\\n",
       "0                                    Neutral                       KAN   \n",
       "1                                       Away                       SFO   \n",
       "2                                       Away                       KAN   \n",
       "3                                       Away                       KAN   \n",
       "4                                       Away                       GNB   \n",
       "..                                       ...                       ...   \n",
       "273                                     Away                       CLE   \n",
       "274                                     Away                       NWE   \n",
       "275                                     Away                       TAM   \n",
       "276                                     Away                       PHI   \n",
       "277                                     Away                       CHI   \n",
       "\n",
       "    (Unnamed: 8_level_0, Week)  ... (Rushing, Y/A) (Rushing, TD)  \\\n",
       "0                           21  ...           6.41             1   \n",
       "1                           20  ...           3.88             1   \n",
       "2                           20  ...           3.70             1   \n",
       "3                           19  ...           4.48             1   \n",
       "4                           19  ...           4.58             2   \n",
       "..                         ...  ...            ...           ...   \n",
       "273                          1  ...           4.39             1   \n",
       "274                          1  ...           2.46             0   \n",
       "275                          1  ...           3.06             0   \n",
       "276                          1  ...           2.15             0   \n",
       "277                          1  ...           2.14             0   \n",
       "\n",
       "    (Tot Yds & TO, Tot) (Tot Yds & TO, Ply) (Tot Yds & TO, Y/P)  \\\n",
       "0                   351                  54              6.5000   \n",
       "1                   358                  58              6.1724   \n",
       "2                   295                  58              5.0862   \n",
       "3                   442                  78              5.6667   \n",
       "4                   375                  60              6.2500   \n",
       "..                  ...                 ...                 ...   \n",
       "273                 339                  56              6.0536   \n",
       "274                 308                  61              5.0492   \n",
       "275                 256                  60              4.2667   \n",
       "276                 398                  58              6.8621   \n",
       "277                 213                  57              3.7368   \n",
       "\n",
       "    (Tot Yds & TO, DPly) (Tot Yds & TO, DY/P) (Tot Yds & TO, TO)  \\\n",
       "0                     75               5.2933                  2   \n",
       "1                     51               6.9412                  3   \n",
       "2                     64               6.3125                NaN   \n",
       "3                     57               7.6140                  1   \n",
       "4                     59               5.8305                NaN   \n",
       "..                   ...                  ...                ...   \n",
       "273                   63               5.4921                NaN   \n",
       "274                   67               6.9403                  1   \n",
       "275                   65               4.5385                  2   \n",
       "276                   71               6.1408                NaN   \n",
       "277                   65               3.9077                NaN   \n",
       "\n",
       "    (Tot Yds & TO, ToP) (Tot Yds & TO, Time)  \n",
       "0                 26:47                 3:29  \n",
       "1                 31:13                 3:03  \n",
       "2                 30:10                 3:04  \n",
       "3                 34:35                 3:25  \n",
       "4                 30:31                 3:09  \n",
       "..                  ...                  ...  \n",
       "273               29:18                 3:12  \n",
       "274               27:27                 3:00  \n",
       "275               30:04                 3:06  \n",
       "276               25:33                 3:13  \n",
       "277               31:03                 3:07  \n",
       "\n",
       "[278 rows x 43 columns]"
      ]
     },
     "execution_count": 11,
     "metadata": {},
     "output_type": "execute_result"
    }
   ],
   "source": [
    "df.reset_index()"
   ]
  },
  {
   "cell_type": "code",
   "execution_count": 12,
   "metadata": {
    "ExecuteTime": {
     "end_time": "2020-05-14T22:49:57.134254Z",
     "start_time": "2020-05-14T22:49:57.123784Z"
    }
   },
   "outputs": [],
   "source": [
    "df.drop(df[df[('Unnamed: 1_level_0', 'Tm')] == 'Tm'].index, inplace=True)"
   ]
  },
  {
   "cell_type": "code",
   "execution_count": 13,
   "metadata": {
    "ExecuteTime": {
     "end_time": "2020-05-14T22:50:02.985177Z",
     "start_time": "2020-05-14T22:50:02.965887Z"
    }
   },
   "outputs": [],
   "source": [
    "df = df.rename(columns={('Unnamed: 0_level_0', 'Rk'):'rk', \n",
    "                                    ('Unnamed: 1_level_0', 'Tm'): 'team1',\n",
    "('Unnamed: 2_level_0', 'Year'): 'year',\n",
    "('Unnamed: 3_level_0', 'Date'): 'date',\n",
    "('Unnamed: 4_level_0', 'Time'): 'time',\n",
    "('Unnamed: 5_level_0', 'LTime'): 'local_time', \n",
    "('Unnamed: 6_level_0', 'Unnamed: 6_level_1'): 'home_away',\n",
    "('Unnamed: 7_level_0', 'Opp'): 'team2',\n",
    "('Unnamed: 8_level_0', 'Week'): 'Week',\n",
    "('Unnamed: 9_level_0', 'G#'): 'Game_Number',\n",
    "('Unnamed: 10_level_0', 'Day'): 'day',\n",
    "('Unnamed: 11_level_0', 'Result'): 'win1?',\n",
    "('Unnamed: 12_level_0', 'OT'): 'OT',\n",
    "('Points', 'PF'): 'points_1',\n",
    "('Points', 'PA'): 'points_2',\n",
    "('Points', 'PD'): 'point_differential',\n",
    "('Points', 'PC'): 'combined_points',\n",
    "('Vegas', 'Spread'): 'spread',\n",
    "('Vegas', 'vs. Line'): 'team1_covered_spread?',\n",
    "('Vegas', 'Over/Under'): 'over_under',\n",
    "('Vegas', 'OU Result'): 'over_under_result?',\n",
    "('Passing', 'Cmp'): 'pass_completions1',\n",
    "('Passing', 'Att'): 'pass_attempts1',\n",
    "('Passing', 'Cmp%'): 'completion_percentage1',\n",
    "('Passing', 'Yds'): 'passing_yards1',\n",
    "('Passing', 'TD'): 'passing_touchdowns1',\n",
    "('Passing', 'Int'): 'interceptions1',\n",
    "('Passing', 'Sk'): 'times_sacked1',\n",
    "('Passing', 'Yds.1'): 'sack_yards_lost1',\n",
    "('Passing', 'Rate'): 'qbr1',\n",
    "('Rushing', 'Att'): 'rushing_attempts1',\n",
    "('Rushing', 'Yds'): 'rushing_yards1',\n",
    "('Rushing', 'Y/A'): 'rushing_yards_per_attempt1',\n",
    "('Rushing', 'TD'): 'rushing_touchdowns1',\n",
    "('Tot Yds & TO', 'Tot'): 'total_yards1',\n",
    "('Tot Yds & TO', 'Ply'): 'offensive_plays1',\n",
    "('Tot Yds & TO', 'Y/P'): 'yards_per_play_offense1',\n",
    "('Tot Yds & TO', 'DPly'): 'defensive_plays1',\n",
    "('Tot Yds & TO', 'DY/P'): 'yards_allowed_per_defensive_play1',\n",
    "('Tot Yds & TO', 'TO'): 'turnovers_lost1',\n",
    "('Tot Yds & TO', 'ToP'): 'time_of_possession1',\n",
    "('Tot Yds & TO', 'Time'): 'game_duration'})"
   ]
  },
  {
   "cell_type": "code",
   "execution_count": 16,
   "metadata": {
    "ExecuteTime": {
     "end_time": "2020-05-14T22:50:40.833871Z",
     "start_time": "2020-05-14T22:50:40.819815Z"
    }
   },
   "outputs": [],
   "source": [
    "df.to_csv('1_df.csv')"
   ]
  },
  {
   "cell_type": "code",
   "execution_count": 17,
   "metadata": {
    "ExecuteTime": {
     "end_time": "2020-05-14T22:50:55.278789Z",
     "start_time": "2020-05-14T22:50:46.598242Z"
    }
   },
   "outputs": [],
   "source": [
    "odds3 = []                                                                                                                                                                                                                                                                                                                                                                                                                                        \n",
    "for i in range(0,300,100):\n",
    "    url2 =\"\"\"https://www.pro-football-reference.com/play-index/tgl_finder.cgi?request=1&match=game&year_min=2019&year_max=2019&game_type=E&game_num_min=0&game_num_max=99&week_num_min=0&week_num_max=99&temperature_gtlt=lt&c1stat=vegas_line&c1comp=gte&c2stat=over_under&c2comp=gte&c3stat=pass_yds_opp&c3comp=gte&c4stat=rush_yds_opp&c4comp=gte&c5stat=tot_yds_opp&c5comp=gt&c5val=1.0&order_by=game_date&offset={}\"\"\"\n",
    "    odds3.append(pd.read_html(url2.format(i))[0])"
   ]
  },
  {
   "cell_type": "code",
   "execution_count": 18,
   "metadata": {
    "ExecuteTime": {
     "end_time": "2020-05-14T22:51:04.507364Z",
     "start_time": "2020-05-14T22:51:04.501480Z"
    }
   },
   "outputs": [],
   "source": [
    "df1 = pd.concat(odds3)"
   ]
  },
  {
   "cell_type": "code",
   "execution_count": 19,
   "metadata": {
    "ExecuteTime": {
     "end_time": "2020-05-14T22:51:06.796857Z",
     "start_time": "2020-05-14T22:51:06.787430Z"
    }
   },
   "outputs": [],
   "source": [
    "df1.drop(df1[df1[('Unnamed: 1_level_0', 'Tm')] == 'Tm'].index, inplace=True)"
   ]
  },
  {
   "cell_type": "code",
   "execution_count": 20,
   "metadata": {
    "ExecuteTime": {
     "end_time": "2020-05-14T22:51:13.870370Z",
     "start_time": "2020-05-14T22:51:13.816681Z"
    }
   },
   "outputs": [
    {
     "data": {
      "text/html": [
       "<div>\n",
       "<style scoped>\n",
       "    .dataframe tbody tr th:only-of-type {\n",
       "        vertical-align: middle;\n",
       "    }\n",
       "\n",
       "    .dataframe tbody tr th {\n",
       "        vertical-align: top;\n",
       "    }\n",
       "\n",
       "    .dataframe thead tr th {\n",
       "        text-align: left;\n",
       "    }\n",
       "</style>\n",
       "<table border=\"1\" class=\"dataframe\">\n",
       "  <thead>\n",
       "    <tr>\n",
       "      <th></th>\n",
       "      <th>Unnamed: 0_level_0</th>\n",
       "      <th>Unnamed: 1_level_0</th>\n",
       "      <th>Unnamed: 2_level_0</th>\n",
       "      <th>Unnamed: 3_level_0</th>\n",
       "      <th>Unnamed: 4_level_0</th>\n",
       "      <th>Unnamed: 5_level_0</th>\n",
       "      <th>Unnamed: 6_level_0</th>\n",
       "      <th>Unnamed: 7_level_0</th>\n",
       "      <th>Unnamed: 8_level_0</th>\n",
       "      <th>Unnamed: 9_level_0</th>\n",
       "      <th>...</th>\n",
       "      <th colspan=\"4\" halign=\"left\">Passing</th>\n",
       "      <th colspan=\"4\" halign=\"left\">Rushing</th>\n",
       "      <th colspan=\"2\" halign=\"left\">Opp Tot Yds &amp; TO</th>\n",
       "    </tr>\n",
       "    <tr>\n",
       "      <th></th>\n",
       "      <th>Rk</th>\n",
       "      <th>Tm</th>\n",
       "      <th>Year</th>\n",
       "      <th>Date</th>\n",
       "      <th>Time</th>\n",
       "      <th>LTime</th>\n",
       "      <th>Unnamed: 6_level_1</th>\n",
       "      <th>Opp</th>\n",
       "      <th>Week</th>\n",
       "      <th>G#</th>\n",
       "      <th>...</th>\n",
       "      <th>Int</th>\n",
       "      <th>Sk</th>\n",
       "      <th>Yds.1</th>\n",
       "      <th>Rate</th>\n",
       "      <th>Att</th>\n",
       "      <th>Yds</th>\n",
       "      <th>Y/A</th>\n",
       "      <th>TD</th>\n",
       "      <th>Tot</th>\n",
       "      <th>TO</th>\n",
       "    </tr>\n",
       "  </thead>\n",
       "  <tbody>\n",
       "    <tr>\n",
       "      <td>0</td>\n",
       "      <td>1</td>\n",
       "      <td>SFO</td>\n",
       "      <td>2019</td>\n",
       "      <td>2020-02-02</td>\n",
       "      <td>6:30</td>\n",
       "      <td>6:30</td>\n",
       "      <td>N</td>\n",
       "      <td>KAN</td>\n",
       "      <td>21</td>\n",
       "      <td>20</td>\n",
       "      <td>...</td>\n",
       "      <td>2</td>\n",
       "      <td>4</td>\n",
       "      <td>18</td>\n",
       "      <td>76.3</td>\n",
       "      <td>29</td>\n",
       "      <td>129</td>\n",
       "      <td>4.45</td>\n",
       "      <td>2</td>\n",
       "      <td>397</td>\n",
       "      <td>2</td>\n",
       "    </tr>\n",
       "    <tr>\n",
       "      <td>1</td>\n",
       "      <td>2</td>\n",
       "      <td>GNB</td>\n",
       "      <td>2019</td>\n",
       "      <td>2020-01-19</td>\n",
       "      <td>6:40</td>\n",
       "      <td>3:40</td>\n",
       "      <td>@</td>\n",
       "      <td>SFO</td>\n",
       "      <td>20</td>\n",
       "      <td>19</td>\n",
       "      <td>...</td>\n",
       "      <td>0</td>\n",
       "      <td>1</td>\n",
       "      <td>8</td>\n",
       "      <td>100.5</td>\n",
       "      <td>42</td>\n",
       "      <td>285</td>\n",
       "      <td>6.79</td>\n",
       "      <td>4</td>\n",
       "      <td>354</td>\n",
       "      <td>NaN</td>\n",
       "    </tr>\n",
       "    <tr>\n",
       "      <td>2</td>\n",
       "      <td>3</td>\n",
       "      <td>TEN</td>\n",
       "      <td>2019</td>\n",
       "      <td>2020-01-19</td>\n",
       "      <td>3:05</td>\n",
       "      <td>2:05</td>\n",
       "      <td>@</td>\n",
       "      <td>KAN</td>\n",
       "      <td>20</td>\n",
       "      <td>20</td>\n",
       "      <td>...</td>\n",
       "      <td>0</td>\n",
       "      <td>2</td>\n",
       "      <td>2</td>\n",
       "      <td>120.2</td>\n",
       "      <td>27</td>\n",
       "      <td>112</td>\n",
       "      <td>4.15</td>\n",
       "      <td>2</td>\n",
       "      <td>404</td>\n",
       "      <td>NaN</td>\n",
       "    </tr>\n",
       "    <tr>\n",
       "      <td>3</td>\n",
       "      <td>4</td>\n",
       "      <td>HOU</td>\n",
       "      <td>2019</td>\n",
       "      <td>2020-01-12</td>\n",
       "      <td>3:05</td>\n",
       "      <td>2:05</td>\n",
       "      <td>@</td>\n",
       "      <td>KAN</td>\n",
       "      <td>19</td>\n",
       "      <td>19</td>\n",
       "      <td>...</td>\n",
       "      <td>0</td>\n",
       "      <td>1</td>\n",
       "      <td>5</td>\n",
       "      <td>134.0</td>\n",
       "      <td>21</td>\n",
       "      <td>118</td>\n",
       "      <td>5.62</td>\n",
       "      <td>2</td>\n",
       "      <td>434</td>\n",
       "      <td>1</td>\n",
       "    </tr>\n",
       "    <tr>\n",
       "      <td>4</td>\n",
       "      <td>5</td>\n",
       "      <td>SEA</td>\n",
       "      <td>2019</td>\n",
       "      <td>2020-01-12</td>\n",
       "      <td>6:40</td>\n",
       "      <td>5:40</td>\n",
       "      <td>@</td>\n",
       "      <td>GNB</td>\n",
       "      <td>19</td>\n",
       "      <td>19</td>\n",
       "      <td>...</td>\n",
       "      <td>0</td>\n",
       "      <td>2</td>\n",
       "      <td>8</td>\n",
       "      <td>112.4</td>\n",
       "      <td>30</td>\n",
       "      <td>109</td>\n",
       "      <td>3.63</td>\n",
       "      <td>2</td>\n",
       "      <td>344</td>\n",
       "      <td>NaN</td>\n",
       "    </tr>\n",
       "  </tbody>\n",
       "</table>\n",
       "<p>5 rows × 32 columns</p>\n",
       "</div>"
      ],
      "text/plain": [
       "  Unnamed: 0_level_0 Unnamed: 1_level_0 Unnamed: 2_level_0 Unnamed: 3_level_0  \\\n",
       "                  Rk                 Tm               Year               Date   \n",
       "0                  1                SFO               2019         2020-02-02   \n",
       "1                  2                GNB               2019         2020-01-19   \n",
       "2                  3                TEN               2019         2020-01-19   \n",
       "3                  4                HOU               2019         2020-01-12   \n",
       "4                  5                SEA               2019         2020-01-12   \n",
       "\n",
       "  Unnamed: 4_level_0 Unnamed: 5_level_0 Unnamed: 6_level_0 Unnamed: 7_level_0  \\\n",
       "                Time              LTime Unnamed: 6_level_1                Opp   \n",
       "0               6:30               6:30                  N                KAN   \n",
       "1               6:40               3:40                  @                SFO   \n",
       "2               3:05               2:05                  @                KAN   \n",
       "3               3:05               2:05                  @                KAN   \n",
       "4               6:40               5:40                  @                GNB   \n",
       "\n",
       "  Unnamed: 8_level_0 Unnamed: 9_level_0  ... Passing                 Rushing  \\\n",
       "                Week                 G#  ...     Int Sk Yds.1   Rate     Att   \n",
       "0                 21                 20  ...       2  4    18   76.3      29   \n",
       "1                 20                 19  ...       0  1     8  100.5      42   \n",
       "2                 20                 20  ...       0  2     2  120.2      27   \n",
       "3                 19                 19  ...       0  1     5  134.0      21   \n",
       "4                 19                 19  ...       0  2     8  112.4      30   \n",
       "\n",
       "                Opp Tot Yds & TO       \n",
       "   Yds   Y/A TD              Tot   TO  \n",
       "0  129  4.45  2              397    2  \n",
       "1  285  6.79  4              354  NaN  \n",
       "2  112  4.15  2              404  NaN  \n",
       "3  118  5.62  2              434    1  \n",
       "4  109  3.63  2              344  NaN  \n",
       "\n",
       "[5 rows x 32 columns]"
      ]
     },
     "execution_count": 20,
     "metadata": {},
     "output_type": "execute_result"
    }
   ],
   "source": [
    "df1.head()"
   ]
  },
  {
   "cell_type": "code",
   "execution_count": 21,
   "metadata": {
    "ExecuteTime": {
     "end_time": "2020-05-14T22:51:16.699745Z",
     "start_time": "2020-05-14T22:51:16.694379Z"
    }
   },
   "outputs": [
    {
     "data": {
      "text/plain": [
       "(267, 32)"
      ]
     },
     "execution_count": 21,
     "metadata": {},
     "output_type": "execute_result"
    }
   ],
   "source": [
    "df1.shape"
   ]
  },
  {
   "cell_type": "code",
   "execution_count": 22,
   "metadata": {
    "ExecuteTime": {
     "end_time": "2020-05-14T22:51:19.049955Z",
     "start_time": "2020-05-14T22:51:19.043851Z"
    }
   },
   "outputs": [
    {
     "data": {
      "text/plain": [
       "MultiIndex([( 'Unnamed: 0_level_0',                 'Rk'),\n",
       "            ( 'Unnamed: 1_level_0',                 'Tm'),\n",
       "            ( 'Unnamed: 2_level_0',               'Year'),\n",
       "            ( 'Unnamed: 3_level_0',               'Date'),\n",
       "            ( 'Unnamed: 4_level_0',               'Time'),\n",
       "            ( 'Unnamed: 5_level_0',              'LTime'),\n",
       "            ( 'Unnamed: 6_level_0', 'Unnamed: 6_level_1'),\n",
       "            ( 'Unnamed: 7_level_0',                'Opp'),\n",
       "            ( 'Unnamed: 8_level_0',               'Week'),\n",
       "            ( 'Unnamed: 9_level_0',                 'G#'),\n",
       "            ('Unnamed: 10_level_0',                'Day'),\n",
       "            ('Unnamed: 11_level_0',             'Result'),\n",
       "            ('Unnamed: 12_level_0',                 'OT'),\n",
       "            (              'Vegas',             'Spread'),\n",
       "            (              'Vegas',           'vs. Line'),\n",
       "            (              'Vegas',         'Over/Under'),\n",
       "            (              'Vegas',          'OU Result'),\n",
       "            (            'Passing',                'Cmp'),\n",
       "            (            'Passing',                'Att'),\n",
       "            (            'Passing',               'Cmp%'),\n",
       "            (            'Passing',                'Yds'),\n",
       "            (            'Passing',                 'TD'),\n",
       "            (            'Passing',                'Int'),\n",
       "            (            'Passing',                 'Sk'),\n",
       "            (            'Passing',              'Yds.1'),\n",
       "            (            'Passing',               'Rate'),\n",
       "            (            'Rushing',                'Att'),\n",
       "            (            'Rushing',                'Yds'),\n",
       "            (            'Rushing',                'Y/A'),\n",
       "            (            'Rushing',                 'TD'),\n",
       "            (   'Opp Tot Yds & TO',                'Tot'),\n",
       "            (   'Opp Tot Yds & TO',                 'TO')],\n",
       "           )"
      ]
     },
     "execution_count": 22,
     "metadata": {},
     "output_type": "execute_result"
    }
   ],
   "source": [
    "df1.columns"
   ]
  },
  {
   "cell_type": "code",
   "execution_count": 23,
   "metadata": {
    "ExecuteTime": {
     "end_time": "2020-05-14T22:51:21.643764Z",
     "start_time": "2020-05-14T22:51:21.638251Z"
    }
   },
   "outputs": [],
   "source": [
    "df1[('Unnamed: 6_level_0', 'Unnamed: 6_level_1')] = df1[('Unnamed: 6_level_0', 'Unnamed: 6_level_1')].fillna(value='Home')"
   ]
  },
  {
   "cell_type": "code",
   "execution_count": 24,
   "metadata": {
    "ExecuteTime": {
     "end_time": "2020-05-14T22:51:23.643448Z",
     "start_time": "2020-05-14T22:51:23.637376Z"
    }
   },
   "outputs": [],
   "source": [
    "df1[('Unnamed: 6_level_0', 'Unnamed: 6_level_1')] = df1[('Unnamed: 6_level_0', 'Unnamed: 6_level_1')].replace(to_replace=['N', '@'], value=['Neutral', 'Away'])"
   ]
  },
  {
   "cell_type": "code",
   "execution_count": 26,
   "metadata": {
    "ExecuteTime": {
     "end_time": "2020-05-14T22:51:27.817268Z",
     "start_time": "2020-05-14T22:51:27.812681Z"
    }
   },
   "outputs": [],
   "source": [
    "df1.columns = df1.columns.to_flat_index()"
   ]
  },
  {
   "cell_type": "code",
   "execution_count": 27,
   "metadata": {
    "ExecuteTime": {
     "end_time": "2020-05-14T22:51:28.994541Z",
     "start_time": "2020-05-14T22:51:28.952452Z"
    }
   },
   "outputs": [
    {
     "data": {
      "text/html": [
       "<div>\n",
       "<style scoped>\n",
       "    .dataframe tbody tr th:only-of-type {\n",
       "        vertical-align: middle;\n",
       "    }\n",
       "\n",
       "    .dataframe tbody tr th {\n",
       "        vertical-align: top;\n",
       "    }\n",
       "\n",
       "    .dataframe thead th {\n",
       "        text-align: right;\n",
       "    }\n",
       "</style>\n",
       "<table border=\"1\" class=\"dataframe\">\n",
       "  <thead>\n",
       "    <tr style=\"text-align: right;\">\n",
       "      <th></th>\n",
       "      <th>index</th>\n",
       "      <th>(Unnamed: 0_level_0, Rk)</th>\n",
       "      <th>(Unnamed: 1_level_0, Tm)</th>\n",
       "      <th>(Unnamed: 2_level_0, Year)</th>\n",
       "      <th>(Unnamed: 3_level_0, Date)</th>\n",
       "      <th>(Unnamed: 4_level_0, Time)</th>\n",
       "      <th>(Unnamed: 5_level_0, LTime)</th>\n",
       "      <th>(Unnamed: 6_level_0, Unnamed: 6_level_1)</th>\n",
       "      <th>(Unnamed: 7_level_0, Opp)</th>\n",
       "      <th>(Unnamed: 8_level_0, Week)</th>\n",
       "      <th>...</th>\n",
       "      <th>(Passing, Int)</th>\n",
       "      <th>(Passing, Sk)</th>\n",
       "      <th>(Passing, Yds.1)</th>\n",
       "      <th>(Passing, Rate)</th>\n",
       "      <th>(Rushing, Att)</th>\n",
       "      <th>(Rushing, Yds)</th>\n",
       "      <th>(Rushing, Y/A)</th>\n",
       "      <th>(Rushing, TD)</th>\n",
       "      <th>(Opp Tot Yds &amp; TO, Tot)</th>\n",
       "      <th>(Opp Tot Yds &amp; TO, TO)</th>\n",
       "    </tr>\n",
       "  </thead>\n",
       "  <tbody>\n",
       "    <tr>\n",
       "      <td>0</td>\n",
       "      <td>0</td>\n",
       "      <td>1</td>\n",
       "      <td>SFO</td>\n",
       "      <td>2019</td>\n",
       "      <td>2020-02-02</td>\n",
       "      <td>6:30</td>\n",
       "      <td>6:30</td>\n",
       "      <td>Neutral</td>\n",
       "      <td>KAN</td>\n",
       "      <td>21</td>\n",
       "      <td>...</td>\n",
       "      <td>2</td>\n",
       "      <td>4</td>\n",
       "      <td>18</td>\n",
       "      <td>76.3</td>\n",
       "      <td>29</td>\n",
       "      <td>129</td>\n",
       "      <td>4.45</td>\n",
       "      <td>2</td>\n",
       "      <td>397</td>\n",
       "      <td>2</td>\n",
       "    </tr>\n",
       "    <tr>\n",
       "      <td>1</td>\n",
       "      <td>1</td>\n",
       "      <td>2</td>\n",
       "      <td>GNB</td>\n",
       "      <td>2019</td>\n",
       "      <td>2020-01-19</td>\n",
       "      <td>6:40</td>\n",
       "      <td>3:40</td>\n",
       "      <td>Away</td>\n",
       "      <td>SFO</td>\n",
       "      <td>20</td>\n",
       "      <td>...</td>\n",
       "      <td>0</td>\n",
       "      <td>1</td>\n",
       "      <td>8</td>\n",
       "      <td>100.5</td>\n",
       "      <td>42</td>\n",
       "      <td>285</td>\n",
       "      <td>6.79</td>\n",
       "      <td>4</td>\n",
       "      <td>354</td>\n",
       "      <td>NaN</td>\n",
       "    </tr>\n",
       "    <tr>\n",
       "      <td>2</td>\n",
       "      <td>2</td>\n",
       "      <td>3</td>\n",
       "      <td>TEN</td>\n",
       "      <td>2019</td>\n",
       "      <td>2020-01-19</td>\n",
       "      <td>3:05</td>\n",
       "      <td>2:05</td>\n",
       "      <td>Away</td>\n",
       "      <td>KAN</td>\n",
       "      <td>20</td>\n",
       "      <td>...</td>\n",
       "      <td>0</td>\n",
       "      <td>2</td>\n",
       "      <td>2</td>\n",
       "      <td>120.2</td>\n",
       "      <td>27</td>\n",
       "      <td>112</td>\n",
       "      <td>4.15</td>\n",
       "      <td>2</td>\n",
       "      <td>404</td>\n",
       "      <td>NaN</td>\n",
       "    </tr>\n",
       "    <tr>\n",
       "      <td>3</td>\n",
       "      <td>3</td>\n",
       "      <td>4</td>\n",
       "      <td>HOU</td>\n",
       "      <td>2019</td>\n",
       "      <td>2020-01-12</td>\n",
       "      <td>3:05</td>\n",
       "      <td>2:05</td>\n",
       "      <td>Away</td>\n",
       "      <td>KAN</td>\n",
       "      <td>19</td>\n",
       "      <td>...</td>\n",
       "      <td>0</td>\n",
       "      <td>1</td>\n",
       "      <td>5</td>\n",
       "      <td>134.0</td>\n",
       "      <td>21</td>\n",
       "      <td>118</td>\n",
       "      <td>5.62</td>\n",
       "      <td>2</td>\n",
       "      <td>434</td>\n",
       "      <td>1</td>\n",
       "    </tr>\n",
       "    <tr>\n",
       "      <td>4</td>\n",
       "      <td>4</td>\n",
       "      <td>5</td>\n",
       "      <td>SEA</td>\n",
       "      <td>2019</td>\n",
       "      <td>2020-01-12</td>\n",
       "      <td>6:40</td>\n",
       "      <td>5:40</td>\n",
       "      <td>Away</td>\n",
       "      <td>GNB</td>\n",
       "      <td>19</td>\n",
       "      <td>...</td>\n",
       "      <td>0</td>\n",
       "      <td>2</td>\n",
       "      <td>8</td>\n",
       "      <td>112.4</td>\n",
       "      <td>30</td>\n",
       "      <td>109</td>\n",
       "      <td>3.63</td>\n",
       "      <td>2</td>\n",
       "      <td>344</td>\n",
       "      <td>NaN</td>\n",
       "    </tr>\n",
       "    <tr>\n",
       "      <td>...</td>\n",
       "      <td>...</td>\n",
       "      <td>...</td>\n",
       "      <td>...</td>\n",
       "      <td>...</td>\n",
       "      <td>...</td>\n",
       "      <td>...</td>\n",
       "      <td>...</td>\n",
       "      <td>...</td>\n",
       "      <td>...</td>\n",
       "      <td>...</td>\n",
       "      <td>...</td>\n",
       "      <td>...</td>\n",
       "      <td>...</td>\n",
       "      <td>...</td>\n",
       "      <td>...</td>\n",
       "      <td>...</td>\n",
       "      <td>...</td>\n",
       "      <td>...</td>\n",
       "      <td>...</td>\n",
       "      <td>...</td>\n",
       "      <td>...</td>\n",
       "    </tr>\n",
       "    <tr>\n",
       "      <td>262</td>\n",
       "      <td>65</td>\n",
       "      <td>263</td>\n",
       "      <td>TEN</td>\n",
       "      <td>2019</td>\n",
       "      <td>2019-09-08</td>\n",
       "      <td>1:00</td>\n",
       "      <td>1:00</td>\n",
       "      <td>Away</td>\n",
       "      <td>CLE</td>\n",
       "      <td>1</td>\n",
       "      <td>...</td>\n",
       "      <td>3</td>\n",
       "      <td>5</td>\n",
       "      <td>41</td>\n",
       "      <td>59.5</td>\n",
       "      <td>20</td>\n",
       "      <td>102</td>\n",
       "      <td>5.10</td>\n",
       "      <td>1</td>\n",
       "      <td>346</td>\n",
       "      <td>3</td>\n",
       "    </tr>\n",
       "    <tr>\n",
       "      <td>263</td>\n",
       "      <td>66</td>\n",
       "      <td>264</td>\n",
       "      <td>PIT</td>\n",
       "      <td>2019</td>\n",
       "      <td>2019-09-08</td>\n",
       "      <td>8:20</td>\n",
       "      <td>8:20</td>\n",
       "      <td>Away</td>\n",
       "      <td>NWE</td>\n",
       "      <td>1</td>\n",
       "      <td>...</td>\n",
       "      <td>0</td>\n",
       "      <td>1</td>\n",
       "      <td>7</td>\n",
       "      <td>126.6</td>\n",
       "      <td>29</td>\n",
       "      <td>99</td>\n",
       "      <td>3.41</td>\n",
       "      <td>0</td>\n",
       "      <td>465</td>\n",
       "      <td>NaN</td>\n",
       "    </tr>\n",
       "    <tr>\n",
       "      <td>264</td>\n",
       "      <td>67</td>\n",
       "      <td>265</td>\n",
       "      <td>SFO</td>\n",
       "      <td>2019</td>\n",
       "      <td>2019-09-08</td>\n",
       "      <td>4:25</td>\n",
       "      <td>4:25</td>\n",
       "      <td>Away</td>\n",
       "      <td>TAM</td>\n",
       "      <td>1</td>\n",
       "      <td>...</td>\n",
       "      <td>3</td>\n",
       "      <td>3</td>\n",
       "      <td>20</td>\n",
       "      <td>43.1</td>\n",
       "      <td>26</td>\n",
       "      <td>121</td>\n",
       "      <td>4.65</td>\n",
       "      <td>0</td>\n",
       "      <td>295</td>\n",
       "      <td>4</td>\n",
       "    </tr>\n",
       "    <tr>\n",
       "      <td>265</td>\n",
       "      <td>68</td>\n",
       "      <td>266</td>\n",
       "      <td>WAS</td>\n",
       "      <td>2019</td>\n",
       "      <td>2019-09-08</td>\n",
       "      <td>1:00</td>\n",
       "      <td>1:00</td>\n",
       "      <td>Away</td>\n",
       "      <td>PHI</td>\n",
       "      <td>1</td>\n",
       "      <td>...</td>\n",
       "      <td>0</td>\n",
       "      <td>1</td>\n",
       "      <td>0</td>\n",
       "      <td>121.0</td>\n",
       "      <td>31</td>\n",
       "      <td>123</td>\n",
       "      <td>3.97</td>\n",
       "      <td>1</td>\n",
       "      <td>436</td>\n",
       "      <td>NaN</td>\n",
       "    </tr>\n",
       "    <tr>\n",
       "      <td>266</td>\n",
       "      <td>69</td>\n",
       "      <td>267</td>\n",
       "      <td>GNB</td>\n",
       "      <td>2019</td>\n",
       "      <td>2019-09-05</td>\n",
       "      <td>8:20</td>\n",
       "      <td>7:20</td>\n",
       "      <td>Away</td>\n",
       "      <td>CHI</td>\n",
       "      <td>1</td>\n",
       "      <td>...</td>\n",
       "      <td>1</td>\n",
       "      <td>5</td>\n",
       "      <td>20</td>\n",
       "      <td>60.2</td>\n",
       "      <td>15</td>\n",
       "      <td>46</td>\n",
       "      <td>3.07</td>\n",
       "      <td>0</td>\n",
       "      <td>254</td>\n",
       "      <td>1</td>\n",
       "    </tr>\n",
       "  </tbody>\n",
       "</table>\n",
       "<p>267 rows × 33 columns</p>\n",
       "</div>"
      ],
      "text/plain": [
       "     index (Unnamed: 0_level_0, Rk) (Unnamed: 1_level_0, Tm)  \\\n",
       "0        0                        1                      SFO   \n",
       "1        1                        2                      GNB   \n",
       "2        2                        3                      TEN   \n",
       "3        3                        4                      HOU   \n",
       "4        4                        5                      SEA   \n",
       "..     ...                      ...                      ...   \n",
       "262     65                      263                      TEN   \n",
       "263     66                      264                      PIT   \n",
       "264     67                      265                      SFO   \n",
       "265     68                      266                      WAS   \n",
       "266     69                      267                      GNB   \n",
       "\n",
       "    (Unnamed: 2_level_0, Year) (Unnamed: 3_level_0, Date)  \\\n",
       "0                         2019                 2020-02-02   \n",
       "1                         2019                 2020-01-19   \n",
       "2                         2019                 2020-01-19   \n",
       "3                         2019                 2020-01-12   \n",
       "4                         2019                 2020-01-12   \n",
       "..                         ...                        ...   \n",
       "262                       2019                 2019-09-08   \n",
       "263                       2019                 2019-09-08   \n",
       "264                       2019                 2019-09-08   \n",
       "265                       2019                 2019-09-08   \n",
       "266                       2019                 2019-09-05   \n",
       "\n",
       "    (Unnamed: 4_level_0, Time) (Unnamed: 5_level_0, LTime)  \\\n",
       "0                         6:30                        6:30   \n",
       "1                         6:40                        3:40   \n",
       "2                         3:05                        2:05   \n",
       "3                         3:05                        2:05   \n",
       "4                         6:40                        5:40   \n",
       "..                         ...                         ...   \n",
       "262                       1:00                        1:00   \n",
       "263                       8:20                        8:20   \n",
       "264                       4:25                        4:25   \n",
       "265                       1:00                        1:00   \n",
       "266                       8:20                        7:20   \n",
       "\n",
       "    (Unnamed: 6_level_0, Unnamed: 6_level_1) (Unnamed: 7_level_0, Opp)  \\\n",
       "0                                    Neutral                       KAN   \n",
       "1                                       Away                       SFO   \n",
       "2                                       Away                       KAN   \n",
       "3                                       Away                       KAN   \n",
       "4                                       Away                       GNB   \n",
       "..                                       ...                       ...   \n",
       "262                                     Away                       CLE   \n",
       "263                                     Away                       NWE   \n",
       "264                                     Away                       TAM   \n",
       "265                                     Away                       PHI   \n",
       "266                                     Away                       CHI   \n",
       "\n",
       "    (Unnamed: 8_level_0, Week)  ... (Passing, Int) (Passing, Sk)  \\\n",
       "0                           21  ...              2             4   \n",
       "1                           20  ...              0             1   \n",
       "2                           20  ...              0             2   \n",
       "3                           19  ...              0             1   \n",
       "4                           19  ...              0             2   \n",
       "..                         ...  ...            ...           ...   \n",
       "262                          1  ...              3             5   \n",
       "263                          1  ...              0             1   \n",
       "264                          1  ...              3             3   \n",
       "265                          1  ...              0             1   \n",
       "266                          1  ...              1             5   \n",
       "\n",
       "    (Passing, Yds.1) (Passing, Rate) (Rushing, Att) (Rushing, Yds)  \\\n",
       "0                 18            76.3             29            129   \n",
       "1                  8           100.5             42            285   \n",
       "2                  2           120.2             27            112   \n",
       "3                  5           134.0             21            118   \n",
       "4                  8           112.4             30            109   \n",
       "..               ...             ...            ...            ...   \n",
       "262               41            59.5             20            102   \n",
       "263                7           126.6             29             99   \n",
       "264               20            43.1             26            121   \n",
       "265                0           121.0             31            123   \n",
       "266               20            60.2             15             46   \n",
       "\n",
       "    (Rushing, Y/A) (Rushing, TD) (Opp Tot Yds & TO, Tot)  \\\n",
       "0             4.45             2                     397   \n",
       "1             6.79             4                     354   \n",
       "2             4.15             2                     404   \n",
       "3             5.62             2                     434   \n",
       "4             3.63             2                     344   \n",
       "..             ...           ...                     ...   \n",
       "262           5.10             1                     346   \n",
       "263           3.41             0                     465   \n",
       "264           4.65             0                     295   \n",
       "265           3.97             1                     436   \n",
       "266           3.07             0                     254   \n",
       "\n",
       "    (Opp Tot Yds & TO, TO)  \n",
       "0                        2  \n",
       "1                      NaN  \n",
       "2                      NaN  \n",
       "3                        1  \n",
       "4                      NaN  \n",
       "..                     ...  \n",
       "262                      3  \n",
       "263                    NaN  \n",
       "264                      4  \n",
       "265                    NaN  \n",
       "266                      1  \n",
       "\n",
       "[267 rows x 33 columns]"
      ]
     },
     "execution_count": 27,
     "metadata": {},
     "output_type": "execute_result"
    }
   ],
   "source": [
    "df1.reset_index()"
   ]
  },
  {
   "cell_type": "code",
   "execution_count": 28,
   "metadata": {
    "ExecuteTime": {
     "end_time": "2020-05-14T22:51:32.972791Z",
     "start_time": "2020-05-14T22:51:32.963555Z"
    }
   },
   "outputs": [
    {
     "data": {
      "text/plain": [
       "rk                                             1\n",
       "team1                                        SFO\n",
       "year                                        2019\n",
       "date                                  2020-02-02\n",
       "time                                        6:30\n",
       "local_time                                  6:30\n",
       "home_away                                Neutral\n",
       "team2                                        KAN\n",
       "Week                                          21\n",
       "Game_Number                                   20\n",
       "day                                          Sun\n",
       "win1?                                    L 20-31\n",
       "OT                                           NaN\n",
       "points_1                                      20\n",
       "points_2                                      31\n",
       "point_differential                           -11\n",
       "combined_points                               51\n",
       "spread                                       1.5\n",
       "team1_covered_spread?                not covered\n",
       "over_under                                  52.5\n",
       "over_under_result?                         under\n",
       "pass_completions1                             20\n",
       "pass_attempts1                                31\n",
       "completion_percentage1                      64.5\n",
       "passing_yards1                               210\n",
       "passing_touchdowns1                            1\n",
       "interceptions1                                 2\n",
       "times_sacked1                                  1\n",
       "sack_yards_lost1                               9\n",
       "qbr1                                        67.9\n",
       "rushing_attempts1                             22\n",
       "rushing_yards1                               141\n",
       "rushing_yards_per_attempt1                  6.41\n",
       "rushing_touchdowns1                            1\n",
       "total_yards1                                 351\n",
       "offensive_plays1                              54\n",
       "yards_per_play_offense1                   6.5000\n",
       "defensive_plays1                              75\n",
       "yards_allowed_per_defensive_play1         5.2933\n",
       "turnovers_lost1                                2\n",
       "time_of_possession1                        26:47\n",
       "game_duration                               3:29\n",
       "Name: 0, dtype: object"
      ]
     },
     "execution_count": 28,
     "metadata": {},
     "output_type": "execute_result"
    }
   ],
   "source": [
    "df.iloc[0]"
   ]
  },
  {
   "cell_type": "code",
   "execution_count": 29,
   "metadata": {
    "ExecuteTime": {
     "end_time": "2020-05-14T22:51:36.720903Z",
     "start_time": "2020-05-14T22:51:36.710076Z"
    }
   },
   "outputs": [
    {
     "data": {
      "text/plain": [
       "(Unnamed: 0_level_0, Rk)                              2\n",
       "(Unnamed: 1_level_0, Tm)                            GNB\n",
       "(Unnamed: 2_level_0, Year)                         2019\n",
       "(Unnamed: 3_level_0, Date)                   2020-01-19\n",
       "(Unnamed: 4_level_0, Time)                         6:40\n",
       "(Unnamed: 5_level_0, LTime)                        3:40\n",
       "(Unnamed: 6_level_0, Unnamed: 6_level_1)           Away\n",
       "(Unnamed: 7_level_0, Opp)                           SFO\n",
       "(Unnamed: 8_level_0, Week)                           20\n",
       "(Unnamed: 9_level_0, G#)                             19\n",
       "(Unnamed: 10_level_0, Day)                          Sun\n",
       "(Unnamed: 11_level_0, Result)                   L 20-37\n",
       "(Unnamed: 12_level_0, OT)                           NaN\n",
       "(Vegas, Spread)                                     8.0\n",
       "(Vegas, vs. Line)                           not covered\n",
       "(Vegas, Over/Under)                                46.5\n",
       "(Vegas, OU Result)                                 over\n",
       "(Passing, Cmp)                                        6\n",
       "(Passing, Att)                                        8\n",
       "(Passing, Cmp%)                                    75.0\n",
       "(Passing, Yds)                                       69\n",
       "(Passing, TD)                                         0\n",
       "(Passing, Int)                                        0\n",
       "(Passing, Sk)                                         1\n",
       "(Passing, Yds.1)                                      8\n",
       "(Passing, Rate)                                   100.5\n",
       "(Rushing, Att)                                       42\n",
       "(Rushing, Yds)                                      285\n",
       "(Rushing, Y/A)                                     6.79\n",
       "(Rushing, TD)                                         4\n",
       "(Opp Tot Yds & TO, Tot)                             354\n",
       "(Opp Tot Yds & TO, TO)                              NaN\n",
       "Name: 1, dtype: object"
      ]
     },
     "execution_count": 29,
     "metadata": {},
     "output_type": "execute_result"
    }
   ],
   "source": [
    "df1.iloc[1]"
   ]
  },
  {
   "cell_type": "code",
   "execution_count": 30,
   "metadata": {
    "ExecuteTime": {
     "end_time": "2020-05-14T22:51:41.635542Z",
     "start_time": "2020-05-14T22:51:41.622053Z"
    }
   },
   "outputs": [],
   "source": [
    "df1 = df1.rename(columns={('Unnamed: 0_level_0', 'Rk'):'rk', \n",
    "('Unnamed: 1_level_0', 'Tm'): 'team1',\n",
    "('Unnamed: 2_level_0', 'Year'): 'year',\n",
    "('Unnamed: 3_level_0', 'Date'): 'date',\n",
    "('Unnamed: 4_level_0', 'Time'): 'time',\n",
    "('Unnamed: 5_level_0', 'LTime'): 'local_time', \n",
    "('Unnamed: 6_level_0', 'Unnamed: 6_level_1'): 'home_away',\n",
    "('Unnamed: 7_level_0', 'Opp'): 'team2',\n",
    "('Unnamed: 8_level_0', 'Week'): 'Week',\n",
    "('Unnamed: 9_level_0', 'G#'): 'Game_Number',\n",
    "('Unnamed: 10_level_0', 'Day'): 'day',\n",
    "('Unnamed: 11_level_0', 'Result'): 'win1?',\n",
    "('Unnamed: 12_level_0', 'OT'): 'OT',\n",
    "('Vegas', 'Spread'): 'spread',\n",
    "('Vegas', 'vs. Line'): 'team1_covered_spread?',\n",
    "('Vegas', 'Over/Under'): 'over_under',\n",
    "('Vegas', 'OU Result'): 'over_under_result?',\n",
    "('Passing', 'Cmp'): 'pass_completions2',\n",
    "('Passing', 'Att'): 'pass_attempts2',\n",
    "('Passing', 'Cmp%'): 'completion_percentage2',\n",
    "('Passing', 'Yds'): 'passing_yards2',\n",
    "('Passing', 'TD'): 'passing_touchdowns2',\n",
    "('Passing', 'Int'): 'interceptions2',\n",
    "('Passing', 'Sk'): 'times_sacked2',\n",
    "('Passing', 'Yds.1'): 'sack_yards_lost2',\n",
    "('Passing', 'Rate'): 'qbr2',\n",
    "('Rushing', 'Att'): 'rushing_attempts2',\n",
    "('Rushing', 'Yds'): 'rushing_yards2',\n",
    "('Rushing', 'Y/A'): 'rushing_yards_per_attempt2',\n",
    "('Rushing', 'TD'): 'rushing_touchdowns2',\n",
    "('Opp Tot Yds & TO', 'Tot'):'total_yards2',\n",
    "('Opp Tot Yds & TO', 'TO'):'turnovers2'})"
   ]
  },
  {
   "cell_type": "code",
   "execution_count": 31,
   "metadata": {
    "ExecuteTime": {
     "end_time": "2020-05-14T22:51:43.914001Z",
     "start_time": "2020-05-14T22:51:43.908300Z"
    }
   },
   "outputs": [
    {
     "data": {
      "text/plain": [
       "Index(['rk', 'team1', 'year', 'date', 'time', 'local_time', 'home_away',\n",
       "       'team2', 'Week', 'Game_Number', 'day', 'win1?', 'OT', 'spread',\n",
       "       'team1_covered_spread?', 'over_under', 'over_under_result?',\n",
       "       'pass_completions2', 'pass_attempts2', 'completion_percentage2',\n",
       "       'passing_yards2', 'passing_touchdowns2', 'interceptions2',\n",
       "       'times_sacked2', 'sack_yards_lost2', 'qbr2', 'rushing_attempts2',\n",
       "       'rushing_yards2', 'rushing_yards_per_attempt2', 'rushing_touchdowns2',\n",
       "       'total_yards2', 'turnovers2'],\n",
       "      dtype='object')"
      ]
     },
     "execution_count": 31,
     "metadata": {},
     "output_type": "execute_result"
    }
   ],
   "source": [
    "df1.columns"
   ]
  },
  {
   "cell_type": "code",
   "execution_count": 32,
   "metadata": {
    "ExecuteTime": {
     "end_time": "2020-05-14T22:52:08.947823Z",
     "start_time": "2020-05-14T22:52:08.937986Z"
    }
   },
   "outputs": [],
   "source": [
    "df1.to_csv('2_df.csv')"
   ]
  },
  {
   "cell_type": "code",
   "execution_count": 33,
   "metadata": {
    "ExecuteTime": {
     "end_time": "2020-05-14T22:56:09.177842Z",
     "start_time": "2020-05-14T22:56:09.168596Z"
    }
   },
   "outputs": [],
   "source": [
    "df2 = pd.read_csv('penalty_stats.csv')"
   ]
  },
  {
   "cell_type": "code",
   "execution_count": 34,
   "metadata": {
    "ExecuteTime": {
     "end_time": "2020-05-14T22:56:10.987129Z",
     "start_time": "2020-05-14T22:56:10.971048Z"
    }
   },
   "outputs": [
    {
     "data": {
      "text/html": [
       "<div>\n",
       "<style scoped>\n",
       "    .dataframe tbody tr th:only-of-type {\n",
       "        vertical-align: middle;\n",
       "    }\n",
       "\n",
       "    .dataframe tbody tr th {\n",
       "        vertical-align: top;\n",
       "    }\n",
       "\n",
       "    .dataframe thead th {\n",
       "        text-align: right;\n",
       "    }\n",
       "</style>\n",
       "<table border=\"1\" class=\"dataframe\">\n",
       "  <thead>\n",
       "    <tr style=\"text-align: right;\">\n",
       "      <th></th>\n",
       "      <th>Unnamed: 0</th>\n",
       "      <th>team1</th>\n",
       "      <th>year</th>\n",
       "      <th>date</th>\n",
       "      <th>time</th>\n",
       "      <th>local_time</th>\n",
       "      <th>home_away</th>\n",
       "      <th>team2</th>\n",
       "      <th>Week</th>\n",
       "      <th>Game_Number</th>\n",
       "      <th>day</th>\n",
       "      <th>win1?</th>\n",
       "      <th>OT</th>\n",
       "      <th>penalty_yards1</th>\n",
       "      <th>penalty_yards2</th>\n",
       "    </tr>\n",
       "  </thead>\n",
       "  <tbody>\n",
       "    <tr>\n",
       "      <td>0</td>\n",
       "      <td>0</td>\n",
       "      <td>SFO</td>\n",
       "      <td>2019</td>\n",
       "      <td>2020-02-02</td>\n",
       "      <td>6:30</td>\n",
       "      <td>6:30</td>\n",
       "      <td>N</td>\n",
       "      <td>KAN</td>\n",
       "      <td>21</td>\n",
       "      <td>20</td>\n",
       "      <td>Sun</td>\n",
       "      <td>L 20-31</td>\n",
       "      <td>NaN</td>\n",
       "      <td>45</td>\n",
       "      <td>24</td>\n",
       "    </tr>\n",
       "    <tr>\n",
       "      <td>1</td>\n",
       "      <td>1</td>\n",
       "      <td>GNB</td>\n",
       "      <td>2019</td>\n",
       "      <td>2020-01-19</td>\n",
       "      <td>6:40</td>\n",
       "      <td>3:40</td>\n",
       "      <td>@</td>\n",
       "      <td>SFO</td>\n",
       "      <td>20</td>\n",
       "      <td>19</td>\n",
       "      <td>Sun</td>\n",
       "      <td>L 20-37</td>\n",
       "      <td>NaN</td>\n",
       "      <td>46</td>\n",
       "      <td>10</td>\n",
       "    </tr>\n",
       "    <tr>\n",
       "      <td>2</td>\n",
       "      <td>2</td>\n",
       "      <td>TEN</td>\n",
       "      <td>2019</td>\n",
       "      <td>2020-01-19</td>\n",
       "      <td>3:05</td>\n",
       "      <td>2:05</td>\n",
       "      <td>@</td>\n",
       "      <td>KAN</td>\n",
       "      <td>20</td>\n",
       "      <td>20</td>\n",
       "      <td>Sun</td>\n",
       "      <td>L 24-35</td>\n",
       "      <td>NaN</td>\n",
       "      <td>85</td>\n",
       "      <td>61</td>\n",
       "    </tr>\n",
       "    <tr>\n",
       "      <td>3</td>\n",
       "      <td>3</td>\n",
       "      <td>HOU</td>\n",
       "      <td>2019</td>\n",
       "      <td>2020-01-12</td>\n",
       "      <td>3:05</td>\n",
       "      <td>2:05</td>\n",
       "      <td>@</td>\n",
       "      <td>KAN</td>\n",
       "      <td>19</td>\n",
       "      <td>19</td>\n",
       "      <td>Sun</td>\n",
       "      <td>L 31-51</td>\n",
       "      <td>NaN</td>\n",
       "      <td>87</td>\n",
       "      <td>37</td>\n",
       "    </tr>\n",
       "    <tr>\n",
       "      <td>4</td>\n",
       "      <td>4</td>\n",
       "      <td>SEA</td>\n",
       "      <td>2019</td>\n",
       "      <td>2020-01-12</td>\n",
       "      <td>6:40</td>\n",
       "      <td>5:40</td>\n",
       "      <td>@</td>\n",
       "      <td>GNB</td>\n",
       "      <td>19</td>\n",
       "      <td>19</td>\n",
       "      <td>Sun</td>\n",
       "      <td>L 23-28</td>\n",
       "      <td>NaN</td>\n",
       "      <td>47</td>\n",
       "      <td>30</td>\n",
       "    </tr>\n",
       "  </tbody>\n",
       "</table>\n",
       "</div>"
      ],
      "text/plain": [
       "   Unnamed: 0 team1  year        date  time local_time home_away team2  Week  \\\n",
       "0           0   SFO  2019  2020-02-02  6:30       6:30         N   KAN    21   \n",
       "1           1   GNB  2019  2020-01-19  6:40       3:40         @   SFO    20   \n",
       "2           2   TEN  2019  2020-01-19  3:05       2:05         @   KAN    20   \n",
       "3           3   HOU  2019  2020-01-12  3:05       2:05         @   KAN    19   \n",
       "4           4   SEA  2019  2020-01-12  6:40       5:40         @   GNB    19   \n",
       "\n",
       "   Game_Number  day    win1?   OT  penalty_yards1  penalty_yards2  \n",
       "0           20  Sun  L 20-31  NaN              45              24  \n",
       "1           19  Sun  L 20-37  NaN              46              10  \n",
       "2           20  Sun  L 24-35  NaN              85              61  \n",
       "3           19  Sun  L 31-51  NaN              87              37  \n",
       "4           19  Sun  L 23-28  NaN              47              30  "
      ]
     },
     "execution_count": 34,
     "metadata": {},
     "output_type": "execute_result"
    }
   ],
   "source": [
    "df2.head()"
   ]
  },
  {
   "cell_type": "code",
   "execution_count": 35,
   "metadata": {
    "ExecuteTime": {
     "end_time": "2020-05-14T22:57:40.542853Z",
     "start_time": "2020-05-14T22:57:31.817217Z"
    }
   },
   "outputs": [],
   "source": [
    "odds3 = []                                                                                                                                                                                                                                                                                                                                                                                                                                \n",
    "for i in range(0,300,100):\n",
    "    url = \"\"\"https://www.pro-football-reference.com/play-index/tgl_finder.cgi?request=1&match=game&year_min=2019&year_max=2019&game_type=E&game_num_min=0&game_num_max=99&week_num_min=0&week_num_max=99&temperature_gtlt=lt&c1stat=vegas_line&c1comp=gte&c2stat=over_under&c2comp=gte&c3stat=fgm&c3comp=gte&c4stat=fgm_opp&c4comp=gte&c5stat=tot_yds_opp&c5comp=gt&c5val=1.0&order_by=game_date&offset={}\"\"\"\n",
    "    odds3.append(pd.read_html(url.format(i))[0])"
   ]
  },
  {
   "cell_type": "code",
   "execution_count": 36,
   "metadata": {
    "ExecuteTime": {
     "end_time": "2020-05-14T23:03:43.849139Z",
     "start_time": "2020-05-14T23:03:43.809913Z"
    }
   },
   "outputs": [
    {
     "data": {
      "text/html": [
       "<div>\n",
       "<style scoped>\n",
       "    .dataframe tbody tr th:only-of-type {\n",
       "        vertical-align: middle;\n",
       "    }\n",
       "\n",
       "    .dataframe tbody tr th {\n",
       "        vertical-align: top;\n",
       "    }\n",
       "\n",
       "    .dataframe thead tr th {\n",
       "        text-align: left;\n",
       "    }\n",
       "</style>\n",
       "<table border=\"1\" class=\"dataframe\">\n",
       "  <thead>\n",
       "    <tr>\n",
       "      <th></th>\n",
       "      <th>Unnamed: 0_level_0</th>\n",
       "      <th>Unnamed: 1_level_0</th>\n",
       "      <th>Unnamed: 2_level_0</th>\n",
       "      <th>Unnamed: 3_level_0</th>\n",
       "      <th>Unnamed: 4_level_0</th>\n",
       "      <th>Unnamed: 5_level_0</th>\n",
       "      <th>Unnamed: 6_level_0</th>\n",
       "      <th>Unnamed: 7_level_0</th>\n",
       "      <th>Unnamed: 8_level_0</th>\n",
       "      <th>Unnamed: 9_level_0</th>\n",
       "      <th>...</th>\n",
       "      <th colspan=\"2\" halign=\"left\">Scoring</th>\n",
       "      <th colspan=\"6\" halign=\"left\">Opp. Scoring</th>\n",
       "      <th colspan=\"2\" halign=\"left\">Opp Tot Yds &amp; TO</th>\n",
       "    </tr>\n",
       "    <tr>\n",
       "      <th></th>\n",
       "      <th>Rk</th>\n",
       "      <th>Tm</th>\n",
       "      <th>Year</th>\n",
       "      <th>Date</th>\n",
       "      <th>Time</th>\n",
       "      <th>LTime</th>\n",
       "      <th>Unnamed: 6_level_1</th>\n",
       "      <th>Opp</th>\n",
       "      <th>Week</th>\n",
       "      <th>G#</th>\n",
       "      <th>...</th>\n",
       "      <th>2PM</th>\n",
       "      <th>Sfty</th>\n",
       "      <th>TD</th>\n",
       "      <th>XPA</th>\n",
       "      <th>XPM</th>\n",
       "      <th>Att</th>\n",
       "      <th>Md</th>\n",
       "      <th>Sfty</th>\n",
       "      <th>Tot</th>\n",
       "      <th>TO</th>\n",
       "    </tr>\n",
       "  </thead>\n",
       "  <tbody>\n",
       "    <tr>\n",
       "      <td>0</td>\n",
       "      <td>1</td>\n",
       "      <td>SFO</td>\n",
       "      <td>2019</td>\n",
       "      <td>2020-02-02</td>\n",
       "      <td>6:30</td>\n",
       "      <td>6:30</td>\n",
       "      <td>N</td>\n",
       "      <td>KAN</td>\n",
       "      <td>21</td>\n",
       "      <td>20</td>\n",
       "      <td>...</td>\n",
       "      <td>NaN</td>\n",
       "      <td>NaN</td>\n",
       "      <td>4</td>\n",
       "      <td>4</td>\n",
       "      <td>4</td>\n",
       "      <td>1</td>\n",
       "      <td>1</td>\n",
       "      <td>0</td>\n",
       "      <td>397</td>\n",
       "      <td>2</td>\n",
       "    </tr>\n",
       "    <tr>\n",
       "      <td>1</td>\n",
       "      <td>2</td>\n",
       "      <td>GNB</td>\n",
       "      <td>2019</td>\n",
       "      <td>2020-01-19</td>\n",
       "      <td>6:40</td>\n",
       "      <td>3:40</td>\n",
       "      <td>@</td>\n",
       "      <td>SFO</td>\n",
       "      <td>20</td>\n",
       "      <td>19</td>\n",
       "      <td>...</td>\n",
       "      <td>NaN</td>\n",
       "      <td>NaN</td>\n",
       "      <td>4</td>\n",
       "      <td>4</td>\n",
       "      <td>4</td>\n",
       "      <td>3</td>\n",
       "      <td>3</td>\n",
       "      <td>0</td>\n",
       "      <td>354</td>\n",
       "      <td>NaN</td>\n",
       "    </tr>\n",
       "    <tr>\n",
       "      <td>2</td>\n",
       "      <td>3</td>\n",
       "      <td>TEN</td>\n",
       "      <td>2019</td>\n",
       "      <td>2020-01-19</td>\n",
       "      <td>3:05</td>\n",
       "      <td>2:05</td>\n",
       "      <td>@</td>\n",
       "      <td>KAN</td>\n",
       "      <td>20</td>\n",
       "      <td>20</td>\n",
       "      <td>...</td>\n",
       "      <td>NaN</td>\n",
       "      <td>NaN</td>\n",
       "      <td>5</td>\n",
       "      <td>5</td>\n",
       "      <td>5</td>\n",
       "      <td>0</td>\n",
       "      <td>0</td>\n",
       "      <td>0</td>\n",
       "      <td>404</td>\n",
       "      <td>NaN</td>\n",
       "    </tr>\n",
       "    <tr>\n",
       "      <td>3</td>\n",
       "      <td>4</td>\n",
       "      <td>HOU</td>\n",
       "      <td>2019</td>\n",
       "      <td>2020-01-12</td>\n",
       "      <td>3:05</td>\n",
       "      <td>2:05</td>\n",
       "      <td>@</td>\n",
       "      <td>KAN</td>\n",
       "      <td>19</td>\n",
       "      <td>19</td>\n",
       "      <td>...</td>\n",
       "      <td>NaN</td>\n",
       "      <td>NaN</td>\n",
       "      <td>7</td>\n",
       "      <td>7</td>\n",
       "      <td>6</td>\n",
       "      <td>1</td>\n",
       "      <td>1</td>\n",
       "      <td>0</td>\n",
       "      <td>434</td>\n",
       "      <td>1</td>\n",
       "    </tr>\n",
       "    <tr>\n",
       "      <td>4</td>\n",
       "      <td>5</td>\n",
       "      <td>SEA</td>\n",
       "      <td>2019</td>\n",
       "      <td>2020-01-12</td>\n",
       "      <td>6:40</td>\n",
       "      <td>5:40</td>\n",
       "      <td>@</td>\n",
       "      <td>GNB</td>\n",
       "      <td>19</td>\n",
       "      <td>19</td>\n",
       "      <td>...</td>\n",
       "      <td>NaN</td>\n",
       "      <td>NaN</td>\n",
       "      <td>4</td>\n",
       "      <td>4</td>\n",
       "      <td>4</td>\n",
       "      <td>0</td>\n",
       "      <td>0</td>\n",
       "      <td>0</td>\n",
       "      <td>344</td>\n",
       "      <td>NaN</td>\n",
       "    </tr>\n",
       "  </tbody>\n",
       "</table>\n",
       "<p>5 rows × 33 columns</p>\n",
       "</div>"
      ],
      "text/plain": [
       "  Unnamed: 0_level_0 Unnamed: 1_level_0 Unnamed: 2_level_0 Unnamed: 3_level_0  \\\n",
       "                  Rk                 Tm               Year               Date   \n",
       "0                  1                SFO               2019         2020-02-02   \n",
       "1                  2                GNB               2019         2020-01-19   \n",
       "2                  3                TEN               2019         2020-01-19   \n",
       "3                  4                HOU               2019         2020-01-12   \n",
       "4                  5                SEA               2019         2020-01-12   \n",
       "\n",
       "  Unnamed: 4_level_0 Unnamed: 5_level_0 Unnamed: 6_level_0 Unnamed: 7_level_0  \\\n",
       "                Time              LTime Unnamed: 6_level_1                Opp   \n",
       "0               6:30               6:30                  N                KAN   \n",
       "1               6:40               3:40                  @                SFO   \n",
       "2               3:05               2:05                  @                KAN   \n",
       "3               3:05               2:05                  @                KAN   \n",
       "4               6:40               5:40                  @                GNB   \n",
       "\n",
       "  Unnamed: 8_level_0 Unnamed: 9_level_0  ... Scoring      Opp. Scoring      \\\n",
       "                Week                 G#  ...     2PM Sfty           TD XPA   \n",
       "0                 21                 20  ...     NaN  NaN            4   4   \n",
       "1                 20                 19  ...     NaN  NaN            4   4   \n",
       "2                 20                 20  ...     NaN  NaN            5   5   \n",
       "3                 19                 19  ...     NaN  NaN            7   7   \n",
       "4                 19                 19  ...     NaN  NaN            4   4   \n",
       "\n",
       "                  Opp Tot Yds & TO       \n",
       "  XPM Att Md Sfty              Tot   TO  \n",
       "0   4   1  1    0              397    2  \n",
       "1   4   3  3    0              354  NaN  \n",
       "2   5   0  0    0              404  NaN  \n",
       "3   6   1  1    0              434    1  \n",
       "4   4   0  0    0              344  NaN  \n",
       "\n",
       "[5 rows x 33 columns]"
      ]
     },
     "execution_count": 36,
     "metadata": {},
     "output_type": "execute_result"
    }
   ],
   "source": [
    "df3 = pd.concat(odds3)\n",
    "df3.head()"
   ]
  },
  {
   "cell_type": "code",
   "execution_count": 37,
   "metadata": {
    "ExecuteTime": {
     "end_time": "2020-05-14T23:03:52.838935Z",
     "start_time": "2020-05-14T23:03:52.831243Z"
    }
   },
   "outputs": [
    {
     "data": {
      "text/plain": [
       "(278, 33)"
      ]
     },
     "execution_count": 37,
     "metadata": {},
     "output_type": "execute_result"
    }
   ],
   "source": [
    "df3.shape"
   ]
  },
  {
   "cell_type": "code",
   "execution_count": 38,
   "metadata": {
    "ExecuteTime": {
     "end_time": "2020-05-14T23:04:34.378476Z",
     "start_time": "2020-05-14T23:04:34.370994Z"
    }
   },
   "outputs": [],
   "source": [
    "df3[('Unnamed: 6_level_0', 'Unnamed: 6_level_1')] = df3[('Unnamed: 6_level_0', 'Unnamed: 6_level_1')].fillna(value='Home')"
   ]
  },
  {
   "cell_type": "code",
   "execution_count": 39,
   "metadata": {
    "ExecuteTime": {
     "end_time": "2020-05-14T23:05:01.976331Z",
     "start_time": "2020-05-14T23:05:01.971032Z"
    }
   },
   "outputs": [],
   "source": [
    "df3[('Unnamed: 6_level_0', 'Unnamed: 6_level_1')] = df3[('Unnamed: 6_level_0', 'Unnamed: 6_level_1')].replace(to_replace=['N', '@'], value=['Neutral', 'Away'])"
   ]
  },
  {
   "cell_type": "code",
   "execution_count": 40,
   "metadata": {
    "ExecuteTime": {
     "end_time": "2020-05-14T23:05:20.648410Z",
     "start_time": "2020-05-14T23:05:20.642701Z"
    }
   },
   "outputs": [],
   "source": [
    "df3.columns = df3.columns.to_flat_index()"
   ]
  },
  {
   "cell_type": "code",
   "execution_count": 41,
   "metadata": {
    "ExecuteTime": {
     "end_time": "2020-05-14T23:05:42.403497Z",
     "start_time": "2020-05-14T23:05:42.337324Z"
    }
   },
   "outputs": [
    {
     "data": {
      "text/html": [
       "<div>\n",
       "<style scoped>\n",
       "    .dataframe tbody tr th:only-of-type {\n",
       "        vertical-align: middle;\n",
       "    }\n",
       "\n",
       "    .dataframe tbody tr th {\n",
       "        vertical-align: top;\n",
       "    }\n",
       "\n",
       "    .dataframe thead th {\n",
       "        text-align: right;\n",
       "    }\n",
       "</style>\n",
       "<table border=\"1\" class=\"dataframe\">\n",
       "  <thead>\n",
       "    <tr style=\"text-align: right;\">\n",
       "      <th></th>\n",
       "      <th>index</th>\n",
       "      <th>(Unnamed: 0_level_0, Rk)</th>\n",
       "      <th>(Unnamed: 1_level_0, Tm)</th>\n",
       "      <th>(Unnamed: 2_level_0, Year)</th>\n",
       "      <th>(Unnamed: 3_level_0, Date)</th>\n",
       "      <th>(Unnamed: 4_level_0, Time)</th>\n",
       "      <th>(Unnamed: 5_level_0, LTime)</th>\n",
       "      <th>(Unnamed: 6_level_0, Unnamed: 6_level_1)</th>\n",
       "      <th>(Unnamed: 7_level_0, Opp)</th>\n",
       "      <th>(Unnamed: 8_level_0, Week)</th>\n",
       "      <th>...</th>\n",
       "      <th>(Scoring, 2PM)</th>\n",
       "      <th>(Scoring, Sfty)</th>\n",
       "      <th>(Opp. Scoring, TD)</th>\n",
       "      <th>(Opp. Scoring, XPA)</th>\n",
       "      <th>(Opp. Scoring, XPM)</th>\n",
       "      <th>(Opp. Scoring, Att)</th>\n",
       "      <th>(Opp. Scoring, Md)</th>\n",
       "      <th>(Opp. Scoring, Sfty)</th>\n",
       "      <th>(Opp Tot Yds &amp; TO, Tot)</th>\n",
       "      <th>(Opp Tot Yds &amp; TO, TO)</th>\n",
       "    </tr>\n",
       "  </thead>\n",
       "  <tbody>\n",
       "    <tr>\n",
       "      <td>0</td>\n",
       "      <td>0</td>\n",
       "      <td>1</td>\n",
       "      <td>SFO</td>\n",
       "      <td>2019</td>\n",
       "      <td>2020-02-02</td>\n",
       "      <td>6:30</td>\n",
       "      <td>6:30</td>\n",
       "      <td>Neutral</td>\n",
       "      <td>KAN</td>\n",
       "      <td>21</td>\n",
       "      <td>...</td>\n",
       "      <td>NaN</td>\n",
       "      <td>NaN</td>\n",
       "      <td>4</td>\n",
       "      <td>4</td>\n",
       "      <td>4</td>\n",
       "      <td>1</td>\n",
       "      <td>1</td>\n",
       "      <td>0</td>\n",
       "      <td>397</td>\n",
       "      <td>2</td>\n",
       "    </tr>\n",
       "    <tr>\n",
       "      <td>1</td>\n",
       "      <td>1</td>\n",
       "      <td>2</td>\n",
       "      <td>GNB</td>\n",
       "      <td>2019</td>\n",
       "      <td>2020-01-19</td>\n",
       "      <td>6:40</td>\n",
       "      <td>3:40</td>\n",
       "      <td>Away</td>\n",
       "      <td>SFO</td>\n",
       "      <td>20</td>\n",
       "      <td>...</td>\n",
       "      <td>NaN</td>\n",
       "      <td>NaN</td>\n",
       "      <td>4</td>\n",
       "      <td>4</td>\n",
       "      <td>4</td>\n",
       "      <td>3</td>\n",
       "      <td>3</td>\n",
       "      <td>0</td>\n",
       "      <td>354</td>\n",
       "      <td>NaN</td>\n",
       "    </tr>\n",
       "    <tr>\n",
       "      <td>2</td>\n",
       "      <td>2</td>\n",
       "      <td>3</td>\n",
       "      <td>TEN</td>\n",
       "      <td>2019</td>\n",
       "      <td>2020-01-19</td>\n",
       "      <td>3:05</td>\n",
       "      <td>2:05</td>\n",
       "      <td>Away</td>\n",
       "      <td>KAN</td>\n",
       "      <td>20</td>\n",
       "      <td>...</td>\n",
       "      <td>NaN</td>\n",
       "      <td>NaN</td>\n",
       "      <td>5</td>\n",
       "      <td>5</td>\n",
       "      <td>5</td>\n",
       "      <td>0</td>\n",
       "      <td>0</td>\n",
       "      <td>0</td>\n",
       "      <td>404</td>\n",
       "      <td>NaN</td>\n",
       "    </tr>\n",
       "    <tr>\n",
       "      <td>3</td>\n",
       "      <td>3</td>\n",
       "      <td>4</td>\n",
       "      <td>HOU</td>\n",
       "      <td>2019</td>\n",
       "      <td>2020-01-12</td>\n",
       "      <td>3:05</td>\n",
       "      <td>2:05</td>\n",
       "      <td>Away</td>\n",
       "      <td>KAN</td>\n",
       "      <td>19</td>\n",
       "      <td>...</td>\n",
       "      <td>NaN</td>\n",
       "      <td>NaN</td>\n",
       "      <td>7</td>\n",
       "      <td>7</td>\n",
       "      <td>6</td>\n",
       "      <td>1</td>\n",
       "      <td>1</td>\n",
       "      <td>0</td>\n",
       "      <td>434</td>\n",
       "      <td>1</td>\n",
       "    </tr>\n",
       "    <tr>\n",
       "      <td>4</td>\n",
       "      <td>4</td>\n",
       "      <td>5</td>\n",
       "      <td>SEA</td>\n",
       "      <td>2019</td>\n",
       "      <td>2020-01-12</td>\n",
       "      <td>6:40</td>\n",
       "      <td>5:40</td>\n",
       "      <td>Away</td>\n",
       "      <td>GNB</td>\n",
       "      <td>19</td>\n",
       "      <td>...</td>\n",
       "      <td>NaN</td>\n",
       "      <td>NaN</td>\n",
       "      <td>4</td>\n",
       "      <td>4</td>\n",
       "      <td>4</td>\n",
       "      <td>0</td>\n",
       "      <td>0</td>\n",
       "      <td>0</td>\n",
       "      <td>344</td>\n",
       "      <td>NaN</td>\n",
       "    </tr>\n",
       "    <tr>\n",
       "      <td>...</td>\n",
       "      <td>...</td>\n",
       "      <td>...</td>\n",
       "      <td>...</td>\n",
       "      <td>...</td>\n",
       "      <td>...</td>\n",
       "      <td>...</td>\n",
       "      <td>...</td>\n",
       "      <td>...</td>\n",
       "      <td>...</td>\n",
       "      <td>...</td>\n",
       "      <td>...</td>\n",
       "      <td>...</td>\n",
       "      <td>...</td>\n",
       "      <td>...</td>\n",
       "      <td>...</td>\n",
       "      <td>...</td>\n",
       "      <td>...</td>\n",
       "      <td>...</td>\n",
       "      <td>...</td>\n",
       "      <td>...</td>\n",
       "      <td>...</td>\n",
       "    </tr>\n",
       "    <tr>\n",
       "      <td>273</td>\n",
       "      <td>65</td>\n",
       "      <td>263</td>\n",
       "      <td>TEN</td>\n",
       "      <td>2019</td>\n",
       "      <td>2019-09-08</td>\n",
       "      <td>1:00</td>\n",
       "      <td>1:00</td>\n",
       "      <td>Away</td>\n",
       "      <td>CLE</td>\n",
       "      <td>1</td>\n",
       "      <td>...</td>\n",
       "      <td>NaN</td>\n",
       "      <td>1</td>\n",
       "      <td>2</td>\n",
       "      <td>2</td>\n",
       "      <td>1</td>\n",
       "      <td>0</td>\n",
       "      <td>0</td>\n",
       "      <td>0</td>\n",
       "      <td>346</td>\n",
       "      <td>3</td>\n",
       "    </tr>\n",
       "    <tr>\n",
       "      <td>274</td>\n",
       "      <td>66</td>\n",
       "      <td>264</td>\n",
       "      <td>PIT</td>\n",
       "      <td>2019</td>\n",
       "      <td>2019-09-08</td>\n",
       "      <td>8:20</td>\n",
       "      <td>8:20</td>\n",
       "      <td>Away</td>\n",
       "      <td>NWE</td>\n",
       "      <td>1</td>\n",
       "      <td>...</td>\n",
       "      <td>NaN</td>\n",
       "      <td>NaN</td>\n",
       "      <td>3</td>\n",
       "      <td>3</td>\n",
       "      <td>3</td>\n",
       "      <td>4</td>\n",
       "      <td>4</td>\n",
       "      <td>0</td>\n",
       "      <td>465</td>\n",
       "      <td>NaN</td>\n",
       "    </tr>\n",
       "    <tr>\n",
       "      <td>275</td>\n",
       "      <td>67</td>\n",
       "      <td>265</td>\n",
       "      <td>SFO</td>\n",
       "      <td>2019</td>\n",
       "      <td>2019-09-08</td>\n",
       "      <td>4:25</td>\n",
       "      <td>4:25</td>\n",
       "      <td>Away</td>\n",
       "      <td>TAM</td>\n",
       "      <td>1</td>\n",
       "      <td>...</td>\n",
       "      <td>1</td>\n",
       "      <td>NaN</td>\n",
       "      <td>2</td>\n",
       "      <td>2</td>\n",
       "      <td>2</td>\n",
       "      <td>1</td>\n",
       "      <td>1</td>\n",
       "      <td>0</td>\n",
       "      <td>295</td>\n",
       "      <td>4</td>\n",
       "    </tr>\n",
       "    <tr>\n",
       "      <td>276</td>\n",
       "      <td>68</td>\n",
       "      <td>266</td>\n",
       "      <td>WAS</td>\n",
       "      <td>2019</td>\n",
       "      <td>2019-09-08</td>\n",
       "      <td>1:00</td>\n",
       "      <td>1:00</td>\n",
       "      <td>Away</td>\n",
       "      <td>PHI</td>\n",
       "      <td>1</td>\n",
       "      <td>...</td>\n",
       "      <td>NaN</td>\n",
       "      <td>NaN</td>\n",
       "      <td>4</td>\n",
       "      <td>3</td>\n",
       "      <td>3</td>\n",
       "      <td>1</td>\n",
       "      <td>1</td>\n",
       "      <td>0</td>\n",
       "      <td>436</td>\n",
       "      <td>NaN</td>\n",
       "    </tr>\n",
       "    <tr>\n",
       "      <td>277</td>\n",
       "      <td>69</td>\n",
       "      <td>267</td>\n",
       "      <td>GNB</td>\n",
       "      <td>2019</td>\n",
       "      <td>2019-09-05</td>\n",
       "      <td>8:20</td>\n",
       "      <td>7:20</td>\n",
       "      <td>Away</td>\n",
       "      <td>CHI</td>\n",
       "      <td>1</td>\n",
       "      <td>...</td>\n",
       "      <td>NaN</td>\n",
       "      <td>NaN</td>\n",
       "      <td>0</td>\n",
       "      <td>0</td>\n",
       "      <td>0</td>\n",
       "      <td>1</td>\n",
       "      <td>1</td>\n",
       "      <td>0</td>\n",
       "      <td>254</td>\n",
       "      <td>1</td>\n",
       "    </tr>\n",
       "  </tbody>\n",
       "</table>\n",
       "<p>278 rows × 34 columns</p>\n",
       "</div>"
      ],
      "text/plain": [
       "     index (Unnamed: 0_level_0, Rk) (Unnamed: 1_level_0, Tm)  \\\n",
       "0        0                        1                      SFO   \n",
       "1        1                        2                      GNB   \n",
       "2        2                        3                      TEN   \n",
       "3        3                        4                      HOU   \n",
       "4        4                        5                      SEA   \n",
       "..     ...                      ...                      ...   \n",
       "273     65                      263                      TEN   \n",
       "274     66                      264                      PIT   \n",
       "275     67                      265                      SFO   \n",
       "276     68                      266                      WAS   \n",
       "277     69                      267                      GNB   \n",
       "\n",
       "    (Unnamed: 2_level_0, Year) (Unnamed: 3_level_0, Date)  \\\n",
       "0                         2019                 2020-02-02   \n",
       "1                         2019                 2020-01-19   \n",
       "2                         2019                 2020-01-19   \n",
       "3                         2019                 2020-01-12   \n",
       "4                         2019                 2020-01-12   \n",
       "..                         ...                        ...   \n",
       "273                       2019                 2019-09-08   \n",
       "274                       2019                 2019-09-08   \n",
       "275                       2019                 2019-09-08   \n",
       "276                       2019                 2019-09-08   \n",
       "277                       2019                 2019-09-05   \n",
       "\n",
       "    (Unnamed: 4_level_0, Time) (Unnamed: 5_level_0, LTime)  \\\n",
       "0                         6:30                        6:30   \n",
       "1                         6:40                        3:40   \n",
       "2                         3:05                        2:05   \n",
       "3                         3:05                        2:05   \n",
       "4                         6:40                        5:40   \n",
       "..                         ...                         ...   \n",
       "273                       1:00                        1:00   \n",
       "274                       8:20                        8:20   \n",
       "275                       4:25                        4:25   \n",
       "276                       1:00                        1:00   \n",
       "277                       8:20                        7:20   \n",
       "\n",
       "    (Unnamed: 6_level_0, Unnamed: 6_level_1) (Unnamed: 7_level_0, Opp)  \\\n",
       "0                                    Neutral                       KAN   \n",
       "1                                       Away                       SFO   \n",
       "2                                       Away                       KAN   \n",
       "3                                       Away                       KAN   \n",
       "4                                       Away                       GNB   \n",
       "..                                       ...                       ...   \n",
       "273                                     Away                       CLE   \n",
       "274                                     Away                       NWE   \n",
       "275                                     Away                       TAM   \n",
       "276                                     Away                       PHI   \n",
       "277                                     Away                       CHI   \n",
       "\n",
       "    (Unnamed: 8_level_0, Week)  ... (Scoring, 2PM) (Scoring, Sfty)  \\\n",
       "0                           21  ...            NaN             NaN   \n",
       "1                           20  ...            NaN             NaN   \n",
       "2                           20  ...            NaN             NaN   \n",
       "3                           19  ...            NaN             NaN   \n",
       "4                           19  ...            NaN             NaN   \n",
       "..                         ...  ...            ...             ...   \n",
       "273                          1  ...            NaN               1   \n",
       "274                          1  ...            NaN             NaN   \n",
       "275                          1  ...              1             NaN   \n",
       "276                          1  ...            NaN             NaN   \n",
       "277                          1  ...            NaN             NaN   \n",
       "\n",
       "    (Opp. Scoring, TD) (Opp. Scoring, XPA) (Opp. Scoring, XPM)  \\\n",
       "0                    4                   4                   4   \n",
       "1                    4                   4                   4   \n",
       "2                    5                   5                   5   \n",
       "3                    7                   7                   6   \n",
       "4                    4                   4                   4   \n",
       "..                 ...                 ...                 ...   \n",
       "273                  2                   2                   1   \n",
       "274                  3                   3                   3   \n",
       "275                  2                   2                   2   \n",
       "276                  4                   3                   3   \n",
       "277                  0                   0                   0   \n",
       "\n",
       "    (Opp. Scoring, Att) (Opp. Scoring, Md) (Opp. Scoring, Sfty)  \\\n",
       "0                     1                  1                    0   \n",
       "1                     3                  3                    0   \n",
       "2                     0                  0                    0   \n",
       "3                     1                  1                    0   \n",
       "4                     0                  0                    0   \n",
       "..                  ...                ...                  ...   \n",
       "273                   0                  0                    0   \n",
       "274                   4                  4                    0   \n",
       "275                   1                  1                    0   \n",
       "276                   1                  1                    0   \n",
       "277                   1                  1                    0   \n",
       "\n",
       "    (Opp Tot Yds & TO, Tot) (Opp Tot Yds & TO, TO)  \n",
       "0                       397                      2  \n",
       "1                       354                    NaN  \n",
       "2                       404                    NaN  \n",
       "3                       434                      1  \n",
       "4                       344                    NaN  \n",
       "..                      ...                    ...  \n",
       "273                     346                      3  \n",
       "274                     465                    NaN  \n",
       "275                     295                      4  \n",
       "276                     436                    NaN  \n",
       "277                     254                      1  \n",
       "\n",
       "[278 rows x 34 columns]"
      ]
     },
     "execution_count": 41,
     "metadata": {},
     "output_type": "execute_result"
    }
   ],
   "source": [
    "df3.reset_index()"
   ]
  },
  {
   "cell_type": "code",
   "execution_count": 42,
   "metadata": {
    "ExecuteTime": {
     "end_time": "2020-05-14T23:06:37.630115Z",
     "start_time": "2020-05-14T23:06:37.619530Z"
    }
   },
   "outputs": [
    {
     "data": {
      "text/plain": [
       "Index([                ('Unnamed: 0_level_0', 'Rk'),\n",
       "                       ('Unnamed: 1_level_0', 'Tm'),\n",
       "                     ('Unnamed: 2_level_0', 'Year'),\n",
       "                     ('Unnamed: 3_level_0', 'Date'),\n",
       "                     ('Unnamed: 4_level_0', 'Time'),\n",
       "                    ('Unnamed: 5_level_0', 'LTime'),\n",
       "       ('Unnamed: 6_level_0', 'Unnamed: 6_level_1'),\n",
       "                      ('Unnamed: 7_level_0', 'Opp'),\n",
       "                     ('Unnamed: 8_level_0', 'Week'),\n",
       "                       ('Unnamed: 9_level_0', 'G#'),\n",
       "                     ('Unnamed: 10_level_0', 'Day'),\n",
       "                  ('Unnamed: 11_level_0', 'Result'),\n",
       "                      ('Unnamed: 12_level_0', 'OT'),\n",
       "                                ('Vegas', 'Spread'),\n",
       "                              ('Vegas', 'vs. Line'),\n",
       "                            ('Vegas', 'Over/Under'),\n",
       "                             ('Vegas', 'OU Result'),\n",
       "                                  ('Scoring', 'TD'),\n",
       "                                 ('Scoring', 'XPA'),\n",
       "                                 ('Scoring', 'XPM'),\n",
       "                                 ('Scoring', 'FGA'),\n",
       "                                 ('Scoring', 'FGM'),\n",
       "                                 ('Scoring', '2PA'),\n",
       "                                 ('Scoring', '2PM'),\n",
       "                                ('Scoring', 'Sfty'),\n",
       "                             ('Opp. Scoring', 'TD'),\n",
       "                            ('Opp. Scoring', 'XPA'),\n",
       "                            ('Opp. Scoring', 'XPM'),\n",
       "                            ('Opp. Scoring', 'Att'),\n",
       "                             ('Opp. Scoring', 'Md'),\n",
       "                           ('Opp. Scoring', 'Sfty'),\n",
       "                        ('Opp Tot Yds & TO', 'Tot'),\n",
       "                         ('Opp Tot Yds & TO', 'TO')],\n",
       "      dtype='object')"
      ]
     },
     "execution_count": 42,
     "metadata": {},
     "output_type": "execute_result"
    }
   ],
   "source": [
    "df3.columns"
   ]
  },
  {
   "cell_type": "code",
   "execution_count": 43,
   "metadata": {
    "ExecuteTime": {
     "end_time": "2020-05-14T23:06:44.346062Z",
     "start_time": "2020-05-14T23:06:44.338797Z"
    }
   },
   "outputs": [],
   "source": [
    "df3.drop(df3[df3[('Unnamed: 1_level_0', 'Tm')] == 'Tm'].index, inplace=True)"
   ]
  },
  {
   "cell_type": "code",
   "execution_count": 45,
   "metadata": {
    "ExecuteTime": {
     "end_time": "2020-05-14T23:07:18.531596Z",
     "start_time": "2020-05-14T23:07:18.521928Z"
    }
   },
   "outputs": [
    {
     "data": {
      "text/plain": [
       "Index([                ('Unnamed: 0_level_0', 'Rk'),\n",
       "                       ('Unnamed: 1_level_0', 'Tm'),\n",
       "                     ('Unnamed: 2_level_0', 'Year'),\n",
       "                     ('Unnamed: 3_level_0', 'Date'),\n",
       "                     ('Unnamed: 4_level_0', 'Time'),\n",
       "                    ('Unnamed: 5_level_0', 'LTime'),\n",
       "       ('Unnamed: 6_level_0', 'Unnamed: 6_level_1'),\n",
       "                      ('Unnamed: 7_level_0', 'Opp'),\n",
       "                     ('Unnamed: 8_level_0', 'Week'),\n",
       "                       ('Unnamed: 9_level_0', 'G#'),\n",
       "                     ('Unnamed: 10_level_0', 'Day'),\n",
       "                  ('Unnamed: 11_level_0', 'Result'),\n",
       "                      ('Unnamed: 12_level_0', 'OT'),\n",
       "                                ('Vegas', 'Spread'),\n",
       "                              ('Vegas', 'vs. Line'),\n",
       "                            ('Vegas', 'Over/Under'),\n",
       "                             ('Vegas', 'OU Result'),\n",
       "                                  ('Scoring', 'TD'),\n",
       "                                 ('Scoring', 'XPA'),\n",
       "                                 ('Scoring', 'XPM'),\n",
       "                                 ('Scoring', 'FGA'),\n",
       "                                 ('Scoring', 'FGM'),\n",
       "                                 ('Scoring', '2PA'),\n",
       "                                 ('Scoring', '2PM'),\n",
       "                                ('Scoring', 'Sfty'),\n",
       "                             ('Opp. Scoring', 'TD'),\n",
       "                            ('Opp. Scoring', 'XPA'),\n",
       "                            ('Opp. Scoring', 'XPM'),\n",
       "                            ('Opp. Scoring', 'Att'),\n",
       "                             ('Opp. Scoring', 'Md'),\n",
       "                           ('Opp. Scoring', 'Sfty'),\n",
       "                        ('Opp Tot Yds & TO', 'Tot'),\n",
       "                         ('Opp Tot Yds & TO', 'TO')],\n",
       "      dtype='object')"
      ]
     },
     "execution_count": 45,
     "metadata": {},
     "output_type": "execute_result"
    }
   ],
   "source": [
    "df3.columns"
   ]
  },
  {
   "cell_type": "code",
   "execution_count": 46,
   "metadata": {
    "ExecuteTime": {
     "end_time": "2020-05-14T23:12:48.839589Z",
     "start_time": "2020-05-14T23:12:48.824750Z"
    }
   },
   "outputs": [],
   "source": [
    "df3 = df3.rename(columns={('Unnamed: 0_level_0', 'Rk'):'rk', \n",
    "('Unnamed: 1_level_0', 'Tm'): 'team1',\n",
    "('Unnamed: 2_level_0', 'Year'): 'year',\n",
    "('Unnamed: 3_level_0', 'Date'): 'date',\n",
    "('Unnamed: 4_level_0', 'Time'): 'time',\n",
    "('Unnamed: 5_level_0', 'LTime'): 'local_time', \n",
    "('Unnamed: 6_level_0', 'Unnamed: 6_level_1'): 'home_away',\n",
    "('Unnamed: 7_level_0', 'Opp'): 'team2',\n",
    "('Unnamed: 8_level_0', 'Week'): 'Week',\n",
    "('Unnamed: 9_level_0', 'G#'): 'Game_Number',\n",
    "('Unnamed: 10_level_0', 'Day'): 'day',\n",
    "('Unnamed: 11_level_0', 'Result'): 'win1?',\n",
    "('Unnamed: 12_level_0', 'OT'): 'OT',\n",
    "('Vegas', 'Spread'): 'spread',\n",
    "('Vegas', 'vs. Line'): 'team1_covered_spread?',\n",
    "('Vegas', 'Over/Under'): 'over_under',\n",
    "('Vegas', 'OU Result'): 'over_under_result?',\n",
    "('Scoring', 'TD'):'Total_TD1',\n",
    "('Scoring', 'XPA'): 'XPA_1',\n",
    "('Scoring', 'XPM'): 'XPM_1',\n",
    "('Scoring', 'FGA'): 'FGA1',\n",
    "('Scoring', 'FGM'): 'FGM1',\n",
    "('Scoring', '2PA'): '2PA1',\n",
    "('Scoring', '2PM'): '2PM2',\n",
    "('Scoring', 'Sfty'): 'Sfty1',\n",
    "('Opp. Scoring', 'TD'): 'Total_TD2',\n",
    "('Opp. Scoring', 'XPA'): 'XPA2',\n",
    "('Opp. Scoring', 'XPM'): 'XPM2',\n",
    "('Opp. Scoring', 'Att'): 'FGA2',\n",
    "('Opp. Scoring', 'Md'): 'FGM2',\n",
    "('Opp. Scoring', 'Sfty'): 'Sfty2'})"
   ]
  },
  {
   "cell_type": "code",
   "execution_count": 48,
   "metadata": {
    "ExecuteTime": {
     "end_time": "2020-05-14T23:13:37.974424Z",
     "start_time": "2020-05-14T23:13:37.967583Z"
    }
   },
   "outputs": [
    {
     "data": {
      "text/plain": [
       "Index([                       'rk',                     'team1',\n",
       "                            'year',                      'date',\n",
       "                            'time',                'local_time',\n",
       "                       'home_away',                     'team2',\n",
       "                            'Week',               'Game_Number',\n",
       "                             'day',                     'win1?',\n",
       "                              'OT',                    'spread',\n",
       "           'team1_covered_spread?',                'over_under',\n",
       "              'over_under_result?',                 'Total_TD1',\n",
       "                           'XPA_1',                     'XPM_1',\n",
       "                            'FGA1',                      'FGM1',\n",
       "                            '2PA1',                      '2PM2',\n",
       "                           'Sfty1',                 'Total_TD2',\n",
       "                            'XPA2',                      'XPM2',\n",
       "                            'FGA2',                      'FGM2',\n",
       "                           'Sfty2', ('Opp Tot Yds & TO', 'Tot'),\n",
       "        ('Opp Tot Yds & TO', 'TO')],\n",
       "      dtype='object')"
      ]
     },
     "execution_count": 48,
     "metadata": {},
     "output_type": "execute_result"
    }
   ],
   "source": [
    "df3.columns"
   ]
  },
  {
   "cell_type": "code",
   "execution_count": 49,
   "metadata": {
    "ExecuteTime": {
     "end_time": "2020-05-14T23:15:58.124601Z",
     "start_time": "2020-05-14T23:15:58.114867Z"
    }
   },
   "outputs": [],
   "source": [
    "df4 = df3[['team1','year','date','time','local_time', \n",
    "'home_away','team2','Week','Game_Number',\n",
    "'day','win1?','OT','Total_TD1','XPA_1','XPM_1','FGA1', 'FGM1', '2PA1', '2PM2',\n",
    "'Sfty1', 'Total_TD2', 'XPA2', 'XPM2', 'FGA2', 'FGM2', 'Sfty2']]"
   ]
  },
  {
   "cell_type": "code",
   "execution_count": 50,
   "metadata": {
    "ExecuteTime": {
     "end_time": "2020-05-14T23:16:03.565092Z",
     "start_time": "2020-05-14T23:16:03.539869Z"
    }
   },
   "outputs": [
    {
     "data": {
      "text/html": [
       "<div>\n",
       "<style scoped>\n",
       "    .dataframe tbody tr th:only-of-type {\n",
       "        vertical-align: middle;\n",
       "    }\n",
       "\n",
       "    .dataframe tbody tr th {\n",
       "        vertical-align: top;\n",
       "    }\n",
       "\n",
       "    .dataframe thead th {\n",
       "        text-align: right;\n",
       "    }\n",
       "</style>\n",
       "<table border=\"1\" class=\"dataframe\">\n",
       "  <thead>\n",
       "    <tr style=\"text-align: right;\">\n",
       "      <th></th>\n",
       "      <th>team1</th>\n",
       "      <th>year</th>\n",
       "      <th>date</th>\n",
       "      <th>time</th>\n",
       "      <th>local_time</th>\n",
       "      <th>home_away</th>\n",
       "      <th>team2</th>\n",
       "      <th>Week</th>\n",
       "      <th>Game_Number</th>\n",
       "      <th>day</th>\n",
       "      <th>...</th>\n",
       "      <th>FGM1</th>\n",
       "      <th>2PA1</th>\n",
       "      <th>2PM2</th>\n",
       "      <th>Sfty1</th>\n",
       "      <th>Total_TD2</th>\n",
       "      <th>XPA2</th>\n",
       "      <th>XPM2</th>\n",
       "      <th>FGA2</th>\n",
       "      <th>FGM2</th>\n",
       "      <th>Sfty2</th>\n",
       "    </tr>\n",
       "  </thead>\n",
       "  <tbody>\n",
       "    <tr>\n",
       "      <td>0</td>\n",
       "      <td>SFO</td>\n",
       "      <td>2019</td>\n",
       "      <td>2020-02-02</td>\n",
       "      <td>6:30</td>\n",
       "      <td>6:30</td>\n",
       "      <td>Neutral</td>\n",
       "      <td>KAN</td>\n",
       "      <td>21</td>\n",
       "      <td>20</td>\n",
       "      <td>Sun</td>\n",
       "      <td>...</td>\n",
       "      <td>2</td>\n",
       "      <td>0</td>\n",
       "      <td>NaN</td>\n",
       "      <td>NaN</td>\n",
       "      <td>4</td>\n",
       "      <td>4</td>\n",
       "      <td>4</td>\n",
       "      <td>1</td>\n",
       "      <td>1</td>\n",
       "      <td>0</td>\n",
       "    </tr>\n",
       "    <tr>\n",
       "      <td>1</td>\n",
       "      <td>GNB</td>\n",
       "      <td>2019</td>\n",
       "      <td>2020-01-19</td>\n",
       "      <td>6:40</td>\n",
       "      <td>3:40</td>\n",
       "      <td>Away</td>\n",
       "      <td>SFO</td>\n",
       "      <td>20</td>\n",
       "      <td>19</td>\n",
       "      <td>Sun</td>\n",
       "      <td>...</td>\n",
       "      <td>NaN</td>\n",
       "      <td>1</td>\n",
       "      <td>NaN</td>\n",
       "      <td>NaN</td>\n",
       "      <td>4</td>\n",
       "      <td>4</td>\n",
       "      <td>4</td>\n",
       "      <td>3</td>\n",
       "      <td>3</td>\n",
       "      <td>0</td>\n",
       "    </tr>\n",
       "    <tr>\n",
       "      <td>2</td>\n",
       "      <td>TEN</td>\n",
       "      <td>2019</td>\n",
       "      <td>2020-01-19</td>\n",
       "      <td>3:05</td>\n",
       "      <td>2:05</td>\n",
       "      <td>Away</td>\n",
       "      <td>KAN</td>\n",
       "      <td>20</td>\n",
       "      <td>20</td>\n",
       "      <td>Sun</td>\n",
       "      <td>...</td>\n",
       "      <td>1</td>\n",
       "      <td>0</td>\n",
       "      <td>NaN</td>\n",
       "      <td>NaN</td>\n",
       "      <td>5</td>\n",
       "      <td>5</td>\n",
       "      <td>5</td>\n",
       "      <td>0</td>\n",
       "      <td>0</td>\n",
       "      <td>0</td>\n",
       "    </tr>\n",
       "    <tr>\n",
       "      <td>3</td>\n",
       "      <td>HOU</td>\n",
       "      <td>2019</td>\n",
       "      <td>2020-01-12</td>\n",
       "      <td>3:05</td>\n",
       "      <td>2:05</td>\n",
       "      <td>Away</td>\n",
       "      <td>KAN</td>\n",
       "      <td>19</td>\n",
       "      <td>19</td>\n",
       "      <td>Sun</td>\n",
       "      <td>...</td>\n",
       "      <td>1</td>\n",
       "      <td>0</td>\n",
       "      <td>NaN</td>\n",
       "      <td>NaN</td>\n",
       "      <td>7</td>\n",
       "      <td>7</td>\n",
       "      <td>6</td>\n",
       "      <td>1</td>\n",
       "      <td>1</td>\n",
       "      <td>0</td>\n",
       "    </tr>\n",
       "    <tr>\n",
       "      <td>4</td>\n",
       "      <td>SEA</td>\n",
       "      <td>2019</td>\n",
       "      <td>2020-01-12</td>\n",
       "      <td>6:40</td>\n",
       "      <td>5:40</td>\n",
       "      <td>Away</td>\n",
       "      <td>GNB</td>\n",
       "      <td>19</td>\n",
       "      <td>19</td>\n",
       "      <td>Sun</td>\n",
       "      <td>...</td>\n",
       "      <td>1</td>\n",
       "      <td>1</td>\n",
       "      <td>NaN</td>\n",
       "      <td>NaN</td>\n",
       "      <td>4</td>\n",
       "      <td>4</td>\n",
       "      <td>4</td>\n",
       "      <td>0</td>\n",
       "      <td>0</td>\n",
       "      <td>0</td>\n",
       "    </tr>\n",
       "  </tbody>\n",
       "</table>\n",
       "<p>5 rows × 26 columns</p>\n",
       "</div>"
      ],
      "text/plain": [
       "  team1  year        date  time local_time home_away team2 Week Game_Number  \\\n",
       "0   SFO  2019  2020-02-02  6:30       6:30   Neutral   KAN   21          20   \n",
       "1   GNB  2019  2020-01-19  6:40       3:40      Away   SFO   20          19   \n",
       "2   TEN  2019  2020-01-19  3:05       2:05      Away   KAN   20          20   \n",
       "3   HOU  2019  2020-01-12  3:05       2:05      Away   KAN   19          19   \n",
       "4   SEA  2019  2020-01-12  6:40       5:40      Away   GNB   19          19   \n",
       "\n",
       "   day  ... FGM1 2PA1 2PM2 Sfty1 Total_TD2 XPA2 XPM2 FGA2 FGM2 Sfty2  \n",
       "0  Sun  ...    2    0  NaN   NaN         4    4    4    1    1     0  \n",
       "1  Sun  ...  NaN    1  NaN   NaN         4    4    4    3    3     0  \n",
       "2  Sun  ...    1    0  NaN   NaN         5    5    5    0    0     0  \n",
       "3  Sun  ...    1    0  NaN   NaN         7    7    6    1    1     0  \n",
       "4  Sun  ...    1    1  NaN   NaN         4    4    4    0    0     0  \n",
       "\n",
       "[5 rows x 26 columns]"
      ]
     },
     "execution_count": 50,
     "metadata": {},
     "output_type": "execute_result"
    }
   ],
   "source": [
    "df4.head()"
   ]
  },
  {
   "cell_type": "code",
   "execution_count": 51,
   "metadata": {
    "ExecuteTime": {
     "end_time": "2020-05-14T23:16:32.483482Z",
     "start_time": "2020-05-14T23:16:32.468259Z"
    }
   },
   "outputs": [],
   "source": [
    "df4.to_csv('st_df.csv')"
   ]
  },
  {
   "cell_type": "code",
   "execution_count": 55,
   "metadata": {
    "ExecuteTime": {
     "end_time": "2020-05-14T23:19:18.198819Z",
     "start_time": "2020-05-14T23:19:18.192522Z"
    }
   },
   "outputs": [],
   "source": [
    "df = df.drop(columns=['rk', 'year', 'local_time', 'day', 'game_duration'])"
   ]
  },
  {
   "cell_type": "code",
   "execution_count": 56,
   "metadata": {
    "ExecuteTime": {
     "end_time": "2020-05-14T23:19:52.667557Z",
     "start_time": "2020-05-14T23:19:52.660431Z"
    }
   },
   "outputs": [
    {
     "data": {
      "text/plain": [
       "Index(['team1', 'date', 'time', 'home_away', 'team2', 'Week', 'Game_Number',\n",
       "       'win1?', 'OT', 'points_1', 'points_2', 'point_differential',\n",
       "       'combined_points', 'spread', 'team1_covered_spread?', 'over_under',\n",
       "       'over_under_result?', 'pass_completions1', 'pass_attempts1',\n",
       "       'completion_percentage1', 'passing_yards1', 'passing_touchdowns1',\n",
       "       'interceptions1', 'times_sacked1', 'sack_yards_lost1', 'qbr1',\n",
       "       'rushing_attempts1', 'rushing_yards1', 'rushing_yards_per_attempt1',\n",
       "       'rushing_touchdowns1', 'total_yards1', 'offensive_plays1',\n",
       "       'yards_per_play_offense1', 'defensive_plays1',\n",
       "       'yards_allowed_per_defensive_play1', 'turnovers_lost1',\n",
       "       'time_of_possession1'],\n",
       "      dtype='object')"
      ]
     },
     "execution_count": 56,
     "metadata": {},
     "output_type": "execute_result"
    }
   ],
   "source": [
    "df.columns"
   ]
  },
  {
   "cell_type": "code",
   "execution_count": 58,
   "metadata": {
    "ExecuteTime": {
     "end_time": "2020-05-14T23:23:01.096906Z",
     "start_time": "2020-05-14T23:23:01.088762Z"
    }
   },
   "outputs": [],
   "source": [
    "df1 = df1.drop(columns=['rk', 'year', 'local_time','home_away', 'day','win1?', 'OT',\n",
    "                        'spread', 'team1_covered_spread?', 'over_under'])\n"
   ]
  },
  {
   "cell_type": "code",
   "execution_count": 59,
   "metadata": {
    "ExecuteTime": {
     "end_time": "2020-05-14T23:23:10.004949Z",
     "start_time": "2020-05-14T23:23:09.999978Z"
    }
   },
   "outputs": [
    {
     "data": {
      "text/plain": [
       "Index(['team1', 'date', 'time', 'team2', 'Week', 'Game_Number',\n",
       "       'over_under_result?', 'pass_completions2', 'pass_attempts2',\n",
       "       'completion_percentage2', 'passing_yards2', 'passing_touchdowns2',\n",
       "       'interceptions2', 'times_sacked2', 'sack_yards_lost2', 'qbr2',\n",
       "       'rushing_attempts2', 'rushing_yards2', 'rushing_yards_per_attempt2',\n",
       "       'rushing_touchdowns2', 'total_yards2', 'turnovers2'],\n",
       "      dtype='object')"
      ]
     },
     "execution_count": 59,
     "metadata": {},
     "output_type": "execute_result"
    }
   ],
   "source": []
  },
  {
   "cell_type": "code",
   "execution_count": 60,
   "metadata": {
    "ExecuteTime": {
     "end_time": "2020-05-14T23:25:02.929965Z",
     "start_time": "2020-05-14T23:25:02.912025Z"
    }
   },
   "outputs": [],
   "source": [
    "merge1 = df.merge(df1, on=['team1', 'team2', 'Game_Number'], how='left')"
   ]
  },
  {
   "cell_type": "code",
   "execution_count": 61,
   "metadata": {
    "ExecuteTime": {
     "end_time": "2020-05-14T23:25:08.439002Z",
     "start_time": "2020-05-14T23:25:08.431880Z"
    }
   },
   "outputs": [
    {
     "data": {
      "text/plain": [
       "Index(['team1', 'date_x', 'time_x', 'home_away', 'team2', 'Week_x',\n",
       "       'Game_Number', 'win1?', 'OT', 'points_1', 'points_2',\n",
       "       'point_differential', 'combined_points', 'spread',\n",
       "       'team1_covered_spread?', 'over_under', 'over_under_result?_x',\n",
       "       'pass_completions1', 'pass_attempts1', 'completion_percentage1',\n",
       "       'passing_yards1', 'passing_touchdowns1', 'interceptions1',\n",
       "       'times_sacked1', 'sack_yards_lost1', 'qbr1', 'rushing_attempts1',\n",
       "       'rushing_yards1', 'rushing_yards_per_attempt1', 'rushing_touchdowns1',\n",
       "       'total_yards1', 'offensive_plays1', 'yards_per_play_offense1',\n",
       "       'defensive_plays1', 'yards_allowed_per_defensive_play1',\n",
       "       'turnovers_lost1', 'time_of_possession1', 'date_y', 'time_y', 'Week_y',\n",
       "       'over_under_result?_y', 'pass_completions2', 'pass_attempts2',\n",
       "       'completion_percentage2', 'passing_yards2', 'passing_touchdowns2',\n",
       "       'interceptions2', 'times_sacked2', 'sack_yards_lost2', 'qbr2',\n",
       "       'rushing_attempts2', 'rushing_yards2', 'rushing_yards_per_attempt2',\n",
       "       'rushing_touchdowns2', 'total_yards2', 'turnovers2'],\n",
       "      dtype='object')"
      ]
     },
     "execution_count": 61,
     "metadata": {},
     "output_type": "execute_result"
    }
   ],
   "source": [
    "merge1.columns"
   ]
  },
  {
   "cell_type": "code",
   "execution_count": 62,
   "metadata": {
    "ExecuteTime": {
     "end_time": "2020-05-14T23:26:28.500797Z",
     "start_time": "2020-05-14T23:26:28.491183Z"
    }
   },
   "outputs": [],
   "source": [
    "merge1 = merge1.drop(columns=['date_y', 'time_y', 'Week_y','over_under_result?_y'])"
   ]
  },
  {
   "cell_type": "code",
   "execution_count": 63,
   "metadata": {
    "ExecuteTime": {
     "end_time": "2020-05-14T23:28:03.768516Z",
     "start_time": "2020-05-14T23:28:03.760993Z"
    }
   },
   "outputs": [],
   "source": [
    "merge1 = merge1.rename(columns={'date_x':'date', 'time_x':'time', 'Week_x':'week',\n",
    "                               'over_under_result_x':'over_under_result'})"
   ]
  },
  {
   "cell_type": "code",
   "execution_count": 65,
   "metadata": {
    "ExecuteTime": {
     "end_time": "2020-05-14T23:29:51.386931Z",
     "start_time": "2020-05-14T23:29:51.381225Z"
    }
   },
   "outputs": [],
   "source": [
    "df2 = df2.drop(columns=['team1', 'team2', 'Week', 'Game_Number',\n",
    "                        'penalty_yards1', 'penalty_yards2'])\n"
   ]
  },
  {
   "cell_type": "code",
   "execution_count": 67,
   "metadata": {
    "ExecuteTime": {
     "end_time": "2020-05-14T23:31:35.914662Z",
     "start_time": "2020-05-14T23:31:35.905274Z"
    }
   },
   "outputs": [],
   "source": [
    "df2 = pd.read_csv('penalty_stats.csv')"
   ]
  },
  {
   "cell_type": "code",
   "execution_count": 71,
   "metadata": {
    "ExecuteTime": {
     "end_time": "2020-05-14T23:33:21.621705Z",
     "start_time": "2020-05-14T23:33:21.615983Z"
    }
   },
   "outputs": [
    {
     "data": {
      "text/plain": [
       "Index(['team1', 'team2', 'Week', 'Game_Number', 'penalty_yards1',\n",
       "       'penalty_yards2'],\n",
       "      dtype='object')"
      ]
     },
     "execution_count": 71,
     "metadata": {},
     "output_type": "execute_result"
    }
   ],
   "source": [
    "new.columns"
   ]
  },
  {
   "cell_type": "code",
   "execution_count": 69,
   "metadata": {
    "ExecuteTime": {
     "end_time": "2020-05-14T23:32:38.036324Z",
     "start_time": "2020-05-14T23:32:38.029964Z"
    }
   },
   "outputs": [],
   "source": [
    "new = df2[['team1', 'team2', 'Week', 'Game_Number',\n",
    "            'penalty_yards1', 'penalty_yards2']]"
   ]
  },
  {
   "cell_type": "code",
   "execution_count": 72,
   "metadata": {
    "ExecuteTime": {
     "end_time": "2020-05-14T23:34:00.376720Z",
     "start_time": "2020-05-14T23:34:00.369750Z"
    }
   },
   "outputs": [
    {
     "data": {
      "text/plain": [
       "Index(['team1', 'date', 'time', 'home_away', 'team2', 'week', 'Game_Number',\n",
       "       'win1?', 'OT', 'points_1', 'points_2', 'point_differential',\n",
       "       'combined_points', 'spread', 'team1_covered_spread?', 'over_under',\n",
       "       'over_under_result?_x', 'pass_completions1', 'pass_attempts1',\n",
       "       'completion_percentage1', 'passing_yards1', 'passing_touchdowns1',\n",
       "       'interceptions1', 'times_sacked1', 'sack_yards_lost1', 'qbr1',\n",
       "       'rushing_attempts1', 'rushing_yards1', 'rushing_yards_per_attempt1',\n",
       "       'rushing_touchdowns1', 'total_yards1', 'offensive_plays1',\n",
       "       'yards_per_play_offense1', 'defensive_plays1',\n",
       "       'yards_allowed_per_defensive_play1', 'turnovers_lost1',\n",
       "       'time_of_possession1', 'pass_completions2', 'pass_attempts2',\n",
       "       'completion_percentage2', 'passing_yards2', 'passing_touchdowns2',\n",
       "       'interceptions2', 'times_sacked2', 'sack_yards_lost2', 'qbr2',\n",
       "       'rushing_attempts2', 'rushing_yards2', 'rushing_yards_per_attempt2',\n",
       "       'rushing_touchdowns2', 'total_yards2', 'turnovers2'],\n",
       "      dtype='object')"
      ]
     },
     "execution_count": 72,
     "metadata": {},
     "output_type": "execute_result"
    }
   ],
   "source": [
    "merge1.columns"
   ]
  },
  {
   "cell_type": "code",
   "execution_count": 73,
   "metadata": {
    "ExecuteTime": {
     "end_time": "2020-05-14T23:34:06.440016Z",
     "start_time": "2020-05-14T23:34:06.432844Z"
    }
   },
   "outputs": [],
   "source": [
    "new = new.rename(columns={'Week':'week'})"
   ]
  },
  {
   "cell_type": "code",
   "execution_count": 77,
   "metadata": {
    "ExecuteTime": {
     "end_time": "2020-05-14T23:36:44.713371Z",
     "start_time": "2020-05-14T23:36:44.705291Z"
    }
   },
   "outputs": [],
   "source": [
    "merge1['week'] = merge1['week'].apply(lambda x: int(x))\n",
    "merge1['Game_Number'] = merge1['Game_Number'].apply(lambda x: int(x))"
   ]
  },
  {
   "cell_type": "code",
   "execution_count": 75,
   "metadata": {
    "ExecuteTime": {
     "end_time": "2020-05-14T23:35:05.995507Z",
     "start_time": "2020-05-14T23:35:05.985894Z"
    }
   },
   "outputs": [
    {
     "name": "stdout",
     "output_type": "stream",
     "text": [
      "<class 'pandas.core.frame.DataFrame'>\n",
      "RangeIndex: 267 entries, 0 to 266\n",
      "Data columns (total 6 columns):\n",
      "team1             267 non-null object\n",
      "team2             267 non-null object\n",
      "week              267 non-null int64\n",
      "Game_Number       267 non-null int64\n",
      "penalty_yards1    267 non-null int64\n",
      "penalty_yards2    267 non-null int64\n",
      "dtypes: int64(4), object(2)\n",
      "memory usage: 12.6+ KB\n"
     ]
    }
   ],
   "source": [
    "new.info()"
   ]
  },
  {
   "cell_type": "code",
   "execution_count": 78,
   "metadata": {
    "ExecuteTime": {
     "end_time": "2020-05-14T23:36:51.069839Z",
     "start_time": "2020-05-14T23:36:51.056741Z"
    }
   },
   "outputs": [],
   "source": [
    "merge2 = merge1.merge(new, on=['team1', 'team2', 'week', 'Game_Number'], how='left')"
   ]
  },
  {
   "cell_type": "code",
   "execution_count": 79,
   "metadata": {
    "ExecuteTime": {
     "end_time": "2020-05-14T23:36:57.783541Z",
     "start_time": "2020-05-14T23:36:57.776430Z"
    }
   },
   "outputs": [
    {
     "data": {
      "text/plain": [
       "Index(['team1', 'date', 'time', 'home_away', 'team2', 'week', 'Game_Number',\n",
       "       'win1?', 'OT', 'points_1', 'points_2', 'point_differential',\n",
       "       'combined_points', 'spread', 'team1_covered_spread?', 'over_under',\n",
       "       'over_under_result?_x', 'pass_completions1', 'pass_attempts1',\n",
       "       'completion_percentage1', 'passing_yards1', 'passing_touchdowns1',\n",
       "       'interceptions1', 'times_sacked1', 'sack_yards_lost1', 'qbr1',\n",
       "       'rushing_attempts1', 'rushing_yards1', 'rushing_yards_per_attempt1',\n",
       "       'rushing_touchdowns1', 'total_yards1', 'offensive_plays1',\n",
       "       'yards_per_play_offense1', 'defensive_plays1',\n",
       "       'yards_allowed_per_defensive_play1', 'turnovers_lost1',\n",
       "       'time_of_possession1', 'pass_completions2', 'pass_attempts2',\n",
       "       'completion_percentage2', 'passing_yards2', 'passing_touchdowns2',\n",
       "       'interceptions2', 'times_sacked2', 'sack_yards_lost2', 'qbr2',\n",
       "       'rushing_attempts2', 'rushing_yards2', 'rushing_yards_per_attempt2',\n",
       "       'rushing_touchdowns2', 'total_yards2', 'turnovers2', 'penalty_yards1',\n",
       "       'penalty_yards2'],\n",
       "      dtype='object')"
      ]
     },
     "execution_count": 79,
     "metadata": {},
     "output_type": "execute_result"
    }
   ],
   "source": [
    "merge2.columns"
   ]
  },
  {
   "cell_type": "code",
   "execution_count": 80,
   "metadata": {
    "ExecuteTime": {
     "end_time": "2020-05-14T23:37:23.804315Z",
     "start_time": "2020-05-14T23:37:23.796098Z"
    }
   },
   "outputs": [
    {
     "data": {
      "text/plain": [
       "Index(['team1', 'year', 'date', 'time', 'local_time', 'home_away', 'team2',\n",
       "       'Week', 'Game_Number', 'day', 'win1?', 'OT', 'Total_TD1', 'XPA_1',\n",
       "       'XPM_1', 'FGA1', 'FGM1', '2PA1', '2PM2', 'Sfty1', 'Total_TD2', 'XPA2',\n",
       "       'XPM2', 'FGA2', 'FGM2', 'Sfty2'],\n",
       "      dtype='object')"
      ]
     },
     "execution_count": 80,
     "metadata": {},
     "output_type": "execute_result"
    }
   ],
   "source": [
    "df4.columns"
   ]
  },
  {
   "cell_type": "code",
   "execution_count": 81,
   "metadata": {
    "ExecuteTime": {
     "end_time": "2020-05-14T23:38:24.953335Z",
     "start_time": "2020-05-14T23:38:24.945990Z"
    }
   },
   "outputs": [],
   "source": [
    "new1 = df4[['team1','team2', 'Week', 'Game_Number', 'Total_TD1', 'XPA_1',\n",
    "       'XPM_1', 'FGA1', 'FGM1', '2PA1', '2PM2', 'Sfty1', 'Total_TD2', 'XPA2',\n",
    "       'XPM2', 'FGA2', 'FGM2', 'Sfty2']]"
   ]
  },
  {
   "cell_type": "code",
   "execution_count": 84,
   "metadata": {
    "ExecuteTime": {
     "end_time": "2020-05-14T23:40:14.758225Z",
     "start_time": "2020-05-14T23:40:14.753228Z"
    }
   },
   "outputs": [],
   "source": [
    "new1 = new1.rename(columns={'Week':'week'})"
   ]
  },
  {
   "cell_type": "code",
   "execution_count": 85,
   "metadata": {
    "ExecuteTime": {
     "end_time": "2020-05-14T23:40:18.261646Z",
     "start_time": "2020-05-14T23:40:18.241777Z"
    }
   },
   "outputs": [
    {
     "name": "stdout",
     "output_type": "stream",
     "text": [
      "<class 'pandas.core.frame.DataFrame'>\n",
      "Int64Index: 267 entries, 0 to 69\n",
      "Data columns (total 18 columns):\n",
      "team1          267 non-null object\n",
      "team2          267 non-null object\n",
      "week           267 non-null int64\n",
      "Game_Number    267 non-null int64\n",
      "Total_TD1      267 non-null object\n",
      "XPA_1          226 non-null object\n",
      "XPM_1          219 non-null object\n",
      "FGA1           233 non-null object\n",
      "FGM1           215 non-null object\n",
      "2PA1           267 non-null object\n",
      "2PM2           27 non-null object\n",
      "Sfty1          8 non-null object\n",
      "Total_TD2      267 non-null object\n",
      "XPA2           267 non-null object\n",
      "XPM2           267 non-null object\n",
      "FGA2           267 non-null object\n",
      "FGM2           267 non-null object\n",
      "Sfty2          267 non-null object\n",
      "dtypes: int64(2), object(16)\n",
      "memory usage: 39.6+ KB\n"
     ]
    }
   ],
   "source": [
    "new1['week'] = new1['week'].apply(lambda x: int(x))\n",
    "new1['Game_Number'] = new1['Game_Number'].apply(lambda x: int(x))\n",
    "new1.info()"
   ]
  },
  {
   "cell_type": "code",
   "execution_count": 86,
   "metadata": {
    "ExecuteTime": {
     "end_time": "2020-05-14T23:40:40.185320Z",
     "start_time": "2020-05-14T23:40:40.171888Z"
    }
   },
   "outputs": [],
   "source": [
    "merge3 = merge2.merge(new1, on=['team1', 'team2', 'week', 'Game_Number'], how='left')"
   ]
  },
  {
   "cell_type": "code",
   "execution_count": 87,
   "metadata": {
    "ExecuteTime": {
     "end_time": "2020-05-14T23:40:46.570513Z",
     "start_time": "2020-05-14T23:40:46.561394Z"
    }
   },
   "outputs": [
    {
     "data": {
      "text/plain": [
       "Index(['team1', 'date', 'time', 'home_away', 'team2', 'week', 'Game_Number',\n",
       "       'win1?', 'OT', 'points_1', 'points_2', 'point_differential',\n",
       "       'combined_points', 'spread', 'team1_covered_spread?', 'over_under',\n",
       "       'over_under_result?_x', 'pass_completions1', 'pass_attempts1',\n",
       "       'completion_percentage1', 'passing_yards1', 'passing_touchdowns1',\n",
       "       'interceptions1', 'times_sacked1', 'sack_yards_lost1', 'qbr1',\n",
       "       'rushing_attempts1', 'rushing_yards1', 'rushing_yards_per_attempt1',\n",
       "       'rushing_touchdowns1', 'total_yards1', 'offensive_plays1',\n",
       "       'yards_per_play_offense1', 'defensive_plays1',\n",
       "       'yards_allowed_per_defensive_play1', 'turnovers_lost1',\n",
       "       'time_of_possession1', 'pass_completions2', 'pass_attempts2',\n",
       "       'completion_percentage2', 'passing_yards2', 'passing_touchdowns2',\n",
       "       'interceptions2', 'times_sacked2', 'sack_yards_lost2', 'qbr2',\n",
       "       'rushing_attempts2', 'rushing_yards2', 'rushing_yards_per_attempt2',\n",
       "       'rushing_touchdowns2', 'total_yards2', 'turnovers2', 'penalty_yards1',\n",
       "       'penalty_yards2', 'Total_TD1', 'XPA_1', 'XPM_1', 'FGA1', 'FGM1', '2PA1',\n",
       "       '2PM2', 'Sfty1', 'Total_TD2', 'XPA2', 'XPM2', 'FGA2', 'FGM2', 'Sfty2'],\n",
       "      dtype='object')"
      ]
     },
     "execution_count": 87,
     "metadata": {},
     "output_type": "execute_result"
    }
   ],
   "source": [
    "merge3.columns"
   ]
  },
  {
   "cell_type": "code",
   "execution_count": 88,
   "metadata": {
    "ExecuteTime": {
     "end_time": "2020-05-14T23:40:52.616381Z",
     "start_time": "2020-05-14T23:40:52.611462Z"
    }
   },
   "outputs": [
    {
     "data": {
      "text/plain": [
       "(267, 68)"
      ]
     },
     "execution_count": 88,
     "metadata": {},
     "output_type": "execute_result"
    }
   ],
   "source": [
    "merge3.shape"
   ]
  },
  {
   "cell_type": "code",
   "execution_count": 90,
   "metadata": {
    "ExecuteTime": {
     "end_time": "2020-05-14T23:42:49.836327Z",
     "start_time": "2020-05-14T23:42:49.827757Z"
    }
   },
   "outputs": [],
   "source": [
    "m = merge3.copy()"
   ]
  },
  {
   "cell_type": "code",
   "execution_count": 89,
   "metadata": {
    "ExecuteTime": {
     "end_time": "2020-05-14T23:41:36.107261Z",
     "start_time": "2020-05-14T23:41:36.097756Z"
    }
   },
   "outputs": [
    {
     "data": {
      "text/plain": [
       "0      L 20-31\n",
       "1      L 20-37\n",
       "2      L 24-35\n",
       "3      L 31-51\n",
       "4      L 23-28\n",
       "        ...   \n",
       "262    W 43-13\n",
       "263     L 3-33\n",
       "264    W 31-17\n",
       "265    L 27-32\n",
       "266     W 10-3\n",
       "Name: win1?, Length: 267, dtype: object"
      ]
     },
     "execution_count": 89,
     "metadata": {},
     "output_type": "execute_result"
    }
   ],
   "source": [
    "merge3['win1?']"
   ]
  },
  {
   "cell_type": "code",
   "execution_count": 91,
   "metadata": {
    "ExecuteTime": {
     "end_time": "2020-05-14T23:43:16.537827Z",
     "start_time": "2020-05-14T23:43:16.530179Z"
    }
   },
   "outputs": [],
   "source": [
    "m['win1?'] = m['win1?'].apply(lambda x: x.split()[0]) "
   ]
  },
  {
   "cell_type": "code",
   "execution_count": 93,
   "metadata": {
    "ExecuteTime": {
     "end_time": "2020-05-14T23:43:58.535967Z",
     "start_time": "2020-05-14T23:43:58.529624Z"
    }
   },
   "outputs": [
    {
     "data": {
      "text/plain": [
       "array(['L', 'W', 'T'], dtype=object)"
      ]
     },
     "execution_count": 93,
     "metadata": {},
     "output_type": "execute_result"
    }
   ],
   "source": [
    "m['win1?'].unique()"
   ]
  },
  {
   "cell_type": "code",
   "execution_count": 94,
   "metadata": {
    "ExecuteTime": {
     "end_time": "2020-05-14T23:44:46.216116Z",
     "start_time": "2020-05-14T23:44:46.209599Z"
    }
   },
   "outputs": [],
   "source": [
    "m['win1?'] = m['win1?'].replace(to_replace=['L', 'W', 'T'], value=[-1,1,0])"
   ]
  },
  {
   "cell_type": "code",
   "execution_count": 96,
   "metadata": {
    "ExecuteTime": {
     "end_time": "2020-05-14T23:46:54.881876Z",
     "start_time": "2020-05-14T23:46:54.874398Z"
    }
   },
   "outputs": [
    {
     "data": {
      "text/plain": [
       "array(['under', 'over', 'push'], dtype=object)"
      ]
     },
     "execution_count": 96,
     "metadata": {},
     "output_type": "execute_result"
    }
   ],
   "source": [
    "m['over_under_result?_x'].unique()"
   ]
  },
  {
   "cell_type": "code",
   "execution_count": 97,
   "metadata": {
    "ExecuteTime": {
     "end_time": "2020-05-14T23:47:00.880428Z",
     "start_time": "2020-05-14T23:47:00.859107Z"
    }
   },
   "outputs": [],
   "source": [
    "m.replace(to_replace=['under', 'over', 'push'], value = [-1,1,0], inplace=True)"
   ]
  },
  {
   "cell_type": "code",
   "execution_count": 98,
   "metadata": {
    "ExecuteTime": {
     "end_time": "2020-05-14T23:47:07.569704Z",
     "start_time": "2020-05-14T23:47:07.562553Z"
    }
   },
   "outputs": [
    {
     "data": {
      "text/plain": [
       "array([-1,  1,  0])"
      ]
     },
     "execution_count": 98,
     "metadata": {},
     "output_type": "execute_result"
    }
   ],
   "source": [
    "m['over_under_result?_x'].unique()"
   ]
  },
  {
   "cell_type": "code",
   "execution_count": 99,
   "metadata": {
    "ExecuteTime": {
     "end_time": "2020-05-14T23:47:51.415661Z",
     "start_time": "2020-05-14T23:47:51.409201Z"
    }
   },
   "outputs": [],
   "source": [
    "m = m.rename(columns={'over_under_result?_x':'over_under_result?'})"
   ]
  },
  {
   "cell_type": "code",
   "execution_count": 100,
   "metadata": {
    "ExecuteTime": {
     "end_time": "2020-05-14T23:47:59.203525Z",
     "start_time": "2020-05-14T23:47:59.185200Z"
    }
   },
   "outputs": [
    {
     "name": "stdout",
     "output_type": "stream",
     "text": [
      "<class 'pandas.core.frame.DataFrame'>\n",
      "Int64Index: 267 entries, 0 to 266\n",
      "Data columns (total 68 columns):\n",
      "team1                                267 non-null object\n",
      "date                                 267 non-null object\n",
      "time                                 267 non-null object\n",
      "home_away                            267 non-null object\n",
      "team2                                267 non-null object\n",
      "week                                 267 non-null int64\n",
      "Game_Number                          267 non-null int64\n",
      "win1?                                267 non-null int64\n",
      "OT                                   11 non-null object\n",
      "points_1                             267 non-null object\n",
      "points_2                             267 non-null object\n",
      "point_differential                   267 non-null object\n",
      "combined_points                      267 non-null object\n",
      "spread                               267 non-null object\n",
      "team1_covered_spread?                267 non-null object\n",
      "over_under                           267 non-null object\n",
      "over_under_result?                   267 non-null int64\n",
      "pass_completions1                    267 non-null object\n",
      "pass_attempts1                       267 non-null object\n",
      "completion_percentage1               267 non-null object\n",
      "passing_yards1                       267 non-null object\n",
      "passing_touchdowns1                  267 non-null object\n",
      "interceptions1                       267 non-null object\n",
      "times_sacked1                        267 non-null object\n",
      "sack_yards_lost1                     267 non-null object\n",
      "qbr1                                 267 non-null object\n",
      "rushing_attempts1                    267 non-null object\n",
      "rushing_yards1                       267 non-null object\n",
      "rushing_yards_per_attempt1           267 non-null object\n",
      "rushing_touchdowns1                  267 non-null object\n",
      "total_yards1                         267 non-null object\n",
      "offensive_plays1                     267 non-null object\n",
      "yards_per_play_offense1              267 non-null object\n",
      "defensive_plays1                     267 non-null object\n",
      "yards_allowed_per_defensive_play1    267 non-null object\n",
      "turnovers_lost1                      206 non-null object\n",
      "time_of_possession1                  267 non-null object\n",
      "pass_completions2                    267 non-null object\n",
      "pass_attempts2                       267 non-null object\n",
      "completion_percentage2               267 non-null object\n",
      "passing_yards2                       267 non-null object\n",
      "passing_touchdowns2                  267 non-null object\n",
      "interceptions2                       267 non-null object\n",
      "times_sacked2                        267 non-null object\n",
      "sack_yards_lost2                     267 non-null object\n",
      "qbr2                                 267 non-null object\n",
      "rushing_attempts2                    267 non-null object\n",
      "rushing_yards2                       267 non-null object\n",
      "rushing_yards_per_attempt2           267 non-null object\n",
      "rushing_touchdowns2                  267 non-null object\n",
      "total_yards2                         267 non-null object\n",
      "turnovers2                           183 non-null object\n",
      "penalty_yards1                       267 non-null int64\n",
      "penalty_yards2                       267 non-null int64\n",
      "Total_TD1                            267 non-null object\n",
      "XPA_1                                226 non-null object\n",
      "XPM_1                                219 non-null object\n",
      "FGA1                                 233 non-null object\n",
      "FGM1                                 215 non-null object\n",
      "2PA1                                 267 non-null object\n",
      "2PM2                                 27 non-null object\n",
      "Sfty1                                8 non-null object\n",
      "Total_TD2                            267 non-null object\n",
      "XPA2                                 267 non-null object\n",
      "XPM2                                 267 non-null object\n",
      "FGA2                                 267 non-null object\n",
      "FGM2                                 267 non-null object\n",
      "Sfty2                                267 non-null object\n",
      "dtypes: int64(6), object(62)\n",
      "memory usage: 143.9+ KB\n"
     ]
    }
   ],
   "source": [
    "m.info()"
   ]
  },
  {
   "cell_type": "code",
   "execution_count": 101,
   "metadata": {
    "ExecuteTime": {
     "end_time": "2020-05-14T23:48:44.062437Z",
     "start_time": "2020-05-14T23:48:44.034253Z"
    }
   },
   "outputs": [],
   "source": [
    "m = m.fillna(value=0)"
   ]
  },
  {
   "cell_type": "code",
   "execution_count": 102,
   "metadata": {
    "ExecuteTime": {
     "end_time": "2020-05-14T23:48:50.793736Z",
     "start_time": "2020-05-14T23:48:50.785035Z"
    }
   },
   "outputs": [
    {
     "data": {
      "text/plain": [
       "Index(['team1', 'date', 'time', 'home_away', 'team2', 'week', 'Game_Number',\n",
       "       'win1?', 'OT', 'points_1', 'points_2', 'point_differential',\n",
       "       'combined_points', 'spread', 'team1_covered_spread?', 'over_under',\n",
       "       'over_under_result?', 'pass_completions1', 'pass_attempts1',\n",
       "       'completion_percentage1', 'passing_yards1', 'passing_touchdowns1',\n",
       "       'interceptions1', 'times_sacked1', 'sack_yards_lost1', 'qbr1',\n",
       "       'rushing_attempts1', 'rushing_yards1', 'rushing_yards_per_attempt1',\n",
       "       'rushing_touchdowns1', 'total_yards1', 'offensive_plays1',\n",
       "       'yards_per_play_offense1', 'defensive_plays1',\n",
       "       'yards_allowed_per_defensive_play1', 'turnovers_lost1',\n",
       "       'time_of_possession1', 'pass_completions2', 'pass_attempts2',\n",
       "       'completion_percentage2', 'passing_yards2', 'passing_touchdowns2',\n",
       "       'interceptions2', 'times_sacked2', 'sack_yards_lost2', 'qbr2',\n",
       "       'rushing_attempts2', 'rushing_yards2', 'rushing_yards_per_attempt2',\n",
       "       'rushing_touchdowns2', 'total_yards2', 'turnovers2', 'penalty_yards1',\n",
       "       'penalty_yards2', 'Total_TD1', 'XPA_1', 'XPM_1', 'FGA1', 'FGM1', '2PA1',\n",
       "       '2PM2', 'Sfty1', 'Total_TD2', 'XPA2', 'XPM2', 'FGA2', 'FGM2', 'Sfty2'],\n",
       "      dtype='object')"
      ]
     },
     "execution_count": 102,
     "metadata": {},
     "output_type": "execute_result"
    }
   ],
   "source": [
    "m.columns"
   ]
  },
  {
   "cell_type": "code",
   "execution_count": 103,
   "metadata": {
    "ExecuteTime": {
     "end_time": "2020-05-14T23:49:43.099347Z",
     "start_time": "2020-05-14T23:49:43.092537Z"
    }
   },
   "outputs": [
    {
     "data": {
      "text/plain": [
       "(267, 68)"
      ]
     },
     "execution_count": 103,
     "metadata": {},
     "output_type": "execute_result"
    }
   ],
   "source": [
    "m.shape"
   ]
  },
  {
   "cell_type": "code",
   "execution_count": 108,
   "metadata": {
    "ExecuteTime": {
     "end_time": "2020-05-14T23:53:00.070057Z",
     "start_time": "2020-05-14T23:53:00.062669Z"
    }
   },
   "outputs": [],
   "source": [
    "m['OT'] = m['OT'].replace(to_replace='OT', value=1)"
   ]
  },
  {
   "cell_type": "code",
   "execution_count": 113,
   "metadata": {
    "ExecuteTime": {
     "end_time": "2020-05-14T23:54:57.658873Z",
     "start_time": "2020-05-14T23:54:57.652947Z"
    }
   },
   "outputs": [],
   "source": [
    "m['team1_covered_spread?'] = m['team1_covered_spread?'].replace(to_replace=['not covered', 'covered', ], value = [0,1])"
   ]
  },
  {
   "cell_type": "code",
   "execution_count": 116,
   "metadata": {
    "ExecuteTime": {
     "end_time": "2020-05-14T23:55:53.746012Z",
     "start_time": "2020-05-14T23:55:53.731990Z"
    }
   },
   "outputs": [],
   "source": [
    "\n",
    "# 62 columns to floats because math\n",
    "col_list = ['week', 'Game_Number',\n",
    "       'win1?', 'OT', 'points_1', 'points_2', 'point_differential',\n",
    "       'combined_points', 'spread', 'team1_covered_spread?', 'over_under',\n",
    "       'over_under_result?', 'pass_completions1', 'pass_attempts1',\n",
    "       'completion_percentage1', 'passing_yards1', 'passing_touchdowns1',\n",
    "       'interceptions1', 'times_sacked1', 'sack_yards_lost1', 'qbr1',\n",
    "       'rushing_attempts1', 'rushing_yards1', 'rushing_yards_per_attempt1',\n",
    "       'rushing_touchdowns1', 'total_yards1', 'offensive_plays1',\n",
    "       'yards_per_play_offense1', 'defensive_plays1',\n",
    "       'yards_allowed_per_defensive_play1', 'turnovers_lost1', \n",
    "        'pass_completions2', 'pass_attempts2',\n",
    "       'completion_percentage2', 'passing_yards2', 'passing_touchdowns2',\n",
    "       'interceptions2', 'times_sacked2', 'sack_yards_lost2', 'qbr2',\n",
    "       'rushing_attempts2', 'rushing_yards2', 'rushing_yards_per_attempt2',\n",
    "       'rushing_touchdowns2', 'total_yards2', 'turnovers2', 'penalty_yards1',\n",
    "       'penalty_yards2', 'Total_TD1', 'XPA_1', 'XPM_1', 'FGA1', 'FGM1', '2PA1',\n",
    "       '2PM2', 'Sfty1', 'Total_TD2', 'XPA2', 'XPM2', 'FGA2', 'FGM2', 'Sfty2' ]\n",
    "\n",
    "def text_to_num(text):\n",
    "    return float(text)\n",
    "\n",
    "def convert_into_float(data):\n",
    "    data[col_list] = data[col_list].applymap(text_to_num)\n",
    "    return data"
   ]
  },
  {
   "cell_type": "code",
   "execution_count": 117,
   "metadata": {
    "ExecuteTime": {
     "end_time": "2020-05-14T23:55:55.969714Z",
     "start_time": "2020-05-14T23:55:55.906489Z"
    }
   },
   "outputs": [],
   "source": [
    "m = convert_into_float(m)"
   ]
  },
  {
   "cell_type": "code",
   "execution_count": 118,
   "metadata": {
    "ExecuteTime": {
     "end_time": "2020-05-14T23:56:02.163676Z",
     "start_time": "2020-05-14T23:56:02.145701Z"
    }
   },
   "outputs": [
    {
     "name": "stdout",
     "output_type": "stream",
     "text": [
      "<class 'pandas.core.frame.DataFrame'>\n",
      "Int64Index: 267 entries, 0 to 266\n",
      "Data columns (total 68 columns):\n",
      "team1                                267 non-null object\n",
      "date                                 267 non-null object\n",
      "time                                 267 non-null object\n",
      "home_away                            267 non-null object\n",
      "team2                                267 non-null object\n",
      "week                                 267 non-null float64\n",
      "Game_Number                          267 non-null float64\n",
      "win1?                                267 non-null float64\n",
      "OT                                   267 non-null float64\n",
      "points_1                             267 non-null float64\n",
      "points_2                             267 non-null float64\n",
      "point_differential                   267 non-null float64\n",
      "combined_points                      267 non-null float64\n",
      "spread                               267 non-null float64\n",
      "team1_covered_spread?                267 non-null float64\n",
      "over_under                           267 non-null float64\n",
      "over_under_result?                   267 non-null float64\n",
      "pass_completions1                    267 non-null float64\n",
      "pass_attempts1                       267 non-null float64\n",
      "completion_percentage1               267 non-null float64\n",
      "passing_yards1                       267 non-null float64\n",
      "passing_touchdowns1                  267 non-null float64\n",
      "interceptions1                       267 non-null float64\n",
      "times_sacked1                        267 non-null float64\n",
      "sack_yards_lost1                     267 non-null float64\n",
      "qbr1                                 267 non-null float64\n",
      "rushing_attempts1                    267 non-null float64\n",
      "rushing_yards1                       267 non-null float64\n",
      "rushing_yards_per_attempt1           267 non-null float64\n",
      "rushing_touchdowns1                  267 non-null float64\n",
      "total_yards1                         267 non-null float64\n",
      "offensive_plays1                     267 non-null float64\n",
      "yards_per_play_offense1              267 non-null float64\n",
      "defensive_plays1                     267 non-null float64\n",
      "yards_allowed_per_defensive_play1    267 non-null float64\n",
      "turnovers_lost1                      267 non-null float64\n",
      "time_of_possession1                  267 non-null object\n",
      "pass_completions2                    267 non-null float64\n",
      "pass_attempts2                       267 non-null float64\n",
      "completion_percentage2               267 non-null float64\n",
      "passing_yards2                       267 non-null float64\n",
      "passing_touchdowns2                  267 non-null float64\n",
      "interceptions2                       267 non-null float64\n",
      "times_sacked2                        267 non-null float64\n",
      "sack_yards_lost2                     267 non-null float64\n",
      "qbr2                                 267 non-null float64\n",
      "rushing_attempts2                    267 non-null float64\n",
      "rushing_yards2                       267 non-null float64\n",
      "rushing_yards_per_attempt2           267 non-null float64\n",
      "rushing_touchdowns2                  267 non-null float64\n",
      "total_yards2                         267 non-null float64\n",
      "turnovers2                           267 non-null float64\n",
      "penalty_yards1                       267 non-null float64\n",
      "penalty_yards2                       267 non-null float64\n",
      "Total_TD1                            267 non-null float64\n",
      "XPA_1                                267 non-null float64\n",
      "XPM_1                                267 non-null float64\n",
      "FGA1                                 267 non-null float64\n",
      "FGM1                                 267 non-null float64\n",
      "2PA1                                 267 non-null float64\n",
      "2PM2                                 267 non-null float64\n",
      "Sfty1                                267 non-null float64\n",
      "Total_TD2                            267 non-null float64\n",
      "XPA2                                 267 non-null float64\n",
      "XPM2                                 267 non-null float64\n",
      "FGA2                                 267 non-null float64\n",
      "FGM2                                 267 non-null float64\n",
      "Sfty2                                267 non-null float64\n",
      "dtypes: float64(62), object(6)\n",
      "memory usage: 143.9+ KB\n"
     ]
    }
   ],
   "source": [
    "m.info()"
   ]
  },
  {
   "cell_type": "code",
   "execution_count": 119,
   "metadata": {
    "ExecuteTime": {
     "end_time": "2020-05-14T23:57:51.239243Z",
     "start_time": "2020-05-14T23:57:51.234383Z"
    }
   },
   "outputs": [],
   "source": [
    "# Time_of_possesion1 - returns a string like 'mm:ss'\n",
    "# write a function to normalize time of possession to a ratio from 0 to 1\n",
    "def top_ratio(text):\n",
    "    return float(text.split(':')[0])/60 + float(text.split(':')[1])/3600\n",
    "def time_of_possession_to_ratio(data):\n",
    "    #converts time of possession into a ratio from 0 to 1\n",
    "    data['time_of_possession1'] = data['time_of_possession1'].apply(lambda x: top_ratio(x))\n",
    "    return data"
   ]
  },
  {
   "cell_type": "code",
   "execution_count": 121,
   "metadata": {
    "ExecuteTime": {
     "end_time": "2020-05-14T23:58:22.594733Z",
     "start_time": "2020-05-14T23:58:22.559515Z"
    }
   },
   "outputs": [
    {
     "ename": "AttributeError",
     "evalue": "'float' object has no attribute 'split'",
     "output_type": "error",
     "traceback": [
      "\u001b[0;31m---------------------------------------------------------------------------\u001b[0m",
      "\u001b[0;31mAttributeError\u001b[0m                            Traceback (most recent call last)",
      "\u001b[0;32m<ipython-input-121-54fb2742fdd5>\u001b[0m in \u001b[0;36m<module>\u001b[0;34m\u001b[0m\n\u001b[0;32m----> 1\u001b[0;31m \u001b[0mm\u001b[0m \u001b[0;34m=\u001b[0m \u001b[0mtime_of_possession_to_ratio\u001b[0m\u001b[0;34m(\u001b[0m\u001b[0mm\u001b[0m\u001b[0;34m)\u001b[0m\u001b[0;34m\u001b[0m\u001b[0;34m\u001b[0m\u001b[0m\n\u001b[0m",
      "\u001b[0;32m<ipython-input-119-62b91367e1fb>\u001b[0m in \u001b[0;36mtime_of_possession_to_ratio\u001b[0;34m(data)\u001b[0m\n\u001b[1;32m      4\u001b[0m     \u001b[0;32mreturn\u001b[0m \u001b[0mfloat\u001b[0m\u001b[0;34m(\u001b[0m\u001b[0mtext\u001b[0m\u001b[0;34m.\u001b[0m\u001b[0msplit\u001b[0m\u001b[0;34m(\u001b[0m\u001b[0;34m':'\u001b[0m\u001b[0;34m)\u001b[0m\u001b[0;34m[\u001b[0m\u001b[0;36m0\u001b[0m\u001b[0;34m]\u001b[0m\u001b[0;34m)\u001b[0m\u001b[0;34m/\u001b[0m\u001b[0;36m60\u001b[0m \u001b[0;34m+\u001b[0m \u001b[0mfloat\u001b[0m\u001b[0;34m(\u001b[0m\u001b[0mtext\u001b[0m\u001b[0;34m.\u001b[0m\u001b[0msplit\u001b[0m\u001b[0;34m(\u001b[0m\u001b[0;34m':'\u001b[0m\u001b[0;34m)\u001b[0m\u001b[0;34m[\u001b[0m\u001b[0;36m1\u001b[0m\u001b[0;34m]\u001b[0m\u001b[0;34m)\u001b[0m\u001b[0;34m/\u001b[0m\u001b[0;36m3600\u001b[0m\u001b[0;34m\u001b[0m\u001b[0;34m\u001b[0m\u001b[0m\n\u001b[1;32m      5\u001b[0m \u001b[0;32mdef\u001b[0m \u001b[0mtime_of_possession_to_ratio\u001b[0m\u001b[0;34m(\u001b[0m\u001b[0mdata\u001b[0m\u001b[0;34m)\u001b[0m\u001b[0;34m:\u001b[0m\u001b[0;34m\u001b[0m\u001b[0;34m\u001b[0m\u001b[0m\n\u001b[0;32m----> 6\u001b[0;31m     \u001b[0mdata\u001b[0m\u001b[0;34m[\u001b[0m\u001b[0;34m'time_of_possession1'\u001b[0m\u001b[0;34m]\u001b[0m \u001b[0;34m=\u001b[0m \u001b[0mdata\u001b[0m\u001b[0;34m[\u001b[0m\u001b[0;34m'time_of_possession1'\u001b[0m\u001b[0;34m]\u001b[0m\u001b[0;34m.\u001b[0m\u001b[0mapply\u001b[0m\u001b[0;34m(\u001b[0m\u001b[0;32mlambda\u001b[0m \u001b[0mx\u001b[0m\u001b[0;34m:\u001b[0m \u001b[0mtop_ratio\u001b[0m\u001b[0;34m(\u001b[0m\u001b[0mx\u001b[0m\u001b[0;34m)\u001b[0m\u001b[0;34m)\u001b[0m\u001b[0;34m\u001b[0m\u001b[0;34m\u001b[0m\u001b[0m\n\u001b[0m\u001b[1;32m      7\u001b[0m     \u001b[0;32mreturn\u001b[0m \u001b[0mdata\u001b[0m\u001b[0;34m\u001b[0m\u001b[0;34m\u001b[0m\u001b[0m\n",
      "\u001b[0;32m~/anaconda3/lib/python3.7/site-packages/pandas/core/series.py\u001b[0m in \u001b[0;36mapply\u001b[0;34m(self, func, convert_dtype, args, **kwds)\u001b[0m\n\u001b[1;32m   4040\u001b[0m             \u001b[0;32melse\u001b[0m\u001b[0;34m:\u001b[0m\u001b[0;34m\u001b[0m\u001b[0;34m\u001b[0m\u001b[0m\n\u001b[1;32m   4041\u001b[0m                 \u001b[0mvalues\u001b[0m \u001b[0;34m=\u001b[0m \u001b[0mself\u001b[0m\u001b[0;34m.\u001b[0m\u001b[0mastype\u001b[0m\u001b[0;34m(\u001b[0m\u001b[0mobject\u001b[0m\u001b[0;34m)\u001b[0m\u001b[0;34m.\u001b[0m\u001b[0mvalues\u001b[0m\u001b[0;34m\u001b[0m\u001b[0;34m\u001b[0m\u001b[0m\n\u001b[0;32m-> 4042\u001b[0;31m                 \u001b[0mmapped\u001b[0m \u001b[0;34m=\u001b[0m \u001b[0mlib\u001b[0m\u001b[0;34m.\u001b[0m\u001b[0mmap_infer\u001b[0m\u001b[0;34m(\u001b[0m\u001b[0mvalues\u001b[0m\u001b[0;34m,\u001b[0m \u001b[0mf\u001b[0m\u001b[0;34m,\u001b[0m \u001b[0mconvert\u001b[0m\u001b[0;34m=\u001b[0m\u001b[0mconvert_dtype\u001b[0m\u001b[0;34m)\u001b[0m\u001b[0;34m\u001b[0m\u001b[0;34m\u001b[0m\u001b[0m\n\u001b[0m\u001b[1;32m   4043\u001b[0m \u001b[0;34m\u001b[0m\u001b[0m\n\u001b[1;32m   4044\u001b[0m         \u001b[0;32mif\u001b[0m \u001b[0mlen\u001b[0m\u001b[0;34m(\u001b[0m\u001b[0mmapped\u001b[0m\u001b[0;34m)\u001b[0m \u001b[0;32mand\u001b[0m \u001b[0misinstance\u001b[0m\u001b[0;34m(\u001b[0m\u001b[0mmapped\u001b[0m\u001b[0;34m[\u001b[0m\u001b[0;36m0\u001b[0m\u001b[0;34m]\u001b[0m\u001b[0;34m,\u001b[0m \u001b[0mSeries\u001b[0m\u001b[0;34m)\u001b[0m\u001b[0;34m:\u001b[0m\u001b[0;34m\u001b[0m\u001b[0;34m\u001b[0m\u001b[0m\n",
      "\u001b[0;32mpandas/_libs/lib.pyx\u001b[0m in \u001b[0;36mpandas._libs.lib.map_infer\u001b[0;34m()\u001b[0m\n",
      "\u001b[0;32m<ipython-input-119-62b91367e1fb>\u001b[0m in \u001b[0;36m<lambda>\u001b[0;34m(x)\u001b[0m\n\u001b[1;32m      4\u001b[0m     \u001b[0;32mreturn\u001b[0m \u001b[0mfloat\u001b[0m\u001b[0;34m(\u001b[0m\u001b[0mtext\u001b[0m\u001b[0;34m.\u001b[0m\u001b[0msplit\u001b[0m\u001b[0;34m(\u001b[0m\u001b[0;34m':'\u001b[0m\u001b[0;34m)\u001b[0m\u001b[0;34m[\u001b[0m\u001b[0;36m0\u001b[0m\u001b[0;34m]\u001b[0m\u001b[0;34m)\u001b[0m\u001b[0;34m/\u001b[0m\u001b[0;36m60\u001b[0m \u001b[0;34m+\u001b[0m \u001b[0mfloat\u001b[0m\u001b[0;34m(\u001b[0m\u001b[0mtext\u001b[0m\u001b[0;34m.\u001b[0m\u001b[0msplit\u001b[0m\u001b[0;34m(\u001b[0m\u001b[0;34m':'\u001b[0m\u001b[0;34m)\u001b[0m\u001b[0;34m[\u001b[0m\u001b[0;36m1\u001b[0m\u001b[0;34m]\u001b[0m\u001b[0;34m)\u001b[0m\u001b[0;34m/\u001b[0m\u001b[0;36m3600\u001b[0m\u001b[0;34m\u001b[0m\u001b[0;34m\u001b[0m\u001b[0m\n\u001b[1;32m      5\u001b[0m \u001b[0;32mdef\u001b[0m \u001b[0mtime_of_possession_to_ratio\u001b[0m\u001b[0;34m(\u001b[0m\u001b[0mdata\u001b[0m\u001b[0;34m)\u001b[0m\u001b[0;34m:\u001b[0m\u001b[0;34m\u001b[0m\u001b[0;34m\u001b[0m\u001b[0m\n\u001b[0;32m----> 6\u001b[0;31m     \u001b[0mdata\u001b[0m\u001b[0;34m[\u001b[0m\u001b[0;34m'time_of_possession1'\u001b[0m\u001b[0;34m]\u001b[0m \u001b[0;34m=\u001b[0m \u001b[0mdata\u001b[0m\u001b[0;34m[\u001b[0m\u001b[0;34m'time_of_possession1'\u001b[0m\u001b[0;34m]\u001b[0m\u001b[0;34m.\u001b[0m\u001b[0mapply\u001b[0m\u001b[0;34m(\u001b[0m\u001b[0;32mlambda\u001b[0m \u001b[0mx\u001b[0m\u001b[0;34m:\u001b[0m \u001b[0mtop_ratio\u001b[0m\u001b[0;34m(\u001b[0m\u001b[0mx\u001b[0m\u001b[0;34m)\u001b[0m\u001b[0;34m)\u001b[0m\u001b[0;34m\u001b[0m\u001b[0;34m\u001b[0m\u001b[0m\n\u001b[0m\u001b[1;32m      7\u001b[0m     \u001b[0;32mreturn\u001b[0m \u001b[0mdata\u001b[0m\u001b[0;34m\u001b[0m\u001b[0;34m\u001b[0m\u001b[0m\n",
      "\u001b[0;32m<ipython-input-119-62b91367e1fb>\u001b[0m in \u001b[0;36mtop_ratio\u001b[0;34m(text)\u001b[0m\n\u001b[1;32m      2\u001b[0m \u001b[0;31m# write a function to normalize time of possession to a ratio from 0 to 1\u001b[0m\u001b[0;34m\u001b[0m\u001b[0;34m\u001b[0m\u001b[0;34m\u001b[0m\u001b[0m\n\u001b[1;32m      3\u001b[0m \u001b[0;32mdef\u001b[0m \u001b[0mtop_ratio\u001b[0m\u001b[0;34m(\u001b[0m\u001b[0mtext\u001b[0m\u001b[0;34m)\u001b[0m\u001b[0;34m:\u001b[0m\u001b[0;34m\u001b[0m\u001b[0;34m\u001b[0m\u001b[0m\n\u001b[0;32m----> 4\u001b[0;31m     \u001b[0;32mreturn\u001b[0m \u001b[0mfloat\u001b[0m\u001b[0;34m(\u001b[0m\u001b[0mtext\u001b[0m\u001b[0;34m.\u001b[0m\u001b[0msplit\u001b[0m\u001b[0;34m(\u001b[0m\u001b[0;34m':'\u001b[0m\u001b[0;34m)\u001b[0m\u001b[0;34m[\u001b[0m\u001b[0;36m0\u001b[0m\u001b[0;34m]\u001b[0m\u001b[0;34m)\u001b[0m\u001b[0;34m/\u001b[0m\u001b[0;36m60\u001b[0m \u001b[0;34m+\u001b[0m \u001b[0mfloat\u001b[0m\u001b[0;34m(\u001b[0m\u001b[0mtext\u001b[0m\u001b[0;34m.\u001b[0m\u001b[0msplit\u001b[0m\u001b[0;34m(\u001b[0m\u001b[0;34m':'\u001b[0m\u001b[0;34m)\u001b[0m\u001b[0;34m[\u001b[0m\u001b[0;36m1\u001b[0m\u001b[0;34m]\u001b[0m\u001b[0;34m)\u001b[0m\u001b[0;34m/\u001b[0m\u001b[0;36m3600\u001b[0m\u001b[0;34m\u001b[0m\u001b[0;34m\u001b[0m\u001b[0m\n\u001b[0m\u001b[1;32m      5\u001b[0m \u001b[0;32mdef\u001b[0m \u001b[0mtime_of_possession_to_ratio\u001b[0m\u001b[0;34m(\u001b[0m\u001b[0mdata\u001b[0m\u001b[0;34m)\u001b[0m\u001b[0;34m:\u001b[0m\u001b[0;34m\u001b[0m\u001b[0;34m\u001b[0m\u001b[0m\n\u001b[1;32m      6\u001b[0m     \u001b[0mdata\u001b[0m\u001b[0;34m[\u001b[0m\u001b[0;34m'time_of_possession1'\u001b[0m\u001b[0;34m]\u001b[0m \u001b[0;34m=\u001b[0m \u001b[0mdata\u001b[0m\u001b[0;34m[\u001b[0m\u001b[0;34m'time_of_possession1'\u001b[0m\u001b[0;34m]\u001b[0m\u001b[0;34m.\u001b[0m\u001b[0mapply\u001b[0m\u001b[0;34m(\u001b[0m\u001b[0;32mlambda\u001b[0m \u001b[0mx\u001b[0m\u001b[0;34m:\u001b[0m \u001b[0mtop_ratio\u001b[0m\u001b[0;34m(\u001b[0m\u001b[0mx\u001b[0m\u001b[0;34m)\u001b[0m\u001b[0;34m)\u001b[0m\u001b[0;34m\u001b[0m\u001b[0;34m\u001b[0m\u001b[0m\n",
      "\u001b[0;31mAttributeError\u001b[0m: 'float' object has no attribute 'split'"
     ]
    }
   ],
   "source": [
    "time_of_possession_to_ratio(m)"
   ]
  },
  {
   "cell_type": "code",
   "execution_count": 122,
   "metadata": {
    "ExecuteTime": {
     "end_time": "2020-05-14T23:58:35.196663Z",
     "start_time": "2020-05-14T23:58:35.170015Z"
    }
   },
   "outputs": [
    {
     "name": "stdout",
     "output_type": "stream",
     "text": [
      "<class 'pandas.core.frame.DataFrame'>\n",
      "Int64Index: 267 entries, 0 to 266\n",
      "Data columns (total 68 columns):\n",
      "team1                                267 non-null object\n",
      "date                                 267 non-null object\n",
      "time                                 267 non-null object\n",
      "home_away                            267 non-null object\n",
      "team2                                267 non-null object\n",
      "week                                 267 non-null float64\n",
      "Game_Number                          267 non-null float64\n",
      "win1?                                267 non-null float64\n",
      "OT                                   267 non-null float64\n",
      "points_1                             267 non-null float64\n",
      "points_2                             267 non-null float64\n",
      "point_differential                   267 non-null float64\n",
      "combined_points                      267 non-null float64\n",
      "spread                               267 non-null float64\n",
      "team1_covered_spread?                267 non-null float64\n",
      "over_under                           267 non-null float64\n",
      "over_under_result?                   267 non-null float64\n",
      "pass_completions1                    267 non-null float64\n",
      "pass_attempts1                       267 non-null float64\n",
      "completion_percentage1               267 non-null float64\n",
      "passing_yards1                       267 non-null float64\n",
      "passing_touchdowns1                  267 non-null float64\n",
      "interceptions1                       267 non-null float64\n",
      "times_sacked1                        267 non-null float64\n",
      "sack_yards_lost1                     267 non-null float64\n",
      "qbr1                                 267 non-null float64\n",
      "rushing_attempts1                    267 non-null float64\n",
      "rushing_yards1                       267 non-null float64\n",
      "rushing_yards_per_attempt1           267 non-null float64\n",
      "rushing_touchdowns1                  267 non-null float64\n",
      "total_yards1                         267 non-null float64\n",
      "offensive_plays1                     267 non-null float64\n",
      "yards_per_play_offense1              267 non-null float64\n",
      "defensive_plays1                     267 non-null float64\n",
      "yards_allowed_per_defensive_play1    267 non-null float64\n",
      "turnovers_lost1                      267 non-null float64\n",
      "time_of_possession1                  267 non-null float64\n",
      "pass_completions2                    267 non-null float64\n",
      "pass_attempts2                       267 non-null float64\n",
      "completion_percentage2               267 non-null float64\n",
      "passing_yards2                       267 non-null float64\n",
      "passing_touchdowns2                  267 non-null float64\n",
      "interceptions2                       267 non-null float64\n",
      "times_sacked2                        267 non-null float64\n",
      "sack_yards_lost2                     267 non-null float64\n",
      "qbr2                                 267 non-null float64\n",
      "rushing_attempts2                    267 non-null float64\n",
      "rushing_yards2                       267 non-null float64\n",
      "rushing_yards_per_attempt2           267 non-null float64\n",
      "rushing_touchdowns2                  267 non-null float64\n",
      "total_yards2                         267 non-null float64\n",
      "turnovers2                           267 non-null float64\n",
      "penalty_yards1                       267 non-null float64\n",
      "penalty_yards2                       267 non-null float64\n",
      "Total_TD1                            267 non-null float64\n",
      "XPA_1                                267 non-null float64\n",
      "XPM_1                                267 non-null float64\n",
      "FGA1                                 267 non-null float64\n",
      "FGM1                                 267 non-null float64\n",
      "2PA1                                 267 non-null float64\n",
      "2PM2                                 267 non-null float64\n",
      "Sfty1                                267 non-null float64\n",
      "Total_TD2                            267 non-null float64\n",
      "XPA2                                 267 non-null float64\n",
      "XPM2                                 267 non-null float64\n",
      "FGA2                                 267 non-null float64\n",
      "FGM2                                 267 non-null float64\n",
      "Sfty2                                267 non-null float64\n",
      "dtypes: float64(63), object(5)\n",
      "memory usage: 143.9+ KB\n"
     ]
    }
   ],
   "source": [
    "m.info()"
   ]
  },
  {
   "cell_type": "code",
   "execution_count": 124,
   "metadata": {
    "ExecuteTime": {
     "end_time": "2020-05-15T00:00:13.408193Z",
     "start_time": "2020-05-15T00:00:13.362816Z"
    }
   },
   "outputs": [],
   "source": [
    "m['game_date_time'] = m['date'] +' '+ m['time']\n",
    "m['game_date_time'] = m['game_date_time'].apply(lambda x: pd.to_datetime(x))"
   ]
  },
  {
   "cell_type": "code",
   "execution_count": 128,
   "metadata": {
    "ExecuteTime": {
     "end_time": "2020-05-15T00:03:20.267358Z",
     "start_time": "2020-05-15T00:03:20.261564Z"
    }
   },
   "outputs": [
    {
     "data": {
      "text/plain": [
       "['team1',\n",
       " 'home_away',\n",
       " 'team2',\n",
       " 'week',\n",
       " 'Game_Number',\n",
       " 'win1?',\n",
       " 'OT',\n",
       " 'points_1',\n",
       " 'points_2',\n",
       " 'point_differential',\n",
       " 'combined_points',\n",
       " 'spread',\n",
       " 'team1_covered_spread?',\n",
       " 'over_under',\n",
       " 'over_under_result?',\n",
       " 'pass_completions1',\n",
       " 'pass_attempts1',\n",
       " 'completion_percentage1',\n",
       " 'passing_yards1',\n",
       " 'passing_touchdowns1',\n",
       " 'interceptions1',\n",
       " 'times_sacked1',\n",
       " 'sack_yards_lost1',\n",
       " 'qbr1',\n",
       " 'rushing_attempts1',\n",
       " 'rushing_yards1',\n",
       " 'rushing_yards_per_attempt1',\n",
       " 'rushing_touchdowns1',\n",
       " 'total_yards1',\n",
       " 'offensive_plays1',\n",
       " 'yards_per_play_offense1',\n",
       " 'defensive_plays1',\n",
       " 'yards_allowed_per_defensive_play1',\n",
       " 'turnovers_lost1',\n",
       " 'time_of_possession1',\n",
       " 'pass_completions2',\n",
       " 'pass_attempts2',\n",
       " 'completion_percentage2',\n",
       " 'passing_yards2',\n",
       " 'passing_touchdowns2',\n",
       " 'interceptions2',\n",
       " 'times_sacked2',\n",
       " 'sack_yards_lost2',\n",
       " 'qbr2',\n",
       " 'rushing_attempts2',\n",
       " 'rushing_yards2',\n",
       " 'rushing_yards_per_attempt2',\n",
       " 'rushing_touchdowns2',\n",
       " 'total_yards2',\n",
       " 'turnovers2',\n",
       " 'penalty_yards1',\n",
       " 'penalty_yards2',\n",
       " 'Total_TD1',\n",
       " 'XPA_1',\n",
       " 'XPM_1',\n",
       " 'FGA1',\n",
       " 'FGM1',\n",
       " '2PA1',\n",
       " '2PM2',\n",
       " 'Sfty1',\n",
       " 'Total_TD2',\n",
       " 'XPA2',\n",
       " 'XPM2',\n",
       " 'FGA2',\n",
       " 'FGM2',\n",
       " 'Sfty2',\n",
       " 'game_date_time',\n",
       " 'time_of_possession2']"
      ]
     },
     "execution_count": 128,
     "metadata": {},
     "output_type": "execute_result"
    }
   ],
   "source": [
    "list(m.columns)"
   ]
  },
  {
   "cell_type": "code",
   "execution_count": 126,
   "metadata": {
    "ExecuteTime": {
     "end_time": "2020-05-15T00:01:11.924280Z",
     "start_time": "2020-05-15T00:01:11.917375Z"
    }
   },
   "outputs": [],
   "source": [
    "m = m.drop(columns=['date', 'time'])"
   ]
  },
  {
   "cell_type": "code",
   "execution_count": 127,
   "metadata": {
    "ExecuteTime": {
     "end_time": "2020-05-15T00:02:05.818343Z",
     "start_time": "2020-05-15T00:02:05.813104Z"
    }
   },
   "outputs": [],
   "source": [
    "m['time_of_possession2'] = 1 - m['time_of_possession1']"
   ]
  },
  {
   "cell_type": "code",
   "execution_count": 129,
   "metadata": {
    "ExecuteTime": {
     "end_time": "2020-05-15T00:07:04.191515Z",
     "start_time": "2020-05-15T00:07:04.184638Z"
    }
   },
   "outputs": [],
   "source": [
    "m = m.drop(columns=['2PA1', '2PM2'])"
   ]
  },
  {
   "cell_type": "code",
   "execution_count": 132,
   "metadata": {
    "ExecuteTime": {
     "end_time": "2020-05-15T00:12:00.797526Z",
     "start_time": "2020-05-15T00:12:00.788504Z"
    }
   },
   "outputs": [
    {
     "data": {
      "text/plain": [
       "0      0.0\n",
       "1      0.0\n",
       "2      0.0\n",
       "3      0.0\n",
       "4      0.0\n",
       "      ... \n",
       "262    1.0\n",
       "263    0.0\n",
       "264    1.0\n",
       "265    1.0\n",
       "266    1.0\n",
       "Name: team1_covered_spread?, Length: 267, dtype: float64"
      ]
     },
     "execution_count": 132,
     "metadata": {},
     "output_type": "execute_result"
    }
   ],
   "source": [
    "m['team1_covered_spread?']"
   ]
  },
  {
   "cell_type": "code",
   "execution_count": 133,
   "metadata": {
    "ExecuteTime": {
     "end_time": "2020-05-15T00:12:08.042867Z",
     "start_time": "2020-05-15T00:12:08.038433Z"
    }
   },
   "outputs": [],
   "source": [
    "m['team2_covered_spread?'] = 1.0 - m['team1_covered_spread?']"
   ]
  },
  {
   "cell_type": "code",
   "execution_count": 134,
   "metadata": {
    "ExecuteTime": {
     "end_time": "2020-05-15T00:13:20.907849Z",
     "start_time": "2020-05-15T00:13:20.902443Z"
    }
   },
   "outputs": [],
   "source": [
    "m['offensive_plays2'] = m['defensive_plays1']"
   ]
  },
  {
   "cell_type": "code",
   "execution_count": 135,
   "metadata": {
    "ExecuteTime": {
     "end_time": "2020-05-15T00:14:37.729207Z",
     "start_time": "2020-05-15T00:14:37.721810Z"
    }
   },
   "outputs": [],
   "source": [
    "m['yards_per_play_offense2'] = m['total_yards2'] / m['offensive_plays2']"
   ]
  },
  {
   "cell_type": "code",
   "execution_count": 136,
   "metadata": {
    "ExecuteTime": {
     "end_time": "2020-05-15T00:16:14.382376Z",
     "start_time": "2020-05-15T00:16:14.375446Z"
    }
   },
   "outputs": [],
   "source": [
    "m['defensive_plays2'] = m['offensive_plays1']"
   ]
  },
  {
   "cell_type": "code",
   "execution_count": 137,
   "metadata": {
    "ExecuteTime": {
     "end_time": "2020-05-15T00:17:37.487333Z",
     "start_time": "2020-05-15T00:17:37.482098Z"
    }
   },
   "outputs": [],
   "source": [
    "m['yards_allowed_per_defensive_play2'] = m['total_yards1']/ m['defensive_plays2']"
   ]
  },
  {
   "cell_type": "code",
   "execution_count": 138,
   "metadata": {
    "ExecuteTime": {
     "end_time": "2020-05-15T00:19:03.229787Z",
     "start_time": "2020-05-15T00:19:03.218504Z"
    }
   },
   "outputs": [],
   "source": [
    "m['passing_yards_per_attempt1'] = m[ 'passing_yards1'] / m['pass_attempts1']\n",
    "m['passing_yards_per_attempt2'] = m[ 'passing_yards2'] / m['pass_attempts2']"
   ]
  },
  {
   "cell_type": "code",
   "execution_count": 139,
   "metadata": {
    "ExecuteTime": {
     "end_time": "2020-05-15T00:19:25.034482Z",
     "start_time": "2020-05-15T00:19:25.016423Z"
    }
   },
   "outputs": [
    {
     "name": "stdout",
     "output_type": "stream",
     "text": [
      "<class 'pandas.core.frame.DataFrame'>\n",
      "Int64Index: 267 entries, 0 to 266\n",
      "Data columns (total 73 columns):\n",
      "team1                                267 non-null object\n",
      "home_away                            267 non-null object\n",
      "team2                                267 non-null object\n",
      "week                                 267 non-null float64\n",
      "Game_Number                          267 non-null float64\n",
      "win1?                                267 non-null float64\n",
      "OT                                   267 non-null float64\n",
      "points_1                             267 non-null float64\n",
      "points_2                             267 non-null float64\n",
      "point_differential                   267 non-null float64\n",
      "combined_points                      267 non-null float64\n",
      "spread                               267 non-null float64\n",
      "team1_covered_spread?                267 non-null float64\n",
      "over_under                           267 non-null float64\n",
      "over_under_result?                   267 non-null float64\n",
      "pass_completions1                    267 non-null float64\n",
      "pass_attempts1                       267 non-null float64\n",
      "completion_percentage1               267 non-null float64\n",
      "passing_yards1                       267 non-null float64\n",
      "passing_touchdowns1                  267 non-null float64\n",
      "interceptions1                       267 non-null float64\n",
      "times_sacked1                        267 non-null float64\n",
      "sack_yards_lost1                     267 non-null float64\n",
      "qbr1                                 267 non-null float64\n",
      "rushing_attempts1                    267 non-null float64\n",
      "rushing_yards1                       267 non-null float64\n",
      "rushing_yards_per_attempt1           267 non-null float64\n",
      "rushing_touchdowns1                  267 non-null float64\n",
      "total_yards1                         267 non-null float64\n",
      "offensive_plays1                     267 non-null float64\n",
      "yards_per_play_offense1              267 non-null float64\n",
      "defensive_plays1                     267 non-null float64\n",
      "yards_allowed_per_defensive_play1    267 non-null float64\n",
      "turnovers_lost1                      267 non-null float64\n",
      "time_of_possession1                  267 non-null float64\n",
      "pass_completions2                    267 non-null float64\n",
      "pass_attempts2                       267 non-null float64\n",
      "completion_percentage2               267 non-null float64\n",
      "passing_yards2                       267 non-null float64\n",
      "passing_touchdowns2                  267 non-null float64\n",
      "interceptions2                       267 non-null float64\n",
      "times_sacked2                        267 non-null float64\n",
      "sack_yards_lost2                     267 non-null float64\n",
      "qbr2                                 267 non-null float64\n",
      "rushing_attempts2                    267 non-null float64\n",
      "rushing_yards2                       267 non-null float64\n",
      "rushing_yards_per_attempt2           267 non-null float64\n",
      "rushing_touchdowns2                  267 non-null float64\n",
      "total_yards2                         267 non-null float64\n",
      "turnovers2                           267 non-null float64\n",
      "penalty_yards1                       267 non-null float64\n",
      "penalty_yards2                       267 non-null float64\n",
      "Total_TD1                            267 non-null float64\n",
      "XPA_1                                267 non-null float64\n",
      "XPM_1                                267 non-null float64\n",
      "FGA1                                 267 non-null float64\n",
      "FGM1                                 267 non-null float64\n",
      "Sfty1                                267 non-null float64\n",
      "Total_TD2                            267 non-null float64\n",
      "XPA2                                 267 non-null float64\n",
      "XPM2                                 267 non-null float64\n",
      "FGA2                                 267 non-null float64\n",
      "FGM2                                 267 non-null float64\n",
      "Sfty2                                267 non-null float64\n",
      "game_date_time                       267 non-null datetime64[ns]\n",
      "time_of_possession2                  267 non-null float64\n",
      "team2_covered_spread?                267 non-null float64\n",
      "offensive_plays2                     267 non-null float64\n",
      "yards_per_play_offense2              267 non-null float64\n",
      "defensive_plays2                     267 non-null float64\n",
      "yards_allowed_per_defensive_play2    267 non-null float64\n",
      "passing_yards_per_attempt1           267 non-null float64\n",
      "passing_yards_per_attempt2           267 non-null float64\n",
      "dtypes: datetime64[ns](1), float64(69), object(3)\n",
      "memory usage: 154.4+ KB\n"
     ]
    }
   ],
   "source": [
    "m.info()"
   ]
  },
  {
   "cell_type": "code",
   "execution_count": 140,
   "metadata": {
    "ExecuteTime": {
     "end_time": "2020-05-15T00:19:56.467736Z",
     "start_time": "2020-05-15T00:19:56.458434Z"
    }
   },
   "outputs": [
    {
     "data": {
      "text/plain": [
       "0      Neutral\n",
       "1         Away\n",
       "2         Away\n",
       "3         Away\n",
       "4         Away\n",
       "        ...   \n",
       "262       Away\n",
       "263       Away\n",
       "264       Away\n",
       "265       Away\n",
       "266       Away\n",
       "Name: home_away, Length: 267, dtype: object"
      ]
     },
     "execution_count": 140,
     "metadata": {},
     "output_type": "execute_result"
    }
   ],
   "source": [
    "m['home_away']"
   ]
  },
  {
   "cell_type": "code",
   "execution_count": 141,
   "metadata": {
    "ExecuteTime": {
     "end_time": "2020-05-15T00:20:29.183311Z",
     "start_time": "2020-05-15T00:20:29.177797Z"
    }
   },
   "outputs": [
    {
     "data": {
      "text/plain": [
       "array(['Neutral', 'Away', 'Home'], dtype=object)"
      ]
     },
     "execution_count": 141,
     "metadata": {},
     "output_type": "execute_result"
    }
   ],
   "source": [
    "m['home_away'].unique()"
   ]
  },
  {
   "cell_type": "code",
   "execution_count": 143,
   "metadata": {
    "ExecuteTime": {
     "end_time": "2020-05-15T00:20:48.719705Z",
     "start_time": "2020-05-15T00:20:48.714035Z"
    }
   },
   "outputs": [
    {
     "data": {
      "text/plain": [
       "267"
      ]
     },
     "execution_count": 143,
     "metadata": {},
     "output_type": "execute_result"
    }
   ],
   "source": [
    "m['home_away'].count()"
   ]
  },
  {
   "cell_type": "code",
   "execution_count": 144,
   "metadata": {
    "ExecuteTime": {
     "end_time": "2020-05-15T00:21:57.521960Z",
     "start_time": "2020-05-15T00:21:57.494920Z"
    }
   },
   "outputs": [],
   "source": [
    "m.to_csv('full_game_stats_2019.csv')"
   ]
  },
  {
   "cell_type": "code",
   "execution_count": 145,
   "metadata": {
    "ExecuteTime": {
     "end_time": "2020-05-15T00:43:47.186120Z",
     "start_time": "2020-05-15T00:43:47.180116Z"
    }
   },
   "outputs": [],
   "source": [
    "m['home_away'] = m['home_away'].replace(to_replace=['Neutral', 'Away', 'Home'], \n",
    "                                       value=[0,-1,1])"
   ]
  },
  {
   "cell_type": "code",
   "execution_count": 149,
   "metadata": {
    "ExecuteTime": {
     "end_time": "2020-05-15T00:45:51.658293Z",
     "start_time": "2020-05-15T00:45:51.652466Z"
    }
   },
   "outputs": [],
   "source": [
    "m['win2?'] = m['win1?'] * -1"
   ]
  },
  {
   "cell_type": "code",
   "execution_count": 150,
   "metadata": {
    "ExecuteTime": {
     "end_time": "2020-05-15T00:46:51.849693Z",
     "start_time": "2020-05-15T00:46:51.845129Z"
    }
   },
   "outputs": [],
   "source": [
    "m['team2_covered_spread?'] = m['team1_covered_spread?'] *-1"
   ]
  },
  {
   "cell_type": "code",
   "execution_count": 151,
   "metadata": {
    "ExecuteTime": {
     "end_time": "2020-05-15T00:47:16.511059Z",
     "start_time": "2020-05-15T00:47:16.501518Z"
    }
   },
   "outputs": [
    {
     "data": {
      "text/plain": [
       "team1                                    SFO\n",
       "home_away                                  0\n",
       "team2                                    KAN\n",
       "week                                      21\n",
       "Game_Number                               20\n",
       "                                      ...   \n",
       "defensive_plays2                          54\n",
       "yards_allowed_per_defensive_play2        6.5\n",
       "passing_yards_per_attempt1           6.77419\n",
       "passing_yards_per_attempt2           6.38095\n",
       "win2?                                      1\n",
       "Name: 0, Length: 74, dtype: object"
      ]
     },
     "execution_count": 151,
     "metadata": {},
     "output_type": "execute_result"
    }
   ],
   "source": [
    "m.iloc[0]"
   ]
  },
  {
   "cell_type": "code",
   "execution_count": 152,
   "metadata": {
    "ExecuteTime": {
     "end_time": "2020-05-15T00:48:10.208414Z",
     "start_time": "2020-05-15T00:48:10.201006Z"
    }
   },
   "outputs": [],
   "source": [
    "m['game_id'] = range(0,267)"
   ]
  },
  {
   "cell_type": "code",
   "execution_count": 153,
   "metadata": {
    "ExecuteTime": {
     "end_time": "2020-05-15T00:49:08.330758Z",
     "start_time": "2020-05-15T00:49:08.324655Z"
    }
   },
   "outputs": [
    {
     "data": {
      "text/plain": [
       "Index(['team1', 'home_away', 'team2', 'week', 'Game_Number', 'win1?', 'OT',\n",
       "       'points_1', 'points_2', 'point_differential', 'combined_points',\n",
       "       'spread', 'team1_covered_spread?', 'over_under', 'over_under_result?',\n",
       "       'pass_completions1', 'pass_attempts1', 'completion_percentage1',\n",
       "       'passing_yards1', 'passing_touchdowns1', 'interceptions1',\n",
       "       'times_sacked1', 'sack_yards_lost1', 'qbr1', 'rushing_attempts1',\n",
       "       'rushing_yards1', 'rushing_yards_per_attempt1', 'rushing_touchdowns1',\n",
       "       'total_yards1', 'offensive_plays1', 'yards_per_play_offense1',\n",
       "       'defensive_plays1', 'yards_allowed_per_defensive_play1',\n",
       "       'turnovers_lost1', 'time_of_possession1', 'pass_completions2',\n",
       "       'pass_attempts2', 'completion_percentage2', 'passing_yards2',\n",
       "       'passing_touchdowns2', 'interceptions2', 'times_sacked2',\n",
       "       'sack_yards_lost2', 'qbr2', 'rushing_attempts2', 'rushing_yards2',\n",
       "       'rushing_yards_per_attempt2', 'rushing_touchdowns2', 'total_yards2',\n",
       "       'turnovers2', 'penalty_yards1', 'penalty_yards2', 'Total_TD1', 'XPA_1',\n",
       "       'XPM_1', 'FGA1', 'FGM1', 'Sfty1', 'Total_TD2', 'XPA2', 'XPM2', 'FGA2',\n",
       "       'FGM2', 'Sfty2', 'game_date_time', 'time_of_possession2',\n",
       "       'team2_covered_spread?', 'offensive_plays2', 'yards_per_play_offense2',\n",
       "       'defensive_plays2', 'yards_allowed_per_defensive_play2',\n",
       "       'passing_yards_per_attempt1', 'passing_yards_per_attempt2', 'win2?',\n",
       "       'game_id'],\n",
       "      dtype='object')"
      ]
     },
     "execution_count": 153,
     "metadata": {},
     "output_type": "execute_result"
    }
   ],
   "source": [
    "m.columns"
   ]
  },
  {
   "cell_type": "code",
   "execution_count": 162,
   "metadata": {
    "ExecuteTime": {
     "end_time": "2020-05-15T01:16:21.946920Z",
     "start_time": "2020-05-15T01:16:21.931872Z"
    }
   },
   "outputs": [],
   "source": [
    "t1_stats = m[['team1', 'home_away', 'team2', 'week', 'Game_Number', 'win1?', 'OT',\n",
    "       'points_1', 'points_2', 'combined_points', 'spread', 'team1_covered_spread?', \n",
    "        'over_under', 'over_under_result?', 'pass_completions1', 'pass_attempts1', \n",
    "        'completion_percentage1', 'passing_yards1', 'passing_touchdowns1', \n",
    "        'interceptions1', 'times_sacked1', 'sack_yards_lost1', 'qbr1', \n",
    "        'rushing_attempts1',  'rushing_yards1', 'rushing_yards_per_attempt1', \n",
    "        'rushing_touchdowns1', 'total_yards1', 'offensive_plays1', \n",
    "          'yards_per_play_offense1', 'defensive_plays1', \n",
    "          'yards_allowed_per_defensive_play1', 'turnovers_lost1', 'time_of_possession1',\n",
    "         'penalty_yards1', 'Total_TD1', 'XPA_1', 'XPM_1', 'FGA1', 'FGM1', 'Sfty1',\n",
    "          'game_date_time','passing_yards_per_attempt1','game_id']]\n",
    "\n",
    "t2_stats =  m[['team1', 'home_away', 'team2', 'week', 'Game_Number', 'OT',\n",
    "       'points_1', 'points_2', 'combined_points', 'spread', 'over_under', \n",
    "        'over_under_result?', 'pass_completions2',\n",
    "       'pass_attempts2', 'completion_percentage2', 'passing_yards2',\n",
    "       'passing_touchdowns2', 'interceptions2', 'times_sacked2',\n",
    "       'sack_yards_lost2', 'qbr2', 'rushing_attempts2', 'rushing_yards2',\n",
    "       'rushing_yards_per_attempt2', 'rushing_touchdowns2', 'total_yards2',\n",
    "       'turnovers2', 'penalty_yards2','Total_TD2', 'XPA2', 'XPM2', 'FGA2',\n",
    "       'FGM2', 'Sfty2', 'game_date_time', 'time_of_possession2', 'team2_covered_spread?', \n",
    "        'offensive_plays2', 'yards_per_play_offense2',\n",
    "       'defensive_plays2', 'yards_allowed_per_defensive_play2',\n",
    "       'passing_yards_per_attempt2', 'win2?', 'game_id']]"
   ]
  },
  {
   "cell_type": "code",
   "execution_count": 168,
   "metadata": {
    "ExecuteTime": {
     "end_time": "2020-05-15T17:49:43.752069Z",
     "start_time": "2020-05-15T17:49:43.743365Z"
    }
   },
   "outputs": [
    {
     "data": {
      "text/plain": [
       "((267, 44), (267, 44))"
      ]
     },
     "execution_count": 168,
     "metadata": {},
     "output_type": "execute_result"
    }
   ],
   "source": [
    "t1_stats.shape, t2_stats.shape"
   ]
  },
  {
   "cell_type": "code",
   "execution_count": 180,
   "metadata": {
    "ExecuteTime": {
     "end_time": "2020-05-15T19:28:47.924826Z",
     "start_time": "2020-05-15T19:28:47.905921Z"
    }
   },
   "outputs": [],
   "source": [
    "t1 = m[['team1', 'home_away', 'team2', 'week', 'Game_Number', 'win1?', 'OT', 'points_1',\n",
    " 'points_2', 'combined_points','spread', 'team1_covered_spread?', 'over_under',\n",
    " 'over_under_result?', 'pass_completions1', 'pass_attempts1',\n",
    " 'completion_percentage1', 'passing_yards1', 'passing_touchdowns1',\n",
    " 'interceptions1', 'times_sacked1', 'sack_yards_lost1', 'qbr1', 'rushing_attempts1',\n",
    " 'rushing_yards1', 'rushing_yards_per_attempt1', 'rushing_touchdowns1', 'total_yards1',\n",
    " 'offensive_plays1','yards_per_play_offense1','defensive_plays1','yards_allowed_per_defensive_play1',\n",
    " 'turnovers_lost1','time_of_possession1','penalty_yards1','Total_TD1','XPA_1','XPM_1','FGA1',\n",
    " 'FGM1','Sfty1','game_date_time','passing_yards_per_attempt1','game_id']]\n",
    "\n",
    "t2 = m[['team2','home_away','team1','week','Game_Number','win2?','OT','points_2',\n",
    "'points_1','combined_points','spread','team2_covered_spread?','over_under',\n",
    " 'over_under_result?','pass_completions2','pass_attempts2','completion_percentage2',\n",
    " 'passing_yards2','passing_touchdowns2','interceptions2','times_sacked2','sack_yards_lost2',\n",
    " 'qbr2','rushing_attempts2','rushing_yards2','rushing_yards_per_attempt2',\n",
    " 'rushing_touchdowns2','total_yards2','offensive_plays2','yards_per_play_offense2',\n",
    " 'defensive_plays2','yards_allowed_per_defensive_play2','turnovers2','time_of_possession2',\n",
    " 'penalty_yards2','Total_TD2','XPA2','XPM2','FGA2','FGM2','Sfty2','game_date_time',\n",
    " 'passing_yards_per_attempt2', 'game_id']]\n"
   ]
  },
  {
   "cell_type": "code",
   "execution_count": 181,
   "metadata": {
    "ExecuteTime": {
     "end_time": "2020-05-15T19:28:51.492113Z",
     "start_time": "2020-05-15T19:28:51.487165Z"
    }
   },
   "outputs": [
    {
     "data": {
      "text/plain": [
       "['team1',\n",
       " 'home_away',\n",
       " 'team2',\n",
       " 'week',\n",
       " 'Game_Number',\n",
       " 'win1?',\n",
       " 'OT',\n",
       " 'points_1',\n",
       " 'points_2',\n",
       " 'combined_points',\n",
       " 'spread',\n",
       " 'team1_covered_spread?',\n",
       " 'over_under',\n",
       " 'over_under_result?',\n",
       " 'pass_completions1',\n",
       " 'pass_attempts1',\n",
       " 'completion_percentage1',\n",
       " 'passing_yards1',\n",
       " 'passing_touchdowns1',\n",
       " 'interceptions1',\n",
       " 'times_sacked1',\n",
       " 'sack_yards_lost1',\n",
       " 'qbr1',\n",
       " 'rushing_attempts1',\n",
       " 'rushing_yards1',\n",
       " 'rushing_yards_per_attempt1',\n",
       " 'rushing_touchdowns1',\n",
       " 'total_yards1',\n",
       " 'offensive_plays1',\n",
       " 'yards_per_play_offense1',\n",
       " 'defensive_plays1',\n",
       " 'yards_allowed_per_defensive_play1',\n",
       " 'turnovers_lost1',\n",
       " 'time_of_possession1',\n",
       " 'penalty_yards1',\n",
       " 'Total_TD1',\n",
       " 'XPA_1',\n",
       " 'XPM_1',\n",
       " 'FGA1',\n",
       " 'FGM1',\n",
       " 'Sfty1',\n",
       " 'game_date_time',\n",
       " 'passing_yards_per_attempt1',\n",
       " 'game_id']"
      ]
     },
     "execution_count": 181,
     "metadata": {},
     "output_type": "execute_result"
    }
   ],
   "source": [
    "list(t1.columns)"
   ]
  },
  {
   "cell_type": "code",
   "execution_count": 182,
   "metadata": {
    "ExecuteTime": {
     "end_time": "2020-05-15T19:29:23.045754Z",
     "start_time": "2020-05-15T19:29:23.040771Z"
    }
   },
   "outputs": [
    {
     "data": {
      "text/plain": [
       "['team2',\n",
       " 'home_away',\n",
       " 'team1',\n",
       " 'week',\n",
       " 'Game_Number',\n",
       " 'win2?',\n",
       " 'OT',\n",
       " 'points_2',\n",
       " 'points_1',\n",
       " 'combined_points',\n",
       " 'spread',\n",
       " 'team2_covered_spread?',\n",
       " 'over_under',\n",
       " 'over_under_result?',\n",
       " 'pass_completions2',\n",
       " 'pass_attempts2',\n",
       " 'completion_percentage2',\n",
       " 'passing_yards2',\n",
       " 'passing_touchdowns2',\n",
       " 'interceptions2',\n",
       " 'times_sacked2',\n",
       " 'sack_yards_lost2',\n",
       " 'qbr2',\n",
       " 'rushing_attempts2',\n",
       " 'rushing_yards2',\n",
       " 'rushing_yards_per_attempt2',\n",
       " 'rushing_touchdowns2',\n",
       " 'total_yards2',\n",
       " 'offensive_plays2',\n",
       " 'yards_per_play_offense2',\n",
       " 'defensive_plays2',\n",
       " 'yards_allowed_per_defensive_play2',\n",
       " 'turnovers2',\n",
       " 'time_of_possession2',\n",
       " 'penalty_yards2',\n",
       " 'Total_TD2',\n",
       " 'XPA2',\n",
       " 'XPM2',\n",
       " 'FGA2',\n",
       " 'FGM2',\n",
       " 'Sfty2',\n",
       " 'game_date_time',\n",
       " 'passing_yards_per_attempt2',\n",
       " 'game_id']"
      ]
     },
     "execution_count": 182,
     "metadata": {},
     "output_type": "execute_result"
    }
   ],
   "source": [
    "list(t2.columns)"
   ]
  },
  {
   "cell_type": "code",
   "execution_count": 178,
   "metadata": {
    "ExecuteTime": {
     "end_time": "2020-05-15T19:09:57.705743Z",
     "start_time": "2020-05-15T19:09:57.690299Z"
    },
    "scrolled": true
   },
   "outputs": [
    {
     "data": {
      "text/plain": [
       "team2                                                KAN\n",
       "home_away                                              0\n",
       "team1                                                SFO\n",
       "week                                                  21\n",
       "Game_Number                                           20\n",
       "win2?                                                  1\n",
       "OT                                                     0\n",
       "points_1                                              20\n",
       "points_2                                              31\n",
       "combined_points                                       51\n",
       "spread                                               1.5\n",
       "team2_covered_spread?                                 -0\n",
       "over_under                                          52.5\n",
       "over_under_result?                                    -1\n",
       "pass_completions2                                     26\n",
       "pass_attempts2                                        42\n",
       "completion_percentage2                              61.9\n",
       "passing_yards2                                       268\n",
       "passing_touchdowns2                                    2\n",
       "interceptions2                                         2\n",
       "times_sacked2                                          4\n",
       "sack_yards_lost2                                      18\n",
       "qbr2                                                76.3\n",
       "rushing_attempts2                                     29\n",
       "rushing_yards2                                       129\n",
       "rushing_yards_per_attempt2                          4.45\n",
       "rushing_touchdowns2                                    2\n",
       "total_yards2                                         397\n",
       "offensive_plays2                                      75\n",
       "yards_per_play_offense2                          5.29333\n",
       "defensive_plays2                                      54\n",
       "yards_allowed_per_defensive_play2                    6.5\n",
       "turnovers2                                             2\n",
       "time_of_possession2                             0.553611\n",
       "penalty_yards2                                        24\n",
       "Total_TD2                                              4\n",
       "XPA2                                                   4\n",
       "XPM2                                                   4\n",
       "FGA2                                                   1\n",
       "FGM2                                                   1\n",
       "Sfty2                                                  0\n",
       "game_date_time                       2020-02-02 06:30:00\n",
       "passing_yards_per_attempt2                       6.38095\n",
       "game_id                                                0\n",
       "Name: 0, dtype: object"
      ]
     },
     "execution_count": 178,
     "metadata": {},
     "output_type": "execute_result"
    }
   ],
   "source": [
    "t2.iloc[0]"
   ]
  },
  {
   "cell_type": "code",
   "execution_count": 184,
   "metadata": {
    "ExecuteTime": {
     "end_time": "2020-05-15T19:37:52.168653Z",
     "start_time": "2020-05-15T19:37:52.165336Z"
    }
   },
   "outputs": [],
   "source": [
    "t1a = t1.copy()"
   ]
  },
  {
   "cell_type": "code",
   "execution_count": 185,
   "metadata": {
    "ExecuteTime": {
     "end_time": "2020-05-15T19:38:11.460666Z",
     "start_time": "2020-05-15T19:38:11.455587Z"
    }
   },
   "outputs": [],
   "source": [
    "t1a.columns=['team', 'game_id', 'opponent','week', 'game number','game_date_time',\n",
    "'home_away','OT','points_for','points_against',\n",
    "'combined_points','spread','over_under',\n",
    "'pass_completions','pass_attempts','completion_percentage','passing_yards',\n",
    "'passing_touchdowns','interceptions','times_sacked','sack_yards_lost','qbr',\n",
    "'rushing_attempts','rushing_yards','rushing_yards_per_attempt',\n",
    "'rushing_touchdowns','total_yards','offensive_plays','yards_per_play_offense',\n",
    "'defensive_plays','yards_allowed_per_defensive_play','turnovers',\n",
    "'time_of_possession','penalty_yards','Total_TD','XPA','XPM','FGA','FGM','Sfty',\n",
    "'passing_yards_per_attempt','win?', 'over_under_result?', 'covered_spread?']"
   ]
  },
  {
   "cell_type": "code",
   "execution_count": 186,
   "metadata": {
    "ExecuteTime": {
     "end_time": "2020-05-15T19:38:22.894000Z",
     "start_time": "2020-05-15T19:38:22.888713Z"
    }
   },
   "outputs": [],
   "source": [
    "t2a = t2.copy()"
   ]
  },
  {
   "cell_type": "code",
   "execution_count": 187,
   "metadata": {
    "ExecuteTime": {
     "end_time": "2020-05-15T19:38:39.876524Z",
     "start_time": "2020-05-15T19:38:39.871376Z"
    }
   },
   "outputs": [],
   "source": [
    "t2a.columns=['team', 'game_id', 'opponent','week', 'game number','game_date_time',\n",
    "'home_away','OT','points_for','points_against',\n",
    "'combined_points','spread','over_under',\n",
    "'pass_completions','pass_attempts','completion_percentage','passing_yards',\n",
    "'passing_touchdowns','interceptions','times_sacked','sack_yards_lost','qbr',\n",
    "'rushing_attempts','rushing_yards','rushing_yards_per_attempt',\n",
    "'rushing_touchdowns','total_yards','offensive_plays','yards_per_play_offense',\n",
    "'defensive_plays','yards_allowed_per_defensive_play','turnovers',\n",
    "'time_of_possession','penalty_yards','Total_TD','XPA','XPM','FGA','FGM','Sfty',\n",
    "'passing_yards_per_attempt','win?', 'over_under_result?', 'covered_spread?']"
   ]
  },
  {
   "cell_type": "code",
   "execution_count": null,
   "metadata": {},
   "outputs": [],
   "source": []
  }
 ],
 "metadata": {
  "kernelspec": {
   "display_name": "Python 3",
   "language": "python",
   "name": "python3"
  },
  "language_info": {
   "codemirror_mode": {
    "name": "ipython",
    "version": 3
   },
   "file_extension": ".py",
   "mimetype": "text/x-python",
   "name": "python",
   "nbconvert_exporter": "python",
   "pygments_lexer": "ipython3",
   "version": "3.7.4"
  }
 },
 "nbformat": 4,
 "nbformat_minor": 2
}
